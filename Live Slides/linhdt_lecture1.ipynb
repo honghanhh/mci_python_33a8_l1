{
 "cells": [
  {
   "cell_type": "code",
   "execution_count": 1,
   "id": "4dad4a4f-2523-456a-8f9f-6a6b335312e6",
   "metadata": {},
   "outputs": [
    {
     "data": {
      "text/plain": [
       "2"
      ]
     },
     "execution_count": 1,
     "metadata": {},
     "output_type": "execute_result"
    }
   ],
   "source": [
    "1+1"
   ]
  },
  {
   "cell_type": "markdown",
   "id": "0c7961b1-e790-4397-8d19-1b1e44d937fc",
   "metadata": {},
   "source": [
    "print(\"Hello world\")"
   ]
  },
  {
   "cell_type": "markdown",
   "id": "40ce7ddf-cf2c-4ce3-9c8e-ac178ee07dee",
   "metadata": {},
   "source": [
    "2 types:\n",
    "    Cell code\n",
    "    Cell markdown\n",
    "Shortcuts:\n",
    "    Run:Shift+Enter(window)\n",
    "    Chuyển cell code sang cell markdow, Convert cell code to cell markdown: Esc + m\n",
    "    Covert cell markdown to cell code : Esc + y"
   ]
  },
  {
   "cell_type": "code",
   "execution_count": 2,
   "id": "a79c7282-f448-47e4-a5b8-4f11e932b6c9",
   "metadata": {},
   "outputs": [],
   "source": [
    "import numpy as n"
   ]
  },
  {
   "cell_type": "code",
   "execution_count": null,
   "id": "6f983524-c563-4901-911b-e25e3c0102dc",
   "metadata": {},
   "outputs": [],
   "source": [
    "import panda"
   ]
  }
 ],
 "metadata": {
  "kernelspec": {
   "display_name": "Python 3 (ipykernel)",
   "language": "python",
   "name": "python3"
  },
  "language_info": {
   "codemirror_mode": {
    "name": "ipython",
    "version": 3
   },
   "file_extension": ".py",
   "mimetype": "text/x-python",
   "name": "python",
   "nbconvert_exporter": "python",
   "pygments_lexer": "ipython3",
   "version": "3.8.10"
  }
 },
 "nbformat": 4,
 "nbformat_minor": 5
}
