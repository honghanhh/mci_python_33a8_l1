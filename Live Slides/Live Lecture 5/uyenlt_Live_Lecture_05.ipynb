{
 "cells": [
  {
   "cell_type": "markdown",
   "id": "3433a74e-10a1-413e-8c45-2df63e2275ab",
   "metadata": {},
   "source": [
    "![](https://upload.wikimedia.org/wikipedia/commons/thumb/e/ed/Pandas_logo.svg/1200px-Pandas_logo.svg.png)"
   ]
  },
  {
   "cell_type": "markdown",
   "id": "1b2780d7-904c-4377-9f96-5e33eb134746",
   "metadata": {},
   "source": [
    "# <center> LESSON 5: Introduction to PANDAS </center>"
   ]
  },
  {
   "cell_type": "markdown",
   "id": "93a6f13e-cf5e-4412-ad72-9ac2737d2090",
   "metadata": {},
   "source": [
    "## 1. INTRODUCTION"
   ]
  },
  {
   "cell_type": "markdown",
   "id": "4c499fb2-7908-44af-9d51-b40e2d54d631",
   "metadata": {},
   "source": [
    "### 1.1 What is Pandas? "
   ]
  },
  {
   "cell_type": "markdown",
   "id": "d1155898-1e77-4f1b-9b6a-720e1c7f8fb8",
   "metadata": {},
   "source": [
    "`Pandas = Panel Data`"
   ]
  },
  {
   "cell_type": "markdown",
   "id": "75ec124d-8e97-418f-92a3-656b4385e2f6",
   "metadata": {},
   "source": [
    "### 1.2 Installation"
   ]
  },
  {
   "cell_type": "markdown",
   "id": "f1c49788-640d-44a1-bfff-6d441ade1456",
   "metadata": {},
   "source": [
    "- Cài đặt khi tạo môi trường ảo:\n",
    "```\n",
    "conda create -n hanh python=3.7 pandas\n",
    "```\n",
    "- Cài đặt sau khi tạo xong môi trường ảo:\n",
    "```\n",
    "conda install pandas\n",
    "```\n",
    "hoặc \n",
    "```\n",
    "pip install pandas\n",
    "```"
   ]
  },
  {
   "cell_type": "markdown",
   "id": "013e0483-a704-4b23-b0f6-970e22d7769f",
   "metadata": {},
   "source": [
    "### 1.3 Import "
   ]
  },
  {
   "cell_type": "code",
   "execution_count": null,
   "id": "4d831a00-9511-40fd-a2c1-fe96543a7783",
   "metadata": {},
   "outputs": [],
   "source": []
  },
  {
   "cell_type": "markdown",
   "id": "ff38d2d7-d982-42da-a114-ca6aaa3dcc84",
   "metadata": {},
   "source": [
    "**Reference**: \n",
    "- [Pandas Cheatsheet](https://pandas.pydata.org/Pandas_Cheat_Sheet.pdf)\n",
    "- [Python for Data Analysis](https://bedford-computing.co.uk/learning/wp-content/uploads/2015/10/Python-for-Data-Analysis.pdf)"
   ]
  },
  {
   "cell_type": "markdown",
   "id": "d9ee5f6d-f0e7-48f1-9c5d-00fcb8442427",
   "metadata": {},
   "source": [
    "## 2. BASICS"
   ]
  },
  {
   "cell_type": "markdown",
   "id": "0384b8f4-76a7-4cfb-8d71-856ddb97c644",
   "metadata": {},
   "source": [
    "### 2.1 Objects in Pandas"
   ]
  },
  {
   "cell_type": "markdown",
   "id": "f04ad9f8-6539-4e25-8cff-f354a6cbfbe9",
   "metadata": {},
   "source": [
    "- **DataFrame**: table, `pd.DataFrame()`\n",
    "- **Series**: column, `pd.Series()`"
   ]
  },
  {
   "cell_type": "markdown",
   "id": "b54c3aec-abe8-4445-800c-37d97028a50b",
   "metadata": {},
   "source": [
    "![](https://media.geeksforgeeks.org/wp-content/cdn-uploads/creating_dataframe1.png)\n",
    "![](https://analyticssavvy.com/wp-content/uploads/2020/05/series-and-dataframe.png)\n"
   ]
  },
  {
   "cell_type": "markdown",
   "id": "2971cd98-00c2-40ad-a0a5-e15cae5526a9",
   "metadata": {},
   "source": [
    "#### 2.1.1 How to create a DataFrame"
   ]
  },
  {
   "cell_type": "markdown",
   "id": "d1851a83-e75e-4642-89b5-8e85c68087eb",
   "metadata": {},
   "source": [
    "1. Tạo ra 1 DataFrame rỗng"
   ]
  },
  {
   "cell_type": "code",
   "execution_count": null,
   "id": "f505ec71-c1c6-492a-915b-6c9df88d926a",
   "metadata": {},
   "outputs": [],
   "source": []
  },
  {
   "cell_type": "markdown",
   "id": "1147a47e-45c2-4b34-bfd4-584aacea90e0",
   "metadata": {},
   "source": [
    "2. Tạo ra 1 DataFrame từ dict"
   ]
  },
  {
   "cell_type": "code",
   "execution_count": null,
   "id": "6b7e1797-5077-40f5-859a-ede385dd962e",
   "metadata": {
    "tags": []
   },
   "outputs": [],
   "source": []
  },
  {
   "cell_type": "markdown",
   "id": "9de7a33b-887a-4d9e-b4f0-6a96c805df3a",
   "metadata": {},
   "source": [
    "3. Tạo ra 1 DataFrame từ list của list"
   ]
  },
  {
   "cell_type": "code",
   "execution_count": null,
   "id": "66867371-1cf4-4a62-a32e-5ebcce60ed08",
   "metadata": {
    "tags": []
   },
   "outputs": [],
   "source": []
  },
  {
   "cell_type": "markdown",
   "id": "22b73c84-5abf-41e5-af03-ba9624f8d86d",
   "metadata": {},
   "source": [
    "4. Tạo ra 1 DataFrame từ zip"
   ]
  },
  {
   "cell_type": "code",
   "execution_count": null,
   "id": "ea346bb3-ffd4-44e2-924b-565ff6cfdefd",
   "metadata": {
    "tags": []
   },
   "outputs": [],
   "source": []
  },
  {
   "cell_type": "markdown",
   "id": "7d32859a-8ba8-4ab8-9041-f97c3a3dea65",
   "metadata": {},
   "source": [
    "5. Tạo từ 1 chuỗi numpy"
   ]
  },
  {
   "cell_type": "code",
   "execution_count": null,
   "id": "ed32c789-a673-437d-b597-b788f069cc43",
   "metadata": {
    "tags": []
   },
   "outputs": [],
   "source": []
  },
  {
   "cell_type": "markdown",
   "id": "d83e0c15-c9ee-4600-a59b-d5eb3971c4a9",
   "metadata": {},
   "source": [
    "#### 2.1.2 How to create a Series"
   ]
  },
  {
   "cell_type": "code",
   "execution_count": null,
   "id": "3063331f-0808-4e6d-9885-ab7f557b953c",
   "metadata": {
    "tags": []
   },
   "outputs": [],
   "source": []
  },
  {
   "cell_type": "markdown",
   "id": "2e07c080-19e8-4354-919f-26967a5f2ae7",
   "metadata": {},
   "source": [
    "### 2.2 I/O\n",
    "\n",
    "Link: https://archive.ics.uci.edu/ml/machine-learning-databases/iris/iris.data"
   ]
  },
  {
   "cell_type": "code",
   "execution_count": null,
   "id": "1f62da35-7a26-47b5-8674-e88f4eb0799d",
   "metadata": {},
   "outputs": [],
   "source": []
  },
  {
   "cell_type": "markdown",
   "id": "590304d5-ccd4-43a2-9b69-a845243c5529",
   "metadata": {},
   "source": [
    "### 2.3 Indexing"
   ]
  },
  {
   "cell_type": "markdown",
   "id": "ebec19be-f26e-4997-a409-5a3e83fb0a42",
   "metadata": {},
   "source": [
    "Chọn tất cả các dòng (slicing):\n",
    "- `loc`: location `df.loc[row_label,col_label]`, `series.loc[row_label]`\n",
    "- `iloc`: index location `df.iloc[row_index,col_index]`, `series.iloc[row_index]`\n",
    "\n",
    "Chọn 1 cell:\n",
    "- `at`:  `df.at[row_label,col_label]`\n",
    "- `iat`: `df.iat[row_index,col_index]`"
   ]
  },
  {
   "cell_type": "code",
   "execution_count": null,
   "id": "a72e9b94-2275-487a-98e0-c24f70d8c36b",
   "metadata": {
    "tags": []
   },
   "outputs": [],
   "source": []
  },
  {
   "cell_type": "markdown",
   "id": "3a816f2a-e442-4e32-ab8d-c8a54821fd52",
   "metadata": {},
   "source": [
    "### 2.4 Masking"
   ]
  },
  {
   "cell_type": "code",
   "execution_count": null,
   "id": "1474fb88-a203-4715-8037-079a70085210",
   "metadata": {
    "tags": []
   },
   "outputs": [],
   "source": []
  },
  {
   "cell_type": "markdown",
   "id": "737fa923-7127-4b45-8997-a0d8cb7caad7",
   "metadata": {},
   "source": [
    "### 2.5 Operations"
   ]
  },
  {
   "cell_type": "markdown",
   "id": "3dcc97e4-ae76-48b6-bd12-55e760e72082",
   "metadata": {},
   "source": [
    "#### 2.5.1 Groupby"
   ]
  },
  {
   "cell_type": "markdown",
   "id": "054df57e-4659-43dc-8e99-ce77227a7658",
   "metadata": {},
   "source": [
    "![](https://blog.dask.org/images/split-apply-combine.png)"
   ]
  },
  {
   "cell_type": "code",
   "execution_count": null,
   "id": "9d2393a7-206b-4374-9daf-846040962a03",
   "metadata": {
    "tags": []
   },
   "outputs": [],
   "source": []
  },
  {
   "cell_type": "markdown",
   "id": "cf202ba9-1e0c-4e5c-ba20-2d427e7ce20e",
   "metadata": {},
   "source": [
    "#### 2.5.2 Pivot"
   ]
  },
  {
   "cell_type": "code",
   "execution_count": null,
   "id": "03ffd5ab-7189-4463-9f24-a35a11b5de41",
   "metadata": {
    "tags": []
   },
   "outputs": [],
   "source": []
  },
  {
   "cell_type": "markdown",
   "id": "2a338498-127a-45b0-8ed5-6daa1aaef5c8",
   "metadata": {},
   "source": [
    "#### 2.5.3 Others"
   ]
  },
  {
   "cell_type": "markdown",
   "id": "cac1166f-ef96-41e9-958a-ae3d0b3c6aaa",
   "metadata": {},
   "source": [
    "|Merge methods| SQL Join Name | Meaning| _merge|\n",
    "|-|-|-|-|\n",
    "|left| LEFT OUTER JOIN|Chỉ sử dụng keys bên trái|left_only|\n",
    "|right| RIGHT OUTER JOIN|Chỉ sử dụng keys bên phải|right_only|\n",
    "|outer|FULL OUTER JOIN|Sử dụng keys của cả 2 dataframes|both|\n",
    "|inner|INNER JOIN|Chỉ sử dụng keys giao nhau của 2 dataframes|both|"
   ]
  },
  {
   "cell_type": "markdown",
   "id": "dd24cd7b-fde3-43c9-b9a4-bc8a0e874830",
   "metadata": {},
   "source": [
    "![](https://lh3.googleusercontent.com/-n76c6dtr5sw/YBO5d-3PzGI/AAAAAAAAAh8/xiT6YIzePLEXArb8uU1f1vgg8JRXYeg8ACLcBGAsYHQ/image.png) "
   ]
  },
  {
   "cell_type": "code",
   "execution_count": null,
   "id": "67b1ec1e-1d91-4598-8e3c-e39f2a12fc89",
   "metadata": {
    "tags": []
   },
   "outputs": [],
   "source": []
  }
 ],
 "metadata": {
  "kernelspec": {
   "display_name": "Python 3 (ipykernel)",
   "language": "python",
   "name": "python3"
  },
  "language_info": {
   "codemirror_mode": {
    "name": "ipython",
    "version": 3
   },
   "file_extension": ".py",
   "mimetype": "text/x-python",
   "name": "python",
   "nbconvert_exporter": "python",
   "pygments_lexer": "ipython3",
   "version": "3.7.11"
  }
 },
 "nbformat": 4,
 "nbformat_minor": 5
}
