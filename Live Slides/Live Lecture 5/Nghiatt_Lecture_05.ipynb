{
 "cells": [
  {
   "cell_type": "markdown",
   "id": "3433a74e-10a1-413e-8c45-2df63e2275ab",
   "metadata": {},
   "source": [
    "![](https://upload.wikimedia.org/wikipedia/commons/thumb/e/ed/Pandas_logo.svg/1200px-Pandas_logo.svg.png)"
   ]
  },
  {
   "cell_type": "markdown",
   "id": "1b2780d7-904c-4377-9f96-5e33eb134746",
   "metadata": {},
   "source": [
    "# <center> LESSON 5: Introduction to PANDAS </center>"
   ]
  },
  {
   "cell_type": "markdown",
   "id": "93a6f13e-cf5e-4412-ad72-9ac2737d2090",
   "metadata": {},
   "source": [
    "## 1. INTRODUCTION"
   ]
  },
  {
   "cell_type": "markdown",
   "id": "4c499fb2-7908-44af-9d51-b40e2d54d631",
   "metadata": {},
   "source": [
    "### 1.1 What is Pandas? "
   ]
  },
  {
   "cell_type": "markdown",
   "id": "d1155898-1e77-4f1b-9b6a-720e1c7f8fb8",
   "metadata": {},
   "source": [
    "`Pandas = Panel Data`"
   ]
  },
  {
   "cell_type": "markdown",
   "id": "75ec124d-8e97-418f-92a3-656b4385e2f6",
   "metadata": {},
   "source": [
    "### 1.2 Installation"
   ]
  },
  {
   "cell_type": "markdown",
   "id": "f1c49788-640d-44a1-bfff-6d441ade1456",
   "metadata": {},
   "source": [
    "- Cài đặt khi tạo môi trường ảo:\n",
    "```\n",
    "conda create -n hanh python=3.7 pandas\n",
    "```\n",
    "- Cài đặt sau khi tạo xong môi trường ảo:\n",
    "```\n",
    "conda install pandas\n",
    "```\n",
    "hoặc \n",
    "```\n",
    "pip install pandas\n",
    "```"
   ]
  },
  {
   "cell_type": "markdown",
   "id": "013e0483-a704-4b23-b0f6-970e22d7769f",
   "metadata": {},
   "source": [
    "### 1.3 Import "
   ]
  },
  {
   "cell_type": "code",
   "execution_count": 2,
   "id": "4d831a00-9511-40fd-a2c1-fe96543a7783",
   "metadata": {},
   "outputs": [],
   "source": [
    "import pandas as pd"
   ]
  },
  {
   "cell_type": "markdown",
   "id": "ff38d2d7-d982-42da-a114-ca6aaa3dcc84",
   "metadata": {},
   "source": [
    "**Reference**: \n",
    "- [Pandas Cheatsheet](https://pandas.pydata.org/Pandas_Cheat_Sheet.pdf)\n",
    "- [Python for Data Analysis](https://bedford-computing.co.uk/learning/wp-content/uploads/2015/10/Python-for-Data-Analysis.pdf)"
   ]
  },
  {
   "cell_type": "markdown",
   "id": "d9ee5f6d-f0e7-48f1-9c5d-00fcb8442427",
   "metadata": {},
   "source": [
    "## 2. BASICS"
   ]
  },
  {
   "cell_type": "markdown",
   "id": "0384b8f4-76a7-4cfb-8d71-856ddb97c644",
   "metadata": {},
   "source": [
    "### 2.1 Objects in Pandas"
   ]
  },
  {
   "cell_type": "markdown",
   "id": "f04ad9f8-6539-4e25-8cff-f354a6cbfbe9",
   "metadata": {},
   "source": [
    "- **DataFrame**: table, `pd.DataFrame()`\n",
    "- **Series**: column, `pd.Series()`"
   ]
  },
  {
   "cell_type": "markdown",
   "id": "b54c3aec-abe8-4445-800c-37d97028a50b",
   "metadata": {},
   "source": [
    "![](https://media.geeksforgeeks.org/wp-content/cdn-uploads/creating_dataframe1.png)\n",
    "![](https://analyticssavvy.com/wp-content/uploads/2020/05/series-and-dataframe.png)\n"
   ]
  },
  {
   "cell_type": "code",
   "execution_count": null,
   "id": "896cf8aa-4e1b-41ff-ab0e-46a6bd5ea863",
   "metadata": {},
   "outputs": [],
   "source": []
  },
  {
   "cell_type": "code",
   "execution_count": null,
   "id": "feefc8b8-bb35-4d90-8e34-a658b702b015",
   "metadata": {},
   "outputs": [],
   "source": []
  },
  {
   "cell_type": "markdown",
   "id": "2971cd98-00c2-40ad-a0a5-e15cae5526a9",
   "metadata": {},
   "source": [
    "#### 2.1.1 How to create a DataFrame"
   ]
  },
  {
   "cell_type": "markdown",
   "id": "d1851a83-e75e-4642-89b5-8e85c68087eb",
   "metadata": {},
   "source": [
    "1. Tạo ra 1 DataFrame rỗng"
   ]
  },
  {
   "cell_type": "code",
   "execution_count": 4,
   "id": "f505ec71-c1c6-492a-915b-6c9df88d926a",
   "metadata": {},
   "outputs": [
    {
     "data": {
      "text/html": [
       "<div>\n",
       "<style scoped>\n",
       "    .dataframe tbody tr th:only-of-type {\n",
       "        vertical-align: middle;\n",
       "    }\n",
       "\n",
       "    .dataframe tbody tr th {\n",
       "        vertical-align: top;\n",
       "    }\n",
       "\n",
       "    .dataframe thead th {\n",
       "        text-align: right;\n",
       "    }\n",
       "</style>\n",
       "<table border=\"1\" class=\"dataframe\">\n",
       "  <thead>\n",
       "    <tr style=\"text-align: right;\">\n",
       "      <th></th>\n",
       "    </tr>\n",
       "  </thead>\n",
       "  <tbody>\n",
       "  </tbody>\n",
       "</table>\n",
       "</div>"
      ],
      "text/plain": [
       "Empty DataFrame\n",
       "Columns: []\n",
       "Index: []"
      ]
     },
     "execution_count": 4,
     "metadata": {},
     "output_type": "execute_result"
    }
   ],
   "source": [
    "df = pd.DataFrame()\n",
    "df"
   ]
  },
  {
   "cell_type": "code",
   "execution_count": 5,
   "id": "a810cc9f-3b07-4079-898a-63587e6dfc26",
   "metadata": {},
   "outputs": [
    {
     "data": {
      "text/plain": [
       "pandas.core.frame.DataFrame"
      ]
     },
     "execution_count": 5,
     "metadata": {},
     "output_type": "execute_result"
    }
   ],
   "source": [
    "type(df)\n"
   ]
  },
  {
   "cell_type": "markdown",
   "id": "1147a47e-45c2-4b34-bfd4-584aacea90e0",
   "metadata": {},
   "source": [
    "2. Tạo ra 1 DataFrame từ dict"
   ]
  },
  {
   "cell_type": "code",
   "execution_count": 8,
   "id": "6b7e1797-5077-40f5-859a-ede385dd962e",
   "metadata": {
    "tags": []
   },
   "outputs": [
    {
     "data": {
      "text/html": [
       "<div>\n",
       "<style scoped>\n",
       "    .dataframe tbody tr th:only-of-type {\n",
       "        vertical-align: middle;\n",
       "    }\n",
       "\n",
       "    .dataframe tbody tr th {\n",
       "        vertical-align: top;\n",
       "    }\n",
       "\n",
       "    .dataframe thead th {\n",
       "        text-align: right;\n",
       "    }\n",
       "</style>\n",
       "<table border=\"1\" class=\"dataframe\">\n",
       "  <thead>\n",
       "    <tr style=\"text-align: right;\">\n",
       "      <th></th>\n",
       "      <th>name</th>\n",
       "      <th>age</th>\n",
       "      <th>university</th>\n",
       "    </tr>\n",
       "  </thead>\n",
       "  <tbody>\n",
       "    <tr>\n",
       "      <th>0</th>\n",
       "      <td>Cuong</td>\n",
       "      <td>10</td>\n",
       "      <td>MIT</td>\n",
       "    </tr>\n",
       "    <tr>\n",
       "      <th>1</th>\n",
       "      <td>Mai</td>\n",
       "      <td>15</td>\n",
       "      <td>HAV</td>\n",
       "    </tr>\n",
       "    <tr>\n",
       "      <th>2</th>\n",
       "      <td>Pha</td>\n",
       "      <td>13</td>\n",
       "      <td>FTU</td>\n",
       "    </tr>\n",
       "    <tr>\n",
       "      <th>3</th>\n",
       "      <td>Nghia</td>\n",
       "      <td>21</td>\n",
       "      <td>NEU</td>\n",
       "    </tr>\n",
       "  </tbody>\n",
       "</table>\n",
       "</div>"
      ],
      "text/plain": [
       "    name  age university\n",
       "0  Cuong   10        MIT\n",
       "1    Mai   15        HAV\n",
       "2    Pha   13        FTU\n",
       "3  Nghia   21        NEU"
      ]
     },
     "execution_count": 8,
     "metadata": {},
     "output_type": "execute_result"
    }
   ],
   "source": [
    "dict1 = {'name':['Cuong','Mai','Pha','Nghia'],\n",
    "         'age':[10,15,13,21],\n",
    "         'university':['MIT','HAV','FTU','NEU']}\n",
    "df1 = pd.DataFrame(dict1)\n",
    "df1"
   ]
  },
  {
   "cell_type": "code",
   "execution_count": 9,
   "id": "a7564bb3-fbcd-417f-802e-f6084d457e6f",
   "metadata": {},
   "outputs": [
    {
     "data": {
      "text/html": [
       "<div>\n",
       "<style scoped>\n",
       "    .dataframe tbody tr th:only-of-type {\n",
       "        vertical-align: middle;\n",
       "    }\n",
       "\n",
       "    .dataframe tbody tr th {\n",
       "        vertical-align: top;\n",
       "    }\n",
       "\n",
       "    .dataframe thead th {\n",
       "        text-align: right;\n",
       "    }\n",
       "</style>\n",
       "<table border=\"1\" class=\"dataframe\">\n",
       "  <thead>\n",
       "    <tr style=\"text-align: right;\">\n",
       "      <th></th>\n",
       "      <th>name</th>\n",
       "      <th>age</th>\n",
       "      <th>university</th>\n",
       "    </tr>\n",
       "  </thead>\n",
       "  <tbody>\n",
       "    <tr>\n",
       "      <th>studen1</th>\n",
       "      <td>Cuong</td>\n",
       "      <td>10</td>\n",
       "      <td>MIT</td>\n",
       "    </tr>\n",
       "    <tr>\n",
       "      <th>studen2</th>\n",
       "      <td>Mai</td>\n",
       "      <td>15</td>\n",
       "      <td>HAV</td>\n",
       "    </tr>\n",
       "    <tr>\n",
       "      <th>studen3</th>\n",
       "      <td>Pha</td>\n",
       "      <td>13</td>\n",
       "      <td>FTU</td>\n",
       "    </tr>\n",
       "    <tr>\n",
       "      <th>studen4</th>\n",
       "      <td>Nghia</td>\n",
       "      <td>21</td>\n",
       "      <td>NEU</td>\n",
       "    </tr>\n",
       "  </tbody>\n",
       "</table>\n",
       "</div>"
      ],
      "text/plain": [
       "          name  age university\n",
       "studen1  Cuong   10        MIT\n",
       "studen2    Mai   15        HAV\n",
       "studen3    Pha   13        FTU\n",
       "studen4  Nghia   21        NEU"
      ]
     },
     "execution_count": 9,
     "metadata": {},
     "output_type": "execute_result"
    }
   ],
   "source": [
    "df1 = pd.DataFrame(dict1, index = ['studen1','studen2','studen3','studen4']) = df1 = pd.DataFrame(dict1, index = [f'studen{i}'for i in range(1,5)]) # f là để ép biến i vào trong bảng\n",
    "df1"
   ]
  },
  {
   "cell_type": "markdown",
   "id": "9de7a33b-887a-4d9e-b4f0-6a96c805df3a",
   "metadata": {},
   "source": [
    "3. Tạo ra 1 DataFrame từ list của list"
   ]
  },
  {
   "cell_type": "code",
   "execution_count": 12,
   "id": "66867371-1cf4-4a62-a32e-5ebcce60ed08",
   "metadata": {
    "tags": []
   },
   "outputs": [
    {
     "data": {
      "text/html": [
       "<div>\n",
       "<style scoped>\n",
       "    .dataframe tbody tr th:only-of-type {\n",
       "        vertical-align: middle;\n",
       "    }\n",
       "\n",
       "    .dataframe tbody tr th {\n",
       "        vertical-align: top;\n",
       "    }\n",
       "\n",
       "    .dataframe thead th {\n",
       "        text-align: right;\n",
       "    }\n",
       "</style>\n",
       "<table border=\"1\" class=\"dataframe\">\n",
       "  <thead>\n",
       "    <tr style=\"text-align: right;\">\n",
       "      <th></th>\n",
       "      <th>name</th>\n",
       "      <th>age</th>\n",
       "      <th>university</th>\n",
       "    </tr>\n",
       "  </thead>\n",
       "  <tbody>\n",
       "    <tr>\n",
       "      <th>0</th>\n",
       "      <td>Cuong</td>\n",
       "      <td>10</td>\n",
       "      <td>MIT</td>\n",
       "    </tr>\n",
       "    <tr>\n",
       "      <th>1</th>\n",
       "      <td>Mai</td>\n",
       "      <td>12</td>\n",
       "      <td>HAV</td>\n",
       "    </tr>\n",
       "    <tr>\n",
       "      <th>2</th>\n",
       "      <td>Nghia</td>\n",
       "      <td>21</td>\n",
       "      <td>NEU</td>\n",
       "    </tr>\n",
       "  </tbody>\n",
       "</table>\n",
       "</div>"
      ],
      "text/plain": [
       "    name  age university\n",
       "0  Cuong   10        MIT\n",
       "1    Mai   12        HAV\n",
       "2  Nghia   21        NEU"
      ]
     },
     "execution_count": 12,
     "metadata": {},
     "output_type": "execute_result"
    }
   ],
   "source": [
    "li=(['Cuong',10,'MIT'],['Mai',12,'HAV'],['Nghia',21,'NEU'])\n",
    "df2 = pd.DataFrame(li, columns = ['name', 'age','university'])\n",
    "df2"
   ]
  },
  {
   "cell_type": "markdown",
   "id": "22b73c84-5abf-41e5-af03-ba9624f8d86d",
   "metadata": {},
   "source": [
    "4. Tạo ra 1 DataFrame từ zip"
   ]
  },
  {
   "cell_type": "code",
   "execution_count": 16,
   "id": "ea346bb3-ffd4-44e2-924b-565ff6cfdefd",
   "metadata": {
    "tags": []
   },
   "outputs": [
    {
     "data": {
      "text/html": [
       "<div>\n",
       "<style scoped>\n",
       "    .dataframe tbody tr th:only-of-type {\n",
       "        vertical-align: middle;\n",
       "    }\n",
       "\n",
       "    .dataframe tbody tr th {\n",
       "        vertical-align: top;\n",
       "    }\n",
       "\n",
       "    .dataframe thead th {\n",
       "        text-align: right;\n",
       "    }\n",
       "</style>\n",
       "<table border=\"1\" class=\"dataframe\">\n",
       "  <thead>\n",
       "    <tr style=\"text-align: right;\">\n",
       "      <th></th>\n",
       "      <th>name</th>\n",
       "      <th>age</th>\n",
       "      <th>university</th>\n",
       "    </tr>\n",
       "  </thead>\n",
       "  <tbody>\n",
       "    <tr>\n",
       "      <th>0</th>\n",
       "      <td>Cuong</td>\n",
       "      <td>10</td>\n",
       "      <td>MIT</td>\n",
       "    </tr>\n",
       "    <tr>\n",
       "      <th>1</th>\n",
       "      <td>Mai</td>\n",
       "      <td>15</td>\n",
       "      <td>HAV</td>\n",
       "    </tr>\n",
       "    <tr>\n",
       "      <th>2</th>\n",
       "      <td>Pha</td>\n",
       "      <td>13</td>\n",
       "      <td>FTU</td>\n",
       "    </tr>\n",
       "    <tr>\n",
       "      <th>3</th>\n",
       "      <td>Nghia</td>\n",
       "      <td>21</td>\n",
       "      <td>NEU</td>\n",
       "    </tr>\n",
       "  </tbody>\n",
       "</table>\n",
       "</div>"
      ],
      "text/plain": [
       "    name  age university\n",
       "0  Cuong   10        MIT\n",
       "1    Mai   15        HAV\n",
       "2    Pha   13        FTU\n",
       "3  Nghia   21        NEU"
      ]
     },
     "execution_count": 16,
     "metadata": {},
     "output_type": "execute_result"
    }
   ],
   "source": [
    "name= ['Cuong','Mai','Pha','Nghia']\n",
    "age = [10,15,13,21]\n",
    "university = ['MIT','HAV','FTU','NEU']\n",
    "df3 = pd.DataFrame(list(zip(name,age,university)),  columns = ['name', 'age','university'])\n",
    "df3"
   ]
  },
  {
   "cell_type": "markdown",
   "id": "7d32859a-8ba8-4ab8-9041-f97c3a3dea65",
   "metadata": {},
   "source": [
    "5. Tạo từ 1 chuỗi numpy"
   ]
  },
  {
   "cell_type": "code",
   "execution_count": 21,
   "id": "ed32c789-a673-437d-b597-b788f069cc43",
   "metadata": {
    "tags": []
   },
   "outputs": [
    {
     "data": {
      "text/html": [
       "<div>\n",
       "<style scoped>\n",
       "    .dataframe tbody tr th:only-of-type {\n",
       "        vertical-align: middle;\n",
       "    }\n",
       "\n",
       "    .dataframe tbody tr th {\n",
       "        vertical-align: top;\n",
       "    }\n",
       "\n",
       "    .dataframe thead th {\n",
       "        text-align: right;\n",
       "    }\n",
       "</style>\n",
       "<table border=\"1\" class=\"dataframe\">\n",
       "  <thead>\n",
       "    <tr style=\"text-align: right;\">\n",
       "      <th></th>\n",
       "      <th>0</th>\n",
       "      <th>1</th>\n",
       "      <th>2</th>\n",
       "      <th>3</th>\n",
       "    </tr>\n",
       "  </thead>\n",
       "  <tbody>\n",
       "    <tr>\n",
       "      <th>0</th>\n",
       "      <td>1.0</td>\n",
       "      <td>2.0</td>\n",
       "      <td>3.0</td>\n",
       "      <td>4.0</td>\n",
       "    </tr>\n",
       "    <tr>\n",
       "      <th>1</th>\n",
       "      <td>5.0</td>\n",
       "      <td>6.0</td>\n",
       "      <td>7.0</td>\n",
       "      <td>8.0</td>\n",
       "    </tr>\n",
       "    <tr>\n",
       "      <th>2</th>\n",
       "      <td>9.0</td>\n",
       "      <td>10.0</td>\n",
       "      <td>11.0</td>\n",
       "      <td>12.0</td>\n",
       "    </tr>\n",
       "    <tr>\n",
       "      <th>3</th>\n",
       "      <td>13.0</td>\n",
       "      <td>14.0</td>\n",
       "      <td>15.0</td>\n",
       "      <td>16.0</td>\n",
       "    </tr>\n",
       "  </tbody>\n",
       "</table>\n",
       "</div>"
      ],
      "text/plain": [
       "      0     1     2     3\n",
       "0   1.0   2.0   3.0   4.0\n",
       "1   5.0   6.0   7.0   8.0\n",
       "2   9.0  10.0  11.0  12.0\n",
       "3  13.0  14.0  15.0  16.0"
      ]
     },
     "execution_count": 21,
     "metadata": {},
     "output_type": "execute_result"
    }
   ],
   "source": [
    "import numpy as np\n",
    "df4 = pd.DataFrame(np.linspace(1,16,16).reshape(4,4))\n",
    "df4"
   ]
  },
  {
   "cell_type": "markdown",
   "id": "d83e0c15-c9ee-4600-a59b-d5eb3971c4a9",
   "metadata": {},
   "source": [
    "#### 2.1.2 How to create a Series"
   ]
  },
  {
   "cell_type": "code",
   "execution_count": 26,
   "id": "3063331f-0808-4e6d-9885-ab7f557b953c",
   "metadata": {
    "tags": []
   },
   "outputs": [
    {
     "data": {
      "text/plain": [
       "nam    [Cuong, Nghia, Mai]\n",
       "dtype: object"
      ]
     },
     "execution_count": 26,
     "metadata": {},
     "output_type": "execute_result"
    }
   ],
   "source": [
    "pd.Series({'name':['Cuong','Nghia','Mai']})"
   ]
  },
  {
   "cell_type": "code",
   "execution_count": 27,
   "id": "fc0dd297-b43c-4403-8596-c856610e719f",
   "metadata": {},
   "outputs": [
    {
     "data": {
      "text/plain": [
       "0    Cuong\n",
       "1      Mai\n",
       "2    Nghia\n",
       "Name: name, dtype: object"
      ]
     },
     "execution_count": 27,
     "metadata": {},
     "output_type": "execute_result"
    }
   ],
   "source": [
    "df2['name']\n",
    "#tra ve nhiều cột\n",
    "#Làm việc với các biến có dấu cách hay hoặc dấu câu"
   ]
  },
  {
   "cell_type": "code",
   "execution_count": 28,
   "id": "9da8e56f-0a47-4568-968a-b5b033a305b9",
   "metadata": {},
   "outputs": [
    {
     "data": {
      "text/plain": [
       "0    Cuong\n",
       "1      Mai\n",
       "2    Nghia\n",
       "Name: name, dtype: object"
      ]
     },
     "execution_count": 28,
     "metadata": {},
     "output_type": "execute_result"
    }
   ],
   "source": [
    "df2.name\n",
    "#trả về một cốt"
   ]
  },
  {
   "cell_type": "markdown",
   "id": "2e07c080-19e8-4354-919f-26967a5f2ae7",
   "metadata": {
    "tags": []
   },
   "source": [
    "### 2.2 I/O\n",
    "\n",
    "Link: https://archive.ics.uci.edu/ml/machine-learning-databases/iris/iris.data"
   ]
  },
  {
   "cell_type": "markdown",
   "id": "df768280-12a9-4370-a97e-63f86b09b4a5",
   "metadata": {},
   "source": [
    "pd.read_{ten_kieu_file}:pd.read_csv(),pd.read_excel(), pd.read_sql()\n",
    "\n",
    "pd.to_{ten_kieu_file}: pd.to_csv(),... (lưu)\n"
   ]
  },
  {
   "cell_type": "code",
   "execution_count": 1,
   "id": "0cec0a51-b8a2-45cc-81f0-002dbe1d8515",
   "metadata": {},
   "outputs": [
    {
     "data": {
      "text/html": [
       "<div>\n",
       "<style scoped>\n",
       "    .dataframe tbody tr th:only-of-type {\n",
       "        vertical-align: middle;\n",
       "    }\n",
       "\n",
       "    .dataframe tbody tr th {\n",
       "        vertical-align: top;\n",
       "    }\n",
       "\n",
       "    .dataframe thead th {\n",
       "        text-align: right;\n",
       "    }\n",
       "</style>\n",
       "<table border=\"1\" class=\"dataframe\">\n",
       "  <thead>\n",
       "    <tr style=\"text-align: right;\">\n",
       "      <th></th>\n",
       "      <th>Address</th>\n",
       "      <th>Lot</th>\n",
       "      <th>AM or PM</th>\n",
       "      <th>Browser Info</th>\n",
       "      <th>Company</th>\n",
       "      <th>Credit Card</th>\n",
       "      <th>CC Exp Date</th>\n",
       "      <th>CC Security Code</th>\n",
       "      <th>CC Provider</th>\n",
       "      <th>Email</th>\n",
       "      <th>Job</th>\n",
       "      <th>IP Address</th>\n",
       "      <th>Language</th>\n",
       "      <th>Purchase Price</th>\n",
       "    </tr>\n",
       "  </thead>\n",
       "  <tbody>\n",
       "    <tr>\n",
       "      <th>0</th>\n",
       "      <td>16629 Pace Camp Apt. 448\\r\\nAlexisborough, NE ...</td>\n",
       "      <td>46 in</td>\n",
       "      <td>PM</td>\n",
       "      <td>Opera/9.56.(X11; Linux x86_64; sl-SI) Presto/2...</td>\n",
       "      <td>Martinez-Herman</td>\n",
       "      <td>6011929061123406</td>\n",
       "      <td>02/20</td>\n",
       "      <td>900</td>\n",
       "      <td>JCB 16 digit</td>\n",
       "      <td>pdunlap@yahoo.com</td>\n",
       "      <td>Scientist, product/process development</td>\n",
       "      <td>149.146.147.205</td>\n",
       "      <td>el</td>\n",
       "      <td>98.14</td>\n",
       "    </tr>\n",
       "    <tr>\n",
       "      <th>1</th>\n",
       "      <td>9374 Jasmine Spurs Suite 508\\r\\nSouth John, TN...</td>\n",
       "      <td>28 rn</td>\n",
       "      <td>PM</td>\n",
       "      <td>Opera/8.93.(Windows 98; Win 9x 4.90; en-US) Pr...</td>\n",
       "      <td>Fletcher, Richards and Whitaker</td>\n",
       "      <td>3337758169645356</td>\n",
       "      <td>11/18</td>\n",
       "      <td>561</td>\n",
       "      <td>Mastercard</td>\n",
       "      <td>anthony41@reed.com</td>\n",
       "      <td>Drilling engineer</td>\n",
       "      <td>15.160.41.51</td>\n",
       "      <td>fr</td>\n",
       "      <td>70.73</td>\n",
       "    </tr>\n",
       "    <tr>\n",
       "      <th>2</th>\n",
       "      <td>Unit 0065 Box 5052\\r\\nDPO AP 27450</td>\n",
       "      <td>94 vE</td>\n",
       "      <td>PM</td>\n",
       "      <td>Mozilla/5.0 (compatible; MSIE 9.0; Windows NT ...</td>\n",
       "      <td>Simpson, Williams and Pham</td>\n",
       "      <td>675957666125</td>\n",
       "      <td>08/19</td>\n",
       "      <td>699</td>\n",
       "      <td>JCB 16 digit</td>\n",
       "      <td>amymiller@morales-harrison.com</td>\n",
       "      <td>Customer service manager</td>\n",
       "      <td>132.207.160.22</td>\n",
       "      <td>de</td>\n",
       "      <td>0.95</td>\n",
       "    </tr>\n",
       "    <tr>\n",
       "      <th>3</th>\n",
       "      <td>7780 Julia Fords\\r\\nNew Stacy, WA 45798</td>\n",
       "      <td>36 vm</td>\n",
       "      <td>PM</td>\n",
       "      <td>Mozilla/5.0 (Macintosh; Intel Mac OS X 10_8_0 ...</td>\n",
       "      <td>Williams, Marshall and Buchanan</td>\n",
       "      <td>6011578504430710</td>\n",
       "      <td>02/24</td>\n",
       "      <td>384</td>\n",
       "      <td>Discover</td>\n",
       "      <td>brent16@olson-robinson.info</td>\n",
       "      <td>Drilling engineer</td>\n",
       "      <td>30.250.74.19</td>\n",
       "      <td>es</td>\n",
       "      <td>78.04</td>\n",
       "    </tr>\n",
       "    <tr>\n",
       "      <th>4</th>\n",
       "      <td>23012 Munoz Drive Suite 337\\r\\nNew Cynthia, TX...</td>\n",
       "      <td>20 IE</td>\n",
       "      <td>AM</td>\n",
       "      <td>Opera/9.58.(X11; Linux x86_64; it-IT) Presto/2...</td>\n",
       "      <td>Brown, Watson and Andrews</td>\n",
       "      <td>6011456623207998</td>\n",
       "      <td>10/25</td>\n",
       "      <td>678</td>\n",
       "      <td>Diners Club / Carte Blanche</td>\n",
       "      <td>christopherwright@gmail.com</td>\n",
       "      <td>Fine artist</td>\n",
       "      <td>24.140.33.94</td>\n",
       "      <td>es</td>\n",
       "      <td>77.82</td>\n",
       "    </tr>\n",
       "  </tbody>\n",
       "</table>\n",
       "</div>"
      ],
      "text/plain": [
       "                                             Address    Lot AM or PM  \\\n",
       "0  16629 Pace Camp Apt. 448\\r\\nAlexisborough, NE ...  46 in       PM   \n",
       "1  9374 Jasmine Spurs Suite 508\\r\\nSouth John, TN...  28 rn       PM   \n",
       "2                 Unit 0065 Box 5052\\r\\nDPO AP 27450  94 vE       PM   \n",
       "3            7780 Julia Fords\\r\\nNew Stacy, WA 45798  36 vm       PM   \n",
       "4  23012 Munoz Drive Suite 337\\r\\nNew Cynthia, TX...  20 IE       AM   \n",
       "\n",
       "                                        Browser Info  \\\n",
       "0  Opera/9.56.(X11; Linux x86_64; sl-SI) Presto/2...   \n",
       "1  Opera/8.93.(Windows 98; Win 9x 4.90; en-US) Pr...   \n",
       "2  Mozilla/5.0 (compatible; MSIE 9.0; Windows NT ...   \n",
       "3  Mozilla/5.0 (Macintosh; Intel Mac OS X 10_8_0 ...   \n",
       "4  Opera/9.58.(X11; Linux x86_64; it-IT) Presto/2...   \n",
       "\n",
       "                           Company       Credit Card CC Exp Date  \\\n",
       "0                  Martinez-Herman  6011929061123406       02/20   \n",
       "1  Fletcher, Richards and Whitaker  3337758169645356       11/18   \n",
       "2       Simpson, Williams and Pham      675957666125       08/19   \n",
       "3  Williams, Marshall and Buchanan  6011578504430710       02/24   \n",
       "4        Brown, Watson and Andrews  6011456623207998       10/25   \n",
       "\n",
       "   CC Security Code                  CC Provider  \\\n",
       "0               900                 JCB 16 digit   \n",
       "1               561                   Mastercard   \n",
       "2               699                 JCB 16 digit   \n",
       "3               384                     Discover   \n",
       "4               678  Diners Club / Carte Blanche   \n",
       "\n",
       "                            Email                                     Job  \\\n",
       "0               pdunlap@yahoo.com  Scientist, product/process development   \n",
       "1              anthony41@reed.com                       Drilling engineer   \n",
       "2  amymiller@morales-harrison.com                Customer service manager   \n",
       "3     brent16@olson-robinson.info                       Drilling engineer   \n",
       "4     christopherwright@gmail.com                             Fine artist   \n",
       "\n",
       "        IP Address Language  Purchase Price  \n",
       "0  149.146.147.205       el           98.14  \n",
       "1     15.160.41.51       fr           70.73  \n",
       "2   132.207.160.22       de            0.95  \n",
       "3     30.250.74.19       es           78.04  \n",
       "4     24.140.33.94       es           77.82  "
      ]
     },
     "execution_count": 3,
     "metadata": {},
     "output_type": "execute_result"
    }
   ],
   "source": [
    "df = pd.read_csv('Ecommerce Purchases')\n",
    "df.head(5) # Lấy dòng từ trên xuống\n",
    "df.tail(5) # Lấy từ dưới lên\n",
    "df.sample(5) # Lấy random 5 mẫu từ file data"
   ]
  },
  {
   "cell_type": "code",
   "execution_count": 31,
   "id": "421623c5-a533-4093-8e9e-93e9afdd3bd8",
   "metadata": {},
   "outputs": [
    {
     "data": {
      "text/html": [
       "<div>\n",
       "<style scoped>\n",
       "    .dataframe tbody tr th:only-of-type {\n",
       "        vertical-align: middle;\n",
       "    }\n",
       "\n",
       "    .dataframe tbody tr th {\n",
       "        vertical-align: top;\n",
       "    }\n",
       "\n",
       "    .dataframe thead th {\n",
       "        text-align: right;\n",
       "    }\n",
       "</style>\n",
       "<table border=\"1\" class=\"dataframe\">\n",
       "  <thead>\n",
       "    <tr style=\"text-align: right;\">\n",
       "      <th></th>\n",
       "      <th>0</th>\n",
       "      <th>1</th>\n",
       "      <th>2</th>\n",
       "      <th>3</th>\n",
       "      <th>4</th>\n",
       "    </tr>\n",
       "  </thead>\n",
       "  <tbody>\n",
       "    <tr>\n",
       "      <th>0</th>\n",
       "      <td>5.1</td>\n",
       "      <td>3.5</td>\n",
       "      <td>1.4</td>\n",
       "      <td>0.2</td>\n",
       "      <td>Iris-setosa</td>\n",
       "    </tr>\n",
       "    <tr>\n",
       "      <th>1</th>\n",
       "      <td>4.9</td>\n",
       "      <td>3.0</td>\n",
       "      <td>1.4</td>\n",
       "      <td>0.2</td>\n",
       "      <td>Iris-setosa</td>\n",
       "    </tr>\n",
       "    <tr>\n",
       "      <th>2</th>\n",
       "      <td>4.7</td>\n",
       "      <td>3.2</td>\n",
       "      <td>1.3</td>\n",
       "      <td>0.2</td>\n",
       "      <td>Iris-setosa</td>\n",
       "    </tr>\n",
       "    <tr>\n",
       "      <th>3</th>\n",
       "      <td>4.6</td>\n",
       "      <td>3.1</td>\n",
       "      <td>1.5</td>\n",
       "      <td>0.2</td>\n",
       "      <td>Iris-setosa</td>\n",
       "    </tr>\n",
       "    <tr>\n",
       "      <th>4</th>\n",
       "      <td>5.0</td>\n",
       "      <td>3.6</td>\n",
       "      <td>1.4</td>\n",
       "      <td>0.2</td>\n",
       "      <td>Iris-setosa</td>\n",
       "    </tr>\n",
       "    <tr>\n",
       "      <th>...</th>\n",
       "      <td>...</td>\n",
       "      <td>...</td>\n",
       "      <td>...</td>\n",
       "      <td>...</td>\n",
       "      <td>...</td>\n",
       "    </tr>\n",
       "    <tr>\n",
       "      <th>145</th>\n",
       "      <td>6.7</td>\n",
       "      <td>3.0</td>\n",
       "      <td>5.2</td>\n",
       "      <td>2.3</td>\n",
       "      <td>Iris-virginica</td>\n",
       "    </tr>\n",
       "    <tr>\n",
       "      <th>146</th>\n",
       "      <td>6.3</td>\n",
       "      <td>2.5</td>\n",
       "      <td>5.0</td>\n",
       "      <td>1.9</td>\n",
       "      <td>Iris-virginica</td>\n",
       "    </tr>\n",
       "    <tr>\n",
       "      <th>147</th>\n",
       "      <td>6.5</td>\n",
       "      <td>3.0</td>\n",
       "      <td>5.2</td>\n",
       "      <td>2.0</td>\n",
       "      <td>Iris-virginica</td>\n",
       "    </tr>\n",
       "    <tr>\n",
       "      <th>148</th>\n",
       "      <td>6.2</td>\n",
       "      <td>3.4</td>\n",
       "      <td>5.4</td>\n",
       "      <td>2.3</td>\n",
       "      <td>Iris-virginica</td>\n",
       "    </tr>\n",
       "    <tr>\n",
       "      <th>149</th>\n",
       "      <td>5.9</td>\n",
       "      <td>3.0</td>\n",
       "      <td>5.1</td>\n",
       "      <td>1.8</td>\n",
       "      <td>Iris-virginica</td>\n",
       "    </tr>\n",
       "  </tbody>\n",
       "</table>\n",
       "<p>150 rows × 5 columns</p>\n",
       "</div>"
      ],
      "text/plain": [
       "       0    1    2    3               4\n",
       "0    5.1  3.5  1.4  0.2     Iris-setosa\n",
       "1    4.9  3.0  1.4  0.2     Iris-setosa\n",
       "2    4.7  3.2  1.3  0.2     Iris-setosa\n",
       "3    4.6  3.1  1.5  0.2     Iris-setosa\n",
       "4    5.0  3.6  1.4  0.2     Iris-setosa\n",
       "..   ...  ...  ...  ...             ...\n",
       "145  6.7  3.0  5.2  2.3  Iris-virginica\n",
       "146  6.3  2.5  5.0  1.9  Iris-virginica\n",
       "147  6.5  3.0  5.2  2.0  Iris-virginica\n",
       "148  6.2  3.4  5.4  2.3  Iris-virginica\n",
       "149  5.9  3.0  5.1  1.8  Iris-virginica\n",
       "\n",
       "[150 rows x 5 columns]"
      ]
     },
     "execution_count": 31,
     "metadata": {},
     "output_type": "execute_result"
    }
   ],
   "source": [
    "iris = pd.read_csv('iris.data', header = None) \n",
    "# biến có thể gán link trên mạng về, không cần download về ámt\n",
    "# Chú ý phải dùng thêm tham số để tránh lấy dữ liệu cột đầu tiên làm tên cột\n",
    "iris"
   ]
  },
  {
   "cell_type": "code",
   "execution_count": 4,
   "id": "8c49d999-6f52-491c-ad6f-b6b6c42b2ed9",
   "metadata": {},
   "outputs": [
    {
     "data": {
      "text/html": [
       "<div>\n",
       "<style scoped>\n",
       "    .dataframe tbody tr th:only-of-type {\n",
       "        vertical-align: middle;\n",
       "    }\n",
       "\n",
       "    .dataframe tbody tr th {\n",
       "        vertical-align: top;\n",
       "    }\n",
       "\n",
       "    .dataframe thead th {\n",
       "        text-align: right;\n",
       "    }\n",
       "</style>\n",
       "<table border=\"1\" class=\"dataframe\">\n",
       "  <thead>\n",
       "    <tr style=\"text-align: right;\">\n",
       "      <th></th>\n",
       "      <th>5.1</th>\n",
       "      <th>3.5</th>\n",
       "      <th>1.4</th>\n",
       "      <th>0.2</th>\n",
       "      <th>Iris-setosa</th>\n",
       "    </tr>\n",
       "  </thead>\n",
       "  <tbody>\n",
       "    <tr>\n",
       "      <th>0</th>\n",
       "      <td>4.9</td>\n",
       "      <td>3.0</td>\n",
       "      <td>1.4</td>\n",
       "      <td>0.2</td>\n",
       "      <td>Iris-setosa</td>\n",
       "    </tr>\n",
       "    <tr>\n",
       "      <th>1</th>\n",
       "      <td>4.7</td>\n",
       "      <td>3.2</td>\n",
       "      <td>1.3</td>\n",
       "      <td>0.2</td>\n",
       "      <td>Iris-setosa</td>\n",
       "    </tr>\n",
       "    <tr>\n",
       "      <th>2</th>\n",
       "      <td>4.6</td>\n",
       "      <td>3.1</td>\n",
       "      <td>1.5</td>\n",
       "      <td>0.2</td>\n",
       "      <td>Iris-setosa</td>\n",
       "    </tr>\n",
       "    <tr>\n",
       "      <th>3</th>\n",
       "      <td>5.0</td>\n",
       "      <td>3.6</td>\n",
       "      <td>1.4</td>\n",
       "      <td>0.2</td>\n",
       "      <td>Iris-setosa</td>\n",
       "    </tr>\n",
       "    <tr>\n",
       "      <th>4</th>\n",
       "      <td>5.4</td>\n",
       "      <td>3.9</td>\n",
       "      <td>1.7</td>\n",
       "      <td>0.4</td>\n",
       "      <td>Iris-setosa</td>\n",
       "    </tr>\n",
       "  </tbody>\n",
       "</table>\n",
       "</div>"
      ],
      "text/plain": [
       "   5.1  3.5  1.4  0.2  Iris-setosa\n",
       "0  4.9  3.0  1.4  0.2  Iris-setosa\n",
       "1  4.7  3.2  1.3  0.2  Iris-setosa\n",
       "2  4.6  3.1  1.5  0.2  Iris-setosa\n",
       "3  5.0  3.6  1.4  0.2  Iris-setosa\n",
       "4  5.4  3.9  1.7  0.4  Iris-setosa"
      ]
     },
     "execution_count": 4,
     "metadata": {},
     "output_type": "execute_result"
    }
   ],
   "source": [
    "iris = pd.read_csv('https://archive.ics.uci.edu/ml/machine-learning-databases/iris/iris.data', header = None)\n",
    "iris.head(5)"
   ]
  },
  {
   "cell_type": "code",
   "execution_count": 1,
   "id": "78798074-beb4-4f95-91ee-7d8e95344e76",
   "metadata": {},
   "outputs": [
    {
     "data": {
      "text/html": [
       "<div>\n",
       "<style scoped>\n",
       "    .dataframe tbody tr th:only-of-type {\n",
       "        vertical-align: middle;\n",
       "    }\n",
       "\n",
       "    .dataframe tbody tr th {\n",
       "        vertical-align: top;\n",
       "    }\n",
       "\n",
       "    .dataframe thead th {\n",
       "        text-align: right;\n",
       "    }\n",
       "</style>\n",
       "<table border=\"1\" class=\"dataframe\">\n",
       "  <thead>\n",
       "    <tr style=\"text-align: right;\">\n",
       "      <th></th>\n",
       "      <th>sepal_length</th>\n",
       "      <th>sepal_width</th>\n",
       "      <th>petal_length</th>\n",
       "      <th>petal_width</th>\n",
       "      <th>species</th>\n",
       "    </tr>\n",
       "  </thead>\n",
       "  <tbody>\n",
       "    <tr>\n",
       "      <th>0</th>\n",
       "      <td>5.1</td>\n",
       "      <td>3.5</td>\n",
       "      <td>1.4</td>\n",
       "      <td>0.2</td>\n",
       "      <td>setosa</td>\n",
       "    </tr>\n",
       "    <tr>\n",
       "      <th>1</th>\n",
       "      <td>4.9</td>\n",
       "      <td>3.0</td>\n",
       "      <td>1.4</td>\n",
       "      <td>0.2</td>\n",
       "      <td>setosa</td>\n",
       "    </tr>\n",
       "    <tr>\n",
       "      <th>2</th>\n",
       "      <td>4.7</td>\n",
       "      <td>3.2</td>\n",
       "      <td>1.3</td>\n",
       "      <td>0.2</td>\n",
       "      <td>setosa</td>\n",
       "    </tr>\n",
       "    <tr>\n",
       "      <th>3</th>\n",
       "      <td>4.6</td>\n",
       "      <td>3.1</td>\n",
       "      <td>1.5</td>\n",
       "      <td>0.2</td>\n",
       "      <td>setosa</td>\n",
       "    </tr>\n",
       "    <tr>\n",
       "      <th>4</th>\n",
       "      <td>5.0</td>\n",
       "      <td>3.6</td>\n",
       "      <td>1.4</td>\n",
       "      <td>0.2</td>\n",
       "      <td>setosa</td>\n",
       "    </tr>\n",
       "  </tbody>\n",
       "</table>\n",
       "</div>"
      ],
      "text/plain": [
       "   sepal_length  sepal_width  petal_length  petal_width species\n",
       "0           5.1          3.5           1.4          0.2  setosa\n",
       "1           4.9          3.0           1.4          0.2  setosa\n",
       "2           4.7          3.2           1.3          0.2  setosa\n",
       "3           4.6          3.1           1.5          0.2  setosa\n",
       "4           5.0          3.6           1.4          0.2  setosa"
      ]
     },
     "execution_count": 1,
     "metadata": {},
     "output_type": "execute_result"
    }
   ],
   "source": [
    "import seaborn as sns\n",
    "iris2 = sns.load_dataset('iris')\n",
    "iris2.head(5)"
   ]
  },
  {
   "cell_type": "code",
   "execution_count": 6,
   "id": "9b73d56e-1b7c-4a21-880a-4833a6eec21c",
   "metadata": {},
   "outputs": [],
   "source": [
    "iris.to_csv('nghia_sample_iris.csv')"
   ]
  },
  {
   "cell_type": "markdown",
   "id": "590304d5-ccd4-43a2-9b69-a845243c5529",
   "metadata": {},
   "source": [
    "### 2.3 Indexing"
   ]
  },
  {
   "cell_type": "markdown",
   "id": "ebec19be-f26e-4997-a409-5a3e83fb0a42",
   "metadata": {},
   "source": [
    "Chọn tất cả các dòng (slicing):\n",
    "- `loc`: location `df.loc[row_label,col_label]`, `series.loc[row_label]`\n",
    "- `iloc`: index location `df.iloc[row_index,col_index]`, `series.iloc[row_index]`\n",
    "\n",
    "Chọn 1 cell:\n",
    "- `at`:  `df.at[row_label,col_label]`\n",
    "- `iat`: `df.iat[row_index,col_index]`"
   ]
  },
  {
   "cell_type": "code",
   "execution_count": null,
   "id": "a72e9b94-2275-487a-98e0-c24f70d8c36b",
   "metadata": {
    "tags": []
   },
   "outputs": [],
   "source": []
  },
  {
   "cell_type": "markdown",
   "id": "3a816f2a-e442-4e32-ab8d-c8a54821fd52",
   "metadata": {},
   "source": [
    "### 2.4 Masking"
   ]
  },
  {
   "cell_type": "code",
   "execution_count": null,
   "id": "1474fb88-a203-4715-8037-079a70085210",
   "metadata": {
    "tags": []
   },
   "outputs": [],
   "source": []
  },
  {
   "cell_type": "markdown",
   "id": "737fa923-7127-4b45-8997-a0d8cb7caad7",
   "metadata": {},
   "source": [
    "### 2.5 Operations"
   ]
  },
  {
   "cell_type": "markdown",
   "id": "3dcc97e4-ae76-48b6-bd12-55e760e72082",
   "metadata": {},
   "source": [
    "#### 2.5.1 Groupby"
   ]
  },
  {
   "cell_type": "markdown",
   "id": "054df57e-4659-43dc-8e99-ce77227a7658",
   "metadata": {},
   "source": [
    "![](https://blog.dask.org/images/split-apply-combine.png)"
   ]
  },
  {
   "cell_type": "code",
   "execution_count": null,
   "id": "9d2393a7-206b-4374-9daf-846040962a03",
   "metadata": {
    "tags": []
   },
   "outputs": [],
   "source": []
  },
  {
   "cell_type": "markdown",
   "id": "cf202ba9-1e0c-4e5c-ba20-2d427e7ce20e",
   "metadata": {},
   "source": [
    "#### 2.5.2 Pivot"
   ]
  },
  {
   "cell_type": "code",
   "execution_count": null,
   "id": "03ffd5ab-7189-4463-9f24-a35a11b5de41",
   "metadata": {
    "tags": []
   },
   "outputs": [],
   "source": []
  },
  {
   "cell_type": "markdown",
   "id": "2a338498-127a-45b0-8ed5-6daa1aaef5c8",
   "metadata": {},
   "source": [
    "#### 2.5.3 Others"
   ]
  },
  {
   "cell_type": "markdown",
   "id": "cac1166f-ef96-41e9-958a-ae3d0b3c6aaa",
   "metadata": {},
   "source": [
    "|Merge methods| SQL Join Name | Meaning| _merge|\n",
    "|-|-|-|-|\n",
    "|left| LEFT OUTER JOIN|Chỉ sử dụng keys bên trái|left_only|\n",
    "|right| RIGHT OUTER JOIN|Chỉ sử dụng keys bên phải|right_only|\n",
    "|outer|FULL OUTER JOIN|Sử dụng keys của cả 2 dataframes|both|\n",
    "|inner|INNER JOIN|Chỉ sử dụng keys giao nhau của 2 dataframes|both|"
   ]
  },
  {
   "cell_type": "markdown",
   "id": "dd24cd7b-fde3-43c9-b9a4-bc8a0e874830",
   "metadata": {},
   "source": [
    "![](https://lh3.googleusercontent.com/-n76c6dtr5sw/YBO5d-3PzGI/AAAAAAAAAh8/xiT6YIzePLEXArb8uU1f1vgg8JRXYeg8ACLcBGAsYHQ/image.png) "
   ]
  },
  {
   "cell_type": "code",
   "execution_count": null,
   "id": "67b1ec1e-1d91-4598-8e3c-e39f2a12fc89",
   "metadata": {
    "tags": []
   },
   "outputs": [],
   "source": []
  }
 ],
 "metadata": {
  "kernelspec": {
   "display_name": "Python 3 (ipykernel)",
   "language": "python",
   "name": "python3"
  },
  "language_info": {
   "codemirror_mode": {
    "name": "ipython",
    "version": 3
   },
   "file_extension": ".py",
   "mimetype": "text/x-python",
   "name": "python",
   "nbconvert_exporter": "python",
   "pygments_lexer": "ipython3",
   "version": "3.8.11"
  }
 },
 "nbformat": 4,
 "nbformat_minor": 5
}
