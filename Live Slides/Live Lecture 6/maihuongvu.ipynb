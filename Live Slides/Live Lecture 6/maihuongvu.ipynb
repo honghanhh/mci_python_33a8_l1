{
  "nbformat": 4,
  "nbformat_minor": 5,
  "metadata": {
    "kernelspec": {
      "display_name": "Python 3",
      "language": "python",
      "name": "python3"
    },
    "language_info": {
      "codemirror_mode": {
        "name": "ipython",
        "version": 3
      },
      "file_extension": ".py",
      "mimetype": "text/x-python",
      "name": "python",
      "nbconvert_exporter": "python",
      "pygments_lexer": "ipython3",
      "version": "3.8.11"
    },
    "colab": {
      "name": "maihuongvu.ipynb",
      "provenance": [],
      "collapsed_sections": []
    }
  },
  "cells": [
    {
      "cell_type": "markdown",
      "metadata": {
        "id": "2b9037cb-2990-4bbd-ad01-cf535a3cf2c4"
      },
      "source": [
        "![](https://upload.wikimedia.org/wikipedia/commons/thumb/e/ed/Pandas_logo.svg/1200px-Pandas_logo.svg.png)"
      ],
      "id": "2b9037cb-2990-4bbd-ad01-cf535a3cf2c4"
    },
    {
      "cell_type": "markdown",
      "metadata": {
        "id": "d88e446d-207a-4d11-b8c1-38c376beea21"
      },
      "source": [
        "# <center> BÀI 6: THỰC HÀNH CÙNG PANDAS </center>"
      ],
      "id": "d88e446d-207a-4d11-b8c1-38c376beea21"
    },
    {
      "cell_type": "markdown",
      "metadata": {
        "id": "727468a5-d95a-450b-9daf-3c3975e04ffe"
      },
      "source": [
        "## I. Know your dataset"
      ],
      "id": "727468a5-d95a-450b-9daf-3c3975e04ffe"
    },
    {
      "cell_type": "markdown",
      "metadata": {
        "id": "b8897de9-5091-498d-b72a-ee1d33b12ca8"
      },
      "source": [
        "This time we are going to pull data directly from the internet.\n",
        "Special thanks to: https://github.com/justmarkham for sharing the dataset and materials.\n",
        "\n",
        "### Step 1. Import the necessary libraries"
      ],
      "id": "b8897de9-5091-498d-b72a-ee1d33b12ca8"
    },
    {
      "cell_type": "code",
      "metadata": {
        "id": "ed80e620-fa09-4832-88b4-c81c854153be"
      },
      "source": [
        "import pandas as pd"
      ],
      "id": "ed80e620-fa09-4832-88b4-c81c854153be",
      "execution_count": null,
      "outputs": []
    },
    {
      "cell_type": "markdown",
      "metadata": {
        "id": "7348c7e4-d4b1-4e17-b88f-67cb5484ae8e"
      },
      "source": [
        "### Step 2. Import the dataset from this [address](https://raw.githubusercontent.com/justmarkham/DAT8/master/data/chipotle.tsv). "
      ],
      "id": "7348c7e4-d4b1-4e17-b88f-67cb5484ae8e"
    },
    {
      "cell_type": "code",
      "metadata": {
        "id": "06bc4f65-d016-45b0-9377-c1164aae6f49"
      },
      "source": [
        "url = 'https://raw.githubusercontent.com/justmarkham/DAT8/master/data/chipotle.tsv'"
      ],
      "id": "06bc4f65-d016-45b0-9377-c1164aae6f49",
      "execution_count": null,
      "outputs": []
    },
    {
      "cell_type": "markdown",
      "metadata": {
        "id": "38d4ae04-7108-403f-b61b-77b4c2c96ed0"
      },
      "source": [
        "### Step 3. Assign it to a variable called `chipo`."
      ],
      "id": "38d4ae04-7108-403f-b61b-77b4c2c96ed0"
    },
    {
      "cell_type": "code",
      "metadata": {
        "id": "172fa51a-4b5d-416e-9cc4-b0ed1b3efeb3"
      },
      "source": [
        "chipo = pd.read_csv(url, sep = '\\t')"
      ],
      "id": "172fa51a-4b5d-416e-9cc4-b0ed1b3efeb3",
      "execution_count": null,
      "outputs": []
    },
    {
      "cell_type": "code",
      "metadata": {
        "id": "gMUC5iNcoGJS"
      },
      "source": [
        "chipo = pd.read_csv(url, delimiter='\\t')"
      ],
      "id": "gMUC5iNcoGJS",
      "execution_count": null,
      "outputs": []
    },
    {
      "cell_type": "markdown",
      "metadata": {
        "id": "701ba75b-2987-4163-b76b-1eafa601138b"
      },
      "source": [
        "### Step 4. See the first 10 entries"
      ],
      "id": "701ba75b-2987-4163-b76b-1eafa601138b"
    },
    {
      "cell_type": "code",
      "metadata": {
        "id": "15658513-ab79-49fe-9975-6348ed15dcd4",
        "colab": {
          "base_uri": "https://localhost:8080/",
          "height": 202
        },
        "outputId": "0e0b51c7-40c0-462a-cb8e-5b883bc112ef"
      },
      "source": [
        "chipo.head(5)"
      ],
      "id": "15658513-ab79-49fe-9975-6348ed15dcd4",
      "execution_count": null,
      "outputs": [
        {
          "output_type": "execute_result",
          "data": {
            "text/html": [
              "<div>\n",
              "<style scoped>\n",
              "    .dataframe tbody tr th:only-of-type {\n",
              "        vertical-align: middle;\n",
              "    }\n",
              "\n",
              "    .dataframe tbody tr th {\n",
              "        vertical-align: top;\n",
              "    }\n",
              "\n",
              "    .dataframe thead th {\n",
              "        text-align: right;\n",
              "    }\n",
              "</style>\n",
              "<table border=\"1\" class=\"dataframe\">\n",
              "  <thead>\n",
              "    <tr style=\"text-align: right;\">\n",
              "      <th></th>\n",
              "      <th>order_id</th>\n",
              "      <th>quantity</th>\n",
              "      <th>item_name</th>\n",
              "      <th>choice_description</th>\n",
              "      <th>item_price</th>\n",
              "    </tr>\n",
              "  </thead>\n",
              "  <tbody>\n",
              "    <tr>\n",
              "      <th>0</th>\n",
              "      <td>1</td>\n",
              "      <td>1</td>\n",
              "      <td>Chips and Fresh Tomato Salsa</td>\n",
              "      <td>NaN</td>\n",
              "      <td>$2.39</td>\n",
              "    </tr>\n",
              "    <tr>\n",
              "      <th>1</th>\n",
              "      <td>1</td>\n",
              "      <td>1</td>\n",
              "      <td>Izze</td>\n",
              "      <td>[Clementine]</td>\n",
              "      <td>$3.39</td>\n",
              "    </tr>\n",
              "    <tr>\n",
              "      <th>2</th>\n",
              "      <td>1</td>\n",
              "      <td>1</td>\n",
              "      <td>Nantucket Nectar</td>\n",
              "      <td>[Apple]</td>\n",
              "      <td>$3.39</td>\n",
              "    </tr>\n",
              "    <tr>\n",
              "      <th>3</th>\n",
              "      <td>1</td>\n",
              "      <td>1</td>\n",
              "      <td>Chips and Tomatillo-Green Chili Salsa</td>\n",
              "      <td>NaN</td>\n",
              "      <td>$2.39</td>\n",
              "    </tr>\n",
              "    <tr>\n",
              "      <th>4</th>\n",
              "      <td>2</td>\n",
              "      <td>2</td>\n",
              "      <td>Chicken Bowl</td>\n",
              "      <td>[Tomatillo-Red Chili Salsa (Hot), [Black Beans...</td>\n",
              "      <td>$16.98</td>\n",
              "    </tr>\n",
              "  </tbody>\n",
              "</table>\n",
              "</div>"
            ],
            "text/plain": [
              "   order_id  ...  item_price\n",
              "0         1  ...      $2.39 \n",
              "1         1  ...      $3.39 \n",
              "2         1  ...      $3.39 \n",
              "3         1  ...      $2.39 \n",
              "4         2  ...     $16.98 \n",
              "\n",
              "[5 rows x 5 columns]"
            ]
          },
          "metadata": {},
          "execution_count": 8
        }
      ]
    },
    {
      "cell_type": "markdown",
      "metadata": {
        "id": "23f8fa6f-9321-4482-b3b3-1d9386b61ff9"
      },
      "source": [
        "### Step 5. What is the number of observations in the dataset?"
      ],
      "id": "23f8fa6f-9321-4482-b3b3-1d9386b61ff9"
    },
    {
      "cell_type": "code",
      "metadata": {
        "id": "9c57ad50-2459-412d-bfc9-d002a834a046",
        "colab": {
          "base_uri": "https://localhost:8080/"
        },
        "outputId": "de3bce6d-c776-4e99-ffb2-8239e78dcb8b"
      },
      "source": [
        "chipo.count()"
      ],
      "id": "9c57ad50-2459-412d-bfc9-d002a834a046",
      "execution_count": null,
      "outputs": [
        {
          "output_type": "execute_result",
          "data": {
            "text/plain": [
              "order_id              4622\n",
              "quantity              4622\n",
              "item_name             4622\n",
              "choice_description    3376\n",
              "item_price            4622\n",
              "dtype: int64"
            ]
          },
          "metadata": {},
          "execution_count": 8
        }
      ]
    },
    {
      "cell_type": "code",
      "metadata": {
        "colab": {
          "base_uri": "https://localhost:8080/"
        },
        "id": "n-7EJGGUpJkq",
        "outputId": "52ec6c27-8937-4022-95fe-34c5c733ebe6"
      },
      "source": [
        "chipo.info()"
      ],
      "id": "n-7EJGGUpJkq",
      "execution_count": null,
      "outputs": [
        {
          "output_type": "stream",
          "name": "stdout",
          "text": [
            "<class 'pandas.core.frame.DataFrame'>\n",
            "RangeIndex: 4622 entries, 0 to 4621\n",
            "Data columns (total 5 columns):\n",
            " #   Column              Non-Null Count  Dtype \n",
            "---  ------              --------------  ----- \n",
            " 0   order_id            4622 non-null   int64 \n",
            " 1   quantity            4622 non-null   int64 \n",
            " 2   item_name           4622 non-null   object\n",
            " 3   choice_description  3376 non-null   object\n",
            " 4   item_price          4622 non-null   object\n",
            "dtypes: int64(2), object(3)\n",
            "memory usage: 180.7+ KB\n"
          ]
        }
      ]
    },
    {
      "cell_type": "code",
      "metadata": {
        "colab": {
          "base_uri": "https://localhost:8080/"
        },
        "id": "0fu0U7rfpQZX",
        "outputId": "a58a1069-fa3e-48c1-b77b-fd8e055343d5"
      },
      "source": [
        "len(chipo) #return row"
      ],
      "id": "0fu0U7rfpQZX",
      "execution_count": null,
      "outputs": [
        {
          "output_type": "execute_result",
          "data": {
            "text/plain": [
              "4622"
            ]
          },
          "metadata": {},
          "execution_count": 11
        }
      ]
    },
    {
      "cell_type": "code",
      "metadata": {
        "colab": {
          "base_uri": "https://localhost:8080/"
        },
        "id": "nQIg1TbipY2U",
        "outputId": "90995000-22c8-4ef2-991a-18249627c060"
      },
      "source": [
        "chipo.shape  #(a,b) -> (row, column)"
      ],
      "id": "nQIg1TbipY2U",
      "execution_count": null,
      "outputs": [
        {
          "output_type": "execute_result",
          "data": {
            "text/plain": [
              "(4622, 5)"
            ]
          },
          "metadata": {},
          "execution_count": 12
        }
      ]
    },
    {
      "cell_type": "markdown",
      "metadata": {
        "id": "a4e54956-cee4-42b1-bd83-efe5bc4f4925"
      },
      "source": [
        "### Step 6. What is the number of columns in the dataset?"
      ],
      "id": "a4e54956-cee4-42b1-bd83-efe5bc4f4925"
    },
    {
      "cell_type": "code",
      "metadata": {
        "colab": {
          "base_uri": "https://localhost:8080/"
        },
        "id": "6O_ex5KapxBN",
        "outputId": "8fee83f8-6d40-4308-a527-a69066e7b690"
      },
      "source": [
        "len(chipo.columns)"
      ],
      "id": "6O_ex5KapxBN",
      "execution_count": null,
      "outputs": [
        {
          "output_type": "execute_result",
          "data": {
            "text/plain": [
              "5"
            ]
          },
          "metadata": {},
          "execution_count": 13
        }
      ]
    },
    {
      "cell_type": "markdown",
      "metadata": {
        "id": "d0cc13fd-05dd-4353-91e1-a779c0ad5317"
      },
      "source": [
        "### Step 7. Print the name of all the columns."
      ],
      "id": "d0cc13fd-05dd-4353-91e1-a779c0ad5317"
    },
    {
      "cell_type": "code",
      "metadata": {
        "id": "28f89f72-db29-454e-8481-340758765cdc",
        "colab": {
          "base_uri": "https://localhost:8080/"
        },
        "outputId": "7e7cb3ae-f5bb-46aa-b1f3-061d71cf6cc8"
      },
      "source": [
        "chipo.columns"
      ],
      "id": "28f89f72-db29-454e-8481-340758765cdc",
      "execution_count": null,
      "outputs": [
        {
          "output_type": "execute_result",
          "data": {
            "text/plain": [
              "Index(['order_id', 'quantity', 'item_name', 'choice_description',\n",
              "       'item_price'],\n",
              "      dtype='object')"
            ]
          },
          "metadata": {},
          "execution_count": 14
        }
      ]
    },
    {
      "cell_type": "markdown",
      "metadata": {
        "id": "520b68e1-3718-4dd1-b224-9c7efecf168a"
      },
      "source": [
        "### Step 8. How is the dataset indexed?"
      ],
      "id": "520b68e1-3718-4dd1-b224-9c7efecf168a"
    },
    {
      "cell_type": "code",
      "metadata": {
        "id": "3cc068d3-7145-4b70-9462-ecc4208b2688",
        "colab": {
          "base_uri": "https://localhost:8080/"
        },
        "outputId": "49ca5eb6-9f9e-425c-9138-60ec3ee628b1"
      },
      "source": [
        "chipo.index"
      ],
      "id": "3cc068d3-7145-4b70-9462-ecc4208b2688",
      "execution_count": null,
      "outputs": [
        {
          "output_type": "execute_result",
          "data": {
            "text/plain": [
              "RangeIndex(start=0, stop=4622, step=1)"
            ]
          },
          "metadata": {},
          "execution_count": 15
        }
      ]
    },
    {
      "cell_type": "markdown",
      "metadata": {
        "id": "b5f8b799-2e91-4a19-824e-2eedf36622a0"
      },
      "source": [
        "### Step 9. Which was the most-ordered item? "
      ],
      "id": "b5f8b799-2e91-4a19-824e-2eedf36622a0"
    },
    {
      "cell_type": "code",
      "metadata": {
        "id": "070118ee-a6a3-49d2-aeee-d86b279e703b"
      },
      "source": [
        "best_seller = chipo['quantity'].groupby(chipo['item_name']).sum().to_frame()"
      ],
      "id": "070118ee-a6a3-49d2-aeee-d86b279e703b",
      "execution_count": null,
      "outputs": []
    },
    {
      "cell_type": "code",
      "metadata": {
        "colab": {
          "base_uri": "https://localhost:8080/"
        },
        "id": "2qCTZxZkrdMf",
        "outputId": "88bb6d74-3082-4437-cb26-4b087ac757ff"
      },
      "source": [
        "chipo.groupby('item_name').quantity.sum().nlargest(1)"
      ],
      "id": "2qCTZxZkrdMf",
      "execution_count": null,
      "outputs": [
        {
          "output_type": "execute_result",
          "data": {
            "text/plain": [
              "item_name\n",
              "Chicken Bowl    761\n",
              "Name: quantity, dtype: int64"
            ]
          },
          "metadata": {},
          "execution_count": 17
        }
      ]
    },
    {
      "cell_type": "markdown",
      "metadata": {
        "id": "afd4845b-7058-4453-89d8-247f8936fed1"
      },
      "source": [
        "### Step 10. For the most-ordered item, how many items were ordered?"
      ],
      "id": "afd4845b-7058-4453-89d8-247f8936fed1"
    },
    {
      "cell_type": "code",
      "metadata": {
        "id": "aaa12b4c-2be0-4fca-991b-ba503586ae6e",
        "colab": {
          "base_uri": "https://localhost:8080/"
        },
        "outputId": "f34d1d75-ca4a-49ea-bc02-85df26e00d24"
      },
      "source": [
        "chipo.groupby('item_name').quantity.sum().nlargest(1).iloc[0]"
      ],
      "id": "aaa12b4c-2be0-4fca-991b-ba503586ae6e",
      "execution_count": null,
      "outputs": [
        {
          "output_type": "execute_result",
          "data": {
            "text/plain": [
              "761"
            ]
          },
          "metadata": {},
          "execution_count": 19
        }
      ]
    },
    {
      "cell_type": "markdown",
      "metadata": {
        "id": "86b3ebed-5611-4d6f-b1f4-62511fca355e"
      },
      "source": [
        "### Step 11. What was the most ordered item in the choice_description column?"
      ],
      "id": "86b3ebed-5611-4d6f-b1f4-62511fca355e"
    },
    {
      "cell_type": "code",
      "metadata": {
        "id": "c6d4bdaf-9e0e-4017-bec1-455e6f4c7a9e",
        "colab": {
          "base_uri": "https://localhost:8080/"
        },
        "outputId": "fe2f7e31-df2c-4c95-d44c-92f064891998"
      },
      "source": [
        "chipo.groupby('choice_description').quantity.sum().nlargest(1).iloc[0]"
      ],
      "id": "c6d4bdaf-9e0e-4017-bec1-455e6f4c7a9e",
      "execution_count": 42,
      "outputs": [
        {
          "output_type": "execute_result",
          "data": {
            "text/plain": [
              "159"
            ]
          },
          "metadata": {},
          "execution_count": 42
        }
      ]
    },
    {
      "cell_type": "markdown",
      "metadata": {
        "id": "a7d1bbf1-d2b8-4f14-93f7-5834b6724bf3"
      },
      "source": [
        "### Step 12. How many items were ordered in total?"
      ],
      "id": "a7d1bbf1-d2b8-4f14-93f7-5834b6724bf3"
    },
    {
      "cell_type": "code",
      "metadata": {
        "id": "55992a87-6e12-4e93-b501-6b5fe5aa287c",
        "colab": {
          "base_uri": "https://localhost:8080/"
        },
        "outputId": "9f447b14-d05b-491b-d932-51feae8e4f60"
      },
      "source": [
        "chipo.item_name.unique()  #return unique value name "
      ],
      "id": "55992a87-6e12-4e93-b501-6b5fe5aa287c",
      "execution_count": null,
      "outputs": [
        {
          "output_type": "execute_result",
          "data": {
            "text/plain": [
              "array(['Chips and Fresh Tomato Salsa', 'Izze', 'Nantucket Nectar',\n",
              "       'Chips and Tomatillo-Green Chili Salsa', 'Chicken Bowl',\n",
              "       'Side of Chips', 'Steak Burrito', 'Steak Soft Tacos',\n",
              "       'Chips and Guacamole', 'Chicken Crispy Tacos',\n",
              "       'Chicken Soft Tacos', 'Chicken Burrito', 'Canned Soda',\n",
              "       'Barbacoa Burrito', 'Carnitas Burrito', 'Carnitas Bowl',\n",
              "       'Bottled Water', 'Chips and Tomatillo Green Chili Salsa',\n",
              "       'Barbacoa Bowl', 'Chips', 'Chicken Salad Bowl', 'Steak Bowl',\n",
              "       'Barbacoa Soft Tacos', 'Veggie Burrito', 'Veggie Bowl',\n",
              "       'Steak Crispy Tacos', 'Chips and Tomatillo Red Chili Salsa',\n",
              "       'Barbacoa Crispy Tacos', 'Veggie Salad Bowl',\n",
              "       'Chips and Roasted Chili-Corn Salsa',\n",
              "       'Chips and Roasted Chili Corn Salsa', 'Carnitas Soft Tacos',\n",
              "       'Chicken Salad', 'Canned Soft Drink', 'Steak Salad Bowl',\n",
              "       '6 Pack Soft Drink', 'Chips and Tomatillo-Red Chili Salsa', 'Bowl',\n",
              "       'Burrito', 'Crispy Tacos', 'Carnitas Crispy Tacos', 'Steak Salad',\n",
              "       'Chips and Mild Fresh Tomato Salsa', 'Veggie Soft Tacos',\n",
              "       'Carnitas Salad Bowl', 'Barbacoa Salad Bowl', 'Salad',\n",
              "       'Veggie Crispy Tacos', 'Veggie Salad', 'Carnitas Salad'],\n",
              "      dtype=object)"
            ]
          },
          "metadata": {},
          "execution_count": 21
        }
      ]
    },
    {
      "cell_type": "code",
      "metadata": {
        "colab": {
          "base_uri": "https://localhost:8080/"
        },
        "id": "Frg2FZwbsvK1",
        "outputId": "dfc8884d-d686-4580-b26b-bf812bf65b3b"
      },
      "source": [
        "chipo.item_name.nunique()  #return number of name's unique value "
      ],
      "id": "Frg2FZwbsvK1",
      "execution_count": null,
      "outputs": [
        {
          "output_type": "execute_result",
          "data": {
            "text/plain": [
              "50"
            ]
          },
          "metadata": {},
          "execution_count": 22
        }
      ]
    },
    {
      "cell_type": "markdown",
      "metadata": {
        "id": "d1290e0a-c9e9-4f8c-81f0-7dab447a03e0"
      },
      "source": [
        "### Step 13. Turn the item price into a float"
      ],
      "id": "d1290e0a-c9e9-4f8c-81f0-7dab447a03e0"
    },
    {
      "cell_type": "markdown",
      "metadata": {
        "id": "594ddb5a-ecdb-4888-8e90-f3f51073be47"
      },
      "source": [
        "#### Step 13.a. Check the item price type"
      ],
      "id": "594ddb5a-ecdb-4888-8e90-f3f51073be47"
    },
    {
      "cell_type": "code",
      "metadata": {
        "id": "8ba472b8-b519-4ce5-87c6-54c2b84da11d",
        "colab": {
          "base_uri": "https://localhost:8080/"
        },
        "outputId": "369cb550-b666-4cf9-9b4b-1de4599c302f"
      },
      "source": [
        "type(chipo.item_price.iloc[0])"
      ],
      "id": "8ba472b8-b519-4ce5-87c6-54c2b84da11d",
      "execution_count": null,
      "outputs": [
        {
          "output_type": "execute_result",
          "data": {
            "text/plain": [
              "str"
            ]
          },
          "metadata": {},
          "execution_count": 27
        }
      ]
    },
    {
      "cell_type": "code",
      "metadata": {
        "colab": {
          "base_uri": "https://localhost:8080/",
          "height": 35
        },
        "id": "6gk7W7NctyfJ",
        "outputId": "fb2d1a0a-251c-4ae4-b4e8-f2172380f135"
      },
      "source": [
        "chipo.item_price.iloc[0]"
      ],
      "id": "6gk7W7NctyfJ",
      "execution_count": null,
      "outputs": [
        {
          "output_type": "execute_result",
          "data": {
            "application/vnd.google.colaboratory.intrinsic+json": {
              "type": "string"
            },
            "text/plain": [
              "'$2.39 '"
            ]
          },
          "metadata": {},
          "execution_count": 26
        }
      ]
    },
    {
      "cell_type": "markdown",
      "metadata": {
        "id": "bfb8954a-fc72-40ef-8035-b3f1e458bb43"
      },
      "source": [
        "#### Step 13.b. Create a lambda function and change the type of item price"
      ],
      "id": "bfb8954a-fc72-40ef-8035-b3f1e458bb43"
    },
    {
      "cell_type": "markdown",
      "metadata": {
        "id": "2QVpo0Dbt_bd"
      },
      "source": [
        "**Convert sign $ to none and convert str to float**"
      ],
      "id": "2QVpo0Dbt_bd"
    },
    {
      "cell_type": "markdown",
      "metadata": {
        "id": "HR0F9CiVvPdo"
      },
      "source": [
        "Use def-function"
      ],
      "id": "HR0F9CiVvPdo"
    },
    {
      "cell_type": "code",
      "metadata": {
        "id": "b4038c85-ab8f-44df-8d72-0334093bb29f"
      },
      "source": [
        "def convert(x):\n",
        "  return float(x.replace('$',''))"
      ],
      "id": "b4038c85-ab8f-44df-8d72-0334093bb29f",
      "execution_count": null,
      "outputs": []
    },
    {
      "cell_type": "code",
      "metadata": {
        "colab": {
          "base_uri": "https://localhost:8080/"
        },
        "id": "gj605aVnuTgp",
        "outputId": "56790e3e-3bf2-4d6a-ef98-f244cc392306"
      },
      "source": [
        "convert('2.39 ')"
      ],
      "id": "gj605aVnuTgp",
      "execution_count": null,
      "outputs": [
        {
          "output_type": "execute_result",
          "data": {
            "text/plain": [
              "2.39"
            ]
          },
          "metadata": {},
          "execution_count": 31
        }
      ]
    },
    {
      "cell_type": "markdown",
      "metadata": {
        "id": "qxMpDd9KuaZv"
      },
      "source": [
        "Use lambda function"
      ],
      "id": "qxMpDd9KuaZv"
    },
    {
      "cell_type": "code",
      "metadata": {
        "id": "Ui_SwLvDuj--"
      },
      "source": [
        "convert1 = lambda x : float(x.replace('$',''))"
      ],
      "id": "Ui_SwLvDuj--",
      "execution_count": null,
      "outputs": []
    },
    {
      "cell_type": "code",
      "metadata": {
        "colab": {
          "base_uri": "https://localhost:8080/"
        },
        "id": "y5LMWArMuawE",
        "outputId": "db3615f3-515a-4e87-ca75-4a219f991679"
      },
      "source": [
        "convert1('$2.39 ')"
      ],
      "id": "y5LMWArMuawE",
      "execution_count": null,
      "outputs": [
        {
          "output_type": "execute_result",
          "data": {
            "text/plain": [
              "2.39"
            ]
          },
          "metadata": {},
          "execution_count": 34
        }
      ]
    },
    {
      "cell_type": "markdown",
      "metadata": {
        "id": "6a5b449e-afd9-4378-b493-cdc3d91a2be2"
      },
      "source": [
        "#### Step 13.c. Check the item price type"
      ],
      "id": "6a5b449e-afd9-4378-b493-cdc3d91a2be2"
    },
    {
      "cell_type": "code",
      "metadata": {
        "id": "4a999dbd-c438-4f17-b4a3-01e415ddffd1"
      },
      "source": [
        "chipo['item_price'] = chipo.item_price.apply(convert1)"
      ],
      "id": "4a999dbd-c438-4f17-b4a3-01e415ddffd1",
      "execution_count": null,
      "outputs": []
    },
    {
      "cell_type": "markdown",
      "metadata": {
        "id": "266a0397-b6b6-4fcf-818b-664253382951"
      },
      "source": [
        "### Step 14. How much was the revenue for the period in the dataset?"
      ],
      "id": "266a0397-b6b6-4fcf-818b-664253382951"
    },
    {
      "cell_type": "code",
      "metadata": {
        "id": "c2159a3c-d2a7-49e4-a580-c73abfc71595",
        "colab": {
          "base_uri": "https://localhost:8080/"
        },
        "outputId": "eb478da6-db8e-440e-f0ae-bbd31850a1fb"
      },
      "source": [
        "chipo.item_price.sum()"
      ],
      "id": "c2159a3c-d2a7-49e4-a580-c73abfc71595",
      "execution_count": null,
      "outputs": [
        {
          "output_type": "execute_result",
          "data": {
            "text/plain": [
              "34500.16"
            ]
          },
          "metadata": {},
          "execution_count": 12
        }
      ]
    },
    {
      "cell_type": "markdown",
      "metadata": {
        "id": "39666c16-8312-4054-9990-cfe9915b3185"
      },
      "source": [
        "### Step 15. How many orders were made in the period?"
      ],
      "id": "39666c16-8312-4054-9990-cfe9915b3185"
    },
    {
      "cell_type": "code",
      "metadata": {
        "id": "14d19666-0f1e-4e38-afb0-621547c381b9",
        "colab": {
          "base_uri": "https://localhost:8080/"
        },
        "outputId": "062b8b30-f942-438f-8725-94f6f2eaeb9a"
      },
      "source": [
        "chipo['order_id'].nunique()"
      ],
      "id": "14d19666-0f1e-4e38-afb0-621547c381b9",
      "execution_count": null,
      "outputs": [
        {
          "output_type": "execute_result",
          "data": {
            "text/plain": [
              "1834"
            ]
          },
          "metadata": {},
          "execution_count": 13
        }
      ]
    },
    {
      "cell_type": "markdown",
      "metadata": {
        "id": "5263375a-98fe-4ecb-b312-e5de4c35a787"
      },
      "source": [
        "### Step 16. What is the average revenue amount per order?"
      ],
      "id": "5263375a-98fe-4ecb-b312-e5de4c35a787"
    },
    {
      "cell_type": "code",
      "metadata": {
        "id": "a6f24f22-72fe-49a0-9243-db113b503a37",
        "colab": {
          "base_uri": "https://localhost:8080/"
        },
        "outputId": "0a3eccc0-63de-4ba5-ba05-f0f9701026e8"
      },
      "source": [
        "chipo.item_price.sum() / chipo['order_id'].nunique()"
      ],
      "id": "a6f24f22-72fe-49a0-9243-db113b503a37",
      "execution_count": null,
      "outputs": [
        {
          "output_type": "execute_result",
          "data": {
            "text/plain": [
              "18.811428571428575"
            ]
          },
          "metadata": {},
          "execution_count": 14
        }
      ]
    },
    {
      "cell_type": "markdown",
      "metadata": {
        "id": "1d5b49ad-47c2-4677-b292-646c8d316ee0"
      },
      "source": [
        "### Step 17. How many different items are sold?"
      ],
      "id": "1d5b49ad-47c2-4677-b292-646c8d316ee0"
    },
    {
      "cell_type": "code",
      "metadata": {
        "id": "716833ff-6fec-4078-b437-3fe9864d09a8",
        "colab": {
          "base_uri": "https://localhost:8080/"
        },
        "outputId": "e98fccf0-d15a-4452-a39b-69b5939e51fc"
      },
      "source": [
        "chipo['item_name'].nunique()"
      ],
      "id": "716833ff-6fec-4078-b437-3fe9864d09a8",
      "execution_count": 39,
      "outputs": [
        {
          "output_type": "execute_result",
          "data": {
            "text/plain": [
              "50"
            ]
          },
          "metadata": {},
          "execution_count": 39
        }
      ]
    },
    {
      "cell_type": "markdown",
      "metadata": {
        "id": "19ef5955-3916-4424-bba7-00d2c9e8cfc9"
      },
      "source": [
        "## II. Filtering & Sorting"
      ],
      "id": "19ef5955-3916-4424-bba7-00d2c9e8cfc9"
    },
    {
      "cell_type": "markdown",
      "metadata": {
        "id": "e1ac8cf2-1237-4c71-ab13-821c27a1439e"
      },
      "source": [
        "### Step 18. How many products cost more than $10.00?"
      ],
      "id": "e1ac8cf2-1237-4c71-ab13-821c27a1439e"
    },
    {
      "cell_type": "code",
      "metadata": {
        "id": "7f9d755c-e55b-4db7-b182-ce16238a709e",
        "colab": {
          "base_uri": "https://localhost:8080/",
          "height": 202
        },
        "outputId": "4ee057ab-9394-4521-b28a-1ec085316b7e"
      },
      "source": [
        "chipo.head(5)"
      ],
      "id": "7f9d755c-e55b-4db7-b182-ce16238a709e",
      "execution_count": null,
      "outputs": [
        {
          "output_type": "execute_result",
          "data": {
            "text/html": [
              "<div>\n",
              "<style scoped>\n",
              "    .dataframe tbody tr th:only-of-type {\n",
              "        vertical-align: middle;\n",
              "    }\n",
              "\n",
              "    .dataframe tbody tr th {\n",
              "        vertical-align: top;\n",
              "    }\n",
              "\n",
              "    .dataframe thead th {\n",
              "        text-align: right;\n",
              "    }\n",
              "</style>\n",
              "<table border=\"1\" class=\"dataframe\">\n",
              "  <thead>\n",
              "    <tr style=\"text-align: right;\">\n",
              "      <th></th>\n",
              "      <th>order_id</th>\n",
              "      <th>quantity</th>\n",
              "      <th>item_name</th>\n",
              "      <th>choice_description</th>\n",
              "      <th>item_price</th>\n",
              "    </tr>\n",
              "  </thead>\n",
              "  <tbody>\n",
              "    <tr>\n",
              "      <th>0</th>\n",
              "      <td>1</td>\n",
              "      <td>1</td>\n",
              "      <td>Chips and Fresh Tomato Salsa</td>\n",
              "      <td>NaN</td>\n",
              "      <td>2.39</td>\n",
              "    </tr>\n",
              "    <tr>\n",
              "      <th>1</th>\n",
              "      <td>1</td>\n",
              "      <td>1</td>\n",
              "      <td>Izze</td>\n",
              "      <td>[Clementine]</td>\n",
              "      <td>3.39</td>\n",
              "    </tr>\n",
              "    <tr>\n",
              "      <th>2</th>\n",
              "      <td>1</td>\n",
              "      <td>1</td>\n",
              "      <td>Nantucket Nectar</td>\n",
              "      <td>[Apple]</td>\n",
              "      <td>3.39</td>\n",
              "    </tr>\n",
              "    <tr>\n",
              "      <th>3</th>\n",
              "      <td>1</td>\n",
              "      <td>1</td>\n",
              "      <td>Chips and Tomatillo-Green Chili Salsa</td>\n",
              "      <td>NaN</td>\n",
              "      <td>2.39</td>\n",
              "    </tr>\n",
              "    <tr>\n",
              "      <th>4</th>\n",
              "      <td>2</td>\n",
              "      <td>2</td>\n",
              "      <td>Chicken Bowl</td>\n",
              "      <td>[Tomatillo-Red Chili Salsa (Hot), [Black Beans...</td>\n",
              "      <td>16.98</td>\n",
              "    </tr>\n",
              "  </tbody>\n",
              "</table>\n",
              "</div>"
            ],
            "text/plain": [
              "   order_id  ...  item_price\n",
              "0         1  ...        2.39\n",
              "1         1  ...        3.39\n",
              "2         1  ...        3.39\n",
              "3         1  ...        2.39\n",
              "4         2  ...       16.98\n",
              "\n",
              "[5 rows x 5 columns]"
            ]
          },
          "metadata": {},
          "execution_count": 15
        }
      ]
    },
    {
      "cell_type": "code",
      "metadata": {
        "id": "5O8GfxTbxdcn"
      },
      "source": [
        "chipo['price_per_item'] = [x/y for x,y in zip((chipo['item_price']),(chipo['quantity']))]"
      ],
      "id": "5O8GfxTbxdcn",
      "execution_count": null,
      "outputs": []
    },
    {
      "cell_type": "code",
      "metadata": {
        "id": "0b006e35-a98d-47a8-b4be-5eb9d3ba744f",
        "colab": {
          "base_uri": "https://localhost:8080/"
        },
        "outputId": "392dc90f-ac93-4d43-f24c-4142971a3db8"
      },
      "source": [
        "chipo[chipo['price_per_item'] > 10].item_name.nunique()"
      ],
      "id": "0b006e35-a98d-47a8-b4be-5eb9d3ba744f",
      "execution_count": null,
      "outputs": [
        {
          "output_type": "execute_result",
          "data": {
            "text/plain": [
              "25"
            ]
          },
          "metadata": {},
          "execution_count": 21
        }
      ]
    },
    {
      "cell_type": "markdown",
      "metadata": {
        "id": "73fecec2-b9cb-4d8b-a9b9-1d358e63b9a9"
      },
      "source": [
        "### Step 19. What is the price of each item? \n",
        "###### Print a data frame with only two columns item_name and item_price"
      ],
      "id": "73fecec2-b9cb-4d8b-a9b9-1d358e63b9a9"
    },
    {
      "cell_type": "code",
      "metadata": {
        "id": "4fc97242-b5bf-49a0-b278-f31c08f1a1ca",
        "colab": {
          "base_uri": "https://localhost:8080/",
          "height": 202
        },
        "outputId": "34bc6ff4-44bf-497b-c36b-f750eb0832dd"
      },
      "source": [
        "chipo.head(5)"
      ],
      "id": "4fc97242-b5bf-49a0-b278-f31c08f1a1ca",
      "execution_count": null,
      "outputs": [
        {
          "output_type": "execute_result",
          "data": {
            "text/html": [
              "<div>\n",
              "<style scoped>\n",
              "    .dataframe tbody tr th:only-of-type {\n",
              "        vertical-align: middle;\n",
              "    }\n",
              "\n",
              "    .dataframe tbody tr th {\n",
              "        vertical-align: top;\n",
              "    }\n",
              "\n",
              "    .dataframe thead th {\n",
              "        text-align: right;\n",
              "    }\n",
              "</style>\n",
              "<table border=\"1\" class=\"dataframe\">\n",
              "  <thead>\n",
              "    <tr style=\"text-align: right;\">\n",
              "      <th></th>\n",
              "      <th>order_id</th>\n",
              "      <th>quantity</th>\n",
              "      <th>item_name</th>\n",
              "      <th>choice_description</th>\n",
              "      <th>item_price</th>\n",
              "      <th>price_per_item</th>\n",
              "    </tr>\n",
              "  </thead>\n",
              "  <tbody>\n",
              "    <tr>\n",
              "      <th>0</th>\n",
              "      <td>1</td>\n",
              "      <td>1</td>\n",
              "      <td>Chips and Fresh Tomato Salsa</td>\n",
              "      <td>NaN</td>\n",
              "      <td>2.39</td>\n",
              "      <td>2.39</td>\n",
              "    </tr>\n",
              "    <tr>\n",
              "      <th>1</th>\n",
              "      <td>1</td>\n",
              "      <td>1</td>\n",
              "      <td>Izze</td>\n",
              "      <td>[Clementine]</td>\n",
              "      <td>3.39</td>\n",
              "      <td>3.39</td>\n",
              "    </tr>\n",
              "    <tr>\n",
              "      <th>2</th>\n",
              "      <td>1</td>\n",
              "      <td>1</td>\n",
              "      <td>Nantucket Nectar</td>\n",
              "      <td>[Apple]</td>\n",
              "      <td>3.39</td>\n",
              "      <td>3.39</td>\n",
              "    </tr>\n",
              "    <tr>\n",
              "      <th>3</th>\n",
              "      <td>1</td>\n",
              "      <td>1</td>\n",
              "      <td>Chips and Tomatillo-Green Chili Salsa</td>\n",
              "      <td>NaN</td>\n",
              "      <td>2.39</td>\n",
              "      <td>2.39</td>\n",
              "    </tr>\n",
              "    <tr>\n",
              "      <th>4</th>\n",
              "      <td>2</td>\n",
              "      <td>2</td>\n",
              "      <td>Chicken Bowl</td>\n",
              "      <td>[Tomatillo-Red Chili Salsa (Hot), [Black Beans...</td>\n",
              "      <td>16.98</td>\n",
              "      <td>8.49</td>\n",
              "    </tr>\n",
              "  </tbody>\n",
              "</table>\n",
              "</div>"
            ],
            "text/plain": [
              "   order_id  quantity  ... item_price price_per_item\n",
              "0         1         1  ...       2.39           2.39\n",
              "1         1         1  ...       3.39           3.39\n",
              "2         1         1  ...       3.39           3.39\n",
              "3         1         1  ...       2.39           2.39\n",
              "4         2         2  ...      16.98           8.49\n",
              "\n",
              "[5 rows x 6 columns]"
            ]
          },
          "metadata": {},
          "execution_count": 22
        }
      ]
    },
    {
      "cell_type": "code",
      "metadata": {
        "id": "7868c49f-632e-49d1-8fcb-860acdedce2e",
        "colab": {
          "base_uri": "https://localhost:8080/",
          "height": 445
        },
        "outputId": "a1555a29-d945-4450-e931-bb9aa9b63dfb"
      },
      "source": [
        "chipo.groupby(['item_name', 'choice_description']).price_per_item.mean().to_frame()"
      ],
      "id": "7868c49f-632e-49d1-8fcb-860acdedce2e",
      "execution_count": null,
      "outputs": [
        {
          "output_type": "execute_result",
          "data": {
            "text/html": [
              "<div>\n",
              "<style scoped>\n",
              "    .dataframe tbody tr th:only-of-type {\n",
              "        vertical-align: middle;\n",
              "    }\n",
              "\n",
              "    .dataframe tbody tr th {\n",
              "        vertical-align: top;\n",
              "    }\n",
              "\n",
              "    .dataframe thead th {\n",
              "        text-align: right;\n",
              "    }\n",
              "</style>\n",
              "<table border=\"1\" class=\"dataframe\">\n",
              "  <thead>\n",
              "    <tr style=\"text-align: right;\">\n",
              "      <th></th>\n",
              "      <th></th>\n",
              "      <th>price_per_item</th>\n",
              "    </tr>\n",
              "    <tr>\n",
              "      <th>item_name</th>\n",
              "      <th>choice_description</th>\n",
              "      <th></th>\n",
              "    </tr>\n",
              "  </thead>\n",
              "  <tbody>\n",
              "    <tr>\n",
              "      <th rowspan=\"5\" valign=\"top\">6 Pack Soft Drink</th>\n",
              "      <th>[Coke]</th>\n",
              "      <td>6.49</td>\n",
              "    </tr>\n",
              "    <tr>\n",
              "      <th>[Diet Coke]</th>\n",
              "      <td>6.49</td>\n",
              "    </tr>\n",
              "    <tr>\n",
              "      <th>[Lemonade]</th>\n",
              "      <td>6.49</td>\n",
              "    </tr>\n",
              "    <tr>\n",
              "      <th>[Nestea]</th>\n",
              "      <td>6.49</td>\n",
              "    </tr>\n",
              "    <tr>\n",
              "      <th>[Sprite]</th>\n",
              "      <td>6.49</td>\n",
              "    </tr>\n",
              "    <tr>\n",
              "      <th>...</th>\n",
              "      <th>...</th>\n",
              "      <td>...</td>\n",
              "    </tr>\n",
              "    <tr>\n",
              "      <th rowspan=\"5\" valign=\"top\">Veggie Soft Tacos</th>\n",
              "      <th>[Fresh Tomato Salsa, [Black Beans, Cheese, Sour Cream, Lettuce]]</th>\n",
              "      <td>8.75</td>\n",
              "    </tr>\n",
              "    <tr>\n",
              "      <th>[Fresh Tomato Salsa, [Fajita Vegetables, Rice, Black Beans, Pinto Beans, Cheese, Sour Cream, Guacamole, Lettuce]]</th>\n",
              "      <td>11.25</td>\n",
              "    </tr>\n",
              "    <tr>\n",
              "      <th>[Roasted Chili Corn Salsa (Medium), [Black Beans, Fajita Veggies, Cheese, Sour Cream, Lettuce]]</th>\n",
              "      <td>8.49</td>\n",
              "    </tr>\n",
              "    <tr>\n",
              "      <th>[Roasted Chili Corn Salsa, [Fajita Vegetables, Black Beans, Pinto Beans, Cheese, Lettuce]]</th>\n",
              "      <td>8.75</td>\n",
              "    </tr>\n",
              "    <tr>\n",
              "      <th>[Tomatillo Red Chili Salsa, [Fajita Vegetables, Rice, Black Beans, Cheese, Guacamole, Lettuce]]</th>\n",
              "      <td>11.25</td>\n",
              "    </tr>\n",
              "  </tbody>\n",
              "</table>\n",
              "<p>1859 rows × 1 columns</p>\n",
              "</div>"
            ],
            "text/plain": [
              "                                                                      price_per_item\n",
              "item_name         choice_description                                                \n",
              "6 Pack Soft Drink [Coke]                                                        6.49\n",
              "                  [Diet Coke]                                                   6.49\n",
              "                  [Lemonade]                                                    6.49\n",
              "                  [Nestea]                                                      6.49\n",
              "                  [Sprite]                                                      6.49\n",
              "...                                                                              ...\n",
              "Veggie Soft Tacos [Fresh Tomato Salsa, [Black Beans, Cheese, Sour...            8.75\n",
              "                  [Fresh Tomato Salsa, [Fajita Vegetables, Rice, ...           11.25\n",
              "                  [Roasted Chili Corn Salsa (Medium), [Black Bean...            8.49\n",
              "                  [Roasted Chili Corn Salsa, [Fajita Vegetables, ...            8.75\n",
              "                  [Tomatillo Red Chili Salsa, [Fajita Vegetables,...           11.25\n",
              "\n",
              "[1859 rows x 1 columns]"
            ]
          },
          "metadata": {},
          "execution_count": 35
        }
      ]
    },
    {
      "cell_type": "markdown",
      "metadata": {
        "id": "4e071d8a-7a0c-4a11-a5a3-2dfdf2e7ca7a"
      },
      "source": [
        "### Step 20. Sort by the name of the item"
      ],
      "id": "4e071d8a-7a0c-4a11-a5a3-2dfdf2e7ca7a"
    },
    {
      "cell_type": "code",
      "metadata": {
        "id": "5a05af8c-cad6-482f-b575-afab4f8b285c",
        "colab": {
          "base_uri": "https://localhost:8080/",
          "height": 414
        },
        "outputId": "5772970a-bffd-48b6-f3b8-8136323da87d"
      },
      "source": [
        "chipo.sort_values(by='item_name', ignore_index=True)"
      ],
      "id": "5a05af8c-cad6-482f-b575-afab4f8b285c",
      "execution_count": null,
      "outputs": [
        {
          "output_type": "execute_result",
          "data": {
            "text/html": [
              "<div>\n",
              "<style scoped>\n",
              "    .dataframe tbody tr th:only-of-type {\n",
              "        vertical-align: middle;\n",
              "    }\n",
              "\n",
              "    .dataframe tbody tr th {\n",
              "        vertical-align: top;\n",
              "    }\n",
              "\n",
              "    .dataframe thead th {\n",
              "        text-align: right;\n",
              "    }\n",
              "</style>\n",
              "<table border=\"1\" class=\"dataframe\">\n",
              "  <thead>\n",
              "    <tr style=\"text-align: right;\">\n",
              "      <th></th>\n",
              "      <th>order_id</th>\n",
              "      <th>quantity</th>\n",
              "      <th>item_name</th>\n",
              "      <th>choice_description</th>\n",
              "      <th>item_price</th>\n",
              "      <th>price_per_item</th>\n",
              "    </tr>\n",
              "  </thead>\n",
              "  <tbody>\n",
              "    <tr>\n",
              "      <th>0</th>\n",
              "      <td>1360</td>\n",
              "      <td>2</td>\n",
              "      <td>6 Pack Soft Drink</td>\n",
              "      <td>[Diet Coke]</td>\n",
              "      <td>12.98</td>\n",
              "      <td>6.49</td>\n",
              "    </tr>\n",
              "    <tr>\n",
              "      <th>1</th>\n",
              "      <td>148</td>\n",
              "      <td>1</td>\n",
              "      <td>6 Pack Soft Drink</td>\n",
              "      <td>[Diet Coke]</td>\n",
              "      <td>6.49</td>\n",
              "      <td>6.49</td>\n",
              "    </tr>\n",
              "    <tr>\n",
              "      <th>2</th>\n",
              "      <td>749</td>\n",
              "      <td>1</td>\n",
              "      <td>6 Pack Soft Drink</td>\n",
              "      <td>[Coke]</td>\n",
              "      <td>6.49</td>\n",
              "      <td>6.49</td>\n",
              "    </tr>\n",
              "    <tr>\n",
              "      <th>3</th>\n",
              "      <td>754</td>\n",
              "      <td>1</td>\n",
              "      <td>6 Pack Soft Drink</td>\n",
              "      <td>[Diet Coke]</td>\n",
              "      <td>6.49</td>\n",
              "      <td>6.49</td>\n",
              "    </tr>\n",
              "    <tr>\n",
              "      <th>4</th>\n",
              "      <td>1076</td>\n",
              "      <td>1</td>\n",
              "      <td>6 Pack Soft Drink</td>\n",
              "      <td>[Coke]</td>\n",
              "      <td>6.49</td>\n",
              "      <td>6.49</td>\n",
              "    </tr>\n",
              "    <tr>\n",
              "      <th>...</th>\n",
              "      <td>...</td>\n",
              "      <td>...</td>\n",
              "      <td>...</td>\n",
              "      <td>...</td>\n",
              "      <td>...</td>\n",
              "      <td>...</td>\n",
              "    </tr>\n",
              "    <tr>\n",
              "      <th>4617</th>\n",
              "      <td>948</td>\n",
              "      <td>1</td>\n",
              "      <td>Veggie Soft Tacos</td>\n",
              "      <td>[Roasted Chili Corn Salsa, [Fajita Vegetables,...</td>\n",
              "      <td>8.75</td>\n",
              "      <td>8.75</td>\n",
              "    </tr>\n",
              "    <tr>\n",
              "      <th>4618</th>\n",
              "      <td>322</td>\n",
              "      <td>1</td>\n",
              "      <td>Veggie Soft Tacos</td>\n",
              "      <td>[Fresh Tomato Salsa, [Black Beans, Cheese, Sou...</td>\n",
              "      <td>8.75</td>\n",
              "      <td>8.75</td>\n",
              "    </tr>\n",
              "    <tr>\n",
              "      <th>4619</th>\n",
              "      <td>1132</td>\n",
              "      <td>1</td>\n",
              "      <td>Veggie Soft Tacos</td>\n",
              "      <td>[Roasted Chili Corn Salsa (Medium), [Black Bea...</td>\n",
              "      <td>8.49</td>\n",
              "      <td>8.49</td>\n",
              "    </tr>\n",
              "    <tr>\n",
              "      <th>4620</th>\n",
              "      <td>688</td>\n",
              "      <td>1</td>\n",
              "      <td>Veggie Soft Tacos</td>\n",
              "      <td>[Fresh Tomato Salsa, [Fajita Vegetables, Rice,...</td>\n",
              "      <td>11.25</td>\n",
              "      <td>11.25</td>\n",
              "    </tr>\n",
              "    <tr>\n",
              "      <th>4621</th>\n",
              "      <td>567</td>\n",
              "      <td>1</td>\n",
              "      <td>Veggie Soft Tacos</td>\n",
              "      <td>[Fresh Tomato Salsa (Mild), [Pinto Beans, Rice...</td>\n",
              "      <td>8.49</td>\n",
              "      <td>8.49</td>\n",
              "    </tr>\n",
              "  </tbody>\n",
              "</table>\n",
              "<p>4622 rows × 6 columns</p>\n",
              "</div>"
            ],
            "text/plain": [
              "      order_id  quantity  ... item_price price_per_item\n",
              "0         1360         2  ...      12.98           6.49\n",
              "1          148         1  ...       6.49           6.49\n",
              "2          749         1  ...       6.49           6.49\n",
              "3          754         1  ...       6.49           6.49\n",
              "4         1076         1  ...       6.49           6.49\n",
              "...        ...       ...  ...        ...            ...\n",
              "4617       948         1  ...       8.75           8.75\n",
              "4618       322         1  ...       8.75           8.75\n",
              "4619      1132         1  ...       8.49           8.49\n",
              "4620       688         1  ...      11.25          11.25\n",
              "4621       567         1  ...       8.49           8.49\n",
              "\n",
              "[4622 rows x 6 columns]"
            ]
          },
          "metadata": {},
          "execution_count": 36
        }
      ]
    },
    {
      "cell_type": "markdown",
      "metadata": {
        "id": "16c4d979-519f-4ffa-b384-d532606c5fd6"
      },
      "source": [
        "### Step 21. What was the quantity of the most expensive item ordered?"
      ],
      "id": "16c4d979-519f-4ffa-b384-d532606c5fd6"
    },
    {
      "cell_type": "markdown",
      "metadata": {
        "id": "6YWJoI2Z1yit"
      },
      "source": [
        "1.   Most expensive price \n",
        "2.   Find iteam have price = most expensive price\n",
        "1.   Count quantity\n",
        "\n",
        "\n",
        "\n",
        "\n",
        "\n"
      ],
      "id": "6YWJoI2Z1yit"
    },
    {
      "cell_type": "code",
      "metadata": {
        "id": "f8c21e3c-10de-40ec-a797-8b84c2a81df5",
        "colab": {
          "base_uri": "https://localhost:8080/"
        },
        "outputId": "735d7839-068e-41ca-a443-56d07b2c974d"
      },
      "source": [
        "chipo[chipo.price_per_item == chipo.price_per_item.max()].groupby('item_name').quantity.sum()"
      ],
      "id": "f8c21e3c-10de-40ec-a797-8b84c2a81df5",
      "execution_count": null,
      "outputs": [
        {
          "output_type": "execute_result",
          "data": {
            "text/plain": [
              "item_name\n",
              "Barbacoa Salad Bowl     5\n",
              "Carnitas Salad Bowl     4\n",
              "Steak Salad Bowl       21\n",
              "Name: quantity, dtype: int64"
            ]
          },
          "metadata": {},
          "execution_count": 37
        }
      ]
    },
    {
      "cell_type": "markdown",
      "metadata": {
        "id": "7db411b1-1a04-4e27-9c94-dad0aa268023"
      },
      "source": [
        "### Step 22. How many times was a Veggie Salad Bowl ordered?"
      ],
      "id": "7db411b1-1a04-4e27-9c94-dad0aa268023"
    },
    {
      "cell_type": "code",
      "metadata": {
        "id": "d2ce229a-ace1-433b-b96e-41b50fc8ffbf",
        "colab": {
          "base_uri": "https://localhost:8080/"
        },
        "outputId": "881a31db-1789-46fb-d468-85515bf12ad3"
      },
      "source": [
        "chipo[chipo.item_name == 'Veggie Salad Bowl'].order_id.nunique()"
      ],
      "id": "d2ce229a-ace1-433b-b96e-41b50fc8ffbf",
      "execution_count": null,
      "outputs": [
        {
          "output_type": "execute_result",
          "data": {
            "text/plain": [
              "18"
            ]
          },
          "metadata": {},
          "execution_count": 38
        }
      ]
    },
    {
      "cell_type": "markdown",
      "metadata": {
        "tags": [],
        "id": "b0e33f19-fd69-431a-9eaf-ced7fa150f35"
      },
      "source": [
        "### Step 23. How many times did someone order more than one Canned Soda?"
      ],
      "id": "b0e33f19-fd69-431a-9eaf-ced7fa150f35"
    },
    {
      "cell_type": "code",
      "metadata": {
        "id": "ad8f376f-0ff8-4aa9-aefe-b37cc09f21b1"
      },
      "source": [
        ""
      ],
      "id": "ad8f376f-0ff8-4aa9-aefe-b37cc09f21b1",
      "execution_count": null,
      "outputs": []
    },
    {
      "cell_type": "code",
      "metadata": {
        "colab": {
          "base_uri": "https://localhost:8080/",
          "height": 294
        },
        "id": "TUnXJh7v6Dly",
        "outputId": "528dfc1e-f55a-4574-b163-f746dd9b8283"
      },
      "source": [
        "chipo.describe()"
      ],
      "id": "TUnXJh7v6Dly",
      "execution_count": null,
      "outputs": [
        {
          "output_type": "execute_result",
          "data": {
            "text/html": [
              "<div>\n",
              "<style scoped>\n",
              "    .dataframe tbody tr th:only-of-type {\n",
              "        vertical-align: middle;\n",
              "    }\n",
              "\n",
              "    .dataframe tbody tr th {\n",
              "        vertical-align: top;\n",
              "    }\n",
              "\n",
              "    .dataframe thead th {\n",
              "        text-align: right;\n",
              "    }\n",
              "</style>\n",
              "<table border=\"1\" class=\"dataframe\">\n",
              "  <thead>\n",
              "    <tr style=\"text-align: right;\">\n",
              "      <th></th>\n",
              "      <th>order_id</th>\n",
              "      <th>quantity</th>\n",
              "    </tr>\n",
              "  </thead>\n",
              "  <tbody>\n",
              "    <tr>\n",
              "      <th>count</th>\n",
              "      <td>4622.000000</td>\n",
              "      <td>4622.000000</td>\n",
              "    </tr>\n",
              "    <tr>\n",
              "      <th>mean</th>\n",
              "      <td>927.254868</td>\n",
              "      <td>1.075725</td>\n",
              "    </tr>\n",
              "    <tr>\n",
              "      <th>std</th>\n",
              "      <td>528.890796</td>\n",
              "      <td>0.410186</td>\n",
              "    </tr>\n",
              "    <tr>\n",
              "      <th>min</th>\n",
              "      <td>1.000000</td>\n",
              "      <td>1.000000</td>\n",
              "    </tr>\n",
              "    <tr>\n",
              "      <th>25%</th>\n",
              "      <td>477.250000</td>\n",
              "      <td>1.000000</td>\n",
              "    </tr>\n",
              "    <tr>\n",
              "      <th>50%</th>\n",
              "      <td>926.000000</td>\n",
              "      <td>1.000000</td>\n",
              "    </tr>\n",
              "    <tr>\n",
              "      <th>75%</th>\n",
              "      <td>1393.000000</td>\n",
              "      <td>1.000000</td>\n",
              "    </tr>\n",
              "    <tr>\n",
              "      <th>max</th>\n",
              "      <td>1834.000000</td>\n",
              "      <td>15.000000</td>\n",
              "    </tr>\n",
              "  </tbody>\n",
              "</table>\n",
              "</div>"
            ],
            "text/plain": [
              "          order_id     quantity\n",
              "count  4622.000000  4622.000000\n",
              "mean    927.254868     1.075725\n",
              "std     528.890796     0.410186\n",
              "min       1.000000     1.000000\n",
              "25%     477.250000     1.000000\n",
              "50%     926.000000     1.000000\n",
              "75%    1393.000000     1.000000\n",
              "max    1834.000000    15.000000"
            ]
          },
          "metadata": {},
          "execution_count": 48
        }
      ]
    }
  ]
}