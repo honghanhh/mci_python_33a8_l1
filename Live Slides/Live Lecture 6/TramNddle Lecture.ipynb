{
 "cells": [
  {
   "cell_type": "markdown",
   "id": "2b9037cb-2990-4bbd-ad01-cf535a3cf2c4",
   "metadata": {},
   "source": [
    "![](https://upload.wikimedia.org/wikipedia/commons/thumb/e/ed/Pandas_logo.svg/1200px-Pandas_logo.svg.png)"
   ]
  },
  {
   "cell_type": "markdown",
   "id": "d88e446d-207a-4d11-b8c1-38c376beea21",
   "metadata": {},
   "source": [
    "# <center> BÀI 6: THỰC HÀNH CÙNG PANDAS </center>"
   ]
  },
  {
   "cell_type": "markdown",
   "id": "727468a5-d95a-450b-9daf-3c3975e04ffe",
   "metadata": {},
   "source": [
    "## I. Know your dataset"
   ]
  },
  {
   "cell_type": "markdown",
   "id": "b8897de9-5091-498d-b72a-ee1d33b12ca8",
   "metadata": {},
   "source": [
    "This time we are going to pull data directly from the internet.\n",
    "Special thanks to: https://github.com/justmarkham for sharing the dataset and materials.\n",
    "\n",
    "### Step 1. Import the necessary libraries"
   ]
  },
  {
   "cell_type": "code",
   "execution_count": null,
   "id": "ed80e620-fa09-4832-88b4-c81c854153be",
   "metadata": {},
   "outputs": [],
   "source": []
  },
  {
   "cell_type": "markdown",
   "id": "7348c7e4-d4b1-4e17-b88f-67cb5484ae8e",
   "metadata": {},
   "source": [
    "### Step 2. Import the dataset from this [address](https://raw.githubusercontent.com/justmarkham/DAT8/master/data/chipotle.tsv). "
   ]
  },
  {
   "cell_type": "code",
   "execution_count": null,
   "id": "06bc4f65-d016-45b0-9377-c1164aae6f49",
   "metadata": {},
   "outputs": [],
   "source": []
  },
  {
   "cell_type": "markdown",
   "id": "38d4ae04-7108-403f-b61b-77b4c2c96ed0",
   "metadata": {},
   "source": [
    "### Step 3. Assign it to a variable called `chipo`."
   ]
  },
  {
   "cell_type": "code",
   "execution_count": null,
   "id": "172fa51a-4b5d-416e-9cc4-b0ed1b3efeb3",
   "metadata": {},
   "outputs": [],
   "source": []
  },
  {
   "cell_type": "markdown",
   "id": "701ba75b-2987-4163-b76b-1eafa601138b",
   "metadata": {},
   "source": [
    "### Step 4. See the first 10 entries"
   ]
  },
  {
   "cell_type": "code",
   "execution_count": null,
   "id": "15658513-ab79-49fe-9975-6348ed15dcd4",
   "metadata": {},
   "outputs": [],
   "source": []
  },
  {
   "cell_type": "markdown",
   "id": "23f8fa6f-9321-4482-b3b3-1d9386b61ff9",
   "metadata": {},
   "source": [
    "### Step 5. What is the number of observations in the dataset?"
   ]
  },
  {
   "cell_type": "code",
   "execution_count": null,
   "id": "9c57ad50-2459-412d-bfc9-d002a834a046",
   "metadata": {},
   "outputs": [],
   "source": []
  },
  {
   "cell_type": "markdown",
   "id": "a4e54956-cee4-42b1-bd83-efe5bc4f4925",
   "metadata": {},
   "source": [
    "### Step 6. What is the number of columns in the dataset?"
   ]
  },
  {
   "cell_type": "code",
   "execution_count": null,
   "id": "7693093c-91f0-4562-a998-9631846a52f5",
   "metadata": {},
   "outputs": [],
   "source": []
  },
  {
   "cell_type": "markdown",
   "id": "d0cc13fd-05dd-4353-91e1-a779c0ad5317",
   "metadata": {},
   "source": [
    "### Step 7. Print the name of all the columns."
   ]
  },
  {
   "cell_type": "code",
   "execution_count": null,
   "id": "28f89f72-db29-454e-8481-340758765cdc",
   "metadata": {},
   "outputs": [],
   "source": []
  },
  {
   "cell_type": "markdown",
   "id": "520b68e1-3718-4dd1-b224-9c7efecf168a",
   "metadata": {},
   "source": [
    "### Step 8. How is the dataset indexed?"
   ]
  },
  {
   "cell_type": "code",
   "execution_count": null,
   "id": "3cc068d3-7145-4b70-9462-ecc4208b2688",
   "metadata": {},
   "outputs": [],
   "source": []
  },
  {
   "cell_type": "markdown",
   "id": "b5f8b799-2e91-4a19-824e-2eedf36622a0",
   "metadata": {},
   "source": [
    "### Step 9. Which was the most-ordered item? "
   ]
  },
  {
   "cell_type": "code",
   "execution_count": null,
   "id": "070118ee-a6a3-49d2-aeee-d86b279e703b",
   "metadata": {},
   "outputs": [],
   "source": []
  },
  {
   "cell_type": "markdown",
   "id": "afd4845b-7058-4453-89d8-247f8936fed1",
   "metadata": {},
   "source": [
    "### Step 10. For the most-ordered item, how many items were ordered?"
   ]
  },
  {
   "cell_type": "code",
   "execution_count": null,
   "id": "aaa12b4c-2be0-4fca-991b-ba503586ae6e",
   "metadata": {},
   "outputs": [],
   "source": []
  },
  {
   "cell_type": "code",
   "execution_count": null,
   "id": "ab6a841c-999d-4a7a-ab93-8ebf86ee8f68",
   "metadata": {},
   "outputs": [],
   "source": []
  },
  {
   "cell_type": "markdown",
   "id": "86b3ebed-5611-4d6f-b1f4-62511fca355e",
   "metadata": {},
   "source": [
    "### Step 11. What was the most ordered item in the choice_description column?"
   ]
  },
  {
   "cell_type": "code",
   "execution_count": null,
   "id": "2cc129d6-fca6-4792-b9e9-3edae5716aae",
   "metadata": {},
   "outputs": [],
   "source": []
  },
  {
   "cell_type": "code",
   "execution_count": null,
   "id": "c6d4bdaf-9e0e-4017-bec1-455e6f4c7a9e",
   "metadata": {},
   "outputs": [],
   "source": []
  },
  {
   "cell_type": "markdown",
   "id": "a7d1bbf1-d2b8-4f14-93f7-5834b6724bf3",
   "metadata": {},
   "source": [
    "### Step 12. How many items were ordered in total?"
   ]
  },
  {
   "cell_type": "code",
   "execution_count": null,
   "id": "55992a87-6e12-4e93-b501-6b5fe5aa287c",
   "metadata": {},
   "outputs": [],
   "source": []
  },
  {
   "cell_type": "markdown",
   "id": "d1290e0a-c9e9-4f8c-81f0-7dab447a03e0",
   "metadata": {},
   "source": [
    "### Step 13. Turn the item price into a float"
   ]
  },
  {
   "cell_type": "markdown",
   "id": "594ddb5a-ecdb-4888-8e90-f3f51073be47",
   "metadata": {},
   "source": [
    "#### Step 13.a. Check the item price type"
   ]
  },
  {
   "cell_type": "code",
   "execution_count": null,
   "id": "8ba472b8-b519-4ce5-87c6-54c2b84da11d",
   "metadata": {},
   "outputs": [],
   "source": []
  },
  {
   "cell_type": "markdown",
   "id": "bfb8954a-fc72-40ef-8035-b3f1e458bb43",
   "metadata": {},
   "source": [
    "#### Step 13.b. Create a lambda function and change the type of item price"
   ]
  },
  {
   "cell_type": "code",
   "execution_count": null,
   "id": "b4038c85-ab8f-44df-8d72-0334093bb29f",
   "metadata": {},
   "outputs": [],
   "source": []
  },
  {
   "cell_type": "markdown",
   "id": "6a5b449e-afd9-4378-b493-cdc3d91a2be2",
   "metadata": {},
   "source": [
    "#### Step 13.c. Check the item price type"
   ]
  },
  {
   "cell_type": "code",
   "execution_count": null,
   "id": "4a999dbd-c438-4f17-b4a3-01e415ddffd1",
   "metadata": {},
   "outputs": [],
   "source": []
  },
  {
   "cell_type": "markdown",
   "id": "266a0397-b6b6-4fcf-818b-664253382951",
   "metadata": {},
   "source": [
    "### Step 14. How much was the revenue for the period in the dataset?"
   ]
  },
  {
   "cell_type": "code",
   "execution_count": null,
   "id": "c2159a3c-d2a7-49e4-a580-c73abfc71595",
   "metadata": {},
   "outputs": [],
   "source": []
  },
  {
   "cell_type": "markdown",
   "id": "39666c16-8312-4054-9990-cfe9915b3185",
   "metadata": {},
   "source": [
    "### Step 15. How many orders were made in the period?"
   ]
  },
  {
   "cell_type": "code",
   "execution_count": null,
   "id": "14d19666-0f1e-4e38-afb0-621547c381b9",
   "metadata": {},
   "outputs": [],
   "source": []
  },
  {
   "cell_type": "markdown",
   "id": "5263375a-98fe-4ecb-b312-e5de4c35a787",
   "metadata": {},
   "source": [
    "### Step 16. What is the average revenue amount per order?"
   ]
  },
  {
   "cell_type": "code",
   "execution_count": null,
   "id": "a6f24f22-72fe-49a0-9243-db113b503a37",
   "metadata": {},
   "outputs": [],
   "source": []
  },
  {
   "cell_type": "markdown",
   "id": "1d5b49ad-47c2-4677-b292-646c8d316ee0",
   "metadata": {},
   "source": [
    "### Step 17. How many different items are sold?"
   ]
  },
  {
   "cell_type": "code",
   "execution_count": null,
   "id": "716833ff-6fec-4078-b437-3fe9864d09a8",
   "metadata": {},
   "outputs": [],
   "source": []
  },
  {
   "cell_type": "markdown",
   "id": "19ef5955-3916-4424-bba7-00d2c9e8cfc9",
   "metadata": {},
   "source": [
    "## II. Filtering & Sorting"
   ]
  },
  {
   "cell_type": "markdown",
   "id": "e1ac8cf2-1237-4c71-ab13-821c27a1439e",
   "metadata": {},
   "source": [
    "### Step 18. How many products cost more than $10.00?"
   ]
  },
  {
   "cell_type": "code",
   "execution_count": null,
   "id": "7f9d755c-e55b-4db7-b182-ce16238a709e",
   "metadata": {},
   "outputs": [],
   "source": []
  },
  {
   "cell_type": "code",
   "execution_count": null,
   "id": "0b006e35-a98d-47a8-b4be-5eb9d3ba744f",
   "metadata": {},
   "outputs": [],
   "source": []
  },
  {
   "cell_type": "markdown",
   "id": "73fecec2-b9cb-4d8b-a9b9-1d358e63b9a9",
   "metadata": {},
   "source": [
    "### Step 19. What is the price of each item? \n",
    "###### Print a data frame with only two columns item_name and item_price"
   ]
  },
  {
   "cell_type": "code",
   "execution_count": null,
   "id": "4fc97242-b5bf-49a0-b278-f31c08f1a1ca",
   "metadata": {},
   "outputs": [],
   "source": []
  },
  {
   "cell_type": "code",
   "execution_count": null,
   "id": "7868c49f-632e-49d1-8fcb-860acdedce2e",
   "metadata": {},
   "outputs": [],
   "source": []
  },
  {
   "cell_type": "markdown",
   "id": "4e071d8a-7a0c-4a11-a5a3-2dfdf2e7ca7a",
   "metadata": {},
   "source": [
    "### Step 20. Sort by the name of the item"
   ]
  },
  {
   "cell_type": "code",
   "execution_count": null,
   "id": "5a05af8c-cad6-482f-b575-afab4f8b285c",
   "metadata": {},
   "outputs": [],
   "source": []
  },
  {
   "cell_type": "markdown",
   "id": "16c4d979-519f-4ffa-b384-d532606c5fd6",
   "metadata": {},
   "source": [
    "### Step 21. What was the quantity of the most expensive item ordered?"
   ]
  },
  {
   "cell_type": "code",
   "execution_count": null,
   "id": "f8c21e3c-10de-40ec-a797-8b84c2a81df5",
   "metadata": {},
   "outputs": [],
   "source": []
  },
  {
   "cell_type": "markdown",
   "id": "7db411b1-1a04-4e27-9c94-dad0aa268023",
   "metadata": {},
   "source": [
    "### Step 22. How many times was a Veggie Salad Bowl ordered?"
   ]
  },
  {
   "cell_type": "code",
   "execution_count": null,
   "id": "d2ce229a-ace1-433b-b96e-41b50fc8ffbf",
   "metadata": {},
   "outputs": [],
   "source": []
  },
  {
   "cell_type": "markdown",
   "id": "b0e33f19-fd69-431a-9eaf-ced7fa150f35",
   "metadata": {
    "tags": []
   },
   "source": [
    "### Step 23. How many times did someone order more than one Canned Soda?"
   ]
  },
  {
   "cell_type": "code",
   "execution_count": null,
   "id": "ad8f376f-0ff8-4aa9-aefe-b37cc09f21b1",
   "metadata": {},
   "outputs": [],
   "source": []
  }
 ],
 "metadata": {
  "kernelspec": {
   "display_name": "Python 3 (ipykernel)",
   "language": "python",
   "name": "python3"
  },
  "language_info": {
   "codemirror_mode": {
    "name": "ipython",
    "version": 3
   },
   "file_extension": ".py",
   "mimetype": "text/x-python",
   "name": "python",
   "nbconvert_exporter": "python",
   "pygments_lexer": "ipython3",
   "version": "3.7.11"
  }
 },
 "nbformat": 4,
 "nbformat_minor": 5
}
