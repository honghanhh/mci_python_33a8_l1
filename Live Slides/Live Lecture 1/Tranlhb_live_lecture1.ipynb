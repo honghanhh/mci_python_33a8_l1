{
 "cells": [
  {
   "cell_type": "code",
   "execution_count": 1,
   "id": "a20e7d46-0792-45ed-91e3-b9fd3881c0d0",
   "metadata": {},
   "outputs": [
    {
     "data": {
      "text/plain": [
       "2"
      ]
     },
     "execution_count": 1,
     "metadata": {},
     "output_type": "execute_result"
    }
   ],
   "source": [
    "1+1"
   ]
  },
  {
   "cell_type": "code",
   "execution_count": 3,
   "id": "1dc9d8b5-9c7e-49ae-a88b-febc11325167",
   "metadata": {},
   "outputs": [
    {
     "name": "stdout",
     "output_type": "stream",
     "text": [
      "Hello world\n"
     ]
    }
   ],
   "source": [
    "print(\"Hello world\")"
   ]
  },
  {
   "cell_type": "code",
   "execution_count": null,
   "id": "99ef35c4-73e8-4f67-8060-902125c2d4b2",
   "metadata": {},
   "outputs": [],
   "source": []
  },
  {
   "cell_type": "markdown",
   "id": "eb62331e-d39b-491c-8e43-231823061d47",
   "metadata": {},
   "source": [
    "1 + 1"
   ]
  },
  {
   "cell_type": "markdown",
   "id": "68635db5-deb4-4e8c-b564-67db3b6e5f1f",
   "metadata": {},
   "source": [
    "2 types: \n",
    "Cell code\n",
    "Cell markdown "
   ]
  },
  {
   "cell_type": "raw",
   "id": "8946f26f-0035-443f-b065-20d88c854360",
   "metadata": {},
   "source": [
    "Shortcuts:\n",
    "- Run: Shift + return (mac) , Shift + enter (wd) \n",
    "- Convert cell code to cell markdown: Esc + m\n",
    "- Convert cell markdown to cell code: Esc + y \n",
    "- Insert cell above: Esc + a \n",
    "- Insert cell below: Esc + b "
   ]
  },
  {
   "cell_type": "code",
   "execution_count": null,
   "id": "ebab34e2-36cc-4546-8bad-88520594f12f",
   "metadata": {},
   "outputs": [],
   "source": []
  }
 ],
 "metadata": {
  "kernelspec": {
   "display_name": "Python 3",
   "language": "python",
   "name": "python3"
  },
  "language_info": {
   "codemirror_mode": {
    "name": "ipython",
    "version": 3
   },
   "file_extension": ".py",
   "mimetype": "text/x-python",
   "name": "python",
   "nbconvert_exporter": "python",
   "pygments_lexer": "ipython3",
   "version": "3.8.8"
  }
 },
 "nbformat": 4,
 "nbformat_minor": 5
}
