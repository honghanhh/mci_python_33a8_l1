{
 "cells": [
  {
   "cell_type": "code",
   "execution_count": 1,
   "id": "028aeddc-d724-46be-afdb-1fb3f86d8ef0",
   "metadata": {},
   "outputs": [
    {
     "data": {
      "text/plain": [
       "2"
      ]
     },
     "execution_count": 1,
     "metadata": {},
     "output_type": "execute_result"
    }
   ],
   "source": [
    "1+1"
   ]
  },
  {
   "cell_type": "code",
   "execution_count": 2,
   "id": "46418b97-fb64-4320-918c-fad3e726ddf5",
   "metadata": {},
   "outputs": [
    {
     "name": "stdout",
     "output_type": "stream",
     "text": [
      "Xin chào\n"
     ]
    }
   ],
   "source": [
    "print(\"Xin chào\")"
   ]
  },
  {
   "cell_type": "markdown",
   "id": "be3e3708-40e7-4e3b-b925-b492bc9dd294",
   "metadata": {},
   "source": [
    "Ghi chú ***"
   ]
  },
  {
   "cell_type": "code",
   "execution_count": null,
   "id": "0a0495c3-9e6c-475f-a749-c7fb2dd00940",
   "metadata": {},
   "outputs": [],
   "source": []
  }
 ],
 "metadata": {
  "kernelspec": {
   "display_name": "Python 3 (ipykernel)",
   "language": "python",
   "name": "python3"
  },
  "language_info": {
   "codemirror_mode": {
    "name": "ipython",
    "version": 3
   },
   "file_extension": ".py",
   "mimetype": "text/x-python",
   "name": "python",
   "nbconvert_exporter": "python",
   "pygments_lexer": "ipython3",
   "version": "3.8.11"
  }
 },
 "nbformat": 4,
 "nbformat_minor": 5
}
