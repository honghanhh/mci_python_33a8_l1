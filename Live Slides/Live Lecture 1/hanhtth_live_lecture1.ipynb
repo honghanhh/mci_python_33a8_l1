{
 "cells": [
  {
   "cell_type": "code",
   "execution_count": 3,
   "id": "677d0664-2a28-4f79-aecf-6c90479518bb",
   "metadata": {},
   "outputs": [
    {
     "data": {
      "text/plain": [
       "2"
      ]
     },
     "execution_count": 3,
     "metadata": {},
     "output_type": "execute_result"
    }
   ],
   "source": [
    "1 + 1"
   ]
  },
  {
   "cell_type": "code",
   "execution_count": null,
   "id": "c0bcec4b-c0e8-4602-8378-0aa05dd9e8ed",
   "metadata": {},
   "outputs": [],
   "source": [
    "print(\"Hello world\")"
   ]
  },
  {
   "cell_type": "code",
   "execution_count": null,
   "id": "aa95f442-2a7b-4afd-8e5f-087e203e804d",
   "metadata": {},
   "outputs": [],
   "source": []
  },
  {
   "cell_type": "code",
   "execution_count": null,
   "id": "10f03fbd-20a2-4430-8a3b-c307c9693236",
   "metadata": {},
   "outputs": [],
   "source": []
  },
  {
   "cell_type": "code",
   "execution_count": null,
   "id": "ffc6bce0-c8d3-470d-bedf-af56a405740f",
   "metadata": {},
   "outputs": [],
   "source": []
  },
  {
   "cell_type": "markdown",
   "id": "0daebd7e-3cb6-46a5-8fdb-491c7ce6cfce",
   "metadata": {},
   "source": [
    "1 + 1"
   ]
  },
  {
   "cell_type": "markdown",
   "id": "d6cc26f1-f01e-48d4-bd68-a27221037652",
   "metadata": {},
   "source": [
    "2 types:\n",
    "- Cell code\n",
    "- Cell markdown"
   ]
  },
  {
   "cell_type": "markdown",
   "id": "df5f6c85-1ca8-4952-99a2-7a95feb7a464",
   "metadata": {},
   "source": [
    "Shortcuts:\n",
    "- Run: Shift + Return (Mac), Shift + Enter (Windows)\n",
    "- Convert cell code to cell mardown: Esc + m\n",
    "- Convert cell markdown to cell code: Esc + y"
   ]
  },
  {
   "cell_type": "code",
   "execution_count": null,
   "id": "fc03c84c-2307-4307-981a-4ae4f7c55632",
   "metadata": {},
   "outputs": [],
   "source": []
  }
 ],
 "metadata": {
  "kernelspec": {
   "display_name": "Python 3",
   "language": "python",
   "name": "python3"
  },
  "language_info": {
   "codemirror_mode": {
    "name": "ipython",
    "version": 3
   },
   "file_extension": ".py",
   "mimetype": "text/x-python",
   "name": "python",
   "nbconvert_exporter": "python",
   "pygments_lexer": "ipython3",
   "version": "3.7.11"
  }
 },
 "nbformat": 4,
 "nbformat_minor": 5
}
