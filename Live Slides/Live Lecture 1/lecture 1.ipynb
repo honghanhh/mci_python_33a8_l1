{
 "cells": [
  {
   "cell_type": "code",
   "execution_count": null,
   "id": "9a8a1e0d-df22-452f-8657-c745aed355f8",
   "metadata": {},
   "outputs": [],
   "source": [
    "1 + 1 "
   ]
  },
  {
   "cell_type": "code",
   "execution_count": null,
   "id": "f23878e2-bf84-42a4-a3f1-4b59f09806d9",
   "metadata": {},
   "outputs": [],
   "source": [
    "print(\"hi\")"
   ]
  },
  {
   "cell_type": "markdown",
   "id": "0e708572-cb34-47f5-8202-ec70525f1995",
   "metadata": {
    "tags": []
   },
   "source": [
    "2 types: "
   ]
  },
  {
   "cell_type": "code",
   "execution_count": null,
   "id": "16a98534-6d8f-4e9a-9c9d-ebb496f0a41f",
   "metadata": {},
   "outputs": [],
   "source": [
    "- Cell code \n",
    "- Cell markdown"
   ]
  },
  {
   "cell_type": "code",
   "execution_count": null,
   "id": "336aaf53-69ea-4b0e-9764-f76600ae7e2c",
   "metadata": {},
   "outputs": [],
   "source": [
    "Shortcuts:\n",
    "- Run: Shift + Enter (windows) \n",
    "- Convert cell code to cell markdown: Esc + m\n",
    "- Convert cell markdown to cell down: Esc + y"
   ]
  },
  {
   "cell_type": "code",
   "execution_count": null,
   "id": "b069b6a9-fa57-4c9c-b1f6-b7b6713d38fb",
   "metadata": {},
   "outputs": [],
   "source": []
  },
  {
   "cell_type": "code",
   "execution_count": null,
   "id": "da62757b-f84c-432a-9f56-ff2653094e98",
   "metadata": {},
   "outputs": [],
   "source": []
  },
  {
   "cell_type": "code",
   "execution_count": null,
   "id": "2becbee0-3c99-4aa2-a095-503ecb25dc07",
   "metadata": {},
   "outputs": [],
   "source": []
  }
 ],
 "metadata": {
  "kernelspec": {
   "display_name": "Python 3 (ipykernel)",
   "language": "python",
   "name": "python3"
  },
  "language_info": {
   "name": ""
  }
 },
 "nbformat": 4,
 "nbformat_minor": 5
}
