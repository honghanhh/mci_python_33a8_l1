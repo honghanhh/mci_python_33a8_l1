{
 "cells": [
  {
   "cell_type": "code",
   "execution_count": 3,
   "id": "dbc5a10c-5223-408d-94e6-8f86284d285c",
   "metadata": {},
   "outputs": [
    {
     "name": "stdin",
     "output_type": "stream",
     "text": [
      " 2002\n"
     ]
    },
    {
     "name": "stdout",
     "output_type": "stream",
     "text": [
      "Happy Birthday : 19\n"
     ]
    }
   ],
   "source": [
    "birthday = int(input())\n",
    "year_old = 2021 - birthday\n",
    "print('Happy Birthday :', year_old)"
   ]
  },
  {
   "cell_type": "code",
   "execution_count": null,
   "id": "f071c667-dfa3-4c3c-83dd-8db6cbc8b56e",
   "metadata": {},
   "outputs": [],
   "source": []
  }
 ],
 "metadata": {
  "kernelspec": {
   "display_name": "Python 3 (ipykernel)",
   "language": "python",
   "name": "python3"
  },
  "language_info": {
   "codemirror_mode": {
    "name": "ipython",
    "version": 3
   },
   "file_extension": ".py",
   "mimetype": "text/x-python",
   "name": "python",
   "nbconvert_exporter": "python",
   "pygments_lexer": "ipython3",
   "version": "3.8.11"
  }
 },
 "nbformat": 4,
 "nbformat_minor": 5
}
