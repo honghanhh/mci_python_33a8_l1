{
 "cells": [
  {
   "cell_type": "code",
   "execution_count": 1,
   "id": "1e6a2972-79ef-4992-9c7a-503ebe0fcac9",
   "metadata": {},
   "outputs": [
    {
     "data": {
      "text/plain": [
       "2"
      ]
     },
     "execution_count": 1,
     "metadata": {},
     "output_type": "execute_result"
    }
   ],
   "source": [
    "1+1"
   ]
  },
  {
   "cell_type": "code",
   "execution_count": 2,
   "id": "047f49d3-020e-4a18-8711-88ae2142a9b7",
   "metadata": {},
   "outputs": [
    {
     "name": "stdout",
     "output_type": "stream",
     "text": [
      "Hello\n"
     ]
    }
   ],
   "source": [
    "print (\"Hello\")"
   ]
  },
  {
   "cell_type": "markdown",
   "id": "9bd4a206-d0db-483f-9c43-046530577851",
   "metadata": {},
   "source": [
    "Run 1+1 =2 "
   ]
  },
  {
   "cell_type": "markdown",
   "id": "1bbd98d5-8226-4005-836d-98e4730bbc61",
   "metadata": {},
   "source": [
    "Run \"Hello\""
   ]
  },
  {
   "cell_type": "code",
   "execution_count": null,
   "id": "1d59b100-bd38-48af-87df-f3978ba33b55",
   "metadata": {},
   "outputs": [],
   "source": []
  }
 ],
 "metadata": {
  "kernelspec": {
   "display_name": "Python 3 (ipykernel)",
   "language": "python",
   "name": "python3"
  },
  "language_info": {
   "codemirror_mode": {
    "name": "ipython",
    "version": 3
   },
   "file_extension": ".py",
   "mimetype": "text/x-python",
   "name": "python",
   "nbconvert_exporter": "python",
   "pygments_lexer": "ipython3",
   "version": "3.7.11"
  }
 },
 "nbformat": 4,
 "nbformat_minor": 5
}
