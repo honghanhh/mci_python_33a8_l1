{
 "cells": [
  {
   "cell_type": "markdown",
   "id": "4b831e3e-da96-4cf4-aa75-8d8374a93957",
   "metadata": {},
   "source": [
    "![](https://i.ytimg.com/vi/bVOHeROLNyQ/maxresdefault.jpg)"
   ]
  },
  {
   "cell_type": "code",
   "execution_count": null,
   "id": "6402114d-4c88-4ce5-b549-c41caa81d362",
   "metadata": {},
   "outputs": [],
   "source": []
  }
 ],
 "metadata": {
  "kernelspec": {
   "display_name": "Python 3",
   "language": "python",
   "name": "python3"
  },
  "language_info": {
   "codemirror_mode": {
    "name": "ipython",
    "version": 3
   },
   "file_extension": ".py",
   "mimetype": "text/x-python",
   "name": "python",
   "nbconvert_exporter": "python",
   "pygments_lexer": "ipython3",
   "version": "3.7.11"
  }
 },
 "nbformat": 4,
 "nbformat_minor": 5
}
