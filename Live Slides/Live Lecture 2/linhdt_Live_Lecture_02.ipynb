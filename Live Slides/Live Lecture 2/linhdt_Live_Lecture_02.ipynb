{
 "cells": [
  {
   "cell_type": "markdown",
   "id": "c1d182e6-3239-4517-86b7-c2bce677319d",
   "metadata": {},
   "source": [
    "# <center> Bài 2: Giới thiệu về PYTHON </center>\n",
    "![](https://laptrinhcanban.com/python/nhap-mon-lap-trinh-python/gioi-thieu-python/python-la-gi/Python.jpg)"
   ]
  },
  {
   "cell_type": "markdown",
   "id": "94b15aae-5abd-4c3e-9356-76c6288d07de",
   "metadata": {
    "tags": []
   },
   "source": [
    "## I. GIỚI THIỆU\n",
    "\n",
    "![Độ phổ biến của 1 số ngôn ngữ lập trình được sử dụng trên các kho lưu trữ trên GitHub.](./img/python.png)\n",
    "> *Độ phổ biến của 1 số ngôn ngữ lập trình được sử dụng trên các kho lưu trữ trên GitHub tính đến tháng 4/2014 theo [Githut](https://githut.info/).*"
   ]
  },
  {
   "cell_type": "markdown",
   "id": "fc5c6b0a-dd30-4a67-b3a0-41ca10ce5d6c",
   "metadata": {},
   "source": [
    "Chương trình đầu tiên `print('Hello, world')`."
   ]
  },
  {
   "cell_type": "code",
   "execution_count": 1,
   "id": "0cb31b69-b04e-4fa2-aac1-e98b56f5a2bd",
   "metadata": {},
   "outputs": [
    {
     "name": "stdout",
     "output_type": "stream",
     "text": [
      "helo, world\n",
      "2\n"
     ]
    }
   ],
   "source": [
    "#built-in function or user defined fuction\n",
    "print('helo, world')# built-in function ten_ham()-> keywword, màu xanh lá cây\n",
    "print(2)"
   ]
  },
  {
   "cell_type": "markdown",
   "id": "323186fe-887b-482c-af41-1e41b80a3af4",
   "metadata": {},
   "source": [
    "Dòng chú thích (Comments):"
   ]
  },
  {
   "cell_type": "code",
   "execution_count": null,
   "id": "5a056565-6581-43ee-96ff-6d01df635110",
   "metadata": {},
   "outputs": [],
   "source": [
    "#dấu chú thích:định nghĩa chú thích,cmt note cho câu lệnh chạy, comment after '#'"
   ]
  },
  {
   "cell_type": "markdown",
   "id": "613dd760-4867-4c96-ae47-379483fec098",
   "metadata": {},
   "source": [
    "Chú thích nhiều dòng:"
   ]
  },
  {
   "cell_type": "code",
   "execution_count": null,
   "id": "7f4957fd-07f3-4be2-b71f-9c8e15d3b64e",
   "metadata": {},
   "outputs": [],
   "source": [
    "# #Use print fuction\n",
    "# to\n",
    "# print \"hello\""
   ]
  },
  {
   "cell_type": "code",
   "execution_count": 2,
   "id": "da9a7281-7d56-486c-9d55-b0f174ffb6f8",
   "metadata": {},
   "outputs": [
    {
     "name": "stdout",
     "output_type": "stream",
     "text": [
      "hello, Linh\n"
     ]
    }
   ],
   "source": [
    "'''\n",
    "Use print function\n",
    "to \n",
    "print \"Hello,Linh\"\n",
    "'''\n",
    "print('hello, Linh')"
   ]
  },
  {
   "cell_type": "markdown",
   "id": "08065013-65a2-4035-94c0-ea6078793130",
   "metadata": {},
   "source": [
    "Ok, bây giờ chúng ta sẽ cũng nhau tìm hiểu sâu hơn về các thành phần cơ bản trong Python nha."
   ]
  },
  {
   "cell_type": "markdown",
   "id": "05b3fc2a-73e7-41bd-88ad-562f1e9051a8",
   "metadata": {},
   "source": [
    "## II. CÁC THÀNH PHẦN CƠ BẢN TRONG PYTHON "
   ]
  },
  {
   "cell_type": "markdown",
   "id": "851db246-0092-480a-8f58-76810e4cb20c",
   "metadata": {},
   "source": [
    "### 1. Biến (Variables)"
   ]
  },
  {
   "cell_type": "markdown",
   "id": "7e931684-b6a5-4214-a196-bb5f3afe7f91",
   "metadata": {},
   "source": [
    "#### 1.1 Khởi tạo biến \n",
    "\n",
    "Để khai báo biến trong Python thì mọi người sử dụng cú pháp `tên_biến = giá_trị`, trong đó:\n",
    "- `tên_biến`: tên của biến mà các bạn muốn đặt. \n",
    "- `giá_trị` : giá trị của biến mà bạn muốn gán.\n",
    "- `=`: phép gán."
   ]
  },
  {
   "cell_type": "code",
   "execution_count": 3,
   "id": "4e3ca51c-a622-46d0-a250-e9123c937362",
   "metadata": {},
   "outputs": [
    {
     "data": {
      "text/plain": [
       "974774598660415269"
      ]
     },
     "execution_count": 3,
     "metadata": {},
     "output_type": "execute_result"
    }
   ],
   "source": [
    "123456789*7895674321"
   ]
  },
  {
   "cell_type": "code",
   "execution_count": 5,
   "id": "ffa45d91-76c0-4dbd-92f1-cd60a07c127c",
   "metadata": {},
   "outputs": [
    {
     "data": {
      "text/plain": [
       "974774687559514034"
      ]
     },
     "execution_count": 5,
     "metadata": {},
     "output_type": "execute_result"
    }
   ],
   "source": [
    "974774598660415269+88899098765"
   ]
  },
  {
   "cell_type": "code",
   "execution_count": 7,
   "id": "8cdf4484-b529-49c1-8317-c56238e561bc",
   "metadata": {},
   "outputs": [],
   "source": [
    "x = 'linh'\n",
    "y=1234568790983782672682\n",
    "z=8983635727362736282738"
   ]
  },
  {
   "cell_type": "code",
   "execution_count": 8,
   "id": "4c3a6ae1-e1db-4eb8-b742-7ef690d0a430",
   "metadata": {},
   "outputs": [
    {
     "data": {
      "text/plain": [
       "10218204518346518955420"
      ]
     },
     "execution_count": 8,
     "metadata": {},
     "output_type": "execute_result"
    }
   ],
   "source": [
    "y+z"
   ]
  },
  {
   "cell_type": "code",
   "execution_count": 10,
   "id": "1afb8370-4d4c-4e6a-80fe-c9fe2f59224f",
   "metadata": {},
   "outputs": [],
   "source": [
    "x, y, z = 'linh', 122345, 9876654314568"
   ]
  },
  {
   "cell_type": "code",
   "execution_count": null,
   "id": "adb8b665-cc83-4e31-b629-5cf6e5e92ec8",
   "metadata": {},
   "outputs": [],
   "source": [
    "# # không được đặt tên trùng keyword của python\n",
    "# không đặt số đứng đầu\n",
    "# num, Num,nuM"
   ]
  },
  {
   "cell_type": "markdown",
   "id": "662a7150-7890-4424-b6c2-3d834c83ce68",
   "metadata": {},
   "source": [
    "#### 1.2 Các kiểu dữ liệu"
   ]
  },
  {
   "cell_type": "markdown",
   "id": "769f4a3f-5702-4818-ac19-5311bd6747c1",
   "metadata": {},
   "source": [
    "|Kiểu dữ liệu|Ý nghĩa|Ví dụ|\n",
    "|-|-|-|\n",
    "|`int`|Kiểu số nguyên (không có chứa dấu chấm thập phân)|`11`, `-15`|\n",
    "|`float`|Kiểu số thực (có chứa dấu chấm thập phân)|`3.14`, `4.02`|\n",
    "|`complex`|Kiểu số phức|`1 + 2j`, `3 - 4j`|\n",
    "|`str`|Kiểu chuỗi|`'MCI'`,`'Python'`|\n",
    "|`bool`|Kiểu luận lý|`TRUE`, `FALSE`|"
   ]
  },
  {
   "cell_type": "markdown",
   "id": "0e316786-a879-4011-aac7-3de6dc08ed29",
   "metadata": {},
   "source": [
    "#### 1.3 Kiểm tra kiểu dữ liệu của biến"
   ]
  },
  {
   "cell_type": "markdown",
   "id": "a65b57a8-4c5d-4768-b715-b839462cc73d",
   "metadata": {},
   "source": [
    "Để kiểm tra kiểu dữ liệu giá trị của một biến đã khởi tạo, ta sử dụng hàm `type()`\n",
    "- Cú pháp: `type(tên_biến)`"
   ]
  },
  {
   "cell_type": "code",
   "execution_count": 11,
   "id": "a82921f8-e047-4d39-8597-e6a40ba4b94c",
   "metadata": {},
   "outputs": [
    {
     "data": {
      "text/plain": [
       "str"
      ]
     },
     "execution_count": 11,
     "metadata": {},
     "output_type": "execute_result"
    }
   ],
   "source": [
    "type(x)"
   ]
  },
  {
   "cell_type": "code",
   "execution_count": 12,
   "id": "89be6864-33f3-4797-bfdb-eb13017664ac",
   "metadata": {},
   "outputs": [
    {
     "data": {
      "text/plain": [
       "float"
      ]
     },
     "execution_count": 12,
     "metadata": {},
     "output_type": "execute_result"
    }
   ],
   "source": [
    "type(3.14)"
   ]
  },
  {
   "cell_type": "code",
   "execution_count": 13,
   "id": "30cb7a6e-431c-45d1-a9a7-d9822c8fe648",
   "metadata": {},
   "outputs": [
    {
     "data": {
      "text/plain": [
       "bool"
      ]
     },
     "execution_count": 13,
     "metadata": {},
     "output_type": "execute_result"
    }
   ],
   "source": [
    "type(1>2)"
   ]
  },
  {
   "cell_type": "markdown",
   "id": "6bed03de-58bf-4e01-8692-022acf964c30",
   "metadata": {},
   "source": [
    "### 2. Toán tử số học\n",
    "|Phép toán|Biểu thức|Ý nghĩa |\n",
    "|-|-|-|\n",
    "|+|`x + y`|Phép cộng|\n",
    "|-|`x - y`|Phép trừ|\n",
    "|*|`x * y`|Phép nhân|\n",
    "|/|`x / y`|Phép chia|\n",
    "|%|`x % y`|Phép chia lấy phần dư|\n",
    "|//|`x // y`|Phép chia làm tròn xuống|\n",
    "|**|`x ** y`|Phép mũ|"
   ]
  },
  {
   "cell_type": "code",
   "execution_count": null,
   "id": "a269da62-d520-47ba-a088-1e2c26833dd0",
   "metadata": {},
   "outputs": [],
   "source": [
    "#% chia lấy phần dư modulob"
   ]
  },
  {
   "cell_type": "code",
   "execution_count": 14,
   "id": "02cee04a-5f99-4895-af75-7baa1e2255da",
   "metadata": {},
   "outputs": [],
   "source": [
    "x, y = 11, 13"
   ]
  },
  {
   "cell_type": "code",
   "execution_count": 15,
   "id": "ae501e6e-ba35-40f9-aec3-3d64ff1ddcb7",
   "metadata": {},
   "outputs": [
    {
     "data": {
      "text/plain": [
       "24"
      ]
     },
     "execution_count": 15,
     "metadata": {},
     "output_type": "execute_result"
    }
   ],
   "source": [
    "x+y"
   ]
  },
  {
   "cell_type": "code",
   "execution_count": 16,
   "id": "f17c8752-9e46-44a1-b50f-b32611905af8",
   "metadata": {},
   "outputs": [
    {
     "data": {
      "text/plain": [
       "0.8461538461538461"
      ]
     },
     "execution_count": 16,
     "metadata": {},
     "output_type": "execute_result"
    }
   ],
   "source": [
    "x/y"
   ]
  },
  {
   "cell_type": "code",
   "execution_count": 17,
   "id": "9a9e7bcf-95c5-4288-adf1-eb25f06f6d41",
   "metadata": {},
   "outputs": [
    {
     "data": {
      "text/plain": [
       "5.5"
      ]
     },
     "execution_count": 17,
     "metadata": {},
     "output_type": "execute_result"
    }
   ],
   "source": [
    "x**1/2"
   ]
  },
  {
   "cell_type": "code",
   "execution_count": 18,
   "id": "80361229-6616-4b92-918c-6b251e0f380b",
   "metadata": {},
   "outputs": [
    {
     "data": {
      "text/plain": [
       "3.3166247903554"
      ]
     },
     "execution_count": 18,
     "metadata": {},
     "output_type": "execute_result"
    }
   ],
   "source": [
    "x**(1/2)"
   ]
  },
  {
   "cell_type": "code",
   "execution_count": 19,
   "id": "c9cbec60-2e41-4fb2-b6db-0bbf86d77a0a",
   "metadata": {},
   "outputs": [
    {
     "data": {
      "text/plain": [
       "3.3166247903554"
      ]
     },
     "execution_count": 19,
     "metadata": {},
     "output_type": "execute_result"
    }
   ],
   "source": [
    "import math\n",
    "math.sqrt(x)"
   ]
  },
  {
   "cell_type": "code",
   "execution_count": 20,
   "id": "4f54fead-be87-448c-bd00-09768799d309",
   "metadata": {},
   "outputs": [
    {
     "data": {
      "text/plain": [
       "3"
      ]
     },
     "execution_count": 20,
     "metadata": {},
     "output_type": "execute_result"
    }
   ],
   "source": [
    "round(3,91)\n",
    "round(3.19)"
   ]
  },
  {
   "cell_type": "code",
   "execution_count": 22,
   "id": "72ccfe49-1fe6-4d76-acd4-a54453134c28",
   "metadata": {},
   "outputs": [
    {
     "data": {
      "text/plain": [
       "4"
      ]
     },
     "execution_count": 22,
     "metadata": {},
     "output_type": "execute_result"
    }
   ],
   "source": [
    "math.ceil(3.19)"
   ]
  },
  {
   "cell_type": "markdown",
   "id": "ef8e5cc1-45c9-4bd9-bfd1-fa86c5850ba8",
   "metadata": {},
   "source": [
    "### 3. Toán tử luận lý"
   ]
  },
  {
   "cell_type": "code",
   "execution_count": null,
   "id": "5f0668e3-1305-46d5-8eba-3a6a64307f96",
   "metadata": {},
   "outputs": [],
   "source": [
    "# And Both true\n",
    "# Or : either\n",
    "# Not: True nếu X sai và False nếu X đúng, không phải đúng thì là sai, ko phải sai thì là đúng\n",
    "# not true thì là false"
   ]
  },
  {
   "cell_type": "code",
   "execution_count": 24,
   "id": "5dc7ebd1-7cdb-4c7d-bc49-b5437b4eec67",
   "metadata": {},
   "outputs": [
    {
     "data": {
      "text/plain": [
       "False"
      ]
     },
     "execution_count": 24,
     "metadata": {},
     "output_type": "execute_result"
    }
   ],
   "source": [
    "not True "
   ]
  },
  {
   "cell_type": "code",
   "execution_count": 26,
   "id": "329e9c03-ed54-458a-bd5e-22c617cd7f1c",
   "metadata": {},
   "outputs": [
    {
     "data": {
      "text/plain": [
       "True"
      ]
     },
     "execution_count": 26,
     "metadata": {},
     "output_type": "execute_result"
    }
   ],
   "source": [
    " True and (False or True) or False\n",
    "# dấu ngoặc trước sau đó trái qua phải"
   ]
  },
  {
   "cell_type": "markdown",
   "id": "a9bfdc97-db1c-49c2-b727-caf718bee10e",
   "metadata": {},
   "source": [
    "#### 4. Toán tử điều kiện"
   ]
  },
  {
   "cell_type": "markdown",
   "id": "5314de6e-ed1e-4c3a-904d-be959ef354ce",
   "metadata": {},
   "source": [
    "3>4"
   ]
  },
  {
   "cell_type": "code",
   "execution_count": 29,
   "id": "8459ee05-d4ea-4c68-854c-2d04603a3c1c",
   "metadata": {},
   "outputs": [
    {
     "data": {
      "text/plain": [
       "True"
      ]
     },
     "execution_count": 29,
     "metadata": {},
     "output_type": "execute_result"
    }
   ],
   "source": [
    "(3<4) or (4>5)"
   ]
  },
  {
   "cell_type": "markdown",
   "id": "1953b09b-c61f-4326-9d9a-7ced4b340e76",
   "metadata": {},
   "source": [
    "#### 5.Cấu trúc dữ liệu"
   ]
  },
  {
   "cell_type": "markdown",
   "id": "ee721562-a408-49c6-bdd0-9fe59d900264",
   "metadata": {},
   "source": [
    "'Programs: Data structure + Algorithms'\n",
    "list, tuple, dictionaries, set: data structures.\n",
    "tốn ít bộ nhớ"
   ]
  },
  {
   "cell_type": "markdown",
   "id": "81f2b826-b8f1-42a2-bd11-29b1e468154a",
   "metadata": {},
   "source": [
    "#### 5.1 List\n",
    "\n",
    "\n",
    "##### 5.1.0 Khai báo list\n",
    "\n",
    "- Cú pháp: `[value1, value2, ...]`"
   ]
  },
  {
   "cell_type": "markdown",
   "id": "ecf8e04f-a60d-49db-ac2d-34c196ed8162",
   "metadata": {},
   "source": [
    "list có thứ tự, có index, có thể thay đổi\n",
    "#Dic: ko trùng lặp\n",
    "#Tuple: có index, có thứ tự, không thể thay đổi\n",
    "#set: không index, không trùng lặp, có thứ tự, có thể thay đổi."
   ]
  },
  {
   "cell_type": "code",
   "execution_count": 33,
   "id": "cb439928-4cbb-41a7-b199-02b3a43b1811",
   "metadata": {},
   "outputs": [],
   "source": [
    "my_list= [1,3.14,'linh',1+2j]\n",
    "#         0   1    2     3    _ --trái qua phải\n",
    "#        -4  -3   -2    -1    -- Phải qua trái , index reverse"
   ]
  },
  {
   "cell_type": "code",
   "execution_count": 34,
   "id": "6965f032-a1de-41bf-8e4b-8f3a6d1ad7ac",
   "metadata": {},
   "outputs": [
    {
     "data": {
      "text/plain": [
       "1"
      ]
     },
     "execution_count": 34,
     "metadata": {},
     "output_type": "execute_result"
    }
   ],
   "source": [
    "my_list[0]"
   ]
  },
  {
   "cell_type": "code",
   "execution_count": 35,
   "id": "071e7a1f-3717-48ff-a7b2-1fd80aee7277",
   "metadata": {},
   "outputs": [
    {
     "data": {
      "text/plain": [
       "1"
      ]
     },
     "execution_count": 35,
     "metadata": {},
     "output_type": "execute_result"
    }
   ],
   "source": [
    "my_list[-4]"
   ]
  },
  {
   "cell_type": "code",
   "execution_count": 36,
   "id": "fc13102e-322b-4798-b613-c310cd646b65",
   "metadata": {},
   "outputs": [
    {
     "data": {
      "text/plain": [
       "(1+2j)"
      ]
     },
     "execution_count": 36,
     "metadata": {},
     "output_type": "execute_result"
    }
   ],
   "source": [
    "# Thông thường dùng reverse khi lấy giá trị cuối cùng mà không biết độ dài của list là bao nhiêu\n",
    "my_list[-1]"
   ]
  },
  {
   "cell_type": "code",
   "execution_count": 37,
   "id": "25afaaaf-c798-42de-8694-d7ad482a8760",
   "metadata": {},
   "outputs": [
    {
     "data": {
      "text/plain": [
       "[[1, 2, 3], 'hn', 'hcm', 'abc']"
      ]
     },
     "execution_count": 37,
     "metadata": {},
     "output_type": "execute_result"
    }
   ],
   "source": [
    "my_list1=[[1,2,3],'hn','hcm','abc']\n",
    "my_list1"
   ]
  },
  {
   "cell_type": "code",
   "execution_count": 38,
   "id": "8eb726fd-f5ca-473a-9c62-31f4269c91eb",
   "metadata": {},
   "outputs": [
    {
     "data": {
      "text/plain": [
       "list"
      ]
     },
     "execution_count": 38,
     "metadata": {},
     "output_type": "execute_result"
    }
   ],
   "source": [
    "type(my_list1)"
   ]
  },
  {
   "cell_type": "code",
   "execution_count": 40,
   "id": "f382eba3-9853-4e91-a916-6986f316a0cd",
   "metadata": {},
   "outputs": [
    {
     "data": {
      "text/plain": [
       "2"
      ]
     },
     "execution_count": 40,
     "metadata": {},
     "output_type": "execute_result"
    }
   ],
   "source": [
    "my_list1[0][1]"
   ]
  },
  {
   "cell_type": "code",
   "execution_count": 41,
   "id": "8bb3a03f-d5ad-4ccc-961a-7adda8117af6",
   "metadata": {},
   "outputs": [],
   "source": [
    "#indext luôn là 1 số interger, nên list[[1]] sai, python hiểu là indext bị truyền vào 1 list.b"
   ]
  },
  {
   "cell_type": "markdown",
   "id": "068ebd1e-21a1-46c9-843a-d59442293ecf",
   "metadata": {},
   "source": [
    "##### 5.1.2 Các hàm cơ bản với List"
   ]
  },
  {
   "cell_type": "markdown",
   "id": "db54e346-4154-426c-97b7-d7e7d521a3b3",
   "metadata": {
    "tags": []
   },
   "source": [
    "|Tên hàm|Ý nghĩa|Trả về giá trị|\n",
    "|-|-|-|\n",
    "|`append()`|Thêm một phần tử vào vị trí cuối cùng trong list|Không|\n",
    "|`clear()`|Xóa sạch các phần tử trong list|Không|\n",
    "|`copy()`|Sao chép toàn bộ list|Có|\n",
    "|`count()`|Đếm số lần một phần tử xuất hiện trong list|Có|\n",
    "|`extend()`|Kết hợp list với một list khác|Không|\n",
    "|`index()`|Trả về vị trí phần tử trong list|Có|\n",
    "|`insert()`|Chèn một phần tử vào list tại vị trí cho trước|Không|\n",
    "|`pop()`|Loại bỏ phần tử ở vị trí index cho trước trong list|Không|\n",
    "|`remove()`|Loại bỏ một phần tử khỏi list|Không|\n",
    "|`reverse()`|Đảo ngược thứ tự các phần tử trong list|Không|\n",
    "|`sort()`|Sắp xếp các phần tử trong list|Không|"
   ]
  },
  {
   "cell_type": "code",
   "execution_count": 47,
   "id": "ab91e629-3e0f-4f3a-b43f-0b0cad906388",
   "metadata": {},
   "outputs": [],
   "source": [
    "#không trả về giá trị, có nghĩa ko cần tạo biến mới để lưu kết quả, thêm trực tiếp, ko tạo ra biến mới. \n",
    "# nếu trả về giá trị, cần gán 1 biến mới để lưu giá trị\n",
    "my_list1.append(1)"
   ]
  },
  {
   "cell_type": "code",
   "execution_count": 43,
   "id": "08a0e0b3-5b7c-4cc0-b7ae-dcaa46abe192",
   "metadata": {},
   "outputs": [
    {
     "data": {
      "text/plain": [
       "[[1, 2, 3], 'hn', 'hcm', 'abc', 1]"
      ]
     },
     "execution_count": 43,
     "metadata": {},
     "output_type": "execute_result"
    }
   ],
   "source": [
    "my_list1"
   ]
  },
  {
   "cell_type": "code",
   "execution_count": 45,
   "id": "477eae65-c0f2-4371-986c-81bce97c5fd4",
   "metadata": {},
   "outputs": [],
   "source": [
    "li2=my_list1.copy()"
   ]
  },
  {
   "cell_type": "code",
   "execution_count": 46,
   "id": "c4deefb8-e91e-4a16-9bbc-1613d8e2f323",
   "metadata": {},
   "outputs": [
    {
     "data": {
      "text/plain": [
       "[[1, 2, 3], 'hn', 'hcm', 'abc', 1]"
      ]
     },
     "execution_count": 46,
     "metadata": {},
     "output_type": "execute_result"
    }
   ],
   "source": [
    "li2"
   ]
  },
  {
   "cell_type": "code",
   "execution_count": 48,
   "id": "0072cdce-9d2e-43ea-bb87-5e472764279b",
   "metadata": {},
   "outputs": [
    {
     "data": {
      "text/plain": [
       "['__add__',\n",
       " '__class__',\n",
       " '__contains__',\n",
       " '__delattr__',\n",
       " '__delitem__',\n",
       " '__dir__',\n",
       " '__doc__',\n",
       " '__eq__',\n",
       " '__format__',\n",
       " '__ge__',\n",
       " '__getattribute__',\n",
       " '__getitem__',\n",
       " '__gt__',\n",
       " '__hash__',\n",
       " '__iadd__',\n",
       " '__imul__',\n",
       " '__init__',\n",
       " '__init_subclass__',\n",
       " '__iter__',\n",
       " '__le__',\n",
       " '__len__',\n",
       " '__lt__',\n",
       " '__mul__',\n",
       " '__ne__',\n",
       " '__new__',\n",
       " '__reduce__',\n",
       " '__reduce_ex__',\n",
       " '__repr__',\n",
       " '__reversed__',\n",
       " '__rmul__',\n",
       " '__setattr__',\n",
       " '__setitem__',\n",
       " '__sizeof__',\n",
       " '__str__',\n",
       " '__subclasshook__',\n",
       " 'append',\n",
       " 'clear',\n",
       " 'copy',\n",
       " 'count',\n",
       " 'extend',\n",
       " 'index',\n",
       " 'insert',\n",
       " 'pop',\n",
       " 'remove',\n",
       " 'reverse',\n",
       " 'sort']"
      ]
     },
     "execution_count": 48,
     "metadata": {},
     "output_type": "execute_result"
    }
   ],
   "source": [
    "dir(li2)"
   ]
  },
  {
   "cell_type": "code",
   "execution_count": 49,
   "id": "63bd737b-0c9f-4716-99e2-ad6cef17e590",
   "metadata": {},
   "outputs": [
    {
     "data": {
      "text/plain": [
       "['append',\n",
       " 'clear',\n",
       " 'copy',\n",
       " 'count',\n",
       " 'extend',\n",
       " 'index',\n",
       " 'insert',\n",
       " 'pop',\n",
       " 'remove',\n",
       " 'reverse',\n",
       " 'sort']"
      ]
     },
     "execution_count": 49,
     "metadata": {},
     "output_type": "execute_result"
    }
   ],
   "source": [
    "#Lặp qua tất cả các phần tử ở bên trong cấu trúc dữ liệu, \n",
    "# set đk nếu như tất cả phần tử ko bắt đầu bằng dấu_ thì bỏ\n",
    "[method for method in (dir(li2)) if not method. startswith('_')]"
   ]
  },
  {
   "cell_type": "markdown",
   "id": "8a5c7f8e-b157-477f-8e92-9f2b64b6b9dc",
   "metadata": {},
   "source": [
    "Đố vui:\n",
    "- Hàm `extend()` và hàm `append()` khác gì nhau?\n",
    "- Hàm `remove()` and `pop()` khác gì nhau?"
   ]
  },
  {
   "cell_type": "code",
   "execution_count": null,
   "id": "d2883d57-cf48-4e06-8d25-862502c0f087",
   "metadata": {},
   "outputs": [],
   "source": [
    "li2.extend()"
   ]
  },
  {
   "cell_type": "code",
   "execution_count": null,
   "id": "25fc55b7-063f-49a6-9c46-393e7a630759",
   "metadata": {},
   "outputs": [],
   "source": [
    "li2.remove()\n",
    "li2.pop()\n",
    "li2.extend()"
   ]
  },
  {
   "cell_type": "markdown",
   "id": "8ab380fb-d22d-4d13-9281-1a81ee9d7842",
   "metadata": {},
   "source": [
    "#### 4.2 Tuple\n",
    "\n",
    "##### 4.2.0 Khai báo tuple\n",
    "\n",
    "- Cú pháp: `(value1, value2, ...)`"
   ]
  },
  {
   "cell_type": "code",
   "execution_count": null,
   "id": "97e62bcc-20dd-4bb0-885d-55d5069f286e",
   "metadata": {},
   "outputs": [],
   "source": []
  },
  {
   "cell_type": "markdown",
   "id": "a600e0ad-0d7f-4363-a34f-0bd579e2d690",
   "metadata": {},
   "source": [
    "##### 4.2.1 Các hàm cơ bản trong tuple\n",
    "\n",
    "|Tên hàm|Ý nghĩa|Trả về giá trị|\n",
    "|-|-|-|\n",
    "|`count()`|Đếm số lần một phần tử xuất hiện trong tuple|Có|\n",
    "|`index()`|Trả về vị trí phần tử trong tuple|Có|"
   ]
  },
  {
   "cell_type": "code",
   "execution_count": null,
   "id": "9436aceb-5d1c-44e5-b174-ea03ff44e4c0",
   "metadata": {},
   "outputs": [],
   "source": []
  },
  {
   "cell_type": "markdown",
   "id": "9ac494df-c373-4fbd-be0d-1fae08116c94",
   "metadata": {},
   "source": [
    "#### 4.3 Set\n",
    "\n",
    "\n",
    "##### 4.3.0 Khai báo set\n",
    "\n",
    "- Cú pháp: `{value1, value2, ...}`\n"
   ]
  },
  {
   "cell_type": "code",
   "execution_count": null,
   "id": "e7bc2fbf-3155-4e8c-bed3-95942f3cf6a6",
   "metadata": {},
   "outputs": [],
   "source": []
  },
  {
   "cell_type": "markdown",
   "id": "9f21eede-0912-4c83-a061-60b0fe305e26",
   "metadata": {},
   "source": [
    "##### 4.3.1 Các hàm cơ bản trong set\n",
    "\n",
    "|Tên hàm|Ý nghĩa|Trả về giá trị|\n",
    "|-|-|-|\n",
    "|`add()`|Thêm một phần tử vào vị trí cuối cùng trong set|Không|\n",
    "|`clear()`|Xóa sạch các phần tử trong set|Không|\n",
    "|`copy()`|Sao chép toàn bộ set|Có|\n",
    "|`A.difference(B)`|Phép trừ sẽ trả về một tập hợp các giá trị chỉ có ở set A hoặc set B|Có|\n",
    "|`A.difference_update(B)`|Xóa các thành phần tồn tại trong cả hai bộ của set A|Không|\n",
    "|`discard()`|Xoá phần tử trong set|Có|\n",
    "|`A.intersection(B)`|Phép giao giữa 2 set|Có|\n",
    "|`A.intersection_update(B)`|Loại bỏ các thành phần không có trong cả 2 set|Không|\n",
    "|`A.isdisjoint(B)`|Trả về True nếu 2 set là tập hợp rời rạc|Có|\n",
    "|`A.issubset(B)`|Trả về True nếu tất cả các item của set A đều có trong set B, False nếu ngược lại|Có|\n",
    "|`A.issuperset(B)`|Trả về True nếu tất cả các item của set B đều có trong set A, False nếu ngược lại|Có|\n",
    "|`pop()`|Loại bỏ phần tử ở vị trí index cho trước|Không|\n",
    "|`remove()`|Loại bỏ một phần tử |Không|\n",
    "|`A.symmetric_difference(B)`|Phép đối xứng trả về tập hợp những giá trị có trong set A không có trong set B và ngược lại|Có|\n",
    "|`A.symmetric_difference_update(B)`|Xóa các thành phần có trong cả hai nhóm và chèn các mục không có trong cả hai nhóm|Có|\n",
    "|`A.union(B)`|Phép hợp của 2 set|Có|\n",
    "|`update()`|Thêm phần tử|Không|\n",
    "\n",
    "\n",
    "Để có thể nắm được ý nghĩa của các hàm trong set hay bất kì cấu trúc dữ liệu nào, ta có thể tận dụng `docstring` hoặc `help()`.\n"
   ]
  },
  {
   "cell_type": "code",
   "execution_count": null,
   "id": "847121a1-b994-4ae2-9e5f-250fdb8cf258",
   "metadata": {},
   "outputs": [],
   "source": []
  },
  {
   "cell_type": "markdown",
   "id": "886e7fd7-1008-438a-8711-bb9574e8dec4",
   "metadata": {},
   "source": [
    "#### 4.4 Dictionary\n",
    "\n",
    "##### 4.4.0 Khai báo dictionary\n",
    "\n",
    "Để khai báo một dictionary chúng ta dùng cặp dấu `{}` theo cú pháp sau:\n",
    "- Cú pháp: `{key1:value1, key2:value2,...}`\n"
   ]
  },
  {
   "cell_type": "code",
   "execution_count": null,
   "id": "7ed62ad9-a41d-4416-a920-82605b020f1f",
   "metadata": {},
   "outputs": [],
   "source": []
  },
  {
   "cell_type": "markdown",
   "id": "dcbe179c-9446-4886-ac32-1d62d82b844d",
   "metadata": {},
   "source": [
    "##### 4.4.1 Truy xuất các phần tử trong dictionary"
   ]
  },
  {
   "cell_type": "code",
   "execution_count": null,
   "id": "3efea3e2-cdbc-4320-842e-83217452c86f",
   "metadata": {},
   "outputs": [],
   "source": []
  },
  {
   "cell_type": "markdown",
   "id": "630a82c4-9ee8-41b0-8ab8-d1005916b108",
   "metadata": {},
   "source": [
    "##### 4.3.3 Các hàm cơ bản trong dictionary\n",
    "\n",
    "|Tên hàm|Ý nghĩa|Trả về giá trị|\n",
    "|-|-|-|\n",
    "|`clear()`|Xóa sạch các phần tử|Không|\n",
    "|`copy()`|Sao chép các phần tử|Có|\n",
    "|`fromkeys()`|Tạo ra một dictionary với các khóa và giá trị được chỉ định|Có|\n",
    "|`get()`|Trả về giá trị của khóa được chỉ định|Có|\n",
    "|`items()`| Trả về danh sách chứa bộ giá trị cho mỗi cặp giá trị khóa|Có|\n",
    "|`keys()`|Trả về danh sách chứa các key của dictionary|Có|\n",
    "|`pop()`|Loại bỏ phần tử có key được chỉ định|Không|\n",
    "|`popitem()`|Xóa cặp key-value được chèn cuối cùng|Không|\n",
    "|`setdefault()`|Trả về giá trị của key được chỉ định. Nếu key không tồn tại: hãy chèn key, với giá trị được chỉ định|Không|\n",
    "|`update()`|Cập nhật dictionary với các cặp key-value được chỉ định|Không|\n",
    "|`values()`| Trả về danh sách tất cả các value trong từ điển |Có|"
   ]
  },
  {
   "cell_type": "code",
   "execution_count": null,
   "id": "d3ca58f5-1676-47be-9538-db291d97985c",
   "metadata": {},
   "outputs": [],
   "source": []
  },
  {
   "cell_type": "markdown",
   "id": "33659433-089e-4dd5-8509-5ac0806bc9ae",
   "metadata": {},
   "source": [
    "Ở bài tiếp theo, chúng ta sẽ tìm hiểu về vòng lặp, câu điều kiện, cũng như cách viết 1 hàm trong Python."
   ]
  }
 ],
 "metadata": {
  "kernelspec": {
   "display_name": "Python 3 (ipykernel)",
   "language": "python",
   "name": "python3"
  },
  "language_info": {
   "codemirror_mode": {
    "name": "ipython",
    "version": 3
   },
   "file_extension": ".py",
   "mimetype": "text/x-python",
   "name": "python",
   "nbconvert_exporter": "python",
   "pygments_lexer": "ipython3",
   "version": "3.8.10"
  }
 },
 "nbformat": 4,
 "nbformat_minor": 5
}
