{
 "cells": [
  {
   "cell_type": "markdown",
   "id": "c1d182e6-3239-4517-86b7-c2bce677319d",
   "metadata": {},
   "source": [
    "# <center> Bài 2: Giới thiệu về PYTHON </center>\n",
    "![](https://laptrinhcanban.com/python/nhap-mon-lap-trinh-python/gioi-thieu-python/python-la-gi/Python.jpg)"
   ]
  },
  {
   "cell_type": "markdown",
   "id": "94b15aae-5abd-4c3e-9356-76c6288d07de",
   "metadata": {},
   "source": [
    "## I. GIỚI THIỆU\n",
    "\n",
    "![Độ phổ biến của 1 số ngôn ngữ lập trình được sử dụng trên các kho lưu trữ trên GitHub.](./img/python.png)\n",
    "> *Độ phổ biến của 1 số ngôn ngữ lập trình được sử dụng trên các kho lưu trữ trên GitHub tính đến tháng 4/2014 theo [Githut](https://githut.info/).*"
   ]
  },
  {
   "cell_type": "markdown",
   "id": "fc5c6b0a-dd30-4a67-b3a0-41ca10ce5d6c",
   "metadata": {},
   "source": [
    "Chương trình đầu tiên `print('Hello, world')`."
   ]
  },
  {
   "cell_type": "code",
   "execution_count": 2,
   "id": "0cb31b69-b04e-4fa2-aac1-e98b56f5a2bd",
   "metadata": {},
   "outputs": [
    {
     "name": "stdout",
     "output_type": "stream",
     "text": [
      "hello world\n"
     ]
    }
   ],
   "source": [
    "print(\"hello world\")"
   ]
  },
  {
   "cell_type": "markdown",
   "id": "323186fe-887b-482c-af41-1e41b80a3af4",
   "metadata": {},
   "source": [
    "Dòng chú thích (Comments):"
   ]
  },
  {
   "cell_type": "code",
   "execution_count": 3,
   "id": "5a056565-6581-43ee-96ff-6d01df635110",
   "metadata": {},
   "outputs": [],
   "source": [
    "# comments after \"#\""
   ]
  },
  {
   "cell_type": "markdown",
   "id": "613dd760-4867-4c96-ae47-379483fec098",
   "metadata": {},
   "source": [
    "Chú thích nhiều dòng:"
   ]
  },
  {
   "cell_type": "code",
   "execution_count": 8,
   "id": "7f4957fd-07f3-4be2-b71f-9c8e15d3b64e",
   "metadata": {},
   "outputs": [],
   "source": [
    "# ctrl A --> command /\n",
    "# hoặc dùng "
   ]
  },
  {
   "cell_type": "code",
   "execution_count": 10,
   "id": "9a32aac0-8a36-4b34-a06b-b1f094257378",
   "metadata": {},
   "outputs": [
    {
     "name": "stdout",
     "output_type": "stream",
     "text": [
      "abc\n"
     ]
    }
   ],
   "source": [
    "'''\n",
    "print(\"abc\")\n",
    "'''\n",
    "print(\"abc\")"
   ]
  },
  {
   "cell_type": "markdown",
   "id": "08065013-65a2-4035-94c0-ea6078793130",
   "metadata": {},
   "source": [
    "Ok, bây giờ chúng ta sẽ cũng nhau tìm hiểu sâu hơn về các thành phần cơ bản trong Python nha."
   ]
  },
  {
   "cell_type": "markdown",
   "id": "05b3fc2a-73e7-41bd-88ad-562f1e9051a8",
   "metadata": {},
   "source": [
    "## II. CÁC THÀNH PHẦN CƠ BẢN TRONG PYTHON "
   ]
  },
  {
   "cell_type": "markdown",
   "id": "851db246-0092-480a-8f58-76810e4cb20c",
   "metadata": {},
   "source": [
    "### 1. Biến (Variables)"
   ]
  },
  {
   "cell_type": "markdown",
   "id": "7e931684-b6a5-4214-a196-bb5f3afe7f91",
   "metadata": {},
   "source": [
    "#### 1.1 Khởi tạo biến \n",
    "\n",
    "Để khai báo biến trong Python thì mọi người sử dụng cú pháp `tên_biến = giá_trị`, trong đó:\n",
    "- `tên_biến`: tên của biến mà các bạn muốn đặt. \n",
    "- `giá_trị` : giá trị của biến mà bạn muốn gán.\n",
    "- `=`: phép gán."
   ]
  },
  {
   "cell_type": "code",
   "execution_count": 17,
   "id": "4e3ca51c-a622-46d0-a250-e9123c937362",
   "metadata": {},
   "outputs": [],
   "source": [
    "x = 123123213231223\n",
    "y = 324343434343434\n",
    "z = 434343"
   ]
  },
  {
   "cell_type": "code",
   "execution_count": 18,
   "id": "d981a535-3856-49af-849e-b47edacc8716",
   "metadata": {},
   "outputs": [
    {
     "data": {
      "text/plain": [
       "39934205826813801452634274125"
      ]
     },
     "execution_count": 18,
     "metadata": {},
     "output_type": "execute_result"
    }
   ],
   "source": [
    "x * y + z"
   ]
  },
  {
   "cell_type": "code",
   "execution_count": 19,
   "id": "f9f58123-10df-4aa9-82fe-eb9722f45264",
   "metadata": {},
   "outputs": [],
   "source": [
    "x, y, z = 12312, 1321321, 1321321"
   ]
  },
  {
   "cell_type": "code",
   "execution_count": 20,
   "id": "d8524865-993a-487a-b1f6-ccc9ff86aced",
   "metadata": {},
   "outputs": [
    {
     "data": {
      "text/plain": [
       "16269425473"
      ]
     },
     "execution_count": 20,
     "metadata": {},
     "output_type": "execute_result"
    }
   ],
   "source": [
    "x * y + z"
   ]
  },
  {
   "cell_type": "markdown",
   "id": "2310151b-2c87-4cc1-8660-6cca60fd2123",
   "metadata": {},
   "source": [
    "Lưu ý khi đặt tên biến:\n",
    "1. Không để số ở đầu tiên\n",
    "2. Không dùng trùng tên với từ khoá\n",
    "3. Python phân biệt chữ HOA và chữ thường"
   ]
  },
  {
   "cell_type": "code",
   "execution_count": null,
   "id": "a49e93e8-1d6a-4cf8-83a5-8f3951d1e7d6",
   "metadata": {},
   "outputs": [],
   "source": [
    "#### 1.2 Các kiểu dữ liệu"
   ]
  },
  {
   "cell_type": "markdown",
   "id": "769f4a3f-5702-4818-ac19-5311bd6747c1",
   "metadata": {},
   "source": [
    "|Kiểu dữ liệu|Ý nghĩa|Ví dụ|\n",
    "|-|-|-|\n",
    "|`int`|Kiểu số nguyên (không có chứa dấu chấm thập phân)|`11`, `-15`|\n",
    "|`float`|Kiểu số thực (có chứa dấu chấm thập phân)|`3.14`, `4.02`|\n",
    "|`complex`|Kiểu số phức|`1 + 2j`, `3 - 4j`|\n",
    "|`str`|Kiểu chuỗi|`'MCI'`,`'Python'`|\n",
    "|`bool`|Kiểu luận lý|`TRUE`, `FALSE`|"
   ]
  },
  {
   "cell_type": "code",
   "execution_count": 21,
   "id": "673382cb-bae2-4229-a630-5f4a0d58d4c9",
   "metadata": {},
   "outputs": [],
   "source": [
    "# bool: giống kiểu logic"
   ]
  },
  {
   "cell_type": "markdown",
   "id": "0e316786-a879-4011-aac7-3de6dc08ed29",
   "metadata": {},
   "source": [
    "#### 1.3 Kiểm tra kiểu dữ liệu của biến"
   ]
  },
  {
   "cell_type": "markdown",
   "id": "a65b57a8-4c5d-4768-b715-b839462cc73d",
   "metadata": {},
   "source": [
    "Để kiểm tra kiểu dữ liệu giá trị của một biến đã khởi tạo, ta sử dụng hàm `type()`\n",
    "- Cú pháp: `type(tên_biến)`"
   ]
  },
  {
   "cell_type": "code",
   "execution_count": 22,
   "id": "a82921f8-e047-4d39-8597-e6a40ba4b94c",
   "metadata": {},
   "outputs": [
    {
     "data": {
      "text/plain": [
       "int"
      ]
     },
     "execution_count": 22,
     "metadata": {},
     "output_type": "execute_result"
    }
   ],
   "source": [
    "type(x)"
   ]
  },
  {
   "cell_type": "code",
   "execution_count": 23,
   "id": "19c3cd0b-7127-44cf-b1eb-2a049951abe7",
   "metadata": {},
   "outputs": [
    {
     "data": {
      "text/plain": [
       "float"
      ]
     },
     "execution_count": 23,
     "metadata": {},
     "output_type": "execute_result"
    }
   ],
   "source": [
    "type(3.14)"
   ]
  },
  {
   "cell_type": "code",
   "execution_count": 24,
   "id": "02fb93eb-795a-4a96-b586-b24679cf878f",
   "metadata": {},
   "outputs": [
    {
     "data": {
      "text/plain": [
       "str"
      ]
     },
     "execution_count": 24,
     "metadata": {},
     "output_type": "execute_result"
    }
   ],
   "source": [
    "type(\"hello world\")"
   ]
  },
  {
   "cell_type": "code",
   "execution_count": 25,
   "id": "82cdd2f3-670d-4515-bfc8-b5fa18e43f53",
   "metadata": {},
   "outputs": [
    {
     "ename": "NameError",
     "evalue": "name 'true' is not defined",
     "output_type": "error",
     "traceback": [
      "\u001b[0;31m---------------------------------------------------------------------------\u001b[0m",
      "\u001b[0;31mNameError\u001b[0m                                 Traceback (most recent call last)",
      "\u001b[0;32m<ipython-input-25-6f4d8242c3d0>\u001b[0m in \u001b[0;36m<module>\u001b[0;34m\u001b[0m\n\u001b[0;32m----> 1\u001b[0;31m \u001b[0mtype\u001b[0m\u001b[0;34m(\u001b[0m\u001b[0mtrue\u001b[0m\u001b[0;34m)\u001b[0m\u001b[0;34m\u001b[0m\u001b[0;34m\u001b[0m\u001b[0m\n\u001b[0m",
      "\u001b[0;31mNameError\u001b[0m: name 'true' is not defined"
     ]
    }
   ],
   "source": [
    "type(true)"
   ]
  },
  {
   "cell_type": "markdown",
   "id": "6bed03de-58bf-4e01-8692-022acf964c30",
   "metadata": {},
   "source": [
    "### 2. Toán tử số học\n",
    "|Phép toán|Biểu thức|Ý nghĩa |\n",
    "|-|-|-|\n",
    "|+|`x + y`|Phép cộng|\n",
    "|-|`x - y`|Phép trừ|\n",
    "|*|`x * y`|Phép nhân|\n",
    "|/|`x / y`|Phép chia|\n",
    "|%|`x % y`|Phép chia lấy phần dư|\n",
    "|//|`x // y`|Phép chia làm tròn xuống|\n",
    "|**|`x ** y`|Phép mũ|"
   ]
  },
  {
   "cell_type": "code",
   "execution_count": 26,
   "id": "7aee3f40-7396-4dd7-b3ad-2ffe6c407349",
   "metadata": {},
   "outputs": [],
   "source": [
    "x, y = 11, 13"
   ]
  },
  {
   "cell_type": "code",
   "execution_count": 27,
   "id": "df148231-7c70-4d06-a273-50ada0c35c7b",
   "metadata": {},
   "outputs": [
    {
     "data": {
      "text/plain": [
       "24"
      ]
     },
     "execution_count": 27,
     "metadata": {},
     "output_type": "execute_result"
    }
   ],
   "source": [
    "x + y"
   ]
  },
  {
   "cell_type": "code",
   "execution_count": 28,
   "id": "a269da62-d520-47ba-a088-1e2c26833dd0",
   "metadata": {},
   "outputs": [
    {
     "data": {
      "text/plain": [
       "143"
      ]
     },
     "execution_count": 28,
     "metadata": {},
     "output_type": "execute_result"
    }
   ],
   "source": [
    "x * y"
   ]
  },
  {
   "cell_type": "code",
   "execution_count": 29,
   "id": "ede3cf45-8aeb-4734-a7c3-3eb652ca76c8",
   "metadata": {},
   "outputs": [
    {
     "data": {
      "text/plain": [
       "-2"
      ]
     },
     "execution_count": 29,
     "metadata": {},
     "output_type": "execute_result"
    }
   ],
   "source": [
    "x - y"
   ]
  },
  {
   "cell_type": "code",
   "execution_count": 30,
   "id": "f7d2cbc7-7b5f-4bdb-b074-6ed7e55503ba",
   "metadata": {},
   "outputs": [
    {
     "data": {
      "text/plain": [
       "0.8461538461538461"
      ]
     },
     "execution_count": 30,
     "metadata": {},
     "output_type": "execute_result"
    }
   ],
   "source": [
    "x / y"
   ]
  },
  {
   "cell_type": "code",
   "execution_count": 31,
   "id": "11ae8d6e-f597-4ae3-9cca-6d9339ae7280",
   "metadata": {},
   "outputs": [
    {
     "data": {
      "text/plain": [
       "11"
      ]
     },
     "execution_count": 31,
     "metadata": {},
     "output_type": "execute_result"
    }
   ],
   "source": [
    "x % y"
   ]
  },
  {
   "cell_type": "code",
   "execution_count": 32,
   "id": "4970ae79-d48b-4cf4-8469-c9fcac657948",
   "metadata": {},
   "outputs": [
    {
     "data": {
      "text/plain": [
       "0"
      ]
     },
     "execution_count": 32,
     "metadata": {},
     "output_type": "execute_result"
    }
   ],
   "source": [
    "x // y"
   ]
  },
  {
   "cell_type": "code",
   "execution_count": 33,
   "id": "65b6c396-539a-4749-83fa-0b68637ca695",
   "metadata": {},
   "outputs": [
    {
     "data": {
      "text/plain": [
       "34522712143931"
      ]
     },
     "execution_count": 33,
     "metadata": {},
     "output_type": "execute_result"
    }
   ],
   "source": [
    "x ** y"
   ]
  },
  {
   "cell_type": "code",
   "execution_count": 34,
   "id": "94f499e7-093f-46d9-b78a-93ad4d69398c",
   "metadata": {},
   "outputs": [
    {
     "data": {
      "text/plain": [
       "3.3166247903554"
      ]
     },
     "execution_count": 34,
     "metadata": {},
     "output_type": "execute_result"
    }
   ],
   "source": [
    "# tính căn bậc 2\n",
    "x ** (1/2)"
   ]
  },
  {
   "cell_type": "markdown",
   "id": "f8e2d21a-661a-4329-84f8-4c5f7fc9dd47",
   "metadata": {},
   "source": [
    "Để có thể sử dụng các hàm user def thì phải install và import thư viện, sau đó lôi hàm ra"
   ]
  },
  {
   "cell_type": "code",
   "execution_count": 40,
   "id": "33507989-ab87-4798-9fde-7c22d2c11985",
   "metadata": {},
   "outputs": [
    {
     "data": {
      "text/plain": [
       "3.3166247903554"
      ]
     },
     "execution_count": 40,
     "metadata": {},
     "output_type": "execute_result"
    }
   ],
   "source": [
    "import math\n",
    "math.sqrt(x)"
   ]
  },
  {
   "cell_type": "code",
   "execution_count": 41,
   "id": "715f2966-c36e-4603-b5f0-c94618665ffc",
   "metadata": {},
   "outputs": [
    {
     "data": {
      "text/plain": [
       "3"
      ]
     },
     "execution_count": 41,
     "metadata": {},
     "output_type": "execute_result"
    }
   ],
   "source": [
    "round(3.19)"
   ]
  },
  {
   "cell_type": "code",
   "execution_count": 43,
   "id": "c19cf469-0b7c-49ca-8ec2-3f9d61c34ade",
   "metadata": {},
   "outputs": [
    {
     "data": {
      "text/plain": [
       "4"
      ]
     },
     "execution_count": 43,
     "metadata": {},
     "output_type": "execute_result"
    }
   ],
   "source": [
    "math.ceil(3.95)"
   ]
  },
  {
   "cell_type": "markdown",
   "id": "1ba25dad-3d76-4a5b-b462-071166cd12e7",
   "metadata": {},
   "source": [
    "Hàm round màu xanh lá cây là hàm có sẵn trong jupyter"
   ]
  },
  {
   "cell_type": "markdown",
   "id": "ef8e5cc1-45c9-4bd9-bfd1-fa86c5850ba8",
   "metadata": {},
   "source": [
    "### 3. Toán tử luận lý"
   ]
  },
  {
   "cell_type": "code",
   "execution_count": 44,
   "id": "aecf48dc-faea-4f35-ba51-c24a029a2094",
   "metadata": {},
   "outputs": [
    {
     "data": {
      "text/plain": [
       "True"
      ]
     },
     "execution_count": 44,
     "metadata": {},
     "output_type": "execute_result"
    }
   ],
   "source": [
    "True and True"
   ]
  },
  {
   "cell_type": "code",
   "execution_count": 45,
   "id": "ae43c9c9-4d26-4a52-ad6a-ee4d426f9542",
   "metadata": {},
   "outputs": [
    {
     "data": {
      "text/plain": [
       "False"
      ]
     },
     "execution_count": 45,
     "metadata": {},
     "output_type": "execute_result"
    }
   ],
   "source": [
    "True and False"
   ]
  },
  {
   "cell_type": "code",
   "execution_count": 46,
   "id": "2c81a137-8c0b-4266-86b9-808e009e57e7",
   "metadata": {},
   "outputs": [],
   "source": [
    "# ưu tiên toán tử luận lý bên trong dấu ngoặc trước\n",
    "# sau đó tính từ trái sang phải"
   ]
  },
  {
   "cell_type": "markdown",
   "id": "bf4e4adf-7806-4573-9937-aad63aa929ae",
   "metadata": {},
   "source": [
    "### 4. Toán tử điều kiện"
   ]
  },
  {
   "cell_type": "markdown",
   "id": "9d91f52c-4247-4d49-b18a-40ae6a7cda04",
   "metadata": {},
   "source": [
    "Là các biểu thức so sánh: >< == !="
   ]
  },
  {
   "cell_type": "code",
   "execution_count": 47,
   "id": "f3d0223f-db0d-464b-885c-3da62bc65cf9",
   "metadata": {},
   "outputs": [
    {
     "data": {
      "text/plain": [
       "False"
      ]
     },
     "execution_count": 47,
     "metadata": {},
     "output_type": "execute_result"
    }
   ],
   "source": [
    "3 > 4"
   ]
  },
  {
   "cell_type": "code",
   "execution_count": 48,
   "id": "a9291c75-08be-495d-871a-f427b1efd05a",
   "metadata": {},
   "outputs": [
    {
     "data": {
      "text/plain": [
       "False"
      ]
     },
     "execution_count": 48,
     "metadata": {},
     "output_type": "execute_result"
    }
   ],
   "source": [
    "1 < 2 and 2 > 4"
   ]
  },
  {
   "cell_type": "code",
   "execution_count": 49,
   "id": "a731c395-aa21-480d-8e9a-a45bc4a47452",
   "metadata": {},
   "outputs": [
    {
     "data": {
      "text/plain": [
       "True"
      ]
     },
     "execution_count": 49,
     "metadata": {},
     "output_type": "execute_result"
    }
   ],
   "source": [
    "3 < 4 or 4 < 5"
   ]
  },
  {
   "cell_type": "code",
   "execution_count": null,
   "id": "f31dcf59-a769-46e4-9b8f-71342705083c",
   "metadata": {},
   "outputs": [],
   "source": []
  },
  {
   "cell_type": "markdown",
   "id": "70ee9aec-2b4b-412d-b453-96798d9cbb0a",
   "metadata": {},
   "source": [
    "### 5 Cấu trúc dữ liệu"
   ]
  },
  {
   "cell_type": "markdown",
   "id": "1c676235-ad7c-4430-a625-1757c19f2b80",
   "metadata": {},
   "source": [
    "programs = Data structures + Algorithms ( Giải thuật)\n",
    "Học bằng ngôn ngữ java:\n",
    "https://www.coursera.org/learn/algorithms-part1\n",
    "Chuyên sâu về lập trình"
   ]
  },
  {
   "cell_type": "markdown",
   "id": "54cb2f18-bd7d-4d7d-8e8a-610f6e6761ad",
   "metadata": {},
   "source": [
    "Tại sao phải dùng cấu trúc dữ liệu? tại sao không dùng biến?\n",
    "1. Biến thì chỉ hạn chế, chiếm nhiều bộ nhớ\n",
    "2. Làm việc với dữ liệu lớn thì VD như dùng list sẽ tiết kiệm bộ nhớ,một địa chỉ nhưng có thể lưu được nhiều biến...\n"
   ]
  },
  {
   "cell_type": "code",
   "execution_count": null,
   "id": "f03f810d-9ebd-4769-ae97-adc506b63372",
   "metadata": {},
   "outputs": [],
   "source": []
  },
  {
   "cell_type": "markdown",
   "id": "81f2b826-b8f1-42a2-bd11-29b1e468154a",
   "metadata": {},
   "source": [
    "#### 4.1 List\n",
    "\n",
    "\n",
    "##### 4.1.0 Khai báo list\n",
    "\n",
    "- Cú pháp: `[value1, value2, ...]`"
   ]
  },
  {
   "cell_type": "markdown",
   "id": "8aaff8ff-9196-42e1-a8a6-202dd1cb118d",
   "metadata": {},
   "source": [
    "[] hoặc list()"
   ]
  },
  {
   "cell_type": "code",
   "execution_count": 10,
   "id": "9c3b22d6-34d2-4ac7-8bf8-fae52d00b3f1",
   "metadata": {},
   "outputs": [],
   "source": [
    "ls = [1, 3.14, \"MCI\", 1+2j]"
   ]
  },
  {
   "cell_type": "code",
   "execution_count": 11,
   "id": "d682c32a-17cf-4386-b3b8-8ff48c9d71ea",
   "metadata": {},
   "outputs": [
    {
     "data": {
      "text/plain": [
       "[1, 3.14, 'MCI', (1+2j)]"
      ]
     },
     "execution_count": 11,
     "metadata": {},
     "output_type": "execute_result"
    }
   ],
   "source": [
    "ls"
   ]
  },
  {
   "cell_type": "code",
   "execution_count": 62,
   "id": "8a32fd28-1d2f-4e6d-a8c4-da1eb333c293",
   "metadata": {},
   "outputs": [],
   "source": [
    "# có thể truyền vào các kiểu dữ liệu khác nhau\n",
    "# index bắt đầu bằng số 0 từ trái qua phải\n",
    "# Chiều ngược lại thì bắt đầu bằng -1, -2...\n",
    "# dùng index -1, -2 đối với những chuỗi dài"
   ]
  },
  {
   "cell_type": "code",
   "execution_count": 12,
   "id": "ebdb3bbf-3e2d-4e49-9816-cfe790d3f8ec",
   "metadata": {},
   "outputs": [
    {
     "data": {
      "text/plain": [
       "3.14"
      ]
     },
     "execution_count": 12,
     "metadata": {},
     "output_type": "execute_result"
    }
   ],
   "source": [
    "ls[1]"
   ]
  },
  {
   "cell_type": "code",
   "execution_count": 13,
   "id": "47bcbd55-8cd9-4745-8122-71fc92adc79e",
   "metadata": {},
   "outputs": [
    {
     "data": {
      "text/plain": [
       "1"
      ]
     },
     "execution_count": 13,
     "metadata": {},
     "output_type": "execute_result"
    }
   ],
   "source": [
    "ls[0]"
   ]
  },
  {
   "cell_type": "code",
   "execution_count": 60,
   "id": "6c55f528-74de-45f5-8dcd-9121b84e702e",
   "metadata": {},
   "outputs": [
    {
     "data": {
      "text/plain": [
       "(1+2j)"
      ]
     },
     "execution_count": 60,
     "metadata": {},
     "output_type": "execute_result"
    }
   ],
   "source": [
    "ls[-1]"
   ]
  },
  {
   "cell_type": "code",
   "execution_count": 14,
   "id": "46a8f16e-0097-4cf9-9f36-747b9c27ced0",
   "metadata": {},
   "outputs": [
    {
     "data": {
      "text/plain": [
       "1"
      ]
     },
     "execution_count": 14,
     "metadata": {},
     "output_type": "execute_result"
    }
   ],
   "source": [
    "ls[-4]"
   ]
  },
  {
   "cell_type": "code",
   "execution_count": 15,
   "id": "c8ce4682-d3f6-4350-9897-ba85b04d052b",
   "metadata": {},
   "outputs": [],
   "source": [
    "ls1 = [[1,2,3],[\"Hà Nội\"]]"
   ]
  },
  {
   "cell_type": "code",
   "execution_count": 16,
   "id": "bc9828a1-5e6d-451a-b6c9-6ff4a8478a10",
   "metadata": {},
   "outputs": [
    {
     "data": {
      "text/plain": [
       "[[1, 2, 3], ['Hà Nội']]"
      ]
     },
     "execution_count": 16,
     "metadata": {},
     "output_type": "execute_result"
    }
   ],
   "source": [
    "ls1"
   ]
  },
  {
   "cell_type": "code",
   "execution_count": 17,
   "id": "ec14001c-56e6-4070-a330-1fcf1ef4e700",
   "metadata": {},
   "outputs": [
    {
     "data": {
      "text/plain": [
       "list"
      ]
     },
     "execution_count": 17,
     "metadata": {},
     "output_type": "execute_result"
    }
   ],
   "source": [
    "type(ls1)"
   ]
  },
  {
   "cell_type": "code",
   "execution_count": 18,
   "id": "97e592cc-0963-4639-a2e3-62ab41308e04",
   "metadata": {},
   "outputs": [
    {
     "data": {
      "text/plain": [
       "2"
      ]
     },
     "execution_count": 18,
     "metadata": {},
     "output_type": "execute_result"
    }
   ],
   "source": [
    "# Truy cập vào index cha, sau đó set tiếp index con\n",
    "ls1[0][1]"
   ]
  },
  {
   "cell_type": "code",
   "execution_count": 19,
   "id": "978bcbd6-33f2-48c8-964f-145e6618df79",
   "metadata": {},
   "outputs": [
    {
     "data": {
      "text/plain": [
       "[[1, 2, 3], ['Hà Nội'], 10]"
      ]
     },
     "execution_count": 19,
     "metadata": {},
     "output_type": "execute_result"
    }
   ],
   "source": [
    "ls1.append(10)\n",
    "ls1"
   ]
  },
  {
   "cell_type": "code",
   "execution_count": 20,
   "id": "1638e483-1a10-4591-a5c1-6be6ecda530b",
   "metadata": {},
   "outputs": [
    {
     "data": {
      "text/plain": [
       "[]"
      ]
     },
     "execution_count": 20,
     "metadata": {},
     "output_type": "execute_result"
    }
   ],
   "source": [
    "ls1.clear()\n",
    "ls1"
   ]
  },
  {
   "cell_type": "code",
   "execution_count": 21,
   "id": "4fbf9db8-0b9f-420b-8b6d-40ad96ef8fbf",
   "metadata": {},
   "outputs": [
    {
     "data": {
      "text/plain": [
       "[1, 2, 'Hanoi', 2.14, 'c']"
      ]
     },
     "execution_count": 21,
     "metadata": {},
     "output_type": "execute_result"
    }
   ],
   "source": [
    "li = [1, 2, 'Hanoi', 2.14, 'c']\n",
    "li.copy()"
   ]
  },
  {
   "cell_type": "code",
   "execution_count": 22,
   "id": "0f3eb26a-f705-436e-a2ae-522055a8c317",
   "metadata": {},
   "outputs": [
    {
     "data": {
      "text/plain": [
       "1"
      ]
     },
     "execution_count": 22,
     "metadata": {},
     "output_type": "execute_result"
    }
   ],
   "source": [
    "li.count('Hanoi')"
   ]
  },
  {
   "cell_type": "code",
   "execution_count": 23,
   "id": "662e72de-be85-4b20-8fa8-17dfedb375b3",
   "metadata": {},
   "outputs": [
    {
     "data": {
      "text/plain": [
       "[1, 2, 'Hanoi', 2.14, 'c', 1, 2, 3]"
      ]
     },
     "execution_count": 23,
     "metadata": {},
     "output_type": "execute_result"
    }
   ],
   "source": [
    "li.extend([1,2,3])\n",
    "li"
   ]
  },
  {
   "cell_type": "code",
   "execution_count": 24,
   "id": "ceaa5b54-8cc4-42eb-90b7-65e826be0970",
   "metadata": {},
   "outputs": [
    {
     "data": {
      "text/plain": [
       "7"
      ]
     },
     "execution_count": 24,
     "metadata": {},
     "output_type": "execute_result"
    }
   ],
   "source": [
    "li.index(3)"
   ]
  },
  {
   "cell_type": "code",
   "execution_count": 27,
   "id": "f98beef6-842a-47c9-abbb-ccd8f47ddce1",
   "metadata": {},
   "outputs": [
    {
     "data": {
      "text/plain": [
       "[1, 2, 'Hanoi', 2.14, 'c', 1, 2, 0, 3, 0, 0]"
      ]
     },
     "execution_count": 27,
     "metadata": {},
     "output_type": "execute_result"
    }
   ],
   "source": [
    "li.insert(7,0)\n",
    "li"
   ]
  },
  {
   "cell_type": "code",
   "execution_count": 28,
   "id": "9bbe986d-d0b6-4fd2-93b5-3d3cd7502619",
   "metadata": {},
   "outputs": [
    {
     "data": {
      "text/plain": [
       "[1, 'Hanoi', 2.14, 'c', 1, 2, 0, 3, 0, 0]"
      ]
     },
     "execution_count": 28,
     "metadata": {},
     "output_type": "execute_result"
    }
   ],
   "source": [
    "#Xoá theo index\n",
    "li.pop(1)\n",
    "li"
   ]
  },
  {
   "cell_type": "code",
   "execution_count": 29,
   "id": "6ad1300e-a812-4e55-882e-5d034e78d737",
   "metadata": {},
   "outputs": [
    {
     "data": {
      "text/plain": [
       "[1, 'Hanoi', 2.14, 'c', 1, 2, 3, 0, 0]"
      ]
     },
     "execution_count": 29,
     "metadata": {},
     "output_type": "execute_result"
    }
   ],
   "source": [
    "#Xoá theo giá trị chỉ định đầu tiên\n",
    "li.remove(0)\n",
    "li"
   ]
  },
  {
   "cell_type": "code",
   "execution_count": 30,
   "id": "175dc7e1-cf98-4744-8ce7-d4858d58a4de",
   "metadata": {},
   "outputs": [
    {
     "data": {
      "text/plain": [
       "[0, 1, 2, 9]"
      ]
     },
     "execution_count": 30,
     "metadata": {},
     "output_type": "execute_result"
    }
   ],
   "source": [
    "li = [1, 9, 2,0]\n",
    "li.sort()\n",
    "li"
   ]
  },
  {
   "cell_type": "code",
   "execution_count": 31,
   "id": "955e5d63-0910-41d7-9615-2b71e7ddece9",
   "metadata": {},
   "outputs": [
    {
     "data": {
      "text/plain": [
       "[9, 2, 1, 0]"
      ]
     },
     "execution_count": 31,
     "metadata": {},
     "output_type": "execute_result"
    }
   ],
   "source": [
    "li.reverse()\n",
    "li"
   ]
  },
  {
   "cell_type": "code",
   "execution_count": null,
   "id": "b2fa179f-b493-467f-9c96-896ff87fbdc2",
   "metadata": {},
   "outputs": [],
   "source": []
  },
  {
   "cell_type": "markdown",
   "id": "068ebd1e-21a1-46c9-843a-d59442293ecf",
   "metadata": {},
   "source": [
    "##### 4.1.2 Các hàm cơ bản với List"
   ]
  },
  {
   "cell_type": "markdown",
   "id": "db54e346-4154-426c-97b7-d7e7d521a3b3",
   "metadata": {},
   "source": [
    "|Tên hàm|Ý nghĩa|Trả về giá trị|\n",
    "|-|-|-|\n",
    "|`append()`|Thêm một phần tử vào vị trí cuối cùng trong list|Không|\n",
    "|`clear()`|Xóa sạch các phần tử trong list|Không|\n",
    "|`copy()`|Sao chép toàn bộ list|Có|\n",
    "|`count()`|Đếm số lần một phần tử xuất hiện trong list|Có|\n",
    "|`extend()`|Kết hợp list với một list khác|Không|\n",
    "|`index()`|Trả về vị trí phần tử trong list|Có|\n",
    "|`insert()`|Chèn một phần tử vào list tại vị trí cho trước|Không|\n",
    "|`pop()`|Loại bỏ phần tử ở vị trí index cho trước trong list|Không|\n",
    "|`remove()`|Loại bỏ một phần tử khỏi list|Không|\n",
    "|`reverse()`|Đảo ngược thứ tự các phần tử trong list|Không|\n",
    "|`sort()`|Sắp xếp các phần tử trong list|Không|"
   ]
  },
  {
   "cell_type": "code",
   "execution_count": 34,
   "id": "ab91e629-3e0f-4f3a-b43f-0b0cad906388",
   "metadata": {},
   "outputs": [],
   "source": [
    "#Thêm giá trị vào cuối, không trả về, sửa thẳng trực tiếp vào trong list, \n",
    "# không cần gán biến"
   ]
  },
  {
   "cell_type": "markdown",
   "id": "e33b2fc2-042a-4f72-8f42-4a0f2c118420",
   "metadata": {},
   "source": [
    "để biết có những hàm nào với 1 cấu trúc dữ liệu, dùng câu lệnh dir()"
   ]
  },
  {
   "cell_type": "code",
   "execution_count": 79,
   "id": "29688470-4b1f-4fba-a543-4462d8da47fd",
   "metadata": {},
   "outputs": [
    {
     "data": {
      "text/plain": [
       "['__add__',\n",
       " '__class__',\n",
       " '__contains__',\n",
       " '__delattr__',\n",
       " '__delitem__',\n",
       " '__dir__',\n",
       " '__doc__',\n",
       " '__eq__',\n",
       " '__format__',\n",
       " '__ge__',\n",
       " '__getattribute__',\n",
       " '__getitem__',\n",
       " '__gt__',\n",
       " '__hash__',\n",
       " '__iadd__',\n",
       " '__imul__',\n",
       " '__init__',\n",
       " '__init_subclass__',\n",
       " '__iter__',\n",
       " '__le__',\n",
       " '__len__',\n",
       " '__lt__',\n",
       " '__mul__',\n",
       " '__ne__',\n",
       " '__new__',\n",
       " '__reduce__',\n",
       " '__reduce_ex__',\n",
       " '__repr__',\n",
       " '__reversed__',\n",
       " '__rmul__',\n",
       " '__setattr__',\n",
       " '__setitem__',\n",
       " '__sizeof__',\n",
       " '__str__',\n",
       " '__subclasshook__',\n",
       " 'append',\n",
       " 'clear',\n",
       " 'copy',\n",
       " 'count',\n",
       " 'extend',\n",
       " 'index',\n",
       " 'insert',\n",
       " 'pop',\n",
       " 'remove',\n",
       " 'reverse',\n",
       " 'sort']"
      ]
     },
     "execution_count": 79,
     "metadata": {},
     "output_type": "execute_result"
    }
   ],
   "source": [
    "dir(ls)"
   ]
  },
  {
   "cell_type": "markdown",
   "id": "8d4c96c6-5e15-40fd-ad9f-26a712314e62",
   "metadata": {},
   "source": [
    "Bỏ qua mấy thằng có dấu gạch dưới"
   ]
  },
  {
   "cell_type": "code",
   "execution_count": 94,
   "id": "2e1f87fd-1eea-4f1b-930b-2d80027afdea",
   "metadata": {},
   "outputs": [
    {
     "data": {
      "text/plain": [
       "['append',\n",
       " 'clear',\n",
       " 'copy',\n",
       " 'count',\n",
       " 'extend',\n",
       " 'index',\n",
       " 'insert',\n",
       " 'pop',\n",
       " 'remove',\n",
       " 'reverse',\n",
       " 'sort']"
      ]
     },
     "execution_count": 94,
     "metadata": {},
     "output_type": "execute_result"
    }
   ],
   "source": [
    "# lặp qua tất cả các phần từ bên trong\n",
    "# Nếu như có dấu __ thì bỏ, còn lại sẽ giữ\n",
    "[method for method in dir(ls) if not method.startswith('_')]"
   ]
  },
  {
   "cell_type": "code",
   "execution_count": 90,
   "id": "9ed0641d-3b18-480d-ab40-b55361bffc2f",
   "metadata": {},
   "outputs": [],
   "source": [
    "# Cho chuột vào giữa hàm, ấn shift + tab để xem hướng dẫn\n",
    "ls.extend('trtrung',)"
   ]
  },
  {
   "cell_type": "code",
   "execution_count": null,
   "id": "a6b8c4f0-7ab7-43f0-b558-4fc668dc9c73",
   "metadata": {},
   "outputs": [],
   "source": []
  },
  {
   "cell_type": "markdown",
   "id": "8a5c7f8e-b157-477f-8e92-9f2b64b6b9dc",
   "metadata": {},
   "source": [
    "Đố vui:\n",
    "- Hàm `extend()` và hàm `append()` khác gì nhau?\n",
    "- Hàm `remove()` and `pop()` khác gì nhau?"
   ]
  },
  {
   "cell_type": "markdown",
   "id": "a7bcf119-36e2-4522-b1a0-7db5023d3578",
   "metadata": {},
   "source": [
    "Hàm extend() và append() thì đều dùng để thêm giá trị vào list, nhưng extend thì thêm 1 list vào, tức là có thể thêm được nhiều giá trị cùng lúc vào, còn append thì chỉ thêm được 1 giá trị vào list ban đầu"
   ]
  },
  {
   "cell_type": "markdown",
   "id": "06b1ebf5-45b0-427a-b88b-f42c88c1b0c5",
   "metadata": {},
   "source": [
    "remove thì xoá theo giá trị chỉ định, còn pop thì xoá theo index"
   ]
  },
  {
   "cell_type": "markdown",
   "id": "8ab380fb-d22d-4d13-9281-1a81ee9d7842",
   "metadata": {},
   "source": [
    "#### 4.2 Tuple\n",
    "\n",
    "##### 4.2.0 Khai báo tuple\n",
    "\n",
    "- Cú pháp: `(value1, value2, ...)`"
   ]
  },
  {
   "cell_type": "code",
   "execution_count": 37,
   "id": "97e62bcc-20dd-4bb0-885d-55d5069f286e",
   "metadata": {},
   "outputs": [
    {
     "data": {
      "text/plain": [
       "(1, 2, 3.14, 'Vietnam')"
      ]
     },
     "execution_count": 37,
     "metadata": {},
     "output_type": "execute_result"
    }
   ],
   "source": [
    "#Tuple thì để trong dấu ngoặc đơn, list thì để trong dấu ngoặc vuông\n",
    "tup = (1, 2, 3.14, 'Vietnam')\n",
    "tup"
   ]
  },
  {
   "cell_type": "markdown",
   "id": "a600e0ad-0d7f-4363-a34f-0bd579e2d690",
   "metadata": {},
   "source": [
    "##### 4.2.1 Các hàm cơ bản trong tuple\n",
    "\n",
    "|Tên hàm|Ý nghĩa|Trả về giá trị|\n",
    "|-|-|-|\n",
    "|`count()`|Đếm số lần một phần tử xuất hiện trong tuple|Có|\n",
    "|`index()`|Trả về vị trí phần tử trong tuple|Có|"
   ]
  },
  {
   "cell_type": "code",
   "execution_count": 38,
   "id": "9436aceb-5d1c-44e5-b174-ea03ff44e4c0",
   "metadata": {},
   "outputs": [
    {
     "data": {
      "text/plain": [
       "['count', 'index']"
      ]
     },
     "execution_count": 38,
     "metadata": {},
     "output_type": "execute_result"
    }
   ],
   "source": [
    "[method for method in dir(tup) if not method.startswith('_')]"
   ]
  },
  {
   "cell_type": "code",
   "execution_count": 39,
   "id": "fa84b6ec-dd23-49ce-99e2-871af1a5057c",
   "metadata": {},
   "outputs": [
    {
     "data": {
      "text/plain": [
       "1"
      ]
     },
     "execution_count": 39,
     "metadata": {},
     "output_type": "execute_result"
    }
   ],
   "source": [
    "tup.count(3.14)"
   ]
  },
  {
   "cell_type": "code",
   "execution_count": 40,
   "id": "52775f45-b09c-48c6-9397-238c53fec809",
   "metadata": {},
   "outputs": [
    {
     "data": {
      "text/plain": [
       "1"
      ]
     },
     "execution_count": 40,
     "metadata": {},
     "output_type": "execute_result"
    }
   ],
   "source": [
    "tup.index(2)"
   ]
  },
  {
   "cell_type": "markdown",
   "id": "9ac494df-c373-4fbd-be0d-1fae08116c94",
   "metadata": {},
   "source": [
    "#### 4.3 Set\n",
    "\n",
    "\n",
    "##### 4.3.0 Khai báo set\n",
    "\n",
    "- Cú pháp: `{value1, value2, ...}`\n"
   ]
  },
  {
   "cell_type": "code",
   "execution_count": 42,
   "id": "e7bc2fbf-3155-4e8c-bed3-95942f3cf6a6",
   "metadata": {},
   "outputs": [
    {
     "data": {
      "text/plain": [
       "{1, 2, 3}"
      ]
     },
     "execution_count": 42,
     "metadata": {},
     "output_type": "execute_result"
    }
   ],
   "source": [
    "# Các giá trị trong set là distin, nên có thể dùng để làm key\n",
    "s = {1, 1, 1, 2, 3}\n",
    "s"
   ]
  },
  {
   "cell_type": "code",
   "execution_count": 43,
   "id": "ee7c8e36-de0c-412d-9d10-085d52e24642",
   "metadata": {},
   "outputs": [
    {
     "data": {
      "text/plain": [
       "{1, 2, 3}"
      ]
     },
     "execution_count": 43,
     "metadata": {},
     "output_type": "execute_result"
    }
   ],
   "source": [
    "s.difference()"
   ]
  },
  {
   "cell_type": "markdown",
   "id": "9f21eede-0912-4c83-a061-60b0fe305e26",
   "metadata": {},
   "source": [
    "##### 4.3.1 Các hàm cơ bản trong set\n",
    "\n",
    "|Tên hàm|Ý nghĩa|Trả về giá trị|\n",
    "|-|-|-|\n",
    "|`add()`|Thêm một phần tử vào vị trí cuối cùng trong set|Không|\n",
    "|`clear()`|Xóa sạch các phần tử trong set|Không|\n",
    "|`copy()`|Sao chép toàn bộ set|Có|\n",
    "|`A.difference(B)`|Phép trừ sẽ trả về một tập hợp các giá trị chỉ có ở set A hoặc set B|Có|\n",
    "|`A.difference_update(B)`|Xóa các thành phần tồn tại trong cả hai bộ của set A|Không|\n",
    "|`discard()`|Xoá phần tử trong set|Có|\n",
    "|`A.intersection(B)`|Phép giao giữa 2 set|Có|\n",
    "|`A.intersection_update(B)`|Loại bỏ các thành phần không có trong cả 2 set|Không|\n",
    "|`A.isdisjoint(B)`|Trả về True nếu 2 set là tập hợp rời rạc|Có|\n",
    "|`A.issubset(B)`|Trả về True nếu tất cả các item của set A đều có trong set B, False nếu ngược lại|Có|\n",
    "|`A.issuperset(B)`|Trả về True nếu tất cả các item của set B đều có trong set A, False nếu ngược lại|Có|\n",
    "|`pop()`|Loại bỏ phần tử ở vị trí index cho trước|Không|\n",
    "|`remove()`|Loại bỏ một phần tử |Không|\n",
    "|`A.symmetric_difference(B)`|Phép đối xứng trả về tập hợp những giá trị có trong set A không có trong set B và ngược lại|Có|\n",
    "|`A.symmetric_difference_update(B)`|Xóa các thành phần có trong cả hai nhóm và chèn các mục không có trong cả hai nhóm|Có|\n",
    "|`A.union(B)`|Phép hợp của 2 set|Có|\n",
    "|`update()`|Thêm phần tử|Không|\n",
    "\n",
    "\n",
    "Để có thể nắm được ý nghĩa của các hàm trong set hay bất kì cấu trúc dữ liệu nào, ta có thể tận dụng `docstring` hoặc `help()`.\n"
   ]
  },
  {
   "cell_type": "code",
   "execution_count": 44,
   "id": "847121a1-b994-4ae2-9e5f-250fdb8cf258",
   "metadata": {},
   "outputs": [
    {
     "data": {
      "text/plain": [
       "['add',\n",
       " 'clear',\n",
       " 'copy',\n",
       " 'difference',\n",
       " 'difference_update',\n",
       " 'discard',\n",
       " 'intersection',\n",
       " 'intersection_update',\n",
       " 'isdisjoint',\n",
       " 'issubset',\n",
       " 'issuperset',\n",
       " 'pop',\n",
       " 'remove',\n",
       " 'symmetric_difference',\n",
       " 'symmetric_difference_update',\n",
       " 'union',\n",
       " 'update']"
      ]
     },
     "execution_count": 44,
     "metadata": {},
     "output_type": "execute_result"
    }
   ],
   "source": [
    "[method for method in dir(s) if not method.startswith('_')]"
   ]
  },
  {
   "cell_type": "code",
   "execution_count": 45,
   "id": "a157081d-f942-4c3e-ab4d-ef0550133550",
   "metadata": {},
   "outputs": [],
   "source": [
    "s = {1, 1, 1, 2, 3}\n",
    "s1 = {2,3,4,5}"
   ]
  },
  {
   "cell_type": "code",
   "execution_count": 46,
   "id": "cd0b96f7-4cf2-4a3c-bbf6-095cf704cc01",
   "metadata": {},
   "outputs": [
    {
     "data": {
      "text/plain": [
       "{1}"
      ]
     },
     "execution_count": 46,
     "metadata": {},
     "output_type": "execute_result"
    }
   ],
   "source": [
    "s.difference(s1)"
   ]
  },
  {
   "cell_type": "code",
   "execution_count": 47,
   "id": "6085bddb-a414-4689-8608-add85e629445",
   "metadata": {},
   "outputs": [
    {
     "data": {
      "text/plain": [
       "{4, 5}"
      ]
     },
     "execution_count": 47,
     "metadata": {},
     "output_type": "execute_result"
    }
   ],
   "source": [
    "s1.difference(s)"
   ]
  },
  {
   "cell_type": "code",
   "execution_count": 49,
   "id": "57c5c4ef-327f-4922-8d70-5734fc5fe6b9",
   "metadata": {},
   "outputs": [
    {
     "data": {
      "text/plain": [
       "{2, 3}"
      ]
     },
     "execution_count": 49,
     "metadata": {},
     "output_type": "execute_result"
    }
   ],
   "source": [
    "# Trả về Giá trị trùng của 2 set, inner join\n",
    "s.intersection(s1)"
   ]
  },
  {
   "cell_type": "code",
   "execution_count": 50,
   "id": "b433a69b-4674-4c02-843a-9b5d1dba4ea9",
   "metadata": {},
   "outputs": [
    {
     "data": {
      "text/plain": [
       "{1, 4, 5}"
      ]
     },
     "execution_count": 50,
     "metadata": {},
     "output_type": "execute_result"
    }
   ],
   "source": [
    "#Trả về giá trị khác nhau của 2 set\n",
    "s.symmetric_difference(s1)"
   ]
  },
  {
   "cell_type": "markdown",
   "id": "886e7fd7-1008-438a-8711-bb9574e8dec4",
   "metadata": {},
   "source": [
    "#### 4.4 Dictionary\n",
    "\n",
    "##### 4.4.0 Khai báo dictionary\n",
    "\n",
    "Để khai báo một dictionary chúng ta dùng cặp dấu `{}` theo cú pháp sau:\n",
    "- Cú pháp: `{key1:value1, key2:value2,...}`\n"
   ]
  },
  {
   "cell_type": "code",
   "execution_count": 51,
   "id": "7ed62ad9-a41d-4416-a920-82605b020f1f",
   "metadata": {},
   "outputs": [
    {
     "data": {
      "text/plain": [
       "{'language1': 'Java', 'language2': 'Python', 'language3': 'C++'}"
      ]
     },
     "execution_count": 51,
     "metadata": {},
     "output_type": "execute_result"
    }
   ],
   "source": [
    "my_dict1 = {'language1':'Java', 'language2':'Python', 'language3':'C++'}\n",
    "my_dict1"
   ]
  },
  {
   "cell_type": "markdown",
   "id": "dcbe179c-9446-4886-ac32-1d62d82b844d",
   "metadata": {},
   "source": [
    "##### 4.4.1 Truy xuất các phần tử trong dictionary"
   ]
  },
  {
   "cell_type": "code",
   "execution_count": 52,
   "id": "3efea3e2-cdbc-4320-842e-83217452c86f",
   "metadata": {},
   "outputs": [
    {
     "data": {
      "text/plain": [
       "'Java'"
      ]
     },
     "execution_count": 52,
     "metadata": {},
     "output_type": "execute_result"
    }
   ],
   "source": [
    "# Truy xuất theo key\n",
    "my_dict1['language1']"
   ]
  },
  {
   "cell_type": "code",
   "execution_count": 63,
   "id": "7ab576e6-b534-4713-a7b3-e451e9d958c6",
   "metadata": {},
   "outputs": [],
   "source": [
    "my_dict1['language4'] = 'C' # dict_name[key] = value"
   ]
  },
  {
   "cell_type": "code",
   "execution_count": 55,
   "id": "2c9eb319-62e9-4f49-94c6-fb7ea1e35e6b",
   "metadata": {},
   "outputs": [
    {
     "data": {
      "text/plain": [
       "{'name': 'Zootpi', 'info': {'age': 1, 'sex': 'unknown'}}"
      ]
     },
     "execution_count": 55,
     "metadata": {},
     "output_type": "execute_result"
    }
   ],
   "source": [
    "my_dict2 = {'name':'Zootpi',\n",
    "           'info':{'age':1,\n",
    "                  'sex':'unknown'}}\n",
    "my_dict2"
   ]
  },
  {
   "cell_type": "code",
   "execution_count": 56,
   "id": "67e6b5f5-d4f4-48d6-9f6d-57dc62ac5ee2",
   "metadata": {},
   "outputs": [
    {
     "data": {
      "text/plain": [
       "'unknown'"
      ]
     },
     "execution_count": 56,
     "metadata": {},
     "output_type": "execute_result"
    }
   ],
   "source": [
    "my_dict2['info']['sex']"
   ]
  },
  {
   "cell_type": "markdown",
   "id": "630a82c4-9ee8-41b0-8ab8-d1005916b108",
   "metadata": {},
   "source": [
    "##### 4.3.3 Các hàm cơ bản trong dictionary\n",
    "\n",
    "|Tên hàm|Ý nghĩa|Trả về giá trị|\n",
    "|-|-|-|\n",
    "|`clear()`|Xóa sạch các phần tử|Không|\n",
    "|`copy()`|Sao chép các phần tử|Có|\n",
    "|`fromkeys()`|Tạo ra một dictionary với các khóa và giá trị được chỉ định|Có|\n",
    "|`get()`|Trả về giá trị của khóa được chỉ định|Có|\n",
    "|`items()`| Trả về danh sách chứa bộ giá trị cho mỗi cặp giá trị khóa|Có|\n",
    "|`keys()`|Trả về danh sách chứa các key của dictionary|Có|\n",
    "|`pop()`|Loại bỏ phần tử có key được chỉ định|Không|\n",
    "|`popitem()`|Xóa cặp key-value được chèn cuối cùng|Không|\n",
    "|`setdefault()`|Trả về giá trị của key được chỉ định. Nếu key không tồn tại: hãy chèn key, với giá trị được chỉ định|Không|\n",
    "|`update()`|Cập nhật dictionary với các cặp key-value được chỉ định|Không|\n",
    "|`values()`| Trả về danh sách tất cả các value trong từ điển |Có|"
   ]
  },
  {
   "cell_type": "code",
   "execution_count": 57,
   "id": "d3ca58f5-1676-47be-9538-db291d97985c",
   "metadata": {},
   "outputs": [
    {
     "data": {
      "text/plain": [
       "['clear',\n",
       " 'copy',\n",
       " 'fromkeys',\n",
       " 'get',\n",
       " 'items',\n",
       " 'keys',\n",
       " 'pop',\n",
       " 'popitem',\n",
       " 'setdefault',\n",
       " 'update',\n",
       " 'values']"
      ]
     },
     "execution_count": 57,
     "metadata": {},
     "output_type": "execute_result"
    }
   ],
   "source": [
    "[method for method in dir(my_dict1) if not method.startswith('_')]"
   ]
  },
  {
   "cell_type": "code",
   "execution_count": 58,
   "id": "e997dc89-7284-496d-a4b4-4854d6649ed3",
   "metadata": {},
   "outputs": [
    {
     "data": {
      "text/plain": [
       "{'key1': 0, 'key2': 0, 'key3': 0}"
      ]
     },
     "execution_count": 58,
     "metadata": {},
     "output_type": "execute_result"
    }
   ],
   "source": [
    "x = ('key1', 'key2', 'key3')\n",
    "y = 0\n",
    "dict.fromkeys(x, y)"
   ]
  },
  {
   "cell_type": "code",
   "execution_count": 59,
   "id": "3d5b952c-9bea-45cf-a2cb-e244478b5233",
   "metadata": {},
   "outputs": [
    {
     "data": {
      "text/plain": [
       "'Python'"
      ]
     },
     "execution_count": 59,
     "metadata": {},
     "output_type": "execute_result"
    }
   ],
   "source": [
    "my_dict1.get('language2')"
   ]
  },
  {
   "cell_type": "code",
   "execution_count": 60,
   "id": "c8825edc-d48b-4a93-86ce-0c64895f85cf",
   "metadata": {},
   "outputs": [
    {
     "data": {
      "text/plain": [
       "dict_items([('language1', 'Java'), ('language2', 'Python'), ('language3', 'C++')])"
      ]
     },
     "execution_count": 60,
     "metadata": {},
     "output_type": "execute_result"
    }
   ],
   "source": [
    "my_dict1.items()"
   ]
  },
  {
   "cell_type": "code",
   "execution_count": 61,
   "id": "be3857b8-1e5e-4bfd-bad9-31264b45f7e7",
   "metadata": {},
   "outputs": [
    {
     "data": {
      "text/plain": [
       "dict_keys(['language1', 'language2', 'language3'])"
      ]
     },
     "execution_count": 61,
     "metadata": {},
     "output_type": "execute_result"
    }
   ],
   "source": [
    "my_dict1.keys()"
   ]
  },
  {
   "cell_type": "code",
   "execution_count": 64,
   "id": "071a6dec-692e-4078-9796-41e815013a57",
   "metadata": {},
   "outputs": [
    {
     "data": {
      "text/plain": [
       "'C'"
      ]
     },
     "execution_count": 64,
     "metadata": {},
     "output_type": "execute_result"
    }
   ],
   "source": [
    "my_dict1.pop('language4')"
   ]
  },
  {
   "cell_type": "code",
   "execution_count": 65,
   "id": "9a28f659-06dd-408c-831b-ac8774879b0f",
   "metadata": {},
   "outputs": [
    {
     "data": {
      "text/plain": [
       "{'language1': 'Java', 'language2': 'Python', 'language3': 'C++'}"
      ]
     },
     "execution_count": 65,
     "metadata": {},
     "output_type": "execute_result"
    }
   ],
   "source": [
    "my_dict1"
   ]
  },
  {
   "cell_type": "code",
   "execution_count": 66,
   "id": "d7386333-e680-4168-9cca-5d19a349754c",
   "metadata": {},
   "outputs": [
    {
     "data": {
      "text/plain": [
       "('language3', 'C++')"
      ]
     },
     "execution_count": 66,
     "metadata": {},
     "output_type": "execute_result"
    }
   ],
   "source": [
    "my_dict1.popitem()"
   ]
  },
  {
   "cell_type": "code",
   "execution_count": 67,
   "id": "5830c5d6-fbed-47d0-b26a-6e4be343087b",
   "metadata": {},
   "outputs": [
    {
     "data": {
      "text/plain": [
       "{'language1': 'Java', 'language2': 'Python'}"
      ]
     },
     "execution_count": 67,
     "metadata": {},
     "output_type": "execute_result"
    }
   ],
   "source": [
    "my_dict1"
   ]
  },
  {
   "cell_type": "code",
   "execution_count": 68,
   "id": "bf8ad70b-dd69-46ce-87d6-6bedf8d33e21",
   "metadata": {},
   "outputs": [],
   "source": [
    "my_dict1.setdefault('language3')"
   ]
  },
  {
   "cell_type": "code",
   "execution_count": 69,
   "id": "70d54a07-e8a6-424b-9d88-382a6268385b",
   "metadata": {},
   "outputs": [
    {
     "data": {
      "text/plain": [
       "{'language1': 'Java', 'language2': 'Python', 'language3': None}"
      ]
     },
     "execution_count": 69,
     "metadata": {},
     "output_type": "execute_result"
    }
   ],
   "source": [
    "my_dict1"
   ]
  },
  {
   "cell_type": "code",
   "execution_count": 70,
   "id": "723f6290-1f93-4d10-ad4c-9295324c0f17",
   "metadata": {},
   "outputs": [
    {
     "data": {
      "text/plain": [
       "{'language1': 'Java', 'language2': 'Python', 'language3': 'Ruby'}"
      ]
     },
     "execution_count": 70,
     "metadata": {},
     "output_type": "execute_result"
    }
   ],
   "source": [
    "my_dict1.update({'language3':'Ruby'})\n",
    "my_dict1"
   ]
  },
  {
   "cell_type": "code",
   "execution_count": 71,
   "id": "b5c17334-b38e-454a-a211-a1797b5bf22d",
   "metadata": {},
   "outputs": [
    {
     "data": {
      "text/plain": [
       "dict_values(['Java', 'Python', 'Ruby'])"
      ]
     },
     "execution_count": 71,
     "metadata": {},
     "output_type": "execute_result"
    }
   ],
   "source": [
    "my_dict1.values()"
   ]
  },
  {
   "cell_type": "markdown",
   "id": "33659433-089e-4dd5-8509-5ac0806bc9ae",
   "metadata": {},
   "source": [
    "Ở bài tiếp theo, chúng ta sẽ tìm hiểu về vòng lặp, câu điều kiện, cũng như cách viết 1 hàm trong Python."
   ]
  }
 ],
 "metadata": {
  "kernelspec": {
   "display_name": "Python 3",
   "language": "python",
   "name": "python3"
  },
  "language_info": {
   "codemirror_mode": {
    "name": "ipython",
    "version": 3
   },
   "file_extension": ".py",
   "mimetype": "text/x-python",
   "name": "python",
   "nbconvert_exporter": "python",
   "pygments_lexer": "ipython3",
   "version": "3.8.8"
  }
 },
 "nbformat": 4,
 "nbformat_minor": 5
}
