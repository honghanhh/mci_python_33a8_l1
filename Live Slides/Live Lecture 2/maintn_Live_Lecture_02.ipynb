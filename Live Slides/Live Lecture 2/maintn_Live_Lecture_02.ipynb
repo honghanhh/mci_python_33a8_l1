{
 "cells": [
  {
   "cell_type": "markdown",
   "id": "c1d182e6-3239-4517-86b7-c2bce677319d",
   "metadata": {},
   "source": [
    "# <center> Bài 2: Giới thiệu về PYTHON </center>\n",
    "![](https://laptrinhcanban.com/python/nhap-mon-lap-trinh-python/gioi-thieu-python/python-la-gi/Python.jpg)"
   ]
  },
  {
   "cell_type": "markdown",
   "id": "94b15aae-5abd-4c3e-9356-76c6288d07de",
   "metadata": {},
   "source": [
    "## I. GIỚI THIỆU\n",
    "\n",
    "![Độ phổ biến của 1 số ngôn ngữ lập trình được sử dụng trên các kho lưu trữ trên GitHub.](./img/python.png)\n",
    "> *Độ phổ biến của 1 số ngôn ngữ lập trình được sử dụng trên các kho lưu trữ trên GitHub tính đến tháng 4/2014 theo [Githut](https://githut.info/).*"
   ]
  },
  {
   "cell_type": "markdown",
   "id": "fc5c6b0a-dd30-4a67-b3a0-41ca10ce5d6c",
   "metadata": {},
   "source": [
    "Chương trình đầu tiên `print('Hello, world')`."
   ]
  },
  {
   "cell_type": "code",
   "execution_count": 4,
   "id": "0cb31b69-b04e-4fa2-aac1-e98b56f5a2bd",
   "metadata": {},
   "outputs": [
    {
     "name": "stdout",
     "output_type": "stream",
     "text": [
      "Hello, world\n"
     ]
    }
   ],
   "source": [
    "# built-in function (green text) vs user-define function\n",
    "print('Hello, world')"
   ]
  },
  {
   "cell_type": "markdown",
   "id": "323186fe-887b-482c-af41-1e41b80a3af4",
   "metadata": {},
   "source": [
    "Dòng chú thích (Comments): Không run code cho chú thích"
   ]
  },
  {
   "cell_type": "code",
   "execution_count": 7,
   "id": "5a056565-6581-43ee-96ff-6d01df635110",
   "metadata": {},
   "outputs": [],
   "source": [
    "# Comments after '#'"
   ]
  },
  {
   "cell_type": "markdown",
   "id": "613dd760-4867-4c96-ae47-379483fec098",
   "metadata": {},
   "source": [
    "Chú thích nhiều dòng:"
   ]
  },
  {
   "cell_type": "code",
   "execution_count": 62,
   "id": "4323f679-8db5-499c-a804-68814b955c8c",
   "metadata": {},
   "outputs": [
    {
     "name": "stdout",
     "output_type": "stream",
     "text": [
      "Hello, World!\n",
      "Hello, World!\n"
     ]
    }
   ],
   "source": [
    "# Cmd + A >> Cmd + /\n",
    "# Use print function\n",
    "# to\n",
    "# print \"Hello, world\"\n",
    "\n",
    "'''\n",
    "Use print() function\n",
    "to print Hello, World! on the screen\n",
    "'''\n",
    "print(\"Hello, World!\")\n",
    "\"\"\"\n",
    "Use print() function\n",
    "to print Hello, World! on the screen\n",
    "\"\"\"\n",
    "print(\"Hello, World!\")"
   ]
  },
  {
   "cell_type": "markdown",
   "id": "08065013-65a2-4035-94c0-ea6078793130",
   "metadata": {},
   "source": [
    "Ok, bây giờ chúng ta sẽ cũng nhau tìm hiểu sâu hơn về các thành phần cơ bản trong Python nha."
   ]
  },
  {
   "cell_type": "markdown",
   "id": "05b3fc2a-73e7-41bd-88ad-562f1e9051a8",
   "metadata": {},
   "source": [
    "## II. CÁC THÀNH PHẦN CƠ BẢN TRONG PYTHON "
   ]
  },
  {
   "cell_type": "markdown",
   "id": "851db246-0092-480a-8f58-76810e4cb20c",
   "metadata": {},
   "source": [
    "### 1. Biến (Variables)"
   ]
  },
  {
   "cell_type": "markdown",
   "id": "7e931684-b6a5-4214-a196-bb5f3afe7f91",
   "metadata": {},
   "source": [
    "#### 1.1 Khởi tạo biến \n",
    "\n",
    "Để khai báo biến trong Python thì mọi người sử dụng cú pháp `tên_biến = giá_trị`, trong đó:\n",
    "- `tên_biến`: tên của biến mà các bạn muốn đặt. \n",
    "- `giá_trị` : giá trị của biến mà bạn muốn gán.\n",
    "- `=`: phép gán."
   ]
  },
  {
   "cell_type": "code",
   "execution_count": 17,
   "id": "4e3ca51c-a622-46d0-a250-e9123c937362",
   "metadata": {},
   "outputs": [
    {
     "data": {
      "text/plain": [
       "15241578778462125684990"
      ]
     },
     "execution_count": 17,
     "metadata": {},
     "output_type": "execute_result"
    }
   ],
   "source": [
    "123456789019*123456789210"
   ]
  },
  {
   "cell_type": "code",
   "execution_count": 18,
   "id": "d67cde86-1a1e-409b-8b02-e250a2934a8d",
   "metadata": {},
   "outputs": [
    {
     "data": {
      "text/plain": [
       "15241578778463150258810"
      ]
     },
     "execution_count": 18,
     "metadata": {},
     "output_type": "execute_result"
    }
   ],
   "source": [
    "15241578778462125684990 + 1024573820"
   ]
  },
  {
   "cell_type": "code",
   "execution_count": 20,
   "id": "5eafe616-f606-4c89-8009-8c49b515425b",
   "metadata": {},
   "outputs": [],
   "source": [
    "x = 123456789019\n",
    "y = 123456789210\n",
    "z = 1024573820"
   ]
  },
  {
   "cell_type": "code",
   "execution_count": 23,
   "id": "250bb5ff-f0ce-428b-9e39-db14d7e3a84e",
   "metadata": {},
   "outputs": [],
   "source": [
    "x, y, z = 123456789019, 123456789210, 1024573820"
   ]
  },
  {
   "cell_type": "code",
   "execution_count": 22,
   "id": "af2320e5-49eb-4820-b69e-735a3cb894eb",
   "metadata": {},
   "outputs": [
    {
     "data": {
      "text/plain": [
       "15241578778463150258810"
      ]
     },
     "execution_count": 22,
     "metadata": {},
     "output_type": "execute_result"
    }
   ],
   "source": [
    "x * y + z"
   ]
  },
  {
   "cell_type": "markdown",
   "id": "d2da04e6-240a-4207-a9b1-6ad14d548af3",
   "metadata": {},
   "source": [
    "Tên biến: Không được bắt đầu bằng số\n",
    "Tên biến: Case sensitive\n",
    "Tên biến: Không trùng với các từ khoá trong Python (function - green text), e.g.: print, list"
   ]
  },
  {
   "cell_type": "markdown",
   "id": "662a7150-7890-4424-b6c2-3d834c83ce68",
   "metadata": {},
   "source": [
    "#### 1.2 Các kiểu dữ liệu"
   ]
  },
  {
   "cell_type": "markdown",
   "id": "769f4a3f-5702-4818-ac19-5311bd6747c1",
   "metadata": {},
   "source": [
    "|Kiểu dữ liệu|Ý nghĩa|Ví dụ|\n",
    "|-|-|-|\n",
    "|`int`|Kiểu số nguyên (không có chứa dấu chấm thập phân)|`11`, `-15`|\n",
    "|`float`|Kiểu số thực (có chứa dấu chấm thập phân)|`3.14`, `4.02`|\n",
    "|`complex`|Kiểu số phức|`1 + 2j`, `3 - 4j`|\n",
    "|`str`|Kiểu chuỗi|`'MCI'`,`'Python'`|\n",
    "|`bool`|Kiểu luận lý|`TRUE`, `FALSE`|"
   ]
  },
  {
   "cell_type": "markdown",
   "id": "0e316786-a879-4011-aac7-3de6dc08ed29",
   "metadata": {},
   "source": [
    "#### 1.3 Kiểm tra kiểu dữ liệu của biến"
   ]
  },
  {
   "cell_type": "markdown",
   "id": "a65b57a8-4c5d-4768-b715-b839462cc73d",
   "metadata": {},
   "source": [
    "Để kiểm tra kiểu dữ liệu giá trị của một biến đã khởi tạo, ta sử dụng hàm `type()`\n",
    "- Cú pháp: `type(tên_biến)`"
   ]
  },
  {
   "cell_type": "code",
   "execution_count": 28,
   "id": "a82921f8-e047-4d39-8597-e6a40ba4b94c",
   "metadata": {},
   "outputs": [
    {
     "data": {
      "text/plain": [
       "int"
      ]
     },
     "execution_count": 28,
     "metadata": {},
     "output_type": "execute_result"
    }
   ],
   "source": [
    "type(x)"
   ]
  },
  {
   "cell_type": "code",
   "execution_count": 30,
   "id": "e231fc16-cec6-43c8-9189-dcebf9ab27c8",
   "metadata": {},
   "outputs": [
    {
     "data": {
      "text/plain": [
       "float"
      ]
     },
     "execution_count": 30,
     "metadata": {},
     "output_type": "execute_result"
    }
   ],
   "source": [
    "type(3.14)"
   ]
  },
  {
   "cell_type": "code",
   "execution_count": 33,
   "id": "ceadc128-845c-4900-9159-f99380c6a5e9",
   "metadata": {},
   "outputs": [
    {
     "data": {
      "text/plain": [
       "complex"
      ]
     },
     "execution_count": 33,
     "metadata": {},
     "output_type": "execute_result"
    }
   ],
   "source": [
    "type(2j + 1)"
   ]
  },
  {
   "cell_type": "code",
   "execution_count": 34,
   "id": "383a3269-c05a-4364-aecf-3d5695f3d58b",
   "metadata": {},
   "outputs": [
    {
     "data": {
      "text/plain": [
       "str"
      ]
     },
     "execution_count": 34,
     "metadata": {},
     "output_type": "execute_result"
    }
   ],
   "source": [
    "type('Mai')"
   ]
  },
  {
   "cell_type": "markdown",
   "id": "6bed03de-58bf-4e01-8692-022acf964c30",
   "metadata": {},
   "source": [
    "### 2. Toán tử số học\n",
    "|Phép toán|Biểu thức|Ý nghĩa |\n",
    "|-|-|-|\n",
    "|+|`x + y`|Phép cộng|\n",
    "|-|`x - y`|Phép trừ|\n",
    "|*|`x * y`|Phép nhân|\n",
    "|/|`x / y`|Phép chia|\n",
    "|%|`x % y`|Phép chia lấy phần dư|\n",
    "|//|`x // y`|Phép chia làm tròn xuống|\n",
    "|**|`x ** y`|Phép mũ|"
   ]
  },
  {
   "cell_type": "code",
   "execution_count": 50,
   "id": "a269da62-d520-47ba-a088-1e2c26833dd0",
   "metadata": {},
   "outputs": [],
   "source": [
    "x, y = 11, 13.5 # Dù đã có x, y ở bên trên, thì chỉ cần chạy lại code giá trị mới >> OK"
   ]
  },
  {
   "cell_type": "code",
   "execution_count": 43,
   "id": "39413b6d-4d44-45eb-9e4c-47b00a25f158",
   "metadata": {},
   "outputs": [
    {
     "data": {
      "text/plain": [
       "24.5"
      ]
     },
     "execution_count": 43,
     "metadata": {},
     "output_type": "execute_result"
    }
   ],
   "source": [
    "x + y"
   ]
  },
  {
   "cell_type": "code",
   "execution_count": 44,
   "id": "b9d8ca80-2cae-4569-9b9c-4f0ce6a56b2b",
   "metadata": {},
   "outputs": [
    {
     "data": {
      "text/plain": [
       "-2.5"
      ]
     },
     "execution_count": 44,
     "metadata": {},
     "output_type": "execute_result"
    }
   ],
   "source": [
    "x - y"
   ]
  },
  {
   "cell_type": "code",
   "execution_count": 45,
   "id": "2e9b35c1-2a46-431a-8fd1-c9d8be07e4aa",
   "metadata": {},
   "outputs": [
    {
     "data": {
      "text/plain": [
       "148.5"
      ]
     },
     "execution_count": 45,
     "metadata": {},
     "output_type": "execute_result"
    }
   ],
   "source": [
    "x * y"
   ]
  },
  {
   "cell_type": "code",
   "execution_count": 46,
   "id": "e05943fe-ad57-4770-819b-2dca9d87d483",
   "metadata": {},
   "outputs": [
    {
     "data": {
      "text/plain": [
       "0.8148148148148148"
      ]
     },
     "execution_count": 46,
     "metadata": {},
     "output_type": "execute_result"
    }
   ],
   "source": [
    "x / y"
   ]
  },
  {
   "cell_type": "code",
   "execution_count": 47,
   "id": "c5609a13-499d-4877-bf0c-f00a47f2fe74",
   "metadata": {},
   "outputs": [
    {
     "data": {
      "text/plain": [
       "11.0"
      ]
     },
     "execution_count": 47,
     "metadata": {},
     "output_type": "execute_result"
    }
   ],
   "source": [
    "x % y"
   ]
  },
  {
   "cell_type": "code",
   "execution_count": 48,
   "id": "c827d1d6-0958-45ae-bf14-dd9f40201237",
   "metadata": {},
   "outputs": [
    {
     "data": {
      "text/plain": [
       "0.0"
      ]
     },
     "execution_count": 48,
     "metadata": {},
     "output_type": "execute_result"
    }
   ],
   "source": [
    "x // y"
   ]
  },
  {
   "cell_type": "code",
   "execution_count": 51,
   "id": "c0acdd13-e717-4d76-87fc-92f45391f384",
   "metadata": {},
   "outputs": [
    {
     "data": {
      "text/plain": [
       "114498882926864.97"
      ]
     },
     "execution_count": 51,
     "metadata": {},
     "output_type": "execute_result"
    }
   ],
   "source": [
    "x ** y"
   ]
  },
  {
   "cell_type": "code",
   "execution_count": 52,
   "id": "0e866dfd-68eb-4d15-993b-d99c3eb00598",
   "metadata": {},
   "outputs": [
    {
     "data": {
      "text/plain": [
       "3.3166247903554"
      ]
     },
     "execution_count": 52,
     "metadata": {},
     "output_type": "execute_result"
    }
   ],
   "source": [
    "x ** (1/2)"
   ]
  },
  {
   "cell_type": "code",
   "execution_count": 59,
   "id": "fa63763e-0512-4012-9a95-cc823a635069",
   "metadata": {},
   "outputs": [
    {
     "data": {
      "text/plain": [
       "4"
      ]
     },
     "execution_count": 59,
     "metadata": {},
     "output_type": "execute_result"
    }
   ],
   "source": [
    "round(3.91)"
   ]
  },
  {
   "cell_type": "markdown",
   "id": "87757f6a-451e-4051-ac37-3c6fe733e0f1",
   "metadata": {},
   "source": [
    "Create User-defined function:\n",
    "- Import thư viện\n",
    "- Gọi function\n",
    "- Dùng function"
   ]
  },
  {
   "cell_type": "code",
   "execution_count": 58,
   "id": "7bf88241-bf2f-4787-b609-e9b1303b86df",
   "metadata": {},
   "outputs": [
    {
     "data": {
      "text/plain": [
       "3.3166247903554"
      ]
     },
     "execution_count": 58,
     "metadata": {},
     "output_type": "execute_result"
    }
   ],
   "source": [
    "import math\n",
    "math.sqrt(x)"
   ]
  },
  {
   "cell_type": "markdown",
   "id": "ef8e5cc1-45c9-4bd9-bfd1-fa86c5850ba8",
   "metadata": {},
   "source": [
    "### 3. Toán tử luận lý"
   ]
  },
  {
   "cell_type": "markdown",
   "id": "068ebd1e-21a1-46c9-843a-d59442293ecf",
   "metadata": {},
   "source": [
    "##### 4.1.2 Các hàm cơ bản với List"
   ]
  },
  {
   "cell_type": "code",
   "execution_count": 63,
   "id": "9436aceb-5d1c-44e5-b174-ea03ff44e4c0",
   "metadata": {},
   "outputs": [
    {
     "data": {
      "text/plain": [
       "True"
      ]
     },
     "execution_count": 63,
     "metadata": {},
     "output_type": "execute_result"
    }
   ],
   "source": [
    "True and True"
   ]
  },
  {
   "cell_type": "code",
   "execution_count": 64,
   "id": "951bdef8-daae-4447-9b5f-2f46db91abc4",
   "metadata": {},
   "outputs": [
    {
     "data": {
      "text/plain": [
       "False"
      ]
     },
     "execution_count": 64,
     "metadata": {},
     "output_type": "execute_result"
    }
   ],
   "source": [
    "True and False"
   ]
  },
  {
   "cell_type": "code",
   "execution_count": 65,
   "id": "1b47b310-a715-4626-9024-2f4154071ee4",
   "metadata": {},
   "outputs": [
    {
     "data": {
      "text/plain": [
       "True"
      ]
     },
     "execution_count": 65,
     "metadata": {},
     "output_type": "execute_result"
    }
   ],
   "source": [
    "True or False"
   ]
  },
  {
   "cell_type": "code",
   "execution_count": 67,
   "id": "4ba57f14-31d2-4480-a770-12a7995ce670",
   "metadata": {},
   "outputs": [
    {
     "data": {
      "text/plain": [
       "False"
      ]
     },
     "execution_count": 67,
     "metadata": {},
     "output_type": "execute_result"
    }
   ],
   "source": [
    "not True"
   ]
  },
  {
   "cell_type": "code",
   "execution_count": 68,
   "id": "8537b637-6bfb-4954-b91d-508aa77b8bba",
   "metadata": {},
   "outputs": [
    {
     "data": {
      "text/plain": [
       "False"
      ]
     },
     "execution_count": 68,
     "metadata": {},
     "output_type": "execute_result"
    }
   ],
   "source": [
    "True and (False or True) and False"
   ]
  },
  {
   "cell_type": "code",
   "execution_count": 69,
   "id": "62554189-639a-42f2-8d52-1785b9e6ff41",
   "metadata": {},
   "outputs": [
    {
     "data": {
      "text/plain": [
       "True"
      ]
     },
     "execution_count": 69,
     "metadata": {},
     "output_type": "execute_result"
    }
   ],
   "source": [
    "True and (False or True) and True"
   ]
  },
  {
   "cell_type": "code",
   "execution_count": 70,
   "id": "7e342327-9ce2-4eb0-9e06-c1f69b702356",
   "metadata": {},
   "outputs": [
    {
     "data": {
      "text/plain": [
       "False"
      ]
     },
     "execution_count": 70,
     "metadata": {},
     "output_type": "execute_result"
    }
   ],
   "source": [
    "bool(x) ^ bool(y)"
   ]
  },
  {
   "cell_type": "markdown",
   "id": "94e467dd-9927-4379-981f-d32c8e330bb3",
   "metadata": {},
   "source": [
    "### 4. Toán tử điều kiện"
   ]
  },
  {
   "cell_type": "markdown",
   "id": "de5615bb-02a7-4a9d-9940-070f919d2790",
   "metadata": {},
   "source": [
    "|Toán tử|Biểu thức|Ý nghĩa|\n",
    "|-|-|-|\n",
    "|<|x < y|So sánh giá trị x có nhỏ hơn y hay không|\n",
    "|>|x > y|So sánh giá trị x có lớn hơn y hay không|\n",
    "|<=|x <= y|So sánh giá trị x có nhỏ hơn hoặc bằng y hay không|\n",
    "|>=|x >= y|So sánh giá trị x có lớn hơn hoặc bằng y hay không|\n",
    "|==|x == y|So sánh giá trị x có bằng y hay không|\n",
    "|!=|x != y|So sánh giá trị x có khác y hay không|"
   ]
  },
  {
   "cell_type": "markdown",
   "id": "d2d9dfd3-ac5a-4e58-8642-07df74977f2c",
   "metadata": {},
   "source": [
    "### 5. Cấu trúc dữ liệu\n",
    "`Program = Data Structure + Algorithms (Giải thuật)`"
   ]
  },
  {
   "cell_type": "markdown",
   "id": "4b51c0f1-0f73-4055-ad40-2ad20918d763",
   "metadata": {},
   "source": [
    "Data Structure cho phép ta tổ chức, sắp xếp, quản lý và lưu trữ dữ liệu sao cho đảm bảo việc truy cập dễ dàng hơn và sửa đổi hiệu quả hơn. Được chia thành 2 nhánh:\n",
    "- Built-in function\n",
    "    - List\n",
    "    - Dictionary\n",
    "    - Tuple\n",
    "    - Set\n",
    "- User-defined function\n",
    "    - Linked List\n",
    "    - Stack\n",
    "    - Hashmap\n",
    "    - Queue\n",
    "    - Graph\n",
    "    - Tree"
   ]
  },
  {
   "cell_type": "markdown",
   "id": "518d71b1-217c-4ea0-9d4b-b65fdefa9f90",
   "metadata": {},
   "source": [
    "|Cấu trúc dữ liệu|Cú pháp|Đặc điểm|\n",
    "|-|-|-|\n",
    "|`List`|`[],list()`|Có index, có thứ tự, có thể thay đổi >> Khá linh động vì có thể truyền nhiều kiểu dữ liệu khác nhau vào. List có thể là tập con của list khác|\n",
    "|`Dictionary`|`{key:value}`|Không trùng lặp|\n",
    "|`Tuple`|`(),tuple()`|Có index, có thứ tự, không thể thay đổi|\n",
    "|`Set`|`{},set`|Không index, không trùng lặp, có thứ tự, có thể thay đổi|"
   ]
  },
  {
   "cell_type": "markdown",
   "id": "5dd3ccfc-019f-4786-977c-1939b2b04313",
   "metadata": {},
   "source": [
    "#### 5.1. List"
   ]
  },
  {
   "cell_type": "markdown",
   "id": "0b28d5ee-5689-4737-be1a-8dd4442c8691",
   "metadata": {},
   "source": [
    "`List` = Một danh sách các phần tử dữ liệu phân cách bởi dấu phẩy và được bao ngoài bởi dấu ngoặc vuông [], có thể chứa 1 hoặc nhiều kiểu dữ liệu khác nhau từ 1 số cho đến 1 chuỗi được lưu theo 1 cách tuần tự."
   ]
  },
  {
   "cell_type": "markdown",
   "id": "8ae1e1c0-9354-4d2e-933c-708d4719480f",
   "metadata": {},
   "source": [
    "##### 5.1.1. Khai báo list"
   ]
  },
  {
   "cell_type": "markdown",
   "id": "1a371f48-530a-49b3-b74a-90c7d9b8f6a2",
   "metadata": {},
   "source": [
    "Cú pháp: `[value1, value2,...]`"
   ]
  },
  {
   "cell_type": "code",
   "execution_count": 5,
   "id": "0a8f8de4-731e-470c-86e2-dedf4cc5258b",
   "metadata": {},
   "outputs": [],
   "source": [
    "li = [1, 3.14, 'MCI', 1+2j]\n",
    "#     0   1      2     3  -> Trái qua phải (Index)\n",
    "#    -4  -3     -2    -1  -> Phải qua trái (Reverse Index) -> Dùng khi lấy giá trị cuối cùng mà không biết độ dài của chuỗi là bao nhiêu"
   ]
  },
  {
   "cell_type": "markdown",
   "id": "85a57ee5-09f3-4bce-8609-15c231a29404",
   "metadata": {},
   "source": [
    "Mỗi phần tử trong list đều được gán 1 vị trí, gọi là chỉ số index. \n",
    "Giá trị index bắt đầu từ 0 và tiếp tục cho đến phần tử cuối cùng được gọi là index dương (theo chiều từ trái qua phải). \n",
    "Ngoài ra, ta có thể sử dụng index phủ định (Reverse Index) bắt đầu từ -1 cho phép bạn truy cập các phần tử từ cuối cùng đến đầu tiên (theo chiều từ phải qua trái)."
   ]
  },
  {
   "cell_type": "code",
   "execution_count": 75,
   "id": "38ee9884-1e0b-401b-8945-e9ce449f9238",
   "metadata": {},
   "outputs": [
    {
     "data": {
      "text/plain": [
       "[1, 3.14, 'MCI', (1+2j)]"
      ]
     },
     "execution_count": 75,
     "metadata": {},
     "output_type": "execute_result"
    }
   ],
   "source": [
    "li"
   ]
  },
  {
   "cell_type": "code",
   "execution_count": 9,
   "id": "e88a70fd-bead-4dc2-a68d-66f23ab03cba",
   "metadata": {},
   "outputs": [
    {
     "data": {
      "text/plain": [
       "4"
      ]
     },
     "execution_count": 9,
     "metadata": {},
     "output_type": "execute_result"
    }
   ],
   "source": [
    "len(li) #Độ dài chuỗi"
   ]
  },
  {
   "cell_type": "markdown",
   "id": "23ee8fef-7a50-47e6-9c3d-922bc30ab7a2",
   "metadata": {},
   "source": [
    "##### 5.1.2. Truy xuất phần tử trong list"
   ]
  },
  {
   "cell_type": "markdown",
   "id": "9d24896f-f657-4aaa-a389-d075334d766e",
   "metadata": {},
   "source": [
    "Cú pháp: `Tên_list[index]`"
   ]
  },
  {
   "cell_type": "code",
   "execution_count": 7,
   "id": "71a20865-85ac-48fb-8d10-dff158b23d46",
   "metadata": {},
   "outputs": [
    {
     "data": {
      "text/plain": [
       "1"
      ]
     },
     "execution_count": 7,
     "metadata": {},
     "output_type": "execute_result"
    }
   ],
   "source": [
    "li[0] #Index dương"
   ]
  },
  {
   "cell_type": "code",
   "execution_count": 83,
   "id": "e222d766-ebcf-4fff-a3c5-59f7d71ad2e6",
   "metadata": {},
   "outputs": [
    {
     "data": {
      "text/plain": [
       "'MCI'"
      ]
     },
     "execution_count": 83,
     "metadata": {},
     "output_type": "execute_result"
    }
   ],
   "source": [
    "li[2]"
   ]
  },
  {
   "cell_type": "code",
   "execution_count": 10,
   "id": "a5b842a9-02f8-43d6-8772-b7f804adbf4f",
   "metadata": {},
   "outputs": [
    {
     "data": {
      "text/plain": [
       "1"
      ]
     },
     "execution_count": 10,
     "metadata": {},
     "output_type": "execute_result"
    }
   ],
   "source": [
    "li[-4] #Reverse Index"
   ]
  },
  {
   "cell_type": "code",
   "execution_count": 11,
   "id": "f67430df-a4ab-43f2-b167-12efd98c1496",
   "metadata": {},
   "outputs": [],
   "source": [
    "li1 = [[1,2,3],['HN','HCM'],'Abc'] #Chuỗi trong chuỗi\n",
    "#         0         1         3"
   ]
  },
  {
   "cell_type": "code",
   "execution_count": 12,
   "id": "0781cd46-bc1d-4ec6-ac25-7b0453a451f4",
   "metadata": {},
   "outputs": [
    {
     "data": {
      "text/plain": [
       "2"
      ]
     },
     "execution_count": 12,
     "metadata": {},
     "output_type": "execute_result"
    }
   ],
   "source": [
    "li1[0][1] #Truy xuất dữ liệu index 1 nằm trong chuỗi index 0 của list"
   ]
  },
  {
   "cell_type": "code",
   "execution_count": 86,
   "id": "9be553f6-83ae-4a49-a394-e7f141878ccc",
   "metadata": {},
   "outputs": [
    {
     "data": {
      "text/plain": [
       "list"
      ]
     },
     "execution_count": 86,
     "metadata": {},
     "output_type": "execute_result"
    }
   ],
   "source": [
    "type(li1)"
   ]
  },
  {
   "cell_type": "markdown",
   "id": "9d6b8118-cd20-4dd8-8f6c-f1f1f5ad8540",
   "metadata": {},
   "source": [
    "##### 5.1.2. Các hàm cơ bản trong list"
   ]
  },
  {
   "cell_type": "markdown",
   "id": "a08c7d25-c3a0-4459-9a7f-2a445eb7185d",
   "metadata": {},
   "source": [
    "Cú pháp: `Tên_list.Cú_pháp_hàm`"
   ]
  },
  {
   "cell_type": "markdown",
   "id": "db54e346-4154-426c-97b7-d7e7d521a3b3",
   "metadata": {},
   "source": [
    "|Tên hàm|Ý nghĩa|Trả về giá trị|\n",
    "|-|-|-|\n",
    "|`append()`|Thêm một phần tử vào vị trí cuối cùng trong list|Không|\n",
    "|`clear()`|Xóa sạch các phần tử trong list|Không|\n",
    "|`copy()`|Sao chép toàn bộ list|Có|\n",
    "|`count()`|Đếm số lần một phần tử xuất hiện trong list|Có|\n",
    "|`extend()`|Kết hợp list với một list khác|Không|\n",
    "|`index()`|Trả về vị trí phần tử trong list|Có|\n",
    "|`insert()`|Chèn một phần tử vào list tại vị trí cho trước|Không|\n",
    "|`pop()`|Loại bỏ phần tử ở vị trí index cho trước trong list|Không|\n",
    "|`remove()`|Loại bỏ một phần tử khỏi list|Không|\n",
    "|`reverse()`|Đảo ngược thứ tự các phần tử trong list|Không|\n",
    "|`sort()`|Sắp xếp các phần tử trong list|Không|"
   ]
  },
  {
   "cell_type": "code",
   "execution_count": 93,
   "id": "e7bc2fbf-3155-4e8c-bed3-95942f3cf6a6",
   "metadata": {},
   "outputs": [],
   "source": [
    "li.append(10)"
   ]
  },
  {
   "cell_type": "code",
   "execution_count": 94,
   "id": "f657ff21-502c-4519-8110-a611f6ee62c0",
   "metadata": {},
   "outputs": [
    {
     "data": {
      "text/plain": [
       "[1, 3.14, 'MCI', (1+2j), 10]"
      ]
     },
     "execution_count": 94,
     "metadata": {},
     "output_type": "execute_result"
    }
   ],
   "source": [
    "li"
   ]
  },
  {
   "cell_type": "code",
   "execution_count": 95,
   "id": "bc9d23a4-94ec-4f74-9a7f-39e7e2feae94",
   "metadata": {},
   "outputs": [],
   "source": [
    "li2 = li1.copy()"
   ]
  },
  {
   "cell_type": "code",
   "execution_count": 96,
   "id": "426651dc-1d62-47d6-80cb-822177145928",
   "metadata": {},
   "outputs": [
    {
     "data": {
      "text/plain": [
       "[[1, 2, 3], ['HN', 'HCM'], 'Abc']"
      ]
     },
     "execution_count": 96,
     "metadata": {},
     "output_type": "execute_result"
    }
   ],
   "source": [
    "li2"
   ]
  },
  {
   "cell_type": "code",
   "execution_count": 99,
   "id": "6b69dc7e-3de0-4881-97d6-a17fa757555e",
   "metadata": {},
   "outputs": [
    {
     "data": {
      "text/plain": [
       "[1, 3.14, 'MCI', (1+2j), 10]"
      ]
     },
     "execution_count": 99,
     "metadata": {},
     "output_type": "execute_result"
    }
   ],
   "source": [
    "li"
   ]
  },
  {
   "cell_type": "code",
   "execution_count": 100,
   "id": "c4fc19b0-5b30-4c78-a3d5-dacd4403ee12",
   "metadata": {},
   "outputs": [
    {
     "data": {
      "text/plain": [
       "3.14"
      ]
     },
     "execution_count": 100,
     "metadata": {},
     "output_type": "execute_result"
    }
   ],
   "source": [
    "li.pop(1) #Shift + Tab"
   ]
  },
  {
   "cell_type": "code",
   "execution_count": 101,
   "id": "c03b7bae-3fd4-45b8-a785-d6e4441aa8e6",
   "metadata": {},
   "outputs": [
    {
     "data": {
      "text/plain": [
       "[1, 'MCI', (1+2j), 10]"
      ]
     },
     "execution_count": 101,
     "metadata": {},
     "output_type": "execute_result"
    }
   ],
   "source": [
    "li"
   ]
  },
  {
   "cell_type": "markdown",
   "id": "bbe5aaa6-ed7f-4c06-9599-49c38cc2f1ff",
   "metadata": {},
   "source": [
    "Hàm `dir()`: Trả về một danh sách các thuộc tính hợp lệ của đối tượng"
   ]
  },
  {
   "cell_type": "code",
   "execution_count": 97,
   "id": "a343cc69-ac03-4c9b-8eb2-2abf31031aba",
   "metadata": {},
   "outputs": [
    {
     "data": {
      "text/plain": [
       "['__add__',\n",
       " '__class__',\n",
       " '__contains__',\n",
       " '__delattr__',\n",
       " '__delitem__',\n",
       " '__dir__',\n",
       " '__doc__',\n",
       " '__eq__',\n",
       " '__format__',\n",
       " '__ge__',\n",
       " '__getattribute__',\n",
       " '__getitem__',\n",
       " '__gt__',\n",
       " '__hash__',\n",
       " '__iadd__',\n",
       " '__imul__',\n",
       " '__init__',\n",
       " '__init_subclass__',\n",
       " '__iter__',\n",
       " '__le__',\n",
       " '__len__',\n",
       " '__lt__',\n",
       " '__mul__',\n",
       " '__ne__',\n",
       " '__new__',\n",
       " '__reduce__',\n",
       " '__reduce_ex__',\n",
       " '__repr__',\n",
       " '__reversed__',\n",
       " '__rmul__',\n",
       " '__setattr__',\n",
       " '__setitem__',\n",
       " '__sizeof__',\n",
       " '__str__',\n",
       " '__subclasshook__',\n",
       " 'append',\n",
       " 'clear',\n",
       " 'copy',\n",
       " 'count',\n",
       " 'extend',\n",
       " 'index',\n",
       " 'insert',\n",
       " 'pop',\n",
       " 'remove',\n",
       " 'reverse',\n",
       " 'sort']"
      ]
     },
     "execution_count": 97,
     "metadata": {},
     "output_type": "execute_result"
    }
   ],
   "source": [
    "dir(li)"
   ]
  },
  {
   "cell_type": "markdown",
   "id": "707e5779-c7cd-4983-a36b-d13a4a4b78f4",
   "metadata": {},
   "source": [
    "Để biết có những hàm có sẵn nào hỗ trợ cho cấu trúc dữ liệu list, ta sử dụng câu lệnh dưới đây:\n",
    "\n",
    "`[method for method in dir(li) if not method.startswith('_')]`"
   ]
  },
  {
   "cell_type": "code",
   "execution_count": 98,
   "id": "cafd6628-961c-49b8-a909-ae97d631020c",
   "metadata": {},
   "outputs": [
    {
     "data": {
      "text/plain": [
       "['append',\n",
       " 'clear',\n",
       " 'copy',\n",
       " 'count',\n",
       " 'extend',\n",
       " 'index',\n",
       " 'insert',\n",
       " 'pop',\n",
       " 'remove',\n",
       " 'reverse',\n",
       " 'sort']"
      ]
     },
     "execution_count": 98,
     "metadata": {},
     "output_type": "execute_result"
    }
   ],
   "source": [
    "# Lọc qua tất cả các phần tử ở bên trong cấu trúc dữ liệu đó\n",
    "# Nếu như các phần tử đó không bắt đầu bằng __ thì mình giữ\n",
    "[method for method in dir(li) if not method.startswith('__')]"
   ]
  },
  {
   "cell_type": "markdown",
   "id": "8a5c7f8e-b157-477f-8e92-9f2b64b6b9dc",
   "metadata": {},
   "source": [
    "Đố vui:\n",
    "- Hàm `extend()` và hàm `append()` khác gì nhau?\n",
    "\n",
    "=> `append()` chỉ thêm 1 phần tử vào cuối list; `extend()` thêm nhiều phần tử vào cuối list, cần tạo sẵn list 1 và list 2 để extend\n",
    "- Hàm `remove()` and `pop()` khác gì nhau?\n",
    "\n",
    "=> `remove()` xoá giá trị đầu tiên khớp yêu cầu, không theo index, `pop()` xoá giá trị theo index cụ thể"
   ]
  },
  {
   "cell_type": "markdown",
   "id": "8ab380fb-d22d-4d13-9281-1a81ee9d7842",
   "metadata": {},
   "source": [
    "#### 4.2 Tuple\n",
    "`Tuple` là 1 cấu trúc dữ liệu gần tương tự như `list`, tuy nhiên `tuple` là 1 danh sách bất biến, không thể thay đổi nội dung. \n",
    "`Tuple` có tốc độ xử lý nhanh hơn `list`, do `tuple` được lưu trữ một khối bộ nhớ xác định còn `list` thì thường xuyên phải thay đổi không gian lưu trữ >> phù hợp các dữ liệu hằng số, dữ liệu không thay đổi theo thời gian, khoá trong `dictionary`.\n",
    "\n",
    "##### 4.2.0 Khai báo tuple\n",
    "\n",
    "- Cú pháp: `(value1, value2, ...)`"
   ]
  },
  {
   "cell_type": "code",
   "execution_count": 16,
   "id": "97e62bcc-20dd-4bb0-885d-55d5069f286e",
   "metadata": {},
   "outputs": [],
   "source": [
    "mai = (23, 11, 1996, 'Mai', 'Hanoi', 23)"
   ]
  },
  {
   "cell_type": "code",
   "execution_count": 17,
   "id": "46430559-0169-4f5b-98be-54631215b24f",
   "metadata": {},
   "outputs": [
    {
     "data": {
      "text/plain": [
       "(23, 11, 1996, 'Mai', 'Hanoi', 23)"
      ]
     },
     "execution_count": 17,
     "metadata": {},
     "output_type": "execute_result"
    }
   ],
   "source": [
    "mai"
   ]
  },
  {
   "cell_type": "markdown",
   "id": "a600e0ad-0d7f-4363-a34f-0bd579e2d690",
   "metadata": {},
   "source": [
    "##### 4.2.1 Các hàm cơ bản trong tuple\n",
    "\n",
    "|Tên hàm|Ý nghĩa|Trả về giá trị|\n",
    "|-|-|-|\n",
    "|`count()`|Đếm số lần một phần tử xuất hiện trong tuple|Có|\n",
    "|`index()`|Trả về vị trí phần tử trong tuple|Có|"
   ]
  },
  {
   "cell_type": "code",
   "execution_count": 18,
   "id": "94f216ef-3824-4d2a-a2f1-51c9c14510f9",
   "metadata": {},
   "outputs": [
    {
     "data": {
      "text/plain": [
       "2"
      ]
     },
     "execution_count": 18,
     "metadata": {},
     "output_type": "execute_result"
    }
   ],
   "source": [
    "mai.count(23)"
   ]
  },
  {
   "cell_type": "code",
   "execution_count": 19,
   "id": "206f7d09-7e82-4548-94b6-7f3eb951a9af",
   "metadata": {},
   "outputs": [
    {
     "data": {
      "text/plain": [
       "4"
      ]
     },
     "execution_count": 19,
     "metadata": {},
     "output_type": "execute_result"
    }
   ],
   "source": [
    "mai.index('Hanoi')"
   ]
  },
  {
   "cell_type": "code",
   "execution_count": 21,
   "id": "8bd467de-4bf6-4fda-a885-44050c6244f9",
   "metadata": {},
   "outputs": [
    {
     "data": {
      "text/plain": [
       "['count', 'index']"
      ]
     },
     "execution_count": 21,
     "metadata": {},
     "output_type": "execute_result"
    }
   ],
   "source": [
    "[method for method in dir(mai) if not method.startswith('_')]"
   ]
  },
  {
   "cell_type": "markdown",
   "id": "9ac494df-c373-4fbd-be0d-1fae08116c94",
   "metadata": {},
   "source": [
    "#### 4.3 Set\n",
    "\n",
    "`Set` là danh sách không theo thứ tự các phần tử không trùng nhau nằm trong hai dấu ngoặc nhọn {} hoặc được khởi tạo bằng `set()`. `Set` có hỗ trợ các tính toán tổ hợp như là phép toán giao, phép toán hợp, phép đối xứng, phép loại trừ...\n",
    "\n",
    "\n",
    "\n",
    "##### 4.3.0 Khai báo set\n",
    "\n",
    "- Cú pháp: `{value1, value2, ...}`\n"
   ]
  },
  {
   "cell_type": "code",
   "execution_count": 23,
   "id": "d7783363-417b-4b1b-888a-815b8649ba3e",
   "metadata": {},
   "outputs": [],
   "source": [
    "set = {1, 2, 3, 3, 'Mai', 'Python'}"
   ]
  },
  {
   "cell_type": "code",
   "execution_count": 24,
   "id": "84d5da3c-7ef2-41ee-b959-690a831eca13",
   "metadata": {},
   "outputs": [
    {
     "data": {
      "text/plain": [
       "{1, 2, 3, 'Mai', 'Python'}"
      ]
     },
     "execution_count": 24,
     "metadata": {},
     "output_type": "execute_result"
    }
   ],
   "source": [
    "set"
   ]
  },
  {
   "cell_type": "markdown",
   "id": "9f21eede-0912-4c83-a061-60b0fe305e26",
   "metadata": {},
   "source": [
    "##### 4.3.1 Các hàm cơ bản trong set\n",
    "\n",
    "|Tên hàm|Ý nghĩa|Trả về giá trị|\n",
    "|-|-|-|\n",
    "|`add()`|Thêm một phần tử vào vị trí cuối cùng trong set|Không|\n",
    "|`clear()`|Xóa sạch các phần tử trong set|Không|\n",
    "|`copy()`|Sao chép toàn bộ set|Có|\n",
    "|`A.difference(B)`|Phép trừ sẽ trả về một tập hợp các giá trị chỉ có ở set A hoặc set B|Có|\n",
    "|`A.difference_update(B)`|Xóa các thành phần tồn tại trong cả hai bộ của set A|Không|\n",
    "|`discard()`|Xoá phần tử trong set|Có|\n",
    "|`A.intersection(B)`|Phép giao giữa 2 set|Có|\n",
    "|`A.intersection_update(B)`|Loại bỏ các thành phần không có trong cả 2 set|Không|\n",
    "|`A.isdisjoint(B)`|Trả về True nếu 2 set là tập hợp rời rạc|Có|\n",
    "|`A.issubset(B)`|Trả về True nếu tất cả các item của set A đều có trong set B, False nếu ngược lại|Có|\n",
    "|`A.issuperset(B)`|Trả về True nếu tất cả các item của set B đều có trong set A, False nếu ngược lại|Có|\n",
    "|`pop()`|Loại bỏ phần tử ở vị trí index cho trước|Không|\n",
    "|`remove()`|Loại bỏ một phần tử |Không|\n",
    "|`A.symmetric_difference(B)`|Phép đối xứng trả về tập hợp những giá trị có trong set A không có trong set B và ngược lại|Có|\n",
    "|`A.symmetric_difference_update(B)`|Xóa các thành phần có trong cả hai nhóm và chèn các mục không có trong cả hai nhóm|Có|\n",
    "|`A.union(B)`|Phép hợp của 2 set|Có|\n",
    "|`update()`|Thêm phần tử|Không|\n",
    "\n",
    "\n",
    "Để có thể nắm được ý nghĩa của các hàm trong set hay bất kì cấu trúc dữ liệu nào, ta có thể tận dụng `docstring` hoặc `help()`.\n"
   ]
  },
  {
   "cell_type": "code",
   "execution_count": 25,
   "id": "847121a1-b994-4ae2-9e5f-250fdb8cf258",
   "metadata": {},
   "outputs": [
    {
     "data": {
      "text/plain": [
       "['add',\n",
       " 'clear',\n",
       " 'copy',\n",
       " 'difference',\n",
       " 'difference_update',\n",
       " 'discard',\n",
       " 'intersection',\n",
       " 'intersection_update',\n",
       " 'isdisjoint',\n",
       " 'issubset',\n",
       " 'issuperset',\n",
       " 'pop',\n",
       " 'remove',\n",
       " 'symmetric_difference',\n",
       " 'symmetric_difference_update',\n",
       " 'union',\n",
       " 'update']"
      ]
     },
     "execution_count": 25,
     "metadata": {},
     "output_type": "execute_result"
    }
   ],
   "source": [
    "[method for method in dir(set) if not method.startswith('_')]"
   ]
  },
  {
   "cell_type": "code",
   "execution_count": 26,
   "id": "51ef590f-57dc-4f1c-9893-0fabf3d92153",
   "metadata": {},
   "outputs": [],
   "source": [
    "set2 = {2, 3, 4, 'Hanoi'}"
   ]
  },
  {
   "cell_type": "code",
   "execution_count": 27,
   "id": "e940bb4b-237a-4c4f-bede-b5a71cf7a7eb",
   "metadata": {},
   "outputs": [
    {
     "data": {
      "text/plain": [
       "{2, 3, 4, 'Hanoi'}"
      ]
     },
     "execution_count": 27,
     "metadata": {},
     "output_type": "execute_result"
    }
   ],
   "source": [
    "set2"
   ]
  },
  {
   "cell_type": "code",
   "execution_count": 28,
   "id": "258e8886-2119-4d70-a04d-8dd29571cac4",
   "metadata": {},
   "outputs": [
    {
     "data": {
      "text/plain": [
       "{1, 'Mai', 'Python'}"
      ]
     },
     "execution_count": 28,
     "metadata": {},
     "output_type": "execute_result"
    }
   ],
   "source": [
    "set.difference(set2)"
   ]
  },
  {
   "cell_type": "code",
   "execution_count": 29,
   "id": "a4a69ad8-3ce5-4958-8f6b-0217e6c46f11",
   "metadata": {},
   "outputs": [
    {
     "data": {
      "text/plain": [
       "{4, 'Hanoi'}"
      ]
     },
     "execution_count": 29,
     "metadata": {},
     "output_type": "execute_result"
    }
   ],
   "source": [
    "set2.difference(set)"
   ]
  },
  {
   "cell_type": "code",
   "execution_count": 30,
   "id": "1970c5c7-6c5e-4f5c-8c1b-c07c596a3dd0",
   "metadata": {},
   "outputs": [
    {
     "data": {
      "text/plain": [
       "{2, 3}"
      ]
     },
     "execution_count": 30,
     "metadata": {},
     "output_type": "execute_result"
    }
   ],
   "source": [
    "set.intersection(set2)"
   ]
  },
  {
   "cell_type": "code",
   "execution_count": 31,
   "id": "c7e27bb8-4d00-42cf-a3ec-8197eb1b64a1",
   "metadata": {},
   "outputs": [
    {
     "data": {
      "text/plain": [
       "False"
      ]
     },
     "execution_count": 31,
     "metadata": {},
     "output_type": "execute_result"
    }
   ],
   "source": [
    "set.isdisjoint(set2)"
   ]
  },
  {
   "cell_type": "code",
   "execution_count": 32,
   "id": "e3fe38ab-6e00-4c31-a1fa-71f84a9e147b",
   "metadata": {},
   "outputs": [
    {
     "data": {
      "text/plain": [
       "{1, 4, 'Hanoi', 'Mai', 'Python'}"
      ]
     },
     "execution_count": 32,
     "metadata": {},
     "output_type": "execute_result"
    }
   ],
   "source": [
    "set.symmetric_difference(set2)"
   ]
  },
  {
   "cell_type": "code",
   "execution_count": 33,
   "id": "2d5f7030-a3f6-4a05-8cae-beb97942ea3b",
   "metadata": {},
   "outputs": [
    {
     "data": {
      "text/plain": [
       "{1, 2, 3, 4, 'Hanoi', 'Mai', 'Python'}"
      ]
     },
     "execution_count": 33,
     "metadata": {},
     "output_type": "execute_result"
    }
   ],
   "source": [
    "set.union(set2)"
   ]
  },
  {
   "cell_type": "markdown",
   "id": "886e7fd7-1008-438a-8711-bb9574e8dec4",
   "metadata": {},
   "source": [
    "#### 4.4 Dictionary\n",
    "\n",
    "A dictionary is a collection which is ordered*, changeable and does not allow duplicates\n",
    "\n",
    "##### 4.4.0 Khai báo dictionary\n",
    "\n",
    "Để khai báo một dictionary chúng ta dùng cặp dấu `{}` theo cú pháp sau:\n",
    "- Cú pháp: `{key1:value1, key2:value2,...}`\n"
   ]
  },
  {
   "cell_type": "code",
   "execution_count": 44,
   "id": "7ed62ad9-a41d-4416-a920-82605b020f1f",
   "metadata": {},
   "outputs": [],
   "source": [
    "dict = {'name1':'Mai', 'name2':'Coc', 'name3':'Cuong'}"
   ]
  },
  {
   "cell_type": "code",
   "execution_count": 45,
   "id": "926fe43d-9fda-47a1-b400-fd7362444cb7",
   "metadata": {},
   "outputs": [
    {
     "data": {
      "text/plain": [
       "{'name1': 'Mai', 'name2': 'Coc', 'name3': 'Cuong'}"
      ]
     },
     "execution_count": 45,
     "metadata": {},
     "output_type": "execute_result"
    }
   ],
   "source": [
    "dict"
   ]
  },
  {
   "cell_type": "markdown",
   "id": "d993e6b2-0fb7-4fd5-8a71-cb6733b53f4c",
   "metadata": {},
   "source": [
    "Note:\n",
    "- Các phần tử đều phải có key.\n",
    "- Key chỉ có thể là số hoặc chuỗi.\n",
    "- Key phải là duy nhất, nếu không nó sẽ nhận giá trị của phần tử có key được xuất hiện cuối cùng.\n",
    "- Key khi đã được khai báo thì không thể đổi được tên.\n",
    "- Key có phân biệt hoa thường."
   ]
  },
  {
   "cell_type": "markdown",
   "id": "dcf9d875-492a-441f-951c-28a8ae10f126",
   "metadata": {},
   "source": [
    "Dictionary lồng trong dictionary"
   ]
  },
  {
   "cell_type": "code",
   "execution_count": 47,
   "id": "b44ba6e5-3221-4280-9f03-62fd376dadcf",
   "metadata": {},
   "outputs": [],
   "source": [
    "dict2 = {1:'Red', 2:'Blue', 3:{3.1:'Purple', 3.2:'Navy'}}"
   ]
  },
  {
   "cell_type": "code",
   "execution_count": 48,
   "id": "8ee9415d-38c5-46fa-8b23-8cf11dcc7521",
   "metadata": {},
   "outputs": [
    {
     "data": {
      "text/plain": [
       "{1: 'Red', 2: 'Blue', 3: {3.1: 'Purple', 3.2: 'Navy'}}"
      ]
     },
     "execution_count": 48,
     "metadata": {},
     "output_type": "execute_result"
    }
   ],
   "source": [
    "dict2"
   ]
  },
  {
   "cell_type": "markdown",
   "id": "dcbe179c-9446-4886-ac32-1d62d82b844d",
   "metadata": {},
   "source": [
    "##### 4.4.1 Truy xuất các phần tử trong dictionary"
   ]
  },
  {
   "cell_type": "code",
   "execution_count": 46,
   "id": "3efea3e2-cdbc-4320-842e-83217452c86f",
   "metadata": {},
   "outputs": [
    {
     "data": {
      "text/plain": [
       "'Coc'"
      ]
     },
     "execution_count": 46,
     "metadata": {},
     "output_type": "execute_result"
    }
   ],
   "source": [
    "dict['name2']"
   ]
  },
  {
   "cell_type": "code",
   "execution_count": 53,
   "id": "43fd1472-39b9-4278-8b29-0305a210a251",
   "metadata": {},
   "outputs": [
    {
     "data": {
      "text/plain": [
       "'Purple'"
      ]
     },
     "execution_count": 53,
     "metadata": {},
     "output_type": "execute_result"
    }
   ],
   "source": [
    "dict2[3][3.1]"
   ]
  },
  {
   "cell_type": "markdown",
   "id": "630a82c4-9ee8-41b0-8ab8-d1005916b108",
   "metadata": {},
   "source": [
    "##### 4.3.3 Các hàm cơ bản trong dictionary\n",
    "\n",
    "|Tên hàm|Ý nghĩa|Trả về giá trị|\n",
    "|-|-|-|\n",
    "|`clear()`|Xóa sạch các phần tử|Không|\n",
    "|`copy()`|Sao chép các phần tử|Có|\n",
    "|`fromkeys()`|Tạo ra một dictionary với các khóa và giá trị được chỉ định|Có|\n",
    "|`get()`|Trả về giá trị của khóa được chỉ định|Có|\n",
    "|`items()`| Trả về danh sách chứa bộ giá trị cho mỗi cặp giá trị khóa|Có|\n",
    "|`keys()`|Trả về danh sách chứa các key của dictionary|Có|\n",
    "|`pop()`|Loại bỏ phần tử có key được chỉ định|Không|\n",
    "|`popitem()`|Xóa cặp key-value được chèn cuối cùng|Không|\n",
    "|`setdefault()`|Trả về giá trị của key được chỉ định. Nếu key không tồn tại: hãy chèn key, với giá trị được chỉ định|Không|\n",
    "|`update()`|Cập nhật dictionary với các cặp key-value được chỉ định|Không|\n",
    "|`values()`| Trả về danh sách tất cả các value trong từ điển |Có|"
   ]
  },
  {
   "cell_type": "code",
   "execution_count": 54,
   "id": "d3ca58f5-1676-47be-9538-db291d97985c",
   "metadata": {},
   "outputs": [
    {
     "data": {
      "text/plain": [
       "['clear',\n",
       " 'copy',\n",
       " 'fromkeys',\n",
       " 'get',\n",
       " 'items',\n",
       " 'keys',\n",
       " 'pop',\n",
       " 'popitem',\n",
       " 'setdefault',\n",
       " 'update',\n",
       " 'values']"
      ]
     },
     "execution_count": 54,
     "metadata": {},
     "output_type": "execute_result"
    }
   ],
   "source": [
    "[method for method in dir(dict) if not method.startswith('_')]"
   ]
  },
  {
   "cell_type": "code",
   "execution_count": 55,
   "id": "499f3219-1042-43e0-bf65-2cf4dff476cf",
   "metadata": {},
   "outputs": [
    {
     "data": {
      "text/plain": [
       "{'key1': 0, 'key2': 0, 'key3': 0}"
      ]
     },
     "execution_count": 55,
     "metadata": {},
     "output_type": "execute_result"
    }
   ],
   "source": [
    "x = ('key1', 'key2', 'key3')\n",
    "y = 0\n",
    "dict.fromkeys(x, y)"
   ]
  },
  {
   "cell_type": "code",
   "execution_count": 57,
   "id": "a85a73af-620f-4774-ac26-c25c9b851662",
   "metadata": {},
   "outputs": [
    {
     "data": {
      "text/plain": [
       "dict_items([('name1', 'Mai'), ('name2', 'Coc'), ('name3', 'Cuong')])"
      ]
     },
     "execution_count": 57,
     "metadata": {},
     "output_type": "execute_result"
    }
   ],
   "source": [
    "dict.items()"
   ]
  },
  {
   "cell_type": "code",
   "execution_count": 58,
   "id": "29b97b67-adfc-468e-a662-f4763fbc4ebf",
   "metadata": {},
   "outputs": [
    {
     "data": {
      "text/plain": [
       "dict_keys(['name1', 'name2', 'name3'])"
      ]
     },
     "execution_count": 58,
     "metadata": {},
     "output_type": "execute_result"
    }
   ],
   "source": [
    "dict.keys()"
   ]
  },
  {
   "cell_type": "code",
   "execution_count": 59,
   "id": "8e193e73-4008-4746-b26d-66ca939c2892",
   "metadata": {},
   "outputs": [
    {
     "data": {
      "text/plain": [
       "dict_values(['Mai', 'Coc', 'Cuong'])"
      ]
     },
     "execution_count": 59,
     "metadata": {},
     "output_type": "execute_result"
    }
   ],
   "source": [
    "dict.values()"
   ]
  },
  {
   "cell_type": "markdown",
   "id": "27f3b04f-794e-4369-ad11-44a7dfd8bf37",
   "metadata": {},
   "source": [
    "**Để xem cách sử dụng hàm >> để trỏ chuột vào hàm nhấn Shift + Tab**"
   ]
  },
  {
   "cell_type": "markdown",
   "id": "33659433-089e-4dd5-8509-5ac0806bc9ae",
   "metadata": {},
   "source": [
    "Ở bài tiếp theo, chúng ta sẽ tìm hiểu về vòng lặp, câu điều kiện, cũng như cách viết 1 hàm trong Python."
   ]
  }
 ],
 "metadata": {
  "kernelspec": {
   "display_name": "Python 3 (ipykernel)",
   "language": "python",
   "name": "python3"
  },
  "language_info": {
   "codemirror_mode": {
    "name": "ipython",
    "version": 3
   },
   "file_extension": ".py",
   "mimetype": "text/x-python",
   "name": "python",
   "nbconvert_exporter": "python",
   "pygments_lexer": "ipython3",
   "version": "3.8.11"
  }
 },
 "nbformat": 4,
 "nbformat_minor": 5
}
