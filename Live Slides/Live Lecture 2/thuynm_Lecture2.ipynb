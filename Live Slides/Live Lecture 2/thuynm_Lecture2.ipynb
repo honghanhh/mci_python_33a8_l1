{
 "cells": [
  {
   "cell_type": "code",
   "execution_count": 1,
   "id": "483c0a39-ba1a-49b0-9e13-192d4eeb79c0",
   "metadata": {},
   "outputs": [
    {
     "name": "stdout",
     "output_type": "stream",
     "text": [
      "Hello, world\n"
     ]
    }
   ],
   "source": [
    "print('Hello, world')"
   ]
  },
  {
   "cell_type": "code",
   "execution_count": null,
   "id": "f354c101-cca8-4e52-87dc-d31e0619b7d6",
   "metadata": {},
   "outputs": [],
   "source": [
    "...\n",
    "builtin function \n",
    "user defined function\n",
    "print tên hàm keyword \n",
    "Comment nhiều dòng: Ctrl A Ctrl / hoặc\n",
    "...\n",
    "\"\"\""
   ]
  },
  {
   "cell_type": "code",
   "execution_count": 4,
   "id": "c53a7c0b-fa75-481c-b448-799d49ddc3bc",
   "metadata": {},
   "outputs": [],
   "source": [
    "#tạo biến\n",
    "x = 1124\n",
    "y = 123456\n",
    "z = 57890"
   ]
  },
  {
   "cell_type": "code",
   "execution_count": 5,
   "id": "57a3702f-a4f9-4490-9c3d-bf488190493a",
   "metadata": {},
   "outputs": [
    {
     "data": {
      "text/plain": [
       "138822434"
      ]
     },
     "execution_count": 5,
     "metadata": {},
     "output_type": "execute_result"
    }
   ],
   "source": [
    "x*y+z"
   ]
  },
  {
   "cell_type": "code",
   "execution_count": 6,
   "id": "f6871d35-21df-432d-956b-6ac5552cd12f",
   "metadata": {},
   "outputs": [],
   "source": [
    "x,y,z = 1124,123456,57890"
   ]
  },
  {
   "cell_type": "code",
   "execution_count": 7,
   "id": "606ebde4-33e8-4f09-b6f2-ad71f9cd3ec7",
   "metadata": {},
   "outputs": [
    {
     "data": {
      "text/plain": [
       "138822434"
      ]
     },
     "execution_count": 7,
     "metadata": {},
     "output_type": "execute_result"
    }
   ],
   "source": [
    "x*y+z"
   ]
  },
  {
   "cell_type": "code",
   "execution_count": 8,
   "id": "3961c026-7d50-434f-be02-5f58c2e8ded9",
   "metadata": {},
   "outputs": [],
   "source": [
    "# Tên biến khác nhau khi viết hoa, chữ đầu ko dùng số, ko đc đặt trùng với keyword\n",
    "# Kiểu DL: int, float (1.2), str (string), bool(T/F), complex (1+ 2j)\n",
    "# type (tên biến)"
   ]
  },
  {
   "cell_type": "code",
   "execution_count": 9,
   "id": "ddb8d716-4f88-400a-8b0d-73c71e9d4c7c",
   "metadata": {},
   "outputs": [
    {
     "data": {
      "text/plain": [
       "int"
      ]
     },
     "execution_count": 9,
     "metadata": {},
     "output_type": "execute_result"
    }
   ],
   "source": [
    "type(x)"
   ]
  },
  {
   "cell_type": "code",
   "execution_count": 10,
   "id": "6e79a052-8c22-4cbc-8250-c193cdc5a047",
   "metadata": {},
   "outputs": [],
   "source": [
    "x,y=12,13"
   ]
  },
  {
   "cell_type": "code",
   "execution_count": 11,
   "id": "34b68ec6-adac-43ce-91ee-12b1e405ed4b",
   "metadata": {},
   "outputs": [
    {
     "data": {
      "text/plain": [
       "106993205379072"
      ]
     },
     "execution_count": 11,
     "metadata": {},
     "output_type": "execute_result"
    }
   ],
   "source": [
    "x//y\n",
    "x**y"
   ]
  },
  {
   "cell_type": "code",
   "execution_count": 12,
   "id": "02203a06-8982-4854-b2a4-46e0f3eb3a80",
   "metadata": {},
   "outputs": [
    {
     "data": {
      "text/plain": [
       "106993205379072"
      ]
     },
     "execution_count": 12,
     "metadata": {},
     "output_type": "execute_result"
    }
   ],
   "source": [
    "x**y"
   ]
  },
  {
   "cell_type": "code",
   "execution_count": 13,
   "id": "6f9df343-81fb-4d0c-a062-75d38fbc4fd3",
   "metadata": {},
   "outputs": [
    {
     "data": {
      "text/plain": [
       "12"
      ]
     },
     "execution_count": 13,
     "metadata": {},
     "output_type": "execute_result"
    }
   ],
   "source": [
    "x%y"
   ]
  },
  {
   "cell_type": "code",
   "execution_count": null,
   "id": "7e59f706-91e2-4fba-84e2-9600b23bacbf",
   "metadata": {},
   "outputs": [],
   "source": [
    "# để define đc hàm thì phải install thư viện -> import -> call, thường khi cài MT ảo đã có thư viện math"
   ]
  },
  {
   "cell_type": "code",
   "execution_count": 15,
   "id": "30dfbae6-f35d-4e04-bf0b-270f51b8d626",
   "metadata": {},
   "outputs": [
    {
     "data": {
      "text/plain": [
       "3.4641016151377544"
      ]
     },
     "execution_count": 15,
     "metadata": {},
     "output_type": "execute_result"
    }
   ],
   "source": [
    "import math\n",
    "math.sqrt(x)"
   ]
  },
  {
   "cell_type": "code",
   "execution_count": 16,
   "id": "48e90480-6482-4147-89b4-7c6455bbbc1c",
   "metadata": {},
   "outputs": [
    {
     "data": {
      "text/plain": [
       "4"
      ]
     },
     "execution_count": 16,
     "metadata": {},
     "output_type": "execute_result"
    }
   ],
   "source": [
    "round(3.91)"
   ]
  },
  {
   "cell_type": "markdown",
   "id": "9dc5a015-b24c-460e-b992-f40767b535f3",
   "metadata": {},
   "source": [
    "### Toán tử luận lý"
   ]
  },
  {
   "cell_type": "code",
   "execution_count": 18,
   "id": "58c76356-f144-4ef2-8f3f-c2dd6dabe04c",
   "metadata": {},
   "outputs": [
    {
     "data": {
      "text/plain": [
       "True"
      ]
     },
     "execution_count": 18,
     "metadata": {},
     "output_type": "execute_result"
    }
   ],
   "source": [
    "True and True"
   ]
  },
  {
   "cell_type": "code",
   "execution_count": 19,
   "id": "76aced9e-381e-4229-8bed-746b0cb3ad35",
   "metadata": {},
   "outputs": [
    {
     "data": {
      "text/plain": [
       "True"
      ]
     },
     "execution_count": 19,
     "metadata": {},
     "output_type": "execute_result"
    }
   ],
   "source": [
    "True or False"
   ]
  },
  {
   "cell_type": "code",
   "execution_count": 21,
   "id": "c60730d6-f168-4302-bcf3-91014594e0c9",
   "metadata": {},
   "outputs": [
    {
     "data": {
      "text/plain": [
       "False"
      ]
     },
     "execution_count": 21,
     "metadata": {},
     "output_type": "execute_result"
    }
   ],
   "source": [
    "not True"
   ]
  },
  {
   "cell_type": "markdown",
   "id": "03961373-8779-4056-95d8-bfbe0b07a934",
   "metadata": {},
   "source": [
    "### Toán tử điều kiện"
   ]
  },
  {
   "cell_type": "code",
   "execution_count": 22,
   "id": "e13a2282-cc03-4fdd-94f9-24fc28b01f8d",
   "metadata": {},
   "outputs": [
    {
     "data": {
      "text/plain": [
       "False"
      ]
     },
     "execution_count": 22,
     "metadata": {},
     "output_type": "execute_result"
    }
   ],
   "source": [
    "3>4"
   ]
  },
  {
   "cell_type": "code",
   "execution_count": 23,
   "id": "7f5be003-1265-4f42-b9a9-6bcebf5f2774",
   "metadata": {},
   "outputs": [
    {
     "data": {
      "text/plain": [
       "True"
      ]
     },
     "execution_count": 23,
     "metadata": {},
     "output_type": "execute_result"
    }
   ],
   "source": [
    "(3>4) or (4<5)"
   ]
  },
  {
   "cell_type": "code",
   "execution_count": 24,
   "id": "deb1fead-ec72-4cb7-aa95-fc01281c075a",
   "metadata": {},
   "outputs": [
    {
     "data": {
      "text/plain": [
       "False"
      ]
     },
     "execution_count": 24,
     "metadata": {},
     "output_type": "execute_result"
    }
   ],
   "source": [
    "4==5"
   ]
  },
  {
   "cell_type": "code",
   "execution_count": 26,
   "id": "6ea706e8-9bbc-4c21-8f3e-d145cebf942b",
   "metadata": {},
   "outputs": [
    {
     "data": {
      "text/plain": [
       "False"
      ]
     },
     "execution_count": 26,
     "metadata": {},
     "output_type": "execute_result"
    }
   ],
   "source": [
    "4!= 4"
   ]
  },
  {
   "cell_type": "markdown",
   "id": "1011c0f4-a081-4ecf-99d9-5c944758df86",
   "metadata": {},
   "source": [
    "### Cấu trúc dữ liệu"
   ]
  },
  {
   "cell_type": "markdown",
   "id": "a3fcd78e-25c0-4864-951d-86cd67605605",
   "metadata": {},
   "source": [
    "# Hàm List"
   ]
  },
  {
   "cell_type": "code",
   "execution_count": 27,
   "id": "8572f0dd-cb21-42ae-a0eb-34036c7c8bd4",
   "metadata": {},
   "outputs": [],
   "source": [
    "# data structure: builtin & user define function"
   ]
  },
  {
   "cell_type": "code",
   "execution_count": 29,
   "id": "9e51f2b0-2d53-41f3-b85f-a8633f4b2f86",
   "metadata": {},
   "outputs": [],
   "source": [
    "li = [1,3,\"MCI\",1+2j]\n",
    "# số thử tự từ 0 1 2 3 (trái qua phải) hoặc -4 -3 -2 -1 (từ phải qua trái)"
   ]
  },
  {
   "cell_type": "code",
   "execution_count": 30,
   "id": "1e106107-1f73-4252-a391-02ed724024fc",
   "metadata": {},
   "outputs": [
    {
     "data": {
      "text/plain": [
       "[1, 3, 'MCI', (1+2j)]"
      ]
     },
     "execution_count": 30,
     "metadata": {},
     "output_type": "execute_result"
    }
   ],
   "source": [
    "li"
   ]
  },
  {
   "cell_type": "code",
   "execution_count": 31,
   "id": "4b3d5c4e-6d26-4167-8503-aabcba3a8e54",
   "metadata": {},
   "outputs": [
    {
     "data": {
      "text/plain": [
       "3"
      ]
     },
     "execution_count": 31,
     "metadata": {},
     "output_type": "execute_result"
    }
   ],
   "source": [
    "li[1]"
   ]
  },
  {
   "cell_type": "code",
   "execution_count": 32,
   "id": "e7b257b9-12f8-42f6-83b3-6e7a2d4cb538",
   "metadata": {},
   "outputs": [
    {
     "data": {
      "text/plain": [
       "'MCI'"
      ]
     },
     "execution_count": 32,
     "metadata": {},
     "output_type": "execute_result"
    }
   ],
   "source": [
    "li[2]"
   ]
  },
  {
   "cell_type": "code",
   "execution_count": 34,
   "id": "1ebe38b3-799d-4e34-b231-e8fc5ba6d9cb",
   "metadata": {},
   "outputs": [],
   "source": [
    "li1= [[1,2,3],['a','b',\"c\"]]"
   ]
  },
  {
   "cell_type": "code",
   "execution_count": 35,
   "id": "82cdcf49-70a5-4725-bb93-51bf3e1a8cbc",
   "metadata": {},
   "outputs": [
    {
     "data": {
      "text/plain": [
       "1"
      ]
     },
     "execution_count": 35,
     "metadata": {},
     "output_type": "execute_result"
    }
   ],
   "source": [
    "li1[0][0]"
   ]
  },
  {
   "cell_type": "code",
   "execution_count": 36,
   "id": "d43e9737-849d-4424-9b6d-2d51724927b1",
   "metadata": {},
   "outputs": [],
   "source": [
    "li.append(10)"
   ]
  },
  {
   "cell_type": "code",
   "execution_count": 37,
   "id": "4ed227e4-8939-41f7-8709-e7553d1d63b7",
   "metadata": {},
   "outputs": [
    {
     "data": {
      "text/plain": [
       "[1, 3, 'MCI', (1+2j), 10]"
      ]
     },
     "execution_count": 37,
     "metadata": {},
     "output_type": "execute_result"
    }
   ],
   "source": [
    "li"
   ]
  },
  {
   "cell_type": "code",
   "execution_count": 40,
   "id": "d36cd1ef-2d53-4dd3-ae1e-571fbc1fe7c3",
   "metadata": {},
   "outputs": [],
   "source": [
    "li2=li.copy()"
   ]
  },
  {
   "cell_type": "code",
   "execution_count": 41,
   "id": "83469739-52a0-4b99-8747-d45cd1479470",
   "metadata": {},
   "outputs": [
    {
     "data": {
      "text/plain": [
       "['__add__',\n",
       " '__class__',\n",
       " '__contains__',\n",
       " '__delattr__',\n",
       " '__delitem__',\n",
       " '__dir__',\n",
       " '__doc__',\n",
       " '__eq__',\n",
       " '__format__',\n",
       " '__ge__',\n",
       " '__getattribute__',\n",
       " '__getitem__',\n",
       " '__gt__',\n",
       " '__hash__',\n",
       " '__iadd__',\n",
       " '__imul__',\n",
       " '__init__',\n",
       " '__init_subclass__',\n",
       " '__iter__',\n",
       " '__le__',\n",
       " '__len__',\n",
       " '__lt__',\n",
       " '__mul__',\n",
       " '__ne__',\n",
       " '__new__',\n",
       " '__reduce__',\n",
       " '__reduce_ex__',\n",
       " '__repr__',\n",
       " '__reversed__',\n",
       " '__rmul__',\n",
       " '__setattr__',\n",
       " '__setitem__',\n",
       " '__sizeof__',\n",
       " '__str__',\n",
       " '__subclasshook__',\n",
       " 'append',\n",
       " 'clear',\n",
       " 'copy',\n",
       " 'count',\n",
       " 'extend',\n",
       " 'index',\n",
       " 'insert',\n",
       " 'pop',\n",
       " 'remove',\n",
       " 'reverse',\n",
       " 'sort']"
      ]
     },
     "execution_count": 41,
     "metadata": {},
     "output_type": "execute_result"
    }
   ],
   "source": [
    "dir(li)"
   ]
  },
  {
   "cell_type": "code",
   "execution_count": 43,
   "id": "09397ed7-7fc7-40bd-91da-8183333a3cfd",
   "metadata": {},
   "outputs": [
    {
     "data": {
      "text/plain": [
       "['append',\n",
       " 'clear',\n",
       " 'copy',\n",
       " 'count',\n",
       " 'extend',\n",
       " 'index',\n",
       " 'insert',\n",
       " 'pop',\n",
       " 'remove',\n",
       " 'reverse',\n",
       " 'sort']"
      ]
     },
     "execution_count": 43,
     "metadata": {},
     "output_type": "execute_result"
    }
   ],
   "source": [
    "[method for method in dir(li) if not method.startswith('_')]"
   ]
  },
  {
   "cell_type": "code",
   "execution_count": 44,
   "id": "2c2c27d4-e1fa-43ed-b6a1-48e7415c6725",
   "metadata": {},
   "outputs": [
    {
     "data": {
      "text/plain": [
       "3"
      ]
     },
     "execution_count": 44,
     "metadata": {},
     "output_type": "execute_result"
    }
   ],
   "source": [
    "li.pop(1) #shift tab: đọc hướng dẫn"
   ]
  },
  {
   "cell_type": "code",
   "execution_count": 2,
   "id": "4e8b7464-b5e2-4800-bddd-9580555da0aa",
   "metadata": {},
   "outputs": [
    {
     "data": {
      "text/plain": [
       "['abc', 123, 'thuy', 5]"
      ]
     },
     "execution_count": 2,
     "metadata": {},
     "output_type": "execute_result"
    }
   ],
   "source": [
    "li=['abc',123,'thuy']\n",
    "li.append(5)\n",
    "li"
   ]
  },
  {
   "cell_type": "code",
   "execution_count": 3,
   "id": "020a98ae-af6a-4617-a9c3-f9d3afb5f282",
   "metadata": {},
   "outputs": [
    {
     "data": {
      "text/plain": [
       "['abc', 123, 'thuy', 5, 3, 4, 10]"
      ]
     },
     "execution_count": 3,
     "metadata": {},
     "output_type": "execute_result"
    }
   ],
   "source": [
    "li1=[3,4,10]\n",
    "li.extend(li1)\n",
    "li"
   ]
  },
  {
   "cell_type": "code",
   "execution_count": 5,
   "id": "88b5dd82-3448-47bd-ac3d-cdeb6cc2811e",
   "metadata": {},
   "outputs": [
    {
     "data": {
      "text/plain": [
       "1"
      ]
     },
     "execution_count": 5,
     "metadata": {},
     "output_type": "execute_result"
    }
   ],
   "source": [
    "li.index(123)"
   ]
  },
  {
   "cell_type": "code",
   "execution_count": 6,
   "id": "ebf4f240-b6dc-4482-85d3-2fa402b908db",
   "metadata": {},
   "outputs": [
    {
     "data": {
      "text/plain": [
       "['abc', 123, 'def', 'thuy', 5, 3, 4, 10]"
      ]
     },
     "execution_count": 6,
     "metadata": {},
     "output_type": "execute_result"
    }
   ],
   "source": [
    "li.insert(2,'def')\n",
    "li"
   ]
  },
  {
   "cell_type": "code",
   "execution_count": 7,
   "id": "0fa11cdf-fa30-4b7a-9f9c-785bab6d1e43",
   "metadata": {},
   "outputs": [
    {
     "data": {
      "text/plain": [
       "['abc', 123, 'def', 5, 3, 4, 10]"
      ]
     },
     "execution_count": 7,
     "metadata": {},
     "output_type": "execute_result"
    }
   ],
   "source": [
    "li.pop(3)\n",
    "li"
   ]
  },
  {
   "cell_type": "code",
   "execution_count": 8,
   "id": "ae4b16c4-a3c3-4e38-8b6c-5e9d5ac17df0",
   "metadata": {},
   "outputs": [
    {
     "data": {
      "text/plain": [
       "['abc', 123, 'def', 3, 4, 10]"
      ]
     },
     "execution_count": 8,
     "metadata": {},
     "output_type": "execute_result"
    }
   ],
   "source": [
    "li.remove(5)\n",
    "li"
   ]
  },
  {
   "cell_type": "code",
   "execution_count": 16,
   "id": "4a1021a2-78f5-457b-b016-b7cf5ca3ec35",
   "metadata": {},
   "outputs": [],
   "source": [
    "s={1,3,4,6,7}\n",
    "x={3,'b',6,'d',11}"
   ]
  },
  {
   "cell_type": "code",
   "execution_count": 17,
   "id": "5311c989-bac3-4574-90e3-9293b216cf32",
   "metadata": {},
   "outputs": [
    {
     "data": {
      "text/plain": [
       "{1, 3, 4, 6, 7, 11}"
      ]
     },
     "execution_count": 17,
     "metadata": {},
     "output_type": "execute_result"
    }
   ],
   "source": [
    "s.add(11)\n",
    "s"
   ]
  },
  {
   "cell_type": "code",
   "execution_count": 18,
   "id": "a0ffc600-27fa-4c8d-a0c8-d97857dfb4ed",
   "metadata": {},
   "outputs": [
    {
     "data": {
      "text/plain": [
       "{1, 4, 7}"
      ]
     },
     "execution_count": 18,
     "metadata": {},
     "output_type": "execute_result"
    }
   ],
   "source": [
    "s.difference(x)"
   ]
  },
  {
   "cell_type": "code",
   "execution_count": 21,
   "id": "512bc32a-67c8-407e-bdf8-a27a62a55456",
   "metadata": {},
   "outputs": [
    {
     "data": {
      "text/plain": [
       "{1, 4, 7}"
      ]
     },
     "execution_count": 21,
     "metadata": {},
     "output_type": "execute_result"
    }
   ],
   "source": [
    "s.difference_update(x)\n",
    "s"
   ]
  },
  {
   "cell_type": "code",
   "execution_count": 22,
   "id": "0530718d-69f1-43ee-bb10-2d6206419c02",
   "metadata": {},
   "outputs": [
    {
     "data": {
      "text/plain": [
       "{3, 6}"
      ]
     },
     "execution_count": 22,
     "metadata": {},
     "output_type": "execute_result"
    }
   ],
   "source": [
    "s={1,3,4,6,7}\n",
    "s.intersection(x)"
   ]
  },
  {
   "cell_type": "code",
   "execution_count": 23,
   "id": "9f87e008-fe1a-4c5a-b483-bb3d2bbf4efc",
   "metadata": {},
   "outputs": [
    {
     "data": {
      "text/plain": [
       "{3, 6}"
      ]
     },
     "execution_count": 23,
     "metadata": {},
     "output_type": "execute_result"
    }
   ],
   "source": [
    "s.intersection_update(x)\n",
    "s"
   ]
  },
  {
   "cell_type": "code",
   "execution_count": 24,
   "id": "c39b5270-4419-4b94-9a98-3e3861e8795d",
   "metadata": {},
   "outputs": [
    {
     "data": {
      "text/plain": [
       "{1, 11, 4, 7, 'b', 'd'}"
      ]
     },
     "execution_count": 24,
     "metadata": {},
     "output_type": "execute_result"
    }
   ],
   "source": [
    "s={1,3,4,6,7}\n",
    "s.symmetric_difference(x)"
   ]
  },
  {
   "cell_type": "code",
   "execution_count": 25,
   "id": "39cf3b4e-aff2-413a-98f5-84839fb83208",
   "metadata": {},
   "outputs": [
    {
     "data": {
      "text/plain": [
       "{1, 11, 3, 4, 6, 7, 'b', 'd'}"
      ]
     },
     "execution_count": 25,
     "metadata": {},
     "output_type": "execute_result"
    }
   ],
   "source": [
    "s.union(x)"
   ]
  },
  {
   "cell_type": "code",
   "execution_count": 28,
   "id": "1b2da156-1c8e-492b-8490-a675c96623fa",
   "metadata": {},
   "outputs": [],
   "source": [
    "dict={'k1':'a','k2':'b','k3':123}"
   ]
  },
  {
   "cell_type": "code",
   "execution_count": 29,
   "id": "613bf501-2204-4428-ab14-e3c836402c57",
   "metadata": {},
   "outputs": [
    {
     "data": {
      "text/plain": [
       "'b'"
      ]
     },
     "execution_count": 29,
     "metadata": {},
     "output_type": "execute_result"
    }
   ],
   "source": [
    "dict['k2']"
   ]
  },
  {
   "cell_type": "code",
   "execution_count": 30,
   "id": "42f4f826-e216-4818-9c03-99b96e6f20a9",
   "metadata": {},
   "outputs": [
    {
     "data": {
      "text/plain": [
       "123"
      ]
     },
     "execution_count": 30,
     "metadata": {},
     "output_type": "execute_result"
    }
   ],
   "source": [
    "dict.get('k3')"
   ]
  },
  {
   "cell_type": "code",
   "execution_count": 32,
   "id": "1061f219-aa70-4085-a9a8-99a3fac96aeb",
   "metadata": {},
   "outputs": [
    {
     "data": {
      "text/plain": [
       "dict_items([('k1', 'a'), ('k2', 'b'), ('k3', 123)])"
      ]
     },
     "execution_count": 32,
     "metadata": {},
     "output_type": "execute_result"
    }
   ],
   "source": [
    "dict.items()"
   ]
  },
  {
   "cell_type": "code",
   "execution_count": 34,
   "id": "de145bf8-b245-4528-80b8-4f54fd9e203e",
   "metadata": {},
   "outputs": [
    {
     "data": {
      "text/plain": [
       "dict_keys(['k1', 'k2', 'k3'])"
      ]
     },
     "execution_count": 34,
     "metadata": {},
     "output_type": "execute_result"
    }
   ],
   "source": [
    "dict.keys()"
   ]
  },
  {
   "cell_type": "code",
   "execution_count": 36,
   "id": "c16b84c2-5f80-4d45-b8a6-805fe0ee2815",
   "metadata": {},
   "outputs": [
    {
     "data": {
      "text/plain": [
       "'b'"
      ]
     },
     "execution_count": 36,
     "metadata": {},
     "output_type": "execute_result"
    }
   ],
   "source": [
    "dict.pop('k2')"
   ]
  },
  {
   "cell_type": "code",
   "execution_count": 37,
   "id": "981371be-62e4-43c7-a18c-1bbd441a5de9",
   "metadata": {},
   "outputs": [
    {
     "data": {
      "text/plain": [
       "{'k1': 'a', 'k3': 123}"
      ]
     },
     "execution_count": 37,
     "metadata": {},
     "output_type": "execute_result"
    }
   ],
   "source": [
    "dict"
   ]
  },
  {
   "cell_type": "code",
   "execution_count": 40,
   "id": "ec6b8eab-a7df-4345-8f51-e2edc8eea5de",
   "metadata": {},
   "outputs": [],
   "source": [
    "dict.update({'k4':456})"
   ]
  },
  {
   "cell_type": "code",
   "execution_count": 41,
   "id": "c030302a-9e98-4053-9fb3-18e9398b3f62",
   "metadata": {},
   "outputs": [
    {
     "data": {
      "text/plain": [
       "{'k1': 'a', 'k3': 123, 'k4': 456}"
      ]
     },
     "execution_count": 41,
     "metadata": {},
     "output_type": "execute_result"
    }
   ],
   "source": [
    "dict"
   ]
  },
  {
   "cell_type": "code",
   "execution_count": 42,
   "id": "182d8009-047e-49f8-98c3-e0ab4b66274e",
   "metadata": {},
   "outputs": [
    {
     "data": {
      "text/plain": [
       "{'k1': 'a', 'k3': 123}"
      ]
     },
     "execution_count": 42,
     "metadata": {},
     "output_type": "execute_result"
    }
   ],
   "source": [
    "dict.popitem()\n",
    "dict"
   ]
  },
  {
   "cell_type": "code",
   "execution_count": 43,
   "id": "2b9c828d-4f0a-4027-a3f5-e9f186929588",
   "metadata": {},
   "outputs": [
    {
     "data": {
      "text/plain": [
       "456"
      ]
     },
     "execution_count": 43,
     "metadata": {},
     "output_type": "execute_result"
    }
   ],
   "source": [
    "dict.setdefault('k4',456)"
   ]
  },
  {
   "cell_type": "code",
   "execution_count": 44,
   "id": "f4b9e99e-f698-45e6-b1c2-2430a489b820",
   "metadata": {},
   "outputs": [
    {
     "data": {
      "text/plain": [
       "{'k1': 'a', 'k3': 123, 'k4': 456}"
      ]
     },
     "execution_count": 44,
     "metadata": {},
     "output_type": "execute_result"
    }
   ],
   "source": [
    "dict"
   ]
  },
  {
   "cell_type": "code",
   "execution_count": 46,
   "id": "333a4063-5a75-4bfa-9a73-7d38096ebfa0",
   "metadata": {},
   "outputs": [
    {
     "data": {
      "text/plain": [
       "dict_values(['a', 123, 456])"
      ]
     },
     "execution_count": 46,
     "metadata": {},
     "output_type": "execute_result"
    }
   ],
   "source": [
    "dict.values()"
   ]
  },
  {
   "cell_type": "code",
   "execution_count": null,
   "id": "89c2a1e9-6c85-4eec-8e29-c19da731f220",
   "metadata": {},
   "outputs": [],
   "source": []
  }
 ],
 "metadata": {
  "kernelspec": {
   "display_name": "Python 3 (ipykernel)",
   "language": "python",
   "name": "python3"
  },
  "language_info": {
   "codemirror_mode": {
    "name": "ipython",
    "version": 3
   },
   "file_extension": ".py",
   "mimetype": "text/x-python",
   "name": "python",
   "nbconvert_exporter": "python",
   "pygments_lexer": "ipython3",
   "version": "3.8.11"
  }
 },
 "nbformat": 4,
 "nbformat_minor": 5
}
