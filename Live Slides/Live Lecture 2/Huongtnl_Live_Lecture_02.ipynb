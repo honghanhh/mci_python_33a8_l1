{
 "cells": [
  {
   "cell_type": "markdown",
   "id": "c1d182e6-3239-4517-86b7-c2bce677319d",
   "metadata": {},
   "source": [
    "# <center> Bài 2: Giới thiệu về PYTHON </center>\n",
    "![](https://laptrinhcanban.com/python/nhap-mon-lap-trinh-python/gioi-thieu-python/python-la-gi/Python.jpg)"
   ]
  },
  {
   "cell_type": "markdown",
   "id": "94b15aae-5abd-4c3e-9356-76c6288d07de",
   "metadata": {},
   "source": [
    "## I. GIỚI THIỆU\n",
    "\n",
    "![Độ phổ biến của 1 số ngôn ngữ lập trình được sử dụng trên các kho lưu trữ trên GitHub.](./img/python.png)\n",
    "> *Độ phổ biến của 1 số ngôn ngữ lập trình được sử dụng trên các kho lưu trữ trên GitHub tính đến tháng 4/2014 theo [Githut](https://githut.info/).*"
   ]
  },
  {
   "cell_type": "markdown",
   "id": "fc5c6b0a-dd30-4a67-b3a0-41ca10ce5d6c",
   "metadata": {},
   "source": [
    "Chương trình đầu tiên `print('Hello, world')`."
   ]
  },
  {
   "cell_type": "code",
   "execution_count": 1,
   "id": "0cb31b69-b04e-4fa2-aac1-e98b56f5a2bd",
   "metadata": {},
   "outputs": [
    {
     "name": "stdout",
     "output_type": "stream",
     "text": [
      "Hello, world\n"
     ]
    }
   ],
   "source": [
    "print ('Hello, world')"
   ]
  },
  {
   "cell_type": "markdown",
   "id": "323186fe-887b-482c-af41-1e41b80a3af4",
   "metadata": {},
   "source": [
    "Dòng chú thích (Comments):"
   ]
  },
  {
   "cell_type": "code",
   "execution_count": 2,
   "id": "5a056565-6581-43ee-96ff-6d01df635110",
   "metadata": {},
   "outputs": [
    {
     "name": "stdout",
     "output_type": "stream",
     "text": [
      "Hello, world\n"
     ]
    }
   ],
   "source": [
    "# In 'Hello, world\"\n",
    "print ('Hello, world')"
   ]
  },
  {
   "cell_type": "markdown",
   "id": "613dd760-4867-4c96-ae47-379483fec098",
   "metadata": {},
   "source": [
    "Chú thích nhiều dòng:"
   ]
  },
  {
   "cell_type": "code",
   "execution_count": 3,
   "id": "7f4957fd-07f3-4be2-b71f-9c8e15d3b64e",
   "metadata": {},
   "outputs": [
    {
     "name": "stdout",
     "output_type": "stream",
     "text": [
      "Hello, world\n"
     ]
    }
   ],
   "source": [
    "'''\n",
    "To print\n",
    "Hello, world\n",
    "'''\n",
    "print ('Hello, world')"
   ]
  },
  {
   "cell_type": "markdown",
   "id": "08065013-65a2-4035-94c0-ea6078793130",
   "metadata": {},
   "source": [
    "Ok, bây giờ chúng ta sẽ cũng nhau tìm hiểu sâu hơn về các thành phần cơ bản trong Python nha."
   ]
  },
  {
   "cell_type": "markdown",
   "id": "05b3fc2a-73e7-41bd-88ad-562f1e9051a8",
   "metadata": {},
   "source": [
    "## II. CÁC THÀNH PHẦN CƠ BẢN TRONG PYTHON "
   ]
  },
  {
   "cell_type": "markdown",
   "id": "851db246-0092-480a-8f58-76810e4cb20c",
   "metadata": {},
   "source": [
    "### 1. Biến (Variables)"
   ]
  },
  {
   "cell_type": "markdown",
   "id": "7e931684-b6a5-4214-a196-bb5f3afe7f91",
   "metadata": {},
   "source": [
    "#### 1.1 Khởi tạo biến \n",
    "\n",
    "Để khai báo biến trong Python thì mọi người sử dụng cú pháp `tên_biến = giá_trị`, trong đó:\n",
    "- `tên_biến`: tên của biến mà các bạn muốn đặt. \n",
    "- `giá_trị` : giá trị của biến mà bạn muốn gán.\n",
    "- `=`: phép gán."
   ]
  },
  {
   "cell_type": "code",
   "execution_count": 4,
   "id": "4e3ca51c-a622-46d0-a250-e9123c937362",
   "metadata": {},
   "outputs": [
    {
     "data": {
      "text/plain": [
       "11154381375302418360"
      ]
     },
     "execution_count": 4,
     "metadata": {},
     "output_type": "execute_result"
    }
   ],
   "source": [
    "3394729930 * 3285793452"
   ]
  },
  {
   "cell_type": "code",
   "execution_count": 5,
   "id": "db16ffde-6bfe-4e70-86f8-22ca276ddef4",
   "metadata": {},
   "outputs": [
    {
     "data": {
      "text/plain": [
       "3.432117346246898e+16"
      ]
     },
     "execution_count": 5,
     "metadata": {},
     "output_type": "execute_result"
    }
   ],
   "source": [
    "11154381375302418360/325"
   ]
  },
  {
   "cell_type": "code",
   "execution_count": 6,
   "id": "d96eaffe-7b7b-484c-9e62-620d97ded837",
   "metadata": {},
   "outputs": [],
   "source": [
    "x = 3394729930\n",
    "y = 3285793452\n",
    "z = 325"
   ]
  },
  {
   "cell_type": "code",
   "execution_count": 7,
   "id": "30af0382-de9f-4213-ae35-0714fc3fbb13",
   "metadata": {},
   "outputs": [
    {
     "data": {
      "text/plain": [
       "3.432117346246898e+16"
      ]
     },
     "execution_count": 7,
     "metadata": {},
     "output_type": "execute_result"
    }
   ],
   "source": [
    "x * y / z"
   ]
  },
  {
   "cell_type": "code",
   "execution_count": 8,
   "id": "73c6ccff-2984-46ea-be34-d601e87ddc14",
   "metadata": {},
   "outputs": [
    {
     "data": {
      "text/plain": [
       "3.432117346246898e+16"
      ]
     },
     "execution_count": 8,
     "metadata": {},
     "output_type": "execute_result"
    }
   ],
   "source": [
    "x, y, z = 3394729930,3285793452,325\n",
    "x*y/z"
   ]
  },
  {
   "cell_type": "markdown",
   "id": "662a7150-7890-4424-b6c2-3d834c83ce68",
   "metadata": {
    "tags": []
   },
   "source": [
    "#### 1.2 Các kiểu dữ liệu"
   ]
  },
  {
   "cell_type": "markdown",
   "id": "769f4a3f-5702-4818-ac19-5311bd6747c1",
   "metadata": {},
   "source": [
    "|Kiểu dữ liệu|Ý nghĩa|Ví dụ|\n",
    "|-|-|-|\n",
    "|`int`|Kiểu số nguyên (không có chứa dấu chấm thập phân)|`11`, `-15`|\n",
    "|`float`|Kiểu số thực (có chứa dấu chấm thập phân)|`3.14`, `4.02`|\n",
    "|`complex`|Kiểu số phức|`1 + 2j`, `3 - 4j`|\n",
    "|`str`|Kiểu chuỗi|`'MCI'`,`'Python'`|\n",
    "|`bool`|Kiểu luận lý|`TRUE`, `FALSE`|"
   ]
  },
  {
   "cell_type": "markdown",
   "id": "0e316786-a879-4011-aac7-3de6dc08ed29",
   "metadata": {},
   "source": [
    "#### 1.3 Kiểm tra kiểu dữ liệu của biến"
   ]
  },
  {
   "cell_type": "markdown",
   "id": "a65b57a8-4c5d-4768-b715-b839462cc73d",
   "metadata": {},
   "source": [
    "Để kiểm tra kiểu dữ liệu giá trị của một biến đã khởi tạo, ta sử dụng hàm `type()`\n",
    "- Cú pháp: `type(tên_biến)`"
   ]
  },
  {
   "cell_type": "code",
   "execution_count": 9,
   "id": "a82921f8-e047-4d39-8597-e6a40ba4b94c",
   "metadata": {},
   "outputs": [
    {
     "data": {
      "text/plain": [
       "int"
      ]
     },
     "execution_count": 9,
     "metadata": {},
     "output_type": "execute_result"
    }
   ],
   "source": [
    "type(x)"
   ]
  },
  {
   "cell_type": "code",
   "execution_count": 10,
   "id": "6245e798-3674-469e-be3e-29b67e8f8c3a",
   "metadata": {},
   "outputs": [
    {
     "data": {
      "text/plain": [
       "float"
      ]
     },
     "execution_count": 10,
     "metadata": {},
     "output_type": "execute_result"
    }
   ],
   "source": [
    "type(3.432117346246898e+16)"
   ]
  },
  {
   "cell_type": "markdown",
   "id": "6bed03de-58bf-4e01-8692-022acf964c30",
   "metadata": {},
   "source": [
    "### 2. Toán tử số học\n",
    "|Phép toán|Biểu thức|Ý nghĩa |\n",
    "|-|-|-|\n",
    "|+|`x + y`|Phép cộng|\n",
    "|-|`x - y`|Phép trừ|\n",
    "|*|`x * y`|Phép nhân|\n",
    "|/|`x / y`|Phép chia|\n",
    "|%|`x % y`|Phép chia lấy phần dư|\n",
    "|//|`x // y`|Phép chia làm tròn xuống|\n",
    "|**|`x ** y`|Phép mũ|"
   ]
  },
  {
   "cell_type": "code",
   "execution_count": 11,
   "id": "ef7ce7b7-240a-4711-b898-d9da43a7452d",
   "metadata": {},
   "outputs": [],
   "source": [
    "a,b = 21,35"
   ]
  },
  {
   "cell_type": "code",
   "execution_count": 12,
   "id": "a269da62-d520-47ba-a088-1e2c26833dd0",
   "metadata": {},
   "outputs": [
    {
     "data": {
      "text/plain": [
       "56"
      ]
     },
     "execution_count": 12,
     "metadata": {},
     "output_type": "execute_result"
    }
   ],
   "source": [
    "a+b"
   ]
  },
  {
   "cell_type": "code",
   "execution_count": 13,
   "id": "f6dc9dcd-1bfc-45f8-99f6-6015104a8eb9",
   "metadata": {},
   "outputs": [
    {
     "data": {
      "text/plain": [
       "-14"
      ]
     },
     "execution_count": 13,
     "metadata": {},
     "output_type": "execute_result"
    }
   ],
   "source": [
    "a-b"
   ]
  },
  {
   "cell_type": "code",
   "execution_count": 14,
   "id": "e7db482c-a179-460d-968f-aee79ec916f1",
   "metadata": {},
   "outputs": [
    {
     "data": {
      "text/plain": [
       "735"
      ]
     },
     "execution_count": 14,
     "metadata": {},
     "output_type": "execute_result"
    }
   ],
   "source": [
    "a*b"
   ]
  },
  {
   "cell_type": "code",
   "execution_count": 15,
   "id": "098f0940-3fdd-4753-bdda-dc9cc2bd0d72",
   "metadata": {},
   "outputs": [
    {
     "data": {
      "text/plain": [
       "0.6"
      ]
     },
     "execution_count": 15,
     "metadata": {},
     "output_type": "execute_result"
    }
   ],
   "source": [
    "a/b"
   ]
  },
  {
   "cell_type": "code",
   "execution_count": 16,
   "id": "0b8dfea7-1298-4df8-b2e4-cfe4746f45b1",
   "metadata": {},
   "outputs": [
    {
     "data": {
      "text/plain": [
       "21"
      ]
     },
     "execution_count": 16,
     "metadata": {},
     "output_type": "execute_result"
    }
   ],
   "source": [
    "a%b"
   ]
  },
  {
   "cell_type": "code",
   "execution_count": 17,
   "id": "59cb99e0-cb52-4ad7-a4b7-7c51a2982d36",
   "metadata": {},
   "outputs": [
    {
     "data": {
      "text/plain": [
       "0"
      ]
     },
     "execution_count": 17,
     "metadata": {},
     "output_type": "execute_result"
    }
   ],
   "source": [
    "a//b"
   ]
  },
  {
   "cell_type": "code",
   "execution_count": 18,
   "id": "127fb053-5ae7-4329-8580-df84c17af482",
   "metadata": {},
   "outputs": [
    {
     "data": {
      "text/plain": [
       "18952884486433699020098042171468383867092598701"
      ]
     },
     "execution_count": 18,
     "metadata": {},
     "output_type": "execute_result"
    }
   ],
   "source": [
    "a**b"
   ]
  },
  {
   "cell_type": "code",
   "execution_count": 19,
   "id": "03b99135-f8ef-4611-9ca5-4d11017f7b85",
   "metadata": {},
   "outputs": [
    {
     "data": {
      "text/plain": [
       "4.58257569495584"
      ]
     },
     "execution_count": 19,
     "metadata": {},
     "output_type": "execute_result"
    }
   ],
   "source": [
    "a**(1/2)"
   ]
  },
  {
   "cell_type": "code",
   "execution_count": 21,
   "id": "32e23ca9-a030-4636-85c5-a52e87a09d6e",
   "metadata": {},
   "outputs": [
    {
     "data": {
      "text/plain": [
       "5.916079783099616"
      ]
     },
     "execution_count": 21,
     "metadata": {},
     "output_type": "execute_result"
    }
   ],
   "source": [
    "import math\n",
    "math.sqrt(b)"
   ]
  },
  {
   "cell_type": "code",
   "execution_count": 22,
   "id": "a35d5400-c3cd-4cca-b624-4366242df986",
   "metadata": {},
   "outputs": [
    {
     "data": {
      "text/plain": [
       "5"
      ]
     },
     "execution_count": 22,
     "metadata": {},
     "output_type": "execute_result"
    }
   ],
   "source": [
    "round (a**(1/2))"
   ]
  },
  {
   "cell_type": "markdown",
   "id": "ef8e5cc1-45c9-4bd9-bfd1-fa86c5850ba8",
   "metadata": {},
   "source": [
    "### 3. Toán tử luận lý"
   ]
  },
  {
   "cell_type": "code",
   "execution_count": 23,
   "id": "4b231836-e999-484a-9886-9590ec9b7079",
   "metadata": {},
   "outputs": [
    {
     "data": {
      "text/plain": [
       "True"
      ]
     },
     "execution_count": 23,
     "metadata": {},
     "output_type": "execute_result"
    }
   ],
   "source": [
    "True and True"
   ]
  },
  {
   "cell_type": "code",
   "execution_count": 24,
   "id": "432b39ee-fc68-467c-b8f2-6d2b8296f35b",
   "metadata": {},
   "outputs": [
    {
     "data": {
      "text/plain": [
       "False"
      ]
     },
     "execution_count": 24,
     "metadata": {},
     "output_type": "execute_result"
    }
   ],
   "source": [
    "True and False"
   ]
  },
  {
   "cell_type": "code",
   "execution_count": 25,
   "id": "9713d406-9bd3-4576-a636-215c74085e8e",
   "metadata": {},
   "outputs": [
    {
     "data": {
      "text/plain": [
       "True"
      ]
     },
     "execution_count": 25,
     "metadata": {},
     "output_type": "execute_result"
    }
   ],
   "source": [
    "True or False"
   ]
  },
  {
   "cell_type": "code",
   "execution_count": 27,
   "id": "93254dac-0085-4761-a182-02927212f319",
   "metadata": {},
   "outputs": [
    {
     "data": {
      "text/plain": [
       "False"
      ]
     },
     "execution_count": 27,
     "metadata": {},
     "output_type": "execute_result"
    }
   ],
   "source": [
    "not True"
   ]
  },
  {
   "cell_type": "code",
   "execution_count": 28,
   "id": "23e85631-bd3a-44e2-957d-2f7cd78c4164",
   "metadata": {},
   "outputs": [
    {
     "data": {
      "text/plain": [
       "True"
      ]
     },
     "execution_count": 28,
     "metadata": {},
     "output_type": "execute_result"
    }
   ],
   "source": [
    "not False"
   ]
  },
  {
   "cell_type": "code",
   "execution_count": 29,
   "id": "ca676d7c-7349-427c-9e77-910eac386968",
   "metadata": {},
   "outputs": [
    {
     "data": {
      "text/plain": [
       "True"
      ]
     },
     "execution_count": 29,
     "metadata": {},
     "output_type": "execute_result"
    }
   ],
   "source": [
    "True and (True or False) or False"
   ]
  },
  {
   "cell_type": "markdown",
   "id": "18553252-146d-449b-a9f1-3444a17a2e58",
   "metadata": {},
   "source": [
    "### 4. Toán tử điều kiện"
   ]
  },
  {
   "cell_type": "code",
   "execution_count": 30,
   "id": "f886316e-dab8-45d0-a968-8c69d87b1d17",
   "metadata": {},
   "outputs": [
    {
     "data": {
      "text/plain": [
       "False"
      ]
     },
     "execution_count": 30,
     "metadata": {},
     "output_type": "execute_result"
    }
   ],
   "source": [
    "5>7"
   ]
  },
  {
   "cell_type": "code",
   "execution_count": 31,
   "id": "201b9100-6026-4d82-8f22-0d55d1eb6a14",
   "metadata": {},
   "outputs": [
    {
     "data": {
      "text/plain": [
       "True"
      ]
     },
     "execution_count": 31,
     "metadata": {},
     "output_type": "execute_result"
    }
   ],
   "source": [
    "(3>4) or (4<5)"
   ]
  },
  {
   "cell_type": "markdown",
   "id": "33be5361-9fa1-4f9b-b66c-afa4304216e7",
   "metadata": {},
   "source": [
    "### 5. Cấu trúc dữ liệu"
   ]
  },
  {
   "cell_type": "markdown",
   "id": "81f2b826-b8f1-42a2-bd11-29b1e468154a",
   "metadata": {},
   "source": [
    "#### 5.1 List\n",
    "\n",
    "\n",
    "##### 5.1.0 Khai báo list\n",
    "\n",
    "- Cú pháp: `[value1, value2, ...]`"
   ]
  },
  {
   "cell_type": "code",
   "execution_count": 55,
   "id": "a9d7bdba-5b30-498f-b18f-162202e4daf3",
   "metadata": {},
   "outputs": [],
   "source": [
    "li = [2, 4.56, 'list', 2+3]\n",
    "#     0   1       2      3 -> (trai qua phai)\n",
    "#    -4  -3      -3     -1 -> (phai qua trai)"
   ]
  },
  {
   "cell_type": "code",
   "execution_count": 41,
   "id": "4505aed4-5c14-4f08-9da7-73972a8964e8",
   "metadata": {},
   "outputs": [
    {
     "data": {
      "text/plain": [
       "[2, 4.56, 'list', 5]"
      ]
     },
     "execution_count": 41,
     "metadata": {},
     "output_type": "execute_result"
    }
   ],
   "source": [
    "li"
   ]
  },
  {
   "cell_type": "code",
   "execution_count": 42,
   "id": "481e9f4b-f313-45fa-820c-dab717e7d482",
   "metadata": {},
   "outputs": [
    {
     "data": {
      "text/plain": [
       "2"
      ]
     },
     "execution_count": 42,
     "metadata": {},
     "output_type": "execute_result"
    }
   ],
   "source": [
    "li[0]"
   ]
  },
  {
   "cell_type": "code",
   "execution_count": 43,
   "id": "bf2a19c8-0946-44c6-a368-a969263c57d2",
   "metadata": {},
   "outputs": [
    {
     "data": {
      "text/plain": [
       "'list'"
      ]
     },
     "execution_count": 43,
     "metadata": {},
     "output_type": "execute_result"
    }
   ],
   "source": [
    "li[2]"
   ]
  },
  {
   "cell_type": "code",
   "execution_count": 39,
   "id": "838d67ee-341a-4040-a27e-e43a962f3c96",
   "metadata": {},
   "outputs": [
    {
     "data": {
      "text/plain": [
       "5"
      ]
     },
     "execution_count": 39,
     "metadata": {},
     "output_type": "execute_result"
    }
   ],
   "source": [
    "li[-1]\n",
    "#thong thuong sd de tra ve item cuoi list"
   ]
  },
  {
   "cell_type": "code",
   "execution_count": 45,
   "id": "ec100ada-b67e-48cb-bc9d-2d0c3ccdb74f",
   "metadata": {},
   "outputs": [
    {
     "data": {
      "text/plain": [
       "[[1, 2, 3], ['A', 'B'], 'XY']"
      ]
     },
     "execution_count": 45,
     "metadata": {},
     "output_type": "execute_result"
    }
   ],
   "source": [
    "li1=[[1,2,3],['A','B'],'XY']\n",
    "li1"
   ]
  },
  {
   "cell_type": "code",
   "execution_count": 46,
   "id": "afdf974c-5828-4bea-96b1-b0f3d418cbe5",
   "metadata": {},
   "outputs": [
    {
     "data": {
      "text/plain": [
       "2"
      ]
     },
     "execution_count": 46,
     "metadata": {},
     "output_type": "execute_result"
    }
   ],
   "source": [
    "li1[0][1]"
   ]
  },
  {
   "cell_type": "code",
   "execution_count": null,
   "id": "df5a6657-70dd-499a-9522-9859f728a3b2",
   "metadata": {},
   "outputs": [],
   "source": []
  },
  {
   "cell_type": "markdown",
   "id": "068ebd1e-21a1-46c9-843a-d59442293ecf",
   "metadata": {},
   "source": [
    "##### 5.1.2 Các hàm cơ bản với List"
   ]
  },
  {
   "cell_type": "markdown",
   "id": "db54e346-4154-426c-97b7-d7e7d521a3b3",
   "metadata": {},
   "source": [
    "|Tên hàm|Ý nghĩa|Trả về giá trị|\n",
    "|-|-|-|\n",
    "|`append()`|Thêm một phần tử vào vị trí cuối cùng trong list|Không|\n",
    "|`clear()`|Xóa sạch các phần tử trong list|Không|\n",
    "|`copy()`|Sao chép toàn bộ list|Có|\n",
    "|`count()`|Đếm số lần một phần tử xuất hiện trong list|Có|\n",
    "|`extend()`|Kết hợp list với một list khác|Không|\n",
    "|`index()`|Trả về vị trí phần tử trong list|Có|\n",
    "|`insert()`|Chèn một phần tử vào list tại vị trí cho trước|Không|\n",
    "|`pop()`|Loại bỏ phần tử ở vị trí index cho trước trong list|Không|\n",
    "|`remove()`|Loại bỏ một phần tử khỏi list|Không|\n",
    "|`reverse()`|Đảo ngược thứ tự các phần tử trong list|Không|\n",
    "|`sort()`|Sắp xếp các phần tử trong list|Không|"
   ]
  },
  {
   "cell_type": "code",
   "execution_count": 54,
   "id": "fd7206a8-38af-4399-81dd-bd0da71a8908",
   "metadata": {},
   "outputs": [],
   "source": [
    "#li.Ten ham\n",
    "#Click Ten ham Shift + Tab for description"
   ]
  },
  {
   "cell_type": "code",
   "execution_count": 47,
   "id": "6764c113-c1e7-4b52-8410-f851cc228f84",
   "metadata": {},
   "outputs": [
    {
     "data": {
      "text/plain": [
       "[2, 4.56, 'list', 5]"
      ]
     },
     "execution_count": 47,
     "metadata": {},
     "output_type": "execute_result"
    }
   ],
   "source": [
    "li"
   ]
  },
  {
   "cell_type": "code",
   "execution_count": 48,
   "id": "4ff84962-e46b-49f2-a3ed-822e0aa434f0",
   "metadata": {},
   "outputs": [
    {
     "data": {
      "text/plain": [
       "[2, 4.56, 'list', 5, 10]"
      ]
     },
     "execution_count": 48,
     "metadata": {},
     "output_type": "execute_result"
    }
   ],
   "source": [
    "li.append(10)\n",
    "li"
   ]
  },
  {
   "cell_type": "code",
   "execution_count": 49,
   "id": "e0d56163-2232-4ca7-b959-3466a1b09863",
   "metadata": {},
   "outputs": [
    {
     "data": {
      "text/plain": [
       "[2, 4.56, 'list', 5, 10]"
      ]
     },
     "execution_count": 49,
     "metadata": {},
     "output_type": "execute_result"
    }
   ],
   "source": [
    "li2 = li.copy()\n",
    "li2"
   ]
  },
  {
   "cell_type": "code",
   "execution_count": 50,
   "id": "682a984e-1025-4927-b130-ea08d3b863e3",
   "metadata": {},
   "outputs": [
    {
     "data": {
      "text/plain": [
       "['__add__',\n",
       " '__class__',\n",
       " '__contains__',\n",
       " '__delattr__',\n",
       " '__delitem__',\n",
       " '__dir__',\n",
       " '__doc__',\n",
       " '__eq__',\n",
       " '__format__',\n",
       " '__ge__',\n",
       " '__getattribute__',\n",
       " '__getitem__',\n",
       " '__gt__',\n",
       " '__hash__',\n",
       " '__iadd__',\n",
       " '__imul__',\n",
       " '__init__',\n",
       " '__init_subclass__',\n",
       " '__iter__',\n",
       " '__le__',\n",
       " '__len__',\n",
       " '__lt__',\n",
       " '__mul__',\n",
       " '__ne__',\n",
       " '__new__',\n",
       " '__reduce__',\n",
       " '__reduce_ex__',\n",
       " '__repr__',\n",
       " '__reversed__',\n",
       " '__rmul__',\n",
       " '__setattr__',\n",
       " '__setitem__',\n",
       " '__sizeof__',\n",
       " '__str__',\n",
       " '__subclasshook__',\n",
       " 'append',\n",
       " 'clear',\n",
       " 'copy',\n",
       " 'count',\n",
       " 'extend',\n",
       " 'index',\n",
       " 'insert',\n",
       " 'pop',\n",
       " 'remove',\n",
       " 'reverse',\n",
       " 'sort']"
      ]
     },
     "execution_count": 50,
     "metadata": {},
     "output_type": "execute_result"
    }
   ],
   "source": [
    "dir(li)"
   ]
  },
  {
   "cell_type": "code",
   "execution_count": 53,
   "id": "f8c40b94-77e5-4c92-9de5-f2a51ca68e98",
   "metadata": {},
   "outputs": [
    {
     "data": {
      "text/plain": [
       "['append',\n",
       " 'clear',\n",
       " 'copy',\n",
       " 'count',\n",
       " 'extend',\n",
       " 'index',\n",
       " 'insert',\n",
       " 'pop',\n",
       " 'remove',\n",
       " 'reverse',\n",
       " 'sort']"
      ]
     },
     "execution_count": 53,
     "metadata": {},
     "output_type": "execute_result"
    }
   ],
   "source": [
    "# Lap qua tat ca cac phan tu ben trong cau truc du lieu\n",
    "# Giu cac phan tu khong bat dau bang _\n",
    "# Dinh dang list\n",
    "[method for method in dir(li) if not method.startswith('_')]"
   ]
  },
  {
   "cell_type": "code",
   "execution_count": null,
   "id": "ab91e629-3e0f-4f3a-b43f-0b0cad906388",
   "metadata": {},
   "outputs": [],
   "source": []
  },
  {
   "cell_type": "markdown",
   "id": "8a5c7f8e-b157-477f-8e92-9f2b64b6b9dc",
   "metadata": {},
   "source": [
    "Đố vui:\n",
    "- Hàm `extend()` và hàm `append()` khác gì nhau?\n",
    "- Hàm `remove()` and `pop()` khác gì nhau?"
   ]
  },
  {
   "cell_type": "code",
   "execution_count": 57,
   "id": "f3067bcf-16d4-4638-9ad8-033c0adcfd23",
   "metadata": {},
   "outputs": [
    {
     "data": {
      "text/plain": [
       "[2, 4.56, 'list', 5, 3, 5, 7, 3, 5, 7]"
      ]
     },
     "execution_count": 57,
     "metadata": {},
     "output_type": "execute_result"
    }
   ],
   "source": [
    "li.extend([3,5,7])\n",
    "li"
   ]
  },
  {
   "cell_type": "code",
   "execution_count": 59,
   "id": "72460c2f-ea18-4e01-85e3-9d325ee2228e",
   "metadata": {},
   "outputs": [
    {
     "data": {
      "text/plain": [
       "[2, 4.56, 'list', 5, 3, 5, 7, 3, 5, 7, 'Hanoi', 'Hanoi']"
      ]
     },
     "execution_count": 59,
     "metadata": {},
     "output_type": "execute_result"
    }
   ],
   "source": [
    "li.append('Hanoi')\n",
    "li"
   ]
  },
  {
   "cell_type": "code",
   "execution_count": 66,
   "id": "f51e5ac8-e9d6-407e-8a66-86899aff4693",
   "metadata": {},
   "outputs": [
    {
     "data": {
      "text/plain": [
       "[2, 4.56, 'list', 5, 5, 5, 7, 'Hanoi', 'Hanoi']"
      ]
     },
     "execution_count": 66,
     "metadata": {},
     "output_type": "execute_result"
    }
   ],
   "source": [
    "li.remove(3)\n",
    "li\n",
    "#remove(x) xóa item x"
   ]
  },
  {
   "cell_type": "code",
   "execution_count": 67,
   "id": "47666309-55c4-430f-ade6-982de29ca468",
   "metadata": {},
   "outputs": [
    {
     "data": {
      "text/plain": [
       "[2, 4.56, 'list', 5, 5, 7, 'Hanoi', 'Hanoi']"
      ]
     },
     "execution_count": 67,
     "metadata": {},
     "output_type": "execute_result"
    }
   ],
   "source": [
    "li.pop(5)\n",
    "li\n",
    "#pop(x) xóa item thứ x"
   ]
  },
  {
   "cell_type": "code",
   "execution_count": 68,
   "id": "676a0d0d-2da1-4aa3-b8cb-a2808cf2eeb2",
   "metadata": {},
   "outputs": [],
   "source": [
    "#extend([list]) kết hợp với 1 list khác\n",
    "#append(item) thêm 1 item vào cuối list ban đầu"
   ]
  },
  {
   "cell_type": "markdown",
   "id": "8ab380fb-d22d-4d13-9281-1a81ee9d7842",
   "metadata": {},
   "source": [
    "#### 5.2 Tuple\n",
    "\n",
    "##### 5.2.0 Khai báo tuple\n",
    "\n",
    "- Cú pháp: `(value1, value2, ...)`"
   ]
  },
  {
   "cell_type": "code",
   "execution_count": 69,
   "id": "5e301b8f-6389-4a7e-b5a8-55858b6c0b60",
   "metadata": {},
   "outputs": [
    {
     "data": {
      "text/plain": [
       "(2, 65.875, 'Covid', 2, 3, 5, 2)"
      ]
     },
     "execution_count": 69,
     "metadata": {},
     "output_type": "execute_result"
    }
   ],
   "source": [
    "tu= (2,65.875,'Covid',2,3,5,1+1)\n",
    "tu"
   ]
  },
  {
   "cell_type": "code",
   "execution_count": null,
   "id": "97e62bcc-20dd-4bb0-885d-55d5069f286e",
   "metadata": {},
   "outputs": [],
   "source": []
  },
  {
   "cell_type": "markdown",
   "id": "a600e0ad-0d7f-4363-a34f-0bd579e2d690",
   "metadata": {},
   "source": [
    "##### 5.2.1 Các hàm cơ bản trong tuple\n",
    "\n",
    "|Tên hàm|Ý nghĩa|Trả về giá trị|\n",
    "|-|-|-|\n",
    "|`count()`|Đếm số lần một phần tử xuất hiện trong tuple|Có|\n",
    "|`index()`|Trả về vị trí phần tử trong tuple|Có|"
   ]
  },
  {
   "cell_type": "code",
   "execution_count": 70,
   "id": "55c7bdfe-d050-4327-93ee-f58c573ed29a",
   "metadata": {},
   "outputs": [
    {
     "data": {
      "text/plain": [
       "3"
      ]
     },
     "execution_count": 70,
     "metadata": {},
     "output_type": "execute_result"
    }
   ],
   "source": [
    "tu.count(2)"
   ]
  },
  {
   "cell_type": "code",
   "execution_count": 72,
   "id": "e9c02153-25cd-4ef5-b362-f9b84ff03159",
   "metadata": {},
   "outputs": [
    {
     "data": {
      "text/plain": [
       "4"
      ]
     },
     "execution_count": 72,
     "metadata": {},
     "output_type": "execute_result"
    }
   ],
   "source": [
    "tu.index(3)"
   ]
  },
  {
   "cell_type": "code",
   "execution_count": 73,
   "id": "69edddc2-d3f7-4510-b880-13e124f6b8bf",
   "metadata": {},
   "outputs": [
    {
     "data": {
      "text/plain": [
       "0"
      ]
     },
     "execution_count": 73,
     "metadata": {},
     "output_type": "execute_result"
    }
   ],
   "source": [
    "tu.index(2)"
   ]
  },
  {
   "cell_type": "code",
   "execution_count": null,
   "id": "9436aceb-5d1c-44e5-b174-ea03ff44e4c0",
   "metadata": {},
   "outputs": [],
   "source": []
  },
  {
   "cell_type": "markdown",
   "id": "9ac494df-c373-4fbd-be0d-1fae08116c94",
   "metadata": {},
   "source": [
    "#### 5.3 Set\n",
    "\n",
    "\n",
    "##### 5.3.0 Khai báo set\n",
    "\n",
    "- Cú pháp: `{value1, value2, ...}`\n"
   ]
  },
  {
   "cell_type": "code",
   "execution_count": 74,
   "id": "88cffa5c-1372-4e42-82d0-fbefc09d9ec8",
   "metadata": {},
   "outputs": [
    {
     "data": {
      "text/plain": [
       "{2, 3, 4, 5, 6}"
      ]
     },
     "execution_count": 74,
     "metadata": {},
     "output_type": "execute_result"
    }
   ],
   "source": [
    "s={2,2,4,5,3,4,5,6,5}\n",
    "s"
   ]
  },
  {
   "cell_type": "code",
   "execution_count": null,
   "id": "e7bc2fbf-3155-4e8c-bed3-95942f3cf6a6",
   "metadata": {},
   "outputs": [],
   "source": []
  },
  {
   "cell_type": "markdown",
   "id": "9f21eede-0912-4c83-a061-60b0fe305e26",
   "metadata": {},
   "source": [
    "##### 5.3.1 Các hàm cơ bản trong set\n",
    "\n",
    "|Tên hàm|Ý nghĩa|Trả về giá trị|\n",
    "|-|-|-|\n",
    "|`add()`|Thêm một phần tử vào vị trí cuối cùng trong set|Không|\n",
    "|`clear()`|Xóa sạch các phần tử trong set|Không|\n",
    "|`copy()`|Sao chép toàn bộ set|Có|\n",
    "|`A.difference(B)`|Phép trừ sẽ trả về một tập hợp các giá trị chỉ có ở set A hoặc set B|Có|\n",
    "|`A.difference_update(B)`|Xóa các thành phần tồn tại trong cả hai bộ của set A|Không|\n",
    "|`discard()`|Xoá phần tử trong set|Có|\n",
    "|`A.intersection(B)`|Phép giao giữa 2 set|Có|\n",
    "|`A.intersection_update(B)`|Loại bỏ các thành phần không có trong cả 2 set|Không|\n",
    "|`A.isdisjoint(B)`|Trả về True nếu 2 set là tập hợp rời rạc|Có|\n",
    "|`A.issubset(B)`|Trả về True nếu tất cả các item của set A đều có trong set B, False nếu ngược lại|Có|\n",
    "|`A.issuperset(B)`|Trả về True nếu tất cả các item của set B đều có trong set A, False nếu ngược lại|Có|\n",
    "|`pop()`|Loại bỏ phần tử ở vị trí index cho trước|Không|\n",
    "|`remove()`|Loại bỏ một phần tử |Không|\n",
    "|`A.symmetric_difference(B)`|Phép đối xứng trả về tập hợp những giá trị có trong set A không có trong set B và ngược lại|Có|\n",
    "|`A.symmetric_difference_update(B)`|Xóa các thành phần có trong cả hai nhóm và chèn các mục không có trong cả hai nhóm|Có|\n",
    "|`A.union(B)`|Phép hợp của 2 set|Có|\n",
    "|`update()`|Thêm phần tử|Không|\n",
    "\n",
    "\n",
    "Để có thể nắm được ý nghĩa của các hàm trong set hay bất kì cấu trúc dữ liệu nào, ta có thể tận dụng `docstring` hoặc `help()`.\n"
   ]
  },
  {
   "cell_type": "code",
   "execution_count": 75,
   "id": "847121a1-b994-4ae2-9e5f-250fdb8cf258",
   "metadata": {},
   "outputs": [
    {
     "data": {
      "text/plain": [
       "{3, 5}"
      ]
     },
     "execution_count": 75,
     "metadata": {},
     "output_type": "execute_result"
    }
   ],
   "source": [
    "s1={0,2,4,6}\n",
    "s.difference(s1)"
   ]
  },
  {
   "cell_type": "code",
   "execution_count": 76,
   "id": "3802c30d-a8d2-4821-aba1-94dad677033d",
   "metadata": {},
   "outputs": [
    {
     "data": {
      "text/plain": [
       "{0}"
      ]
     },
     "execution_count": 76,
     "metadata": {},
     "output_type": "execute_result"
    }
   ],
   "source": [
    "s1.difference(s)"
   ]
  },
  {
   "cell_type": "code",
   "execution_count": 78,
   "id": "45ffbd3a-d0aa-47f1-9bae-ad010a3fd269",
   "metadata": {},
   "outputs": [
    {
     "data": {
      "text/plain": [
       "{2, 4, 6}"
      ]
     },
     "execution_count": 78,
     "metadata": {},
     "output_type": "execute_result"
    }
   ],
   "source": [
    "s.intersection(s1)"
   ]
  },
  {
   "cell_type": "code",
   "execution_count": 79,
   "id": "a186fc59-6bd2-4f31-8158-47abb98a2b8f",
   "metadata": {},
   "outputs": [
    {
     "data": {
      "text/plain": [
       "{0, 2, 3, 4, 5, 6}"
      ]
     },
     "execution_count": 79,
     "metadata": {},
     "output_type": "execute_result"
    }
   ],
   "source": [
    "s.union(s1)"
   ]
  },
  {
   "cell_type": "code",
   "execution_count": 80,
   "id": "5dce1a4b-9bcd-4eb1-a2dd-27785e0e79d3",
   "metadata": {},
   "outputs": [
    {
     "data": {
      "text/plain": [
       "{0, 3, 5}"
      ]
     },
     "execution_count": 80,
     "metadata": {},
     "output_type": "execute_result"
    }
   ],
   "source": [
    "s.symmetric_difference(s1)"
   ]
  },
  {
   "cell_type": "markdown",
   "id": "886e7fd7-1008-438a-8711-bb9574e8dec4",
   "metadata": {},
   "source": [
    "#### 5.4 Dictionary\n",
    "\n",
    "##### 5.4.0 Khai báo dictionary\n",
    "\n",
    "Để khai báo một dictionary chúng ta dùng cặp dấu `{}` theo cú pháp sau:\n",
    "- Cú pháp: `{key1:value1, key2:value2,...}`\n"
   ]
  },
  {
   "cell_type": "code",
   "execution_count": 81,
   "id": "7ed62ad9-a41d-4416-a920-82605b020f1f",
   "metadata": {},
   "outputs": [
    {
     "data": {
      "text/plain": [
       "{1: 'Hanoi', 2: 'HCMC', 3: 'Danang', 4: 'Hue', 5: 'Dalat'}"
      ]
     },
     "execution_count": 81,
     "metadata": {},
     "output_type": "execute_result"
    }
   ],
   "source": [
    "dic= {1:'Hanoi',2:'HCMC', 3:'Danang',4:'Hue',5:'Dalat'}\n",
    "dic"
   ]
  },
  {
   "cell_type": "markdown",
   "id": "dcbe179c-9446-4886-ac32-1d62d82b844d",
   "metadata": {},
   "source": [
    "##### 5.4.1 Truy xuất các phần tử trong dictionary"
   ]
  },
  {
   "cell_type": "code",
   "execution_count": 83,
   "id": "3efea3e2-cdbc-4320-842e-83217452c86f",
   "metadata": {},
   "outputs": [
    {
     "data": {
      "text/plain": [
       "'Dalat'"
      ]
     },
     "execution_count": 83,
     "metadata": {},
     "output_type": "execute_result"
    }
   ],
   "source": [
    "dic[5]"
   ]
  },
  {
   "cell_type": "code",
   "execution_count": 84,
   "id": "02658763-b445-40d3-aec4-87814d937b85",
   "metadata": {},
   "outputs": [
    {
     "data": {
      "text/plain": [
       "'Rainy'"
      ]
     },
     "execution_count": 84,
     "metadata": {},
     "output_type": "execute_result"
    }
   ],
   "source": [
    "dic2={'Hanoi':{'Postcode':100000, 'Weather':'Rainy'},'HCMC':{'Postcode':70000, 'Weather':'Sunny'}}\n",
    "dic2['Hanoi']['Weather']"
   ]
  },
  {
   "cell_type": "markdown",
   "id": "630a82c4-9ee8-41b0-8ab8-d1005916b108",
   "metadata": {},
   "source": [
    "##### 5.4.2 Các hàm cơ bản trong dictionary\n",
    "\n",
    "|Tên hàm|Ý nghĩa|Trả về giá trị|\n",
    "|-|-|-|\n",
    "|`clear()`|Xóa sạch các phần tử|Không|\n",
    "|`copy()`|Sao chép các phần tử|Có|\n",
    "|`fromkeys()`|Tạo ra một dictionary với các khóa và giá trị được chỉ định|Có|\n",
    "|`get()`|Trả về giá trị của khóa được chỉ định|Có|\n",
    "|`items()`| Trả về danh sách chứa bộ giá trị cho mỗi cặp giá trị khóa|Có|\n",
    "|`keys()`|Trả về danh sách chứa các key của dictionary|Có|\n",
    "|`pop()`|Loại bỏ phần tử có key được chỉ định|Không|\n",
    "|`popitem()`|Xóa cặp key-value được chèn cuối cùng|Không|\n",
    "|`setdefault()`|Trả về giá trị của key được chỉ định. Nếu key không tồn tại: hãy chèn key, với giá trị được chỉ định|Không|\n",
    "|`update()`|Cập nhật dictionary với các cặp key-value được chỉ định|Không|\n",
    "|`values()`| Trả về danh sách tất cả các value trong từ điển |Có|"
   ]
  },
  {
   "cell_type": "code",
   "execution_count": 88,
   "id": "d3ca58f5-1676-47be-9538-db291d97985c",
   "metadata": {},
   "outputs": [
    {
     "data": {
      "text/plain": [
       "{'key1': 0, 'key2': 0, 'key3': 0}"
      ]
     },
     "execution_count": 88,
     "metadata": {},
     "output_type": "execute_result"
    }
   ],
   "source": [
    "x=('key1','key2','key3')\n",
    "y=(0)\n",
    "dic.fromkeys(x,y)"
   ]
  },
  {
   "cell_type": "code",
   "execution_count": 90,
   "id": "3433d202-347c-46c8-9492-526aa3d2e874",
   "metadata": {},
   "outputs": [
    {
     "data": {
      "text/plain": [
       "'Danang'"
      ]
     },
     "execution_count": 90,
     "metadata": {},
     "output_type": "execute_result"
    }
   ],
   "source": [
    "dic.get(3)"
   ]
  },
  {
   "cell_type": "code",
   "execution_count": 92,
   "id": "1a84c8a6-9c7b-47ca-b56a-0ae8c147d6c3",
   "metadata": {},
   "outputs": [
    {
     "data": {
      "text/plain": [
       "dict_keys(['Hanoi', 'HCMC'])"
      ]
     },
     "execution_count": 92,
     "metadata": {},
     "output_type": "execute_result"
    }
   ],
   "source": [
    "dic2.keys()"
   ]
  },
  {
   "cell_type": "markdown",
   "id": "33659433-089e-4dd5-8509-5ac0806bc9ae",
   "metadata": {},
   "source": [
    "Ở bài tiếp theo, chúng ta sẽ tìm hiểu về vòng lặp, câu điều kiện, cũng như cách viết 1 hàm trong Python."
   ]
  }
 ],
 "metadata": {
  "kernelspec": {
   "display_name": "Python 3 (ipykernel)",
   "language": "python",
   "name": "python3"
  },
  "language_info": {
   "codemirror_mode": {
    "name": "ipython",
    "version": 3
   },
   "file_extension": ".py",
   "mimetype": "text/x-python",
   "name": "python",
   "nbconvert_exporter": "python",
   "pygments_lexer": "ipython3",
   "version": "3.7.11"
  }
 },
 "nbformat": 4,
 "nbformat_minor": 5
}
