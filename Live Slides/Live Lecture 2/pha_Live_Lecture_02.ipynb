{
 "cells": [
  {
   "cell_type": "markdown",
   "id": "c1d182e6-3239-4517-86b7-c2bce677319d",
   "metadata": {},
   "source": [
    "# <center> Bài 2: Giới thiệu về PYTHON </center>\n",
    "![](https://laptrinhcanban.com/python/nhap-mon-lap-trinh-python/gioi-thieu-python/python-la-gi/Python.jpg)"
   ]
  },
  {
   "cell_type": "markdown",
   "id": "94b15aae-5abd-4c3e-9356-76c6288d07de",
   "metadata": {},
   "source": [
    "## I. GIỚI THIỆU\n",
    "\n",
    "![Độ phổ biến của 1 số ngôn ngữ lập trình được sử dụng trên các kho lưu trữ trên GitHub.](./img/python.png)\n",
    "> *Độ phổ biến của 1 số ngôn ngữ lập trình được sử dụng trên các kho lưu trữ trên GitHub tính đến tháng 4/2014 theo [Githut](https://githut.info/).*"
   ]
  },
  {
   "cell_type": "markdown",
   "id": "fc5c6b0a-dd30-4a67-b3a0-41ca10ce5d6c",
   "metadata": {},
   "source": [
    "Chương trình đầu tiên `print('Hello, world')`."
   ]
  },
  {
   "cell_type": "code",
   "execution_count": 3,
   "id": "0cb31b69-b04e-4fa2-aac1-e98b56f5a2bd",
   "metadata": {},
   "outputs": [
    {
     "name": "stdout",
     "output_type": "stream",
     "text": [
      "hello, world\n",
      "Hello, world\n"
     ]
    }
   ],
   "source": [
    "#built-in function and user-defined function   (#: để viết chú thích)\n",
    "print ('hello, world') #tên hàm () -> keyword \n",
    "print (\"Hello, world\")"
   ]
  },
  {
   "cell_type": "markdown",
   "id": "323186fe-887b-482c-af41-1e41b80a3af4",
   "metadata": {},
   "source": [
    "Dòng chú thích (Comments):"
   ]
  },
  {
   "cell_type": "code",
   "execution_count": null,
   "id": "5a056565-6581-43ee-96ff-6d01df635110",
   "metadata": {},
   "outputs": [],
   "source": [
    "# use print function \n",
    "# to \n",
    "# print (\"Hello, world\")"
   ]
  },
  {
   "cell_type": "markdown",
   "id": "613dd760-4867-4c96-ae47-379483fec098",
   "metadata": {},
   "source": [
    "Chú thích nhiều dòng:"
   ]
  },
  {
   "cell_type": "code",
   "execution_count": null,
   "id": "7f4957fd-07f3-4be2-b71f-9c8e15d3b64e",
   "metadata": {},
   "outputs": [],
   "source": [
    "ctrl+/"
   ]
  },
  {
   "cell_type": "markdown",
   "id": "08065013-65a2-4035-94c0-ea6078793130",
   "metadata": {},
   "source": [
    "Ok, bây giờ chúng ta sẽ cũng nhau tìm hiểu sâu hơn về các thành phần cơ bản trong Python nha."
   ]
  },
  {
   "cell_type": "markdown",
   "id": "05b3fc2a-73e7-41bd-88ad-562f1e9051a8",
   "metadata": {},
   "source": [
    "## II. CÁC THÀNH PHẦN CƠ BẢN TRONG PYTHON "
   ]
  },
  {
   "cell_type": "markdown",
   "id": "851db246-0092-480a-8f58-76810e4cb20c",
   "metadata": {},
   "source": [
    "### 1. Biến (Variables)"
   ]
  },
  {
   "cell_type": "markdown",
   "id": "7e931684-b6a5-4214-a196-bb5f3afe7f91",
   "metadata": {},
   "source": [
    "#### 1.1 Khởi tạo biến \n",
    "\n",
    "Để khai báo biến trong Python thì mọi người sử dụng cú pháp `tên_biến = giá_trị`, trong đó:\n",
    "- `tên_biến`: tên của biến mà các bạn muốn đặt. \n",
    "- `giá_trị` : giá trị của biến mà bạn muốn gán.\n",
    "- `=`: phép gán."
   ]
  },
  {
   "cell_type": "code",
   "execution_count": 5,
   "id": "4e3ca51c-a622-46d0-a250-e9123c937362",
   "metadata": {},
   "outputs": [
    {
     "data": {
      "text/plain": [
       "417030451493149511292"
      ]
     },
     "execution_count": 5,
     "metadata": {},
     "output_type": "execute_result"
    }
   ],
   "source": [
    "317741874958 * 1312481874"
   ]
  },
  {
   "cell_type": "code",
   "execution_count": 6,
   "id": "5e1f1d80-bdec-4499-82df-f9775e027f2f",
   "metadata": {},
   "outputs": [
    {
     "data": {
      "text/plain": [
       "417030451505252593340"
      ]
     },
     "execution_count": 6,
     "metadata": {},
     "output_type": "execute_result"
    }
   ],
   "source": [
    "417030451493149511292 + 12103082048"
   ]
  },
  {
   "cell_type": "code",
   "execution_count": 11,
   "id": "b4f80c84-fc72-4019-abb6-154c7d867e06",
   "metadata": {},
   "outputs": [],
   "source": [
    "x = 317741874958\n",
    "y = 1312481874\n",
    "z = 12103082048"
   ]
  },
  {
   "cell_type": "code",
   "execution_count": 12,
   "id": "68458456-659b-49da-ad63-75600b0dfd8c",
   "metadata": {},
   "outputs": [
    {
     "data": {
      "text/plain": [
       "417030451505252593340"
      ]
     },
     "execution_count": 12,
     "metadata": {},
     "output_type": "execute_result"
    }
   ],
   "source": [
    "x * y + z"
   ]
  },
  {
   "cell_type": "code",
   "execution_count": 15,
   "id": "2ccd87f6-0b2d-4d3c-a1a3-68f397c00c5d",
   "metadata": {},
   "outputs": [
    {
     "data": {
      "text/plain": [
       "417030451505252593340"
      ]
     },
     "execution_count": 15,
     "metadata": {},
     "output_type": "execute_result"
    }
   ],
   "source": [
    "x , y, z = 317741874958, 1312481874, 12103082048\n",
    "x * y + z"
   ]
  },
  {
   "cell_type": "code",
   "execution_count": null,
   "id": "ca148233-155a-4d7d-be6e-8f21d0421428",
   "metadata": {},
   "outputs": [],
   "source": []
  },
  {
   "cell_type": "markdown",
   "id": "662a7150-7890-4424-b6c2-3d834c83ce68",
   "metadata": {},
   "source": [
    "#### 1.2 Các kiểu dữ liệu"
   ]
  },
  {
   "cell_type": "code",
   "execution_count": 16,
   "id": "2fb4afa6-7f85-49f9-8580-787dbc70b8b1",
   "metadata": {},
   "outputs": [
    {
     "data": {
      "text/plain": [
       "int"
      ]
     },
     "execution_count": 16,
     "metadata": {},
     "output_type": "execute_result"
    }
   ],
   "source": [
    "type(x)"
   ]
  },
  {
   "cell_type": "markdown",
   "id": "769f4a3f-5702-4818-ac19-5311bd6747c1",
   "metadata": {},
   "source": [
    "|Kiểu dữ liệu|Ý nghĩa|Ví dụ|\n",
    "|-|-|-|\n",
    "|`int`|Kiểu số nguyên (không có chứa dấu chấm thập phân)|`11`, `-15`|\n",
    "|`float`|Kiểu số thực (có chứa dấu chấm thập phân)|`3.14`, `4.02`|\n",
    "|`complex`|Kiểu số phức|`1 + 2j`, `3 - 4j`|\n",
    "|`str`|Kiểu chuỗi|`'MCI'`,`'Python'`|\n",
    "|`bool`|Kiểu luận lý|`TRUE`, `FALSE`|"
   ]
  },
  {
   "cell_type": "markdown",
   "id": "0e316786-a879-4011-aac7-3de6dc08ed29",
   "metadata": {},
   "source": [
    "#### 1.3 Kiểm tra kiểu dữ liệu của biến"
   ]
  },
  {
   "cell_type": "markdown",
   "id": "a65b57a8-4c5d-4768-b715-b839462cc73d",
   "metadata": {},
   "source": [
    "Để kiểm tra kiểu dữ liệu giá trị của một biến đã khởi tạo, ta sử dụng hàm `type()`\n",
    "- Cú pháp: `type(tên_biến)`"
   ]
  },
  {
   "cell_type": "code",
   "execution_count": 18,
   "id": "a82921f8-e047-4d39-8597-e6a40ba4b94c",
   "metadata": {},
   "outputs": [
    {
     "data": {
      "text/plain": [
       "str"
      ]
     },
     "execution_count": 18,
     "metadata": {},
     "output_type": "execute_result"
    }
   ],
   "source": [
    "type ('sdfgsgndg')"
   ]
  },
  {
   "cell_type": "markdown",
   "id": "6bed03de-58bf-4e01-8692-022acf964c30",
   "metadata": {},
   "source": [
    "### 2. Toán tử số học\n",
    "|Phép toán|Biểu thức|Ý nghĩa |\n",
    "|-|-|-|\n",
    "|+|`x + y`|Phép cộng|\n",
    "|-|`x - y`|Phép trừ|\n",
    "|*|`x * y`|Phép nhân|\n",
    "|/|`x / y`|Phép chia|\n",
    "|%|`x % y`|Phép chia lấy phần dư|\n",
    "|//|`x // y`|Phép chia làm tròn xuống|\n",
    "|**|`x ** y`|Phép mũ|"
   ]
  },
  {
   "cell_type": "code",
   "execution_count": 25,
   "id": "a269da62-d520-47ba-a088-1e2c26833dd0",
   "metadata": {},
   "outputs": [],
   "source": [
    "x, y = 12, 14"
   ]
  },
  {
   "cell_type": "code",
   "execution_count": 20,
   "id": "3ba8eaee-9987-4aad-8dc9-fedfed28c9b3",
   "metadata": {},
   "outputs": [
    {
     "data": {
      "text/plain": [
       "26"
      ]
     },
     "execution_count": 20,
     "metadata": {},
     "output_type": "execute_result"
    }
   ],
   "source": [
    "x+y"
   ]
  },
  {
   "cell_type": "code",
   "execution_count": 26,
   "id": "27c74b80-afc5-4598-a814-222f91a2c67b",
   "metadata": {},
   "outputs": [
    {
     "data": {
      "text/plain": [
       "-2"
      ]
     },
     "execution_count": 26,
     "metadata": {},
     "output_type": "execute_result"
    }
   ],
   "source": [
    "x-y"
   ]
  },
  {
   "cell_type": "code",
   "execution_count": 27,
   "id": "e54abff1-fb41-40dd-93d7-4d6340df1009",
   "metadata": {},
   "outputs": [
    {
     "data": {
      "text/plain": [
       "168"
      ]
     },
     "execution_count": 27,
     "metadata": {},
     "output_type": "execute_result"
    }
   ],
   "source": [
    "x*y"
   ]
  },
  {
   "cell_type": "code",
   "execution_count": 28,
   "id": "4088176a-8491-43a1-991b-9ab2cee8ea1c",
   "metadata": {},
   "outputs": [
    {
     "data": {
      "text/plain": [
       "0.8571428571428571"
      ]
     },
     "execution_count": 28,
     "metadata": {},
     "output_type": "execute_result"
    }
   ],
   "source": [
    "x/y"
   ]
  },
  {
   "cell_type": "code",
   "execution_count": 29,
   "id": "07a544f6-95f6-4b30-95c5-884cc1cb266b",
   "metadata": {},
   "outputs": [
    {
     "data": {
      "text/plain": [
       "1283918464548864"
      ]
     },
     "execution_count": 29,
     "metadata": {},
     "output_type": "execute_result"
    }
   ],
   "source": [
    "x**y"
   ]
  },
  {
   "cell_type": "code",
   "execution_count": 31,
   "id": "cfcd08ca-d870-4d4f-a6a6-2386108c2ba2",
   "metadata": {},
   "outputs": [
    {
     "data": {
      "text/plain": [
       "3.4641016151377544"
      ]
     },
     "execution_count": 31,
     "metadata": {},
     "output_type": "execute_result"
    }
   ],
   "source": [
    "x**(1/2) #can bac 2 cua x"
   ]
  },
  {
   "cell_type": "code",
   "execution_count": 41,
   "id": "625a79bd-e9cf-4345-8d99-885eeb5e5286",
   "metadata": {},
   "outputs": [
    {
     "data": {
      "text/plain": [
       "3.4641016151377544"
      ]
     },
     "execution_count": 41,
     "metadata": {},
     "output_type": "execute_result"
    }
   ],
   "source": [
    "import math\n",
    "math.sqrt(x)"
   ]
  },
  {
   "cell_type": "code",
   "execution_count": 38,
   "id": "52651677-9ff7-43ff-b8a6-ac0a3c796ffd",
   "metadata": {},
   "outputs": [
    {
     "data": {
      "text/plain": [
       "3"
      ]
     },
     "execution_count": 38,
     "metadata": {},
     "output_type": "execute_result"
    }
   ],
   "source": [
    "round (3.4641016151377544)"
   ]
  },
  {
   "cell_type": "code",
   "execution_count": 39,
   "id": "d9ee9ccb-e32f-4724-8f18-cca616474429",
   "metadata": {},
   "outputs": [
    {
     "data": {
      "text/plain": [
       "4"
      ]
     },
     "execution_count": 39,
     "metadata": {},
     "output_type": "execute_result"
    }
   ],
   "source": [
    "round (3.6641016151377544)"
   ]
  },
  {
   "cell_type": "code",
   "execution_count": 40,
   "id": "0fe9efcd-e32d-459d-bd50-5a15f3ba8b2c",
   "metadata": {},
   "outputs": [
    {
     "data": {
      "text/plain": [
       "4"
      ]
     },
     "execution_count": 40,
     "metadata": {},
     "output_type": "execute_result"
    }
   ],
   "source": [
    "math.ceil(3.19) #lam tron len"
   ]
  },
  {
   "cell_type": "markdown",
   "id": "ef8e5cc1-45c9-4bd9-bfd1-fa86c5850ba8",
   "metadata": {},
   "source": [
    "### 3. Toán tử luận lý"
   ]
  },
  {
   "cell_type": "code",
   "execution_count": 43,
   "id": "3cbf21f8-b74f-4b5b-a0e4-fb97803b8d39",
   "metadata": {},
   "outputs": [
    {
     "data": {
      "text/plain": [
       "True"
      ]
     },
     "execution_count": 43,
     "metadata": {},
     "output_type": "execute_result"
    }
   ],
   "source": [
    "True and True"
   ]
  },
  {
   "cell_type": "code",
   "execution_count": 44,
   "id": "2516cf02-e334-482c-b99d-d32e38f152e8",
   "metadata": {},
   "outputs": [
    {
     "data": {
      "text/plain": [
       "False"
      ]
     },
     "execution_count": 44,
     "metadata": {},
     "output_type": "execute_result"
    }
   ],
   "source": [
    "True and False"
   ]
  },
  {
   "cell_type": "code",
   "execution_count": 45,
   "id": "d6644e52-d4cb-411f-a6e3-e9f055bc06ef",
   "metadata": {},
   "outputs": [
    {
     "data": {
      "text/plain": [
       "True"
      ]
     },
     "execution_count": 45,
     "metadata": {},
     "output_type": "execute_result"
    }
   ],
   "source": [
    "True or False "
   ]
  },
  {
   "cell_type": "code",
   "execution_count": 46,
   "id": "914089b0-4dc7-4bb6-abaf-94a306a4e2a3",
   "metadata": {},
   "outputs": [
    {
     "data": {
      "text/plain": [
       "False"
      ]
     },
     "execution_count": 46,
     "metadata": {},
     "output_type": "execute_result"
    }
   ],
   "source": [
    "True and (False or True) and False "
   ]
  },
  {
   "cell_type": "markdown",
   "id": "ce03d7aa-afba-47e9-b93f-2e392cd3c01a",
   "metadata": {},
   "source": [
    "### Toán tử luận lí, toán tử điều kiện"
   ]
  },
  {
   "cell_type": "code",
   "execution_count": 47,
   "id": "adf20eac-0f0f-4ec1-99bd-036b1d2b546d",
   "metadata": {},
   "outputs": [
    {
     "data": {
      "text/plain": [
       "False"
      ]
     },
     "execution_count": 47,
     "metadata": {},
     "output_type": "execute_result"
    }
   ],
   "source": [
    "3 > 4"
   ]
  },
  {
   "cell_type": "code",
   "execution_count": 48,
   "id": "d093cd02-8426-49a2-830c-b289566b6674",
   "metadata": {},
   "outputs": [
    {
     "data": {
      "text/plain": [
       "True"
      ]
     },
     "execution_count": 48,
     "metadata": {},
     "output_type": "execute_result"
    }
   ],
   "source": [
    "(3>4) or (4<5)"
   ]
  },
  {
   "cell_type": "markdown",
   "id": "b0ca3550-060e-4f00-8182-5d9fedaa2a81",
   "metadata": {},
   "source": [
    "### 5. Cấu trúc dữ liệu\n"
   ]
  },
  {
   "cell_type": "markdown",
   "id": "81f2b826-b8f1-42a2-bd11-29b1e468154a",
   "metadata": {},
   "source": [
    "#### 5.1 List\n",
    "\n",
    "\n",
    "##### 5.1.0 Khai báo list\n",
    "\n",
    "- Cú pháp: `[value1, value2, ...]`"
   ]
  },
  {
   "cell_type": "code",
   "execution_count": 6,
   "id": "df5a6657-70dd-499a-9522-9859f728a3b2",
   "metadata": {},
   "outputs": [],
   "source": [
    "li = [3, 2.14, \"MCI\", 1+2j]\n",
    "#     0   1     2      3  ==> chiều từ trái qua phải  => index\n",
    "#   -4   -3  -2      -1   ==> chiều từ phải qua trái "
   ]
  },
  {
   "cell_type": "code",
   "execution_count": 7,
   "id": "0fad61f6-f15c-404e-a305-cacc37260e38",
   "metadata": {},
   "outputs": [
    {
     "data": {
      "text/plain": [
       "[3, 2.14, 'MCI', (1+2j)]"
      ]
     },
     "execution_count": 7,
     "metadata": {},
     "output_type": "execute_result"
    }
   ],
   "source": [
    "li"
   ]
  },
  {
   "cell_type": "code",
   "execution_count": 54,
   "id": "4ff2934b-c5c1-47b7-a366-74d61ec61d26",
   "metadata": {},
   "outputs": [
    {
     "data": {
      "text/plain": [
       "3"
      ]
     },
     "execution_count": 54,
     "metadata": {},
     "output_type": "execute_result"
    }
   ],
   "source": [
    "li[0]"
   ]
  },
  {
   "cell_type": "code",
   "execution_count": 55,
   "id": "a21a7c61-1d5c-47ef-b671-0187571ba9c6",
   "metadata": {},
   "outputs": [
    {
     "data": {
      "text/plain": [
       "3"
      ]
     },
     "execution_count": 55,
     "metadata": {},
     "output_type": "execute_result"
    }
   ],
   "source": [
    "li[-4]"
   ]
  },
  {
   "cell_type": "code",
   "execution_count": 56,
   "id": "e4926a5c-aef5-49de-b6ba-a5ffa4e52214",
   "metadata": {},
   "outputs": [
    {
     "data": {
      "text/plain": [
       "'MCI'"
      ]
     },
     "execution_count": 56,
     "metadata": {},
     "output_type": "execute_result"
    }
   ],
   "source": [
    "li[-2]"
   ]
  },
  {
   "cell_type": "code",
   "execution_count": null,
   "id": "f08464cc-f1f8-4fac-be79-486b57a13515",
   "metadata": {},
   "outputs": [
    {
     "data": {
      "text/plain": [
       "[[1, 2, 3], ['HN', 'HCM'], 'ACB']"
      ]
     },
     "execution_count": 61,
     "metadata": {},
     "output_type": "execute_result"
    }
   ],
   "source": [
    "li1= [[1,2,3], ['HN', 'HCM'], 'ACB']\n",
    "li1"
   ]
  },
  {
   "cell_type": "code",
   "execution_count": 65,
   "id": "905a2005-d299-4d3d-90d4-c14ba5b9ad0e",
   "metadata": {},
   "outputs": [
    {
     "data": {
      "text/plain": [
       "list"
      ]
     },
     "execution_count": 65,
     "metadata": {},
     "output_type": "execute_result"
    }
   ],
   "source": [
    "type (li1)"
   ]
  },
  {
   "cell_type": "code",
   "execution_count": 64,
   "id": "f4df9617-dc52-44f0-808d-461d3670acda",
   "metadata": {},
   "outputs": [
    {
     "data": {
      "text/plain": [
       "[1, 2, 3]"
      ]
     },
     "execution_count": 64,
     "metadata": {},
     "output_type": "execute_result"
    }
   ],
   "source": [
    "li1[0]#[1]"
   ]
  },
  {
   "cell_type": "code",
   "execution_count": 8,
   "id": "999e83fe-a3ea-4cf6-93b6-479df460cac0",
   "metadata": {},
   "outputs": [
    {
     "data": {
      "text/plain": [
       "[3, 2.14, 'MCI', (1+2j)]"
      ]
     },
     "execution_count": 8,
     "metadata": {},
     "output_type": "execute_result"
    }
   ],
   "source": [
    "li"
   ]
  },
  {
   "cell_type": "code",
   "execution_count": 9,
   "id": "700edf8a-0c86-4d58-9a48-f8c53c98c6d7",
   "metadata": {},
   "outputs": [
    {
     "data": {
      "text/plain": [
       "[3, 2.14, 'MCI', (1+2j), 10]"
      ]
     },
     "execution_count": 9,
     "metadata": {},
     "output_type": "execute_result"
    }
   ],
   "source": [
    "li.append(10)\n",
    "li"
   ]
  },
  {
   "cell_type": "markdown",
   "id": "068ebd1e-21a1-46c9-843a-d59442293ecf",
   "metadata": {},
   "source": [
    "##### 4.1.2 Các hàm cơ bản với List"
   ]
  },
  {
   "cell_type": "code",
   "execution_count": 10,
   "id": "7973d103-e9f4-4360-b120-5e123d93d2e6",
   "metadata": {},
   "outputs": [
    {
     "data": {
      "text/plain": [
       "list"
      ]
     },
     "execution_count": 10,
     "metadata": {},
     "output_type": "execute_result"
    }
   ],
   "source": [
    "type(li)\n"
   ]
  },
  {
   "cell_type": "markdown",
   "id": "db54e346-4154-426c-97b7-d7e7d521a3b3",
   "metadata": {},
   "source": [
    "|Tên hàm|Ý nghĩa|Trả về giá trị|\n",
    "|-|-|-|\n",
    "|`append()`|Thêm một phần tử vào vị trí cuối cùng trong list|Không|\n",
    "|`clear()`|Xóa sạch các phần tử trong list|Không|\n",
    "|`copy()`|Sao chép toàn bộ list|Có|\n",
    "|`count()`|Đếm số lần một phần tử xuất hiện trong list|Có|\n",
    "|`extend()`|Kết hợp list với một list khác|Không|\n",
    "|`index()`|Trả về vị trí phần tử trong list|Có|\n",
    "|`insert()`|Chèn một phần tử vào list tại vị trí cho trước|Không|\n",
    "|`pop()`|Loại bỏ phần tử ở vị trí index cho trước trong list|Không|\n",
    "|`remove()`|Loại bỏ một phần tử khỏi list|Không|\n",
    "|`reverse()`|Đảo ngược thứ tự các phần tử trong list|Không|\n",
    "|`sort()`|Sắp xếp các phần tử trong list|Không|"
   ]
  },
  {
   "cell_type": "code",
   "execution_count": 11,
   "id": "ab91e629-3e0f-4f3a-b43f-0b0cad906388",
   "metadata": {},
   "outputs": [
    {
     "data": {
      "text/plain": [
       "['__add__',\n",
       " '__class__',\n",
       " '__contains__',\n",
       " '__delattr__',\n",
       " '__delitem__',\n",
       " '__dir__',\n",
       " '__doc__',\n",
       " '__eq__',\n",
       " '__format__',\n",
       " '__ge__',\n",
       " '__getattribute__',\n",
       " '__getitem__',\n",
       " '__gt__',\n",
       " '__hash__',\n",
       " '__iadd__',\n",
       " '__imul__',\n",
       " '__init__',\n",
       " '__init_subclass__',\n",
       " '__iter__',\n",
       " '__le__',\n",
       " '__len__',\n",
       " '__lt__',\n",
       " '__mul__',\n",
       " '__ne__',\n",
       " '__new__',\n",
       " '__reduce__',\n",
       " '__reduce_ex__',\n",
       " '__repr__',\n",
       " '__reversed__',\n",
       " '__rmul__',\n",
       " '__setattr__',\n",
       " '__setitem__',\n",
       " '__sizeof__',\n",
       " '__str__',\n",
       " '__subclasshook__',\n",
       " 'append',\n",
       " 'clear',\n",
       " 'copy',\n",
       " 'count',\n",
       " 'extend',\n",
       " 'index',\n",
       " 'insert',\n",
       " 'pop',\n",
       " 'remove',\n",
       " 'reverse',\n",
       " 'sort']"
      ]
     },
     "execution_count": 11,
     "metadata": {},
     "output_type": "execute_result"
    }
   ],
   "source": [
    "dir(li)"
   ]
  },
  {
   "cell_type": "code",
   "execution_count": 12,
   "id": "f298be72-a3f6-4d4f-8ce6-6a5b8d6076f2",
   "metadata": {},
   "outputs": [
    {
     "data": {
      "text/plain": [
       "['append',\n",
       " 'clear',\n",
       " 'copy',\n",
       " 'count',\n",
       " 'extend',\n",
       " 'index',\n",
       " 'insert',\n",
       " 'pop',\n",
       " 'remove',\n",
       " 'reverse',\n",
       " 'sort']"
      ]
     },
     "execution_count": 12,
     "metadata": {},
     "output_type": "execute_result"
    }
   ],
   "source": [
    "# lập qua tất cả các phần tử bên trong cấu trúc dữ liệu đó\n",
    "# nếu như các phần tử đó không bắt đầu bằng __ thì mình giữ lại\n",
    "[method for method in dir(li) if not method.startswith('_')]"
   ]
  },
  {
   "cell_type": "code",
   "execution_count": 40,
   "id": "fadc4299-01f8-4370-9e8a-a988b752614c",
   "metadata": {},
   "outputs": [],
   "source": [
    "li = [3, 2.14, \"MCI\", 1+2j]"
   ]
  },
  {
   "cell_type": "code",
   "execution_count": 41,
   "id": "1f8eb9e5-e95f-44fa-a1ca-3c2f320c6fd4",
   "metadata": {},
   "outputs": [
    {
     "data": {
      "text/plain": [
       "[3, 2.14, 'MCI', (1+2j)]"
      ]
     },
     "execution_count": 41,
     "metadata": {},
     "output_type": "execute_result"
    }
   ],
   "source": [
    "li1 = li.copy()\n",
    "li1"
   ]
  },
  {
   "cell_type": "code",
   "execution_count": 69,
   "id": "9e4f97de-a3d1-4a75-aa31-9007a0f93269",
   "metadata": {},
   "outputs": [
    {
     "data": {
      "text/plain": [
       "0"
      ]
     },
     "execution_count": 69,
     "metadata": {},
     "output_type": "execute_result"
    }
   ],
   "source": [
    "li2= li.count (10)\n",
    "li2"
   ]
  },
  {
   "cell_type": "code",
   "execution_count": 70,
   "id": "bb8ccdd1-ba31-4e56-b22e-62492e83c895",
   "metadata": {},
   "outputs": [
    {
     "data": {
      "text/plain": [
       "0"
      ]
     },
     "execution_count": 70,
     "metadata": {},
     "output_type": "execute_result"
    }
   ],
   "source": [
    "li3 = li.count (['TPHCM', 0, 1, 1, 0])\n",
    "li3"
   ]
  },
  {
   "cell_type": "code",
   "execution_count": 44,
   "id": "8a9caabe-e645-41e3-8742-a32697c25b7c",
   "metadata": {},
   "outputs": [
    {
     "data": {
      "text/plain": [
       "2"
      ]
     },
     "execution_count": 44,
     "metadata": {},
     "output_type": "execute_result"
    }
   ],
   "source": [
    "li.index(\"MCI\")"
   ]
  },
  {
   "cell_type": "code",
   "execution_count": 52,
   "id": "04756a5f-5441-4a27-ad82-bb451f7cd566",
   "metadata": {},
   "outputs": [
    {
     "data": {
      "text/plain": [
       "[[1, 'a', '122a'], [1, 'a', '122a'], 3, 2.14, 'MCI', [1, 'a', '122a'], (1+2j)]"
      ]
     },
     "execution_count": 52,
     "metadata": {},
     "output_type": "execute_result"
    }
   ],
   "source": [
    "li.insert(-1, [1, 'a', '122a'])\n",
    "li"
   ]
  },
  {
   "cell_type": "code",
   "execution_count": 59,
   "id": "0fd7ae56-6586-451f-b151-6c233aa561e3",
   "metadata": {},
   "outputs": [
    {
     "data": {
      "text/plain": [
       "[[1, 'a', '122a'], 3, 2.14, 'MCI']"
      ]
     },
     "execution_count": 59,
     "metadata": {},
     "output_type": "execute_result"
    }
   ],
   "source": [
    "li.pop(1)\n",
    "li"
   ]
  },
  {
   "cell_type": "code",
   "execution_count": 60,
   "id": "ed2ae1d3-e942-40ac-9a53-23ef046cff54",
   "metadata": {},
   "outputs": [
    {
     "data": {
      "text/plain": [
       "[3, 2.14, 'MCI']"
      ]
     },
     "execution_count": 60,
     "metadata": {},
     "output_type": "execute_result"
    }
   ],
   "source": [
    "li.remove([1, 'a', '122a'])\n",
    "li"
   ]
  },
  {
   "cell_type": "code",
   "execution_count": 61,
   "id": "e8deb37f-76ab-466d-a3a2-dd6e7c2e64c9",
   "metadata": {},
   "outputs": [
    {
     "data": {
      "text/plain": [
       "[3, 2.14, 'MCI', 1, '2a+3b']"
      ]
     },
     "execution_count": 61,
     "metadata": {},
     "output_type": "execute_result"
    }
   ],
   "source": [
    "li.extend([1, '2a+3b'])\n",
    "li"
   ]
  },
  {
   "cell_type": "code",
   "execution_count": 62,
   "id": "a670b36b-d690-451a-b4f6-d010b77e4ed1",
   "metadata": {},
   "outputs": [
    {
     "data": {
      "text/plain": [
       "['2a+3b', 1, 'MCI', 2.14, 3]"
      ]
     },
     "execution_count": 62,
     "metadata": {},
     "output_type": "execute_result"
    }
   ],
   "source": [
    "li.reverse()\n",
    "li"
   ]
  },
  {
   "cell_type": "code",
   "execution_count": 65,
   "id": "cb1440e1-89fa-4eb7-ba2d-fb38e87937c3",
   "metadata": {},
   "outputs": [
    {
     "data": {
      "text/plain": [
       "[]"
      ]
     },
     "execution_count": 65,
     "metadata": {},
     "output_type": "execute_result"
    }
   ],
   "source": [
    "li.clear()\n",
    "li"
   ]
  },
  {
   "cell_type": "code",
   "execution_count": 67,
   "id": "d042105b-9547-4e0b-9910-d5639e99954a",
   "metadata": {},
   "outputs": [
    {
     "data": {
      "text/plain": [
       "['a', 'e', 'f', 'g']"
      ]
     },
     "execution_count": 67,
     "metadata": {},
     "output_type": "execute_result"
    }
   ],
   "source": [
    "li = [ 'g', 'f', 'e', 'a']\n",
    "li.sort()\n",
    "li"
   ]
  },
  {
   "cell_type": "code",
   "execution_count": 68,
   "id": "3b1ad67a-d0b3-4470-9802-6ff8f679d742",
   "metadata": {},
   "outputs": [
    {
     "data": {
      "text/plain": [
       "[-10, -1, 0, 3]"
      ]
     },
     "execution_count": 68,
     "metadata": {},
     "output_type": "execute_result"
    }
   ],
   "source": [
    "li = [0, -1, 3, -10]\n",
    "li.sort()\n",
    "li"
   ]
  },
  {
   "cell_type": "code",
   "execution_count": 72,
   "id": "f673fac3-e027-4c8b-b037-3f99ef9fbaab",
   "metadata": {},
   "outputs": [
    {
     "data": {
      "text/plain": [
       "[-10, -1, 0, 3, ['abc', 'xyz']]"
      ]
     },
     "execution_count": 72,
     "metadata": {},
     "output_type": "execute_result"
    }
   ],
   "source": [
    "li.append(['abc','xyz'])\n",
    "li"
   ]
  },
  {
   "cell_type": "code",
   "execution_count": 74,
   "id": "dcad3f3a-7671-41d1-a7bb-78add85f6029",
   "metadata": {},
   "outputs": [
    {
     "data": {
      "text/plain": [
       "[-10, -1, 0, 3, ['abc', 'xyz'], 'abc', 123]"
      ]
     },
     "execution_count": 74,
     "metadata": {},
     "output_type": "execute_result"
    }
   ],
   "source": [
    "li.extend(['abc',123])\n",
    "li"
   ]
  },
  {
   "cell_type": "markdown",
   "id": "8a5c7f8e-b157-477f-8e92-9f2b64b6b9dc",
   "metadata": {},
   "source": [
    "Đố vui:\n",
    "- Hàm `extend()` và hàm `append()` khác gì nhau?\n",
    "- Hàm `remove()` and `pop()` khác gì nhau?"
   ]
  },
  {
   "cell_type": "markdown",
   "id": "d93f56fb-4980-447a-be61-2adc7cf4e079",
   "metadata": {},
   "source": [
    "extend() thêm phần tử của trong list khác vào cuối list\n",
    "append() thêm 1 phần tử (nếu đó là list thì cũng được xem là 1 phần tử) \n"
   ]
  },
  {
   "cell_type": "markdown",
   "id": "34a9f455-2ecb-4499-8513-8c1ca157eba7",
   "metadata": {},
   "source": [
    "pop() xóa theo index\n",
    "remove () xóa theo giá trị có trong list"
   ]
  },
  {
   "cell_type": "markdown",
   "id": "8ab380fb-d22d-4d13-9281-1a81ee9d7842",
   "metadata": {},
   "source": [
    "#### 4.2 Tuple\n",
    "\n",
    "##### 4.2.0 Khai báo tuple\n",
    "\n",
    "- Cú pháp: `(value1, value2, ...)`"
   ]
  },
  {
   "cell_type": "code",
   "execution_count": null,
   "id": "97e62bcc-20dd-4bb0-885d-55d5069f286e",
   "metadata": {},
   "outputs": [],
   "source": []
  },
  {
   "cell_type": "markdown",
   "id": "a600e0ad-0d7f-4363-a34f-0bd579e2d690",
   "metadata": {},
   "source": [
    "##### 4.2.1 Các hàm cơ bản trong tuple\n",
    "\n",
    "|Tên hàm|Ý nghĩa|Trả về giá trị|\n",
    "|-|-|-|\n",
    "|`count()`|Đếm số lần một phần tử xuất hiện trong tuple|Có|\n",
    "|`index()`|Trả về vị trí phần tử trong tuple|Có|"
   ]
  },
  {
   "cell_type": "code",
   "execution_count": 75,
   "id": "9436aceb-5d1c-44e5-b174-ea03ff44e4c0",
   "metadata": {},
   "outputs": [],
   "source": [
    "tup = ( 1, 5, 'abc', 'TPHCM')"
   ]
  },
  {
   "cell_type": "code",
   "execution_count": 76,
   "id": "36b442b2-3c22-449d-9154-9e0875eef97f",
   "metadata": {},
   "outputs": [
    {
     "data": {
      "text/plain": [
       "tuple"
      ]
     },
     "execution_count": 76,
     "metadata": {},
     "output_type": "execute_result"
    }
   ],
   "source": [
    "type (tup)"
   ]
  },
  {
   "cell_type": "code",
   "execution_count": 77,
   "id": "46b2cabc-57e8-4b5d-8b42-a8573ff215f6",
   "metadata": {},
   "outputs": [
    {
     "data": {
      "text/plain": [
       "['__add__',\n",
       " '__class__',\n",
       " '__contains__',\n",
       " '__delattr__',\n",
       " '__dir__',\n",
       " '__doc__',\n",
       " '__eq__',\n",
       " '__format__',\n",
       " '__ge__',\n",
       " '__getattribute__',\n",
       " '__getitem__',\n",
       " '__getnewargs__',\n",
       " '__gt__',\n",
       " '__hash__',\n",
       " '__init__',\n",
       " '__init_subclass__',\n",
       " '__iter__',\n",
       " '__le__',\n",
       " '__len__',\n",
       " '__lt__',\n",
       " '__mul__',\n",
       " '__ne__',\n",
       " '__new__',\n",
       " '__reduce__',\n",
       " '__reduce_ex__',\n",
       " '__repr__',\n",
       " '__rmul__',\n",
       " '__setattr__',\n",
       " '__sizeof__',\n",
       " '__str__',\n",
       " '__subclasshook__',\n",
       " 'count',\n",
       " 'index']"
      ]
     },
     "execution_count": 77,
     "metadata": {},
     "output_type": "execute_result"
    }
   ],
   "source": [
    "dir(tup)"
   ]
  },
  {
   "cell_type": "code",
   "execution_count": 78,
   "id": "9572e8db-3151-417f-9615-50858dbf9fbf",
   "metadata": {},
   "outputs": [
    {
     "data": {
      "text/plain": [
       "['count', 'index']"
      ]
     },
     "execution_count": 78,
     "metadata": {},
     "output_type": "execute_result"
    }
   ],
   "source": [
    "[method for method in dir(tup) if not method.startswith('_')]"
   ]
  },
  {
   "cell_type": "code",
   "execution_count": 93,
   "id": "ffa92256-c9b2-4c26-9558-dda1596759fa",
   "metadata": {},
   "outputs": [
    {
     "data": {
      "text/plain": [
       "2"
      ]
     },
     "execution_count": 93,
     "metadata": {},
     "output_type": "execute_result"
    }
   ],
   "source": [
    "tup = (1,-10,1,'abc',3.14,1,1,1,1, 3.14 )\n",
    "tup.count(3.14)"
   ]
  },
  {
   "cell_type": "code",
   "execution_count": 94,
   "id": "787b16e8-3d7b-48dd-b46d-3f994a6f9912",
   "metadata": {},
   "outputs": [
    {
     "data": {
      "text/plain": [
       "3"
      ]
     },
     "execution_count": 94,
     "metadata": {},
     "output_type": "execute_result"
    }
   ],
   "source": [
    "tup.index('abc')"
   ]
  },
  {
   "cell_type": "markdown",
   "id": "9ac494df-c373-4fbd-be0d-1fae08116c94",
   "metadata": {},
   "source": [
    "#### 4.3 Set\n",
    "\n",
    "\n",
    "##### 4.3.0 Khai báo set\n",
    "\n",
    "- Cú pháp: `{value1, value2, ...}`\n"
   ]
  },
  {
   "cell_type": "code",
   "execution_count": 96,
   "id": "e7bc2fbf-3155-4e8c-bed3-95942f3cf6a6",
   "metadata": {},
   "outputs": [
    {
     "data": {
      "text/plain": [
       "{-10, 1, 3.14, 'abc'}"
      ]
     },
     "execution_count": 96,
     "metadata": {},
     "output_type": "execute_result"
    }
   ],
   "source": [
    "sett = {1,-10,1,'abc',3.14,1,1,1,1, 3.14}\n",
    "sett"
   ]
  },
  {
   "cell_type": "code",
   "execution_count": 97,
   "id": "cc2264bc-bbcb-4ea0-9ee8-4c6190e96f30",
   "metadata": {},
   "outputs": [
    {
     "data": {
      "text/plain": [
       "set"
      ]
     },
     "execution_count": 97,
     "metadata": {},
     "output_type": "execute_result"
    }
   ],
   "source": [
    "type(sett)"
   ]
  },
  {
   "cell_type": "markdown",
   "id": "9f21eede-0912-4c83-a061-60b0fe305e26",
   "metadata": {},
   "source": [
    "##### 4.3.1 Các hàm cơ bản trong set\n",
    "\n",
    "|Tên hàm|Ý nghĩa|Trả về giá trị|\n",
    "|-|-|-|\n",
    "|`add()`|Thêm một phần tử vào vị trí cuối cùng trong set|Không|\n",
    "|`clear()`|Xóa sạch các phần tử trong set|Không|\n",
    "|`copy()`|Sao chép toàn bộ set|Có|\n",
    "|`A.difference(B)`|Phép trừ sẽ trả về một tập hợp các giá trị chỉ có ở set A hoặc set B|Có|\n",
    "|`A.difference_update(B)`|Xóa các thành phần tồn tại trong cả hai bộ của set A|Không|\n",
    "|`discard()`|Xoá phần tử trong set|Có|\n",
    "|`A.intersection(B)`|Phép giao giữa 2 set|Có|\n",
    "|`A.intersection_update(B)`|Loại bỏ các thành phần không có trong cả 2 set|Không|\n",
    "|`A.isdisjoint(B)`|Trả về True nếu 2 set là tập hợp rời rạc|Có|\n",
    "|`A.issubset(B)`|Trả về True nếu tất cả các item của set A đều có trong set B, False nếu ngược lại|Có|\n",
    "|`A.issuperset(B)`|Trả về True nếu tất cả các item của set B đều có trong set A, False nếu ngược lại|Có|\n",
    "|`pop()`|Loại bỏ phần tử ở vị trí index cho trước|Không|\n",
    "|`remove()`|Loại bỏ một phần tử |Không|\n",
    "|`A.symmetric_difference(B)`|Phép đối xứng trả về tập hợp những giá trị có trong set A không có trong set B và ngược lại|Có|\n",
    "|`A.symmetric_difference_update(B)`|Xóa các thành phần có trong cả hai nhóm và chèn các mục không có trong cả hai nhóm|Có|\n",
    "|`A.union(B)`|Phép hợp của 2 set|Có|\n",
    "|`update()`|Thêm phần tử|Không|\n",
    "\n",
    "\n",
    "Để có thể nắm được ý nghĩa của các hàm trong set hay bất kì cấu trúc dữ liệu nào, ta có thể tận dụng `docstring` hoặc `help()`.\n"
   ]
  },
  {
   "cell_type": "code",
   "execution_count": 98,
   "id": "847121a1-b994-4ae2-9e5f-250fdb8cf258",
   "metadata": {},
   "outputs": [
    {
     "data": {
      "text/plain": [
       "['__and__',\n",
       " '__class__',\n",
       " '__contains__',\n",
       " '__delattr__',\n",
       " '__dir__',\n",
       " '__doc__',\n",
       " '__eq__',\n",
       " '__format__',\n",
       " '__ge__',\n",
       " '__getattribute__',\n",
       " '__gt__',\n",
       " '__hash__',\n",
       " '__iand__',\n",
       " '__init__',\n",
       " '__init_subclass__',\n",
       " '__ior__',\n",
       " '__isub__',\n",
       " '__iter__',\n",
       " '__ixor__',\n",
       " '__le__',\n",
       " '__len__',\n",
       " '__lt__',\n",
       " '__ne__',\n",
       " '__new__',\n",
       " '__or__',\n",
       " '__rand__',\n",
       " '__reduce__',\n",
       " '__reduce_ex__',\n",
       " '__repr__',\n",
       " '__ror__',\n",
       " '__rsub__',\n",
       " '__rxor__',\n",
       " '__setattr__',\n",
       " '__sizeof__',\n",
       " '__str__',\n",
       " '__sub__',\n",
       " '__subclasshook__',\n",
       " '__xor__',\n",
       " 'add',\n",
       " 'clear',\n",
       " 'copy',\n",
       " 'difference',\n",
       " 'difference_update',\n",
       " 'discard',\n",
       " 'intersection',\n",
       " 'intersection_update',\n",
       " 'isdisjoint',\n",
       " 'issubset',\n",
       " 'issuperset',\n",
       " 'pop',\n",
       " 'remove',\n",
       " 'symmetric_difference',\n",
       " 'symmetric_difference_update',\n",
       " 'union',\n",
       " 'update']"
      ]
     },
     "execution_count": 98,
     "metadata": {},
     "output_type": "execute_result"
    }
   ],
   "source": [
    "dir(sett)"
   ]
  },
  {
   "cell_type": "code",
   "execution_count": 104,
   "id": "ae875c47-3eb9-4a93-b7d4-e58614098b02",
   "metadata": {},
   "outputs": [
    {
     "data": {
      "text/plain": [
       "['add',\n",
       " 'clear',\n",
       " 'copy',\n",
       " 'difference',\n",
       " 'difference_update',\n",
       " 'discard',\n",
       " 'intersection',\n",
       " 'intersection_update',\n",
       " 'isdisjoint',\n",
       " 'issubset',\n",
       " 'issuperset',\n",
       " 'pop',\n",
       " 'remove',\n",
       " 'symmetric_difference',\n",
       " 'symmetric_difference_update',\n",
       " 'union',\n",
       " 'update']"
      ]
     },
     "execution_count": 104,
     "metadata": {},
     "output_type": "execute_result"
    }
   ],
   "source": [
    "[method for method in dir(sett) if not method.startswith('_')]"
   ]
  },
  {
   "cell_type": "code",
   "execution_count": 105,
   "id": "893c66f4-08a8-43e6-9863-69d7a19cf106",
   "metadata": {},
   "outputs": [
    {
     "data": {
      "text/plain": [
       "{-10, 1, 3.14, 'MCI', 'abc'}"
      ]
     },
     "execution_count": 105,
     "metadata": {},
     "output_type": "execute_result"
    }
   ],
   "source": [
    "sett.add(\"MCI\")\n",
    "sett"
   ]
  },
  {
   "cell_type": "code",
   "execution_count": null,
   "id": "13bd7c86-291a-4d2e-9bb9-229a25943d36",
   "metadata": {},
   "outputs": [],
   "source": [
    "sett.clear()"
   ]
  },
  {
   "cell_type": "code",
   "execution_count": 107,
   "id": "737eb962-a7f1-43a6-bca8-5f96739831c4",
   "metadata": {},
   "outputs": [
    {
     "data": {
      "text/plain": [
       "{-10, 1, 3.14, 'MCI', 'abc'}"
      ]
     },
     "execution_count": 107,
     "metadata": {},
     "output_type": "execute_result"
    }
   ],
   "source": [
    "set1= sett.copy()\n",
    "set1"
   ]
  },
  {
   "cell_type": "code",
   "execution_count": 112,
   "id": "68c06f00-7abe-4dcd-ac53-3b9becab81f5",
   "metadata": {},
   "outputs": [
    {
     "data": {
      "text/plain": [
       "{-1, 2}"
      ]
     },
     "execution_count": 112,
     "metadata": {},
     "output_type": "execute_result"
    }
   ],
   "source": [
    "s1={1,2,5,-1}\n",
    "s2={1,5,3,-2}\n",
    "s1.difference(s2)"
   ]
  },
  {
   "cell_type": "code",
   "execution_count": 113,
   "id": "34c46c86-116a-497a-b91a-863a0942285c",
   "metadata": {},
   "outputs": [
    {
     "data": {
      "text/plain": [
       "{-2, 3}"
      ]
     },
     "execution_count": 113,
     "metadata": {},
     "output_type": "execute_result"
    }
   ],
   "source": [
    "s2.difference(s1)"
   ]
  },
  {
   "cell_type": "code",
   "execution_count": 117,
   "id": "8f96a2bd-04e5-48a3-a2c2-fede45e6a159",
   "metadata": {},
   "outputs": [
    {
     "data": {
      "text/plain": [
       "({-1, 2}, {-2, 1, 3, 5})"
      ]
     },
     "execution_count": 117,
     "metadata": {},
     "output_type": "execute_result"
    }
   ],
   "source": [
    "s1.difference_update(s2)\n",
    "s1, s2"
   ]
  },
  {
   "cell_type": "code",
   "execution_count": 122,
   "id": "c56f26f6-86fc-402f-8e90-1beb046e288b",
   "metadata": {},
   "outputs": [
    {
     "data": {
      "text/plain": [
       "({-1, 2}, {-2, 1, 3, 5})"
      ]
     },
     "execution_count": 122,
     "metadata": {},
     "output_type": "execute_result"
    }
   ],
   "source": [
    "s1.discard(s2)\n",
    "s1, s2"
   ]
  },
  {
   "cell_type": "code",
   "execution_count": 125,
   "id": "b2c72716-b500-4df9-ae36-3c923cdb0895",
   "metadata": {},
   "outputs": [
    {
     "data": {
      "text/plain": [
       "{1, 5}"
      ]
     },
     "execution_count": 125,
     "metadata": {},
     "output_type": "execute_result"
    }
   ],
   "source": [
    "s1={1,2,5,-1}\n",
    "s2={1,5,3,-2}\n",
    "s1.intersection(s2)"
   ]
  },
  {
   "cell_type": "code",
   "execution_count": 127,
   "id": "2f4f0ecb-7a73-45c5-9d46-bc7ee2d42d04",
   "metadata": {},
   "outputs": [
    {
     "data": {
      "text/plain": [
       "({1, 5}, {-2, 1, 3, 5})"
      ]
     },
     "execution_count": 127,
     "metadata": {},
     "output_type": "execute_result"
    }
   ],
   "source": [
    "s1.intersection_update(s2) # Trả về phần tử giống nhau giữa s1 giao s2\n",
    "s1,s2"
   ]
  },
  {
   "cell_type": "code",
   "execution_count": 130,
   "id": "f7494e8f-3b80-4a98-b3d8-6b7ed789d646",
   "metadata": {},
   "outputs": [
    {
     "data": {
      "text/plain": [
       "False"
      ]
     },
     "execution_count": 130,
     "metadata": {},
     "output_type": "execute_result"
    }
   ],
   "source": [
    "s1={-2,1}\n",
    "s2={3,-2,1}\n",
    "s1.isdisjoint(s2) # Nếu S1 giao S2 bằng rỗng là true (s1 khác s2)"
   ]
  },
  {
   "cell_type": "code",
   "execution_count": 139,
   "id": "0813d39a-a168-43e1-b970-4c41f07b9dd9",
   "metadata": {},
   "outputs": [
    {
     "data": {
      "text/plain": [
       "True"
      ]
     },
     "execution_count": 139,
     "metadata": {},
     "output_type": "execute_result"
    }
   ],
   "source": [
    "s1={-2,1}\n",
    "s2={3,-2,1}\n",
    "s1.issubset(s2)  #Nếu S1 là con của S2 thì issubset, ngược lại"
   ]
  },
  {
   "cell_type": "code",
   "execution_count": 147,
   "id": "15ecb8bb-3d31-4e44-b7a8-9de7cc72567e",
   "metadata": {},
   "outputs": [
    {
     "data": {
      "text/plain": [
       "({-2, 1}, {-2, 1, 3}, True)"
      ]
     },
     "execution_count": 147,
     "metadata": {},
     "output_type": "execute_result"
    }
   ],
   "source": [
    "s1={-2,1}\n",
    "s2={3,-2,1}\n",
    "s3=s2.issuperset(s1) #S2 là tập hợp cha của s1 là True, và ngược lại\n",
    "s1,s2,s3"
   ]
  },
  {
   "cell_type": "code",
   "execution_count": 146,
   "id": "14b77213-17a6-4fe2-bcbe-fd9bef758856",
   "metadata": {},
   "outputs": [
    {
     "data": {
      "text/plain": [
       "({-2, 1, 5, 7}, {-2, 1, 3}, {3, 5, 7})"
      ]
     },
     "execution_count": 146,
     "metadata": {},
     "output_type": "execute_result"
    }
   ],
   "source": [
    "s1={-2,1,5,7}\n",
    "s2={3,-2,1}\n",
    "s3= s2.symmetric_difference(s1) #trả về giá trị không giao nhau giữa s1,s2\n",
    "s1, s2, s3"
   ]
  },
  {
   "cell_type": "code",
   "execution_count": 151,
   "id": "8020b316-5656-4fec-a2a7-84c681b02985",
   "metadata": {},
   "outputs": [
    {
     "data": {
      "text/plain": [
       "({3, 5, 7}, {-2, 1, 3})"
      ]
     },
     "execution_count": 151,
     "metadata": {},
     "output_type": "execute_result"
    }
   ],
   "source": [
    "s1={-2,1,5,7}\n",
    "s2={3,-2,1}\n",
    "s1.symmetric_difference_update(s2) #xóa các phần tử chung giao nhau giữa 2 tập hợp, gom phần tử riêng giữa 2 nhóm thành tập hợp s1, s2 giữ nguyên\n",
    "s1,s2"
   ]
  },
  {
   "cell_type": "code",
   "execution_count": 152,
   "id": "6ecad645-ebe2-4b73-a234-ccf9f05d6a9f",
   "metadata": {},
   "outputs": [
    {
     "data": {
      "text/plain": [
       "({-2, 1, 5, 7}, {-2, 1, 3}, {-2, 1, 3, 5, 7})"
      ]
     },
     "execution_count": 152,
     "metadata": {},
     "output_type": "execute_result"
    }
   ],
   "source": [
    "s1={-2,1,5,7}\n",
    "s2={3,-2,1}\n",
    "s3=s1.union(s2) #s1+s2 loại bỏ phần tử giống nhau\n",
    "s1,s2,s3"
   ]
  },
  {
   "cell_type": "code",
   "execution_count": 155,
   "id": "9a731dcd-6420-4007-ba2f-aaf299aeac60",
   "metadata": {},
   "outputs": [
    {
     "data": {
      "text/plain": [
       "({-2, 1, 3, 5, 7}, {-2, 1, 3})"
      ]
     },
     "execution_count": 155,
     "metadata": {},
     "output_type": "execute_result"
    }
   ],
   "source": [
    "s1={-2,1,5,7}\n",
    "s2={3,-2,1}\n",
    "s1.update(s2) #update thêm phần tử có trong s2, không có trong s1 vào tập hợp s1\n",
    "s1,s2"
   ]
  },
  {
   "cell_type": "code",
   "execution_count": 164,
   "id": "9e553231-66d6-4200-9c4a-e994908b0b82",
   "metadata": {},
   "outputs": [
    {
     "data": {
      "text/plain": [
       "{-2, 5, 7}"
      ]
     },
     "execution_count": 164,
     "metadata": {},
     "output_type": "execute_result"
    }
   ],
   "source": [
    "s1={-2,1,5,7}\n",
    "s2={3,-2,1}\n",
    "s1.pop()\n",
    "s1"
   ]
  },
  {
   "cell_type": "code",
   "execution_count": 170,
   "id": "bacf844f-bcff-45b8-be38-7192bab420b1",
   "metadata": {},
   "outputs": [
    {
     "data": {
      "text/plain": [
       "({-2, 1, 7}, {-2, 3})"
      ]
     },
     "execution_count": 170,
     "metadata": {},
     "output_type": "execute_result"
    }
   ],
   "source": [
    "s1={-2,1,5,7}\n",
    "s2={3,-2,1}\n",
    "s1.remove(5)\n",
    "s2.remove(1)\n",
    "s1,s2"
   ]
  },
  {
   "cell_type": "markdown",
   "id": "886e7fd7-1008-438a-8711-bb9574e8dec4",
   "metadata": {},
   "source": [
    "#### 4.4 Dictionary\n",
    "\n",
    "##### 4.4.0 Khai báo dictionary\n",
    "\n",
    "Để khai báo một dictionary chúng ta dùng cặp dấu `{}` theo cú pháp sau:\n",
    "- Cú pháp: `{key1:value1, key2:value2,...}`\n"
   ]
  },
  {
   "cell_type": "code",
   "execution_count": null,
   "id": "7ed62ad9-a41d-4416-a920-82605b020f1f",
   "metadata": {},
   "outputs": [],
   "source": []
  },
  {
   "cell_type": "markdown",
   "id": "dcbe179c-9446-4886-ac32-1d62d82b844d",
   "metadata": {},
   "source": [
    "##### 4.4.1 Truy xuất các phần tử trong dictionary"
   ]
  },
  {
   "cell_type": "code",
   "execution_count": 205,
   "id": "3efea3e2-cdbc-4320-842e-83217452c86f",
   "metadata": {},
   "outputs": [],
   "source": [
    "di={'a': 'python', 'b':'java', 'c':'abc'}"
   ]
  },
  {
   "cell_type": "code",
   "execution_count": 176,
   "id": "e16628fe-ddb7-49de-aaf2-0b10329ccf02",
   "metadata": {},
   "outputs": [
    {
     "data": {
      "text/plain": [
       "dict"
      ]
     },
     "execution_count": 176,
     "metadata": {},
     "output_type": "execute_result"
    }
   ],
   "source": [
    "type(di)"
   ]
  },
  {
   "cell_type": "markdown",
   "id": "630a82c4-9ee8-41b0-8ab8-d1005916b108",
   "metadata": {},
   "source": [
    "##### 4.3.3 Các hàm cơ bản trong dictionary\n",
    "\n",
    "|Tên hàm|Ý nghĩa|Trả về giá trị|\n",
    "|-|-|-|\n",
    "|`clear()`|Xóa sạch các phần tử|Không|\n",
    "|`copy()`|Sao chép các phần tử|Có|\n",
    "|`fromkeys()`|Tạo ra một dictionary với các khóa và giá trị được chỉ định|Có|\n",
    "|`get()`|Trả về giá trị của khóa được chỉ định|Có|\n",
    "|`items()`| Trả về danh sách chứa bộ giá trị cho mỗi cặp giá trị khóa|Có|\n",
    "|`keys()`|Trả về danh sách chứa các key của dictionary|Có|\n",
    "|`pop()`|Loại bỏ phần tử có key được chỉ định|Không|\n",
    "|`popitem()`|Xóa cặp key-value được chèn cuối cùng|Không|\n",
    "|`setdefault()`|Trả về giá trị của key được chỉ định. Nếu key không tồn tại: hãy chèn key, với giá trị được chỉ định|Không|\n",
    "|`update()`|Cập nhật dictionary với các cặp key-value được chỉ định|Không|\n",
    "|`values()`| Trả về danh sách tất cả các value trong từ điển |Có|"
   ]
  },
  {
   "cell_type": "code",
   "execution_count": 177,
   "id": "d3ca58f5-1676-47be-9538-db291d97985c",
   "metadata": {},
   "outputs": [
    {
     "data": {
      "text/plain": [
       "['__class__',\n",
       " '__contains__',\n",
       " '__delattr__',\n",
       " '__delitem__',\n",
       " '__dir__',\n",
       " '__doc__',\n",
       " '__eq__',\n",
       " '__format__',\n",
       " '__ge__',\n",
       " '__getattribute__',\n",
       " '__getitem__',\n",
       " '__gt__',\n",
       " '__hash__',\n",
       " '__init__',\n",
       " '__init_subclass__',\n",
       " '__iter__',\n",
       " '__le__',\n",
       " '__len__',\n",
       " '__lt__',\n",
       " '__ne__',\n",
       " '__new__',\n",
       " '__reduce__',\n",
       " '__reduce_ex__',\n",
       " '__repr__',\n",
       " '__setattr__',\n",
       " '__setitem__',\n",
       " '__sizeof__',\n",
       " '__str__',\n",
       " '__subclasshook__',\n",
       " 'clear',\n",
       " 'copy',\n",
       " 'fromkeys',\n",
       " 'get',\n",
       " 'items',\n",
       " 'keys',\n",
       " 'pop',\n",
       " 'popitem',\n",
       " 'setdefault',\n",
       " 'update',\n",
       " 'values']"
      ]
     },
     "execution_count": 177,
     "metadata": {},
     "output_type": "execute_result"
    }
   ],
   "source": [
    "dir(di)"
   ]
  },
  {
   "cell_type": "code",
   "execution_count": 179,
   "id": "c645707f-fc9b-47ec-801a-5d872697bdbe",
   "metadata": {},
   "outputs": [
    {
     "data": {
      "text/plain": [
       "['clear',\n",
       " 'copy',\n",
       " 'fromkeys',\n",
       " 'get',\n",
       " 'items',\n",
       " 'keys',\n",
       " 'pop',\n",
       " 'popitem',\n",
       " 'setdefault',\n",
       " 'update',\n",
       " 'values']"
      ]
     },
     "execution_count": 179,
     "metadata": {},
     "output_type": "execute_result"
    }
   ],
   "source": [
    "[method for method in dir(di) if not method.startswith('_')]"
   ]
  },
  {
   "cell_type": "code",
   "execution_count": 180,
   "id": "0fc84fa7-96ec-4b11-a71f-f53103377860",
   "metadata": {},
   "outputs": [
    {
     "data": {
      "text/plain": [
       "{'a': 'python', 'b': 'java', 'c': 'abc'}"
      ]
     },
     "execution_count": 180,
     "metadata": {},
     "output_type": "execute_result"
    }
   ],
   "source": [
    "di1=di.copy()\n",
    "di1"
   ]
  },
  {
   "cell_type": "code",
   "execution_count": 183,
   "id": "3dda89ee-d9b1-41ff-b82b-9177b1de4e78",
   "metadata": {},
   "outputs": [
    {
     "data": {
      "text/plain": [
       "{'key1': 1, 'key2': 1, 'key3': 1}"
      ]
     },
     "execution_count": 183,
     "metadata": {},
     "output_type": "execute_result"
    }
   ],
   "source": [
    "x= 'key1', 'key2', 'key3'\n",
    "y= 1\n",
    "di.fromkeys(x,y)"
   ]
  },
  {
   "cell_type": "code",
   "execution_count": 188,
   "id": "48646ac7-edd4-49b4-ac7f-8795da1d6251",
   "metadata": {},
   "outputs": [
    {
     "data": {
      "text/plain": [
       "'python'"
      ]
     },
     "execution_count": 188,
     "metadata": {},
     "output_type": "execute_result"
    }
   ],
   "source": [
    "di.get('a')"
   ]
  },
  {
   "cell_type": "code",
   "execution_count": 191,
   "id": "1eed96ee-3683-4a96-8a17-fd69803cffdf",
   "metadata": {},
   "outputs": [
    {
     "data": {
      "text/plain": [
       "dict_items([('a', 'python'), ('b', 'java'), ('c', 'abc')])"
      ]
     },
     "execution_count": 191,
     "metadata": {},
     "output_type": "execute_result"
    }
   ],
   "source": [
    "d1=di.items()\n",
    "d1"
   ]
  },
  {
   "cell_type": "code",
   "execution_count": 192,
   "id": "a14b4ca4-0d28-4a87-ba66-20d66bf11246",
   "metadata": {},
   "outputs": [
    {
     "data": {
      "text/plain": [
       "dict_keys(['a', 'b', 'c'])"
      ]
     },
     "execution_count": 192,
     "metadata": {},
     "output_type": "execute_result"
    }
   ],
   "source": [
    "di.keys()"
   ]
  },
  {
   "cell_type": "code",
   "execution_count": 196,
   "id": "8ae0c0da-21ba-4bf1-9579-a98fc222490d",
   "metadata": {},
   "outputs": [
    {
     "data": {
      "text/plain": [
       "'python'"
      ]
     },
     "execution_count": 196,
     "metadata": {},
     "output_type": "execute_result"
    }
   ],
   "source": [
    "di={'a': 'python', 'b':'java', 'c':'abc'}\n",
    "di.pop('a')"
   ]
  },
  {
   "cell_type": "code",
   "execution_count": 197,
   "id": "6e2cec8e-e7af-4093-b9a9-40264ab63967",
   "metadata": {},
   "outputs": [
    {
     "data": {
      "text/plain": [
       "('c', 'abc')"
      ]
     },
     "execution_count": 197,
     "metadata": {},
     "output_type": "execute_result"
    }
   ],
   "source": [
    "di.popitem() #xóa item cuối cùng"
   ]
  },
  {
   "cell_type": "code",
   "execution_count": 200,
   "id": "ffb0576e-504e-4729-a816-c81ae8a9c312",
   "metadata": {},
   "outputs": [
    {
     "data": {
      "text/plain": [
       "'python'"
      ]
     },
     "execution_count": 200,
     "metadata": {},
     "output_type": "execute_result"
    }
   ],
   "source": [
    "di={'a': 'python', 'b':'java', 'c':'abc'}\n",
    "di.setdefault('a')"
   ]
  },
  {
   "cell_type": "code",
   "execution_count": 202,
   "id": "b51625d2-a3ec-46ec-9c90-c1547f8fd8a9",
   "metadata": {},
   "outputs": [
    {
     "data": {
      "text/plain": [
       "{'a': 'python', 'b': 'java', 'c': 'abc', 'd': 'C++'}"
      ]
     },
     "execution_count": 202,
     "metadata": {},
     "output_type": "execute_result"
    }
   ],
   "source": [
    "di.update({'d': 'C++'})\n",
    "di"
   ]
  },
  {
   "cell_type": "code",
   "execution_count": 204,
   "id": "527039dd-b4d3-4e6a-a64a-53c16328be86",
   "metadata": {},
   "outputs": [
    {
     "data": {
      "text/plain": [
       "dict_values(['python', 'java', 'abc', 'C++'])"
      ]
     },
     "execution_count": 204,
     "metadata": {},
     "output_type": "execute_result"
    }
   ],
   "source": [
    "di.values() "
   ]
  },
  {
   "cell_type": "code",
   "execution_count": null,
   "id": "4b9cba2e-d68f-40db-826e-fcc0673640e0",
   "metadata": {},
   "outputs": [],
   "source": []
  },
  {
   "cell_type": "markdown",
   "id": "33659433-089e-4dd5-8509-5ac0806bc9ae",
   "metadata": {},
   "source": [
    "Ở bài tiếp theo, chúng ta sẽ tìm hiểu về vòng lặp, câu điều kiện, cũng như cách viết 1 hàm trong Python."
   ]
  },
  {
   "cell_type": "code",
   "execution_count": null,
   "id": "3b604f33-08ab-4ceb-87e6-0eed0b16bde3",
   "metadata": {},
   "outputs": [],
   "source": []
  }
 ],
 "metadata": {
  "kernelspec": {
   "display_name": "Python 3",
   "language": "python",
   "name": "python3"
  },
  "language_info": {
   "codemirror_mode": {
    "name": "ipython",
    "version": 3
   },
   "file_extension": ".py",
   "mimetype": "text/x-python",
   "name": "python",
   "nbconvert_exporter": "python",
   "pygments_lexer": "ipython3",
   "version": "3.7.11"
  }
 },
 "nbformat": 4,
 "nbformat_minor": 5
}
