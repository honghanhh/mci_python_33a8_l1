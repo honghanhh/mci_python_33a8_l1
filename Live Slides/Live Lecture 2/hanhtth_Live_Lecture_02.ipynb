{
 "cells": [
  {
   "cell_type": "markdown",
   "id": "c1d182e6-3239-4517-86b7-c2bce677319d",
   "metadata": {},
   "source": [
    "# <center> Bài 2: Giới thiệu về PYTHON </center>\n",
    "![](https://laptrinhcanban.com/python/nhap-mon-lap-trinh-python/gioi-thieu-python/python-la-gi/Python.jpg)"
   ]
  },
  {
   "cell_type": "markdown",
   "id": "94b15aae-5abd-4c3e-9356-76c6288d07de",
   "metadata": {},
   "source": [
    "## I. GIỚI THIỆU\n",
    "\n",
    "![Độ phổ biến của 1 số ngôn ngữ lập trình được sử dụng trên các kho lưu trữ trên GitHub.](./img/python.png)\n",
    "> *Độ phổ biến của 1 số ngôn ngữ lập trình được sử dụng trên các kho lưu trữ trên GitHub tính đến tháng 4/2014 theo [Githut](https://githut.info/).*"
   ]
  },
  {
   "cell_type": "markdown",
   "id": "fc5c6b0a-dd30-4a67-b3a0-41ca10ce5d6c",
   "metadata": {},
   "source": [
    "Chương trình đầu tiên `print('Hello, world')`."
   ]
  },
  {
   "cell_type": "code",
   "execution_count": 2,
   "id": "0cb31b69-b04e-4fa2-aac1-e98b56f5a2bd",
   "metadata": {},
   "outputs": [
    {
     "name": "stdout",
     "output_type": "stream",
     "text": [
      "Hello, world\n",
      "Hello, world\n"
     ]
    }
   ],
   "source": [
    "# built-in function vs user-defined function\n",
    "print('Hello, world') #ten_ham() -> keyword \n",
    "print(\"Hello, world\")"
   ]
  },
  {
   "cell_type": "markdown",
   "id": "323186fe-887b-482c-af41-1e41b80a3af4",
   "metadata": {},
   "source": [
    "Dòng chú thích (Comments):"
   ]
  },
  {
   "cell_type": "code",
   "execution_count": 3,
   "id": "5a056565-6581-43ee-96ff-6d01df635110",
   "metadata": {},
   "outputs": [],
   "source": [
    "# comments after `#`"
   ]
  },
  {
   "cell_type": "markdown",
   "id": "613dd760-4867-4c96-ae47-379483fec098",
   "metadata": {},
   "source": [
    "Chú thích nhiều dòng:"
   ]
  },
  {
   "cell_type": "code",
   "execution_count": 4,
   "id": "7f4957fd-07f3-4be2-b71f-9c8e15d3b64e",
   "metadata": {},
   "outputs": [],
   "source": [
    "# Ctrl/Command+A -> Crtl/Command+/\n",
    "# Use print function\n",
    "# to \n",
    "# print \"Hello world\""
   ]
  },
  {
   "cell_type": "code",
   "execution_count": 7,
   "id": "11b9f7ac-ac50-40da-b7c6-f23b609c5c6f",
   "metadata": {},
   "outputs": [
    {
     "name": "stdout",
     "output_type": "stream",
     "text": [
      "Hello world\n"
     ]
    }
   ],
   "source": [
    "'''\n",
    "Use print function\n",
    "to \n",
    "print \"Hello world\"\n",
    "'''\n",
    "\n",
    "\"\"\"\n",
    "Use print function\n",
    "to \n",
    "print \"Hello world\"\n",
    "\"\"\"\n",
    "print(\"Hello world\")"
   ]
  },
  {
   "cell_type": "markdown",
   "id": "08065013-65a2-4035-94c0-ea6078793130",
   "metadata": {},
   "source": [
    "Ok, bây giờ chúng ta sẽ cũng nhau tìm hiểu sâu hơn về các thành phần cơ bản trong Python nha."
   ]
  },
  {
   "cell_type": "markdown",
   "id": "05b3fc2a-73e7-41bd-88ad-562f1e9051a8",
   "metadata": {},
   "source": [
    "## II. CÁC THÀNH PHẦN CƠ BẢN TRONG PYTHON "
   ]
  },
  {
   "cell_type": "markdown",
   "id": "851db246-0092-480a-8f58-76810e4cb20c",
   "metadata": {},
   "source": [
    "### 1. Biến (Variables)"
   ]
  },
  {
   "cell_type": "markdown",
   "id": "7e931684-b6a5-4214-a196-bb5f3afe7f91",
   "metadata": {},
   "source": [
    "#### 1.1 Khởi tạo biến \n",
    "\n",
    "Để khai báo biến trong Python thì mọi người sử dụng cú pháp `tên_biến = giá_trị`, trong đó:\n",
    "- `tên_biến`: tên của biến mà các bạn muốn đặt. \n",
    "- `giá_trị` : giá trị của biến mà bạn muốn gán.\n",
    "- `=`: phép gán."
   ]
  },
  {
   "cell_type": "code",
   "execution_count": 8,
   "id": "4e3ca51c-a622-46d0-a250-e9123c937362",
   "metadata": {},
   "outputs": [
    {
     "data": {
      "text/plain": [
       "160878783894785701579389447990"
      ]
     },
     "execution_count": 8,
     "metadata": {},
     "output_type": "execute_result"
    }
   ],
   "source": [
    "123907421698124019 * 1298378916210"
   ]
  },
  {
   "cell_type": "code",
   "execution_count": 9,
   "id": "b26fd909-3555-4a5e-be3e-8c3ab800e4b4",
   "metadata": {},
   "outputs": [
    {
     "data": {
      "text/plain": [
       "160878783894785701589674166254"
      ]
     },
     "execution_count": 9,
     "metadata": {},
     "output_type": "execute_result"
    }
   ],
   "source": [
    "160878783894785701579389447990 + 10284718264"
   ]
  },
  {
   "cell_type": "code",
   "execution_count": 10,
   "id": "7d4c1dab-e5b6-4d85-8a1c-1c12f2e8b74b",
   "metadata": {},
   "outputs": [],
   "source": [
    "x = 123907421698124019\n",
    "y = 1298378916210\n",
    "z = 10284718264"
   ]
  },
  {
   "cell_type": "code",
   "execution_count": 12,
   "id": "824419f5-f276-4c59-abbf-74f00f5a7645",
   "metadata": {},
   "outputs": [
    {
     "data": {
      "text/plain": [
       "160878783894785701589674166254"
      ]
     },
     "execution_count": 12,
     "metadata": {},
     "output_type": "execute_result"
    }
   ],
   "source": [
    "x * y + z "
   ]
  },
  {
   "cell_type": "code",
   "execution_count": 13,
   "id": "c0beffc2-e615-4984-a90f-0fd49ec3b982",
   "metadata": {},
   "outputs": [
    {
     "data": {
      "text/plain": [
       "160878783894785701589674166254"
      ]
     },
     "execution_count": 13,
     "metadata": {},
     "output_type": "execute_result"
    }
   ],
   "source": [
    "x, y, z = 123907421698124019, 1298378916210, 10284718264\n",
    "x * y + z "
   ]
  },
  {
   "cell_type": "markdown",
   "id": "662a7150-7890-4424-b6c2-3d834c83ce68",
   "metadata": {},
   "source": [
    "#### 1.2 Các kiểu dữ liệu"
   ]
  },
  {
   "cell_type": "markdown",
   "id": "769f4a3f-5702-4818-ac19-5311bd6747c1",
   "metadata": {},
   "source": [
    "|Kiểu dữ liệu|Ý nghĩa|Ví dụ|\n",
    "|-|-|-|\n",
    "|`int`|Kiểu số nguyên (không có chứa dấu chấm thập phân)|`11`, `-15`|\n",
    "|`float`|Kiểu số thực (có chứa dấu chấm thập phân)|`3.14`, `4.02`|\n",
    "|`complex`|Kiểu số phức|`1 + 2j`, `3 - 4j`|\n",
    "|`str`|Kiểu chuỗi|`'MCI'`,`'Python'`|\n",
    "|`bool`|Kiểu luận lý|`TRUE`, `FALSE`|"
   ]
  },
  {
   "cell_type": "markdown",
   "id": "0e316786-a879-4011-aac7-3de6dc08ed29",
   "metadata": {},
   "source": [
    "#### 1.3 Kiểm tra kiểu dữ liệu của biến"
   ]
  },
  {
   "cell_type": "markdown",
   "id": "a65b57a8-4c5d-4768-b715-b839462cc73d",
   "metadata": {},
   "source": [
    "Để kiểm tra kiểu dữ liệu giá trị của một biến đã khởi tạo, ta sử dụng hàm `type()`\n",
    "- Cú pháp: `type(tên_biến)`"
   ]
  },
  {
   "cell_type": "code",
   "execution_count": 15,
   "id": "a82921f8-e047-4d39-8597-e6a40ba4b94c",
   "metadata": {},
   "outputs": [
    {
     "data": {
      "text/plain": [
       "int"
      ]
     },
     "execution_count": 15,
     "metadata": {},
     "output_type": "execute_result"
    }
   ],
   "source": [
    "type(x)"
   ]
  },
  {
   "cell_type": "code",
   "execution_count": 16,
   "id": "cc475f70-3633-4cd8-9f35-b13c61bc4409",
   "metadata": {},
   "outputs": [
    {
     "data": {
      "text/plain": [
       "float"
      ]
     },
     "execution_count": 16,
     "metadata": {},
     "output_type": "execute_result"
    }
   ],
   "source": [
    "type(3.14)"
   ]
  },
  {
   "cell_type": "markdown",
   "id": "6bed03de-58bf-4e01-8692-022acf964c30",
   "metadata": {},
   "source": [
    "### 2. Toán tử số học\n",
    "|Phép toán|Biểu thức|Ý nghĩa |\n",
    "|-|-|-|\n",
    "|+|`x + y`|Phép cộng|\n",
    "|-|`x - y`|Phép trừ|\n",
    "|*|`x * y`|Phép nhân|\n",
    "|/|`x / y`|Phép chia|\n",
    "|%|`x % y`|Phép chia lấy phần dư|\n",
    "|//|`x // y`|Phép chia làm tròn xuống|\n",
    "|**|`x ** y`|Phép mũ|"
   ]
  },
  {
   "cell_type": "code",
   "execution_count": 17,
   "id": "a269da62-d520-47ba-a088-1e2c26833dd0",
   "metadata": {},
   "outputs": [],
   "source": [
    "x , y = 11, 13"
   ]
  },
  {
   "cell_type": "code",
   "execution_count": 18,
   "id": "98113799-f7ad-4ab0-b63d-3462e30d2222",
   "metadata": {},
   "outputs": [
    {
     "data": {
      "text/plain": [
       "24"
      ]
     },
     "execution_count": 18,
     "metadata": {},
     "output_type": "execute_result"
    }
   ],
   "source": [
    "x + y "
   ]
  },
  {
   "cell_type": "code",
   "execution_count": 19,
   "id": "286caa1c-67c1-4010-8f6f-1203c4da70f5",
   "metadata": {},
   "outputs": [
    {
     "data": {
      "text/plain": [
       "-2"
      ]
     },
     "execution_count": 19,
     "metadata": {},
     "output_type": "execute_result"
    }
   ],
   "source": [
    "x - y "
   ]
  },
  {
   "cell_type": "code",
   "execution_count": 20,
   "id": "29396006-682c-4d0e-8190-5f54687a2043",
   "metadata": {},
   "outputs": [
    {
     "data": {
      "text/plain": [
       "143"
      ]
     },
     "execution_count": 20,
     "metadata": {},
     "output_type": "execute_result"
    }
   ],
   "source": [
    "x * y"
   ]
  },
  {
   "cell_type": "code",
   "execution_count": 21,
   "id": "7b070e30-bf94-4d82-8318-84ced5ac0824",
   "metadata": {},
   "outputs": [
    {
     "data": {
      "text/plain": [
       "0.8461538461538461"
      ]
     },
     "execution_count": 21,
     "metadata": {},
     "output_type": "execute_result"
    }
   ],
   "source": [
    "x / y"
   ]
  },
  {
   "cell_type": "code",
   "execution_count": 22,
   "id": "c14a29cc-4688-46e3-9d2f-7976ecd923eb",
   "metadata": {},
   "outputs": [
    {
     "data": {
      "text/plain": [
       "34522712143931"
      ]
     },
     "execution_count": 22,
     "metadata": {},
     "output_type": "execute_result"
    }
   ],
   "source": [
    "x ** y"
   ]
  },
  {
   "cell_type": "code",
   "execution_count": 23,
   "id": "0fa54072-4e9d-4605-80dd-bfb6a960b9d5",
   "metadata": {},
   "outputs": [
    {
     "data": {
      "text/plain": [
       "0"
      ]
     },
     "execution_count": 23,
     "metadata": {},
     "output_type": "execute_result"
    }
   ],
   "source": [
    "x // y"
   ]
  },
  {
   "cell_type": "code",
   "execution_count": 24,
   "id": "82502aed-5a3f-4693-a6e5-7da8ecd6e5d9",
   "metadata": {},
   "outputs": [
    {
     "data": {
      "text/plain": [
       "3.3166247903554"
      ]
     },
     "execution_count": 24,
     "metadata": {},
     "output_type": "execute_result"
    }
   ],
   "source": [
    "x**(1/2)"
   ]
  },
  {
   "cell_type": "code",
   "execution_count": 26,
   "id": "0cb93f16-29d7-4bea-b0a7-2a37b16bbef7",
   "metadata": {},
   "outputs": [
    {
     "data": {
      "text/plain": [
       "3.3166247903554"
      ]
     },
     "execution_count": 26,
     "metadata": {},
     "output_type": "execute_result"
    }
   ],
   "source": [
    "import math\n",
    "math.sqrt(x)"
   ]
  },
  {
   "cell_type": "code",
   "execution_count": 29,
   "id": "93008859-31d9-4dfc-87b8-32fd9df12cca",
   "metadata": {},
   "outputs": [
    {
     "data": {
      "text/plain": [
       "4"
      ]
     },
     "execution_count": 29,
     "metadata": {},
     "output_type": "execute_result"
    }
   ],
   "source": [
    "math.ceil(3.19)"
   ]
  },
  {
   "cell_type": "code",
   "execution_count": 27,
   "id": "076c9876-fe7b-451a-9109-7d973d0ec243",
   "metadata": {},
   "outputs": [
    {
     "data": {
      "text/plain": [
       "4"
      ]
     },
     "execution_count": 27,
     "metadata": {},
     "output_type": "execute_result"
    }
   ],
   "source": [
    "round(3.91)"
   ]
  },
  {
   "cell_type": "code",
   "execution_count": 28,
   "id": "8263a054-01c9-4671-97ca-098dc54108c3",
   "metadata": {},
   "outputs": [
    {
     "data": {
      "text/plain": [
       "3"
      ]
     },
     "execution_count": 28,
     "metadata": {},
     "output_type": "execute_result"
    }
   ],
   "source": [
    "round(3.19)"
   ]
  },
  {
   "cell_type": "markdown",
   "id": "ef8e5cc1-45c9-4bd9-bfd1-fa86c5850ba8",
   "metadata": {},
   "source": [
    "### 3. Toán tử luận lý"
   ]
  },
  {
   "cell_type": "markdown",
   "id": "81f2b826-b8f1-42a2-bd11-29b1e468154a",
   "metadata": {},
   "source": [
    "#### 4.1 List\n",
    "\n",
    "\n",
    "##### 4.1.0 Khai báo list\n",
    "\n",
    "- Cú pháp: `[value1, value2, ...]`"
   ]
  },
  {
   "cell_type": "code",
   "execution_count": 31,
   "id": "ff03c93f-3e3f-408b-a43d-77e13f9d1a5f",
   "metadata": {},
   "outputs": [
    {
     "data": {
      "text/plain": [
       "False"
      ]
     },
     "execution_count": 31,
     "metadata": {},
     "output_type": "execute_result"
    }
   ],
   "source": [
    "True and False"
   ]
  },
  {
   "cell_type": "code",
   "execution_count": 32,
   "id": "9a96f892-4794-4e80-b5d6-5b1cd9c9068c",
   "metadata": {},
   "outputs": [
    {
     "data": {
      "text/plain": [
       "True"
      ]
     },
     "execution_count": 32,
     "metadata": {},
     "output_type": "execute_result"
    }
   ],
   "source": [
    "True or False"
   ]
  },
  {
   "cell_type": "code",
   "execution_count": 33,
   "id": "b14c9ccf-b214-4ee4-beec-2b72aed9e07c",
   "metadata": {},
   "outputs": [
    {
     "data": {
      "text/plain": [
       "False"
      ]
     },
     "execution_count": 33,
     "metadata": {},
     "output_type": "execute_result"
    }
   ],
   "source": [
    "not True"
   ]
  },
  {
   "cell_type": "code",
   "execution_count": null,
   "id": "043c978f-7699-4329-8a12-c18353838ff2",
   "metadata": {},
   "outputs": [],
   "source": [
    "True and (False or True) or False"
   ]
  },
  {
   "cell_type": "markdown",
   "id": "6f3df538-8547-4790-86e6-49877a7833ee",
   "metadata": {},
   "source": [
    "### 4. Toan tu dieu kien"
   ]
  },
  {
   "cell_type": "code",
   "execution_count": 34,
   "id": "60e1a3ef-3fef-4e1f-994e-47948606ea53",
   "metadata": {},
   "outputs": [
    {
     "data": {
      "text/plain": [
       "False"
      ]
     },
     "execution_count": 34,
     "metadata": {},
     "output_type": "execute_result"
    }
   ],
   "source": [
    "3 > 4 "
   ]
  },
  {
   "cell_type": "code",
   "execution_count": 35,
   "id": "9d9dd979-b269-4e8a-bc73-b91fdfc71f3b",
   "metadata": {},
   "outputs": [
    {
     "data": {
      "text/plain": [
       "True"
      ]
     },
     "execution_count": 35,
     "metadata": {},
     "output_type": "execute_result"
    }
   ],
   "source": [
    "(3 > 4) or (4 < 5)"
   ]
  },
  {
   "cell_type": "markdown",
   "id": "b8dc5828-9dfb-4176-98bb-9f62218d3e9b",
   "metadata": {},
   "source": [
    "### 5. Cấu trúc dữ liệu\n",
    "\n",
    "`Programs = Data Structures + Algorithms`"
   ]
  },
  {
   "cell_type": "markdown",
   "id": "4f310cd3-0068-4811-a829-2c42fdb129fe",
   "metadata": {},
   "source": [
    "#### 5.1 List"
   ]
  },
  {
   "cell_type": "code",
   "execution_count": 38,
   "id": "0450363a-53e5-4804-8bf1-36ab5ba213f5",
   "metadata": {},
   "outputs": [],
   "source": [
    "li = [1, 3.14, 'MCI', 1+2j]\n",
    "#     0   1     2      3   -> trái qua phải -> index\n",
    "#     -4  -3    -2     -1  -> phải qua trái"
   ]
  },
  {
   "cell_type": "code",
   "execution_count": 37,
   "id": "ced62ac5-cd43-4441-bbd9-86a87aacc746",
   "metadata": {},
   "outputs": [
    {
     "data": {
      "text/plain": [
       "[1, 3.14, 'MCI', (1+2j)]"
      ]
     },
     "execution_count": 37,
     "metadata": {},
     "output_type": "execute_result"
    }
   ],
   "source": [
    "li"
   ]
  },
  {
   "cell_type": "code",
   "execution_count": 39,
   "id": "3b9fae54-c5e5-4b1f-85aa-3b05361e7e56",
   "metadata": {},
   "outputs": [
    {
     "data": {
      "text/plain": [
       "1"
      ]
     },
     "execution_count": 39,
     "metadata": {},
     "output_type": "execute_result"
    }
   ],
   "source": [
    "li[0]"
   ]
  },
  {
   "cell_type": "code",
   "execution_count": 40,
   "id": "295589ac-0adb-4c31-8a9b-d3be77306443",
   "metadata": {},
   "outputs": [
    {
     "data": {
      "text/plain": [
       "1"
      ]
     },
     "execution_count": 40,
     "metadata": {},
     "output_type": "execute_result"
    }
   ],
   "source": [
    "li[-4]"
   ]
  },
  {
   "cell_type": "code",
   "execution_count": 41,
   "id": "b070851d-870f-4b99-94f3-21ca5919f5af",
   "metadata": {},
   "outputs": [
    {
     "data": {
      "text/plain": [
       "'MCI'"
      ]
     },
     "execution_count": 41,
     "metadata": {},
     "output_type": "execute_result"
    }
   ],
   "source": [
    "li[2]"
   ]
  },
  {
   "cell_type": "code",
   "execution_count": 42,
   "id": "9e5490ac-590e-4bcd-a519-e8a193ab782a",
   "metadata": {},
   "outputs": [
    {
     "data": {
      "text/plain": [
       "'MCI'"
      ]
     },
     "execution_count": 42,
     "metadata": {},
     "output_type": "execute_result"
    }
   ],
   "source": [
    "li[-2]"
   ]
  },
  {
   "cell_type": "code",
   "execution_count": 43,
   "id": "98381c59-0564-4d74-8b67-ddffd1901a57",
   "metadata": {},
   "outputs": [
    {
     "data": {
      "text/plain": [
       "[[1, 2, 3], ['HN', 'HCM'], 'Abc']"
      ]
     },
     "execution_count": 43,
     "metadata": {},
     "output_type": "execute_result"
    }
   ],
   "source": [
    "li1 = [[1,2,3],['HN','HCM'],'Abc']\n",
    "li1"
   ]
  },
  {
   "cell_type": "code",
   "execution_count": 44,
   "id": "d1e6cd6b-1adc-4c8a-909f-00bc128d6e30",
   "metadata": {},
   "outputs": [
    {
     "data": {
      "text/plain": [
       "list"
      ]
     },
     "execution_count": 44,
     "metadata": {},
     "output_type": "execute_result"
    }
   ],
   "source": [
    "type(li1)"
   ]
  },
  {
   "cell_type": "code",
   "execution_count": 53,
   "id": "71ffcb91-8fcb-41d6-81c8-16bf7e9c61af",
   "metadata": {},
   "outputs": [
    {
     "data": {
      "text/plain": [
       "2"
      ]
     },
     "execution_count": 53,
     "metadata": {},
     "output_type": "execute_result"
    }
   ],
   "source": [
    "li1[0][1]"
   ]
  },
  {
   "cell_type": "code",
   "execution_count": 30,
   "id": "df5a6657-70dd-499a-9522-9859f728a3b2",
   "metadata": {},
   "outputs": [
    {
     "data": {
      "text/plain": [
       "True"
      ]
     },
     "execution_count": 30,
     "metadata": {},
     "output_type": "execute_result"
    }
   ],
   "source": [
    "True and True"
   ]
  },
  {
   "cell_type": "markdown",
   "id": "068ebd1e-21a1-46c9-843a-d59442293ecf",
   "metadata": {},
   "source": [
    "##### 5.1.2 Các hàm cơ bản với List"
   ]
  },
  {
   "cell_type": "markdown",
   "id": "db54e346-4154-426c-97b7-d7e7d521a3b3",
   "metadata": {},
   "source": [
    "|Tên hàm|Ý nghĩa|Trả về giá trị|\n",
    "|-|-|-|\n",
    "|`append()`|Thêm một phần tử vào vị trí cuối cùng trong list|Không|\n",
    "|`clear()`|Xóa sạch các phần tử trong list|Không|\n",
    "|`copy()`|Sao chép toàn bộ list|Có|\n",
    "|`count()`|Đếm số lần một phần tử xuất hiện trong list|Có|\n",
    "|`extend()`|Kết hợp list với một list khác|Không|\n",
    "|`index()`|Trả về vị trí phần tử trong list|Có|\n",
    "|`insert()`|Chèn một phần tử vào list tại vị trí cho trước|Không|\n",
    "|`pop()`|Loại bỏ phần tử ở vị trí index cho trước trong list|Không|\n",
    "|`remove()`|Loại bỏ một phần tử khỏi list|Không|\n",
    "|`reverse()`|Đảo ngược thứ tự các phần tử trong list|Không|\n",
    "|`sort()`|Sắp xếp các phần tử trong list|Không|"
   ]
  },
  {
   "cell_type": "code",
   "execution_count": 55,
   "id": "a1c3eebf-24d4-4410-b72e-f02e0534e7b6",
   "metadata": {},
   "outputs": [],
   "source": [
    "li.append(10)"
   ]
  },
  {
   "cell_type": "code",
   "execution_count": 56,
   "id": "a512bf17-0e2e-4449-8d3b-ea6283f7c84f",
   "metadata": {},
   "outputs": [
    {
     "data": {
      "text/plain": [
       "[1, 3.14, 'MCI', (1+2j), 10]"
      ]
     },
     "execution_count": 56,
     "metadata": {},
     "output_type": "execute_result"
    }
   ],
   "source": [
    "li"
   ]
  },
  {
   "cell_type": "code",
   "execution_count": 58,
   "id": "19c32c62-9bff-44a4-94b2-8d1c826bdc41",
   "metadata": {},
   "outputs": [],
   "source": [
    "li2 = li.copy()"
   ]
  },
  {
   "cell_type": "code",
   "execution_count": 59,
   "id": "c20756a2-d986-438e-b3bc-2ff4a6a96957",
   "metadata": {},
   "outputs": [
    {
     "data": {
      "text/plain": [
       "[1, 3.14, 'MCI', (1+2j), 10]"
      ]
     },
     "execution_count": 59,
     "metadata": {},
     "output_type": "execute_result"
    }
   ],
   "source": [
    "li2"
   ]
  },
  {
   "cell_type": "code",
   "execution_count": 60,
   "id": "0d89d288-8640-4f0e-af83-a59ba9e741ff",
   "metadata": {},
   "outputs": [
    {
     "data": {
      "text/plain": [
       "['__add__',\n",
       " '__class__',\n",
       " '__contains__',\n",
       " '__delattr__',\n",
       " '__delitem__',\n",
       " '__dir__',\n",
       " '__doc__',\n",
       " '__eq__',\n",
       " '__format__',\n",
       " '__ge__',\n",
       " '__getattribute__',\n",
       " '__getitem__',\n",
       " '__gt__',\n",
       " '__hash__',\n",
       " '__iadd__',\n",
       " '__imul__',\n",
       " '__init__',\n",
       " '__init_subclass__',\n",
       " '__iter__',\n",
       " '__le__',\n",
       " '__len__',\n",
       " '__lt__',\n",
       " '__mul__',\n",
       " '__ne__',\n",
       " '__new__',\n",
       " '__reduce__',\n",
       " '__reduce_ex__',\n",
       " '__repr__',\n",
       " '__reversed__',\n",
       " '__rmul__',\n",
       " '__setattr__',\n",
       " '__setitem__',\n",
       " '__sizeof__',\n",
       " '__str__',\n",
       " '__subclasshook__',\n",
       " 'append',\n",
       " 'clear',\n",
       " 'copy',\n",
       " 'count',\n",
       " 'extend',\n",
       " 'index',\n",
       " 'insert',\n",
       " 'pop',\n",
       " 'remove',\n",
       " 'reverse',\n",
       " 'sort']"
      ]
     },
     "execution_count": 60,
     "metadata": {},
     "output_type": "execute_result"
    }
   ],
   "source": [
    "dir(li)"
   ]
  },
  {
   "cell_type": "code",
   "execution_count": 62,
   "id": "ac7ec639-aac0-4c8e-a926-1075dcd58602",
   "metadata": {},
   "outputs": [
    {
     "data": {
      "text/plain": [
       "['append',\n",
       " 'clear',\n",
       " 'copy',\n",
       " 'count',\n",
       " 'extend',\n",
       " 'index',\n",
       " 'insert',\n",
       " 'pop',\n",
       " 'remove',\n",
       " 'reverse',\n",
       " 'sort']"
      ]
     },
     "execution_count": 62,
     "metadata": {},
     "output_type": "execute_result"
    }
   ],
   "source": [
    "# Lap qua tat ca cac phan tu o ben trong cau truc du lieu do\n",
    "# Neu nhu cac phan tu do khong bat dau bang dau __ thi minh giu\n",
    "[method for method in dir(li) if not method.startswith('_')]"
   ]
  },
  {
   "cell_type": "code",
   "execution_count": 54,
   "id": "ab91e629-3e0f-4f3a-b43f-0b0cad906388",
   "metadata": {},
   "outputs": [
    {
     "data": {
      "text/plain": [
       "[1, 3.14, 'MCI', (1+2j)]"
      ]
     },
     "execution_count": 54,
     "metadata": {},
     "output_type": "execute_result"
    }
   ],
   "source": [
    "li"
   ]
  },
  {
   "cell_type": "markdown",
   "id": "8a5c7f8e-b157-477f-8e92-9f2b64b6b9dc",
   "metadata": {},
   "source": [
    "Đố vui:\n",
    "- Hàm `extend()` và hàm `append()` khác gì nhau?\n",
    "- Hàm `remove()` and `pop()` khác gì nhau?"
   ]
  },
  {
   "cell_type": "code",
   "execution_count": 63,
   "id": "c9ac62b6-fd4e-4bc4-aca8-26ab835ccadd",
   "metadata": {},
   "outputs": [
    {
     "data": {
      "text/plain": [
       "[1, 3.14, 'MCI', (1+2j), 10]"
      ]
     },
     "execution_count": 63,
     "metadata": {},
     "output_type": "execute_result"
    }
   ],
   "source": [
    "li"
   ]
  },
  {
   "cell_type": "markdown",
   "id": "8ab380fb-d22d-4d13-9281-1a81ee9d7842",
   "metadata": {},
   "source": [
    "#### 4.2 Tuple\n",
    "\n",
    "##### 4.2.0 Khai báo tuple\n",
    "\n",
    "- Cú pháp: `(value1, value2, ...)`"
   ]
  },
  {
   "cell_type": "code",
   "execution_count": 65,
   "id": "164e09a2-662a-4775-818e-3637c6a10a71",
   "metadata": {},
   "outputs": [
    {
     "data": {
      "text/plain": [
       "[1, 'MCI', (1+2j), 10]"
      ]
     },
     "execution_count": 65,
     "metadata": {},
     "output_type": "execute_result"
    }
   ],
   "source": [
    "li"
   ]
  },
  {
   "cell_type": "code",
   "execution_count": 64,
   "id": "97e62bcc-20dd-4bb0-885d-55d5069f286e",
   "metadata": {},
   "outputs": [
    {
     "data": {
      "text/plain": [
       "3.14"
      ]
     },
     "execution_count": 64,
     "metadata": {},
     "output_type": "execute_result"
    }
   ],
   "source": [
    "li.pop(1) #Shift + Tab"
   ]
  },
  {
   "cell_type": "markdown",
   "id": "a600e0ad-0d7f-4363-a34f-0bd579e2d690",
   "metadata": {},
   "source": [
    "##### 4.2.1 Các hàm cơ bản trong tuple\n",
    "\n",
    "|Tên hàm|Ý nghĩa|Trả về giá trị|\n",
    "|-|-|-|\n",
    "|`count()`|Đếm số lần một phần tử xuất hiện trong tuple|Có|\n",
    "|`index()`|Trả về vị trí phần tử trong tuple|Có|"
   ]
  },
  {
   "cell_type": "code",
   "execution_count": null,
   "id": "9436aceb-5d1c-44e5-b174-ea03ff44e4c0",
   "metadata": {},
   "outputs": [],
   "source": [
    "li.copy()"
   ]
  },
  {
   "cell_type": "markdown",
   "id": "9ac494df-c373-4fbd-be0d-1fae08116c94",
   "metadata": {},
   "source": [
    "#### 4.3 Set\n",
    "\n",
    "\n",
    "##### 4.3.0 Khai báo set\n",
    "\n",
    "- Cú pháp: `{value1, value2, ...}`\n"
   ]
  },
  {
   "cell_type": "code",
   "execution_count": null,
   "id": "e7bc2fbf-3155-4e8c-bed3-95942f3cf6a6",
   "metadata": {},
   "outputs": [],
   "source": []
  },
  {
   "cell_type": "markdown",
   "id": "9f21eede-0912-4c83-a061-60b0fe305e26",
   "metadata": {},
   "source": [
    "##### 4.3.1 Các hàm cơ bản trong set\n",
    "\n",
    "|Tên hàm|Ý nghĩa|Trả về giá trị|\n",
    "|-|-|-|\n",
    "|`add()`|Thêm một phần tử vào vị trí cuối cùng trong set|Không|\n",
    "|`clear()`|Xóa sạch các phần tử trong set|Không|\n",
    "|`copy()`|Sao chép toàn bộ set|Có|\n",
    "|`A.difference(B)`|Phép trừ sẽ trả về một tập hợp các giá trị chỉ có ở set A hoặc set B|Có|\n",
    "|`A.difference_update(B)`|Xóa các thành phần tồn tại trong cả hai bộ của set A|Không|\n",
    "|`discard()`|Xoá phần tử trong set|Có|\n",
    "|`A.intersection(B)`|Phép giao giữa 2 set|Có|\n",
    "|`A.intersection_update(B)`|Loại bỏ các thành phần không có trong cả 2 set|Không|\n",
    "|`A.isdisjoint(B)`|Trả về True nếu 2 set là tập hợp rời rạc|Có|\n",
    "|`A.issubset(B)`|Trả về True nếu tất cả các item của set A đều có trong set B, False nếu ngược lại|Có|\n",
    "|`A.issuperset(B)`|Trả về True nếu tất cả các item của set B đều có trong set A, False nếu ngược lại|Có|\n",
    "|`pop()`|Loại bỏ phần tử ở vị trí index cho trước|Không|\n",
    "|`remove()`|Loại bỏ một phần tử |Không|\n",
    "|`A.symmetric_difference(B)`|Phép đối xứng trả về tập hợp những giá trị có trong set A không có trong set B và ngược lại|Có|\n",
    "|`A.symmetric_difference_update(B)`|Xóa các thành phần có trong cả hai nhóm và chèn các mục không có trong cả hai nhóm|Có|\n",
    "|`A.union(B)`|Phép hợp của 2 set|Có|\n",
    "|`update()`|Thêm phần tử|Không|\n",
    "\n",
    "\n",
    "Để có thể nắm được ý nghĩa của các hàm trong set hay bất kì cấu trúc dữ liệu nào, ta có thể tận dụng `docstring` hoặc `help()`.\n"
   ]
  },
  {
   "cell_type": "code",
   "execution_count": null,
   "id": "847121a1-b994-4ae2-9e5f-250fdb8cf258",
   "metadata": {},
   "outputs": [],
   "source": []
  },
  {
   "cell_type": "markdown",
   "id": "886e7fd7-1008-438a-8711-bb9574e8dec4",
   "metadata": {},
   "source": [
    "#### 4.4 Dictionary\n",
    "\n",
    "##### 4.4.0 Khai báo dictionary\n",
    "\n",
    "Để khai báo một dictionary chúng ta dùng cặp dấu `{}` theo cú pháp sau:\n",
    "- Cú pháp: `{key1:value1, key2:value2,...}`\n"
   ]
  },
  {
   "cell_type": "code",
   "execution_count": null,
   "id": "7ed62ad9-a41d-4416-a920-82605b020f1f",
   "metadata": {},
   "outputs": [],
   "source": []
  },
  {
   "cell_type": "markdown",
   "id": "dcbe179c-9446-4886-ac32-1d62d82b844d",
   "metadata": {},
   "source": [
    "##### 4.4.1 Truy xuất các phần tử trong dictionary"
   ]
  },
  {
   "cell_type": "code",
   "execution_count": null,
   "id": "3efea3e2-cdbc-4320-842e-83217452c86f",
   "metadata": {},
   "outputs": [],
   "source": []
  },
  {
   "cell_type": "markdown",
   "id": "630a82c4-9ee8-41b0-8ab8-d1005916b108",
   "metadata": {},
   "source": [
    "##### 4.3.3 Các hàm cơ bản trong dictionary\n",
    "\n",
    "|Tên hàm|Ý nghĩa|Trả về giá trị|\n",
    "|-|-|-|\n",
    "|`clear()`|Xóa sạch các phần tử|Không|\n",
    "|`copy()`|Sao chép các phần tử|Có|\n",
    "|`fromkeys()`|Tạo ra một dictionary với các khóa và giá trị được chỉ định|Có|\n",
    "|`get()`|Trả về giá trị của khóa được chỉ định|Có|\n",
    "|`items()`| Trả về danh sách chứa bộ giá trị cho mỗi cặp giá trị khóa|Có|\n",
    "|`keys()`|Trả về danh sách chứa các key của dictionary|Có|\n",
    "|`pop()`|Loại bỏ phần tử có key được chỉ định|Không|\n",
    "|`popitem()`|Xóa cặp key-value được chèn cuối cùng|Không|\n",
    "|`setdefault()`|Trả về giá trị của key được chỉ định. Nếu key không tồn tại: hãy chèn key, với giá trị được chỉ định|Không|\n",
    "|`update()`|Cập nhật dictionary với các cặp key-value được chỉ định|Không|\n",
    "|`values()`| Trả về danh sách tất cả các value trong từ điển |Có|"
   ]
  },
  {
   "cell_type": "code",
   "execution_count": null,
   "id": "d3ca58f5-1676-47be-9538-db291d97985c",
   "metadata": {},
   "outputs": [],
   "source": []
  },
  {
   "cell_type": "markdown",
   "id": "33659433-089e-4dd5-8509-5ac0806bc9ae",
   "metadata": {},
   "source": [
    "Ở bài tiếp theo, chúng ta sẽ tìm hiểu về vòng lặp, câu điều kiện, cũng như cách viết 1 hàm trong Python."
   ]
  }
 ],
 "metadata": {
  "kernelspec": {
   "display_name": "Python 3 (ipykernel)",
   "language": "python",
   "name": "python3"
  },
  "language_info": {
   "codemirror_mode": {
    "name": "ipython",
    "version": 3
   },
   "file_extension": ".py",
   "mimetype": "text/x-python",
   "name": "python",
   "nbconvert_exporter": "python",
   "pygments_lexer": "ipython3",
   "version": "3.8.11"
  }
 },
 "nbformat": 4,
 "nbformat_minor": 5
}
