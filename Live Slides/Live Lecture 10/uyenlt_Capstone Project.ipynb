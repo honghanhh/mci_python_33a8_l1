{
 "cells": [
  {
   "cell_type": "markdown",
   "id": "33e487ca-46d0-453e-9ea6-968a141e11d4",
   "metadata": {},
   "source": [
    "# <center> CAPSTONE PROJECTS </center>"
   ]
  },
  {
   "cell_type": "markdown",
   "id": "b7deda00-560d-411b-9dc4-572fe78b20f1",
   "metadata": {},
   "source": [
    "## 1: PYTHON'S FOUNDATION"
   ]
  },
  {
   "cell_type": "markdown",
   "id": "7fe7fd0e-ca40-4976-b079-5678e4b2bcf6",
   "metadata": {},
   "source": [
    "#### Question 1.1: "
   ]
  },
  {
   "cell_type": "markdown",
   "id": "3441f281-76f9-4d4b-a9cc-13877ea2ea11",
   "metadata": {},
   "source": [
    "Given a string `s` consists of some words separated by spaces, return the length of the last word in the string. If the last word does not exist, return 0. A word is a maximal substring consisting of non-space characters only.\n",
    "\n",
    "|Input   |Function                                                    | Output|\n",
    "|-|-|-|\n",
    "|`s=\"Hello World\"` |Check the last word `World` has how many characters?|   5   |\n",
    "|`s=\" \"`           |Check the last word ` ` has how many characters?    |   0   |"
   ]
  },
  {
   "cell_type": "code",
   "execution_count": null,
   "id": "b8c7452f-6ff8-4fc2-8478-68eb89015c0e",
   "metadata": {},
   "outputs": [],
   "source": [
    "def len_last_word(s):\n",
    "    # Your code here\n",
    "    return "
   ]
  },
  {
   "cell_type": "code",
   "execution_count": null,
   "id": "3e8a83ab-b919-49bf-9a76-12187b694381",
   "metadata": {},
   "outputs": [],
   "source": [
    "s = \"Hello World\"\n",
    "assert len_last_word(s) == 5, \"Wrong answer, please calculate again\"\n",
    "\n",
    "s = \" \"\n",
    "assert len_last_word(s) == 0, \"Wrong answer, please calculate again\""
   ]
  },
  {
   "cell_type": "code",
   "execution_count": 1,
   "id": "6bda9496-3390-4aee-94aa-c8ab1e329f51",
   "metadata": {},
   "outputs": [],
   "source": [
    "def len_last_word(s):\n",
    "    s=s.split() \n",
    "    if len(s) == 0:\n",
    "        return 0\n",
    "    else:\n",
    "        return len(s[-1]) "
   ]
  },
  {
   "cell_type": "code",
   "execution_count": 2,
   "id": "e1925c8f-cb44-4ac8-af88-b517dcd8a7f2",
   "metadata": {},
   "outputs": [],
   "source": [
    "s = \"Hello World\"\n",
    "assert len_last_word(s) == 5, \"Wrong answer, please calculate again\"\n",
    "\n",
    "s = \" \"\n",
    "assert len_last_word(s) == 0, \"Wrong answer, please calculate again\""
   ]
  },
  {
   "cell_type": "markdown",
   "id": "6ac11808-58e8-4218-b1e4-6b0b4c4bdb5f",
   "metadata": {},
   "source": [
    "#### Question 1.2: "
   ]
  },
  {
   "cell_type": "markdown",
   "id": "635fb4b7-72f5-4f5f-a358-f828f27850b3",
   "metadata": {},
   "source": [
    "An integer `d` is a divisor of an integer `n` if `n % d = 0`.\n",
    "Given an integer `n`, count the number of `d` occuring within the integer.\n",
    "\n",
    "**Examples**:\n",
    "\n",
    "|Input   |Function                                        | Output|\n",
    "|-|-|-|\n",
    "|`n=124` |Check if `1`,`2`, and `4`  are divisors of `124`|   3   |\n",
    "|`n=100` |Check if `1` and `0` are divisors of `100`      |   1   |\n",
    "|`n=13`  |Check if `1`  and `3`  are divisors of `13`     |   1   |\n",
    "\n",
    "Hints: using `loops` (i.e `for`, ...) or `comprehension`. "
   ]
  },
  {
   "cell_type": "code",
   "execution_count": null,
   "id": "e98c5959-3417-4243-9297-86a1ac49d24d",
   "metadata": {},
   "outputs": [],
   "source": [
    "def find_digits(n): \n",
    "    # Your code here\n",
    "    return"
   ]
  },
  {
   "cell_type": "code",
   "execution_count": null,
   "id": "a3a9e227-b053-4fdb-b66d-a4ceec33eac5",
   "metadata": {},
   "outputs": [],
   "source": [
    "n = 124\n",
    "assert find_digits(n) == 3, \"Wrong answer, please calculate again\"\n",
    "\n",
    "n = 100\n",
    "assert find_digits(n) == 1, \"Wrong answer, please calculate again\"\n",
    "\n",
    "n = 13\n",
    "assert find_digits(n) == 1, \"Wrong answer, please calculate again\""
   ]
  },
  {
   "cell_type": "code",
   "execution_count": 3,
   "id": "80a3afd1-487a-4fdf-bd9e-60dbc583b601",
   "metadata": {},
   "outputs": [],
   "source": [
    "def find_digits(n): \n",
    "    return len([1 for i in str(n) if i!='0' and n%int(i)==0])"
   ]
  },
  {
   "cell_type": "code",
   "execution_count": 4,
   "id": "2ebaa945-7e60-4fbc-85d1-545ad584c03c",
   "metadata": {},
   "outputs": [],
   "source": [
    "n = 124\n",
    "assert find_digits(n) == 3, \"Wrong answer, please calculate again\"\n",
    "\n",
    "n = 100\n",
    "assert find_digits(n) == 1, \"Wrong answer, please calculate again\"\n",
    "\n",
    "n = 13\n",
    "assert find_digits(n) == 1, \"Wrong answer, please calculate again\""
   ]
  },
  {
   "cell_type": "markdown",
   "id": "77c79f8f-c21d-4dfc-b31f-379fec58c957",
   "metadata": {},
   "source": [
    "## 2: NUMPY, PANDAS"
   ]
  },
  {
   "cell_type": "markdown",
   "id": "c435be99-4130-47ac-b498-af94cce560fe",
   "metadata": {},
   "source": [
    "### Question 1.2: NumPy"
   ]
  },
  {
   "cell_type": "markdown",
   "id": "732a393c-52ad-403b-ac4c-12444eb6b98d",
   "metadata": {},
   "source": [
    "Given an array of 2 dimension `A`, return the minimum value of the second dimension.\n",
    "For examples:\n",
    "\n",
    "|Input|Output|\n",
    "|-|-|\n",
    "|```A = np.array([[2, 59],[3, 17], [1, 33], [45, 0]])```|`[2 3 1 0]`|\n",
    "|```A = np.array([[22, 21],[35, 1], [12, 3], [5, 80]])```|`[21 1 3 5]`|"
   ]
  },
  {
   "cell_type": "code",
   "execution_count": null,
   "id": "0773a1da-794a-47f5-8bed-f6c5c980d50e",
   "metadata": {},
   "outputs": [],
   "source": [
    "def min_value(A):\n",
    "    return"
   ]
  },
  {
   "cell_type": "code",
   "execution_count": null,
   "id": "b5ef8bed-2df4-46c9-abd2-3955e42bd19a",
   "metadata": {},
   "outputs": [],
   "source": [
    "import numpy as np\n",
    "A = np.array([[2, 5], [3, 7], [1, 3], [4, 0]])\n",
    "min_value(A)"
   ]
  },
  {
   "cell_type": "code",
   "execution_count": 5,
   "id": "5aa581b5-dc82-45a0-82bd-615370ca766a",
   "metadata": {},
   "outputs": [],
   "source": [
    "def min_value(A):\n",
    "    li=[]\n",
    "    for i in list(range(A.shape[0])):\n",
    "        li.append(min(A[i]))\n",
    "    return li"
   ]
  },
  {
   "cell_type": "code",
   "execution_count": 6,
   "id": "c6b45ad9-58db-4a75-bd3d-d0d8ddb9ddd3",
   "metadata": {},
   "outputs": [
    {
     "data": {
      "text/plain": [
       "[2, 3, 1, 0]"
      ]
     },
     "execution_count": 6,
     "metadata": {},
     "output_type": "execute_result"
    }
   ],
   "source": [
    "import numpy as np\n",
    "A = np.array([[2, 5], [3, 7], [1, 3], [4, 0]])\n",
    "min_value(A)"
   ]
  },
  {
   "cell_type": "code",
   "execution_count": 22,
   "id": "fe8d6a96-2c92-4c3c-88a1-aaf9537ee030",
   "metadata": {},
   "outputs": [],
   "source": [
    "def min_value(A):\n",
    "    return np.amin(A, axis=1)"
   ]
  },
  {
   "cell_type": "code",
   "execution_count": 23,
   "id": "6116f2e1-c24b-41aa-98f9-791db20dd5ec",
   "metadata": {},
   "outputs": [
    {
     "data": {
      "text/plain": [
       "array([2, 3, 1, 0])"
      ]
     },
     "execution_count": 23,
     "metadata": {},
     "output_type": "execute_result"
    }
   ],
   "source": [
    "import numpy as np\n",
    "A = np.array([[2, 5], [3, 7], [1, 3], [4, 0]])\n",
    "min_value(A)"
   ]
  },
  {
   "cell_type": "markdown",
   "id": "982cb7e6-f771-40f6-943e-2c1ad5c3204f",
   "metadata": {},
   "source": [
    "### Question 2.2: Pandas"
   ]
  },
  {
   "cell_type": "markdown",
   "id": "97e0d3e1-5155-42c4-93b0-a20bd8ccd4b8",
   "metadata": {},
   "source": [
    "#### Step 1. Import the necessary libraries"
   ]
  },
  {
   "cell_type": "code",
   "execution_count": 8,
   "id": "41c1f8d2-eefe-4fa5-9f26-308dfeca3be2",
   "metadata": {},
   "outputs": [],
   "source": [
    "import pandas as pd"
   ]
  },
  {
   "cell_type": "markdown",
   "id": "c2540db5-3263-4b20-bbf9-0cea1b12957e",
   "metadata": {},
   "source": [
    "#### Step 2. Import the dataset from this [address](https://raw.githubusercontent.com/justmarkham/DAT8/master/data/u.user) and assign it to a variable called `users`. "
   ]
  },
  {
   "cell_type": "code",
   "execution_count": 26,
   "id": "a6363619-adf0-4329-b04d-684c827ae2b0",
   "metadata": {},
   "outputs": [
    {
     "data": {
      "text/html": [
       "<div>\n",
       "<style scoped>\n",
       "    .dataframe tbody tr th:only-of-type {\n",
       "        vertical-align: middle;\n",
       "    }\n",
       "\n",
       "    .dataframe tbody tr th {\n",
       "        vertical-align: top;\n",
       "    }\n",
       "\n",
       "    .dataframe thead th {\n",
       "        text-align: right;\n",
       "    }\n",
       "</style>\n",
       "<table border=\"1\" class=\"dataframe\">\n",
       "  <thead>\n",
       "    <tr style=\"text-align: right;\">\n",
       "      <th></th>\n",
       "      <th>user_id</th>\n",
       "      <th>age</th>\n",
       "      <th>gender</th>\n",
       "      <th>occupation</th>\n",
       "      <th>zip_code</th>\n",
       "    </tr>\n",
       "  </thead>\n",
       "  <tbody>\n",
       "    <tr>\n",
       "      <th>0</th>\n",
       "      <td>1</td>\n",
       "      <td>24</td>\n",
       "      <td>M</td>\n",
       "      <td>technician</td>\n",
       "      <td>85711</td>\n",
       "    </tr>\n",
       "    <tr>\n",
       "      <th>1</th>\n",
       "      <td>2</td>\n",
       "      <td>53</td>\n",
       "      <td>F</td>\n",
       "      <td>other</td>\n",
       "      <td>94043</td>\n",
       "    </tr>\n",
       "    <tr>\n",
       "      <th>2</th>\n",
       "      <td>3</td>\n",
       "      <td>23</td>\n",
       "      <td>M</td>\n",
       "      <td>writer</td>\n",
       "      <td>32067</td>\n",
       "    </tr>\n",
       "    <tr>\n",
       "      <th>3</th>\n",
       "      <td>4</td>\n",
       "      <td>24</td>\n",
       "      <td>M</td>\n",
       "      <td>technician</td>\n",
       "      <td>43537</td>\n",
       "    </tr>\n",
       "    <tr>\n",
       "      <th>4</th>\n",
       "      <td>5</td>\n",
       "      <td>33</td>\n",
       "      <td>F</td>\n",
       "      <td>other</td>\n",
       "      <td>15213</td>\n",
       "    </tr>\n",
       "  </tbody>\n",
       "</table>\n",
       "</div>"
      ],
      "text/plain": [
       "   user_id  age gender  occupation zip_code\n",
       "0        1   24      M  technician    85711\n",
       "1        2   53      F       other    94043\n",
       "2        3   23      M      writer    32067\n",
       "3        4   24      M  technician    43537\n",
       "4        5   33      F       other    15213"
      ]
     },
     "execution_count": 26,
     "metadata": {},
     "output_type": "execute_result"
    }
   ],
   "source": [
    "url = 'https://raw.githubusercontent.com/justmarkham/DAT8/master/data/u.user'\n",
    "users = pd.read_csv(url, sep = '|')\n",
    "users.head()"
   ]
  },
  {
   "cell_type": "markdown",
   "id": "0ae03598-4ebf-482c-853e-8b3eb89d027f",
   "metadata": {},
   "source": [
    "#### Step 3. Select all records of women whose age is between 20 and 40 that work as technician."
   ]
  },
  {
   "cell_type": "code",
   "execution_count": 33,
   "id": "33c8cf9e-03d6-4be5-9163-1f50b8a8a5cc",
   "metadata": {},
   "outputs": [
    {
     "data": {
      "text/html": [
       "<div>\n",
       "<style scoped>\n",
       "    .dataframe tbody tr th:only-of-type {\n",
       "        vertical-align: middle;\n",
       "    }\n",
       "\n",
       "    .dataframe tbody tr th {\n",
       "        vertical-align: top;\n",
       "    }\n",
       "\n",
       "    .dataframe thead th {\n",
       "        text-align: right;\n",
       "    }\n",
       "</style>\n",
       "<table border=\"1\" class=\"dataframe\">\n",
       "  <thead>\n",
       "    <tr style=\"text-align: right;\">\n",
       "      <th></th>\n",
       "      <th>user_id</th>\n",
       "      <th>age</th>\n",
       "      <th>gender</th>\n",
       "      <th>occupation</th>\n",
       "      <th>zip_code</th>\n",
       "    </tr>\n",
       "  </thead>\n",
       "  <tbody>\n",
       "    <tr>\n",
       "      <th>937</th>\n",
       "      <td>938</td>\n",
       "      <td>38</td>\n",
       "      <td>F</td>\n",
       "      <td>technician</td>\n",
       "      <td>55038</td>\n",
       "    </tr>\n",
       "  </tbody>\n",
       "</table>\n",
       "</div>"
      ],
      "text/plain": [
       "     user_id  age gender  occupation zip_code\n",
       "937      938   38      F  technician    55038"
      ]
     },
     "execution_count": 33,
     "metadata": {},
     "output_type": "execute_result"
    }
   ],
   "source": [
    "users.query(\"gender=='F' & occupation=='technician' & age <= 40 & age >= 20\")"
   ]
  },
  {
   "cell_type": "code",
   "execution_count": 37,
   "id": "e1124bbb-4ba2-47ac-8a71-0606578233b9",
   "metadata": {},
   "outputs": [
    {
     "data": {
      "text/html": [
       "<div>\n",
       "<style scoped>\n",
       "    .dataframe tbody tr th:only-of-type {\n",
       "        vertical-align: middle;\n",
       "    }\n",
       "\n",
       "    .dataframe tbody tr th {\n",
       "        vertical-align: top;\n",
       "    }\n",
       "\n",
       "    .dataframe thead th {\n",
       "        text-align: right;\n",
       "    }\n",
       "</style>\n",
       "<table border=\"1\" class=\"dataframe\">\n",
       "  <thead>\n",
       "    <tr style=\"text-align: right;\">\n",
       "      <th></th>\n",
       "      <th>user_id</th>\n",
       "      <th>age</th>\n",
       "      <th>gender</th>\n",
       "      <th>occupation</th>\n",
       "      <th>zip_code</th>\n",
       "    </tr>\n",
       "  </thead>\n",
       "  <tbody>\n",
       "    <tr>\n",
       "      <th>937</th>\n",
       "      <td>938</td>\n",
       "      <td>38</td>\n",
       "      <td>F</td>\n",
       "      <td>technician</td>\n",
       "      <td>55038</td>\n",
       "    </tr>\n",
       "  </tbody>\n",
       "</table>\n",
       "</div>"
      ],
      "text/plain": [
       "     user_id  age gender  occupation zip_code\n",
       "937      938   38      F  technician    55038"
      ]
     },
     "execution_count": 37,
     "metadata": {},
     "output_type": "execute_result"
    }
   ],
   "source": [
    "Set1 = ((users.gender=='F') & (users.occupation=='technician') & (users.age.between(20,40)))\n",
    "users.loc[Set1]"
   ]
  },
  {
   "cell_type": "markdown",
   "id": "67e8e7ec-ddd5-4345-8307-5faa4964a919",
   "metadata": {},
   "source": [
    "#### Step 4. For each occupation, calculate the minimum and maximum ages"
   ]
  },
  {
   "cell_type": "code",
   "execution_count": 43,
   "id": "0284b7ad-cf0e-4e27-84aa-45d9fd60a56e",
   "metadata": {},
   "outputs": [
    {
     "data": {
      "text/html": [
       "<div>\n",
       "<style scoped>\n",
       "    .dataframe tbody tr th:only-of-type {\n",
       "        vertical-align: middle;\n",
       "    }\n",
       "\n",
       "    .dataframe tbody tr th {\n",
       "        vertical-align: top;\n",
       "    }\n",
       "\n",
       "    .dataframe thead tr th {\n",
       "        text-align: left;\n",
       "    }\n",
       "\n",
       "    .dataframe thead tr:last-of-type th {\n",
       "        text-align: right;\n",
       "    }\n",
       "</style>\n",
       "<table border=\"1\" class=\"dataframe\">\n",
       "  <thead>\n",
       "    <tr>\n",
       "      <th></th>\n",
       "      <th colspan=\"2\" halign=\"left\">age</th>\n",
       "    </tr>\n",
       "    <tr>\n",
       "      <th></th>\n",
       "      <th>min</th>\n",
       "      <th>max</th>\n",
       "    </tr>\n",
       "    <tr>\n",
       "      <th>occupation</th>\n",
       "      <th></th>\n",
       "      <th></th>\n",
       "    </tr>\n",
       "  </thead>\n",
       "  <tbody>\n",
       "    <tr>\n",
       "      <th>administrator</th>\n",
       "      <td>21</td>\n",
       "      <td>70</td>\n",
       "    </tr>\n",
       "    <tr>\n",
       "      <th>artist</th>\n",
       "      <td>19</td>\n",
       "      <td>48</td>\n",
       "    </tr>\n",
       "    <tr>\n",
       "      <th>doctor</th>\n",
       "      <td>28</td>\n",
       "      <td>64</td>\n",
       "    </tr>\n",
       "    <tr>\n",
       "      <th>educator</th>\n",
       "      <td>23</td>\n",
       "      <td>63</td>\n",
       "    </tr>\n",
       "    <tr>\n",
       "      <th>engineer</th>\n",
       "      <td>22</td>\n",
       "      <td>70</td>\n",
       "    </tr>\n",
       "    <tr>\n",
       "      <th>entertainment</th>\n",
       "      <td>15</td>\n",
       "      <td>50</td>\n",
       "    </tr>\n",
       "    <tr>\n",
       "      <th>executive</th>\n",
       "      <td>22</td>\n",
       "      <td>69</td>\n",
       "    </tr>\n",
       "    <tr>\n",
       "      <th>healthcare</th>\n",
       "      <td>22</td>\n",
       "      <td>62</td>\n",
       "    </tr>\n",
       "    <tr>\n",
       "      <th>homemaker</th>\n",
       "      <td>20</td>\n",
       "      <td>50</td>\n",
       "    </tr>\n",
       "    <tr>\n",
       "      <th>lawyer</th>\n",
       "      <td>21</td>\n",
       "      <td>53</td>\n",
       "    </tr>\n",
       "    <tr>\n",
       "      <th>librarian</th>\n",
       "      <td>23</td>\n",
       "      <td>69</td>\n",
       "    </tr>\n",
       "    <tr>\n",
       "      <th>marketing</th>\n",
       "      <td>24</td>\n",
       "      <td>55</td>\n",
       "    </tr>\n",
       "    <tr>\n",
       "      <th>none</th>\n",
       "      <td>11</td>\n",
       "      <td>55</td>\n",
       "    </tr>\n",
       "    <tr>\n",
       "      <th>other</th>\n",
       "      <td>13</td>\n",
       "      <td>64</td>\n",
       "    </tr>\n",
       "    <tr>\n",
       "      <th>programmer</th>\n",
       "      <td>20</td>\n",
       "      <td>63</td>\n",
       "    </tr>\n",
       "    <tr>\n",
       "      <th>retired</th>\n",
       "      <td>51</td>\n",
       "      <td>73</td>\n",
       "    </tr>\n",
       "    <tr>\n",
       "      <th>salesman</th>\n",
       "      <td>18</td>\n",
       "      <td>66</td>\n",
       "    </tr>\n",
       "    <tr>\n",
       "      <th>scientist</th>\n",
       "      <td>23</td>\n",
       "      <td>55</td>\n",
       "    </tr>\n",
       "    <tr>\n",
       "      <th>student</th>\n",
       "      <td>7</td>\n",
       "      <td>42</td>\n",
       "    </tr>\n",
       "    <tr>\n",
       "      <th>technician</th>\n",
       "      <td>21</td>\n",
       "      <td>55</td>\n",
       "    </tr>\n",
       "    <tr>\n",
       "      <th>writer</th>\n",
       "      <td>18</td>\n",
       "      <td>60</td>\n",
       "    </tr>\n",
       "  </tbody>\n",
       "</table>\n",
       "</div>"
      ],
      "text/plain": [
       "              age    \n",
       "              min max\n",
       "occupation           \n",
       "administrator  21  70\n",
       "artist         19  48\n",
       "doctor         28  64\n",
       "educator       23  63\n",
       "engineer       22  70\n",
       "entertainment  15  50\n",
       "executive      22  69\n",
       "healthcare     22  62\n",
       "homemaker      20  50\n",
       "lawyer         21  53\n",
       "librarian      23  69\n",
       "marketing      24  55\n",
       "none           11  55\n",
       "other          13  64\n",
       "programmer     20  63\n",
       "retired        51  73\n",
       "salesman       18  66\n",
       "scientist      23  55\n",
       "student         7  42\n",
       "technician     21  55\n",
       "writer         18  60"
      ]
     },
     "execution_count": 43,
     "metadata": {},
     "output_type": "execute_result"
    }
   ],
   "source": [
    "users.groupby(['occupation']).agg({'age':['min', 'max']})"
   ]
  },
  {
   "cell_type": "code",
   "execution_count": 44,
   "id": "f5ffb5c9-a6cb-45cf-adf1-aa722701652b",
   "metadata": {},
   "outputs": [
    {
     "data": {
      "text/html": [
       "<div>\n",
       "<style scoped>\n",
       "    .dataframe tbody tr th:only-of-type {\n",
       "        vertical-align: middle;\n",
       "    }\n",
       "\n",
       "    .dataframe tbody tr th {\n",
       "        vertical-align: top;\n",
       "    }\n",
       "\n",
       "    .dataframe thead th {\n",
       "        text-align: right;\n",
       "    }\n",
       "</style>\n",
       "<table border=\"1\" class=\"dataframe\">\n",
       "  <thead>\n",
       "    <tr style=\"text-align: right;\">\n",
       "      <th></th>\n",
       "      <th>age</th>\n",
       "    </tr>\n",
       "    <tr>\n",
       "      <th>occupation</th>\n",
       "      <th></th>\n",
       "    </tr>\n",
       "  </thead>\n",
       "  <tbody>\n",
       "    <tr>\n",
       "      <th>administrator</th>\n",
       "      <td>21</td>\n",
       "    </tr>\n",
       "    <tr>\n",
       "      <th>artist</th>\n",
       "      <td>19</td>\n",
       "    </tr>\n",
       "    <tr>\n",
       "      <th>doctor</th>\n",
       "      <td>28</td>\n",
       "    </tr>\n",
       "    <tr>\n",
       "      <th>educator</th>\n",
       "      <td>23</td>\n",
       "    </tr>\n",
       "    <tr>\n",
       "      <th>engineer</th>\n",
       "      <td>22</td>\n",
       "    </tr>\n",
       "    <tr>\n",
       "      <th>entertainment</th>\n",
       "      <td>15</td>\n",
       "    </tr>\n",
       "    <tr>\n",
       "      <th>executive</th>\n",
       "      <td>22</td>\n",
       "    </tr>\n",
       "    <tr>\n",
       "      <th>healthcare</th>\n",
       "      <td>22</td>\n",
       "    </tr>\n",
       "    <tr>\n",
       "      <th>homemaker</th>\n",
       "      <td>20</td>\n",
       "    </tr>\n",
       "    <tr>\n",
       "      <th>lawyer</th>\n",
       "      <td>21</td>\n",
       "    </tr>\n",
       "    <tr>\n",
       "      <th>librarian</th>\n",
       "      <td>23</td>\n",
       "    </tr>\n",
       "    <tr>\n",
       "      <th>marketing</th>\n",
       "      <td>24</td>\n",
       "    </tr>\n",
       "    <tr>\n",
       "      <th>none</th>\n",
       "      <td>11</td>\n",
       "    </tr>\n",
       "    <tr>\n",
       "      <th>other</th>\n",
       "      <td>13</td>\n",
       "    </tr>\n",
       "    <tr>\n",
       "      <th>programmer</th>\n",
       "      <td>20</td>\n",
       "    </tr>\n",
       "    <tr>\n",
       "      <th>retired</th>\n",
       "      <td>51</td>\n",
       "    </tr>\n",
       "    <tr>\n",
       "      <th>salesman</th>\n",
       "      <td>18</td>\n",
       "    </tr>\n",
       "    <tr>\n",
       "      <th>scientist</th>\n",
       "      <td>23</td>\n",
       "    </tr>\n",
       "    <tr>\n",
       "      <th>student</th>\n",
       "      <td>7</td>\n",
       "    </tr>\n",
       "    <tr>\n",
       "      <th>technician</th>\n",
       "      <td>21</td>\n",
       "    </tr>\n",
       "    <tr>\n",
       "      <th>writer</th>\n",
       "      <td>18</td>\n",
       "    </tr>\n",
       "  </tbody>\n",
       "</table>\n",
       "</div>"
      ],
      "text/plain": [
       "               age\n",
       "occupation        \n",
       "administrator   21\n",
       "artist          19\n",
       "doctor          28\n",
       "educator        23\n",
       "engineer        22\n",
       "entertainment   15\n",
       "executive       22\n",
       "healthcare      22\n",
       "homemaker       20\n",
       "lawyer          21\n",
       "librarian       23\n",
       "marketing       24\n",
       "none            11\n",
       "other           13\n",
       "programmer      20\n",
       "retired         51\n",
       "salesman        18\n",
       "scientist       23\n",
       "student          7\n",
       "technician      21\n",
       "writer          18"
      ]
     },
     "execution_count": 44,
     "metadata": {},
     "output_type": "execute_result"
    }
   ],
   "source": [
    "users.groupby(['occupation']).age.min().to_frame()"
   ]
  },
  {
   "cell_type": "markdown",
   "id": "4b5e213a-9b97-4799-af01-8b8d9f5bcf9e",
   "metadata": {},
   "source": [
    "## 3: VISUALIZATION"
   ]
  },
  {
   "cell_type": "markdown",
   "id": "13f7e10b-f4e5-4401-a8a9-4b8d00a661b2",
   "metadata": {},
   "source": [
    "## 3: VISUALIZATION"
   ]
  },
  {
   "cell_type": "markdown",
   "id": "72460301-c2a2-4898-9144-eeddcc1ca121",
   "metadata": {},
   "source": [
    "#### Step 1. Import the necessary libraries (seaborn, matplotlib)"
   ]
  },
  {
   "cell_type": "code",
   "execution_count": 45,
   "id": "67297fbf-d98e-48f1-9c33-2fc5b65467f4",
   "metadata": {},
   "outputs": [
    {
     "data": {
      "text/html": [
       "<div>\n",
       "<style scoped>\n",
       "    .dataframe tbody tr th:only-of-type {\n",
       "        vertical-align: middle;\n",
       "    }\n",
       "\n",
       "    .dataframe tbody tr th {\n",
       "        vertical-align: top;\n",
       "    }\n",
       "\n",
       "    .dataframe thead th {\n",
       "        text-align: right;\n",
       "    }\n",
       "</style>\n",
       "<table border=\"1\" class=\"dataframe\">\n",
       "  <thead>\n",
       "    <tr style=\"text-align: right;\">\n",
       "      <th></th>\n",
       "      <th>age</th>\n",
       "    </tr>\n",
       "    <tr>\n",
       "      <th>occupation</th>\n",
       "      <th></th>\n",
       "    </tr>\n",
       "  </thead>\n",
       "  <tbody>\n",
       "    <tr>\n",
       "      <th>administrator</th>\n",
       "      <td>70</td>\n",
       "    </tr>\n",
       "    <tr>\n",
       "      <th>artist</th>\n",
       "      <td>48</td>\n",
       "    </tr>\n",
       "    <tr>\n",
       "      <th>doctor</th>\n",
       "      <td>64</td>\n",
       "    </tr>\n",
       "    <tr>\n",
       "      <th>educator</th>\n",
       "      <td>63</td>\n",
       "    </tr>\n",
       "    <tr>\n",
       "      <th>engineer</th>\n",
       "      <td>70</td>\n",
       "    </tr>\n",
       "    <tr>\n",
       "      <th>entertainment</th>\n",
       "      <td>50</td>\n",
       "    </tr>\n",
       "    <tr>\n",
       "      <th>executive</th>\n",
       "      <td>69</td>\n",
       "    </tr>\n",
       "    <tr>\n",
       "      <th>healthcare</th>\n",
       "      <td>62</td>\n",
       "    </tr>\n",
       "    <tr>\n",
       "      <th>homemaker</th>\n",
       "      <td>50</td>\n",
       "    </tr>\n",
       "    <tr>\n",
       "      <th>lawyer</th>\n",
       "      <td>53</td>\n",
       "    </tr>\n",
       "    <tr>\n",
       "      <th>librarian</th>\n",
       "      <td>69</td>\n",
       "    </tr>\n",
       "    <tr>\n",
       "      <th>marketing</th>\n",
       "      <td>55</td>\n",
       "    </tr>\n",
       "    <tr>\n",
       "      <th>none</th>\n",
       "      <td>55</td>\n",
       "    </tr>\n",
       "    <tr>\n",
       "      <th>other</th>\n",
       "      <td>64</td>\n",
       "    </tr>\n",
       "    <tr>\n",
       "      <th>programmer</th>\n",
       "      <td>63</td>\n",
       "    </tr>\n",
       "    <tr>\n",
       "      <th>retired</th>\n",
       "      <td>73</td>\n",
       "    </tr>\n",
       "    <tr>\n",
       "      <th>salesman</th>\n",
       "      <td>66</td>\n",
       "    </tr>\n",
       "    <tr>\n",
       "      <th>scientist</th>\n",
       "      <td>55</td>\n",
       "    </tr>\n",
       "    <tr>\n",
       "      <th>student</th>\n",
       "      <td>42</td>\n",
       "    </tr>\n",
       "    <tr>\n",
       "      <th>technician</th>\n",
       "      <td>55</td>\n",
       "    </tr>\n",
       "    <tr>\n",
       "      <th>writer</th>\n",
       "      <td>60</td>\n",
       "    </tr>\n",
       "  </tbody>\n",
       "</table>\n",
       "</div>"
      ],
      "text/plain": [
       "               age\n",
       "occupation        \n",
       "administrator   70\n",
       "artist          48\n",
       "doctor          64\n",
       "educator        63\n",
       "engineer        70\n",
       "entertainment   50\n",
       "executive       69\n",
       "healthcare      62\n",
       "homemaker       50\n",
       "lawyer          53\n",
       "librarian       69\n",
       "marketing       55\n",
       "none            55\n",
       "other           64\n",
       "programmer      63\n",
       "retired         73\n",
       "salesman        66\n",
       "scientist       55\n",
       "student         42\n",
       "technician      55\n",
       "writer          60"
      ]
     },
     "execution_count": 45,
     "metadata": {},
     "output_type": "execute_result"
    }
   ],
   "source": [
    "users.groupby(['occupation']).age.max().to_frame()"
   ]
  },
  {
   "cell_type": "markdown",
   "id": "de778d06-69d7-4f78-9b12-8a6e6545f211",
   "metadata": {},
   "source": [
    "#### Step 2. Import the dataset `titanic` from `sns.load_dataset()` and assign it to a variable called `titanic`."
   ]
  },
  {
   "cell_type": "code",
   "execution_count": 46,
   "id": "bebc827d-a940-431d-b0fe-e1c48de8c820",
   "metadata": {},
   "outputs": [],
   "source": [
    "import seaborn as sns\n",
    "import matplotlib.pyplot as plt"
   ]
  },
  {
   "cell_type": "code",
   "execution_count": null,
   "id": "1540923c-c0c9-4b86-bbf8-0131580686b4",
   "metadata": {},
   "outputs": [],
   "source": []
  },
  {
   "cell_type": "markdown",
   "id": "ec1d0871-2ae6-4349-b118-e48c457ed1b1",
   "metadata": {},
   "source": [
    "#### Step 3: Plot distribution of 'fare' using `sns.histplot()`"
   ]
  },
  {
   "cell_type": "code",
   "execution_count": null,
   "id": "d9ca3e9b-a42b-4a33-99de-97615c2817b4",
   "metadata": {},
   "outputs": [],
   "source": []
  },
  {
   "cell_type": "markdown",
   "id": "7bdbd1a2-c6ff-4541-aaa2-27be3d7b2bd5",
   "metadata": {},
   "source": [
    "#### Step 4: Plot distribution of 'age' with 3 difference `class` using `sns.boxplot()`"
   ]
  },
  {
   "cell_type": "code",
   "execution_count": null,
   "id": "a619c6af-c2be-4a00-b0de-155964ea08f8",
   "metadata": {},
   "outputs": [],
   "source": []
  },
  {
   "cell_type": "markdown",
   "id": "b97598b3-2afe-4beb-9e49-087f6990bd40",
   "metadata": {},
   "source": [
    "#### Step 5: Plot correlation matrix using `sns.heatmap()`"
   ]
  },
  {
   "cell_type": "code",
   "execution_count": null,
   "id": "55a09409-f950-46e3-863f-86bb6534aa70",
   "metadata": {},
   "outputs": [],
   "source": []
  },
  {
   "cell_type": "markdown",
   "id": "8312b75e-d27b-46ee-a11c-44ac3d79501f",
   "metadata": {},
   "source": [
    "## 4: MACHINE LEARNING with PIMA INDIANS DIABETES DATASET"
   ]
  },
  {
   "cell_type": "markdown",
   "id": "bb938283-2f17-4200-a7ad-5950c90c6fb0",
   "metadata": {},
   "source": [
    "The Pima Indian Diabetes Dataset, originally from the National Institute of Diabetes and Digestive and Kidney Diseases, contains information of 768 women from a population near Phoenix, Arizona, USA. The outcome tested was Diabetes, 258 tested positive and 500 tested negative. Therefore, there is one target (dependent) variable `Outcome` and the following attributes (TYNECKI, 2018):\n",
    "\n",
    "|        Features        |Descriptions|\n",
    "|           -            |-|\n",
    "|Pregnancies             |Number of times pregnant|\n",
    "|Glucose                 |Oral glucose tolerance test - OGTT (two hour plasma glucose concentration after 75g anhydrous glucose in mg/dl)|\n",
    "|BloodPressure           |Blood Pressure (Diastolic Blood Pressure in mmHg)|\n",
    "|SkinThickness           |Skin Thickness (Triceps skin fold thickness in mm)|\n",
    "|Insulin                 |Insulin (2 h serum insulin in mu U/ml)|\n",
    "|BMI                     |BMI (Body Mass Index in kg/m2)|\n",
    "|DiabetesPedigreeFunction| Pedigree Diabetes Function ('function that represents how likely they are to get the disease by extrapolating from their ancestor’s history')|\n",
    "|Age                     |Age (years)|\n",
    "\n",
    "\n",
    "The objective of this capstone project is to use Machine Learning (e.g, logistic regression, svm, random forest, ...) to predict whether a patient has diabetes or not (binary classification) given 7 features mentionned above. "
   ]
  },
  {
   "cell_type": "markdown",
   "id": "3a9a815f-42fe-43cc-a32c-09d97b21732e",
   "metadata": {},
   "source": [
    "#### Step 1. Import the necessary libraries (pandas, numpy, seaborn, sklearn)"
   ]
  },
  {
   "cell_type": "code",
   "execution_count": null,
   "id": "8da144fc-9610-4569-8d88-acdf39801dd6",
   "metadata": {},
   "outputs": [],
   "source": []
  },
  {
   "cell_type": "markdown",
   "id": "3b56f05d-dac1-4f2b-a77e-cd66385096ac",
   "metadata": {},
   "source": [
    "#### Step 2. Import the dataset from this [address](https://raw.githubusercontent.com/npradaschnor/Pima-Indians-Diabetes-Dataset/master/diabetes.csv) and assign it to a variable called `pima`. "
   ]
  },
  {
   "cell_type": "code",
   "execution_count": null,
   "id": "b84c026c-d951-4de6-a474-e305eee21d67",
   "metadata": {},
   "outputs": [],
   "source": []
  },
  {
   "cell_type": "markdown",
   "id": "74ff6ad6-1f2b-4228-9987-e0f04982668c",
   "metadata": {},
   "source": [
    "#### Step 3. Check the DataFrame Information, Descriptive Statistics and Analysis of dataset\n",
    "**Hints**: Check dimension of the data, data type for each attribute, describe the distribution for each attribute, the percentage of missing values, detect ouliers, ..."
   ]
  },
  {
   "cell_type": "code",
   "execution_count": null,
   "id": "48fdf820-afbb-4889-a561-44e0fcf1b9e3",
   "metadata": {},
   "outputs": [],
   "source": []
  },
  {
   "cell_type": "markdown",
   "id": "21f0ff27-aece-4f54-a159-41e97e066c96",
   "metadata": {},
   "source": [
    "#### Step 4. EDA & Visualization \n",
    "**Hints**: Plot attributes distributions, correlation, pairplot to find insights in attributes combinations, ..."
   ]
  },
  {
   "cell_type": "code",
   "execution_count": null,
   "id": "4ae237e6-9674-4748-a493-3eea47401c7b",
   "metadata": {},
   "outputs": [],
   "source": []
  },
  {
   "cell_type": "markdown",
   "id": "dea236b3-4d06-4b78-b6fa-4000abfe988a",
   "metadata": {},
   "source": [
    "#### Step 5. Feature Engineering\n",
    "**Hints**: Handle missing values, outliers, transform original attributes to meaningful features,..."
   ]
  },
  {
   "cell_type": "code",
   "execution_count": null,
   "id": "d7522db5-ea11-484e-9949-b249a6cdac29",
   "metadata": {},
   "outputs": [],
   "source": []
  },
  {
   "cell_type": "markdown",
   "id": "59f22895-59f4-45a6-a236-07d8204ea614",
   "metadata": {},
   "source": [
    "#### Step 6. Train models\n",
    "**Hints**: `LogisticRegression`, `SVM`,...\n",
    "\n"
   ]
  },
  {
   "cell_type": "code",
   "execution_count": null,
   "id": "df5596d1-8817-40e9-9485-2b372c9a6b9b",
   "metadata": {},
   "outputs": [],
   "source": []
  },
  {
   "cell_type": "markdown",
   "id": "eba01f39-18ef-4ac8-b206-673393c44ffe",
   "metadata": {},
   "source": [
    "#### Step 7. Predict on new data"
   ]
  },
  {
   "cell_type": "code",
   "execution_count": null,
   "id": "7ba4b87c-f9e9-4a37-8cc6-a9f80f295fd0",
   "metadata": {},
   "outputs": [],
   "source": []
  },
  {
   "cell_type": "markdown",
   "id": "6ae1c0e1-60a5-4b9b-82ec-6479c824782f",
   "metadata": {},
   "source": [
    "#### Step 8. Evaluate the model\n",
    "**Hints**: Suggested metrics include `accuracy_score`, `confusion_matrix`,`classification_report`,..."
   ]
  },
  {
   "cell_type": "code",
   "execution_count": null,
   "id": "4b96eccf-69b0-4505-9661-7e73755b530c",
   "metadata": {},
   "outputs": [],
   "source": []
  }
 ],
 "metadata": {
  "kernelspec": {
   "display_name": "Python 3 (ipykernel)",
   "language": "python",
   "name": "python3"
  },
  "language_info": {
   "codemirror_mode": {
    "name": "ipython",
    "version": 3
   },
   "file_extension": ".py",
   "mimetype": "text/x-python",
   "name": "python",
   "nbconvert_exporter": "python",
   "pygments_lexer": "ipython3",
   "version": "3.7.11"
  }
 },
 "nbformat": 4,
 "nbformat_minor": 5
}
