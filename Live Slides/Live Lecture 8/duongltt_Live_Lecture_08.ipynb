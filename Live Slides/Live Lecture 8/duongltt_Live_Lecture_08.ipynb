{
 "cells": [
  {
   "cell_type": "markdown",
   "id": "e48e4783-3013-4b8e-8653-b1db847e1741",
   "metadata": {},
   "source": [
    "# Bài 8: Giới thiệu về Học máy"
   ]
  },
  {
   "cell_type": "markdown",
   "id": "71c8ded8-9527-4c5b-ad9f-2940de08854e",
   "metadata": {},
   "source": [
    "## I. HỌC MÁY LÀ GÌ?\n",
    "\n",
    "### 1. Lịch sử phát triển\n",
    "\n",
    "![](http://www.metal-am.com/wp-content/uploads/sites/4/2020/12/fig-01-copy-1024x630.jpg)"
   ]
  },
  {
   "cell_type": "markdown",
   "id": "2687d9a4-1aaa-4636-b27e-15d73bc5055e",
   "metadata": {},
   "source": [
    "### 2. Học máy là gì\n",
    "\n",
    "> Machine learning is a set of methods that computers use to make and improve predictions or behaviors based on data.\n",
    "\n",
    "<center> <img src=\"https://christophm.github.io/interpretable-ml-book/images/programing-ml.png\" width=\"500\"/></center>\n",
    "\n",
    "|Input|Types|Output|\n",
    "|-|-|-|\n",
    "|Data, Rules|Classical Programming|Answers|\n",
    "|Data (with or without Answers)|Machine Learning|Rules|"
   ]
  },
  {
   "cell_type": "markdown",
   "id": "09d83144-4677-410c-b737-f7011a92c462",
   "metadata": {},
   "source": [
    "Tham khảo các khoá học về Học máy và Học sâu tại: \n",
    "- [Machine Learning](https://www.coursera.org/learn/machine-learning)\n",
    "- [Deep Learning](https://www.coursera.org/specializations/deep-learning)"
   ]
  },
  {
   "cell_type": "markdown",
   "id": "9ba92fe6-9e24-4ffc-b193-edebe6f40546",
   "metadata": {},
   "source": [
    "## II. CÁC KIỂU BÀI TOÁN TRONG HỌC MÁY"
   ]
  },
  {
   "cell_type": "markdown",
   "id": "4c49aee8-9df9-46ee-9b41-7f6536e62cca",
   "metadata": {},
   "source": [
    "<center> <img src=\"https://www.7wdata.be/wp-content/uploads/2020/06/1FUZS9K4JPqzfXDcC83BQTw.png\" alt=\"anatomy\" width=\"500\"/></center>\n"
   ]
  },
  {
   "cell_type": "markdown",
   "id": "389d83c7-2c33-4883-93cb-7d2649e6f6dc",
   "metadata": {},
   "source": [
    "### 2.1 Supervised Learning (Học máy có giám sát)\n",
    "\n",
    "- Là phương pháp sử dụng những dữ liệu đã được gán nhãn từ trước để suy luận ra quan hệ giữa đầu vào và đầu ra. \n",
    "- Những bài toán có dữ liệu lịch sử và có nhãn cho từng dữ liệu (credit scoring - khách từng trả nợ và quịt dựa trên thông tin trong quá khứ)\n",
    "    - Ma trận X: tập mẫu (samples = examples = observations = records)\n",
    "    - Ma trận Y: tập nhãn\n",
    "- Gồm 2 loại:\n",
    "    - **Classification** (Bài toán phân loại) xác định 1 hoặc nhiều nhãn cho các mẫu \n",
    "        - Binary (Nhị phân) classification\n",
    "        - Multi-class classification\n",
    "        - Thuật toán: Logistic Regression, Decision Trees, SVM, Naive Bayes, K-NN, ...\n",
    "    - **Regression** (Bài toán hồi quy)\n",
    "        - Thuật toán: Linear Regression, Ridge/Lasso Regression, ...\n",
    "    \n",
    "### 2.2 Unsupervised Learning (Học máy không có giám sát)\n",
    "\n",
    "- Khác với học có giám sát, học phi giám sát sử dụng những dữ liệu chưa được gán nhãn từ trước để suy luận. \n",
    "- Có ma trận Y mà chỉ có ma trận X (các quan sát)\n",
    "- Gồm 2 loại:\n",
    "    - Clustering (phân cụm)\n",
    "        - Thuật toán: K-Means, DBScan, Mean-Shift, ...\n",
    "    - Dimension Reduction (giảm chiều dữ liệu) \n",
    "        - Thuật toán: t-SNE, PCA, SVD, LDA, ...\n",
    "\n",
    "\n",
    "![](https://scikit-learn.org/stable/_static/ml_map.png)\n",
    "\n",
    "\n",
    "### 2.3 Reinforcement Learning (Học tăng cường)\n",
    "\n",
    "- Phương pháp học tăng cường tập trung vào việc làm sao để cho 1 tác tử trong môi trường có thế hành động sao cho lấy được phần thưởng nhiều nhất có thể. Khác với học có giám sát nó không có cặp dữ liệu gán nhãn trước làm đầu vào và cũng không có đánh giá các hành động là đúng hay sai. \n",
    "\n",
    "- Ví dụ huấn luyện 1 con khỉ, con khỉ làm đúng thì mình thưởng, sai thì mình tét mông. Sử dụng toán học để tạo ra những phần thưởng huấn luyện để con khỉ biết làm đúng theo mong muốn của mình. E.g: AlphaGo thắng trong cờ vua, Xe tự hành Tesla của Elon Musk...\n",
    "\n",
    "- Thuật toán: Q-Learning, Deep Q-Network, ...\n",
    "\n",
    "Đây sẽ là ngành mũi nhọn, tuy nhiên phần toán bên dưới cũng như code rất nặng và khó, hiện tại nhiều bên đang nghiên cứu nhưng thực sự ở thời điểm hiện tại ở VN chưa có 1 sản phẩm cụ thể nào đã đưa vào production.\n"
   ]
  }
 ],
 "metadata": {
  "kernelspec": {
   "display_name": "Python 3",
   "language": "python",
   "name": "python3"
  },
  "language_info": {
   "codemirror_mode": {
    "name": "ipython",
    "version": 3
   },
   "file_extension": ".py",
   "mimetype": "text/x-python",
   "name": "python",
   "nbconvert_exporter": "python",
   "pygments_lexer": "ipython3",
   "version": "3.8.8"
  }
 },
 "nbformat": 4,
 "nbformat_minor": 5
}
