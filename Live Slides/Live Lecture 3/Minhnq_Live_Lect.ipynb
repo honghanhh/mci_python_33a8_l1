{
 "cells": [
  {
   "cell_type": "markdown",
   "id": "d57db01c-f2e3-45fa-9fd4-0ffb1fd4d0c9",
   "metadata": {},
   "source": [
    "# BÀI 3: GIỚI THIỆU VỀ PYTHON (tiếp theo)"
   ]
  },
  {
   "cell_type": "markdown",
   "id": "9633b1c3-b8fc-4c83-a938-f4bae626b4a8",
   "metadata": {},
   "source": [
    "![](https://laptrinhcanban.com/python/nhap-mon-lap-trinh-python/gioi-thieu-python/python-la-gi/Python.jpg)"
   ]
  },
  {
   "cell_type": "markdown",
   "id": "6bc4aef1-2a45-4a17-91f2-0f402e83c013",
   "metadata": {},
   "source": [
    "## 1. Câu lệnh tuần tự (Sequential)\n",
    "programming flow = control flow"
   ]
  },
  {
   "cell_type": "code",
   "execution_count": null,
   "id": "7bcb9b16-dacf-44f3-a0fc-7bec9c205d39",
   "metadata": {},
   "outputs": [],
   "source": []
  },
  {
   "cell_type": "markdown",
   "id": "8788aded-6846-4aa4-ad65-ab542c0b444c",
   "metadata": {},
   "source": [
    "***Đố vui***: In ra kết quả như sau:\n",
    "```\n",
    "*\n",
    "**\n",
    "***\n",
    "****\n",
    "*****\n",
    "```"
   ]
  },
  {
   "cell_type": "code",
   "execution_count": null,
   "id": "5fec4555-bbf9-4e9e-9200-57f2761df831",
   "metadata": {},
   "outputs": [],
   "source": []
  },
  {
   "cell_type": "markdown",
   "id": "a966f233-1ed7-4dbd-bc8a-5fce3e640dc6",
   "metadata": {},
   "source": [
    "## 2. Vòng lặp"
   ]
  },
  {
   "cell_type": "markdown",
   "id": "0910a9cd-83d4-476e-b817-dca0c4e873fd",
   "metadata": {},
   "source": [
    "### 2.1 Vòng lặp `for`\n",
    "\n",
    "- Cú pháp:\n",
    "    - Cách 1:\n",
    "```\n",
    "for value in iterable:\n",
    "    business logic \n",
    "```\n",
    "\n",
    "    - Cách 2:\n",
    "```\n",
    "for index in range(len(iterable)):\n",
    "    business logic\n",
    "```"
   ]
  },
  {
   "cell_type": "code",
   "execution_count": null,
   "id": "3b89ac56-4962-47f1-bd9e-8bb0021a7cb9",
   "metadata": {},
   "outputs": [],
   "source": []
  },
  {
   "cell_type": "markdown",
   "id": "0f367140-6b04-43fc-b0ff-8e85b2b64e44",
   "metadata": {},
   "source": [
    "**Bài tập**:\n",
    "\n",
    "Cho 1 danh sách `li` gồm 10 phần tử từ 1 đến 10, trả về danh sách mới `li1` sao cho mỗi phần tử trong `li1` là bình phương của phần tử có trong `li` sử dụng `for`. "
   ]
  },
  {
   "cell_type": "code",
   "execution_count": 1,
   "id": "0e1c08a8-cdfb-498f-82a4-f31507382a77",
   "metadata": {},
   "outputs": [
    {
     "data": {
      "text/plain": [
       "[1, 4, 9, 16, 25, 36, 49, 64, 81, 100]"
      ]
     },
     "execution_count": 1,
     "metadata": {},
     "output_type": "execute_result"
    }
   ],
   "source": [
    "li = list(range(1, 11))\n",
    "li1 = []\n",
    "for i in range(len(li)):\n",
    "    li1.append(li[i]**2)\n",
    "li1"
   ]
  },
  {
   "cell_type": "markdown",
   "id": "be1bc1ce-3d5d-41fb-93fd-20658f9b0f77",
   "metadata": {},
   "source": [
    "### 2.2 Vòng lặp `while`"
   ]
  },
  {
   "cell_type": "markdown",
   "id": "9c0148c4-6dfe-47c5-89c5-0d57eaa9d80e",
   "metadata": {},
   "source": [
    "- Cú pháp\n",
    "```\n",
    "while condition(True/False):\n",
    "    business logic\n",
    "```"
   ]
  },
  {
   "cell_type": "code",
   "execution_count": 3,
   "id": "e7666d88-b27f-4551-981e-6419f0edd169",
   "metadata": {},
   "outputs": [
    {
     "data": {
      "text/plain": [
       "[4, 9, 16, 25, 36, 49, 64, 81, 100]"
      ]
     },
     "execution_count": 3,
     "metadata": {},
     "output_type": "execute_result"
    }
   ],
   "source": [
    "li1 = list(range(1, 11))\n",
    "li2 = []\n",
    "i = 1\n",
    "while i < len(li):\n",
    "    li2.append(li[i]**2)\n",
    "    i = i + 1\n",
    "li2"
   ]
  },
  {
   "cell_type": "markdown",
   "id": "6784a894-d0db-49ca-9350-2e09fcf83779",
   "metadata": {},
   "source": [
    "**Bài tập**:\n",
    "\n",
    "Cho 1 danh sách `li` gồm 10 phần tử từ 1 đến 10, trả về danh sách mới `li1` sao cho mỗi phần tử trong `li1` là bình phương của phần tử có trong `li` sử dụng `while`. "
   ]
  },
  {
   "cell_type": "code",
   "execution_count": null,
   "id": "b05f681b-77b1-4b12-bbe3-d2969d49be2e",
   "metadata": {},
   "outputs": [],
   "source": []
  },
  {
   "cell_type": "markdown",
   "id": "c6d75da2-0c83-49b0-a057-96efa4797070",
   "metadata": {},
   "source": [
    "## 3. Câu lệnh điều kiện"
   ]
  },
  {
   "cell_type": "markdown",
   "id": "34c169d7-aaaf-4f84-933a-08de9cd438d1",
   "metadata": {},
   "source": [
    "- Cú pháp:\n",
    "```\n",
    "if condition(True/False):\n",
    "    business logic\n",
    "elif condition(True/False): # --> optional\n",
    "    business logic\n",
    "elif condition(True/False): # --> optional\n",
    "    business logic\n",
    "elif condition(True/False): # --> optional\n",
    "    business logic\n",
    "    ....\n",
    "else:\n",
    "    business logic # --> optional\n",
    "```"
   ]
  },
  {
   "cell_type": "code",
   "execution_count": 23,
   "id": "22569a61-4ea8-4792-a1a3-fa90675d3842",
   "metadata": {},
   "outputs": [
    {
     "name": "stdout",
     "output_type": "stream",
     "text": [
      "Cho vay\n"
     ]
    }
   ],
   "source": [
    "import random\n",
    "age = random.randrange(1, 90)\n",
    "if age < 18:\n",
    "    print('Tuoi cua khach hang la:', age)\n",
    "    print('Khong cho vay')\n",
    "else:\n",
    "    print('Cho vay')"
   ]
  },
  {
   "cell_type": "markdown",
   "id": "634e98c5-182a-4567-9a03-52142c94a18f",
   "metadata": {},
   "source": [
    "## 4. Hàm "
   ]
  },
  {
   "cell_type": "markdown",
   "id": "e3706c05-e506-464c-ab3d-dc3945f006ca",
   "metadata": {},
   "source": [
    "- Cú pháp\n",
    "```\n",
    "def function_name(arg1, arg2, ...):\n",
    "    business logic\n",
    "    return #-->  optional\n",
    "```"
   ]
  },
  {
   "cell_type": "code",
   "execution_count": 31,
   "id": "9c32625f-dd14-4d7b-be82-82cd021144a3",
   "metadata": {},
   "outputs": [],
   "source": [
    "def find_max(li):\n",
    "    a = 0\n",
    "    for i in range(len(li)):\n",
    "        if li[i] > li[i - 1]:\n",
    "            a = li[i]\n",
    "    print(a)"
   ]
  },
  {
   "cell_type": "code",
   "execution_count": 30,
   "id": "4f8ad646-55f7-4f1c-83bc-ea41d404a399",
   "metadata": {},
   "outputs": [
    {
     "name": "stdout",
     "output_type": "stream",
     "text": [
      "99\n"
     ]
    }
   ],
   "source": [
    "li = list(range(1, 100))\n",
    "find_max(li)"
   ]
  },
  {
   "cell_type": "code",
   "execution_count": 9,
   "id": "d4ddef3d-d944-4634-a08e-6688a73f3863",
   "metadata": {},
   "outputs": [
    {
     "name": "stdout",
     "output_type": "stream",
     "text": [
      "199\n"
     ]
    }
   ],
   "source": [
    "li = list(range(100,200))\n",
    "find_max(li)"
   ]
  },
  {
   "cell_type": "markdown",
   "id": "e2451dd0-5d1b-4f37-9b5c-e1629d710ba1",
   "metadata": {},
   "source": [
    "**Bài tập**:\n",
    "\n",
    "Viết 1 hàm tìm giá trị lớn nhất của 1 list các số nguyên. "
   ]
  },
  {
   "cell_type": "code",
   "execution_count": null,
   "id": "d4d3e3d5-7dc6-4811-be14-72af80d30830",
   "metadata": {},
   "outputs": [
    {
     "name": "stdout",
     "output_type": "stream",
     "text": [
      "[1, 2, 3, 4, 5, 6, 7, 8, 9]\n"
     ]
    }
   ],
   "source": [
    "li = list(range(1,10))\n",
    "print(li)"
   ]
  },
  {
   "cell_type": "code",
   "execution_count": 7,
   "id": "163fd548-aa10-4558-9c9a-7171dde2741d",
   "metadata": {},
   "outputs": [
    {
     "ename": "SyntaxError",
     "evalue": "invalid syntax (<ipython-input-10-d3d517e749ce>, line 1)",
     "output_type": "error",
     "traceback": [
      "\u001b[1;36m  File \u001b[1;32m\"<ipython-input-10-d3d517e749ce>\"\u001b[1;36m, line \u001b[1;32m1\u001b[0m\n\u001b[1;33m    ef find_max(li):\u001b[0m\n\u001b[1;37m              ^\u001b[0m\n\u001b[1;31mSyntaxError\u001b[0m\u001b[1;31m:\u001b[0m invalid syntax\n"
     ]
    }
   ],
   "source": []
  },
  {
   "cell_type": "markdown",
   "id": "1186e6fa-3ca7-4071-b394-edf209995d7d",
   "metadata": {},
   "source": [
    "### **Hàm vô danh**. \n",
    "- Cú pháp:\n",
    "`lambda parameters: business logic`\n",
    "\n"
   ]
  },
  {
   "cell_type": "code",
   "execution_count": 32,
   "id": "14b42a61-272f-4917-9b4a-a6c9887c8095",
   "metadata": {},
   "outputs": [
    {
     "data": {
      "text/plain": [
       "125"
      ]
     },
     "execution_count": 32,
     "metadata": {},
     "output_type": "execute_result"
    }
   ],
   "source": [
    "square1 = lambda x: x**3\n",
    "square1(5)"
   ]
  },
  {
   "cell_type": "markdown",
   "id": "42ef509f-6696-489f-baf3-92e9d4f9668a",
   "metadata": {},
   "source": [
    "## 5. Bao hàm \n",
    "\n",
    "- Cú pháp:\n",
    "    - List comprehension: `[expression for variable in iterable]`\n",
    "    - Set comprehension: `{expression for variable in iterable}`\n",
    "    - Tuple comprehension: `tuple(expression for variable in iterable)`\n",
    "    - Dictionary comprehension: `{key:value for variable in iterable]`\n",
    "    \n",
    "Lưu ý: ta có thể thêm các điều kiện thông qua câu lệnh điều kiện `if else` với bao hàm, ví dụ cú pháp với list comprehension:\n",
    "- `[expression for variable in iterable if condition]`\n",
    "hoặc\n",
    "- `[expression if condition else else-expression for variable in iterable ]`"
   ]
  },
  {
   "cell_type": "code",
   "execution_count": 33,
   "id": "e5c47ac6-870d-41db-a96b-9c26c120fb2d",
   "metadata": {},
   "outputs": [],
   "source": [
    "li = [1, 25, 36, 98]"
   ]
  },
  {
   "cell_type": "markdown",
   "id": "b3c37f58-a05b-459d-9075-afe0b6b10bf5",
   "metadata": {},
   "source": [
    "Trong các bài tiếp theo, chúng ta sẽ cùng nhau tìm hiểu 1 số thư viện bổ trợ cho Python trong việc thao tác, xử lý, phân tích, và trực quan hoá dữ liệu."
   ]
  }
 ],
 "metadata": {
  "kernelspec": {
   "display_name": "Python 3",
   "language": "python",
   "name": "python3"
  },
  "language_info": {
   "codemirror_mode": {
    "name": "ipython",
    "version": 3
   },
   "file_extension": ".py",
   "mimetype": "text/x-python",
   "name": "python",
   "nbconvert_exporter": "python",
   "pygments_lexer": "ipython3",
   "version": "3.7.11"
  }
 },
 "nbformat": 4,
 "nbformat_minor": 5
}
