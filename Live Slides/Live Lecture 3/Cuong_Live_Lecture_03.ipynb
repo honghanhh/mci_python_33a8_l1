{
 "cells": [
  {
   "cell_type": "markdown",
   "id": "47020c18",
   "metadata": {},
   "source": [
    "# BÀI 3: GIỚI THIỆU VỀ PYTHON (tiếp theo)"
   ]
  },
  {
   "cell_type": "markdown",
   "id": "0c0aac03",
   "metadata": {},
   "source": [
    "![](https://laptrinhcanban.com/python/nhap-mon-lap-trinh-python/gioi-thieu-python/python-la-gi/Python.jpg)"
   ]
  },
  {
   "cell_type": "markdown",
   "id": "3cb7690e",
   "metadata": {},
   "source": [
    "# PROGRAMMING FLOW = CONTROL FLOW\n",
    "## 1. Câu lệnh tuần tự (Sequential)"
   ]
  },
  {
   "cell_type": "code",
   "execution_count": null,
   "id": "c69d65da",
   "metadata": {},
   "outputs": [],
   "source": []
  },
  {
   "cell_type": "markdown",
   "id": "3634e6b1",
   "metadata": {},
   "source": [
    "***Đố vui***: In ra kết quả như sau:\n",
    "```\n",
    "*\n",
    "**\n",
    "***\n",
    "****\n",
    "*****\n",
    "```"
   ]
  },
  {
   "cell_type": "markdown",
   "id": "336bed63",
   "metadata": {},
   "source": [
    "Cách 1:"
   ]
  },
  {
   "cell_type": "code",
   "execution_count": 1,
   "id": "888ad619",
   "metadata": {},
   "outputs": [
    {
     "name": "stdout",
     "output_type": "stream",
     "text": [
      "*\n",
      "**\n",
      "***\n",
      "****\n",
      "*****\n"
     ]
    }
   ],
   "source": [
    "print(\"*\")\n",
    "print(\"**\")\n",
    "print(\"***\")\n",
    "print(\"****\")\n",
    "print(\"*****\")"
   ]
  },
  {
   "cell_type": "markdown",
   "id": "3abe7e5c",
   "metadata": {},
   "source": [
    "Cách 2:"
   ]
  },
  {
   "cell_type": "code",
   "execution_count": 2,
   "id": "ca4c913a",
   "metadata": {},
   "outputs": [
    {
     "name": "stdout",
     "output_type": "stream",
     "text": [
      "\n",
      "*\n",
      "**\n",
      "***\n",
      "****\n",
      "*****\n",
      "\n"
     ]
    }
   ],
   "source": [
    "print(\"\"\"\n",
    "*\n",
    "**\n",
    "***\n",
    "****\n",
    "*****\n",
    "\"\"\")"
   ]
  },
  {
   "cell_type": "markdown",
   "id": "9b901bcb",
   "metadata": {},
   "source": [
    "Cách 3:"
   ]
  },
  {
   "cell_type": "code",
   "execution_count": 3,
   "id": "5ba13798",
   "metadata": {},
   "outputs": [
    {
     "name": "stdout",
     "output_type": "stream",
     "text": [
      "*\n",
      "**\n",
      "***\n",
      "****\n",
      "*****\n"
     ]
    }
   ],
   "source": [
    "print(\"*\")\n",
    "print(\"*\" * 2)\n",
    "print(\"*\" * 3)\n",
    "print(\"*\" * 4)\n",
    "print(\"*\" * 5)"
   ]
  },
  {
   "cell_type": "markdown",
   "id": "1b1fb35d",
   "metadata": {},
   "source": [
    "## 2. Vòng lặp"
   ]
  },
  {
   "cell_type": "markdown",
   "id": "059dd817",
   "metadata": {},
   "source": [
    "### 2.1 Vòng lặp `for`\n",
    "\n",
    "- Cú pháp:\n",
    "    - Cách 1: Lặp có số lượng lần\n",
    "```\n",
    "for value in iterable:\n",
    "    business logic \n",
    "```\n",
    "\n",
    "    - Cách 2:\n",
    "```\n",
    "for index in range(len(iterable)):\n",
    "    business logic\n",
    "```"
   ]
  },
  {
   "cell_type": "code",
   "execution_count": 2,
   "id": "2f24bf49-4f92-4ddd-9627-febf4782c1b0",
   "metadata": {},
   "outputs": [
    {
     "name": "stdout",
     "output_type": "stream",
     "text": [
      "*\n",
      "**\n",
      "***\n",
      "****\n",
      "*****\n",
      "******\n",
      "*******\n",
      "********\n",
      "*********\n",
      "**********\n"
     ]
    }
   ],
   "source": [
    "# Cach 1 lay gia trij\n",
    "a = list(range(1,11))\n",
    "for i in a:\n",
    "    print ('*'*i)"
   ]
  },
  {
   "cell_type": "code",
   "execution_count": 18,
   "id": "6a41b170-ce24-4dcf-baa5-dc2f8f175f6f",
   "metadata": {},
   "outputs": [
    {
     "name": "stdout",
     "output_type": "stream",
     "text": [
      "*\n",
      "**\n",
      "***\n",
      "****\n",
      "*****\n",
      "******\n",
      "*******\n",
      "********\n",
      "*********\n",
      "**********\n",
      "***********\n"
     ]
    }
   ],
   "source": [
    "#Cach 2 lay index\n",
    "a = list(range (1,12))\n",
    "for i in range(len(a)):\n",
    "    print('*'*a[i])"
   ]
  },
  {
   "cell_type": "markdown",
   "id": "5533a455",
   "metadata": {},
   "source": [
    "**Bài tập**:\n",
    "\n",
    "Cho 1 danh sách `li` gồm 10 phần tử từ 1 đến 10, trả về danh sách mới `li1` sao cho mỗi phần tử trong `li1` là bình phương của phần tử có trong `li` sử dụng `for`. "
   ]
  },
  {
   "cell_type": "code",
   "execution_count": 28,
   "id": "319744cd-ff7b-4f11-bed4-6c3a18f5e1a3",
   "metadata": {},
   "outputs": [
    {
     "data": {
      "text/plain": [
       "[1, 4, 9, 16, 25, 36, 49, 64, 81, 100]"
      ]
     },
     "execution_count": 28,
     "metadata": {},
     "output_type": "execute_result"
    }
   ],
   "source": [
    "li = list(range(1,11))\n",
    "li1 = []\n",
    "for i in li:\n",
    "    li1.append(i**2)\n",
    "li1"
   ]
  },
  {
   "cell_type": "markdown",
   "id": "791fff7c",
   "metadata": {},
   "source": [
    "### 2.2 Vòng lặp `while`"
   ]
  },
  {
   "cell_type": "markdown",
   "id": "a89ce8c0",
   "metadata": {},
   "source": [
    "- Cú pháp\n",
    "```\n",
    "while condition(True/False):\n",
    "    business logic\n",
    "```"
   ]
  },
  {
   "cell_type": "code",
   "execution_count": 31,
   "id": "dff94263",
   "metadata": {},
   "outputs": [
    {
     "name": "stdout",
     "output_type": "stream",
     "text": [
      "*\n",
      "**\n",
      "***\n",
      "****\n",
      "*****\n",
      "******\n",
      "*******\n",
      "********\n",
      "*********\n"
     ]
    }
   ],
   "source": [
    "a = 1\n",
    "while a < 10:\n",
    "    print(a *'*')\n",
    "    a +=1"
   ]
  },
  {
   "cell_type": "markdown",
   "id": "39c47647",
   "metadata": {},
   "source": [
    "**Bài tập**:\n",
    "\n",
    "Cho 1 danh sách `li` gồm 10 phần tử từ 1 đến 10, trả về danh sách mới `li1` sao cho mỗi phần tử trong `li1` là bình phương của phần tử có trong `li` sử dụng `while`. "
   ]
  },
  {
   "cell_type": "code",
   "execution_count": null,
   "id": "2529fa84",
   "metadata": {},
   "outputs": [],
   "source": [
    "li = []\n",
    "i = 1\n",
    "while i <= 10:\n",
    "    li.append(i**2)\n",
    "    i += 1\n",
    "print(li)"
   ]
  },
  {
   "cell_type": "code",
   "execution_count": 33,
   "id": "35a29588-a1d2-49db-bc71-4e77999817bf",
   "metadata": {},
   "outputs": [
    {
     "data": {
      "text/plain": [
       "[1, 4, 9, 16, 25, 36, 49, 64, 81]"
      ]
     },
     "execution_count": 33,
     "metadata": {},
     "output_type": "execute_result"
    }
   ],
   "source": [
    "li1 = []\n",
    "i = 1\n",
    "while i < 10:\n",
    "    li1.append(i**2)\n",
    "    i +=1\n",
    "li1"
   ]
  },
  {
   "cell_type": "markdown",
   "id": "1651da80",
   "metadata": {},
   "source": [
    "## 3. Câu lệnh điều kiện"
   ]
  },
  {
   "cell_type": "markdown",
   "id": "287ebb2a",
   "metadata": {},
   "source": [
    "- Cú pháp:\n",
    "```\n",
    "if condition(True/False):\n",
    "    business logic\n",
    "elif condition(True/False): # --> optional\n",
    "    business logic\n",
    "elif condition(True/False): # --> optional\n",
    "    business logic\n",
    "elif condition(True/False): # --> optional\n",
    "    business logic\n",
    "    ....\n",
    "else:\n",
    "    business logic # --> optional\n",
    "```"
   ]
  },
  {
   "cell_type": "code",
   "execution_count": 36,
   "id": "dd67b32a",
   "metadata": {},
   "outputs": [
    {
     "name": "stdout",
     "output_type": "stream",
     "text": [
      "tren trung binh\n"
     ]
    }
   ],
   "source": [
    "core = 10\n",
    "if core < 5:\n",
    "    print('duoi trung binh')\n",
    "elif core == 5:\n",
    "    print ('trung binh')\n",
    "else:\n",
    "    print ('tren trung binh')"
   ]
  },
  {
   "cell_type": "markdown",
   "id": "15688a1f",
   "metadata": {},
   "source": [
    "## 4. Hàm "
   ]
  },
  {
   "cell_type": "markdown",
   "id": "e5df3320",
   "metadata": {},
   "source": [
    "- Cú pháp\n",
    "```\n",
    "def function_name(arg1, arg2, ...):\n",
    "    business logic\n",
    "    return #-->  optional\n",
    "```"
   ]
  },
  {
   "cell_type": "code",
   "execution_count": 45,
   "id": "187f189a",
   "metadata": {},
   "outputs": [],
   "source": [
    "def diem (core):\n",
    "    ''' nhap diem hoc sinh vao diem'''\n",
    "    if core < 5:\n",
    "        print('duoi trung binh')\n",
    "    elif core == 5:\n",
    "        print ('trung binh')\n",
    "    else:\n",
    "        print ('tren trung binh')"
   ]
  },
  {
   "cell_type": "code",
   "execution_count": 44,
   "id": "d564646e-9026-4daa-a0e9-8031d24ed82e",
   "metadata": {},
   "outputs": [
    {
     "name": "stdout",
     "output_type": "stream",
     "text": [
      "trung binh\n"
     ]
    }
   ],
   "source": [
    "core = 5\n",
    "diem(core)"
   ]
  },
  {
   "cell_type": "markdown",
   "id": "8312a855",
   "metadata": {},
   "source": [
    "**Bài tập**:\n",
    "\n",
    "Viết 1 hàm tìm giá trị lớn nhất của 1 list các số nguyên. "
   ]
  },
  {
   "cell_type": "code",
   "execution_count": 57,
   "id": "910cf2ca-3ed7-492d-9cbf-ed8be116f055",
   "metadata": {},
   "outputs": [],
   "source": [
    "def max_value(b):\n",
    "    '''nhap list vao max_value '''\n",
    "    return max(b)"
   ]
  },
  {
   "cell_type": "code",
   "execution_count": 58,
   "id": "0c9ad39b-a425-4e02-bfb8-0ad50da8ff59",
   "metadata": {},
   "outputs": [
    {
     "data": {
      "text/plain": [
       "10"
      ]
     },
     "execution_count": 58,
     "metadata": {},
     "output_type": "execute_result"
    }
   ],
   "source": [
    "max_value([1,2,10,4,8])"
   ]
  },
  {
   "cell_type": "markdown",
   "id": "65f194a2",
   "metadata": {},
   "source": [
    "### **Hàm vô danh**. \n",
    "- Cú pháp:\n",
    "`lambda parameters: business logic`\n",
    "\n"
   ]
  },
  {
   "cell_type": "code",
   "execution_count": 64,
   "id": "2b75faab",
   "metadata": {},
   "outputs": [
    {
     "data": {
      "text/plain": [
       "10"
      ]
     },
     "execution_count": 64,
     "metadata": {},
     "output_type": "execute_result"
    }
   ],
   "source": [
    "max_value = lambda x: max(x)\n",
    "max_value([1,2,10,4,8])"
   ]
  },
  {
   "cell_type": "markdown",
   "id": "e56e66ce",
   "metadata": {},
   "source": [
    "## 5. Bao hàm (Comprehension)\n",
    "\n",
    "- Cú pháp:\n",
    "    - List comprehension: `[expression for variable in iterable]`\n",
    "    - Set comprehension: `{expression for variable in iterable}`\n",
    "    - Tuple comprehension: `tuple(expression for variable in iterable)`\n",
    "    - Dictionary comprehension: `{key:value for variable in iterable]`\n",
    "    \n",
    "Lưu ý: ta có thể thêm các điều kiện thông qua câu lệnh điều kiện `if else` với bao hàm, ví dụ cú pháp với list comprehension:\n",
    "- `[expression for variable in iterable if condition]`\n",
    "hoặc\n",
    "- `[expression if condition else else-expression for variable in iterable ]`"
   ]
  },
  {
   "cell_type": "code",
   "execution_count": 70,
   "id": "e4bddcd9",
   "metadata": {},
   "outputs": [
    {
     "data": {
      "text/plain": [
       "[4, 9, 16]"
      ]
     },
     "execution_count": 70,
     "metadata": {},
     "output_type": "execute_result"
    }
   ],
   "source": [
    "#Cach 1\n",
    "def square_list1 (x):\n",
    "    li1 = []\n",
    "    li = x\n",
    "    for i in li:\n",
    "        li1.append(i**2)\n",
    "    return li1\n",
    "square_list1([2,3,4])"
   ]
  },
  {
   "cell_type": "code",
   "execution_count": 84,
   "id": "6a238a43-ec43-428d-b0b7-e38e4c289940",
   "metadata": {},
   "outputs": [],
   "source": [
    "#cach 2\n",
    "def square_list2(y):\n",
    "    print([i**2 for i in y])"
   ]
  },
  {
   "cell_type": "markdown",
   "id": "bb07064a-7747-41b0-96f1-0c575f85d65f",
   "metadata": {},
   "source": [
    "square_list2([2,3,4])"
   ]
  },
  {
   "cell_type": "code",
   "execution_count": 85,
   "id": "910eb251-5f1e-4a37-89b9-efff68516325",
   "metadata": {},
   "outputs": [
    {
     "name": "stdout",
     "output_type": "stream",
     "text": [
      "[4, 9, 16]\n"
     ]
    }
   ],
   "source": [
    "square_list2([2,3,4])"
   ]
  },
  {
   "cell_type": "markdown",
   "id": "0425e096-ae82-476c-909c-1c1c0b4841c0",
   "metadata": {},
   "source": [
    "## if trong bao ham"
   ]
  },
  {
   "cell_type": "markdown",
   "id": "83a77ab2-aa50-4dc5-9236-698b4d4c5928",
   "metadata": {},
   "source": [
    "# Tao hàm điều kiện, khi nhập một list sẽ bình phương những giá trị chia hết cho 2, giữ nguyên giá trị nếu ko chia hết cho 2"
   ]
  },
  {
   "cell_type": "code",
   "execution_count": 108,
   "id": "7d1ee4aa-7991-48b3-81aa-d49f642336c5",
   "metadata": {},
   "outputs": [],
   "source": [
    "def square_list3(z):\n",
    "    return[i*2 if i%2 == 0 else i for i in z]"
   ]
  },
  {
   "cell_type": "code",
   "execution_count": 97,
   "id": "85ae5c6c-1a45-406d-a228-c303f45592fe",
   "metadata": {},
   "outputs": [
    {
     "data": {
      "text/plain": [
       "[8, 18, 32]"
      ]
     },
     "execution_count": 97,
     "metadata": {},
     "output_type": "execute_result"
    }
   ],
   "source": [
    "square_list3(z)"
   ]
  },
  {
   "cell_type": "markdown",
   "id": "bd00f506-c282-4028-b645-9ca01772aaa5",
   "metadata": {},
   "source": [
    "\n",
    "\n",
    "Trong các bài tiếp theo, chúng ta sẽ cùng nhau tìm hiểu 1 số thư viện bổ trợ cho Python trong việc thao tác, xử lý, phân tích, và trực quan hoá dữ liệu."
   ]
  },
  {
   "cell_type": "code",
   "execution_count": 103,
   "id": "6ef257cf-9a0e-4d6d-9bbc-eda9eadfe91a",
   "metadata": {},
   "outputs": [
    {
     "data": {
      "text/plain": [
       "0"
      ]
     },
     "execution_count": 103,
     "metadata": {},
     "output_type": "execute_result"
    }
   ],
   "source": [
    "10%2"
   ]
  },
  {
   "cell_type": "code",
   "execution_count": null,
   "id": "dc48746f-efc4-4271-a3f7-7c84a19d9444",
   "metadata": {},
   "outputs": [],
   "source": []
  }
 ],
 "metadata": {
  "kernelspec": {
   "display_name": "Python 3",
   "language": "python",
   "name": "python3"
  },
  "language_info": {
   "codemirror_mode": {
    "name": "ipython",
    "version": 3
   },
   "file_extension": ".py",
   "mimetype": "text/x-python",
   "name": "python",
   "nbconvert_exporter": "python",
   "pygments_lexer": "ipython3",
   "version": "3.8.11"
  }
 },
 "nbformat": 4,
 "nbformat_minor": 5
}
