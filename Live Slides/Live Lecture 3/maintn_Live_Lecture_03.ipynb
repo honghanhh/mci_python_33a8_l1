{
 "cells": [
  {
   "cell_type": "markdown",
   "id": "d57db01c-f2e3-45fa-9fd4-0ffb1fd4d0c9",
   "metadata": {},
   "source": [
    "# BÀI 3: GIỚI THIỆU VỀ PYTHON (tiếp theo)"
   ]
  },
  {
   "cell_type": "markdown",
   "id": "9633b1c3-b8fc-4c83-a938-f4bae626b4a8",
   "metadata": {},
   "source": [
    "![](https://laptrinhcanban.com/python/nhap-mon-lap-trinh-python/gioi-thieu-python/python-la-gi/Python.jpg)"
   ]
  },
  {
   "cell_type": "markdown",
   "id": "6bc4aef1-2a45-4a17-91f2-0f402e83c013",
   "metadata": {},
   "source": [
    "# PROGRAMMING FLOW = CONTROL FLOW\n",
    "\n",
    "## 1. Câu lệnh tuần tự (Sequential)"
   ]
  },
  {
   "cell_type": "markdown",
   "id": "25d863a0-afb7-45e7-bc99-9472fd95604e",
   "metadata": {},
   "source": []
  },
  {
   "cell_type": "code",
   "execution_count": 1,
   "id": "d8843454-bec1-4d60-9d8e-853e6d100f05",
   "metadata": {},
   "outputs": [
    {
     "name": "stdout",
     "output_type": "stream",
     "text": [
      "Hello\n",
      "world\n",
      "!\n"
     ]
    }
   ],
   "source": [
    "print(\"Hello\")\n",
    "print(\"world\")\n",
    "print(\"!\")"
   ]
  },
  {
   "cell_type": "code",
   "execution_count": 2,
   "id": "7bcb9b16-dacf-44f3-a0fc-7bec9c205d39",
   "metadata": {},
   "outputs": [
    {
     "name": "stdout",
     "output_type": "stream",
     "text": [
      "*\n",
      "**\n",
      "***\n",
      "****\n",
      "*****\n"
     ]
    }
   ],
   "source": [
    "print(\"*\")\n",
    "print(\"**\")\n",
    "print(\"***\")\n",
    "print(\"****\")\n",
    "print(\"*****\")"
   ]
  },
  {
   "cell_type": "code",
   "execution_count": 3,
   "id": "3e3411d5-541d-44f9-a5ff-0601e7cf5863",
   "metadata": {},
   "outputs": [
    {
     "name": "stdout",
     "output_type": "stream",
     "text": [
      "\n",
      "*\n",
      "**\n",
      "***\n",
      "****\n",
      "*****\n",
      "\n"
     ]
    }
   ],
   "source": [
    "print(\"\"\"\n",
    "*\n",
    "**\n",
    "***\n",
    "****\n",
    "*****\n",
    "\"\"\")"
   ]
  },
  {
   "cell_type": "code",
   "execution_count": 4,
   "id": "479bfefb-2d90-4f8a-af1f-d54d8c3d8b5f",
   "metadata": {},
   "outputs": [
    {
     "name": "stdout",
     "output_type": "stream",
     "text": [
      "*\n",
      "**\n",
      "***\n",
      "****\n",
      "*****\n"
     ]
    }
   ],
   "source": [
    "print(\"*\")\n",
    "print(\"*\" * 2)\n",
    "print(\"*\" * 3)\n",
    "print(\"*\" * 4)\n",
    "print(\"*\" * 5)"
   ]
  },
  {
   "cell_type": "markdown",
   "id": "8788aded-6846-4aa4-ad65-ab542c0b444c",
   "metadata": {},
   "source": [
    "***Đố vui***: In ra kết quả như sau:\n",
    "```\n",
    "*\n",
    "**\n",
    "***\n",
    "****\n",
    "*****\n",
    "```"
   ]
  },
  {
   "cell_type": "code",
   "execution_count": null,
   "id": "5fec4555-bbf9-4e9e-9200-57f2761df831",
   "metadata": {},
   "outputs": [],
   "source": []
  },
  {
   "cell_type": "markdown",
   "id": "a966f233-1ed7-4dbd-bc8a-5fce3e640dc6",
   "metadata": {},
   "source": [
    "## 2. Vòng lặp `FOR` vs `WHILE`"
   ]
  },
  {
   "cell_type": "markdown",
   "id": "0910a9cd-83d4-476e-b817-dca0c4e873fd",
   "metadata": {},
   "source": [
    "### 2.1 Vòng lặp `for`\n",
    "\n",
    "Vòng lặp for được gọi là biến lặp, nó sẽ duyệt các phần tử dựa trên tập điều kiện cho trước\n",
    "\n",
    "- Cú pháp: Cú pháp phải có indent (lùi dòng vào) để thông báo cho Python đang thực hiện phép lặp trong iterable/range\n",
    "    - Cách 1: Lặp qua từng giá trị của phần tử bên trong của iterable (#iterable contains list, tuple, dictionary, set)\n",
    "```\n",
    "for value in iterable: \n",
    "    business logic \n",
    "```\n",
    "\n",
    "    - Cách 2: Lặp qua từng index của phần tử bên trong range\n",
    "```\n",
    "for index in range(len(iterable)):\n",
    "    business logic\n",
    "```"
   ]
  },
  {
   "cell_type": "markdown",
   "id": "467c6647-77b4-4b4e-8f45-66eb8925748a",
   "metadata": {},
   "source": [
    "`range(start, stop, step)`"
   ]
  },
  {
   "cell_type": "code",
   "execution_count": 9,
   "id": "3b89ac56-4962-47f1-bd9e-8bb0021a7cb9",
   "metadata": {},
   "outputs": [
    {
     "data": {
      "text/plain": [
       "range(0, 10)"
      ]
     },
     "execution_count": 9,
     "metadata": {},
     "output_type": "execute_result"
    }
   ],
   "source": [
    "range(10) #from 0 (inclusive) to 10 (exlusive) >> Chỉ trả về giá trị từ 0-9"
   ]
  },
  {
   "cell_type": "code",
   "execution_count": 7,
   "id": "7e7f395d-f7b0-4273-b93c-e9fdee0170bf",
   "metadata": {},
   "outputs": [
    {
     "data": {
      "text/plain": [
       "[0, 1, 2, 3, 4, 5, 6, 7, 8, 9]"
      ]
     },
     "execution_count": 7,
     "metadata": {},
     "output_type": "execute_result"
    }
   ],
   "source": [
    "list(range(0, 10))"
   ]
  },
  {
   "cell_type": "code",
   "execution_count": 8,
   "id": "846d82e5-c058-412b-bdcc-f45866d17b15",
   "metadata": {},
   "outputs": [
    {
     "data": {
      "text/plain": [
       "[1, 2, 3, 4, 5, 6, 7, 8, 9]"
      ]
     },
     "execution_count": 8,
     "metadata": {},
     "output_type": "execute_result"
    }
   ],
   "source": [
    "list(range(1, 10))"
   ]
  },
  {
   "cell_type": "code",
   "execution_count": 11,
   "id": "8e75e2d6-a799-4426-9333-4399bda37028",
   "metadata": {},
   "outputs": [
    {
     "data": {
      "text/plain": [
       "[1, 3, 5, 7, 9]"
      ]
     },
     "execution_count": 11,
     "metadata": {},
     "output_type": "execute_result"
    }
   ],
   "source": [
    "list(range(1, 10, 2))"
   ]
  },
  {
   "cell_type": "markdown",
   "id": "7013b1f8-6223-472d-9eff-31961030306a",
   "metadata": {},
   "source": [
    "`Chữa ví dụ`"
   ]
  },
  {
   "cell_type": "code",
   "execution_count": 12,
   "id": "b3128189-19f9-4e2c-8987-ccb903f43a07",
   "metadata": {},
   "outputs": [
    {
     "data": {
      "text/plain": [
       "[1, 2, 3, 4, 5]"
      ]
     },
     "execution_count": 12,
     "metadata": {},
     "output_type": "execute_result"
    }
   ],
   "source": [
    "li = list(range(1, 6))\n",
    "li"
   ]
  },
  {
   "cell_type": "code",
   "execution_count": 13,
   "id": "89b112e7-c368-40f5-8c70-1713dc08927d",
   "metadata": {},
   "outputs": [
    {
     "name": "stdout",
     "output_type": "stream",
     "text": [
      "*\n",
      "**\n",
      "***\n",
      "****\n",
      "*****\n"
     ]
    }
   ],
   "source": [
    "for val in li:\n",
    "    print(\"*\" *val)"
   ]
  },
  {
   "cell_type": "code",
   "execution_count": 16,
   "id": "fead73e1-9de1-4b15-bcf8-33fa9bd59e04",
   "metadata": {},
   "outputs": [
    {
     "name": "stdout",
     "output_type": "stream",
     "text": [
      "*\n",
      "**\n",
      "***\n",
      "****\n",
      "*****\n"
     ]
    }
   ],
   "source": [
    "for index in range(len(li)):\n",
    "    print(\"*\"*li[index])"
   ]
  },
  {
   "cell_type": "markdown",
   "id": "0f367140-6b04-43fc-b0ff-8e85b2b64e44",
   "metadata": {},
   "source": [
    "**Bài tập**:\n",
    "\n",
    "Cho 1 danh sách `li` gồm 10 phần tử từ 1 đến 10, trả về danh sách mới `li1` sao cho mỗi phần tử trong `li1` là bình phương của phần tử có trong `li` sử dụng `for`. "
   ]
  },
  {
   "cell_type": "code",
   "execution_count": 35,
   "id": "e2f32d0f-f9da-4dd2-a85c-ca25d382d072",
   "metadata": {},
   "outputs": [
    {
     "data": {
      "text/plain": [
       "[1, 4, 9, 16, 25, 36, 49, 64, 81, 100]"
      ]
     },
     "execution_count": 35,
     "metadata": {},
     "output_type": "execute_result"
    }
   ],
   "source": [
    "li = list(range(1, 11))\n",
    "\n",
    "li1=[]\n",
    "for val in li:\n",
    "    li1.append(val**2)\n",
    "li1"
   ]
  },
  {
   "cell_type": "code",
   "execution_count": 31,
   "id": "3f5110eb-088c-4607-a157-831e7fead6df",
   "metadata": {},
   "outputs": [
    {
     "data": {
      "text/plain": [
       "[1, 4, 9, 16, 25, 36, 49, 64, 81, 100]"
      ]
     },
     "execution_count": 31,
     "metadata": {},
     "output_type": "execute_result"
    }
   ],
   "source": [
    "li = list(range(1, 11))\n",
    "\n",
    "li1 = []\n",
    "for i in range(len(li)):\n",
    "    li1.append(i**2)\n",
    "li2"
   ]
  },
  {
   "cell_type": "markdown",
   "id": "be1bc1ce-3d5d-41fb-93fd-20658f9b0f77",
   "metadata": {},
   "source": [
    "### 2.2 Vòng lặp `while`\n",
    "\n",
    "Vòng lặp while được thực thi dựa trên việc câu lệnh điều kiện đưa ra là đúng hay sai.\n"
   ]
  },
  {
   "cell_type": "markdown",
   "id": "9c0148c4-6dfe-47c5-89c5-0d57eaa9d80e",
   "metadata": {},
   "source": [
    "- Cú pháp: Condition = toán tử luận lý hoặc toán tử so sánh\n",
    "```\n",
    "while condition(True/False):\n",
    "    business logic\n",
    "```"
   ]
  },
  {
   "cell_type": "code",
   "execution_count": 4,
   "id": "c165365b-ff90-4f10-bb23-16d97b892261",
   "metadata": {},
   "outputs": [
    {
     "name": "stdout",
     "output_type": "stream",
     "text": [
      "*\n",
      "**\n",
      "***\n",
      "****\n",
      "*****\n"
     ]
    }
   ],
   "source": [
    "i = 1\n",
    "while i < 6:\n",
    "    print('*'*i)\n",
    "    i = i + 1 #Loop forever if dont use this line"
   ]
  },
  {
   "cell_type": "code",
   "execution_count": 3,
   "id": "7fe987ee-5536-4942-b9c8-6e085a80a9d9",
   "metadata": {},
   "outputs": [
    {
     "name": "stdout",
     "output_type": "stream",
     "text": [
      "*\n",
      "**\n",
      "***\n",
      "****\n",
      "*****\n"
     ]
    }
   ],
   "source": [
    "i = 1\n",
    "while i < 6:\n",
    "    print('*'*i)\n",
    "    i +=1 #Loop forever if dont use this line"
   ]
  },
  {
   "cell_type": "markdown",
   "id": "6784a894-d0db-49ca-9350-2e09fcf83779",
   "metadata": {},
   "source": [
    "**Bài tập**:\n",
    "\n",
    "Cho 1 danh sách `li` gồm 10 phần tử từ 1 đến 10, trả về danh sách mới `li1` sao cho mỗi phần tử trong `li1` là bình phương của phần tử có trong `li` sử dụng `while`. "
   ]
  },
  {
   "cell_type": "code",
   "execution_count": 7,
   "id": "b9d6c7b6-8053-4b57-b36f-b747a75c44ad",
   "metadata": {},
   "outputs": [
    {
     "name": "stdout",
     "output_type": "stream",
     "text": [
      "[1, 4, 9, 16, 25, 36, 49, 64, 81, 100]\n"
     ]
    }
   ],
   "source": [
    "li = list(range(1, 11))\n",
    "i = 1\n",
    "li1 = []\n",
    "while i < 11:\n",
    "    li1.append(i**2)\n",
    "    i += 1\n",
    "print(li1)"
   ]
  },
  {
   "cell_type": "markdown",
   "id": "c6d75da2-0c83-49b0-a057-96efa4797070",
   "metadata": {},
   "source": [
    "## 3. Câu lệnh điều kiện"
   ]
  },
  {
   "cell_type": "markdown",
   "id": "34c169d7-aaaf-4f84-933a-08de9cd438d1",
   "metadata": {},
   "source": [
    "- Cú pháp:\n",
    "```\n",
    "if condition(True/False):\n",
    "    business logic\n",
    "elif condition(True/False): # --> optional\n",
    "    business logic\n",
    "elif condition(True/False): # --> optional\n",
    "    business logic\n",
    "elif condition(True/False): # --> optional\n",
    "    business logic\n",
    "    ....\n",
    "else:\n",
    "    business logic # --> optional\n",
    "```"
   ]
  },
  {
   "cell_type": "code",
   "execution_count": 16,
   "id": "22569a61-4ea8-4792-a1a3-fa90675d3842",
   "metadata": {},
   "outputs": [
    {
     "name": "stdout",
     "output_type": "stream",
     "text": [
      "Không cho vay 2\n"
     ]
    }
   ],
   "source": [
    "age = 80\n",
    "if age < 18:\n",
    "    print('Không cho vay 1') #TRUE >> execute this business logic and ignore the next line. FALSE >> ignore this business logic and excecute the next line.\n",
    "elif age > 70:\n",
    "    print('Không cho vay 2')\n",
    "else:\n",
    "    print('Cho vay')"
   ]
  },
  {
   "cell_type": "markdown",
   "id": "634e98c5-182a-4567-9a03-52142c94a18f",
   "metadata": {},
   "source": [
    "## 4. Hàm \n",
    "\n",
    "In Python:\n",
    "- Built-in function: `len()`, `range()`\n",
    "- User-define function:"
   ]
  },
  {
   "cell_type": "markdown",
   "id": "e3706c05-e506-464c-ab3d-dc3945f006ca",
   "metadata": {},
   "source": [
    "- Cú pháp\n",
    "```\n",
    "def function_name(arg1, arg2, ...):\n",
    "    business logic\n",
    "    return #-->  optional\n",
    "```"
   ]
  },
  {
   "cell_type": "code",
   "execution_count": 21,
   "id": "9c32625f-dd14-4d7b-be82-82cd021144a3",
   "metadata": {},
   "outputs": [],
   "source": [
    "def print_asterisk(li):\n",
    "    \"\"\"\n",
    "    Print multiple of asterisks in ascending order\n",
    "    \"\"\"\n",
    "    for val in li:\n",
    "        print('*'*val)"
   ]
  },
  {
   "cell_type": "code",
   "execution_count": 19,
   "id": "201d8c4a-1f3d-4f6c-9252-12cb06eec9cb",
   "metadata": {},
   "outputs": [
    {
     "name": "stdout",
     "output_type": "stream",
     "text": [
      "*\n",
      "**\n",
      "***\n",
      "****\n",
      "*****\n"
     ]
    }
   ],
   "source": [
    "li = range (1, 6)\n",
    "print_asterisk(li)"
   ]
  },
  {
   "cell_type": "code",
   "execution_count": 20,
   "id": "e014f122-dfdf-40d6-b0ec-631a665dd875",
   "metadata": {},
   "outputs": [
    {
     "name": "stdout",
     "output_type": "stream",
     "text": [
      "*\n",
      "**\n",
      "***\n",
      "****\n",
      "*****\n",
      "******\n",
      "*******\n",
      "********\n",
      "*********\n",
      "**********\n"
     ]
    }
   ],
   "source": [
    "print_asterisk(list(range(1, 11)))"
   ]
  },
  {
   "cell_type": "markdown",
   "id": "e2451dd0-5d1b-4f37-9b5c-e1629d710ba1",
   "metadata": {},
   "source": [
    "**Bài tập**:\n",
    "\n",
    "Viết 1 hàm tìm giá trị lớn nhất của 1 list các số nguyên. "
   ]
  },
  {
   "cell_type": "code",
   "execution_count": 25,
   "id": "d4d3e3d5-7dc6-4811-be14-72af80d30830",
   "metadata": {},
   "outputs": [],
   "source": [
    "def max_int(li):\n",
    "    \"\"\"\n",
    "    Return maximun number of a list of integers\n",
    "    \"\"\"\n",
    "    print(max(li))"
   ]
  },
  {
   "cell_type": "code",
   "execution_count": 24,
   "id": "f493c529-0ccf-44e1-81cf-79876381e9af",
   "metadata": {},
   "outputs": [
    {
     "name": "stdout",
     "output_type": "stream",
     "text": [
      "99\n"
     ]
    }
   ],
   "source": [
    "li = list(range(1, 100))\n",
    "max_int(li)"
   ]
  },
  {
   "cell_type": "code",
   "execution_count": 26,
   "id": "19931c52-32cc-45ad-b240-96a2861319c0",
   "metadata": {},
   "outputs": [],
   "source": [
    "def max_int1(li):\n",
    "    \"\"\"\n",
    "    Return maximun number of a list of integers\n",
    "    \"\"\"\n",
    "    li.sort(reverse=True)\n",
    "    print(li[0])"
   ]
  },
  {
   "cell_type": "code",
   "execution_count": 27,
   "id": "ee6c7711-ad0c-4bd7-b4e2-44a8ad159d88",
   "metadata": {},
   "outputs": [
    {
     "name": "stdout",
     "output_type": "stream",
     "text": [
      "99\n"
     ]
    }
   ],
   "source": [
    "max_int1(li)"
   ]
  },
  {
   "cell_type": "code",
   "execution_count": 32,
   "id": "630beaff-dcb4-4c68-b674-e0f1dc8acbe6",
   "metadata": {},
   "outputs": [],
   "source": [
    "def max_int2(li):\n",
    "    a = 0\n",
    "    \"\"\"\n",
    "    Return maximun number of a list of integers\n",
    "    \"\"\"\n",
    "    for val in li:\n",
    "        if a < val: #cú pháp của 1 vòng lặp for\n",
    "            a = val\n",
    "    print(a)"
   ]
  },
  {
   "cell_type": "code",
   "execution_count": 31,
   "id": "64dec208-107e-4b9a-9c4a-fb44a9e2e29a",
   "metadata": {},
   "outputs": [
    {
     "name": "stdout",
     "output_type": "stream",
     "text": [
      "99\n"
     ]
    }
   ],
   "source": [
    "max_int2(li)"
   ]
  },
  {
   "cell_type": "markdown",
   "id": "1186e6fa-3ca7-4071-b394-edf209995d7d",
   "metadata": {},
   "source": [
    "### **Hàm vô danh (Hàm Lambda)**. \n",
    "\n",
    "Thao tác tính toán đơn giản trên 1 dòng. Nếu phức tạp phải filter tính toán nhiều thì phải dùng hàm def như bình thường.\n",
    "\n",
    "`Note chung: Mỗi hàm viết ra chỉ phục vụ một mục đích duy nhất, tối giản (10-20 dòng).`\n",
    "\n",
    "- Cú pháp:\n",
    "`lambda parameters: business logic`\n",
    "\n"
   ]
  },
  {
   "cell_type": "code",
   "execution_count": 34,
   "id": "563696d2-60a8-4555-98eb-d1d56ec8f1bd",
   "metadata": {},
   "outputs": [],
   "source": [
    "def square(x):\n",
    "    return x**2"
   ]
  },
  {
   "cell_type": "code",
   "execution_count": 35,
   "id": "f25966de-33c0-4d15-a9e0-6a4185e2a80f",
   "metadata": {},
   "outputs": [
    {
     "data": {
      "text/plain": [
       "4"
      ]
     },
     "execution_count": 35,
     "metadata": {},
     "output_type": "execute_result"
    }
   ],
   "source": [
    "square(2)"
   ]
  },
  {
   "cell_type": "code",
   "execution_count": 36,
   "id": "8e1d409f-02b0-4e6a-adcd-0e5eb27ba7b3",
   "metadata": {},
   "outputs": [],
   "source": [
    "#Lambda:\n",
    "square1 = lambda x: x**2"
   ]
  },
  {
   "cell_type": "code",
   "execution_count": 37,
   "id": "5c1063c5-6f1c-4d78-b083-c62e722b7ad9",
   "metadata": {},
   "outputs": [
    {
     "data": {
      "text/plain": [
       "4"
      ]
     },
     "execution_count": 37,
     "metadata": {},
     "output_type": "execute_result"
    }
   ],
   "source": [
    "square1(2)"
   ]
  },
  {
   "cell_type": "markdown",
   "id": "42ef509f-6696-489f-baf3-92e9d4f9668a",
   "metadata": {},
   "source": [
    "## 5. Bao hàm (Comprehension) \n",
    "\n",
    "- Cú pháp:\n",
    "    - List comprehension: `[expression for variable in iterable]`\n",
    "    - Set comprehension: `{expression for variable in iterable}`\n",
    "    - Tuple comprehension: `tuple(expression for variable in iterable)` >> nếu không có tuple ở trước thì Python lại hiểu là generator\n",
    "    - Dictionary comprehension: `{key:value for variable in iterable]`\n",
    "    \n",
    "Lưu ý: ta có thể thêm các điều kiện thông qua câu lệnh điều kiện `if else` với bao hàm, ví dụ cú pháp với list comprehension:\n",
    "- `[expression for variable in iterable if condition]`\n",
    "hoặc\n",
    "- `[expression if condition else else-expression for variable in iterable ]`"
   ]
  },
  {
   "cell_type": "code",
   "execution_count": 45,
   "id": "e5c47ac6-870d-41db-a96b-9c26c120fb2d",
   "metadata": {},
   "outputs": [],
   "source": [
    "def square_list(li):\n",
    "    li1 = []\n",
    "    for value in li:\n",
    "        li1.append(value**2)\n",
    "    return li1"
   ]
  },
  {
   "cell_type": "code",
   "execution_count": 39,
   "id": "27d60db7-3c83-461e-b393-23fdad15ecd1",
   "metadata": {},
   "outputs": [
    {
     "data": {
      "text/plain": [
       "[1, 16, 64]"
      ]
     },
     "execution_count": 39,
     "metadata": {},
     "output_type": "execute_result"
    }
   ],
   "source": [
    "li = [1, 4, 8]\n",
    "square_list(li)"
   ]
  },
  {
   "cell_type": "code",
   "execution_count": 43,
   "id": "8bdc382b-8c26-45fa-81a9-60c6cb718d9f",
   "metadata": {},
   "outputs": [],
   "source": [
    "def square_list1(li):\n",
    "    li1 = []\n",
    "    for value in li:\n",
    "        li1.append(square(value))\n",
    "    return li1"
   ]
  },
  {
   "cell_type": "code",
   "execution_count": 44,
   "id": "a22a52b7-faa7-421c-9725-bbbda017b7ff",
   "metadata": {},
   "outputs": [
    {
     "data": {
      "text/plain": [
       "[1, 16, 64]"
      ]
     },
     "execution_count": 44,
     "metadata": {},
     "output_type": "execute_result"
    }
   ],
   "source": [
    "li = [1, 4, 8]\n",
    "square_list1(li)"
   ]
  },
  {
   "cell_type": "code",
   "execution_count": 47,
   "id": "0ba41eee-64b9-43a8-b0f2-b193a5519714",
   "metadata": {},
   "outputs": [
    {
     "data": {
      "text/plain": [
       "[1, 16, 64]"
      ]
     },
     "execution_count": 47,
     "metadata": {},
     "output_type": "execute_result"
    }
   ],
   "source": [
    "[square(value) for value in li]"
   ]
  },
  {
   "cell_type": "code",
   "execution_count": 49,
   "id": "d6b98e42-de63-44fc-adba-9d0933b504a2",
   "metadata": {},
   "outputs": [],
   "source": [
    "def square_list2(li):\n",
    "    return [square(value) for value in li]"
   ]
  },
  {
   "cell_type": "code",
   "execution_count": 54,
   "id": "553ec798-366e-4368-8805-71f3da0d83e9",
   "metadata": {},
   "outputs": [],
   "source": [
    "li1 = [3, 16, 5, 9]"
   ]
  },
  {
   "cell_type": "code",
   "execution_count": 56,
   "id": "f837d2fe-fd08-4372-9568-3713d6ef106c",
   "metadata": {},
   "outputs": [
    {
     "data": {
      "text/plain": [
       "[3, 256, 5, 9]"
      ]
     },
     "execution_count": 56,
     "metadata": {},
     "output_type": "execute_result"
    }
   ],
   "source": [
    "[square(value) if value%2 == 0 else value for value in li1]"
   ]
  },
  {
   "cell_type": "code",
   "execution_count": null,
   "id": "2c683c05-4b9f-46ec-88e6-38825527716a",
   "metadata": {},
   "outputs": [],
   "source": []
  },
  {
   "cell_type": "markdown",
   "id": "b3c37f58-a05b-459d-9075-afe0b6b10bf5",
   "metadata": {},
   "source": [
    "Trong các bài tiếp theo, chúng ta sẽ cùng nhau tìm hiểu 1 số thư viện bổ trợ cho Python trong việc thao tác, xử lý, phân tích, và trực quan hoá dữ liệu."
   ]
  }
 ],
 "metadata": {
  "kernelspec": {
   "display_name": "Python 3 (ipykernel)",
   "language": "python",
   "name": "python3"
  },
  "language_info": {
   "codemirror_mode": {
    "name": "ipython",
    "version": 3
   },
   "file_extension": ".py",
   "mimetype": "text/x-python",
   "name": "python",
   "nbconvert_exporter": "python",
   "pygments_lexer": "ipython3",
   "version": "3.8.11"
  }
 },
 "nbformat": 4,
 "nbformat_minor": 5
}
