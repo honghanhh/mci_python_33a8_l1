{
 "cells": [
  {
   "cell_type": "markdown",
   "id": "d57db01c-f2e3-45fa-9fd4-0ffb1fd4d0c9",
   "metadata": {},
   "source": [
    "# BÀI 3: GIỚI THIỆU VỀ PYTHON (tiếp theo)"
   ]
  },
  {
   "cell_type": "markdown",
   "id": "9633b1c3-b8fc-4c83-a938-f4bae626b4a8",
   "metadata": {},
   "source": [
    "![](https://laptrinhcanban.com/python/nhap-mon-lap-trinh-python/gioi-thieu-python/python-la-gi/Python.jpg)"
   ]
  },
  {
   "cell_type": "markdown",
   "id": "6bc4aef1-2a45-4a17-91f2-0f402e83c013",
   "metadata": {},
   "source": [
    "## 1. Câu lệnh tuần tự (Sequential)\n",
    "gọi chung là Programing flow = control flow.\n",
    "keyword: "
   ]
  },
  {
   "cell_type": "code",
   "execution_count": 1,
   "id": "7bcb9b16-dacf-44f3-a0fc-7bec9c205d39",
   "metadata": {},
   "outputs": [
    {
     "name": "stdout",
     "output_type": "stream",
     "text": [
      "hello\n",
      "world\n",
      "!\n"
     ]
    }
   ],
   "source": [
    "print('hello')\n",
    "print('world')\n",
    "print(\"!\")"
   ]
  },
  {
   "cell_type": "markdown",
   "id": "8788aded-6846-4aa4-ad65-ab542c0b444c",
   "metadata": {},
   "source": [
    "***Đố vui***: In ra kết quả như sau:\n",
    "```\n",
    "*\n",
    "**\n",
    "***\n",
    "****\n",
    "*****\n",
    "```"
   ]
  },
  {
   "cell_type": "code",
   "execution_count": 2,
   "id": "5fec4555-bbf9-4e9e-9200-57f2761df831",
   "metadata": {},
   "outputs": [
    {
     "name": "stdout",
     "output_type": "stream",
     "text": [
      "*\n",
      "**\n",
      "***\n",
      "****\n",
      "*****\n"
     ]
    }
   ],
   "source": [
    "print('''*\n",
    "**\n",
    "***\n",
    "****\n",
    "*****''')"
   ]
  },
  {
   "cell_type": "markdown",
   "id": "a966f233-1ed7-4dbd-bc8a-5fce3e640dc6",
   "metadata": {},
   "source": [
    "## 2. Vòng lặp\n",
    "chỉ có hai kiểu là vòng lặp For và while"
   ]
  },
  {
   "cell_type": "markdown",
   "id": "0910a9cd-83d4-476e-b817-dca0c4e873fd",
   "metadata": {},
   "source": [
    "### 2.1 Vòng lặp `for`khi đã biết lặp lại bao nhiêu lần\n",
    "for và in là key word trong Python để định nghĩa vòng lặp.\n",
    "iterable có thể là list, tuple, dictionary, set.\n",
    "chỉ sử dụng for với cấu trúc dữ liệu nhiều hơn một phần tử.\n",
    "tất cả phép tính toán lùi trong dòng for\n",
    "value và index khác nhau:\n",
    "lắp qua từng phần tử giá trị\n",
    "lặp qua từng index của phần tử đó.\n",
    "business logic phải lùi vào trong for= indentation, để thông báo cho Python là đang tính toán trong vòng lặp for.\n",
    "- Cú pháp:\n",
    "    - Cách 1:\n",
    "```\n",
    "for value in iterable:\n",
    "    business logic \n",
    "```\n",
    "\n",
    "    - Cách 2:\n",
    "```\n",
    "for index in range(len(iterable)):\n",
    "    business logic\n",
    "```"
   ]
  },
  {
   "cell_type": "code",
   "execution_count": 3,
   "id": "3b89ac56-4962-47f1-bd9e-8bb0021a7cb9",
   "metadata": {},
   "outputs": [
    {
     "data": {
      "text/plain": [
       "[0, 1, 2, 3, 4, 5, 6, 7, 8, 9]"
      ]
     },
     "execution_count": 3,
     "metadata": {},
     "output_type": "execute_result"
    }
   ],
   "source": [
    "#range: là hàm có tác dụng muốn làm\n",
    "list(range(10))"
   ]
  },
  {
   "cell_type": "code",
   "execution_count": 4,
   "id": "e54b2509-428d-4044-a9d6-154a06cc28c4",
   "metadata": {},
   "outputs": [
    {
     "data": {
      "text/plain": [
       "[1, 2, 3, 4, 5, 6, 7, 8, 9]"
      ]
     },
     "execution_count": 4,
     "metadata": {},
     "output_type": "execute_result"
    }
   ],
   "source": [
    "list(range(1,10))"
   ]
  },
  {
   "cell_type": "code",
   "execution_count": 5,
   "id": "7f1db17f-c0da-45fa-b566-f53dfcd4040e",
   "metadata": {},
   "outputs": [
    {
     "data": {
      "text/plain": [
       "[1, 3, 5, 7, 9]"
      ]
     },
     "execution_count": 5,
     "metadata": {},
     "output_type": "execute_result"
    }
   ],
   "source": [
    "list(range(1,10,2))"
   ]
  },
  {
   "cell_type": "code",
   "execution_count": 6,
   "id": "ea91524b-6bc2-4ee5-a450-21f4657fb910",
   "metadata": {},
   "outputs": [
    {
     "data": {
      "text/plain": [
       "[1, 2, 3, 4, 5]"
      ]
     },
     "execution_count": 6,
     "metadata": {},
     "output_type": "execute_result"
    }
   ],
   "source": [
    "li= list(range(1,6))\n",
    "li"
   ]
  },
  {
   "cell_type": "code",
   "execution_count": 7,
   "id": "d8817819-1ab4-4962-a4ac-561efd6ea97f",
   "metadata": {},
   "outputs": [
    {
     "name": "stdout",
     "output_type": "stream",
     "text": [
      "*\n",
      "**\n",
      "***\n",
      "****\n",
      "*****\n"
     ]
    }
   ],
   "source": [
    "for val in li:\n",
    "   # print('val:', val)\n",
    "    print(\"*\"*val)"
   ]
  },
  {
   "cell_type": "code",
   "execution_count": 8,
   "id": "ebf0df21-c8ce-4ca8-bee6-e67e0d56af10",
   "metadata": {},
   "outputs": [
    {
     "name": "stdout",
     "output_type": "stream",
     "text": [
      "*\n",
      "**\n",
      "***\n",
      "****\n",
      "*****\n"
     ]
    }
   ],
   "source": [
    "for index in range(len(li)):\n",
    "    # len là hàm check được độ dài số lượng phần tử trong cấu trúc dữ liệu\n",
    "   # print('index', index)\n",
    "  print('*'*li[index])"
   ]
  },
  {
   "cell_type": "markdown",
   "id": "0f367140-6b04-43fc-b0ff-8e85b2b64e44",
   "metadata": {},
   "source": [
    "**Bài tập**:\n",
    "\n",
    "Cho 1 danh sách `li` gồm 10 phần tử từ 1 đến 10, trả về danh sách mới `li1` sao cho mỗi phần tử trong `li1` là bình phương của phần tử có trong `li` sử dụng `for`. "
   ]
  },
  {
   "cell_type": "markdown",
   "id": "3f43fef5-53a6-4d15-b9b6-a41b15996f56",
   "metadata": {},
   "source": [
    "ví dụ: check 2000 khách hàng có thỏa mãn điều kiện đưa ra thì có thể dùng hàm for"
   ]
  },
  {
   "cell_type": "code",
   "execution_count": 9,
   "id": "5e787fe6-aa2a-4f7d-abcc-24de2e9232da",
   "metadata": {},
   "outputs": [
    {
     "data": {
      "text/plain": [
       "[1, 4, 9, 16, 25, 36, 49, 64, 81, 100]"
      ]
     },
     "execution_count": 9,
     "metadata": {},
     "output_type": "execute_result"
    }
   ],
   "source": [
    "li= list(range(1,11))\n",
    "li1=[]\n",
    "for i in li:\n",
    "    li1.append(i**2)\n",
    "li1"
   ]
  },
  {
   "cell_type": "code",
   "execution_count": 10,
   "id": "fc65dc42-b0b7-4fab-a89a-a1aaa7e9b5aa",
   "metadata": {},
   "outputs": [
    {
     "data": {
      "text/plain": [
       "[1, 4, 9, 16, 25, 36, 49, 64, 81, 100]"
      ]
     },
     "execution_count": 10,
     "metadata": {},
     "output_type": "execute_result"
    }
   ],
   "source": [
    "li= list(range(1,11))\n",
    "li1=[]\n",
    "for i in range (len(li)):\n",
    "    li1.append(li[i]**2)\n",
    "li1"
   ]
  },
  {
   "cell_type": "markdown",
   "id": "be1bc1ce-3d5d-41fb-93fd-20658f9b0f77",
   "metadata": {},
   "source": [
    "### 2.2 Vòng lặp `while`\n",
    "không biết số vòng lặp là bao nhiêu, mình sẽ đưa ra một điều kiện.\n",
    "giống toán tử so sánh, toán tử luận lý mà học buổi 2, mình sẽ truyền vào condition,"
   ]
  },
  {
   "cell_type": "markdown",
   "id": "9c0148c4-6dfe-47c5-89c5-0d57eaa9d80e",
   "metadata": {},
   "source": [
    "- Cú pháp\n",
    "```\n",
    "while condition(True/False):\n",
    "    business logic\n",
    "```"
   ]
  },
  {
   "cell_type": "code",
   "execution_count": 11,
   "id": "c165365b-ff90-4f10-bb23-16d97b892261",
   "metadata": {},
   "outputs": [
    {
     "name": "stdout",
     "output_type": "stream",
     "text": [
      "*\n",
      "**\n",
      "***\n",
      "****\n",
      "*****\n"
     ]
    }
   ],
   "source": [
    "i= 1\n",
    "while (i<6):\n",
    "    print('*'*i)\n",
    "   # i=i+1\n",
    "    i+=1"
   ]
  },
  {
   "cell_type": "markdown",
   "id": "6784a894-d0db-49ca-9350-2e09fcf83779",
   "metadata": {},
   "source": [
    "**Bài tập**:\n",
    "\n",
    "Cho 1 danh sách `li` gồm 10 phần tử từ 1 đến 10, trả về danh sách mới `li1` sao cho mỗi phần tử trong `li1` là bình phương của phần tử có trong `li` sử dụng `while`. "
   ]
  },
  {
   "cell_type": "code",
   "execution_count": 12,
   "id": "b9d6c7b6-8053-4b57-b36f-b747a75c44ad",
   "metadata": {},
   "outputs": [
    {
     "data": {
      "text/plain": [
       "[1, 4, 9, 16, 25, 36, 49, 64, 81, 100]"
      ]
     },
     "execution_count": 12,
     "metadata": {},
     "output_type": "execute_result"
    }
   ],
   "source": [
    "i=1\n",
    "li1=[]\n",
    "while (i<11):\n",
    "    li1.append(i**2)\n",
    "    i+=1\n",
    "li1"
   ]
  },
  {
   "cell_type": "markdown",
   "id": "c2cbb56d-a639-4d56-8cf0-0767a4574960",
   "metadata": {},
   "source": [
    "Lưu ý: kết thúc vòng For and vòng While kết thúc bằng dấu :\n",
    "        or inde thì chưa tab vào trong for or while"
   ]
  },
  {
   "cell_type": "markdown",
   "id": "883d6078-cd89-415c-a074-cdd4dfb164eb",
   "metadata": {},
   "source": [
    "có KH từ năm 2000 đến 2021, mà chỉ muốn phân tích trong 2021, sinh ra câu lệnh điều kiện, \n",
    "conditioner statement"
   ]
  },
  {
   "cell_type": "markdown",
   "id": "c6d75da2-0c83-49b0-a057-96efa4797070",
   "metadata": {},
   "source": [
    "## 3. Câu lệnh điều kiện"
   ]
  },
  {
   "cell_type": "markdown",
   "id": "34c169d7-aaaf-4f84-933a-08de9cd438d1",
   "metadata": {},
   "source": [
    "- Cú pháp:\n",
    "```\n",
    "if condition(True/False):\n",
    "    business logic\n",
    "elif condition(True/False): # --> optional\n",
    "    business logic\n",
    "elif condition(True/False): # --> optional\n",
    "    business logic\n",
    "elif condition(True/False): # --> optional\n",
    "    business logic\n",
    "    ....\n",
    "else:\n",
    "    business logic # --> optional\n",
    "```"
   ]
  },
  {
   "cell_type": "code",
   "execution_count": 13,
   "id": "22569a61-4ea8-4792-a1a3-fa90675d3842",
   "metadata": {},
   "outputs": [
    {
     "name": "stdout",
     "output_type": "stream",
     "text": [
      "Không cho vay 2\n"
     ]
    }
   ],
   "source": [
    "age = 80\n",
    "if age<18:#false\n",
    "    print('không cho vay') #ignore business logic\n",
    "elif age>70:\n",
    "    print('Không cho vay 2')\n",
    "else:\n",
    "    print('cho vay')#execute business logic\n",
    "#else giải quyết thêm đk false\n",
    "#elif: ở giữa if, else"
   ]
  },
  {
   "cell_type": "markdown",
   "id": "634e98c5-182a-4567-9a03-52142c94a18f",
   "metadata": {},
   "source": [
    "## 4. Hàm \n",
    "khối lệnh đặc biêt, tránh việc lặp đi lặp lại code trong các tác vụ giống nhau.\n",
    "thay vì cứ phải for .... từng cái 1, hàm chỉ cần dùng 1 hàm duy nhất thôi.\n",
    "Hàm trong Python thì có hai kiểu: \n",
    "- build-in (len, range..xanh lá cây)\n",
    "- và user-defined do chính chúng ta định nghĩa logic thực hiện: cú pháp như dưới.\n",
    "+luôn bắt đầu bằng def (definition), chuẩn bị định nghĩa cho 1 hàm.\n",
    "+function_name: tương ứng với tên của hàm: Có thể dùng ký tự, dấu underscore, không để số ở đầu, chỉ được để ký tự ở đầu, senstive, không trùng tên hàm build-in.\n",
    "+ THam số: arg1... có thể có nhiều tham số hoặc không có tham số...., cách nhau bởi dấu phẩy, thời gian tồn tại của biến chỉ tồn tại khi thực thi hàm, sau khi chạy xong thì nó sẽ biến mất.\n",
    "+ sau đó có dấu : (lỗi invalid syntax)\n",
    "return: trả về giá trị or biểu thức hoặc không trả gì, và thông báo kết thúc 1 hàm"
   ]
  },
  {
   "cell_type": "markdown",
   "id": "e3706c05-e506-464c-ab3d-dc3945f006ca",
   "metadata": {},
   "source": [
    "- Cú pháp\n",
    "```\n",
    "def function_name(arg1, arg2, ...):\n",
    "    business logic\n",
    "    return #-->  optional\n",
    "```"
   ]
  },
  {
   "cell_type": "code",
   "execution_count": 14,
   "id": "9c32625f-dd14-4d7b-be82-82cd021144a3",
   "metadata": {},
   "outputs": [],
   "source": [
    "def print_asterisk (li):\n",
    "    '''\n",
    "    print multiple of asterisk in ascending order\n",
    "    '''\n",
    "    for val in li:\n",
    "        print('*'*val)\n",
    "#tận dụng hàm đã có sẵn để định nghĩa là chạy tương ứng\n",
    "#cach tao huong dan (docstring) cho ham user-defined: viết ở giữa ham va business logic\n",
    "#thông thường đóng gói 1 phần mềm, người dùng có thể chưa biết đến lập trình, thì phần chú thích hỗ trợ các bạn mới sử dụng thì biết cách sử dụng"
   ]
  },
  {
   "cell_type": "code",
   "execution_count": 15,
   "id": "f85be579-b23b-4392-9e3f-cbdbb135ab98",
   "metadata": {},
   "outputs": [
    {
     "name": "stdout",
     "output_type": "stream",
     "text": [
      "*\n",
      "**\n",
      "***\n",
      "****\n",
      "*****\n",
      "******\n",
      "*******\n",
      "********\n",
      "*********\n",
      "**********\n",
      "***********\n",
      "************\n",
      "*************\n",
      "**************\n",
      "***************\n",
      "****************\n",
      "*****************\n",
      "******************\n",
      "*******************\n",
      "********************\n"
     ]
    }
   ],
   "source": [
    "print_asterisk(list(range(1,21)))"
   ]
  },
  {
   "cell_type": "markdown",
   "id": "e2451dd0-5d1b-4f37-9b5c-e1629d710ba1",
   "metadata": {},
   "source": [
    "**Bài tập**:\n",
    "\n",
    "Viết 1 hàm tìm giá trị lớn nhất của 1 list các số nguyên. "
   ]
  },
  {
   "cell_type": "code",
   "execution_count": 16,
   "id": "c5e2efaf-86ec-4c8e-a61f-77b604faebb9",
   "metadata": {},
   "outputs": [],
   "source": [
    "li=[2, 5, 89, 100, 102]"
   ]
  },
  {
   "cell_type": "code",
   "execution_count": 17,
   "id": "d4d3e3d5-7dc6-4811-be14-72af80d30830",
   "metadata": {},
   "outputs": [],
   "source": [
    "def max_int1(li):\n",
    "    a=0\n",
    "    for value in li:\n",
    "        if a < value:\n",
    "            a= value\n",
    "    print(a)"
   ]
  },
  {
   "cell_type": "code",
   "execution_count": 18,
   "id": "5fae6fbd-4f09-4ae2-906c-baba356d1e17",
   "metadata": {},
   "outputs": [
    {
     "name": "stdout",
     "output_type": "stream",
     "text": [
      "102\n"
     ]
    }
   ],
   "source": [
    "max_int1(li)"
   ]
  },
  {
   "cell_type": "markdown",
   "id": "1186e6fa-3ca7-4071-b394-edf209995d7d",
   "metadata": {},
   "source": [
    "### **Hàm vô danh**. \n",
    "- Cú pháp:\n",
    "`lambda parameters: business logic`\n",
    "#muốn thao tác các tính toán cơ bản sử dụng hàm def\n",
    "viết trên 1 dòng đối với hàm vô danh, gán vào 1 giá trị biến square 1, định nghĩa nó bằng lambda và truyền tham số vào\n",
    "sử dụng hàm vô danh nếu thao tác tính toán đơn giản\n",
    "phức tạp và lặp đi lặp lại, điều kiện, filter,... thì nên sử dụng hàm thông thường.\n",
    "1 hàm chỉ tầm 10-20 dòng thôi."
   ]
  },
  {
   "cell_type": "code",
   "execution_count": 19,
   "id": "14b42a61-272f-4917-9b4a-a6c9887c8095",
   "metadata": {},
   "outputs": [],
   "source": [
    "def square(x):\n",
    "    return x**2"
   ]
  },
  {
   "cell_type": "code",
   "execution_count": 20,
   "id": "5c071427-ec51-42d0-ba46-c2c12ce17dbf",
   "metadata": {},
   "outputs": [
    {
     "data": {
      "text/plain": [
       "4"
      ]
     },
     "execution_count": 20,
     "metadata": {},
     "output_type": "execute_result"
    }
   ],
   "source": [
    "square(2)"
   ]
  },
  {
   "cell_type": "code",
   "execution_count": 21,
   "id": "a0625bd0-6850-4dc2-94b7-fba42ef73d40",
   "metadata": {},
   "outputs": [],
   "source": [
    "square1 = lambda x: x**2"
   ]
  },
  {
   "cell_type": "code",
   "execution_count": 22,
   "id": "cc5671ed-c227-459d-8863-e43ee6a78601",
   "metadata": {},
   "outputs": [
    {
     "data": {
      "text/plain": [
       "4"
      ]
     },
     "execution_count": 22,
     "metadata": {},
     "output_type": "execute_result"
    }
   ],
   "source": [
    "square1(2)"
   ]
  },
  {
   "cell_type": "markdown",
   "id": "42ef509f-6696-489f-baf3-92e9d4f9668a",
   "metadata": {},
   "source": [
    "## 5. Bao hàm (Comprehension) \n",
    "tại sao sinh ra bao hàm: tính năng tuyệt vời, giảm số lượng dòng code, tạo ra cấu trúc dữ liệu, dựa trên dữ liệu có sẵn chỉ với 1 dòng.\n",
    "for variable in iterable: được định nghĩa bởi ngoặc vuông-list....(theo định nghĩa về cấu trúc dữ liệu)\n",
    "tuple comprehension. lưu ý. tuple () và truyền cú pháp vào.\n",
    "\n",
    "- Cú pháp:\n",
    "    - List comprehension: `[expression for variable in iterable]`\n",
    "    - Set comprehension: `{expression for variable in iterable}`\n",
    "    - Tuple comprehension: `tuple(expression for variable in iterable)`\n",
    "    - Dictionary comprehension: `{key:value for variable in iterable]`\n",
    "    \n",
    "Lưu ý: ta có thể thêm các điều kiện thông qua câu lệnh điều kiện `if else` với bao hàm, ví dụ cú pháp với list comprehension:\n",
    "- `[expression for variable in iterable if condition]`\n",
    "hoặc\n",
    "- `[expression if condition else else-expression for variable in iterable ]`"
   ]
  },
  {
   "cell_type": "code",
   "execution_count": 23,
   "id": "05a09128-736d-4d96-a0a0-5840df728ca8",
   "metadata": {},
   "outputs": [],
   "source": [
    "#tính bình phương cho 1 list"
   ]
  },
  {
   "cell_type": "code",
   "execution_count": 24,
   "id": "e5c47ac6-870d-41db-a96b-9c26c120fb2d",
   "metadata": {},
   "outputs": [],
   "source": [
    "def square_list(li):#dòng tạo ra định nghĩa\n",
    "    li1=[] #dòng biến rống\n",
    "    for value in li:#vòng lặp\n",
    "        li1.append(square(value))#business logic\n",
    "    return li1 #muốn thu thập dữ liệu tìm tập KH trong khoảng thời gian... thì phải có return, tùy vào bài toán đặt ra, chỉ cần in ra\n",
    "#thì không cần dùng return mà chỉ print thôi, còn nếu muốn dùng value để tính toán tiếp thì cần dùng return"
   ]
  },
  {
   "cell_type": "markdown",
   "id": "6e17beab-34d4-40c4-86bb-e04a0841e2e5",
   "metadata": {},
   "source": [
    "tạo ra 1 list, giá trị list ở trong ngoặc vuông, chạy đến từng phần tử của hàm li\n",
    "for x in li, với mỗi phần tử trong li, trả giá trị bình phương của nó -business logic, trả về kết quả value\n",
    "biến thành hàm thì cũng dùng def_ name return lại kết quả luôn"
   ]
  },
  {
   "cell_type": "code",
   "execution_count": 25,
   "id": "b6d1e904-3e2e-4b0b-94ff-4a06a4310251",
   "metadata": {},
   "outputs": [
    {
     "data": {
      "text/plain": [
       "[4, 25, 7921, 10000, 10404]"
      ]
     },
     "execution_count": 25,
     "metadata": {},
     "output_type": "execute_result"
    }
   ],
   "source": [
    "square_list(li)"
   ]
  },
  {
   "cell_type": "code",
   "execution_count": 26,
   "id": "89a532df-8007-43a2-8e2b-beb0f44dd561",
   "metadata": {},
   "outputs": [
    {
     "data": {
      "text/plain": [
       "[3, 5, 36, 11]"
      ]
     },
     "execution_count": 26,
     "metadata": {},
     "output_type": "execute_result"
    }
   ],
   "source": [
    "li=[3, 5, 6, 11]\n",
    "def square_list1(li):\n",
    "    return [value**2 if value%2==0 else value for value in li]\n",
    "square_list1(li)"
   ]
  },
  {
   "cell_type": "markdown",
   "id": "b3c37f58-a05b-459d-9075-afe0b6b10bf5",
   "metadata": {},
   "source": [
    "Trong các bài tiếp theo, chúng ta sẽ cùng nhau tìm hiểu 1 số thư viện bổ trợ cho Python trong việc thao tác, xử lý, phân tích, và trực quan hoá dữ liệu."
   ]
  }
 ],
 "metadata": {
  "kernelspec": {
   "display_name": "Python 3 (ipykernel)",
   "language": "python",
   "name": "python3"
  },
  "language_info": {
   "codemirror_mode": {
    "name": "ipython",
    "version": 3
   },
   "file_extension": ".py",
   "mimetype": "text/x-python",
   "name": "python",
   "nbconvert_exporter": "python",
   "pygments_lexer": "ipython3",
   "version": "3.8.10"
  }
 },
 "nbformat": 4,
 "nbformat_minor": 5
}
