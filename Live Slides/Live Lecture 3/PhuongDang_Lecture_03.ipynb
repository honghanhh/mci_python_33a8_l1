{
 "cells": [
  {
   "cell_type": "markdown",
   "id": "d57db01c-f2e3-45fa-9fd4-0ffb1fd4d0c9",
   "metadata": {},
   "source": [
    "# BÀI 3: GIỚI THIỆU VỀ PYTHON (tiếp theo)"
   ]
  },
  {
   "cell_type": "markdown",
   "id": "9633b1c3-b8fc-4c83-a938-f4bae626b4a8",
   "metadata": {},
   "source": [
    "![](https://laptrinhcanban.com/python/nhap-mon-lap-trinh-python/gioi-thieu-python/python-la-gi/Python.jpg)"
   ]
  },
  {
   "cell_type": "markdown",
   "id": "a2c580fb-7ca3-4c6b-a384-33a7961edaec",
   "metadata": {},
   "source": [
    "## PROGRAMMING FLOW = CONTROL FLOW - TRÌNH TỰ XỬ LÝ CHƯƠNG TRÌNH"
   ]
  },
  {
   "cell_type": "markdown",
   "id": "6bc4aef1-2a45-4a17-91f2-0f402e83c013",
   "metadata": {},
   "source": [
    "## 1. Câu lệnh tuần tự"
   ]
  },
  {
   "cell_type": "code",
   "execution_count": 1,
   "id": "7bcb9b16-dacf-44f3-a0fc-7bec9c205d39",
   "metadata": {},
   "outputs": [
    {
     "name": "stdout",
     "output_type": "stream",
     "text": [
      "Hello\n",
      "world\n",
      "!\n"
     ]
    }
   ],
   "source": [
    "print ('Hello')\n",
    "print ('world')\n",
    "print ('!')"
   ]
  },
  {
   "cell_type": "markdown",
   "id": "8788aded-6846-4aa4-ad65-ab542c0b444c",
   "metadata": {},
   "source": [
    "***Đố vui***: In ra kết quả như sau:\n",
    "```\n",
    "*\n",
    "**\n",
    "***\n",
    "****\n",
    "*****\n",
    "```"
   ]
  },
  {
   "cell_type": "code",
   "execution_count": 2,
   "id": "5fec4555-bbf9-4e9e-9200-57f2761df831",
   "metadata": {},
   "outputs": [
    {
     "name": "stdout",
     "output_type": "stream",
     "text": [
      "*\n",
      "**\n",
      "***\n",
      "****\n",
      "*****\n"
     ]
    }
   ],
   "source": [
    "print ('*')\n",
    "print ('**')\n",
    "print ('***')\n",
    "print ('****')\n",
    "print ('*****')"
   ]
  },
  {
   "cell_type": "code",
   "execution_count": 3,
   "id": "5c02f02c-3bea-4b7b-a101-d06d53341a95",
   "metadata": {},
   "outputs": [
    {
     "name": "stdout",
     "output_type": "stream",
     "text": [
      "*\n",
      "**\n",
      "***\n",
      "****\n",
      "*****\n"
     ]
    }
   ],
   "source": [
    "print ('*')\n",
    "print ('*'*2)\n",
    "print ('*'*3)\n",
    "print ('*'*4)\n",
    "print ('*'*5)"
   ]
  },
  {
   "cell_type": "code",
   "execution_count": 4,
   "id": "f922b0ea-8c09-4bb2-9825-1b4588b3ecfd",
   "metadata": {},
   "outputs": [
    {
     "name": "stdout",
     "output_type": "stream",
     "text": [
      "*\n",
      "**\n",
      "***\n",
      "****\n",
      "*****\n"
     ]
    }
   ],
   "source": [
    "print('*\\n**\\n***\\n****\\n*****')"
   ]
  },
  {
   "cell_type": "markdown",
   "id": "a966f233-1ed7-4dbd-bc8a-5fce3e640dc6",
   "metadata": {},
   "source": [
    "## 2. Vòng lặp FOR VS WHILE"
   ]
  },
  {
   "cell_type": "markdown",
   "id": "0910a9cd-83d4-476e-b817-dca0c4e873fd",
   "metadata": {},
   "source": [
    "### 2.1 Vòng lặp `for` (khi biết rõ số lần lặp)\n",
    "\n",
    "- Cú pháp:\n",
    "    - Cách 1:\n",
    "```\n",
    "for value in iterable:\n",
    "    business logic \n",
    "```\n",
    "\n",
    "    - Cách 2:\n",
    "```\n",
    "for index in range(len(iterable)):\n",
    "    business logic\n",
    "```"
   ]
  },
  {
   "cell_type": "code",
   "execution_count": 6,
   "id": "3b89ac56-4962-47f1-bd9e-8bb0021a7cb9",
   "metadata": {},
   "outputs": [
    {
     "data": {
      "text/plain": [
       "[0, 1, 2, 3, 4, 5, 6, 7, 8, 9]"
      ]
     },
     "execution_count": 6,
     "metadata": {},
     "output_type": "execute_result"
    }
   ],
   "source": [
    "list(range (10)) #from 0 (inclusive-bao gồm) to 10 (exclusive-k bao gồm)"
   ]
  },
  {
   "cell_type": "code",
   "execution_count": 7,
   "id": "2e54ebc6-c497-4361-b4c7-d3d603384f98",
   "metadata": {},
   "outputs": [
    {
     "data": {
      "text/plain": [
       "[1, 3, 5, 7, 9]"
      ]
     },
     "execution_count": 7,
     "metadata": {},
     "output_type": "execute_result"
    }
   ],
   "source": [
    "list(range (1,10,2))"
   ]
  },
  {
   "cell_type": "code",
   "execution_count": 26,
   "id": "4b12690e-d6f8-45fa-b295-7f3eb9d65b8e",
   "metadata": {},
   "outputs": [
    {
     "data": {
      "text/plain": [
       "[1, 2, 3, 4, 5]"
      ]
     },
     "execution_count": 26,
     "metadata": {},
     "output_type": "execute_result"
    }
   ],
   "source": [
    "#gán gtri của list (range) là biến li\n",
    "li = list(range(1,6))\n",
    "li"
   ]
  },
  {
   "cell_type": "code",
   "execution_count": 27,
   "id": "d02543e2-71f0-4b7e-af84-2d7ec4b8d9fb",
   "metadata": {},
   "outputs": [
    {
     "name": "stdout",
     "output_type": "stream",
     "text": [
      "*\n",
      "**\n",
      "***\n",
      "****\n",
      "*****\n"
     ]
    }
   ],
   "source": [
    "for val in li:\n",
    "   # print('val: ',val)\n",
    "    print('*'*val)"
   ]
  },
  {
   "cell_type": "code",
   "execution_count": 15,
   "id": "ad90ef69-bb7c-4435-aaba-e6788123c867",
   "metadata": {},
   "outputs": [
    {
     "name": "stdout",
     "output_type": "stream",
     "text": [
      "*\n",
      "**\n",
      "***\n",
      "****\n",
      "*****\n"
     ]
    }
   ],
   "source": [
    "for ind in range(len(li)):\n",
    "    print('*'*li[ind])"
   ]
  },
  {
   "cell_type": "markdown",
   "id": "0f367140-6b04-43fc-b0ff-8e85b2b64e44",
   "metadata": {},
   "source": [
    "**Bài tập**:\n",
    "\n",
    "Cho 1 danh sách `li` gồm 10 phần tử từ 1 đến 10, trả về danh sách mới `li1` sao cho mỗi phần tử trong `li1` là bình phương của phần tử có trong `li` sử dụng `for`. "
   ]
  },
  {
   "cell_type": "code",
   "execution_count": 28,
   "id": "04ca3409-1a9b-49e4-b6d3-8a7e15e48bf6",
   "metadata": {},
   "outputs": [
    {
     "name": "stdout",
     "output_type": "stream",
     "text": [
      "[1, 2, 3, 4, 5, 6, 7, 8, 9, 10]\n",
      "[1, 4, 9, 16, 25, 36, 49, 64, 81, 100]\n"
     ]
    }
   ],
   "source": [
    "li = list (range (1,11))\n",
    "li1 = []\n",
    "for val in li:\n",
    "    li1.append(val**2)\n",
    "print (li)\n",
    "print (li1)"
   ]
  },
  {
   "cell_type": "code",
   "execution_count": 29,
   "id": "6d178914-42b9-4b66-8007-3ee6b0742f58",
   "metadata": {},
   "outputs": [
    {
     "name": "stdout",
     "output_type": "stream",
     "text": [
      "[1, 2, 3, 4, 5, 6, 7, 8, 9, 10]\n",
      "[1, 4, 9, 16, 25, 36, 49, 64, 81, 100]\n"
     ]
    }
   ],
   "source": [
    "li = list (range (1,11))\n",
    "li1 = []\n",
    "for ind in range(len(li)):\n",
    "    li1.append(li[ind]**2)\n",
    "print (li)\n",
    "print (li1)    "
   ]
  },
  {
   "cell_type": "markdown",
   "id": "be1bc1ce-3d5d-41fb-93fd-20658f9b0f77",
   "metadata": {},
   "source": [
    "### 2.2 Vòng lặp `while`"
   ]
  },
  {
   "cell_type": "markdown",
   "id": "9c0148c4-6dfe-47c5-89c5-0d57eaa9d80e",
   "metadata": {},
   "source": [
    "- Cú pháp\n",
    "```\n",
    "while condition(True/False):\n",
    "    business logic\n",
    "```"
   ]
  },
  {
   "cell_type": "code",
   "execution_count": null,
   "id": "c165365b-ff90-4f10-bb23-16d97b892261",
   "metadata": {},
   "outputs": [],
   "source": [
    "i = 1\n",
    "while i <6:\n",
    "    print ('*'*i)\n",
    "    i+= #loop forever if don't use this line\n",
    "    "
   ]
  },
  {
   "cell_type": "markdown",
   "id": "6784a894-d0db-49ca-9350-2e09fcf83779",
   "metadata": {},
   "source": [
    "**Bài tập**:\n",
    "\n",
    "Cho 1 danh sách `li` gồm 10 phần tử từ 1 đến 10, trả về danh sách mới `li1` sao cho mỗi phần tử trong `li1` là bình phương của phần tử có trong `li` sử dụng `while`. "
   ]
  },
  {
   "cell_type": "code",
   "execution_count": 24,
   "id": "b9d6c7b6-8053-4b57-b36f-b747a75c44ad",
   "metadata": {},
   "outputs": [
    {
     "data": {
      "text/plain": [
       "[1, 4, 9, 16, 25, 36, 49, 64, 81, 100]"
      ]
     },
     "execution_count": 24,
     "metadata": {},
     "output_type": "execute_result"
    }
   ],
   "source": [
    "li1 = []\n",
    "i = 1\n",
    "while i <=10:\n",
    "    li1.append(i**2)\n",
    "    i+=1\n",
    "li1  "
   ]
  },
  {
   "cell_type": "markdown",
   "id": "c6d75da2-0c83-49b0-a057-96efa4797070",
   "metadata": {},
   "source": [
    "## 3. Câu lệnh điều kiện"
   ]
  },
  {
   "cell_type": "markdown",
   "id": "34c169d7-aaaf-4f84-933a-08de9cd438d1",
   "metadata": {},
   "source": [
    "- Cú pháp:\n",
    "```\n",
    "if condition(True/False):\n",
    "    business logic\n",
    "elif condition(True/False): # --> optional\n",
    "    business logic\n",
    "elif condition(True/False): # --> optional\n",
    "    business logic\n",
    "elif condition(True/False): # --> optional\n",
    "    business logic\n",
    "    ....\n",
    "else:\n",
    "    business logic # --> optional\n",
    "```"
   ]
  },
  {
   "cell_type": "code",
   "execution_count": 25,
   "id": "22569a61-4ea8-4792-a1a3-fa90675d3842",
   "metadata": {},
   "outputs": [
    {
     "name": "stdout",
     "output_type": "stream",
     "text": [
      "cho vay\n"
     ]
    }
   ],
   "source": [
    "age = 20\n",
    "if age <18:\n",
    "    print ('khong cho vay')\n",
    "else:\n",
    "    print ('cho vay')"
   ]
  },
  {
   "cell_type": "markdown",
   "id": "634e98c5-182a-4567-9a03-52142c94a18f",
   "metadata": {},
   "source": [
    "## 4. Hàm "
   ]
  },
  {
   "cell_type": "markdown",
   "id": "e3706c05-e506-464c-ab3d-dc3945f006ca",
   "metadata": {},
   "source": [
    "- Cú pháp\n",
    "```\n",
    "def function_name(arg1, arg2, ...):\n",
    "    business logic\n",
    "    return #-->  optional\n",
    "```"
   ]
  },
  {
   "cell_type": "code",
   "execution_count": 37,
   "id": "9c32625f-dd14-4d7b-be82-82cd021144a3",
   "metadata": {},
   "outputs": [],
   "source": [
    "##ví dụ trước\n",
    "def print_asterisk (li2):\n",
    "    for val in li2:\n",
    "        print('*'*val)"
   ]
  },
  {
   "cell_type": "code",
   "execution_count": 38,
   "id": "4b6b4614-021f-4ac1-860c-55e7b8e46e1e",
   "metadata": {},
   "outputs": [
    {
     "name": "stdout",
     "output_type": "stream",
     "text": [
      "*\n",
      "**\n",
      "***\n",
      "****\n",
      "*****\n"
     ]
    }
   ],
   "source": [
    "li2 = [1,2,3,4,5]\n",
    "print_asterisk(li2)\n",
    "## print_asterisk([1,2,3,4,5,6])"
   ]
  },
  {
   "cell_type": "code",
   "execution_count": 69,
   "id": "41383c59-8508-4be7-93e0-03a9e1d2a77e",
   "metadata": {},
   "outputs": [
    {
     "name": "stdout",
     "output_type": "stream",
     "text": [
      "*\n",
      "**\n",
      "***\n",
      "****\n",
      "*****\n",
      "******\n",
      "*******\n",
      "********\n",
      "*********\n",
      "**********\n",
      "***********\n",
      "************\n",
      "*************\n",
      "**************\n",
      "***************\n",
      "****************\n",
      "*****************\n",
      "******************\n",
      "*******************\n"
     ]
    }
   ],
   "source": [
    "print_asterisk(list(range(1,20)))"
   ]
  },
  {
   "cell_type": "code",
   "execution_count": null,
   "id": "1ca98cff-aea7-40fd-840c-4e1d3dbbe982",
   "metadata": {},
   "outputs": [],
   "source": [
    "def"
   ]
  },
  {
   "cell_type": "markdown",
   "id": "e2451dd0-5d1b-4f37-9b5c-e1629d710ba1",
   "metadata": {},
   "source": [
    "**Bài tập**:\n",
    "\n",
    "Viết 1 hàm tìm giá trị lớn nhất của 1 list các số nguyên. "
   ]
  },
  {
   "cell_type": "code",
   "execution_count": 59,
   "id": "d4d3e3d5-7dc6-4811-be14-72af80d30830",
   "metadata": {},
   "outputs": [],
   "source": [
    "def max_list (li3):\n",
    "    a = 0\n",
    "    for val in li3: #cu phap 1 cua vong lap for\n",
    "        if a < val:\n",
    "            a = val\n",
    "    return a "
   ]
  },
  {
   "cell_type": "code",
   "execution_count": 61,
   "id": "22d57733-bad2-4372-87b7-f457e35334ff",
   "metadata": {},
   "outputs": [
    {
     "data": {
      "text/plain": [
       "88"
      ]
     },
     "execution_count": 61,
     "metadata": {},
     "output_type": "execute_result"
    }
   ],
   "source": [
    "li3 = [1,4,7,9,43,88]\n",
    "max_list (li3)"
   ]
  },
  {
   "cell_type": "code",
   "execution_count": 67,
   "id": "c8854c30-6f2a-425b-a46b-54c6bd158de7",
   "metadata": {},
   "outputs": [],
   "source": [
    "def max_list (li):\n",
    "    a = 0\n",
    "    for ind in range(len(li)): #cu phap 2 cua vong lap for\n",
    "        if li[ind] > li[ind-1]:\n",
    "            a = li[ind]\n",
    "    return a"
   ]
  },
  {
   "cell_type": "code",
   "execution_count": 68,
   "id": "a4b7d953-b7c1-497c-9226-26e70547a446",
   "metadata": {},
   "outputs": [
    {
     "data": {
      "text/plain": [
       "88"
      ]
     },
     "execution_count": 68,
     "metadata": {},
     "output_type": "execute_result"
    }
   ],
   "source": [
    "li= [1,4,7,9,43,88]\n",
    "max_list(li)"
   ]
  },
  {
   "cell_type": "code",
   "execution_count": 72,
   "id": "492344cb-64c3-46aa-9b23-202d96aa6e6f",
   "metadata": {},
   "outputs": [],
   "source": [
    "li = [10,5,8,29,55]"
   ]
  },
  {
   "cell_type": "code",
   "execution_count": 73,
   "id": "1f5791ea-c05f-47ab-bd75-e323c3f8bf00",
   "metadata": {},
   "outputs": [],
   "source": [
    "def max_int(li):\n",
    "    li.sort(reverse=True)\n",
    "    print(li[0])"
   ]
  },
  {
   "cell_type": "code",
   "execution_count": 74,
   "id": "930a4179-eb18-4d2a-b5b1-12c1081fecf6",
   "metadata": {},
   "outputs": [
    {
     "name": "stdout",
     "output_type": "stream",
     "text": [
      "55\n"
     ]
    }
   ],
   "source": [
    "max_int(li)"
   ]
  },
  {
   "cell_type": "code",
   "execution_count": 70,
   "id": "eb2f7fe5-96d3-4cab-91ab-7060c768ab64",
   "metadata": {},
   "outputs": [],
   "source": [
    "def max_list(li):\n",
    "    \"\"\"\n",
    "    Return maximum number of a list of intergers\n",
    "    \"\"\"\n",
    "    print (max(li))"
   ]
  },
  {
   "cell_type": "code",
   "execution_count": 71,
   "id": "b948357c-433b-45e3-83c4-f3e4ad74789d",
   "metadata": {},
   "outputs": [
    {
     "name": "stdout",
     "output_type": "stream",
     "text": [
      "88\n"
     ]
    }
   ],
   "source": [
    "max_list(li)"
   ]
  },
  {
   "cell_type": "markdown",
   "id": "1186e6fa-3ca7-4071-b394-edf209995d7d",
   "metadata": {},
   "source": [
    "### **Hàm vô danh**. \n",
    "- Cú pháp:\n",
    "`lambda parameters: business logic`\n",
    "\n"
   ]
  },
  {
   "cell_type": "code",
   "execution_count": null,
   "id": "581d8d2b-ac11-4f41-b229-0a21dd6fae3b",
   "metadata": {},
   "outputs": [],
   "source": []
  },
  {
   "cell_type": "code",
   "execution_count": null,
   "id": "14b42a61-272f-4917-9b4a-a6c9887c8095",
   "metadata": {},
   "outputs": [],
   "source": []
  },
  {
   "cell_type": "markdown",
   "id": "42ef509f-6696-489f-baf3-92e9d4f9668a",
   "metadata": {},
   "source": [
    "## 5. Bao hàm \n",
    "\n",
    "- Cú pháp:\n",
    "    - List comprehension: `[expression for variable in iterable]`\n",
    "    - Set comprehension: `{expression for variable in iterable}`\n",
    "    - Tuple comprehension: `tuple(expression for variable in iterable)`\n",
    "    - Dictionary comprehension: `{key:value for variable in iterable]`\n",
    "    \n",
    "Lưu ý: ta có thể thêm các điều kiện thông qua câu lệnh điều kiện `if else` với bao hàm, ví dụ cú pháp với list comprehension:\n",
    "- `[expression for variable in iterable if condition]`\n",
    "hoặc\n",
    "- `[expression if condition else else-expression for variable in iterable ]`"
   ]
  },
  {
   "cell_type": "code",
   "execution_count": null,
   "id": "e5c47ac6-870d-41db-a96b-9c26c120fb2d",
   "metadata": {},
   "outputs": [],
   "source": []
  },
  {
   "cell_type": "markdown",
   "id": "b3c37f58-a05b-459d-9075-afe0b6b10bf5",
   "metadata": {},
   "source": [
    "Trong các bài tiếp theo, chúng ta sẽ cùng nhau tìm hiểu 1 số thư viện bổ trợ cho Python trong việc thao tác, xử lý, phân tích, và trực quan hoá dữ liệu."
   ]
  }
 ],
 "metadata": {
  "kernelspec": {
   "display_name": "Python 3 (ipykernel)",
   "language": "python",
   "name": "python3"
  },
  "language_info": {
   "codemirror_mode": {
    "name": "ipython",
    "version": 3
   },
   "file_extension": ".py",
   "mimetype": "text/x-python",
   "name": "python",
   "nbconvert_exporter": "python",
   "pygments_lexer": "ipython3",
   "version": "3.8.11"
  }
 },
 "nbformat": 4,
 "nbformat_minor": 5
}
