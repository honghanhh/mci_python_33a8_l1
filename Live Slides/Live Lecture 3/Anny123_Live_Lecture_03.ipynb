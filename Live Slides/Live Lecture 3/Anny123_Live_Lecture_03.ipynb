{
 "cells": [
  {
   "cell_type": "markdown",
   "id": "d57db01c-f2e3-45fa-9fd4-0ffb1fd4d0c9",
   "metadata": {},
   "source": [
    "# BÀI 3: GIỚI THIỆU VỀ PYTHON (tiếp theo)"
   ]
  },
  {
   "cell_type": "markdown",
   "id": "9633b1c3-b8fc-4c83-a938-f4bae626b4a8",
   "metadata": {},
   "source": [
    "![](https://laptrinhcanban.com/python/nhap-mon-lap-trinh-python/gioi-thieu-python/python-la-gi/Python.jpg)"
   ]
  },
  {
   "cell_type": "markdown",
   "id": "6bc4aef1-2a45-4a17-91f2-0f402e83c013",
   "metadata": {},
   "source": [
    "# Programming flow = Control flow\n",
    "\n",
    "## 1. Câu lệnh tuần tự (Sequential)"
   ]
  },
  {
   "cell_type": "code",
   "execution_count": 1,
   "id": "7bcb9b16-dacf-44f3-a0fc-7bec9c205d39",
   "metadata": {},
   "outputs": [
    {
     "name": "stdout",
     "output_type": "stream",
     "text": [
      "Hello\n",
      "world\n",
      "!\n"
     ]
    }
   ],
   "source": [
    "print (\"Hello\")\n",
    "print (\"world\")\n",
    "print (\"!\")"
   ]
  },
  {
   "cell_type": "markdown",
   "id": "8788aded-6846-4aa4-ad65-ab542c0b444c",
   "metadata": {},
   "source": [
    "***Đố vui***: In ra kết quả như sau:\n",
    "```\n",
    "*\n",
    "**\n",
    "***\n",
    "****\n",
    "*****\n",
    "```"
   ]
  },
  {
   "cell_type": "code",
   "execution_count": 2,
   "id": "5fec4555-bbf9-4e9e-9200-57f2761df831",
   "metadata": {},
   "outputs": [
    {
     "name": "stdout",
     "output_type": "stream",
     "text": [
      "\n",
      "*\n",
      "**\n",
      "***\n",
      "****\n",
      "*****\n",
      "\n"
     ]
    }
   ],
   "source": [
    "print(\"\"\"\n",
    "*\n",
    "**\n",
    "***\n",
    "****\n",
    "*****\n",
    "\"\"\")"
   ]
  },
  {
   "cell_type": "code",
   "execution_count": 3,
   "id": "dbb9052d-ce5a-4576-898a-b05274975803",
   "metadata": {},
   "outputs": [
    {
     "name": "stdout",
     "output_type": "stream",
     "text": [
      "*\n",
      "**\n",
      "***\n",
      "****\n",
      "*****\n"
     ]
    }
   ],
   "source": [
    "print(\"*\")\n",
    "print(\"*\" * 2)\n",
    "print(\"*\" * 3)\n",
    "print(\"*\" * 4)\n",
    "print(\"*\" * 5)"
   ]
  },
  {
   "cell_type": "code",
   "execution_count": null,
   "id": "24413ca7-77a4-4b30-afe1-6f3c4fda947f",
   "metadata": {},
   "outputs": [],
   "source": []
  },
  {
   "cell_type": "markdown",
   "id": "a966f233-1ed7-4dbd-bc8a-5fce3e640dc6",
   "metadata": {},
   "source": [
    "## 2. Vòng lặp FOR và WHILE"
   ]
  },
  {
   "cell_type": "markdown",
   "id": "0910a9cd-83d4-476e-b817-dca0c4e873fd",
   "metadata": {},
   "source": [
    "### 2.1 Vòng lặp `for`\n",
    "\n",
    "- Cú pháp:\n",
    "    - Cách 1:\n",
    "```\n",
    "for value in iterable (list, tuple, dictionary, set):\n",
    "    business logic \n",
    "```\n",
    "\n",
    "    - Cách 2:\n",
    "```\n",
    "for index in range(len(iterable)):\n",
    "    business logic\n",
    "```"
   ]
  },
  {
   "cell_type": "code",
   "execution_count": null,
   "id": "3b89ac56-4962-47f1-bd9e-8bb0021a7cb9",
   "metadata": {},
   "outputs": [],
   "source": [
    "# indentation (lùi vào với các Business logic)"
   ]
  },
  {
   "cell_type": "code",
   "execution_count": 4,
   "id": "dca5c75c-b4c4-47df-9f9f-c9d3fe9a9d17",
   "metadata": {},
   "outputs": [
    {
     "data": {
      "text/plain": [
       "[0, 1, 2, 3, 4, 5, 6, 7, 8, 9]"
      ]
     },
     "execution_count": 4,
     "metadata": {},
     "output_type": "execute_result"
    }
   ],
   "source": [
    "list(range(10)) #from 0 (inclusive) to 10 (exclusive)"
   ]
  },
  {
   "cell_type": "code",
   "execution_count": 5,
   "id": "8b06c6ad-2659-45d5-bf0a-91945002c160",
   "metadata": {},
   "outputs": [
    {
     "data": {
      "text/plain": [
       "[1, 2, 3, 4, 5, 6, 7, 8, 9]"
      ]
     },
     "execution_count": 5,
     "metadata": {},
     "output_type": "execute_result"
    }
   ],
   "source": [
    "list(range(1,10))"
   ]
  },
  {
   "cell_type": "code",
   "execution_count": 6,
   "id": "acf26fab-2fe2-4ce5-95a4-05d9e5d8b4b9",
   "metadata": {},
   "outputs": [
    {
     "data": {
      "text/plain": [
       "[1, 3, 5, 7, 9]"
      ]
     },
     "execution_count": 6,
     "metadata": {},
     "output_type": "execute_result"
    }
   ],
   "source": [
    "list(range(1,10,2))"
   ]
  },
  {
   "cell_type": "code",
   "execution_count": 7,
   "id": "02b91016-d8ff-4715-bc07-d37e02edb92a",
   "metadata": {},
   "outputs": [
    {
     "data": {
      "text/plain": [
       "[1, 2, 3, 4, 5]"
      ]
     },
     "execution_count": 7,
     "metadata": {},
     "output_type": "execute_result"
    }
   ],
   "source": [
    "li = list(range(1,6))\n",
    "li"
   ]
  },
  {
   "cell_type": "code",
   "execution_count": 10,
   "id": "c564625e-1acb-4d14-a5bc-f76891e27235",
   "metadata": {},
   "outputs": [
    {
     "name": "stdout",
     "output_type": "stream",
     "text": [
      "*\n",
      "**\n",
      "***\n",
      "****\n",
      "*****\n"
     ]
    }
   ],
   "source": [
    "for val in li:\n",
    "    #print ('val:',val)\n",
    "    print('*'*val)"
   ]
  },
  {
   "cell_type": "code",
   "execution_count": 12,
   "id": "bd886bf0-9a9e-4225-b53c-15945de06f8f",
   "metadata": {},
   "outputs": [
    {
     "name": "stdout",
     "output_type": "stream",
     "text": [
      "*\n",
      "**\n",
      "***\n",
      "****\n",
      "*****\n"
     ]
    }
   ],
   "source": [
    "for index in range(len(li)):\n",
    "    print('*'*li[index])"
   ]
  },
  {
   "cell_type": "code",
   "execution_count": 13,
   "id": "1baca349-e142-4e86-80e7-d77647478407",
   "metadata": {},
   "outputs": [
    {
     "data": {
      "text/plain": [
       "[1, 2, 3, 4, 5]"
      ]
     },
     "execution_count": 13,
     "metadata": {},
     "output_type": "execute_result"
    }
   ],
   "source": [
    "li"
   ]
  },
  {
   "cell_type": "code",
   "execution_count": 14,
   "id": "738b7d1f-0418-483d-9de3-55aea5fa5004",
   "metadata": {},
   "outputs": [
    {
     "data": {
      "text/plain": [
       "5"
      ]
     },
     "execution_count": 14,
     "metadata": {},
     "output_type": "execute_result"
    }
   ],
   "source": [
    "len(li)"
   ]
  },
  {
   "cell_type": "markdown",
   "id": "0f367140-6b04-43fc-b0ff-8e85b2b64e44",
   "metadata": {},
   "source": [
    "**Bài tập**:\n",
    "\n",
    "Cho 1 danh sách `li` gồm 10 phần tử từ 1 đến 10, trả về danh sách mới `li1` sao cho mỗi phần tử trong `li1` là bình phương của phần tử có trong `li` sử dụng `for`. "
   ]
  },
  {
   "cell_type": "code",
   "execution_count": 16,
   "id": "0e1c08a8-cdfb-498f-82a4-f31507382a77",
   "metadata": {},
   "outputs": [
    {
     "data": {
      "text/plain": [
       "[1, 4, 9, 16, 25, 36, 49, 64, 81, 100]"
      ]
     },
     "execution_count": 16,
     "metadata": {},
     "output_type": "execute_result"
    }
   ],
   "source": [
    "li = list(range(1,11))\n",
    "li1 = []\n",
    "for x in li:\n",
    "    li1.append(x**2)\n",
    "li1"
   ]
  },
  {
   "cell_type": "code",
   "execution_count": 26,
   "id": "c15ce01e-2820-4239-9e8a-b8bffdebc0c1",
   "metadata": {},
   "outputs": [
    {
     "data": {
      "text/plain": [
       "[1, 4, 9, 16, 25, 36, 49, 64, 81, 100]"
      ]
     },
     "execution_count": 26,
     "metadata": {},
     "output_type": "execute_result"
    }
   ],
   "source": [
    "li = list(range(1,11))\n",
    "li1 = []\n",
    "for x in range(len(li)):\n",
    "    li1.append(li[x]**2)\n",
    "li1"
   ]
  },
  {
   "cell_type": "markdown",
   "id": "be1bc1ce-3d5d-41fb-93fd-20658f9b0f77",
   "metadata": {},
   "source": [
    "### 2.2 Vòng lặp `while`"
   ]
  },
  {
   "cell_type": "markdown",
   "id": "9c0148c4-6dfe-47c5-89c5-0d57eaa9d80e",
   "metadata": {},
   "source": [
    "- Cú pháp\n",
    "```\n",
    "while condition(True/False):\n",
    "    business logic\n",
    "```"
   ]
  },
  {
   "cell_type": "code",
   "execution_count": 17,
   "id": "c165365b-ff90-4f10-bb23-16d97b892261",
   "metadata": {},
   "outputs": [
    {
     "name": "stdout",
     "output_type": "stream",
     "text": [
      "*\n",
      "**\n",
      "***\n",
      "****\n",
      "*****\n"
     ]
    }
   ],
   "source": [
    "i = 1\n",
    "while i < 6:\n",
    "    print('*'*i)\n",
    "    i += 1 # (i = i + 1) loop forever if don't use this line "
   ]
  },
  {
   "cell_type": "markdown",
   "id": "6784a894-d0db-49ca-9350-2e09fcf83779",
   "metadata": {},
   "source": [
    "**Bài tập**:\n",
    "\n",
    "Cho 1 danh sách `li` gồm 10 phần tử từ 1 đến 10, trả về danh sách mới `li1` sao cho mỗi phần tử trong `li1` là bình phương của phần tử có trong `li` sử dụng `while`. "
   ]
  },
  {
   "cell_type": "code",
   "execution_count": 21,
   "id": "b9d6c7b6-8053-4b57-b36f-b747a75c44ad",
   "metadata": {},
   "outputs": [
    {
     "data": {
      "text/plain": [
       "[1, 4, 9, 16, 25, 36, 49, 64, 81, 100]"
      ]
     },
     "execution_count": 21,
     "metadata": {},
     "output_type": "execute_result"
    }
   ],
   "source": [
    "i=1\n",
    "li1=[]\n",
    "while i<11:\n",
    "    li1.append(i**2)\n",
    "    i+=1\n",
    "li1"
   ]
  },
  {
   "cell_type": "markdown",
   "id": "c6d75da2-0c83-49b0-a057-96efa4797070",
   "metadata": {},
   "source": [
    "## 3. Câu lệnh điều kiện"
   ]
  },
  {
   "cell_type": "markdown",
   "id": "34c169d7-aaaf-4f84-933a-08de9cd438d1",
   "metadata": {},
   "source": [
    "- Cú pháp:\n",
    "```\n",
    "if condition(True/False):\n",
    "    business logic\n",
    "elif condition(True/False): # --> optional\n",
    "    business logic\n",
    "elif condition(True/False): # --> optional\n",
    "    business logic\n",
    "elif condition(True/False): # --> optional\n",
    "    business logic\n",
    "    ....\n",
    "else:\n",
    "    business logic # --> optional\n",
    "```"
   ]
  },
  {
   "cell_type": "code",
   "execution_count": 27,
   "id": "22569a61-4ea8-4792-a1a3-fa90675d3842",
   "metadata": {},
   "outputs": [
    {
     "name": "stdout",
     "output_type": "stream",
     "text": [
      "Khong cho vay\n"
     ]
    }
   ],
   "source": [
    "age = 12\n",
    "if age < 18: #True\n",
    "    print('Khong cho vay') # ignore this business logic\n",
    "else:\n",
    "    print('Cho vay') # execute this business logic"
   ]
  },
  {
   "cell_type": "code",
   "execution_count": 29,
   "id": "c36d5dde-e034-44fc-b87c-7b7cee60c778",
   "metadata": {},
   "outputs": [
    {
     "name": "stdout",
     "output_type": "stream",
     "text": [
      "Khong cho vay 2\n"
     ]
    }
   ],
   "source": [
    "age = 80\n",
    "if age < 18: #True\n",
    "    print('Khong cho vay 1') # ignore this business logic\n",
    "elif age > 70:\n",
    "    print('Khong cho vay 2') #execute\n",
    "else:\n",
    "    print('Cho vay') # ignore this business logic"
   ]
  },
  {
   "cell_type": "markdown",
   "id": "634e98c5-182a-4567-9a03-52142c94a18f",
   "metadata": {},
   "source": [
    "## 4. Hàm \n",
    "\n",
    "In Python: \n",
    "- Build-in fuction: len(), range()\n",
    "- User-defined fuction:"
   ]
  },
  {
   "cell_type": "markdown",
   "id": "e3706c05-e506-464c-ab3d-dc3945f006ca",
   "metadata": {},
   "source": [
    "- Cú pháp\n",
    "```\n",
    "def function_name(arg1, arg2, ...):\n",
    "    business logic\n",
    "    return #-->  optional\n",
    "```\n",
    "\n",
    "Để viết chú thích: giữ def và business logic, ta viết chú thích ở giữa 2 lần \"\"\""
   ]
  },
  {
   "cell_type": "code",
   "execution_count": 36,
   "id": "9c32625f-dd14-4d7b-be82-82cd021144a3",
   "metadata": {},
   "outputs": [],
   "source": [
    "def print_asterisk(li):\n",
    "    \"\"\"\n",
    "    This func used to print multiple of asterisks in ascending order\n",
    "    \"\"\"\n",
    "    for val in li:\n",
    "        print('*'*val)"
   ]
  },
  {
   "cell_type": "code",
   "execution_count": 33,
   "id": "6264771b-4205-492c-95a9-d6211d7572e6",
   "metadata": {},
   "outputs": [
    {
     "name": "stdout",
     "output_type": "stream",
     "text": [
      "*\n",
      "**\n",
      "***\n",
      "****\n",
      "*****\n"
     ]
    }
   ],
   "source": [
    "li = range(1,6)\n",
    "print_asterisk(li)"
   ]
  },
  {
   "cell_type": "code",
   "execution_count": 35,
   "id": "bf2eef6f-4f57-4669-a303-7a1e6906ab62",
   "metadata": {},
   "outputs": [
    {
     "name": "stdout",
     "output_type": "stream",
     "text": [
      "*\n",
      "**\n",
      "***\n",
      "****\n",
      "*****\n",
      "******\n",
      "*******\n",
      "********\n",
      "*********\n",
      "**********\n",
      "***********\n",
      "************\n",
      "*************\n",
      "**************\n",
      "***************\n"
     ]
    }
   ],
   "source": [
    "print_asterisk(list(range(1,16)))"
   ]
  },
  {
   "cell_type": "markdown",
   "id": "e2451dd0-5d1b-4f37-9b5c-e1629d710ba1",
   "metadata": {},
   "source": [
    "**Bài tập**:\n",
    "\n",
    "Viết 1 hàm tìm giá trị lớn nhất của 1 list các số nguyên. "
   ]
  },
  {
   "cell_type": "code",
   "execution_count": null,
   "id": "d4d3e3d5-7dc6-4811-be14-72af80d30830",
   "metadata": {},
   "outputs": [],
   "source": []
  },
  {
   "cell_type": "code",
   "execution_count": 40,
   "id": "bd7f962e-f3a3-4026-9f67-a478f1e4b550",
   "metadata": {},
   "outputs": [],
   "source": [
    "def max_int(i):\n",
    "    \"\"\"\n",
    "    Return maximum number of a list of integers\n",
    "    \"\"\"\n",
    "    print(max(i))"
   ]
  },
  {
   "cell_type": "code",
   "execution_count": 41,
   "id": "89119033-9e9b-4298-bed6-33f1e17dddc8",
   "metadata": {},
   "outputs": [],
   "source": [
    "def max_int1(li):\n",
    "    li.sort(reverse=True)\n",
    "    print(li[0])"
   ]
  },
  {
   "cell_type": "code",
   "execution_count": 42,
   "id": "4836ca53-ec41-4bff-a9bc-99236a02cd7e",
   "metadata": {},
   "outputs": [
    {
     "name": "stdout",
     "output_type": "stream",
     "text": [
      "100\n"
     ]
    }
   ],
   "source": [
    "max_int1(li)"
   ]
  },
  {
   "cell_type": "code",
   "execution_count": 39,
   "id": "e4127add-37fb-4d81-8648-e5610baa67d0",
   "metadata": {},
   "outputs": [
    {
     "name": "stdout",
     "output_type": "stream",
     "text": [
      "100\n"
     ]
    }
   ],
   "source": [
    "max_int(li)"
   ]
  },
  {
   "cell_type": "code",
   "execution_count": 47,
   "id": "0dc97677-a7a6-409b-96e5-fdd86193c7f0",
   "metadata": {},
   "outputs": [],
   "source": [
    "def find_max(li):\n",
    "    a = 0\n",
    "    for i in range(len(li)): # cu phap 2 cua vong lap for\n",
    "        if li[i] > li[i - 1]:\n",
    "            a = li[i]\n",
    "    print(a)"
   ]
  },
  {
   "cell_type": "code",
   "execution_count": 44,
   "id": "2e194a2a-6e3c-4739-8b8b-b2c5ed0d5eb7",
   "metadata": {},
   "outputs": [
    {
     "name": "stdout",
     "output_type": "stream",
     "text": [
      "100\n"
     ]
    }
   ],
   "source": [
    "find_max(li)"
   ]
  },
  {
   "cell_type": "code",
   "execution_count": 48,
   "id": "0ca37a54-368d-48a3-8f1f-422957ab7114",
   "metadata": {},
   "outputs": [],
   "source": [
    "def find_max2(li):\n",
    "    a = 0\n",
    "    for value in li:\n",
    "        if a < value: # cu phap 1 cua vong lap for\n",
    "            a = value\n",
    "    print(a)"
   ]
  },
  {
   "cell_type": "code",
   "execution_count": 49,
   "id": "96fded91-691e-4b31-a23a-866e9001f6a5",
   "metadata": {},
   "outputs": [
    {
     "name": "stdout",
     "output_type": "stream",
     "text": [
      "100\n"
     ]
    }
   ],
   "source": [
    "find_max2(li)"
   ]
  },
  {
   "cell_type": "markdown",
   "id": "1186e6fa-3ca7-4071-b394-edf209995d7d",
   "metadata": {},
   "source": [
    "### **Hàm vô danh**. \n",
    "- Cú pháp:\n",
    "`lambda parameters: business logic`\n",
    "\n",
    "Su dung khi tinh toan co ban, it bieu thuc\n"
   ]
  },
  {
   "cell_type": "code",
   "execution_count": 59,
   "id": "9071a0dd-3d12-4942-8efc-2f27c58c05d1",
   "metadata": {},
   "outputs": [],
   "source": [
    "#Ham thong thuong:\n",
    "def square(x):\n",
    "    return x**2 # can 2 dong de execute"
   ]
  },
  {
   "cell_type": "code",
   "execution_count": 51,
   "id": "4dafe8e3-b036-45f2-bcb0-c24013ba2a65",
   "metadata": {},
   "outputs": [
    {
     "data": {
      "text/plain": [
       "4"
      ]
     },
     "execution_count": 51,
     "metadata": {},
     "output_type": "execute_result"
    }
   ],
   "source": [
    "square(2)"
   ]
  },
  {
   "cell_type": "code",
   "execution_count": 60,
   "id": "d7156dad-c08f-4885-9259-741f531e4336",
   "metadata": {},
   "outputs": [],
   "source": [
    "# Ham vo danh:\n",
    "square1 = lambda x: x**2 # chi 1 dong"
   ]
  },
  {
   "cell_type": "code",
   "execution_count": 58,
   "id": "473fc664-390b-4602-b8d8-19c19d75096f",
   "metadata": {},
   "outputs": [
    {
     "data": {
      "text/plain": [
       "9"
      ]
     },
     "execution_count": 58,
     "metadata": {},
     "output_type": "execute_result"
    }
   ],
   "source": [
    "square1(3)"
   ]
  },
  {
   "cell_type": "code",
   "execution_count": 37,
   "id": "14b42a61-272f-4917-9b4a-a6c9887c8095",
   "metadata": {},
   "outputs": [],
   "source": [
    "li = [10, 100, 2, 4, 98]"
   ]
  },
  {
   "cell_type": "markdown",
   "id": "42ef509f-6696-489f-baf3-92e9d4f9668a",
   "metadata": {},
   "source": [
    "## 5. Bao hàm (Comprehension)\n",
    "\n",
    "- Cú pháp:\n",
    "    - List comprehension: `[expression for variable in iterable]`\n",
    "    - Set comprehension: `{expression for variable in iterable}`\n",
    "    - Tuple comprehension: `tuple(expression for variable in iterable)`\n",
    "    - Dictionary comprehension: `{key:value for variable in iterable]`\n",
    "    \n",
    "Lưu ý: ta có thể thêm các điều kiện thông qua câu lệnh điều kiện `if else` với bao hàm, ví dụ cú pháp với list comprehension:\n",
    "- `[expression for variable in iterable if condition]`\n",
    "hoặc\n",
    "- `[expression if condition else else-expression for variable in iterable ]`"
   ]
  },
  {
   "cell_type": "code",
   "execution_count": 67,
   "id": "e5c47ac6-870d-41db-a96b-9c26c120fb2d",
   "metadata": {},
   "outputs": [],
   "source": [
    "#Khi chua bao ham:\n",
    "def square_list(li):\n",
    "    li1 = []\n",
    "    for value in li:\n",
    "       #if chia het cho 2: \n",
    "        li1.append(value**2)\n",
    "        # else khong chia het cho 2\n",
    "        # append gia tri goc\n",
    "    return li1"
   ]
  },
  {
   "cell_type": "code",
   "execution_count": 62,
   "id": "7555e12a-8ad2-4a23-8a41-211e0c21bb5b",
   "metadata": {},
   "outputs": [
    {
     "data": {
      "text/plain": [
       "[1, 16, 64]"
      ]
     },
     "execution_count": 62,
     "metadata": {},
     "output_type": "execute_result"
    }
   ],
   "source": [
    "li = [1, 4, 8]\n",
    "square_list(li)"
   ]
  },
  {
   "cell_type": "code",
   "execution_count": 63,
   "id": "8b4a82f4-1df0-49e2-9bab-1eb3ade9400c",
   "metadata": {},
   "outputs": [],
   "source": [
    "def square_list(li):\n",
    "    li1 = []\n",
    "    for value in li:\n",
    "        li1.append(square(value))\n",
    "    return li1"
   ]
  },
  {
   "cell_type": "code",
   "execution_count": 64,
   "id": "c923ac3c-f028-442a-a6a8-7d3100287caf",
   "metadata": {},
   "outputs": [
    {
     "data": {
      "text/plain": [
       "[1, 16, 64]"
      ]
     },
     "execution_count": 64,
     "metadata": {},
     "output_type": "execute_result"
    }
   ],
   "source": [
    "li = [1, 4, 8]\n",
    "square_list(li)"
   ]
  },
  {
   "cell_type": "code",
   "execution_count": 68,
   "id": "21fd7b2c-c2a7-46ef-ac96-791668d8630a",
   "metadata": {},
   "outputs": [
    {
     "data": {
      "text/plain": [
       "{3, 5, 9, 16}"
      ]
     },
     "execution_count": 68,
     "metadata": {},
     "output_type": "execute_result"
    }
   ],
   "source": [
    "#Su dung bao ham:\n",
    "li = [3, 4, 5, 9]\n",
    "def square_list1(li):\n",
    "    return {square(value) if value%2 == 0 else value for value in li}\n",
    "\n",
    "square_list1(li)"
   ]
  },
  {
   "cell_type": "markdown",
   "id": "b3c37f58-a05b-459d-9075-afe0b6b10bf5",
   "metadata": {},
   "source": [
    "Trong các bài tiếp theo, chúng ta sẽ cùng nhau tìm hiểu 1 số thư viện bổ trợ cho Python trong việc thao tác, xử lý, phân tích, và trực quan hoá dữ liệu."
   ]
  }
 ],
 "metadata": {
  "kernelspec": {
   "display_name": "Python 3 (ipykernel)",
   "language": "python",
   "name": "python3"
  },
  "language_info": {
   "codemirror_mode": {
    "name": "ipython",
    "version": 3
   },
   "file_extension": ".py",
   "mimetype": "text/x-python",
   "name": "python",
   "nbconvert_exporter": "python",
   "pygments_lexer": "ipython3",
   "version": "3.7.11"
  }
 },
 "nbformat": 4,
 "nbformat_minor": 5
}
