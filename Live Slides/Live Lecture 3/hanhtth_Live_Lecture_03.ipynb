{
 "cells": [
  {
   "cell_type": "markdown",
   "id": "d57db01c-f2e3-45fa-9fd4-0ffb1fd4d0c9",
   "metadata": {},
   "source": [
    "# BÀI 3: GIỚI THIỆU VỀ PYTHON (tiếp theo)"
   ]
  },
  {
   "cell_type": "markdown",
   "id": "9633b1c3-b8fc-4c83-a938-f4bae626b4a8",
   "metadata": {},
   "source": [
    "![](https://laptrinhcanban.com/python/nhap-mon-lap-trinh-python/gioi-thieu-python/python-la-gi/Python.jpg)"
   ]
  },
  {
   "cell_type": "markdown",
   "id": "6bc4aef1-2a45-4a17-91f2-0f402e83c013",
   "metadata": {},
   "source": [
    "# PROGRAMMING FLOW = CONTROL FLOW\n",
    "\n",
    "## 1. Câu lệnh tuần tự (Sequential)"
   ]
  },
  {
   "cell_type": "code",
   "execution_count": 1,
   "id": "7bcb9b16-dacf-44f3-a0fc-7bec9c205d39",
   "metadata": {},
   "outputs": [
    {
     "name": "stdout",
     "output_type": "stream",
     "text": [
      "Hello\n",
      "world\n",
      "!\n"
     ]
    }
   ],
   "source": [
    "print(\"Hello\") # 1\n",
    "print(\"world\") # 2\n",
    "print(\"!\") # 3"
   ]
  },
  {
   "cell_type": "markdown",
   "id": "8788aded-6846-4aa4-ad65-ab542c0b444c",
   "metadata": {},
   "source": [
    "***Đố vui***: In ra kết quả như sau:\n",
    "```\n",
    "*\n",
    "**\n",
    "***\n",
    "****\n",
    "*****\n",
    "```"
   ]
  },
  {
   "cell_type": "code",
   "execution_count": 3,
   "id": "5fec4555-bbf9-4e9e-9200-57f2761df831",
   "metadata": {},
   "outputs": [
    {
     "name": "stdout",
     "output_type": "stream",
     "text": [
      "\n",
      "*\n",
      "**\n",
      "***\n",
      "****\n",
      "*****\n",
      "\n"
     ]
    }
   ],
   "source": [
    "print(\"\"\"\n",
    "*\n",
    "**\n",
    "***\n",
    "****\n",
    "*****\n",
    "\"\"\")"
   ]
  },
  {
   "cell_type": "code",
   "execution_count": 4,
   "id": "c259a93a-f2d9-4ec2-aaa2-042a96ea91e7",
   "metadata": {},
   "outputs": [
    {
     "name": "stdout",
     "output_type": "stream",
     "text": [
      "*\n",
      "**\n",
      "***\n",
      "****\n",
      "*****\n"
     ]
    }
   ],
   "source": [
    "print(\"*\")\n",
    "print(\"**\")\n",
    "print(\"***\")\n",
    "print(\"****\")\n",
    "print(\"*****\")"
   ]
  },
  {
   "cell_type": "code",
   "execution_count": 5,
   "id": "bae1611a-8e16-4a12-a389-25b02ab05564",
   "metadata": {},
   "outputs": [
    {
     "name": "stdout",
     "output_type": "stream",
     "text": [
      "*\n",
      "**\n",
      "***\n",
      "****\n",
      "*****\n"
     ]
    }
   ],
   "source": [
    "print(\"*\")\n",
    "print(\"*\" * 2)\n",
    "print(\"*\" * 3)\n",
    "print(\"*\" * 4)\n",
    "print(\"*\" * 5)"
   ]
  },
  {
   "cell_type": "markdown",
   "id": "a966f233-1ed7-4dbd-bc8a-5fce3e640dc6",
   "metadata": {},
   "source": [
    "## 2. Vòng lặp `FOR` vs `WHILE`"
   ]
  },
  {
   "cell_type": "markdown",
   "id": "0910a9cd-83d4-476e-b817-dca0c4e873fd",
   "metadata": {},
   "source": [
    "### 2.1 Vòng lặp `for`\n",
    "\n",
    "- Cú pháp:\n",
    "    - Cách 1:\n",
    "```\n",
    "for value in iterable:\n",
    "    business logic \n",
    "```\n",
    "\n",
    "    - Cách 2:\n",
    "```\n",
    "for index in range(len(iterable)):\n",
    "    business logic\n",
    "```"
   ]
  },
  {
   "cell_type": "code",
   "execution_count": 7,
   "id": "3b89ac56-4962-47f1-bd9e-8bb0021a7cb9",
   "metadata": {},
   "outputs": [
    {
     "data": {
      "text/plain": [
       "[0, 1, 2, 3, 4, 5, 6, 7, 8, 9]"
      ]
     },
     "execution_count": 7,
     "metadata": {},
     "output_type": "execute_result"
    }
   ],
   "source": [
    "list(range(10)) # from 0 (inclusive) to 10 (exclusive)"
   ]
  },
  {
   "cell_type": "code",
   "execution_count": 9,
   "id": "acf3eff7-284c-4f17-a801-c9dffb7a0ce5",
   "metadata": {},
   "outputs": [
    {
     "data": {
      "text/plain": [
       "[1, 3, 5, 7, 9]"
      ]
     },
     "execution_count": 9,
     "metadata": {},
     "output_type": "execute_result"
    }
   ],
   "source": [
    "list(range(1,10,2))"
   ]
  },
  {
   "cell_type": "code",
   "execution_count": 36,
   "id": "4302b651-ecd0-4b93-938a-b5f8faa77122",
   "metadata": {},
   "outputs": [
    {
     "data": {
      "text/plain": [
       "[1, 2, 3, 4, 5]"
      ]
     },
     "execution_count": 36,
     "metadata": {},
     "output_type": "execute_result"
    }
   ],
   "source": [
    "li = list(range(1,6))\n",
    "li"
   ]
  },
  {
   "cell_type": "code",
   "execution_count": 37,
   "id": "240d4751-0b25-4361-b064-bc042c8bd6ae",
   "metadata": {},
   "outputs": [
    {
     "name": "stdout",
     "output_type": "stream",
     "text": [
      "*\n",
      "**\n",
      "***\n",
      "****\n",
      "*****\n"
     ]
    }
   ],
   "source": [
    "for val in li:\n",
    "#     print('val: ',val)\n",
    "    print('*'*val)"
   ]
  },
  {
   "cell_type": "code",
   "execution_count": 17,
   "id": "b758f283-6725-4874-83a9-452fff79801b",
   "metadata": {},
   "outputs": [
    {
     "name": "stdout",
     "output_type": "stream",
     "text": [
      "index 0\n",
      "index 1\n",
      "index 2\n",
      "index 3\n",
      "index 4\n"
     ]
    }
   ],
   "source": [
    "for index in range(len(li)):\n",
    "    print('index',index)\n",
    "#     print('*'*li[index])"
   ]
  },
  {
   "cell_type": "code",
   "execution_count": 18,
   "id": "e8c4a237-4037-4542-8175-c60d16f73f3e",
   "metadata": {},
   "outputs": [
    {
     "data": {
      "text/plain": [
       "[1, 2, 3, 4, 5]"
      ]
     },
     "execution_count": 18,
     "metadata": {},
     "output_type": "execute_result"
    }
   ],
   "source": [
    "li"
   ]
  },
  {
   "cell_type": "code",
   "execution_count": 19,
   "id": "0af9a69d-cd67-4354-8534-b8b4f1aa8ca1",
   "metadata": {},
   "outputs": [
    {
     "data": {
      "text/plain": [
       "5"
      ]
     },
     "execution_count": 19,
     "metadata": {},
     "output_type": "execute_result"
    }
   ],
   "source": [
    "len(li)"
   ]
  },
  {
   "cell_type": "markdown",
   "id": "0f367140-6b04-43fc-b0ff-8e85b2b64e44",
   "metadata": {},
   "source": [
    "**Bài tập**:\n",
    "\n",
    "Cho 1 danh sách `li` gồm 10 phần tử từ 1 đến 10, trả về danh sách mới `li1` sao cho mỗi phần tử trong `li1` là bình phương của phần tử có trong `li` sử dụng `for`. "
   ]
  },
  {
   "cell_type": "code",
   "execution_count": 20,
   "id": "0e1c08a8-cdfb-498f-82a4-f31507382a77",
   "metadata": {},
   "outputs": [
    {
     "name": "stdout",
     "output_type": "stream",
     "text": [
      "1\n",
      "4\n",
      "9\n",
      "16\n",
      "25\n",
      "36\n",
      "49\n",
      "64\n",
      "81\n",
      "100\n"
     ]
    }
   ],
   "source": [
    "for i in range(1,11):\n",
    "    li1 = i*i\n",
    "    print(li1)"
   ]
  },
  {
   "cell_type": "code",
   "execution_count": 23,
   "id": "b8714cac-7f0f-469e-9ca0-1212c50f1dfc",
   "metadata": {},
   "outputs": [
    {
     "data": {
      "text/plain": [
       "[1, 4, 9, 16, 25, 36, 49, 64, 81, 100]"
      ]
     },
     "execution_count": 23,
     "metadata": {},
     "output_type": "execute_result"
    }
   ],
   "source": [
    "li=list(range(1,11)) # create a list containing value from 1 to 10\n",
    "\n",
    "li1=[] # empty list\n",
    "for i in li:\n",
    "#     x=i**2\n",
    "    li1.append(i**2)\n",
    "li1"
   ]
  },
  {
   "cell_type": "code",
   "execution_count": 22,
   "id": "aabb87a0-cdd8-4f2c-b0c4-907b7fe0a3a2",
   "metadata": {},
   "outputs": [
    {
     "data": {
      "text/plain": [
       "[1, 4, 9, 16, 25, 36, 49, 64, 81, 100]"
      ]
     },
     "execution_count": 22,
     "metadata": {},
     "output_type": "execute_result"
    }
   ],
   "source": [
    "li=[1,2,3,4,5,6,7,8,9,10]\n",
    "li1=[]\n",
    "for i in li: # for value in iterable\n",
    "    li1.append(i**2)\n",
    "li1"
   ]
  },
  {
   "cell_type": "code",
   "execution_count": 24,
   "id": "b4574072-9960-4afe-96e3-fd1b279f5b23",
   "metadata": {},
   "outputs": [
    {
     "data": {
      "text/plain": [
       "[1, 4, 9, 16, 25, 36, 49, 64, 81, 100]"
      ]
     },
     "execution_count": 24,
     "metadata": {},
     "output_type": "execute_result"
    }
   ],
   "source": [
    "li=list(range(1,11))\n",
    "\n",
    "li1=[]\n",
    "for i in li:\n",
    "    x=i**2\n",
    "    li1.append(x)\n",
    "    x+=1\n",
    "li1 # Complexity"
   ]
  },
  {
   "cell_type": "code",
   "execution_count": 25,
   "id": "0ab92a54-0865-44b9-84fe-3eefa8c6c500",
   "metadata": {},
   "outputs": [
    {
     "data": {
      "text/plain": [
       "[1, 4, 9, 16, 25, 36, 49, 64, 81, 100]"
      ]
     },
     "execution_count": 25,
     "metadata": {},
     "output_type": "execute_result"
    }
   ],
   "source": [
    "li = list(range(1, 11))\n",
    "li1 = []\n",
    "for i in range(len(li)):\n",
    "    li1.append(li[i]**2)\n",
    "li1"
   ]
  },
  {
   "cell_type": "code",
   "execution_count": null,
   "id": "999971c2-7d07-42e2-93b5-92352542e95d",
   "metadata": {},
   "outputs": [],
   "source": [
    "li = list(range(1,11))\n",
    "li1=[]\n",
    "for i in li:\n",
    "    li1.append(i**2)\n",
    "    li1"
   ]
  },
  {
   "cell_type": "code",
   "execution_count": 26,
   "id": "528327ac-8b37-495b-b47f-bc5e704d15f0",
   "metadata": {},
   "outputs": [
    {
     "data": {
      "text/plain": [
       "2"
      ]
     },
     "execution_count": 26,
     "metadata": {},
     "output_type": "execute_result"
    }
   ],
   "source": [
    "a = 1\n",
    "a = 2\n",
    "a"
   ]
  },
  {
   "cell_type": "markdown",
   "id": "be1bc1ce-3d5d-41fb-93fd-20658f9b0f77",
   "metadata": {},
   "source": [
    "### 2.2 Vòng lặp `while`"
   ]
  },
  {
   "cell_type": "markdown",
   "id": "9c0148c4-6dfe-47c5-89c5-0d57eaa9d80e",
   "metadata": {},
   "source": [
    "- Cú pháp\n",
    "```\n",
    "while condition(True/False):\n",
    "    business logic\n",
    "```"
   ]
  },
  {
   "cell_type": "code",
   "execution_count": 27,
   "id": "c165365b-ff90-4f10-bb23-16d97b892261",
   "metadata": {},
   "outputs": [
    {
     "name": "stdout",
     "output_type": "stream",
     "text": [
      "*\n",
      "**\n",
      "***\n",
      "****\n",
      "*****\n"
     ]
    }
   ],
   "source": [
    "i = 1\n",
    "while i < 6: \n",
    "    print('*'*i)\n",
    "#     i = i + 1\n",
    "    i += 1 #loop forever if dont user this line"
   ]
  },
  {
   "cell_type": "markdown",
   "id": "6784a894-d0db-49ca-9350-2e09fcf83779",
   "metadata": {},
   "source": [
    "**Bài tập**:\n",
    "\n",
    "Cho 1 danh sách `li` gồm 10 phần tử từ 1 đến 10, trả về danh sách mới `li1` sao cho mỗi phần tử trong `li1` là bình phương của phần tử có trong `li` sử dụng `while`. "
   ]
  },
  {
   "cell_type": "code",
   "execution_count": 28,
   "id": "b9d6c7b6-8053-4b57-b36f-b747a75c44ad",
   "metadata": {},
   "outputs": [
    {
     "name": "stdout",
     "output_type": "stream",
     "text": [
      "[1, 4, 9, 16, 25, 36, 49, 64, 81, 100]\n"
     ]
    }
   ],
   "source": [
    "li1 = []\n",
    "i = 1\n",
    "while i <= 10:\n",
    "    li1.append(i**2)\n",
    "    i += 1\n",
    "print(li1)"
   ]
  },
  {
   "cell_type": "code",
   "execution_count": 29,
   "id": "10d0b690-1078-4c5d-bdd8-7d34a434e2a3",
   "metadata": {},
   "outputs": [
    {
     "data": {
      "text/plain": [
       "[1, 4, 9, 16, 25, 36, 49, 64, 81, 100]"
      ]
     },
     "execution_count": 29,
     "metadata": {},
     "output_type": "execute_result"
    }
   ],
   "source": [
    "i=1\n",
    "li1=[]\n",
    "while i<11:\n",
    "    li1.append(i**2)\n",
    "    i+=1\n",
    "li1"
   ]
  },
  {
   "cell_type": "markdown",
   "id": "c6d75da2-0c83-49b0-a057-96efa4797070",
   "metadata": {},
   "source": [
    "## 3. Câu lệnh điều kiện"
   ]
  },
  {
   "cell_type": "markdown",
   "id": "34c169d7-aaaf-4f84-933a-08de9cd438d1",
   "metadata": {},
   "source": [
    "- Cú pháp:\n",
    "```\n",
    "if condition(True/False):\n",
    "    business logic\n",
    "elif condition(True/False): # --> optional\n",
    "    business logic\n",
    "elif condition(True/False): # --> optional\n",
    "    business logic\n",
    "elif condition(True/False): # --> optional\n",
    "    business logic\n",
    "    ....\n",
    "else:\n",
    "    business logic # --> optional\n",
    "```"
   ]
  },
  {
   "cell_type": "code",
   "execution_count": 34,
   "id": "22569a61-4ea8-4792-a1a3-fa90675d3842",
   "metadata": {},
   "outputs": [
    {
     "name": "stdout",
     "output_type": "stream",
     "text": [
      "Khong cho vay 2\n"
     ]
    }
   ],
   "source": [
    "age = 80\n",
    "if age < 18: #False\n",
    "    print('Khong cho vay 1') # ignore this business logic\n",
    "elif age > 70: #True\n",
    "    print('Khong cho vay 2')\n",
    "else:\n",
    "    print('Cho vay') # ignore this business logic"
   ]
  },
  {
   "cell_type": "markdown",
   "id": "634e98c5-182a-4567-9a03-52142c94a18f",
   "metadata": {},
   "source": [
    "## 4. Hàm \n",
    "\n",
    "In Python:\n",
    "- Built-in function: `len()`, `range()`\n",
    "- User-defined function:"
   ]
  },
  {
   "cell_type": "markdown",
   "id": "e3706c05-e506-464c-ab3d-dc3945f006ca",
   "metadata": {},
   "source": [
    "- Cú pháp\n",
    "```\n",
    "def function_name(arg1, arg2, ...):\n",
    "    business logic\n",
    "    return #-->  optional\n",
    "```"
   ]
  },
  {
   "cell_type": "code",
   "execution_count": 45,
   "id": "9c32625f-dd14-4d7b-be82-82cd021144a3",
   "metadata": {},
   "outputs": [],
   "source": [
    "def print_asterisk(li):\n",
    "    \"\"\"\n",
    "    Print multiple of asterisks in ascending order\n",
    "    \"\"\"\n",
    "    for val in li:\n",
    "        print('*'*val)"
   ]
  },
  {
   "cell_type": "code",
   "execution_count": null,
   "id": "824cd6d6-efb9-4c2a-a1cb-c8a4bde573dd",
   "metadata": {},
   "outputs": [],
   "source": [
    "li.reverse()"
   ]
  },
  {
   "cell_type": "code",
   "execution_count": 46,
   "id": "e36410c9-c067-4a11-a8db-bdb4a6069add",
   "metadata": {},
   "outputs": [
    {
     "name": "stdout",
     "output_type": "stream",
     "text": [
      "*\n",
      "**\n",
      "***\n",
      "****\n",
      "*****\n"
     ]
    }
   ],
   "source": [
    "print_asterisk([1, 2, 3, 4, 5])"
   ]
  },
  {
   "cell_type": "code",
   "execution_count": 43,
   "id": "5e85d290-2b4c-481a-81d1-a07aa2ca0428",
   "metadata": {},
   "outputs": [
    {
     "name": "stdout",
     "output_type": "stream",
     "text": [
      "*\n",
      "**\n",
      "***\n",
      "****\n",
      "*****\n",
      "******\n",
      "*******\n",
      "********\n",
      "*********\n",
      "**********\n",
      "***********\n",
      "************\n",
      "*************\n",
      "**************\n",
      "***************\n",
      "****************\n",
      "*****************\n",
      "******************\n",
      "*******************\n",
      "********************\n",
      "*********************\n",
      "**********************\n",
      "***********************\n",
      "************************\n",
      "*************************\n",
      "**************************\n",
      "***************************\n",
      "****************************\n",
      "*****************************\n"
     ]
    }
   ],
   "source": [
    "print_asterisk(list(range(1,30)))"
   ]
  },
  {
   "cell_type": "code",
   "execution_count": 44,
   "id": "59e25207-30f5-49ed-ac71-9efb3209c111",
   "metadata": {},
   "outputs": [
    {
     "name": "stdout",
     "output_type": "stream",
     "text": [
      "*\n",
      "**\n",
      "***\n",
      "****\n",
      "*****\n",
      "******\n",
      "*******\n",
      "********\n",
      "*********\n",
      "**********\n",
      "***********\n",
      "************\n",
      "*************\n",
      "**************\n",
      "***************\n",
      "****************\n",
      "*****************\n",
      "******************\n",
      "*******************\n",
      "********************\n"
     ]
    }
   ],
   "source": [
    "print_asterisk(list(range(1,21)))"
   ]
  },
  {
   "cell_type": "markdown",
   "id": "e2451dd0-5d1b-4f37-9b5c-e1629d710ba1",
   "metadata": {},
   "source": [
    "**Bài tập**:\n",
    "\n",
    "Viết 1 hàm tìm giá trị lớn nhất của 1 list các số nguyên. "
   ]
  },
  {
   "cell_type": "code",
   "execution_count": 47,
   "id": "d4d3e3d5-7dc6-4811-be14-72af80d30830",
   "metadata": {},
   "outputs": [],
   "source": [
    "li = [10, 100, 2, 4, 99]"
   ]
  },
  {
   "cell_type": "code",
   "execution_count": 50,
   "id": "5a1dcdf1-adab-4657-ba36-382c948eb689",
   "metadata": {},
   "outputs": [],
   "source": [
    "def max_int(li):\n",
    "    \"\"\"\n",
    "    Return maximum number of a list of integers\n",
    "    \"\"\"\n",
    "    print(max(li))"
   ]
  },
  {
   "cell_type": "code",
   "execution_count": 54,
   "id": "a817024d-4913-4054-b0b6-0a8ad1f53d61",
   "metadata": {},
   "outputs": [
    {
     "name": "stdout",
     "output_type": "stream",
     "text": [
      "100\n"
     ]
    }
   ],
   "source": [
    "max_int(li)"
   ]
  },
  {
   "cell_type": "code",
   "execution_count": 52,
   "id": "569461dc-8c49-4aa2-9900-93625e6bc6ed",
   "metadata": {},
   "outputs": [],
   "source": [
    "def max_int1(li):\n",
    "    li.sort(reverse=True)\n",
    "    print(li[0])"
   ]
  },
  {
   "cell_type": "code",
   "execution_count": 53,
   "id": "16a5482f-aa4a-4b20-9963-41e347cfa679",
   "metadata": {},
   "outputs": [
    {
     "name": "stdout",
     "output_type": "stream",
     "text": [
      "100\n"
     ]
    }
   ],
   "source": [
    "max_int1(li)"
   ]
  },
  {
   "cell_type": "code",
   "execution_count": 55,
   "id": "664941ad-0706-4249-9c9f-04599f0bdca1",
   "metadata": {},
   "outputs": [],
   "source": [
    "def find_max(li):\n",
    "    a = 0\n",
    "    for i in range(len(li)): # cu phap 2 cua vong lap for\n",
    "        if li[i] > li[i - 1]:\n",
    "            a = li[i]\n",
    "    print(a)"
   ]
  },
  {
   "cell_type": "code",
   "execution_count": 56,
   "id": "bb2893fa-c4b1-4bb0-b86a-0719f2459d53",
   "metadata": {},
   "outputs": [
    {
     "name": "stdout",
     "output_type": "stream",
     "text": [
      "100\n"
     ]
    }
   ],
   "source": [
    "find_max(li)"
   ]
  },
  {
   "cell_type": "code",
   "execution_count": 57,
   "id": "6f8a4724-7596-46e6-b549-49fb2b27c22b",
   "metadata": {},
   "outputs": [],
   "source": [
    "def find_max1(li):\n",
    "    a = 0\n",
    "    for value in li:\n",
    "        if a < value: # cu phap 1 cua vong lap for\n",
    "            a = value\n",
    "    print(a)"
   ]
  },
  {
   "cell_type": "code",
   "execution_count": 58,
   "id": "5e675dd5-0d5a-44aa-b169-5cdda9eadd29",
   "metadata": {},
   "outputs": [
    {
     "name": "stdout",
     "output_type": "stream",
     "text": [
      "100\n"
     ]
    }
   ],
   "source": [
    "find_max1(li)"
   ]
  },
  {
   "cell_type": "markdown",
   "id": "1186e6fa-3ca7-4071-b394-edf209995d7d",
   "metadata": {},
   "source": [
    "### **Hàm vô danh**. \n",
    "- Cú pháp:\n",
    "`lambda parameters: business logic`\n",
    "\n"
   ]
  },
  {
   "cell_type": "code",
   "execution_count": 59,
   "id": "14b42a61-272f-4917-9b4a-a6c9887c8095",
   "metadata": {},
   "outputs": [],
   "source": [
    "def square(x):\n",
    "    return x**2 # 2 dong"
   ]
  },
  {
   "cell_type": "code",
   "execution_count": 60,
   "id": "25de42c9-2953-4298-af20-633395c7048d",
   "metadata": {},
   "outputs": [
    {
     "data": {
      "text/plain": [
       "4"
      ]
     },
     "execution_count": 60,
     "metadata": {},
     "output_type": "execute_result"
    }
   ],
   "source": [
    "square(2)"
   ]
  },
  {
   "cell_type": "code",
   "execution_count": 61,
   "id": "ea7a6cbb-a89e-4727-b7f7-38fe1dcc4f1f",
   "metadata": {},
   "outputs": [],
   "source": [
    "square1 = lambda x: x**2 # 1 dong"
   ]
  },
  {
   "cell_type": "code",
   "execution_count": 62,
   "id": "f316d58e-c103-42b1-a023-13bdd159f9fe",
   "metadata": {},
   "outputs": [
    {
     "data": {
      "text/plain": [
       "4"
      ]
     },
     "execution_count": 62,
     "metadata": {},
     "output_type": "execute_result"
    }
   ],
   "source": [
    "square1(2)"
   ]
  },
  {
   "cell_type": "markdown",
   "id": "42ef509f-6696-489f-baf3-92e9d4f9668a",
   "metadata": {},
   "source": [
    "## 5. Bao hàm (Comprehension)\n",
    "\n",
    "- Cú pháp:\n",
    "    - List comprehension: `[expression for variable in iterable]`\n",
    "    - Set comprehension: `{expression for variable in iterable}`\n",
    "    - Tuple comprehension: `tuple(expression for variable in iterable)`\n",
    "    - Dictionary comprehension: `{key:value for variable in iterable]`\n",
    "    \n",
    "Lưu ý: ta có thể thêm các điều kiện thông qua câu lệnh điều kiện `if else` với bao hàm, ví dụ cú pháp với list comprehension:\n",
    "- `[expression for variable in iterable if condition]`\n",
    "hoặc\n",
    "- `[expression if condition else else-expression for variable in iterable ]`"
   ]
  },
  {
   "cell_type": "code",
   "execution_count": 65,
   "id": "e5c47ac6-870d-41db-a96b-9c26c120fb2d",
   "metadata": {},
   "outputs": [],
   "source": [
    "def square_list(li):\n",
    "    li1 = []\n",
    "    for value in li:\n",
    "        #if chia het 2:\n",
    "        li1.append(square(value))\n",
    "        # else khong chia het\"\n",
    "        # append gia tri goc\n",
    "    return li1 # 5 dong"
   ]
  },
  {
   "cell_type": "code",
   "execution_count": 66,
   "id": "74173dcf-98dd-45dc-81e5-3647f91cc5d0",
   "metadata": {},
   "outputs": [
    {
     "data": {
      "text/plain": [
       "[1, 16, 64]"
      ]
     },
     "execution_count": 66,
     "metadata": {},
     "output_type": "execute_result"
    }
   ],
   "source": [
    "li = [1, 4, 8]\n",
    "square_list(li)"
   ]
  },
  {
   "cell_type": "code",
   "execution_count": 74,
   "id": "80c5babd-2285-4581-9786-8caf0dd6165a",
   "metadata": {},
   "outputs": [
    {
     "data": {
      "text/plain": [
       "{3, 5, 9, 16}"
      ]
     },
     "execution_count": 74,
     "metadata": {},
     "output_type": "execute_result"
    }
   ],
   "source": [
    "li = [ 3, 4 ,5, 9]\n",
    "def square_list1(li): #1 def\n",
    "    return {value**2 if value%2 == 0 else value for value in li} # 2 lines\n",
    "\n",
    "square_list1(li)"
   ]
  },
  {
   "cell_type": "code",
   "execution_count": 76,
   "id": "513a7178-5ec7-4ab1-aaea-7658326f4ca2",
   "metadata": {},
   "outputs": [
    {
     "data": {
      "text/plain": [
       "set"
      ]
     },
     "execution_count": 76,
     "metadata": {},
     "output_type": "execute_result"
    }
   ],
   "source": [
    "type(square_list1(li))"
   ]
  },
  {
   "cell_type": "code",
   "execution_count": 70,
   "id": "0d19a5dd-0b95-4dc8-a260-3495a1f03b82",
   "metadata": {},
   "outputs": [
    {
     "data": {
      "text/plain": [
       "[4, 16, 36]"
      ]
     },
     "execution_count": 70,
     "metadata": {},
     "output_type": "execute_result"
    }
   ],
   "source": [
    "square_list1([2,4,6])"
   ]
  },
  {
   "cell_type": "code",
   "execution_count": 80,
   "id": "b32be726-5791-4b79-8e4f-91d4e41540fe",
   "metadata": {},
   "outputs": [
    {
     "name": "stdout",
     "output_type": "stream",
     "text": [
      "val 1\n",
      "0\n",
      "True\n",
      "val 3\n",
      "1\n",
      "True\n",
      "val 2\n",
      "3\n"
     ]
    }
   ],
   "source": [
    "li = [1, 3, 2]\n",
    "a = 0\n",
    "for val in li: # val = 1 | 3 | 2\n",
    "    print('val',val)\n",
    "    print(a) # 0 | 1 | 3\n",
    "    if a < val: #0 < 1 -> True | 1 < 3 -> True | 3 < 2 -> False\n",
    "        print(a < val)\n",
    "        a = val # a = 1 | a = 3 | not execute"
   ]
  },
  {
   "cell_type": "code",
   "execution_count": 78,
   "id": "a8d44534-0751-4c86-b227-44813c1ecac6",
   "metadata": {},
   "outputs": [
    {
     "data": {
      "text/plain": [
       "3"
      ]
     },
     "execution_count": 78,
     "metadata": {},
     "output_type": "execute_result"
    }
   ],
   "source": [
    "a"
   ]
  },
  {
   "cell_type": "markdown",
   "id": "b3c37f58-a05b-459d-9075-afe0b6b10bf5",
   "metadata": {},
   "source": [
    "Trong các bài tiếp theo, chúng ta sẽ cùng nhau tìm hiểu 1 số thư viện bổ trợ cho Python trong việc thao tác, xử lý, phân tích, và trực quan hoá dữ liệu."
   ]
  }
 ],
 "metadata": {
  "kernelspec": {
   "display_name": "Python 3",
   "language": "python",
   "name": "python3"
  },
  "language_info": {
   "codemirror_mode": {
    "name": "ipython",
    "version": 3
   },
   "file_extension": ".py",
   "mimetype": "text/x-python",
   "name": "python",
   "nbconvert_exporter": "python",
   "pygments_lexer": "ipython3",
   "version": "3.8.11"
  }
 },
 "nbformat": 4,
 "nbformat_minor": 5
}
