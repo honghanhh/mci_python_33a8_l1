{
 "cells": [
  {
   "cell_type": "markdown",
   "id": "d57db01c-f2e3-45fa-9fd4-0ffb1fd4d0c9",
   "metadata": {},
   "source": [
    "# BÀI 3: GIỚI THIỆU VỀ PYTHON (tiếp theo)"
   ]
  },
  {
   "cell_type": "markdown",
   "id": "9633b1c3-b8fc-4c83-a938-f4bae626b4a8",
   "metadata": {},
   "source": [
    "![](https://laptrinhcanban.com/python/nhap-mon-lap-trinh-python/gioi-thieu-python/python-la-gi/Python.jpg)"
   ]
  },
  {
   "cell_type": "markdown",
   "id": "6bc4aef1-2a45-4a17-91f2-0f402e83c013",
   "metadata": {},
   "source": [
    "\n",
    "# programming flow = control flow\n",
    "## 1. Câu lệnh tuần tự (Sequential)"
   ]
  },
  {
   "cell_type": "code",
   "execution_count": 1,
   "id": "7bcb9b16-dacf-44f3-a0fc-7bec9c205d39",
   "metadata": {},
   "outputs": [
    {
     "name": "stdout",
     "output_type": "stream",
     "text": [
      "hello\n",
      "world\n",
      "!\n"
     ]
    }
   ],
   "source": [
    "print('hello')\n",
    "print('world')\n",
    "print('!')"
   ]
  },
  {
   "cell_type": "markdown",
   "id": "8788aded-6846-4aa4-ad65-ab542c0b444c",
   "metadata": {},
   "source": [
    "***Đố vui***: In ra kết quả như sau:\n",
    "```\n",
    "*\n",
    "**\n",
    "***\n",
    "****\n",
    "*****\n",
    "```"
   ]
  },
  {
   "cell_type": "code",
   "execution_count": 2,
   "id": "5fec4555-bbf9-4e9e-9200-57f2761df831",
   "metadata": {},
   "outputs": [
    {
     "name": "stdout",
     "output_type": "stream",
     "text": [
      "*\n",
      "**\n",
      "***\n",
      "****\n",
      "*****\n"
     ]
    }
   ],
   "source": [
    "print('*')\n",
    "print('**')\n",
    "print('***')\n",
    "print('****')\n",
    "print('*****')"
   ]
  },
  {
   "cell_type": "code",
   "execution_count": 3,
   "id": "9b989a08-c594-4ff7-b316-e3860b4a8473",
   "metadata": {},
   "outputs": [
    {
     "name": "stdout",
     "output_type": "stream",
     "text": [
      "\n",
      "*\n",
      "**\n",
      "***\n",
      "****\n",
      "*****\n",
      "\n"
     ]
    }
   ],
   "source": [
    "print(\"\"\"\n",
    "*\n",
    "**\n",
    "***\n",
    "****\n",
    "*****\n",
    "\"\"\")"
   ]
  },
  {
   "cell_type": "code",
   "execution_count": 4,
   "id": "ba1ed393-0b2d-40d2-a625-c3974b1c24cb",
   "metadata": {},
   "outputs": [
    {
     "name": "stdout",
     "output_type": "stream",
     "text": [
      "*\n",
      "**\n"
     ]
    }
   ],
   "source": [
    "print(\"*\")\n",
    "print(\"*\"*2)"
   ]
  },
  {
   "cell_type": "markdown",
   "id": "a966f233-1ed7-4dbd-bc8a-5fce3e640dc6",
   "metadata": {},
   "source": [
    "## 2. Vòng lặp"
   ]
  },
  {
   "cell_type": "markdown",
   "id": "0910a9cd-83d4-476e-b817-dca0c4e873fd",
   "metadata": {},
   "source": [
    "### 2.1 Vòng lặp `for`\n",
    "\n",
    "- Cú pháp:\n",
    "    - Cách 1:\n",
    "```\n",
    "for value in iterable:\n",
    "    business logic \n",
    "```\n",
    "#iterable = list, cấu trúc dữ liệu có nhiều hơn 1 phần tử, phần tử bên trong đều giống nhau, list , tuple, dict, set,\n",
    "for value: lặp qua từng phần tử, giá trị bên trong iterable \n",
    "\n",
    "    - Cách 2:\n",
    "```\n",
    "for index in range(len(iterable)):\n",
    "    business logic\n",
    "```Indetation(lùi vào để TB thực hiện phép tính toán bê trong vòng lặp)"
   ]
  },
  {
   "cell_type": "code",
   "execution_count": 5,
   "id": "3b89ac56-4962-47f1-bd9e-8bb0021a7cb9",
   "metadata": {},
   "outputs": [
    {
     "data": {
      "text/plain": [
       "range(0, 10)"
      ]
     },
     "execution_count": 5,
     "metadata": {},
     "output_type": "execute_result"
    }
   ],
   "source": [
    "range(10)# from 0 (inclusive) to 10 (exclusive)"
   ]
  },
  {
   "cell_type": "code",
   "execution_count": 6,
   "id": "b9a351b5-56c6-4b29-957b-8669e42d0915",
   "metadata": {},
   "outputs": [
    {
     "data": {
      "text/plain": [
       "[0, 1, 2, 3, 4, 5, 6, 7, 8, 9]"
      ]
     },
     "execution_count": 6,
     "metadata": {},
     "output_type": "execute_result"
    }
   ],
   "source": [
    "list(range(10))"
   ]
  },
  {
   "cell_type": "code",
   "execution_count": 7,
   "id": "6c0661a8-4c94-4485-96cc-ee31161fd6bd",
   "metadata": {},
   "outputs": [
    {
     "data": {
      "text/plain": [
       "range(1, 10)"
      ]
     },
     "execution_count": 7,
     "metadata": {},
     "output_type": "execute_result"
    }
   ],
   "source": [
    "range(1,10)"
   ]
  },
  {
   "cell_type": "code",
   "execution_count": 8,
   "id": "d487cd40-03b5-40a8-9de7-13b732dace29",
   "metadata": {},
   "outputs": [
    {
     "data": {
      "text/plain": [
       "[1, 2, 3, 4, 5, 6, 7, 8, 9]"
      ]
     },
     "execution_count": 8,
     "metadata": {},
     "output_type": "execute_result"
    }
   ],
   "source": [
    "list(range(1,10))"
   ]
  },
  {
   "cell_type": "code",
   "execution_count": 9,
   "id": "cda2151c-8729-4b00-abb7-30f7d812ba8a",
   "metadata": {},
   "outputs": [
    {
     "data": {
      "text/plain": [
       "[1, 3, 5, 7, 9]"
      ]
     },
     "execution_count": 9,
     "metadata": {},
     "output_type": "execute_result"
    }
   ],
   "source": [
    "list(range(1,10,2))"
   ]
  },
  {
   "cell_type": "code",
   "execution_count": 10,
   "id": "ef55f156-c8f6-45a8-998f-f6ebef9360da",
   "metadata": {},
   "outputs": [],
   "source": [
    "li=list(range(1,6))"
   ]
  },
  {
   "cell_type": "code",
   "execution_count": 11,
   "id": "04888f0c-5d83-4ff6-aa96-3bc1cdb3914a",
   "metadata": {},
   "outputs": [
    {
     "name": "stdout",
     "output_type": "stream",
     "text": [
      "*\n",
      "**\n",
      "***\n",
      "****\n",
      "*****\n"
     ]
    }
   ],
   "source": [
    "for val in li:\n",
    "    print('*'*val)"
   ]
  },
  {
   "cell_type": "code",
   "execution_count": 12,
   "id": "a48cfc03-8e2f-444d-b9b0-793c71c91885",
   "metadata": {},
   "outputs": [
    {
     "name": "stdout",
     "output_type": "stream",
     "text": [
      "*\n",
      "**\n",
      "***\n",
      "****\n",
      "*****\n"
     ]
    }
   ],
   "source": [
    "for index in range(len(li)):\n",
    "    print('*'*li[index])"
   ]
  },
  {
   "cell_type": "markdown",
   "id": "0f367140-6b04-43fc-b0ff-8e85b2b64e44",
   "metadata": {},
   "source": [
    "**Bài tập**:\n",
    "\n",
    "Cho 1 danh sách `li` gồm 10 phần tử từ 1 đến 10, trả về danh sách mới `li1` sao cho mỗi phần tử trong `li1` là bình phương của phần tử có trong `li` sử dụng `for`. "
   ]
  },
  {
   "cell_type": "code",
   "execution_count": 15,
   "id": "0e1c08a8-cdfb-498f-82a4-f31507382a77",
   "metadata": {},
   "outputs": [
    {
     "data": {
      "text/plain": [
       "[1, 4, 9, 16, 25, 36, 49, 64, 81, 100]"
      ]
     },
     "execution_count": 15,
     "metadata": {},
     "output_type": "execute_result"
    }
   ],
   "source": [
    "li=[1,2,3,4,5,6,7,8,9,10]\n",
    "li1=[]\n",
    "for i in li:# for value in iterable\n",
    "    li1.append(i**2)\n",
    "li1"
   ]
  },
  {
   "cell_type": "code",
   "execution_count": 16,
   "id": "75a7bb07-797a-4db8-8dff-8d5e29384af4",
   "metadata": {},
   "outputs": [],
   "source": [
    "li=list(range(1,11))"
   ]
  },
  {
   "cell_type": "code",
   "execution_count": 17,
   "id": "fe839b06-b07c-40e2-a916-0a78b8276cea",
   "metadata": {},
   "outputs": [],
   "source": [
    "li1=[]\n",
    "for i in range(len(li)):\n",
    "    li.append(li[i]**2)"
   ]
  },
  {
   "cell_type": "markdown",
   "id": "be1bc1ce-3d5d-41fb-93fd-20658f9b0f77",
   "metadata": {},
   "source": [
    "### 2.2 Vòng lặp `while`"
   ]
  },
  {
   "cell_type": "markdown",
   "id": "9c0148c4-6dfe-47c5-89c5-0d57eaa9d80e",
   "metadata": {},
   "source": [
    "- Cú pháp\n",
    "```\n",
    "while condition(True/False):\n",
    "    business logic\n",
    "```"
   ]
  },
  {
   "cell_type": "code",
   "execution_count": 18,
   "id": "c165365b-ff90-4f10-bb23-16d97b892261",
   "metadata": {},
   "outputs": [
    {
     "name": "stdout",
     "output_type": "stream",
     "text": [
      "*\n",
      "**\n",
      "***\n",
      "****\n",
      "*****\n"
     ]
    }
   ],
   "source": [
    "i=1\n",
    "while i<6:\n",
    "    print('*'*i)\n",
    "    i+=1"
   ]
  },
  {
   "cell_type": "markdown",
   "id": "6784a894-d0db-49ca-9350-2e09fcf83779",
   "metadata": {},
   "source": [
    "**Bài tập**:\n",
    "\n",
    "Cho 1 danh sách `li` gồm 10 phần tử từ 1 đến 10, trả về danh sách mới `li1` sao cho mỗi phần tử trong `li1` là bình phương của phần tử có trong `li` sử dụng `while`. "
   ]
  },
  {
   "cell_type": "code",
   "execution_count": 19,
   "id": "b9d6c7b6-8053-4b57-b36f-b747a75c44ad",
   "metadata": {},
   "outputs": [
    {
     "data": {
      "text/plain": [
       "[1, 4, 9, 16, 25, 36, 49, 64, 81, 100]"
      ]
     },
     "execution_count": 19,
     "metadata": {},
     "output_type": "execute_result"
    }
   ],
   "source": [
    "li=list(range(1,11))\n",
    "i=1\n",
    "li1=[]\n",
    "while i<11:\n",
    "    li1.append(i**2)\n",
    "    i+=1\n",
    "li1\n"
   ]
  },
  {
   "cell_type": "markdown",
   "id": "c6d75da2-0c83-49b0-a057-96efa4797070",
   "metadata": {},
   "source": [
    "## 3. Câu lệnh điều kiện"
   ]
  },
  {
   "cell_type": "markdown",
   "id": "34c169d7-aaaf-4f84-933a-08de9cd438d1",
   "metadata": {},
   "source": [
    "- Cú pháp:\n",
    "```\n",
    "if condition(True/False):\n",
    "    business logic\n",
    "elif condition(True/False): # --> optional\n",
    "    business logic\n",
    "elif condition(True/False): # --> optional\n",
    "    business logic\n",
    "elif condition(True/False): # --> optional\n",
    "    business logic\n",
    "    ....\n",
    "else:\n",
    "    business logic # --> optional\n",
    "```"
   ]
  },
  {
   "cell_type": "code",
   "execution_count": 22,
   "id": "22569a61-4ea8-4792-a1a3-fa90675d3842",
   "metadata": {},
   "outputs": [
    {
     "name": "stdout",
     "output_type": "stream",
     "text": [
      "Cho vay\n"
     ]
    }
   ],
   "source": [
    "age=20\n",
    "if age<18:\n",
    "    print('Khong cho vay')\n",
    "else:\n",
    "    print('Cho vay')"
   ]
  },
  {
   "cell_type": "code",
   "execution_count": null,
   "id": "78f84dfc-e11e-4a7b-8cbd-93b55d5e03a0",
   "metadata": {},
   "outputs": [],
   "source": []
  },
  {
   "cell_type": "markdown",
   "id": "634e98c5-182a-4567-9a03-52142c94a18f",
   "metadata": {},
   "source": [
    "## 4. Hàm "
   ]
  },
  {
   "cell_type": "markdown",
   "id": "e3706c05-e506-464c-ab3d-dc3945f006ca",
   "metadata": {},
   "source": [
    "- Cú pháp\n",
    "```\n",
    "def function_name(arg1, arg2, ...):\n",
    "    business logic\n",
    "    return #-->  optional\n",
    "```"
   ]
  },
  {
   "cell_type": "code",
   "execution_count": 30,
   "id": "9c32625f-dd14-4d7b-be82-82cd021144a3",
   "metadata": {},
   "outputs": [],
   "source": [
    "def print_asterisk(li):\n",
    "    \"\"\"\n",
    "    Print multiple of asterisks in ascending order\n",
    "    \"\"\"\n",
    "    for val in li:\n",
    "        print('*'*val)"
   ]
  },
  {
   "cell_type": "code",
   "execution_count": 25,
   "id": "b1d3e21f-bb7e-4a16-9757-1ca2c175216b",
   "metadata": {},
   "outputs": [
    {
     "name": "stdout",
     "output_type": "stream",
     "text": [
      "*\n",
      "**\n",
      "***\n",
      "****\n",
      "*****\n"
     ]
    }
   ],
   "source": [
    "li=[1,2,3,4,5]\n",
    "print_asterisk(li)"
   ]
  },
  {
   "cell_type": "code",
   "execution_count": 31,
   "id": "c866ba78-a985-428b-91d7-c6e807cd802a",
   "metadata": {},
   "outputs": [
    {
     "name": "stdout",
     "output_type": "stream",
     "text": [
      "*\n",
      "**\n",
      "***\n",
      "****\n",
      "*****\n",
      "******\n",
      "*******\n",
      "********\n",
      "*********\n",
      "**********\n",
      "***********\n",
      "************\n",
      "*************\n",
      "**************\n",
      "***************\n",
      "****************\n",
      "*****************\n",
      "******************\n",
      "*******************\n",
      "********************\n"
     ]
    }
   ],
   "source": [
    "print_asterisk(list(range(1,21)))"
   ]
  },
  {
   "cell_type": "markdown",
   "id": "e2451dd0-5d1b-4f37-9b5c-e1629d710ba1",
   "metadata": {},
   "source": [
    "**Bài tập**:\n",
    "\n",
    "Viết 1 hàm tìm giá trị lớn nhất của 1 list các số nguyên. "
   ]
  },
  {
   "cell_type": "code",
   "execution_count": 52,
   "id": "d4d3e3d5-7dc6-4811-be14-72af80d30830",
   "metadata": {},
   "outputs": [],
   "source": [
    "def max_list(li):\n",
    "    i=0\n",
    "    for i in range(len(li)):\n",
    "        if li[i]>li[i-1]:\n",
    "            a=li[i]\n",
    "    print(a)"
   ]
  },
  {
   "cell_type": "code",
   "execution_count": 53,
   "id": "cd443b29-0ef2-437c-97da-73afff0594fa",
   "metadata": {},
   "outputs": [
    {
     "name": "stdout",
     "output_type": "stream",
     "text": [
      "9\n"
     ]
    }
   ],
   "source": [
    "max_list(list(range(10)))"
   ]
  },
  {
   "cell_type": "markdown",
   "id": "1186e6fa-3ca7-4071-b394-edf209995d7d",
   "metadata": {},
   "source": [
    "### **Hàm vô danh**. \n",
    "- Cú pháp:\n",
    "`lambda parameters: business logic`\n",
    "\n"
   ]
  },
  {
   "cell_type": "code",
   "execution_count": 48,
   "id": "14b42a61-272f-4917-9b4a-a6c9887c8095",
   "metadata": {},
   "outputs": [],
   "source": [
    "def square(x):\n",
    "    return x**2"
   ]
  },
  {
   "cell_type": "code",
   "execution_count": 49,
   "id": "2d517a28-94e4-47ba-8081-bb29119b47a8",
   "metadata": {},
   "outputs": [
    {
     "data": {
      "text/plain": [
       "9"
      ]
     },
     "execution_count": 49,
     "metadata": {},
     "output_type": "execute_result"
    }
   ],
   "source": [
    "square(3)"
   ]
  },
  {
   "cell_type": "code",
   "execution_count": 50,
   "id": "2d79418f-a4fb-46f6-b2e0-cfd53a8f9302",
   "metadata": {},
   "outputs": [],
   "source": [
    "square1= lambda x: x**2"
   ]
  },
  {
   "cell_type": "code",
   "execution_count": 51,
   "id": "f9491b4c-3b8d-49bd-8b2c-290338a8164f",
   "metadata": {},
   "outputs": [
    {
     "data": {
      "text/plain": [
       "9"
      ]
     },
     "execution_count": 51,
     "metadata": {},
     "output_type": "execute_result"
    }
   ],
   "source": [
    "square1(3)"
   ]
  },
  {
   "cell_type": "markdown",
   "id": "42ef509f-6696-489f-baf3-92e9d4f9668a",
   "metadata": {},
   "source": [
    "## 5. Bao hàm \n",
    "\n",
    "- Cú pháp:\n",
    "    - List comprehension: `[expression for variable in iterable]`\n",
    "    - Set comprehension: `{expression for variable in iterable}`\n",
    "    - Tuple comprehension: `tuple(expression for variable in iterable)`\n",
    "    - Dictionary comprehension: `{key:value for variable in iterable]`\n",
    "    \n",
    "Lưu ý: ta có thể thêm các điều kiện thông qua câu lệnh điều kiện `if else` với bao hàm, ví dụ cú pháp với list comprehension:\n",
    "- `[expression for variable in iterable if condition]`\n",
    "hoặc\n",
    "- `[expression if condition else else-expression for variable in iterable ]`"
   ]
  },
  {
   "cell_type": "code",
   "execution_count": 56,
   "id": "e5c47ac6-870d-41db-a96b-9c26c120fb2d",
   "metadata": {},
   "outputs": [],
   "source": [
    "def square_list(li):\n",
    "    li1=[]\n",
    "    for value in li:\n",
    "        li1.append(square(value))\n",
    "    return li1"
   ]
  },
  {
   "cell_type": "code",
   "execution_count": 57,
   "id": "189469ed-481b-48da-97bd-4c3b4739ebaa",
   "metadata": {},
   "outputs": [
    {
     "data": {
      "text/plain": [
       "[1, 16, 64]"
      ]
     },
     "execution_count": 57,
     "metadata": {},
     "output_type": "execute_result"
    }
   ],
   "source": [
    "li=[1,4,8]\n",
    "square_list(li)"
   ]
  },
  {
   "cell_type": "code",
   "execution_count": 62,
   "id": "48ea9e3a-c368-41a8-bfb5-0d1f7da20985",
   "metadata": {},
   "outputs": [],
   "source": [
    "def square_list2(li):\n",
    "    return [square(value) if value%2==0 else value for value in li ]"
   ]
  },
  {
   "cell_type": "code",
   "execution_count": 63,
   "id": "dedefa9d-8850-465e-a401-de1f1ddc8afe",
   "metadata": {},
   "outputs": [
    {
     "data": {
      "text/plain": [
       "[4, 3, 36, 64]"
      ]
     },
     "execution_count": 63,
     "metadata": {},
     "output_type": "execute_result"
    }
   ],
   "source": [
    "square_list2([2,3,6,8])"
   ]
  },
  {
   "cell_type": "code",
   "execution_count": 68,
   "id": "b86e0b05-5ad9-4a0a-8636-7fa6b55f91ff",
   "metadata": {},
   "outputs": [
    {
     "name": "stdin",
     "output_type": "stream",
     "text": [
      " 5\n"
     ]
    },
    {
     "ename": "TypeError",
     "evalue": "'<=' not supported between instances of 'int' and 'str'",
     "output_type": "error",
     "traceback": [
      "\u001b[1;31m---------------------------------------------------------------------------\u001b[0m",
      "\u001b[1;31mTypeError\u001b[0m                                 Traceback (most recent call last)",
      "\u001b[1;32m~\\AppData\\Local\\Temp/ipykernel_560/601111737.py\u001b[0m in \u001b[0;36m<module>\u001b[1;34m\u001b[0m\n\u001b[0;32m      1\u001b[0m \u001b[0mi\u001b[0m\u001b[1;33m=\u001b[0m\u001b[1;36m1\u001b[0m\u001b[1;33m\u001b[0m\u001b[1;33m\u001b[0m\u001b[0m\n\u001b[0;32m      2\u001b[0m \u001b[0mn\u001b[0m\u001b[1;33m=\u001b[0m\u001b[0minput\u001b[0m\u001b[1;33m(\u001b[0m\u001b[1;33m)\u001b[0m\u001b[1;33m\u001b[0m\u001b[1;33m\u001b[0m\u001b[0m\n\u001b[1;32m----> 3\u001b[1;33m \u001b[1;32mwhile\u001b[0m \u001b[0mi\u001b[0m\u001b[1;33m<=\u001b[0m\u001b[0mn\u001b[0m\u001b[1;33m:\u001b[0m\u001b[1;33m\u001b[0m\u001b[1;33m\u001b[0m\u001b[0m\n\u001b[0m\u001b[0;32m      4\u001b[0m     \u001b[0ma\u001b[0m\u001b[1;33m=\u001b[0m\u001b[0mi\u001b[0m\u001b[1;33m*\u001b[0m\u001b[1;33m(\u001b[0m\u001b[0mi\u001b[0m\u001b[1;33m+\u001b[0m\u001b[1;36m1\u001b[0m\u001b[1;33m)\u001b[0m\u001b[1;33m\u001b[0m\u001b[1;33m\u001b[0m\u001b[0m\n\u001b[0;32m      5\u001b[0m     \u001b[0mi\u001b[0m\u001b[1;33m=\u001b[0m\u001b[1;33m+\u001b[0m\u001b[1;36m1\u001b[0m\u001b[1;33m\u001b[0m\u001b[1;33m\u001b[0m\u001b[0m\n",
      "\u001b[1;31mTypeError\u001b[0m: '<=' not supported between instances of 'int' and 'str'"
     ]
    }
   ],
   "source": [
    "i=1\n",
    "n=input()\n",
    "while i<=n:\n",
    "    a=i*(i+1)\n",
    "    i=+1\n",
    "print(a)\n",
    "    "
   ]
  },
  {
   "cell_type": "markdown",
   "id": "b3c37f58-a05b-459d-9075-afe0b6b10bf5",
   "metadata": {},
   "source": [
    "Trong các bài tiếp theo, chúng ta sẽ cùng nhau tìm hiểu 1 số thư viện bổ trợ cho Python trong việc thao tác, xử lý, phân tích, và trực quan hoá dữ liệu."
   ]
  }
 ],
 "metadata": {
  "kernelspec": {
   "display_name": "Python 3 (ipykernel)",
   "language": "python",
   "name": "python3"
  },
  "language_info": {
   "codemirror_mode": {
    "name": "ipython",
    "version": 3
   },
   "file_extension": ".py",
   "mimetype": "text/x-python",
   "name": "python",
   "nbconvert_exporter": "python",
   "pygments_lexer": "ipython3",
   "version": "3.8.10"
  }
 },
 "nbformat": 4,
 "nbformat_minor": 5
}
