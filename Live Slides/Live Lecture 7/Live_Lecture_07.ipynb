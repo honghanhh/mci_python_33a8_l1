{
 "cells": [
  {
   "cell_type": "markdown",
   "id": "29eccae6-dbf0-4de6-b6a0-e95e848b5cb8",
   "metadata": {},
   "source": [
    "# <center> BÀI 7: TRỰC QUAN HOÁ DỮ LIỆU VỚI MATPLOTLIB, SEABORN </center>"
   ]
  },
  {
   "cell_type": "markdown",
   "id": "7443d29b-818d-4d01-a6e9-947adcabed95",
   "metadata": {},
   "source": [
    "## I. GIỚI THIỆU\n",
    "### 1.1 Matplotlib\n",
    "\n",
    "Với bất kì 1 thư viện nào sử dụng cho mục đích biểu diễn dữ liệu cũng sẽ theo anatomy này. Hình ảnh dưới đây là những điểm mình cần biết khi vẽ đồ thì với các thư viện trong Python.\n",
    "\n",
    "<!-- ![](https://matplotlib.org/stable/_images/sphx_glr_anatomy_001.png) -->\n",
    "\n",
    "<center> <img src=\"https://matplotlib.org/stable/_images/sphx_glr_anatomy_001.png\" alt=\"anatomy\" width=\"400\"/></center>\n",
    "\n",
    "Matplotlib có 2 objects chính:\n",
    "- `Figure`: chứa nhiều axes\n",
    "- `Axes`: nơi vẽ đồ thị, thực tế chính là cái đồ thị \n",
    "\n",
    "Các thành phần khác:\n",
    "- `Title`: tên của đồ thị\n",
    "- `X axis label`,`Y axis label`: 2 trục (ngang, đứng) của đồ thị\n",
    "- `Major tick label`, `Minor tick label`: Tick chính chứa con số, tick nhỏ có thể hoặc không chứa con số\n",
    "- `Legend`: Chú thích\n",
    "- `Grid`: Lưới (dễ căn chỉnh)\n",
    "- `Line plot`: Đồ thị đường\n",
    "- `Scatter plot`: Đồ thị phân tán\n",
    "- `Marker`: Những chấm tròn biểu diễn điểm dữ liệu trong đồ thị phân tán\n",
    "- `Axis spine`: Đường ghi nhận ranh giới khu vực dữ liệu\n",
    "- `Spine`: Đường kết nối các dấu ticks trên trục và ghi nhận ranh giới của khu vực dữ liệu.\n",
    "\n",
    "**Ref**: [Matplotlib Library](https://matplotlib.org/stable/gallery/index.html)\n",
    "\n",
    "### 1.2 Seaborn\n",
    "Seaborn là mở rộng của Matplotlib, có nghĩa là seaborn kế thừa từ matplotlib và cũng chính vì vậy, seaborn không thể thay thế hoàn toàn được Matplotlib. Seaborn sử dụng ít cú pháp hơn và có các chủ đề mặc định tuyệt đẹp và Matplotlib dễ dàng tùy chỉnh hơn thông qua việc truy cập các lớp."
   ]
  },
  {
   "cell_type": "markdown",
   "id": "1840edd6-78ec-438f-a6c4-7af8e8a71725",
   "metadata": {},
   "source": [
    "### 1.3 Cài đặt\n",
    "- Cài đặt khi tạo môi trường ảo:\n",
    "\n",
    "`conda create -n hanh python=3.7 matplotlib seaborn`\n",
    "\n",
    "- Cài đặt sau khi tạo xong môi trường ảo: \n",
    "\n",
    "`conda install matplotlib` hoặc `pip install matplotlib`,\n",
    "\n",
    "`conda install seaborn` hoặc `pip install seaborn`\n",
    "\n",
    "### 1.3 Import "
   ]
  },
  {
   "cell_type": "code",
   "execution_count": 1,
   "id": "bc54e0d4-e421-4e1a-b7a2-150070a2ac06",
   "metadata": {},
   "outputs": [],
   "source": [
    "import numpy as np\n",
    "import pandas as pd\n",
    "import matplotlib.pyplot as plt"
   ]
  },
  {
   "cell_type": "markdown",
   "id": "4b25a5a8-bf42-428a-8af7-4737f6b957b0",
   "metadata": {},
   "source": [
    "## II. CÁC KIỂU TRỰC QUAN HOÁ DỮ LIỆU CƠ BẢN"
   ]
  },
  {
   "cell_type": "markdown",
   "id": "b472336d-b041-4d02-b674-046b051a5e51",
   "metadata": {},
   "source": [
    "### 1. Plot a line graph"
   ]
  },
  {
   "cell_type": "code",
   "execution_count": null,
   "id": "fea20886-5ca0-44e9-aa8a-5bc1c6680573",
   "metadata": {},
   "outputs": [],
   "source": []
  },
  {
   "cell_type": "markdown",
   "id": "1fdc5dfc-063c-4be8-99a7-953a0973bbdd",
   "metadata": {},
   "source": [
    "### 2. Plot 2 line graphs"
   ]
  },
  {
   "cell_type": "code",
   "execution_count": null,
   "id": "65749795-721b-4165-bde3-30083c648c64",
   "metadata": {},
   "outputs": [],
   "source": []
  },
  {
   "cell_type": "markdown",
   "id": "90f1ed21-bb14-45c5-91b9-ada29df656f3",
   "metadata": {},
   "source": [
    "### 3. Distribution/Histogram plot\n",
    "\n",
    "Hist/Dist plot đếm theo bins, bins được tính bằng cách lấy max và min rồi của dữ liệu rồi chia đều thành số bins mình muốn. Bins các mịn/ số bins càng lớn, chia khoảng càng nhỏ thì các chính xác!"
   ]
  },
  {
   "cell_type": "code",
   "execution_count": null,
   "id": "d809ab19-c90a-4395-9eae-f6c9a7999b9c",
   "metadata": {},
   "outputs": [],
   "source": []
  },
  {
   "cell_type": "markdown",
   "id": "b7bfe80c-fd61-44a9-a604-a84fdef27722",
   "metadata": {},
   "source": [
    "### 4. Scatter plot"
   ]
  },
  {
   "cell_type": "code",
   "execution_count": null,
   "id": "93d90ad8-36b4-4b3d-b55b-7c027c9cbf17",
   "metadata": {},
   "outputs": [],
   "source": []
  },
  {
   "cell_type": "markdown",
   "id": "d67d7ed0-87e6-4a36-b051-2a535df606da",
   "metadata": {},
   "source": [
    "### 5. Pie chart"
   ]
  },
  {
   "cell_type": "code",
   "execution_count": null,
   "id": "076bb68f-9a24-4186-925a-5e38a553076d",
   "metadata": {},
   "outputs": [],
   "source": []
  },
  {
   "cell_type": "markdown",
   "id": "a689fe4e-693e-4441-9256-97b98e85527a",
   "metadata": {},
   "source": [
    "### 6. Box plot"
   ]
  },
  {
   "cell_type": "code",
   "execution_count": null,
   "id": "1bb6dd46-43ab-4113-a710-357a622c5c99",
   "metadata": {},
   "outputs": [],
   "source": []
  },
  {
   "cell_type": "markdown",
   "id": "4d19d4c0-5a2c-4fca-adc8-287f8130e0ed",
   "metadata": {},
   "source": [
    "### 7. BONUS\n",
    "\n",
    "Khi muốn vẽ nhiều đồ thị thể hiện sự tương quan giữa 2 hay nhiều cột thì làm như thế nào?"
   ]
  },
  {
   "cell_type": "code",
   "execution_count": null,
   "id": "42b6fe74-3de3-4261-9a77-637763038484",
   "metadata": {},
   "outputs": [],
   "source": []
  }
 ],
 "metadata": {
  "kernelspec": {
   "display_name": "Python 3 (ipykernel)",
   "language": "python",
   "name": "python3"
  },
  "language_info": {
   "codemirror_mode": {
    "name": "ipython",
    "version": 3
   },
   "file_extension": ".py",
   "mimetype": "text/x-python",
   "name": "python",
   "nbconvert_exporter": "python",
   "pygments_lexer": "ipython3",
   "version": "3.7.11"
  }
 },
 "nbformat": 4,
 "nbformat_minor": 5
}
