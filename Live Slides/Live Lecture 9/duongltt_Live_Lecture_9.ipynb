{
 "cells": [
  {
   "cell_type": "markdown",
   "id": "e48e4783-3013-4b8e-8653-b1db847e1741",
   "metadata": {},
   "source": [
    "# Bài 9: Thực hành về Học máy"
   ]
  },
  {
   "cell_type": "markdown",
   "id": "f22400ae-4b70-4fa8-bc0f-ad00bd23ba55",
   "metadata": {},
   "source": [
    "## I. QUY TRÌNH TỔNG QUAN"
   ]
  },
  {
   "cell_type": "markdown",
   "id": "28a21130-ebda-4399-9df8-0b865f1c9989",
   "metadata": {},
   "source": [
    "Một bài toán sử dụng học máy có thể chia thành 3 bước chính dưới đây:\n",
    "\n",
    "- **Bước 1: Thu thập dữ liệu**. Dữ liệu được thu thập càng nhiều càng tốt. Đối với học máy có giám sát, dữ liệu thu thập phải chứa kết quả bạn muốn dự đoán và thông tin bổ sung (các thông tin đặc trưng) để từ đó đưa ra dự đoán.\n",
    "\n",
    "- **Bước 2: Huấn luyện mô hình**. Nhập các thông tin thu thập trên vào thuật toán máy học để tạo mô hình đáp ứng bài toán đưa ra.\n",
    "\n",
    "- **Bước 3: Sử dụng mô hình dự đoán với dữ liệu mới**. Tích hợp mô hình vào một sản phẩm hoặc quy trình.\n",
    "\n",
    "Trong thực tế, dữ liệu chúng ta có đôi khi không phải từ 1 nguồn mà từ rất nhiều nguồn khác nhau tổng hợp về 1 nguồn rồi xử lý dữ liệu rồi mới có thể huấn luyện được. Dưới đây là 1 hình ảnh ví dụ tổng quan mở rộng quy trình 3 bước cơ bản phía trên.\n",
    "\n",
    "![](./img/flow2.png)\n",
    "\n",
    "Phần tiếp theo, ta sẽ cũng nhau thực hành làm quen với bài toán học máy có giám sát thông qua bài toán phân loại giống hoa Iris."
   ]
  },
  {
   "cell_type": "markdown",
   "id": "55524f62-a198-4135-ba06-dc42cbdb8eb4",
   "metadata": {
    "tags": []
   },
   "source": [
    "## II. THỰC HÀNH\n",
    "\n",
    "![](https://scikit-learn.org/stable/_static/ml_map.png)\n",
    "\n",
    "Các bạn mới làm quen với Học máy có thể tham khảo lộ trình trong ảnh trên. \n",
    "\n",
    "### 0. Cài đặt\n",
    "\n",
    "Trong buổi học này thì mình sẽ làm quen và thực hành chủ yếu trên scikit-learn API, một thư viện phổ biến khi làm việc với học máy ở tầm sơ và trung cấp. Để cài đặt thư viện, ta sử dụng câu lệnh quen thuộc dưới đây.\n",
    "\n",
    "```python\n",
    "!pip install scikit-learn\n",
    "```\n",
    "\n",
    "Ta sẽ import 1 số thư viện cần thiết dưới đây để phục vụ cho bài thực hành."
   ]
  },
  {
   "cell_type": "code",
   "execution_count": 1,
   "id": "dce2aa66-c63e-4a8a-952f-0aa671f3b33a",
   "metadata": {},
   "outputs": [
    {
     "name": "stdout",
     "output_type": "stream",
     "text": [
      "Requirement already satisfied: scikit-learn in c:\\users\\admin-pc\\anaconda3\\lib\\site-packages (0.24.1)\n",
      "Requirement already satisfied: scipy>=0.19.1 in c:\\users\\admin-pc\\anaconda3\\lib\\site-packages (from scikit-learn) (1.6.2)\n",
      "Requirement already satisfied: threadpoolctl>=2.0.0 in c:\\users\\admin-pc\\anaconda3\\lib\\site-packages (from scikit-learn) (2.1.0)\n",
      "Requirement already satisfied: joblib>=0.11 in c:\\users\\admin-pc\\anaconda3\\lib\\site-packages (from scikit-learn) (1.0.1)\n",
      "Requirement already satisfied: numpy>=1.13.3 in c:\\users\\admin-pc\\anaconda3\\lib\\site-packages (from scikit-learn) (1.20.1)\n",
      "Note: you may need to restart the kernel to use updated packages.\n"
     ]
    }
   ],
   "source": [
    "pip install scikit-learn"
   ]
  },
  {
   "cell_type": "code",
   "execution_count": 2,
   "id": "83eca661-67c0-41f7-af57-9997688cd83c",
   "metadata": {},
   "outputs": [],
   "source": [
    "import pandas as pd\n",
    "import numpy as np\n",
    "import matplotlib.pyplot as plt\n",
    "from sklearn.model_selection import train_test_split\n",
    "import seaborn as sns"
   ]
  },
  {
   "cell_type": "markdown",
   "id": "61a77155-fe38-4138-aacb-4f431ef40c08",
   "metadata": {},
   "source": [
    "### 1. Bài toán"
   ]
  },
  {
   "cell_type": "markdown",
   "id": "3bea6ebb-7467-4f85-b86d-cefdc762f006",
   "metadata": {},
   "source": [
    "Chúng ta sẽ sử dụng tập dữ liệu Iris, chứa thông tin về ba giống hoa Iris khác nhau: Iris Versicolor, Iris Virginica, Iris Setosa với các phép đo của bốn biến: chiều dài đài hoa, chiều rộng đài hoa, chiều dài cánh hoa, chiều rộng cánh hoa. Mục đích của bài toán là để phân loại hoa Iris giữa ba loài (setosa, versicolor hoặc virginica) từ các phép đo chiều dài và chiều rộng của các lá đài và cánh hoa.\n",
    "\n",
    "Như vậy, mô hình của chúng ta sẽ có:\n",
    "- **Đặc trưng**: Chiều dài đài hoa, chiều rộng đài hoa, chiều dài cánh hoa, chiều rộng cánh hoa.\n",
    "- **Nhãn**: Iris Versicolor, Iris Virginica, Iris Setosa\n",
    "\n",
    "![](./img/iris.png)"
   ]
  },
  {
   "cell_type": "code",
   "execution_count": 3,
   "id": "2738bbdf-c94b-43ca-9857-90e5839ed710",
   "metadata": {},
   "outputs": [
    {
     "data": {
      "text/html": [
       "<div>\n",
       "<style scoped>\n",
       "    .dataframe tbody tr th:only-of-type {\n",
       "        vertical-align: middle;\n",
       "    }\n",
       "\n",
       "    .dataframe tbody tr th {\n",
       "        vertical-align: top;\n",
       "    }\n",
       "\n",
       "    .dataframe thead th {\n",
       "        text-align: right;\n",
       "    }\n",
       "</style>\n",
       "<table border=\"1\" class=\"dataframe\">\n",
       "  <thead>\n",
       "    <tr style=\"text-align: right;\">\n",
       "      <th></th>\n",
       "      <th>sepal_length</th>\n",
       "      <th>sepal_width</th>\n",
       "      <th>petal_length</th>\n",
       "      <th>petal_width</th>\n",
       "      <th>species</th>\n",
       "    </tr>\n",
       "  </thead>\n",
       "  <tbody>\n",
       "    <tr>\n",
       "      <th>0</th>\n",
       "      <td>5.1</td>\n",
       "      <td>3.5</td>\n",
       "      <td>1.4</td>\n",
       "      <td>0.2</td>\n",
       "      <td>setosa</td>\n",
       "    </tr>\n",
       "    <tr>\n",
       "      <th>1</th>\n",
       "      <td>4.9</td>\n",
       "      <td>3.0</td>\n",
       "      <td>1.4</td>\n",
       "      <td>0.2</td>\n",
       "      <td>setosa</td>\n",
       "    </tr>\n",
       "    <tr>\n",
       "      <th>2</th>\n",
       "      <td>4.7</td>\n",
       "      <td>3.2</td>\n",
       "      <td>1.3</td>\n",
       "      <td>0.2</td>\n",
       "      <td>setosa</td>\n",
       "    </tr>\n",
       "    <tr>\n",
       "      <th>3</th>\n",
       "      <td>4.6</td>\n",
       "      <td>3.1</td>\n",
       "      <td>1.5</td>\n",
       "      <td>0.2</td>\n",
       "      <td>setosa</td>\n",
       "    </tr>\n",
       "    <tr>\n",
       "      <th>4</th>\n",
       "      <td>5.0</td>\n",
       "      <td>3.6</td>\n",
       "      <td>1.4</td>\n",
       "      <td>0.2</td>\n",
       "      <td>setosa</td>\n",
       "    </tr>\n",
       "  </tbody>\n",
       "</table>\n",
       "</div>"
      ],
      "text/plain": [
       "   sepal_length  sepal_width  petal_length  petal_width species\n",
       "0           5.1          3.5           1.4          0.2  setosa\n",
       "1           4.9          3.0           1.4          0.2  setosa\n",
       "2           4.7          3.2           1.3          0.2  setosa\n",
       "3           4.6          3.1           1.5          0.2  setosa\n",
       "4           5.0          3.6           1.4          0.2  setosa"
      ]
     },
     "execution_count": 3,
     "metadata": {},
     "output_type": "execute_result"
    }
   ],
   "source": [
    "iris = sns.load_dataset('iris')\n",
    "iris.head()"
   ]
  },
  {
   "cell_type": "markdown",
   "id": "4d09d254-1ff4-4562-9b7d-a93c4062374b",
   "metadata": {},
   "source": [
    "### 2. EDA (Exploratory Data Analysis)"
   ]
  },
  {
   "cell_type": "markdown",
   "id": "564718ab-a3d6-4175-8ca3-922f7d98efca",
   "metadata": {},
   "source": [
    "#### 2.1 Đánh giá ở mức thống kê"
   ]
  },
  {
   "cell_type": "code",
   "execution_count": 4,
   "id": "1af6f75b-6243-48ee-ae4e-e3bef09035cf",
   "metadata": {},
   "outputs": [
    {
     "data": {
      "text/plain": [
       "virginica     50\n",
       "versicolor    50\n",
       "setosa        50\n",
       "Name: species, dtype: int64"
      ]
     },
     "execution_count": 4,
     "metadata": {},
     "output_type": "execute_result"
    }
   ],
   "source": [
    "# số lượng các giá trị unique trong cột nhãn species\n",
    "iris.species.value_counts()\n",
    "#gia trị nhãn balance => dữ liệu đẹp."
   ]
  },
  {
   "cell_type": "code",
   "execution_count": 5,
   "id": "6af0d0e4-1cd9-49b2-ae3b-42b7552bbe06",
   "metadata": {},
   "outputs": [
    {
     "name": "stdout",
     "output_type": "stream",
     "text": [
      "<class 'pandas.core.frame.DataFrame'>\n",
      "RangeIndex: 150 entries, 0 to 149\n",
      "Data columns (total 5 columns):\n",
      " #   Column        Non-Null Count  Dtype  \n",
      "---  ------        --------------  -----  \n",
      " 0   sepal_length  150 non-null    float64\n",
      " 1   sepal_width   150 non-null    float64\n",
      " 2   petal_length  150 non-null    float64\n",
      " 3   petal_width   150 non-null    float64\n",
      " 4   species       150 non-null    object \n",
      "dtypes: float64(4), object(1)\n",
      "memory usage: 6.0+ KB\n"
     ]
    }
   ],
   "source": [
    "#các thông tin trong cột có thằng nào null hay không? về mặt thống kê có bao nhiêu giá trị null\n",
    "iris.info()\n",
    "#mỗi lần load dữ liệu ngốn trong Ram khoảng 6.0KB. sau này làm nhiều dữ liệu lớn thì cái mình sd kết hợp là Python và ...\n",
    "#để làm việc với datawarhouse (37') nếu không dữ liệu lớn quá thì sẽ bị treo luôn"
   ]
  },
  {
   "cell_type": "code",
   "execution_count": 6,
   "id": "79c10f14-59f1-4dea-8db2-75e79f1f64d4",
   "metadata": {},
   "outputs": [
    {
     "data": {
      "text/plain": [
       "sepal_length    0\n",
       "sepal_width     0\n",
       "petal_length    0\n",
       "petal_width     0\n",
       "species         0\n",
       "dtype: int64"
      ]
     },
     "execution_count": 6,
     "metadata": {},
     "output_type": "execute_result"
    }
   ],
   "source": [
    "iris.isnull().sum() #hàm check số lượng null, kết hợp hàm sum"
   ]
  },
  {
   "cell_type": "code",
   "execution_count": 7,
   "id": "433454e4-f859-4034-982b-1e4e4646e361",
   "metadata": {},
   "outputs": [
    {
     "data": {
      "text/html": [
       "<div>\n",
       "<style scoped>\n",
       "    .dataframe tbody tr th:only-of-type {\n",
       "        vertical-align: middle;\n",
       "    }\n",
       "\n",
       "    .dataframe tbody tr th {\n",
       "        vertical-align: top;\n",
       "    }\n",
       "\n",
       "    .dataframe thead th {\n",
       "        text-align: right;\n",
       "    }\n",
       "</style>\n",
       "<table border=\"1\" class=\"dataframe\">\n",
       "  <thead>\n",
       "    <tr style=\"text-align: right;\">\n",
       "      <th></th>\n",
       "      <th>sepal_length</th>\n",
       "      <th>sepal_width</th>\n",
       "      <th>petal_length</th>\n",
       "      <th>petal_width</th>\n",
       "    </tr>\n",
       "  </thead>\n",
       "  <tbody>\n",
       "    <tr>\n",
       "      <th>count</th>\n",
       "      <td>150.000000</td>\n",
       "      <td>150.000000</td>\n",
       "      <td>150.000000</td>\n",
       "      <td>150.000000</td>\n",
       "    </tr>\n",
       "    <tr>\n",
       "      <th>mean</th>\n",
       "      <td>5.843333</td>\n",
       "      <td>3.057333</td>\n",
       "      <td>3.758000</td>\n",
       "      <td>1.199333</td>\n",
       "    </tr>\n",
       "    <tr>\n",
       "      <th>std</th>\n",
       "      <td>0.828066</td>\n",
       "      <td>0.435866</td>\n",
       "      <td>1.765298</td>\n",
       "      <td>0.762238</td>\n",
       "    </tr>\n",
       "    <tr>\n",
       "      <th>min</th>\n",
       "      <td>4.300000</td>\n",
       "      <td>2.000000</td>\n",
       "      <td>1.000000</td>\n",
       "      <td>0.100000</td>\n",
       "    </tr>\n",
       "    <tr>\n",
       "      <th>25%</th>\n",
       "      <td>5.100000</td>\n",
       "      <td>2.800000</td>\n",
       "      <td>1.600000</td>\n",
       "      <td>0.300000</td>\n",
       "    </tr>\n",
       "    <tr>\n",
       "      <th>50%</th>\n",
       "      <td>5.800000</td>\n",
       "      <td>3.000000</td>\n",
       "      <td>4.350000</td>\n",
       "      <td>1.300000</td>\n",
       "    </tr>\n",
       "    <tr>\n",
       "      <th>75%</th>\n",
       "      <td>6.400000</td>\n",
       "      <td>3.300000</td>\n",
       "      <td>5.100000</td>\n",
       "      <td>1.800000</td>\n",
       "    </tr>\n",
       "    <tr>\n",
       "      <th>max</th>\n",
       "      <td>7.900000</td>\n",
       "      <td>4.400000</td>\n",
       "      <td>6.900000</td>\n",
       "      <td>2.500000</td>\n",
       "    </tr>\n",
       "  </tbody>\n",
       "</table>\n",
       "</div>"
      ],
      "text/plain": [
       "       sepal_length  sepal_width  petal_length  petal_width\n",
       "count    150.000000   150.000000    150.000000   150.000000\n",
       "mean       5.843333     3.057333      3.758000     1.199333\n",
       "std        0.828066     0.435866      1.765298     0.762238\n",
       "min        4.300000     2.000000      1.000000     0.100000\n",
       "25%        5.100000     2.800000      1.600000     0.300000\n",
       "50%        5.800000     3.000000      4.350000     1.300000\n",
       "75%        6.400000     3.300000      5.100000     1.800000\n",
       "max        7.900000     4.400000      6.900000     2.500000"
      ]
     },
     "execution_count": 7,
     "metadata": {},
     "output_type": "execute_result"
    }
   ],
   "source": [
    "iris.describe() #thông tin cơ bản để áp dụng thông tin với các cột có giá trị, chứa str thì không phải giá trị min, max... mà\n",
    "#tần số xuất hiện của những str thôi"
   ]
  },
  {
   "cell_type": "code",
   "execution_count": 8,
   "id": "bd3a2764-58a7-4bbd-8baf-1c2002aa3581",
   "metadata": {},
   "outputs": [
    {
     "data": {
      "text/html": [
       "<div>\n",
       "<style scoped>\n",
       "    .dataframe tbody tr th:only-of-type {\n",
       "        vertical-align: middle;\n",
       "    }\n",
       "\n",
       "    .dataframe tbody tr th {\n",
       "        vertical-align: top;\n",
       "    }\n",
       "\n",
       "    .dataframe thead th {\n",
       "        text-align: right;\n",
       "    }\n",
       "</style>\n",
       "<table border=\"1\" class=\"dataframe\">\n",
       "  <thead>\n",
       "    <tr style=\"text-align: right;\">\n",
       "      <th></th>\n",
       "      <th>sepal_length</th>\n",
       "      <th>sepal_width</th>\n",
       "      <th>petal_length</th>\n",
       "      <th>petal_width</th>\n",
       "    </tr>\n",
       "  </thead>\n",
       "  <tbody>\n",
       "    <tr>\n",
       "      <th>sepal_length</th>\n",
       "      <td>1.000000</td>\n",
       "      <td>-0.117570</td>\n",
       "      <td>0.871754</td>\n",
       "      <td>0.817941</td>\n",
       "    </tr>\n",
       "    <tr>\n",
       "      <th>sepal_width</th>\n",
       "      <td>-0.117570</td>\n",
       "      <td>1.000000</td>\n",
       "      <td>-0.428440</td>\n",
       "      <td>-0.366126</td>\n",
       "    </tr>\n",
       "    <tr>\n",
       "      <th>petal_length</th>\n",
       "      <td>0.871754</td>\n",
       "      <td>-0.428440</td>\n",
       "      <td>1.000000</td>\n",
       "      <td>0.962865</td>\n",
       "    </tr>\n",
       "    <tr>\n",
       "      <th>petal_width</th>\n",
       "      <td>0.817941</td>\n",
       "      <td>-0.366126</td>\n",
       "      <td>0.962865</td>\n",
       "      <td>1.000000</td>\n",
       "    </tr>\n",
       "  </tbody>\n",
       "</table>\n",
       "</div>"
      ],
      "text/plain": [
       "              sepal_length  sepal_width  petal_length  petal_width\n",
       "sepal_length      1.000000    -0.117570      0.871754     0.817941\n",
       "sepal_width      -0.117570     1.000000     -0.428440    -0.366126\n",
       "petal_length      0.871754    -0.428440      1.000000     0.962865\n",
       "petal_width       0.817941    -0.366126      0.962865     1.000000"
      ]
     },
     "execution_count": 8,
     "metadata": {},
     "output_type": "execute_result"
    }
   ],
   "source": [
    "iris.corr() #nhìn thấy tương quan từng cột dữ liệu biến với cột nhãn"
   ]
  },
  {
   "cell_type": "markdown",
   "id": "f07f95b8-3669-460f-9491-b0ef691489ae",
   "metadata": {},
   "source": [
    "#### 2.2 Trực quan hoá dữ liệu"
   ]
  },
  {
   "cell_type": "code",
   "execution_count": 9,
   "id": "bb2006c8-0e26-4847-a2b1-e0cfadb1b2f6",
   "metadata": {},
   "outputs": [
    {
     "data": {
      "image/png": "[encoded data removed]",
      "text/plain": [
       "<Figure size 432x288 with 1 Axes>"
      ]
     },
     "metadata": {
      "needs_background": "light"
     },
     "output_type": "display_data"
    }
   ],
   "source": [
    "species= iris.species.value_counts()\n",
    "species.plot(kind='bar')\n",
    "plt.show()"
   ]
  },
  {
   "cell_type": "code",
   "execution_count": 10,
   "id": "8537afc9-a400-4cdf-b878-2ecea7897791",
   "metadata": {},
   "outputs": [
    {
     "data": {
      "image/png": "[encoded data removed]",
      "text/plain": [
       "<Figure size 432x288 with 1 Axes>"
      ]
     },
     "metadata": {},
     "output_type": "display_data"
    }
   ],
   "source": [
    "# nếu muốn vẽ piechart thì phải dùng matplotlip =>plt.pie, nếu số lượng bản ghi lớn hơn thì dugnf barchart thì đpẹ hơn\n",
    "plt.pie(species, labels=species.index,autopct='%.2f%%',explode=[0, 0.1, 0] )\n",
    "plt.show()"
   ]
  },
  {
   "cell_type": "code",
   "execution_count": 11,
   "id": "0bd18732-51c9-4acf-b4ff-8bbb1513e130",
   "metadata": {},
   "outputs": [
    {
     "data": {
      "image/png": "[encoded data removed]",
      "text/plain": [
       "<Figure size 432x288 with 4 Axes>"
      ]
     },
     "metadata": {
      "needs_background": "light"
     },
     "output_type": "display_data"
    }
   ],
   "source": [
    "#Tan dung ham lấy phân bố chung của tập dữ liệu\n",
    "iris.hist()\n",
    "plt.show()"
   ]
  },
  {
   "cell_type": "code",
   "execution_count": 12,
   "id": "4015b6ec-d09e-4d08-9441-219f170bca44",
   "metadata": {},
   "outputs": [
    {
     "data": {
      "image/png": "[encoded data removed]",
      "text/plain": [
       "<Figure size 432x288 with 1 Axes>"
      ]
     },
     "metadata": {
      "needs_background": "light"
     },
     "output_type": "display_data"
    }
   ],
   "source": [
    "sns.boxplot(data=iris)\n",
    "plt.show() #thêm distribution\n",
    "#trực quan hóa dữ liệu xem có vấn đề gì không?"
   ]
  },
  {
   "cell_type": "code",
   "execution_count": 13,
   "id": "ae56a33c-fb12-4a66-b394-e3e49205e635",
   "metadata": {},
   "outputs": [
    {
     "data": {
      "image/png": "[encoded data removed]",
      "text/plain": [
       "<Figure size 432x288 with 2 Axes>"
      ]
     },
     "metadata": {
      "needs_background": "light"
     },
     "output_type": "display_data"
    }
   ],
   "source": [
    "sns.heatmap(iris.corr(), annot=True)\n",
    "plt.show()\n",
    "#các cách biểu diễn dữ liệu và đánh giá dữ liệu"
   ]
  },
  {
   "cell_type": "code",
   "execution_count": 14,
   "id": "8d37610e-3c68-4a71-837b-d12cb6c45ca3",
   "metadata": {},
   "outputs": [
    {
     "data": {
      "image/png": "[encoded data removed]",
      "text/plain": [
       "<Figure size 516.75x432 with 20 Axes>"
      ]
     },
     "metadata": {
      "needs_background": "light"
     },
     "output_type": "display_data"
    }
   ],
   "source": [
    "sns.pairplot(iris,hue='species', height=1.5)\n",
    "plt.show()\n"
   ]
  },
  {
   "cell_type": "markdown",
   "id": "1a925cba-61bc-4248-8ca8-f04a0790d7ea",
   "metadata": {},
   "source": [
    "### 3. Xây dựng mô hình"
   ]
  },
  {
   "cell_type": "markdown",
   "id": "0cc17902-4bc2-4a4a-8f85-555ad7d10dd0",
   "metadata": {},
   "source": [
    "#### 3.1 Chia tập huấn luyện và kiểm thử"
   ]
  },
  {
   "cell_type": "code",
   "execution_count": 15,
   "id": "c8923e46-a758-49ee-8652-a6fd90d05ea4",
   "metadata": {},
   "outputs": [],
   "source": [
    "#thông thường khi xây dựng mô hình, thì k sử dụng 100% dữ liệu để huấn luyện mô hình, chia ra 1 phần để huấn luyện, 1 phần để kiểm thử\n",
    "#train thì nhiều hơn test (tuy thuộc vào dữ liệu thu thập thường 70-30 or 85-15, 80-20)\n",
    "#trong TH dữ liệu ít, 100k-200k bản ghi thì có thể cân nhắc cross-validation.\n",
    "#from sklearn.model_selection import train_test_split để chia tập dữ liệu thành train và test\n",
    "X_iris= iris.drop('species', axis=1)\n",
    "y_iris= iris['species'] #iris.species"
   ]
  },
  {
   "cell_type": "code",
   "execution_count": 16,
   "id": "71d750f2-4a5c-44f0-9a80-e73e9156e071",
   "metadata": {},
   "outputs": [],
   "source": [
    "Xtrain, Xtest, ytrain, ytest= train_test_split(X_iris, y_iris, test_size= 0.2, random_state=42) #mặc định test_size= 0.25"
   ]
  },
  {
   "cell_type": "code",
   "execution_count": 17,
   "id": "119835d5-4964-451d-a242-39ae4a241c21",
   "metadata": {},
   "outputs": [
    {
     "data": {
      "text/plain": [
       "((120, 4), (30, 4))"
      ]
     },
     "execution_count": 17,
     "metadata": {},
     "output_type": "execute_result"
    }
   ],
   "source": [
    "Xtrain.shape, Xtest.shape"
   ]
  },
  {
   "cell_type": "code",
   "execution_count": 18,
   "id": "6ff72b59-2c7b-4ef1-8567-d5f1207390d4",
   "metadata": {},
   "outputs": [
    {
     "data": {
      "text/plain": [
       "((120,), (30,))"
      ]
     },
     "execution_count": 18,
     "metadata": {},
     "output_type": "execute_result"
    }
   ],
   "source": [
    "ytrain.shape, ytest.shape"
   ]
  },
  {
   "cell_type": "markdown",
   "id": "ec043190-7ac2-4ecc-b471-6fa09ed4a30e",
   "metadata": {},
   "source": [
    "#### 3.2 Huấn luyện mô hình\n",
    "\n",
    "Hồi quy logistic là phân tích hồi quy thích hợp để tiến hành khi biến phụ thuộc là nhị phân. Giống như tất cả các phân tích hồi quy, hồi quy logistic là một phân tích dự đoán. Về mặt toán học, một mô hình logistic có một biến phụ thuộc với hai giá trị có thể có, chẳng hạn như đạt / không đạt, thắng / thua, sống / chết, ... trong đó hai giá trị được gắn nhãn `0` và `1`."
   ]
  },
  {
   "cell_type": "code",
   "execution_count": 19,
   "id": "7d892587-2fb5-4c5d-85e1-60117823a28b",
   "metadata": {},
   "outputs": [],
   "source": [
    "from sklearn.linear_model import  LogisticRegression"
   ]
  },
  {
   "cell_type": "code",
   "execution_count": 20,
   "id": "a53f8130-5a98-48b7-af8d-91fd5a98ec33",
   "metadata": {},
   "outputs": [
    {
     "data": {
      "text/plain": [
       "LogisticRegression(max_iter=1000)"
      ]
     },
     "execution_count": 20,
     "metadata": {},
     "output_type": "execute_result"
    }
   ],
   "source": [
    "model= LogisticRegression(max_iter=1000)\n",
    "model.fit(Xtrain, ytrain) #non return\n",
    "#Mô hình chạy tốt là hội tụ ở điểm thấp nhất."
   ]
  },
  {
   "cell_type": "code",
   "execution_count": 21,
   "id": "07ece6b4-b35c-497c-ba4c-6b1812838a5e",
   "metadata": {},
   "outputs": [
    {
     "data": {
      "text/plain": [
       "array(['versicolor', 'setosa', 'virginica', 'versicolor', 'versicolor',\n",
       "       'setosa', 'versicolor', 'virginica', 'versicolor', 'versicolor',\n",
       "       'virginica', 'setosa', 'setosa', 'setosa', 'setosa', 'versicolor',\n",
       "       'virginica', 'versicolor', 'versicolor', 'virginica', 'setosa',\n",
       "       'virginica', 'setosa', 'virginica', 'virginica', 'virginica',\n",
       "       'virginica', 'virginica', 'setosa', 'setosa'], dtype=object)"
      ]
     },
     "execution_count": 21,
     "metadata": {},
     "output_type": "execute_result"
    }
   ],
   "source": [
    "#dự đoán đối với nhãn gốc hoặc với xác suất\n",
    "y_model= model.predict(Xtest)\n",
    "y_model"
   ]
  },
  {
   "cell_type": "code",
   "execution_count": 22,
   "id": "e96ee02e-d8c7-46fe-bc77-6708912a3faa",
   "metadata": {},
   "outputs": [
    {
     "data": {
      "text/plain": [
       "array([[3.78388569e-03, 8.27221035e-01, 1.68995079e-01],\n",
       "       [9.46716076e-01, 5.32837243e-02, 2.00018685e-07],\n",
       "       [8.72304084e-09, 1.55673057e-03, 9.98443261e-01],\n",
       "       [6.43310691e-03, 7.92116534e-01, 2.01450359e-01],\n",
       "       [1.44095197e-03, 7.74269058e-01, 2.24289990e-01],\n",
       "       [9.55778272e-01, 4.42215507e-02, 1.76935768e-07],\n",
       "       [7.76156365e-02, 9.08072100e-01, 1.43122632e-02],\n",
       "       [1.61411592e-04, 1.55649315e-01, 8.44189274e-01],\n",
       "       [2.20805041e-03, 7.62573947e-01, 2.35218003e-01],\n",
       "       [2.83174009e-02, 9.45780967e-01, 2.59016326e-02],\n",
       "       [4.39675988e-04, 2.43342190e-01, 7.56218134e-01],\n",
       "       [9.68311906e-01, 3.16880155e-02, 7.81269419e-08],\n",
       "       [9.72938803e-01, 2.70611637e-02, 3.33516316e-08],\n",
       "       [9.62097400e-01, 3.79024893e-02, 1.10999757e-07],\n",
       "       [9.79263670e-01, 2.07362656e-02, 6.47552337e-08],\n",
       "       [4.54119901e-03, 7.12718781e-01, 2.82740020e-01],\n",
       "       [7.22666781e-06, 2.42147142e-02, 9.75778059e-01],\n",
       "       [2.73315239e-02, 9.47672181e-01, 2.49962948e-02],\n",
       "       [8.22978049e-03, 8.31134549e-01, 1.60635671e-01],\n",
       "       [1.41935668e-05, 3.59415115e-02, 9.64044295e-01],\n",
       "       [9.64363324e-01, 3.56364827e-02, 1.92982363e-07],\n",
       "       [1.31362110e-03, 3.99146953e-01, 5.99539426e-01],\n",
       "       [9.61625050e-01, 3.83746890e-02, 2.61282656e-07],\n",
       "       [1.85410244e-05, 4.58667364e-02, 9.54114723e-01],\n",
       "       [1.63860159e-06, 2.59034328e-02, 9.74094929e-01],\n",
       "       [9.32578826e-05, 1.05042093e-01, 8.94864649e-01],\n",
       "       [8.68661379e-06, 5.83355353e-02, 9.41655778e-01],\n",
       "       [4.30001047e-06, 1.88635253e-02, 9.81132175e-01],\n",
       "       [9.66847161e-01, 3.31527035e-02, 1.35900332e-07],\n",
       "       [9.56302807e-01, 4.36969608e-02, 2.32576255e-07]])"
      ]
     },
     "execution_count": 22,
     "metadata": {},
     "output_type": "execute_result"
    }
   ],
   "source": [
    "model.predict_proba(Xtest)"
   ]
  },
  {
   "cell_type": "code",
   "execution_count": 23,
   "id": "d9c1a6ed-730e-42cc-b7f8-2d81765ee357",
   "metadata": {},
   "outputs": [
    {
     "data": {
      "text/plain": [
       "array(['setosa', 'versicolor', 'virginica'], dtype=object)"
      ]
     },
     "execution_count": 23,
     "metadata": {},
     "output_type": "execute_result"
    }
   ],
   "source": [
    "model.classes_"
   ]
  },
  {
   "cell_type": "markdown",
   "id": "16f14e59-79f7-4c6e-81fd-8935dc7de294",
   "metadata": {},
   "source": [
    "#### 3.3 Đánh giá chất lượng mô hình"
   ]
  },
  {
   "cell_type": "code",
   "execution_count": 24,
   "id": "493291ab-0e33-41fb-83ce-9fa0e4f81db2",
   "metadata": {},
   "outputs": [],
   "source": [
    "#accuracy, precision, recall, fi-score, => confusion matrix"
   ]
  },
  {
   "cell_type": "code",
   "execution_count": 25,
   "id": "bcc0cc79-fcdb-4640-988a-c4486aced1ba",
   "metadata": {},
   "outputs": [],
   "source": [
    "from sklearn.metrics import accuracy_score, confusion_matrix, classification_report"
   ]
  },
  {
   "cell_type": "code",
   "execution_count": 26,
   "id": "7d509c5c-7401-470a-966c-8ba66ede2b99",
   "metadata": {},
   "outputs": [
    {
     "data": {
      "text/plain": [
       "1.0"
      ]
     },
     "execution_count": 26,
     "metadata": {},
     "output_type": "execute_result"
    }
   ],
   "source": [
    "accuracy_score(ytest, y_model)"
   ]
  },
  {
   "cell_type": "code",
   "execution_count": 27,
   "id": "2baacc0b-7201-4fd8-af23-fc27c9a55bbe",
   "metadata": {},
   "outputs": [
    {
     "name": "stdout",
     "output_type": "stream",
     "text": [
      "              precision    recall  f1-score   support\n",
      "\n",
      "      setosa       1.00      1.00      1.00        10\n",
      "  versicolor       1.00      1.00      1.00         9\n",
      "   virginica       1.00      1.00      1.00        11\n",
      "\n",
      "    accuracy                           1.00        30\n",
      "   macro avg       1.00      1.00      1.00        30\n",
      "weighted avg       1.00      1.00      1.00        30\n",
      "\n"
     ]
    }
   ],
   "source": [
    "print(classification_report(ytest, y_model))"
   ]
  },
  {
   "cell_type": "code",
   "execution_count": 28,
   "id": "07018200-8129-4cea-9b45-edc3931c8f49",
   "metadata": {},
   "outputs": [
    {
     "data": {
      "text/plain": [
       "array([[10,  0,  0],\n",
       "       [ 0,  9,  0],\n",
       "       [ 0,  0, 11]], dtype=int64)"
      ]
     },
     "execution_count": 28,
     "metadata": {},
     "output_type": "execute_result"
    }
   ],
   "source": [
    "confusion_matrix(ytest, y_model)"
   ]
  },
  {
   "cell_type": "markdown",
   "id": "33440bb4-83bf-4a2a-8c31-17fef58642b4",
   "metadata": {},
   "source": [
    "## III. TRIỂN KHAI VỚI FLASK\n",
    "\n",
    "Flask là một Web Framework rất nhẹ của Python, dễ dàng giúp người mới bắt đầu học Python có thể tạo ra website nhỏ. Flask cũng dễ mở rộng để xây dựng các ứng dụng web phức tạp. Ngoài Flask Framework, bạn có thể học PYTHON với Django Framework để xây dựng các ứng dụng web lớn hơn. Như đã nêu trước đó, Flask được phân loại là Web Framework siêu nhỏ, nhẹ. Thông thường, một framework vi mô là một framework tối giản hoặc không phụ thuộc vào thư viện bên ngoài.\n",
    "\n",
    "Để sử dụng Flask, ta cài thư viện sau:\n",
    "```python\n",
    "!pip install flask\n",
    "```\n",
    "\n",
    "Dưới đây là 1 số câu lệnh để ta làm quen với Flask."
   ]
  },
  {
   "cell_type": "code",
   "execution_count": 29,
   "id": "ca233594-f67e-4e71-8550-573ec2504eff",
   "metadata": {},
   "outputs": [
    {
     "name": "stdout",
     "output_type": "stream",
     "text": [
      "Requirement already satisfied: flask in c:\\users\\admin-pc\\anaconda3\\lib\\site-packages (1.1.2)\n",
      "Requirement already satisfied: Jinja2>=2.10.1 in c:\\users\\admin-pc\\anaconda3\\lib\\site-packages (from flask) (2.11.3)\n",
      "Requirement already satisfied: itsdangerous>=0.24 in c:\\users\\admin-pc\\anaconda3\\lib\\site-packages (from flask) (1.1.0)\n",
      "Requirement already satisfied: Werkzeug>=0.15 in c:\\users\\admin-pc\\anaconda3\\lib\\site-packages (from flask) (1.0.1)\n",
      "Requirement already satisfied: click>=5.1 in c:\\users\\admin-pc\\anaconda3\\lib\\site-packages (from flask) (7.1.2)\n",
      "Requirement already satisfied: MarkupSafe>=0.23 in c:\\users\\admin-pc\\anaconda3\\lib\\site-packages (from Jinja2>=2.10.1->flask) (1.1.1)\n",
      "Note: you may need to restart the kernel to use updated packages.\n"
     ]
    }
   ],
   "source": [
    "pip install flask"
   ]
  },
  {
   "cell_type": "code",
   "execution_count": null,
   "id": "4d6262fc-9bf7-4243-ac16-83a74e912e6f",
   "metadata": {},
   "outputs": [
    {
     "name": "stdout",
     "output_type": "stream",
     "text": [
      " * Serving Flask app \"__main__\" (lazy loading)\n",
      " * Environment: production\n",
      "   WARNING: This is a development server. Do not use it in a production deployment.\n",
      "   Use a production WSGI server instead.\n",
      " * Debug mode: off\n"
     ]
    },
    {
     "name": "stderr",
     "output_type": "stream",
     "text": [
      " * Running on http://127.0.0.1:5000/ (Press CTRL+C to quit)\n",
      "127.0.0.1 - - [20/Sep/2021 21:23:23] \"\u001b[37mGET / HTTP/1.1\u001b[0m\" 200 -\n",
      "127.0.0.1 - - [20/Sep/2021 21:23:25] \"\u001b[33mGET /favicon.ico HTTP/1.1\u001b[0m\" 404 -\n"
     ]
    }
   ],
   "source": [
    "from flask import Flask\n",
    "app = Flask(__name__)\n",
    "@app.route('/')\n",
    "def hello():\n",
    "    return \"HELLO WORLD\"\n",
    "\n",
    "if __name__=='__main__':\n",
    "    app.run()"
   ]
  },
  {
   "cell_type": "code",
   "execution_count": null,
   "id": "7544c90e-ec1e-4cad-98f0-bf9b24d2e469",
   "metadata": {},
   "outputs": [],
   "source": []
  }
 ],
 "metadata": {
  "kernelspec": {
   "display_name": "Python 3",
   "language": "python",
   "name": "python3"
  },
  "language_info": {
   "codemirror_mode": {
    "name": "ipython",
    "version": 3
   },
   "file_extension": ".py",
   "mimetype": "text/x-python",
   "name": "python",
   "nbconvert_exporter": "python",
   "pygments_lexer": "ipython3",
   "version": "3.8.8"
  }
 },
 "nbformat": 4,
 "nbformat_minor": 5
}
