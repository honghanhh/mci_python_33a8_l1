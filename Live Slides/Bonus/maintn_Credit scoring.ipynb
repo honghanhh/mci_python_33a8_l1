{
 "cells": [
  {
   "cell_type": "markdown",
   "id": "4d25cbf4-c61f-472f-a63c-1d4d1560a10e",
   "metadata": {},
   "source": [
    "# CASE STUDY with CREDIT SCORING"
   ]
  },
  {
   "cell_type": "markdown",
   "id": "29c06173-b68c-47c7-a989-34f8a9c4c095",
   "metadata": {},
   "source": [
    "## 1. PROBLEM\n",
    "\n",
    "Banks play a crucial role in market economies. They decide who can get finance and on what terms and can make or break investment decisions. For markets and society to function, individuals and companies need access to credit. \n",
    "\n",
    "Credit scoring algorithms, which make a guess at the probability of default, are the method banks use to determine whether or not a loan should be granted. This competition requires participants to improve on the state of the art in credit scoring, by predicting the probability that somebody will experience financial distress in the next two years.\n",
    "\n",
    "- **Input**: Historical data of 250,000 borrowers.\n",
    "- **Output**: SeriousDlqin2yrs.\n",
    "- **Goal**: Build a model that borrowers can use to help make the best financial decisions.\n",
    "\n",
    "Reference: [Kaggle Dataset](https://www.kaggle.com/c/GiveMeSomeCredit)"
   ]
  },
  {
   "cell_type": "markdown",
   "id": "717033bd-c27e-4dbe-b053-d4822c6fe7bd",
   "metadata": {},
   "source": [
    "## 2. Exploratory Data Analysis (EDA)"
   ]
  },
  {
   "cell_type": "markdown",
   "id": "04b84143-33b4-4463-87fa-65a11746f1f9",
   "metadata": {},
   "source": [
    "### 2.1 Variables descriptions"
   ]
  },
  {
   "cell_type": "markdown",
   "id": "be0f8213-edb5-43dc-8e0b-83354e2919e6",
   "metadata": {},
   "source": [
    "|Variables|Descriptions|\n",
    "|-|-|\n",
    "|**SeriousDlqin2yrs**| Person experienced 90 days past due delinquency or worse|\n",
    "|**RevolvingUtilizationOfUnsecuredLines**| Total balance on credit cards and personal lines of credit except real estate and no installment debt like car loans divided by the sum of credit limits (Tổng số dư trên thẻ tín dụng và hạn mức tín dụng cá nhân ngoại trừ bất động sản và không có nợ trả góp như khoản vay mua ô tô chia cho tổng hạn mức tín dụng)|\n",
    "|**age**| Age of borrower in years|\n",
    "|**NumberOfTime30-59DaysPastDueNotWorse**| Number of times borrower has been 30-59 days past due but no worse in the last 2 years|\n",
    "|**DebtRatio**| Monthly debt payments, alimony,living costs divided by monthy gross income (Thanh toán nợ hàng tháng, cấp dưỡng, chi phí sinh hoạt chia cho tổng thu nhập hàng tháng)|\n",
    "|**MonthlyIncome**| Monthly income|\n",
    "|**NumberOfOpenCreditLinesAndLoans**| Number of Open loans (installment like car loan or mortgage) and Lines of credit (e.g. credit cards) -> Số khoản vay và thẻ tín dụng|\n",
    "|**NumberOfTimes90DaysLate**| Number of times borrower has been 90 days or more past due|\n",
    "|**NumberRealEstateLoansOrLines**| Number of mortgage and real estate loans including home equity lines of credit (Số lượng các khoản vay thế chấp và bất động sản bao gồm hạn mức tín dụng vốn chủ sở hữu nhà)|\n",
    "|**NumberOfTime60-89DaysPastDueNotWorse**| Number of times borrower has been 60-89 days past due but no worse in the last 2 years|\n",
    "|**NumberOfDependents**| Number of dependents in family excluding themselves (spouse, children etc.)|"
   ]
  },
  {
   "cell_type": "markdown",
   "id": "cba1c253-d854-4716-9ffe-87ec4f51f2e9",
   "metadata": {},
   "source": [
    "Random Forest:\n",
    "- Handle well with different types of features: numerical/ categorical"
   ]
  },
  {
   "cell_type": "markdown",
   "id": "0552cbf7-3df0-46b9-9e30-230e170fa517",
   "metadata": {},
   "source": [
    "### 2.2 Statistics"
   ]
  },
  {
   "cell_type": "markdown",
   "id": "6f9ca2f1-5cd1-4e4c-804d-2ed0ec488ad4",
   "metadata": {},
   "source": [
    "**Q1: Import necessary libraries: Pandas, Numpy, Matplotlib, Seaborn**"
   ]
  },
  {
   "cell_type": "code",
   "execution_count": 1,
   "id": "c1f753ca-c4bd-40e7-90da-d4c5b0c245b5",
   "metadata": {},
   "outputs": [],
   "source": [
    "import pandas as pd\n",
    "import numpy as np\n",
    "import matplotlib.pyplot as plt\n",
    "import seaborn as sns\n",
    "import warnings\n",
    "warnings.filterwarnings('ignore')"
   ]
  },
  {
   "cell_type": "markdown",
   "id": "83dd5e2c-bceb-4f31-a824-59d31a61b4f4",
   "metadata": {},
   "source": [
    "**Q2: Load data using pd.read_csv()**"
   ]
  },
  {
   "cell_type": "code",
   "execution_count": 28,
   "id": "cae34882-7310-4ab2-95fd-60960be29bfd",
   "metadata": {},
   "outputs": [],
   "source": [
    "df_train = pd.read_csv('cs-training.csv')\n",
    "df_test = pd.read_csv('cs-test.csv')"
   ]
  },
  {
   "cell_type": "markdown",
   "id": "0e57838e-6dfe-44de-9011-9668a6082fe6",
   "metadata": {},
   "source": [
    "**Q3: Get the first 5 rows of train set**"
   ]
  },
  {
   "cell_type": "code",
   "execution_count": 3,
   "id": "2ed10321-1278-49b1-a791-d7f42bf92cef",
   "metadata": {},
   "outputs": [
    {
     "data": {
      "text/html": [
       "<div>\n",
       "<style scoped>\n",
       "    .dataframe tbody tr th:only-of-type {\n",
       "        vertical-align: middle;\n",
       "    }\n",
       "\n",
       "    .dataframe tbody tr th {\n",
       "        vertical-align: top;\n",
       "    }\n",
       "\n",
       "    .dataframe thead th {\n",
       "        text-align: right;\n",
       "    }\n",
       "</style>\n",
       "<table border=\"1\" class=\"dataframe\">\n",
       "  <thead>\n",
       "    <tr style=\"text-align: right;\">\n",
       "      <th></th>\n",
       "      <th>SeriousDlqin2yrs</th>\n",
       "      <th>RevolvingUtilizationOfUnsecuredLines</th>\n",
       "      <th>age</th>\n",
       "      <th>NumberOfTime30-59DaysPastDueNotWorse</th>\n",
       "      <th>DebtRatio</th>\n",
       "      <th>MonthlyIncome</th>\n",
       "      <th>NumberOfOpenCreditLinesAndLoans</th>\n",
       "      <th>NumberOfTimes90DaysLate</th>\n",
       "      <th>NumberRealEstateLoansOrLines</th>\n",
       "      <th>NumberOfTime60-89DaysPastDueNotWorse</th>\n",
       "      <th>NumberOfDependents</th>\n",
       "    </tr>\n",
       "  </thead>\n",
       "  <tbody>\n",
       "    <tr>\n",
       "      <th>0</th>\n",
       "      <td>1</td>\n",
       "      <td>0.766127</td>\n",
       "      <td>45</td>\n",
       "      <td>2</td>\n",
       "      <td>0.802982</td>\n",
       "      <td>9120.0</td>\n",
       "      <td>13</td>\n",
       "      <td>0</td>\n",
       "      <td>6</td>\n",
       "      <td>0</td>\n",
       "      <td>2.0</td>\n",
       "    </tr>\n",
       "    <tr>\n",
       "      <th>1</th>\n",
       "      <td>0</td>\n",
       "      <td>0.957151</td>\n",
       "      <td>40</td>\n",
       "      <td>0</td>\n",
       "      <td>0.121876</td>\n",
       "      <td>2600.0</td>\n",
       "      <td>4</td>\n",
       "      <td>0</td>\n",
       "      <td>0</td>\n",
       "      <td>0</td>\n",
       "      <td>1.0</td>\n",
       "    </tr>\n",
       "    <tr>\n",
       "      <th>2</th>\n",
       "      <td>0</td>\n",
       "      <td>0.658180</td>\n",
       "      <td>38</td>\n",
       "      <td>1</td>\n",
       "      <td>0.085113</td>\n",
       "      <td>3042.0</td>\n",
       "      <td>2</td>\n",
       "      <td>1</td>\n",
       "      <td>0</td>\n",
       "      <td>0</td>\n",
       "      <td>0.0</td>\n",
       "    </tr>\n",
       "    <tr>\n",
       "      <th>3</th>\n",
       "      <td>0</td>\n",
       "      <td>0.233810</td>\n",
       "      <td>30</td>\n",
       "      <td>0</td>\n",
       "      <td>0.036050</td>\n",
       "      <td>3300.0</td>\n",
       "      <td>5</td>\n",
       "      <td>0</td>\n",
       "      <td>0</td>\n",
       "      <td>0</td>\n",
       "      <td>0.0</td>\n",
       "    </tr>\n",
       "    <tr>\n",
       "      <th>4</th>\n",
       "      <td>0</td>\n",
       "      <td>0.907239</td>\n",
       "      <td>49</td>\n",
       "      <td>1</td>\n",
       "      <td>0.024926</td>\n",
       "      <td>63588.0</td>\n",
       "      <td>7</td>\n",
       "      <td>0</td>\n",
       "      <td>1</td>\n",
       "      <td>0</td>\n",
       "      <td>0.0</td>\n",
       "    </tr>\n",
       "  </tbody>\n",
       "</table>\n",
       "</div>"
      ],
      "text/plain": [
       "   SeriousDlqin2yrs  RevolvingUtilizationOfUnsecuredLines  age  \\\n",
       "0                 1                              0.766127   45   \n",
       "1                 0                              0.957151   40   \n",
       "2                 0                              0.658180   38   \n",
       "3                 0                              0.233810   30   \n",
       "4                 0                              0.907239   49   \n",
       "\n",
       "   NumberOfTime30-59DaysPastDueNotWorse  DebtRatio  MonthlyIncome  \\\n",
       "0                                     2   0.802982         9120.0   \n",
       "1                                     0   0.121876         2600.0   \n",
       "2                                     1   0.085113         3042.0   \n",
       "3                                     0   0.036050         3300.0   \n",
       "4                                     1   0.024926        63588.0   \n",
       "\n",
       "   NumberOfOpenCreditLinesAndLoans  NumberOfTimes90DaysLate  \\\n",
       "0                               13                        0   \n",
       "1                                4                        0   \n",
       "2                                2                        1   \n",
       "3                                5                        0   \n",
       "4                                7                        0   \n",
       "\n",
       "   NumberRealEstateLoansOrLines  NumberOfTime60-89DaysPastDueNotWorse  \\\n",
       "0                             6                                     0   \n",
       "1                             0                                     0   \n",
       "2                             0                                     0   \n",
       "3                             0                                     0   \n",
       "4                             1                                     0   \n",
       "\n",
       "   NumberOfDependents  \n",
       "0                 2.0  \n",
       "1                 1.0  \n",
       "2                 0.0  \n",
       "3                 0.0  \n",
       "4                 0.0  "
      ]
     },
     "execution_count": 3,
     "metadata": {},
     "output_type": "execute_result"
    }
   ],
   "source": [
    "df_train.head(5)"
   ]
  },
  {
   "cell_type": "markdown",
   "id": "bb18e103-d1db-45e4-b6e1-0ed231571952",
   "metadata": {},
   "source": [
    "**Q4: Get number of rows and columns of  train set**"
   ]
  },
  {
   "cell_type": "code",
   "execution_count": 4,
   "id": "fadd7663-8ba0-48ed-a04a-41510c73cc0d",
   "metadata": {},
   "outputs": [
    {
     "data": {
      "text/plain": [
       "(150000, 11)"
      ]
     },
     "execution_count": 4,
     "metadata": {},
     "output_type": "execute_result"
    }
   ],
   "source": [
    "df_train.shape"
   ]
  },
  {
   "cell_type": "markdown",
   "id": "c29df1d8-3c32-433c-927d-5a9c8685c849",
   "metadata": {},
   "source": [
    "**Q5: Describe the distribution of train set**"
   ]
  },
  {
   "cell_type": "code",
   "execution_count": 5,
   "id": "734f1aee-1e1b-4f97-b75b-3dbd5e56acd3",
   "metadata": {},
   "outputs": [
    {
     "data": {
      "text/html": [
       "<div>\n",
       "<style scoped>\n",
       "    .dataframe tbody tr th:only-of-type {\n",
       "        vertical-align: middle;\n",
       "    }\n",
       "\n",
       "    .dataframe tbody tr th {\n",
       "        vertical-align: top;\n",
       "    }\n",
       "\n",
       "    .dataframe thead th {\n",
       "        text-align: right;\n",
       "    }\n",
       "</style>\n",
       "<table border=\"1\" class=\"dataframe\">\n",
       "  <thead>\n",
       "    <tr style=\"text-align: right;\">\n",
       "      <th></th>\n",
       "      <th>SeriousDlqin2yrs</th>\n",
       "      <th>RevolvingUtilizationOfUnsecuredLines</th>\n",
       "      <th>age</th>\n",
       "      <th>NumberOfTime30-59DaysPastDueNotWorse</th>\n",
       "      <th>DebtRatio</th>\n",
       "      <th>MonthlyIncome</th>\n",
       "      <th>NumberOfOpenCreditLinesAndLoans</th>\n",
       "      <th>NumberOfTimes90DaysLate</th>\n",
       "      <th>NumberRealEstateLoansOrLines</th>\n",
       "      <th>NumberOfTime60-89DaysPastDueNotWorse</th>\n",
       "      <th>NumberOfDependents</th>\n",
       "    </tr>\n",
       "  </thead>\n",
       "  <tbody>\n",
       "    <tr>\n",
       "      <th>count</th>\n",
       "      <td>150000.000000</td>\n",
       "      <td>150000.000000</td>\n",
       "      <td>150000.000000</td>\n",
       "      <td>150000.000000</td>\n",
       "      <td>150000.000000</td>\n",
       "      <td>1.202690e+05</td>\n",
       "      <td>150000.000000</td>\n",
       "      <td>150000.000000</td>\n",
       "      <td>150000.000000</td>\n",
       "      <td>150000.000000</td>\n",
       "      <td>146076.000000</td>\n",
       "    </tr>\n",
       "    <tr>\n",
       "      <th>mean</th>\n",
       "      <td>0.066840</td>\n",
       "      <td>6.048438</td>\n",
       "      <td>52.295207</td>\n",
       "      <td>0.421033</td>\n",
       "      <td>353.005076</td>\n",
       "      <td>6.670221e+03</td>\n",
       "      <td>8.452760</td>\n",
       "      <td>0.265973</td>\n",
       "      <td>1.018240</td>\n",
       "      <td>0.240387</td>\n",
       "      <td>0.757222</td>\n",
       "    </tr>\n",
       "    <tr>\n",
       "      <th>std</th>\n",
       "      <td>0.249746</td>\n",
       "      <td>249.755371</td>\n",
       "      <td>14.771866</td>\n",
       "      <td>4.192781</td>\n",
       "      <td>2037.818523</td>\n",
       "      <td>1.438467e+04</td>\n",
       "      <td>5.145951</td>\n",
       "      <td>4.169304</td>\n",
       "      <td>1.129771</td>\n",
       "      <td>4.155179</td>\n",
       "      <td>1.115086</td>\n",
       "    </tr>\n",
       "    <tr>\n",
       "      <th>min</th>\n",
       "      <td>0.000000</td>\n",
       "      <td>0.000000</td>\n",
       "      <td>0.000000</td>\n",
       "      <td>0.000000</td>\n",
       "      <td>0.000000</td>\n",
       "      <td>0.000000e+00</td>\n",
       "      <td>0.000000</td>\n",
       "      <td>0.000000</td>\n",
       "      <td>0.000000</td>\n",
       "      <td>0.000000</td>\n",
       "      <td>0.000000</td>\n",
       "    </tr>\n",
       "    <tr>\n",
       "      <th>25%</th>\n",
       "      <td>0.000000</td>\n",
       "      <td>0.029867</td>\n",
       "      <td>41.000000</td>\n",
       "      <td>0.000000</td>\n",
       "      <td>0.175074</td>\n",
       "      <td>3.400000e+03</td>\n",
       "      <td>5.000000</td>\n",
       "      <td>0.000000</td>\n",
       "      <td>0.000000</td>\n",
       "      <td>0.000000</td>\n",
       "      <td>0.000000</td>\n",
       "    </tr>\n",
       "    <tr>\n",
       "      <th>50%</th>\n",
       "      <td>0.000000</td>\n",
       "      <td>0.154181</td>\n",
       "      <td>52.000000</td>\n",
       "      <td>0.000000</td>\n",
       "      <td>0.366508</td>\n",
       "      <td>5.400000e+03</td>\n",
       "      <td>8.000000</td>\n",
       "      <td>0.000000</td>\n",
       "      <td>1.000000</td>\n",
       "      <td>0.000000</td>\n",
       "      <td>0.000000</td>\n",
       "    </tr>\n",
       "    <tr>\n",
       "      <th>75%</th>\n",
       "      <td>0.000000</td>\n",
       "      <td>0.559046</td>\n",
       "      <td>63.000000</td>\n",
       "      <td>0.000000</td>\n",
       "      <td>0.868254</td>\n",
       "      <td>8.249000e+03</td>\n",
       "      <td>11.000000</td>\n",
       "      <td>0.000000</td>\n",
       "      <td>2.000000</td>\n",
       "      <td>0.000000</td>\n",
       "      <td>1.000000</td>\n",
       "    </tr>\n",
       "    <tr>\n",
       "      <th>max</th>\n",
       "      <td>1.000000</td>\n",
       "      <td>50708.000000</td>\n",
       "      <td>109.000000</td>\n",
       "      <td>98.000000</td>\n",
       "      <td>329664.000000</td>\n",
       "      <td>3.008750e+06</td>\n",
       "      <td>58.000000</td>\n",
       "      <td>98.000000</td>\n",
       "      <td>54.000000</td>\n",
       "      <td>98.000000</td>\n",
       "      <td>20.000000</td>\n",
       "    </tr>\n",
       "  </tbody>\n",
       "</table>\n",
       "</div>"
      ],
      "text/plain": [
       "       SeriousDlqin2yrs  RevolvingUtilizationOfUnsecuredLines            age  \\\n",
       "count     150000.000000                         150000.000000  150000.000000   \n",
       "mean           0.066840                              6.048438      52.295207   \n",
       "std            0.249746                            249.755371      14.771866   \n",
       "min            0.000000                              0.000000       0.000000   \n",
       "25%            0.000000                              0.029867      41.000000   \n",
       "50%            0.000000                              0.154181      52.000000   \n",
       "75%            0.000000                              0.559046      63.000000   \n",
       "max            1.000000                          50708.000000     109.000000   \n",
       "\n",
       "       NumberOfTime30-59DaysPastDueNotWorse      DebtRatio  MonthlyIncome  \\\n",
       "count                         150000.000000  150000.000000   1.202690e+05   \n",
       "mean                               0.421033     353.005076   6.670221e+03   \n",
       "std                                4.192781    2037.818523   1.438467e+04   \n",
       "min                                0.000000       0.000000   0.000000e+00   \n",
       "25%                                0.000000       0.175074   3.400000e+03   \n",
       "50%                                0.000000       0.366508   5.400000e+03   \n",
       "75%                                0.000000       0.868254   8.249000e+03   \n",
       "max                               98.000000  329664.000000   3.008750e+06   \n",
       "\n",
       "       NumberOfOpenCreditLinesAndLoans  NumberOfTimes90DaysLate  \\\n",
       "count                    150000.000000            150000.000000   \n",
       "mean                          8.452760                 0.265973   \n",
       "std                           5.145951                 4.169304   \n",
       "min                           0.000000                 0.000000   \n",
       "25%                           5.000000                 0.000000   \n",
       "50%                           8.000000                 0.000000   \n",
       "75%                          11.000000                 0.000000   \n",
       "max                          58.000000                98.000000   \n",
       "\n",
       "       NumberRealEstateLoansOrLines  NumberOfTime60-89DaysPastDueNotWorse  \\\n",
       "count                 150000.000000                         150000.000000   \n",
       "mean                       1.018240                              0.240387   \n",
       "std                        1.129771                              4.155179   \n",
       "min                        0.000000                              0.000000   \n",
       "25%                        0.000000                              0.000000   \n",
       "50%                        1.000000                              0.000000   \n",
       "75%                        2.000000                              0.000000   \n",
       "max                       54.000000                             98.000000   \n",
       "\n",
       "       NumberOfDependents  \n",
       "count       146076.000000  \n",
       "mean             0.757222  \n",
       "std              1.115086  \n",
       "min              0.000000  \n",
       "25%              0.000000  \n",
       "50%              0.000000  \n",
       "75%              1.000000  \n",
       "max             20.000000  "
      ]
     },
     "execution_count": 5,
     "metadata": {},
     "output_type": "execute_result"
    }
   ],
   "source": [
    "df_train.describe()"
   ]
  },
  {
   "cell_type": "markdown",
   "id": "b4e3ab1d-9b97-4e6d-b453-e04de98e7689",
   "metadata": {},
   "source": [
    "**Q6: Get information of train set by df.info()**"
   ]
  },
  {
   "cell_type": "code",
   "execution_count": 6,
   "id": "60b1e4fd-7525-46cd-9b41-cf36deaea413",
   "metadata": {},
   "outputs": [
    {
     "name": "stdout",
     "output_type": "stream",
     "text": [
      "<class 'pandas.core.frame.DataFrame'>\n",
      "RangeIndex: 150000 entries, 0 to 149999\n",
      "Data columns (total 11 columns):\n",
      " #   Column                                Non-Null Count   Dtype  \n",
      "---  ------                                --------------   -----  \n",
      " 0   SeriousDlqin2yrs                      150000 non-null  int64  \n",
      " 1   RevolvingUtilizationOfUnsecuredLines  150000 non-null  float64\n",
      " 2   age                                   150000 non-null  int64  \n",
      " 3   NumberOfTime30-59DaysPastDueNotWorse  150000 non-null  int64  \n",
      " 4   DebtRatio                             150000 non-null  float64\n",
      " 5   MonthlyIncome                         120269 non-null  float64\n",
      " 6   NumberOfOpenCreditLinesAndLoans       150000 non-null  int64  \n",
      " 7   NumberOfTimes90DaysLate               150000 non-null  int64  \n",
      " 8   NumberRealEstateLoansOrLines          150000 non-null  int64  \n",
      " 9   NumberOfTime60-89DaysPastDueNotWorse  150000 non-null  int64  \n",
      " 10  NumberOfDependents                    146076 non-null  float64\n",
      "dtypes: float64(4), int64(7)\n",
      "memory usage: 12.6 MB\n"
     ]
    }
   ],
   "source": [
    "df_train.info()"
   ]
  },
  {
   "cell_type": "markdown",
   "id": "abb026fa-2219-4aaa-9cab-422b227c176a",
   "metadata": {},
   "source": [
    "**Q7: Get the missing percent per columns of train set**\n",
    "( Null do quá trình thu thập dữ liệu có vấn đề hoặc do bản thân dữ liệu )"
   ]
  },
  {
   "cell_type": "code",
   "execution_count": 7,
   "id": "309a6463-a4c6-4c4e-867c-610d88ee5d23",
   "metadata": {},
   "outputs": [
    {
     "data": {
      "text/plain": [
       "SeriousDlqin2yrs                         0.000000\n",
       "RevolvingUtilizationOfUnsecuredLines     0.000000\n",
       "age                                      0.000000\n",
       "NumberOfTime30-59DaysPastDueNotWorse     0.000000\n",
       "DebtRatio                                0.000000\n",
       "MonthlyIncome                           19.820667\n",
       "NumberOfOpenCreditLinesAndLoans          0.000000\n",
       "NumberOfTimes90DaysLate                  0.000000\n",
       "NumberRealEstateLoansOrLines             0.000000\n",
       "NumberOfTime60-89DaysPastDueNotWorse     0.000000\n",
       "NumberOfDependents                       2.616000\n",
       "dtype: float64"
      ]
     },
     "execution_count": 7,
     "metadata": {},
     "output_type": "execute_result"
    }
   ],
   "source": [
    "df_train.isna().sum()*100/len(df_train)"
   ]
  },
  {
   "cell_type": "markdown",
   "id": "0a9b3c72-a328-4890-9ef0-7cfeda88dd18",
   "metadata": {},
   "source": [
    "### 2.3 Visualization"
   ]
  },
  {
   "cell_type": "markdown",
   "id": "5504329f-36dd-4182-bd97-4eab3666df33",
   "metadata": {},
   "source": [
    "**Q8: Target disitribution on train set via bar chart**"
   ]
  },
  {
   "cell_type": "code",
   "execution_count": 8,
   "id": "9d631b11-8667-4a9d-b3de-bd1cb33fa2b8",
   "metadata": {},
   "outputs": [
    {
     "data": {
      "text/plain": [
       "0    139974\n",
       "1     10026\n",
       "Name: SeriousDlqin2yrs, dtype: int64"
      ]
     },
     "execution_count": 8,
     "metadata": {},
     "output_type": "execute_result"
    }
   ],
   "source": [
    "df_train.SeriousDlqin2yrs.value_counts()"
   ]
  },
  {
   "cell_type": "code",
   "execution_count": 9,
   "id": "8486f051-0b3d-4f40-98c9-d07e4700165a",
   "metadata": {},
   "outputs": [
    {
     "data": {
      "image/png": "[encoded data removed]",
      "text/plain": [
       "<Figure size 720x504 with 1 Axes>"
      ]
     },
     "metadata": {
      "needs_background": "light"
     },
     "output_type": "display_data"
    }
   ],
   "source": [
    "plt.figure(figsize=(10, 7))\n",
    "ax = sns.countplot(x = df_train['SeriousDlqin2yrs'], palette = 'Set1')\n",
    "for p, label in zip(ax.patches, df_train.SeriousDlqin2yrs.value_counts()): #annotate label for each bar\n",
    "    ax.annotate(label, (p.get_x()+0.32, p.get_height()+0.32))\n",
    "plt.show()"
   ]
  },
  {
   "cell_type": "code",
   "execution_count": 10,
   "id": "cea05925-1494-4bb5-8bf3-a2ec9605d825",
   "metadata": {},
   "outputs": [
    {
     "data": {
      "image/png": "[encoded data removed]",
      "text/plain": [
       "<Figure size 432x288 with 1 Axes>"
      ]
     },
     "metadata": {},
     "output_type": "display_data"
    }
   ],
   "source": [
    "plt.pie(df_train['SeriousDlqin2yrs'].value_counts(), labels = ['Good credit', 'Bad credit'], autopct = '%.2f%%', explode = [0, 0.1]) #dataset is severely imbalanced\n",
    "plt.show() # Precesion, Recall, F-1 score, AUC, Gini --> evaluation metrics"
   ]
  },
  {
   "cell_type": "markdown",
   "id": "aa5fed8c-c9a7-4d2b-acf8-6818bc683534",
   "metadata": {},
   "source": [
    "**Q9: Correlation of features and target**"
   ]
  },
  {
   "cell_type": "code",
   "execution_count": 11,
   "id": "38ea531a-86be-4a78-a1d9-4bc80d269dc0",
   "metadata": {},
   "outputs": [
    {
     "data": {
      "image/png": "[encoded data removed]",
      "text/plain": [
       "<Figure size 720x504 with 2 Axes>"
      ]
     },
     "metadata": {
      "needs_background": "light"
     },
     "output_type": "display_data"
    }
   ],
   "source": [
    "plt.figure(figsize = (10, 7))\n",
    "sns.heatmap(df_train.corr(), annot = True, linewidths = 0.1, linecolor = 'black')\n",
    "plt.show()"
   ]
  },
  {
   "cell_type": "markdown",
   "id": "50ffa369-38f5-4a4d-8c24-1aa838cf5040",
   "metadata": {},
   "source": [
    "**Q10: Describe features distribution and correlation given histogram and pairplot chart**"
   ]
  },
  {
   "cell_type": "code",
   "execution_count": 12,
   "id": "db8f9de8-0605-4b58-9d76-0464b81ee105",
   "metadata": {},
   "outputs": [
    {
     "data": {
      "image/png": "[encoded data removed]",
      "text/plain": [
       "<Figure size 864x720 with 12 Axes>"
      ]
     },
     "metadata": {
      "needs_background": "light"
     },
     "output_type": "display_data"
    }
   ],
   "source": [
    "df_train.hist(figsize=[12,10]) # 1, 2, 4, 5, 6, 8, 9, 10 = co outliers >> khong hien thi phan phoi chuan\n",
    "plt.show()"
   ]
  },
  {
   "cell_type": "markdown",
   "id": "70a9912a-b409-48af-9a68-d93924ad1582",
   "metadata": {},
   "source": [
    "**Q11: Explore each feature with target**"
   ]
  },
  {
   "cell_type": "code",
   "execution_count": 20,
   "id": "bb7d8c60-b1fa-4c23-8782-458dd93cd691",
   "metadata": {},
   "outputs": [
    {
     "data": {
      "image/png": "[encoded data removed]",
      "text/plain": [
       "<Figure size 432x288 with 1 Axes>"
      ]
     },
     "metadata": {
      "needs_background": "light"
     },
     "output_type": "display_data"
    }
   ],
   "source": []
  },
  {
   "cell_type": "markdown",
   "id": "6d114e8d-1894-4c8f-977c-8c88b1e91cd0",
   "metadata": {},
   "source": [
    "## 3. MODEL"
   ]
  },
  {
   "cell_type": "markdown",
   "id": "a11c209d-268a-4c0b-958d-3c6c2d0f1943",
   "metadata": {},
   "source": [
    "**Q12: Handle outliers in dataset**\n",
    "- Percentile\n",
    "- Decile\n",
    "- Quantile\n",
    "- **Quartile: tu phan vi**"
   ]
  },
  {
   "cell_type": "code",
   "execution_count": 16,
   "id": "1ac32263-87ce-4fbe-8c42-4fb020c0ae84",
   "metadata": {},
   "outputs": [],
   "source": [
    "from collections import Counter\n",
    "def detect_outliers(df, n, features):\n",
    "    \n",
    "    outlier_indices = []\n",
    "    \n",
    "    # iterate over features\n",
    "    for col in features:\n",
    "        # 1st quartile (25%) => Q1\n",
    "        Q1 = np.percentile(df[col], 25)\n",
    "        \n",
    "        # 3rd quartile (75%) => Q3\n",
    "        Q3 = np.percentile(df[col], 75)\n",
    "        \n",
    "        # Interquartile - IQR\n",
    "        IQR = Q3 - Q1\n",
    "        \n",
    "        # Outlier steps < Q1 - 1.5 IQR, > Q3 + 1.5 IQR => condition\n",
    "        outlier_step = 1.5*IQR\n",
    "        \n",
    "        \n",
    "        # Determine a list of indice of outlier\n",
    "        \n",
    "        outlier_list_col = df[(df[col]< Q1 - outlier_step) | (df[col] > Q3 + outlier_step)].index #conditions\n",
    "        \n",
    "        outlier_indices.extend(outlier_list_col)\n",
    "        \n",
    "        \n",
    "    # select records containing more n outliers\n",
    "    outlier_indices = Counter(outlier_indices)\n",
    "    \n",
    "    multiple_outliers = [k for k, v in outlier_indices.items() if v > n]\n",
    "    \n",
    "    return multiple_outliers"
   ]
  },
  {
   "cell_type": "code",
   "execution_count": 14,
   "id": "f984fa05-0ecb-46e8-9c50-8e28ca35ae02",
   "metadata": {},
   "outputs": [
    {
     "data": {
      "text/plain": [
       "Index(['SeriousDlqin2yrs', 'RevolvingUtilizationOfUnsecuredLines', 'age',\n",
       "       'NumberOfTime30-59DaysPastDueNotWorse', 'DebtRatio', 'MonthlyIncome',\n",
       "       'NumberOfOpenCreditLinesAndLoans', 'NumberOfTimes90DaysLate',\n",
       "       'NumberRealEstateLoansOrLines', 'NumberOfTime60-89DaysPastDueNotWorse',\n",
       "       'NumberOfDependents'],\n",
       "      dtype='object')"
      ]
     },
     "execution_count": 14,
     "metadata": {},
     "output_type": "execute_result"
    }
   ],
   "source": [
    "df_train.columns"
   ]
  },
  {
   "cell_type": "code",
   "execution_count": 20,
   "id": "d702e722-80a9-4570-8511-4af0120ac8d4",
   "metadata": {},
   "outputs": [
    {
     "data": {
      "text/plain": [
       "2.3513333333333333"
      ]
     },
     "execution_count": 20,
     "metadata": {},
     "output_type": "execute_result"
    }
   ],
   "source": [
    "outlier_to_drop = detect_outliers(df_train, 2, ['RevolvingUtilizationOfUnsecuredLines', 'age',\n",
    "       'NumberOfTime30-59DaysPastDueNotWorse', 'DebtRatio', 'MonthlyIncome',\n",
    "       'NumberOfOpenCreditLinesAndLoans', 'NumberOfTimes90DaysLate',\n",
    "       'NumberRealEstateLoansOrLines', 'NumberOfTime60-89DaysPastDueNotWorse',\n",
    "       'NumberOfDependents'])\n",
    "len(outlier_to_drop)*100/len(df_train)"
   ]
  },
  {
   "cell_type": "code",
   "execution_count": 29,
   "id": "d7bedb8b-afc6-4948-80c6-bac97ea51062",
   "metadata": {},
   "outputs": [
    {
     "data": {
      "text/plain": [
       "150000"
      ]
     },
     "execution_count": 29,
     "metadata": {},
     "output_type": "execute_result"
    }
   ],
   "source": [
    "len(df_train)"
   ]
  },
  {
   "cell_type": "code",
   "execution_count": 30,
   "id": "6bb093f0-72f0-4ef0-8884-0a6ffb5eb3aa",
   "metadata": {},
   "outputs": [],
   "source": [
    "df_train = df_train.drop(outlier_to_drop, axis = 0)"
   ]
  },
  {
   "cell_type": "code",
   "execution_count": 31,
   "id": "72634a7c-52cf-4ced-ad98-d5cab936e7da",
   "metadata": {},
   "outputs": [
    {
     "data": {
      "text/plain": [
       "146473"
      ]
     },
     "execution_count": 31,
     "metadata": {},
     "output_type": "execute_result"
    }
   ],
   "source": [
    "len(df_train)"
   ]
  },
  {
   "cell_type": "markdown",
   "id": "52bd288a-4efa-4ccf-a64b-c11f3e889ed0",
   "metadata": {},
   "source": [
    "**Q13: Merge train and test dataset**\n",
    "\n",
    "Feature Engineering: transformation in train dataset ~ transformation in test dataset"
   ]
  },
  {
   "cell_type": "code",
   "execution_count": 75,
   "id": "defa351f-eda2-44e3-8de6-afd604603833",
   "metadata": {},
   "outputs": [
    {
     "data": {
      "text/plain": [
       "(247976, 247976)"
      ]
     },
     "execution_count": 75,
     "metadata": {},
     "output_type": "execute_result"
    }
   ],
   "source": [
    "dataset = pd.concat([df_train, df_test])\n",
    "len(dataset), len(df_train) + len(df_test)"
   ]
  },
  {
   "cell_type": "code",
   "execution_count": 33,
   "id": "4fc978bd-fb92-40e6-bc67-43f6afd5d112",
   "metadata": {},
   "outputs": [
    {
     "data": {
      "text/html": [
       "<div>\n",
       "<style scoped>\n",
       "    .dataframe tbody tr th:only-of-type {\n",
       "        vertical-align: middle;\n",
       "    }\n",
       "\n",
       "    .dataframe tbody tr th {\n",
       "        vertical-align: top;\n",
       "    }\n",
       "\n",
       "    .dataframe thead th {\n",
       "        text-align: right;\n",
       "    }\n",
       "</style>\n",
       "<table border=\"1\" class=\"dataframe\">\n",
       "  <thead>\n",
       "    <tr style=\"text-align: right;\">\n",
       "      <th></th>\n",
       "      <th>SeriousDlqin2yrs</th>\n",
       "      <th>RevolvingUtilizationOfUnsecuredLines</th>\n",
       "      <th>age</th>\n",
       "      <th>NumberOfTime30-59DaysPastDueNotWorse</th>\n",
       "      <th>DebtRatio</th>\n",
       "      <th>MonthlyIncome</th>\n",
       "      <th>NumberOfOpenCreditLinesAndLoans</th>\n",
       "      <th>NumberOfTimes90DaysLate</th>\n",
       "      <th>NumberRealEstateLoansOrLines</th>\n",
       "      <th>NumberOfTime60-89DaysPastDueNotWorse</th>\n",
       "      <th>NumberOfDependents</th>\n",
       "    </tr>\n",
       "  </thead>\n",
       "  <tbody>\n",
       "    <tr>\n",
       "      <th>0</th>\n",
       "      <td>1.0</td>\n",
       "      <td>0.766127</td>\n",
       "      <td>45</td>\n",
       "      <td>2</td>\n",
       "      <td>0.802982</td>\n",
       "      <td>9120.0</td>\n",
       "      <td>13</td>\n",
       "      <td>0</td>\n",
       "      <td>6</td>\n",
       "      <td>0</td>\n",
       "      <td>2.0</td>\n",
       "    </tr>\n",
       "    <tr>\n",
       "      <th>1</th>\n",
       "      <td>0.0</td>\n",
       "      <td>0.957151</td>\n",
       "      <td>40</td>\n",
       "      <td>0</td>\n",
       "      <td>0.121876</td>\n",
       "      <td>2600.0</td>\n",
       "      <td>4</td>\n",
       "      <td>0</td>\n",
       "      <td>0</td>\n",
       "      <td>0</td>\n",
       "      <td>1.0</td>\n",
       "    </tr>\n",
       "    <tr>\n",
       "      <th>2</th>\n",
       "      <td>0.0</td>\n",
       "      <td>0.658180</td>\n",
       "      <td>38</td>\n",
       "      <td>1</td>\n",
       "      <td>0.085113</td>\n",
       "      <td>3042.0</td>\n",
       "      <td>2</td>\n",
       "      <td>1</td>\n",
       "      <td>0</td>\n",
       "      <td>0</td>\n",
       "      <td>0.0</td>\n",
       "    </tr>\n",
       "    <tr>\n",
       "      <th>3</th>\n",
       "      <td>0.0</td>\n",
       "      <td>0.233810</td>\n",
       "      <td>30</td>\n",
       "      <td>0</td>\n",
       "      <td>0.036050</td>\n",
       "      <td>3300.0</td>\n",
       "      <td>5</td>\n",
       "      <td>0</td>\n",
       "      <td>0</td>\n",
       "      <td>0</td>\n",
       "      <td>0.0</td>\n",
       "    </tr>\n",
       "    <tr>\n",
       "      <th>4</th>\n",
       "      <td>0.0</td>\n",
       "      <td>0.907239</td>\n",
       "      <td>49</td>\n",
       "      <td>1</td>\n",
       "      <td>0.024926</td>\n",
       "      <td>63588.0</td>\n",
       "      <td>7</td>\n",
       "      <td>0</td>\n",
       "      <td>1</td>\n",
       "      <td>0</td>\n",
       "      <td>0.0</td>\n",
       "    </tr>\n",
       "  </tbody>\n",
       "</table>\n",
       "</div>"
      ],
      "text/plain": [
       "   SeriousDlqin2yrs  RevolvingUtilizationOfUnsecuredLines  age  \\\n",
       "0               1.0                              0.766127   45   \n",
       "1               0.0                              0.957151   40   \n",
       "2               0.0                              0.658180   38   \n",
       "3               0.0                              0.233810   30   \n",
       "4               0.0                              0.907239   49   \n",
       "\n",
       "   NumberOfTime30-59DaysPastDueNotWorse  DebtRatio  MonthlyIncome  \\\n",
       "0                                     2   0.802982         9120.0   \n",
       "1                                     0   0.121876         2600.0   \n",
       "2                                     1   0.085113         3042.0   \n",
       "3                                     0   0.036050         3300.0   \n",
       "4                                     1   0.024926        63588.0   \n",
       "\n",
       "   NumberOfOpenCreditLinesAndLoans  NumberOfTimes90DaysLate  \\\n",
       "0                               13                        0   \n",
       "1                                4                        0   \n",
       "2                                2                        1   \n",
       "3                                5                        0   \n",
       "4                                7                        0   \n",
       "\n",
       "   NumberRealEstateLoansOrLines  NumberOfTime60-89DaysPastDueNotWorse  \\\n",
       "0                             6                                     0   \n",
       "1                             0                                     0   \n",
       "2                             0                                     0   \n",
       "3                             0                                     0   \n",
       "4                             1                                     0   \n",
       "\n",
       "   NumberOfDependents  \n",
       "0                 2.0  \n",
       "1                 1.0  \n",
       "2                 0.0  \n",
       "3                 0.0  \n",
       "4                 0.0  "
      ]
     },
     "execution_count": 33,
     "metadata": {},
     "output_type": "execute_result"
    }
   ],
   "source": [
    "dataset.head()"
   ]
  },
  {
   "cell_type": "code",
   "execution_count": 34,
   "id": "1bcea65b-e26e-48b9-b41c-90c67fa04aae",
   "metadata": {},
   "outputs": [
    {
     "data": {
      "text/plain": [
       "Index(['SeriousDlqin2yrs', 'RevolvingUtilizationOfUnsecuredLines', 'age',\n",
       "       'NumberOfTime30-59DaysPastDueNotWorse', 'DebtRatio', 'MonthlyIncome',\n",
       "       'NumberOfOpenCreditLinesAndLoans', 'NumberOfTimes90DaysLate',\n",
       "       'NumberRealEstateLoansOrLines', 'NumberOfTime60-89DaysPastDueNotWorse',\n",
       "       'NumberOfDependents'],\n",
       "      dtype='object')"
      ]
     },
     "execution_count": 34,
     "metadata": {},
     "output_type": "execute_result"
    }
   ],
   "source": [
    "dataset.columns"
   ]
  },
  {
   "cell_type": "markdown",
   "id": "45455922-912b-42d8-ac52-1963d1f4422c",
   "metadata": {},
   "source": [
    "**Q14: Rename columns name into shorter alias**"
   ]
  },
  {
   "cell_type": "code",
   "execution_count": 76,
   "id": "444e2c7a-4055-4195-921a-a8b21b7376e0",
   "metadata": {},
   "outputs": [
    {
     "data": {
      "text/html": [
       "<div>\n",
       "<style scoped>\n",
       "    .dataframe tbody tr th:only-of-type {\n",
       "        vertical-align: middle;\n",
       "    }\n",
       "\n",
       "    .dataframe tbody tr th {\n",
       "        vertical-align: top;\n",
       "    }\n",
       "\n",
       "    .dataframe thead th {\n",
       "        text-align: right;\n",
       "    }\n",
       "</style>\n",
       "<table border=\"1\" class=\"dataframe\">\n",
       "  <thead>\n",
       "    <tr style=\"text-align: right;\">\n",
       "      <th></th>\n",
       "      <th>Target</th>\n",
       "      <th>UnsecuredLines</th>\n",
       "      <th>age</th>\n",
       "      <th>Late3059</th>\n",
       "      <th>DebtRatio</th>\n",
       "      <th>MonthlyIncome</th>\n",
       "      <th>OpenCredit</th>\n",
       "      <th>Late90</th>\n",
       "      <th>PropLines</th>\n",
       "      <th>Late6089</th>\n",
       "      <th>Deps</th>\n",
       "    </tr>\n",
       "  </thead>\n",
       "  <tbody>\n",
       "    <tr>\n",
       "      <th>0</th>\n",
       "      <td>1.0</td>\n",
       "      <td>0.766127</td>\n",
       "      <td>45</td>\n",
       "      <td>2</td>\n",
       "      <td>0.802982</td>\n",
       "      <td>9120.0</td>\n",
       "      <td>13</td>\n",
       "      <td>0</td>\n",
       "      <td>6</td>\n",
       "      <td>0</td>\n",
       "      <td>2.0</td>\n",
       "    </tr>\n",
       "    <tr>\n",
       "      <th>1</th>\n",
       "      <td>0.0</td>\n",
       "      <td>0.957151</td>\n",
       "      <td>40</td>\n",
       "      <td>0</td>\n",
       "      <td>0.121876</td>\n",
       "      <td>2600.0</td>\n",
       "      <td>4</td>\n",
       "      <td>0</td>\n",
       "      <td>0</td>\n",
       "      <td>0</td>\n",
       "      <td>1.0</td>\n",
       "    </tr>\n",
       "    <tr>\n",
       "      <th>2</th>\n",
       "      <td>0.0</td>\n",
       "      <td>0.658180</td>\n",
       "      <td>38</td>\n",
       "      <td>1</td>\n",
       "      <td>0.085113</td>\n",
       "      <td>3042.0</td>\n",
       "      <td>2</td>\n",
       "      <td>1</td>\n",
       "      <td>0</td>\n",
       "      <td>0</td>\n",
       "      <td>0.0</td>\n",
       "    </tr>\n",
       "    <tr>\n",
       "      <th>3</th>\n",
       "      <td>0.0</td>\n",
       "      <td>0.233810</td>\n",
       "      <td>30</td>\n",
       "      <td>0</td>\n",
       "      <td>0.036050</td>\n",
       "      <td>3300.0</td>\n",
       "      <td>5</td>\n",
       "      <td>0</td>\n",
       "      <td>0</td>\n",
       "      <td>0</td>\n",
       "      <td>0.0</td>\n",
       "    </tr>\n",
       "    <tr>\n",
       "      <th>4</th>\n",
       "      <td>0.0</td>\n",
       "      <td>0.907239</td>\n",
       "      <td>49</td>\n",
       "      <td>1</td>\n",
       "      <td>0.024926</td>\n",
       "      <td>63588.0</td>\n",
       "      <td>7</td>\n",
       "      <td>0</td>\n",
       "      <td>1</td>\n",
       "      <td>0</td>\n",
       "      <td>0.0</td>\n",
       "    </tr>\n",
       "  </tbody>\n",
       "</table>\n",
       "</div>"
      ],
      "text/plain": [
       "   Target  UnsecuredLines  age  Late3059  DebtRatio  MonthlyIncome  \\\n",
       "0     1.0        0.766127   45         2   0.802982         9120.0   \n",
       "1     0.0        0.957151   40         0   0.121876         2600.0   \n",
       "2     0.0        0.658180   38         1   0.085113         3042.0   \n",
       "3     0.0        0.233810   30         0   0.036050         3300.0   \n",
       "4     0.0        0.907239   49         1   0.024926        63588.0   \n",
       "\n",
       "   OpenCredit  Late90  PropLines  Late6089  Deps  \n",
       "0          13       0          6         0   2.0  \n",
       "1           4       0          0         0   1.0  \n",
       "2           2       1          0         0   0.0  \n",
       "3           5       0          0         0   0.0  \n",
       "4           7       0          1         0   0.0  "
      ]
     },
     "execution_count": 76,
     "metadata": {},
     "output_type": "execute_result"
    }
   ],
   "source": [
    "dataset = dataset.rename(columns = {'SeriousDlqin2yrs':'Target',\n",
    "                         'RevolvingUtilizationOfUnsecuredLines':'UnsecuredLines',\n",
    "                         'NumberOfTime30-59DaysPastDueNotWorse':'Late3059',\n",
    "                         'NumberOfOpenCreditLinesAndLoans':'OpenCredit',\n",
    "                         'NumberOfTimes90DaysLate':'Late90',\n",
    "                         'NumberRealEstateLoansOrLines':'PropLines',\n",
    "                         'NumberOfTime60-89DaysPastDueNotWorse':'Late6089',\n",
    "                         'NumberOfDependents':'Deps'})\n",
    "dataset.head()"
   ]
  },
  {
   "cell_type": "markdown",
   "id": "223a40b5-a7ef-4564-9a09-cef06f3a0280",
   "metadata": {},
   "source": [
    "**Q15: Building binary/dummy variables**"
   ]
  },
  {
   "cell_type": "code",
   "execution_count": 77,
   "id": "86546c0a-6f41-4925-a918-548077cdd276",
   "metadata": {},
   "outputs": [
    {
     "data": {
      "text/plain": [
       "Index(['Target', 'UnsecuredLines', 'age', 'Late3059', 'DebtRatio',\n",
       "       'MonthlyIncome', 'OpenCredit', 'Late90', 'PropLines', 'Late6089',\n",
       "       'Deps'],\n",
       "      dtype='object')"
      ]
     },
     "execution_count": 77,
     "metadata": {},
     "output_type": "execute_result"
    }
   ],
   "source": [
    "dataset.columns"
   ]
  },
  {
   "cell_type": "code",
   "execution_count": 78,
   "id": "ffb59492-cb85-4e3f-a85d-aecc4f510bcb",
   "metadata": {},
   "outputs": [],
   "source": [
    "dataset.UnsecuredLines = pd.qcut(dataset.UnsecuredLines.values, 5).codes"
   ]
  },
  {
   "cell_type": "code",
   "execution_count": 79,
   "id": "7b401b56-c307-47a8-a68a-91034f449d6c",
   "metadata": {},
   "outputs": [
    {
     "data": {
      "image/png": "[encoded data removed]",
      "text/plain": [
       "<Figure size 360x360 with 1 Axes>"
      ]
     },
     "metadata": {
      "needs_background": "light"
     },
     "output_type": "display_data"
    }
   ],
   "source": [
    "g = sns.catplot(x = 'UnsecuredLines', y = 'Target', data = dataset, kind = 'bar')\n",
    "plt.show()"
   ]
  },
  {
   "cell_type": "code",
   "execution_count": 80,
   "id": "d5a2de5b-122a-4c7a-b932-040bbca029fe",
   "metadata": {},
   "outputs": [],
   "source": [
    "dataset.age = pd.qcut(dataset.age.values, 5).codes"
   ]
  },
  {
   "cell_type": "code",
   "execution_count": 81,
   "id": "6f5d1ebe-3957-4c7c-b6cc-843b6cbed6e2",
   "metadata": {},
   "outputs": [
    {
     "data": {
      "image/png": "[encoded data removed]",
      "text/plain": [
       "<Figure size 360x360 with 1 Axes>"
      ]
     },
     "metadata": {
      "needs_background": "light"
     },
     "output_type": "display_data"
    }
   ],
   "source": [
    "g = sns.catplot(x = 'age', y = 'Target', data = dataset, kind = 'bar')\n",
    "plt.show()"
   ]
  },
  {
   "cell_type": "code",
   "execution_count": 82,
   "id": "94895c23-ab61-48e8-9fa1-7966ad1567ff",
   "metadata": {
    "tags": []
   },
   "outputs": [
    {
     "data": {
      "image/png": "[encoded data removed]",
      "text/plain": [
       "<Figure size 360x360 with 1 Axes>"
      ]
     },
     "metadata": {
      "needs_background": "light"
     },
     "output_type": "display_data"
    }
   ],
   "source": [
    "g = sns.catplot(x = 'Late3059', y = 'Target', data = dataset, kind = 'bar')\n",
    "plt.show()"
   ]
  },
  {
   "cell_type": "code",
   "execution_count": 83,
   "id": "c40107ae-e5af-40a7-9656-46e0712c567f",
   "metadata": {},
   "outputs": [
    {
     "data": {
      "image/png": "[encoded data removed]",
      "text/plain": [
       "<Figure size 360x360 with 1 Axes>"
      ]
     },
     "metadata": {
      "needs_background": "light"
     },
     "output_type": "display_data"
    }
   ],
   "source": [
    "dataset.Late3059 = [x if x <6 else 6 for x in dataset.Late3059]\n",
    "g = sns.catplot(x = 'Late3059', y = 'Target', data = dataset, kind = 'bar')\n",
    "plt.show()"
   ]
  },
  {
   "cell_type": "code",
   "execution_count": 84,
   "id": "df367db5-2565-4c04-8433-6a9b49bafade",
   "metadata": {},
   "outputs": [],
   "source": [
    "dataset.DebtRatio = pd.cut(dataset.DebtRatio.values, 5).codes\n",
    "dataset.MonthlyIncome = dataset.MonthlyIncome.fillna(dataset.MonthlyIncome.median()) #scalar, mean, median, mode\n",
    "dataset.MonthlyIncome = pd.cut(dataset.MonthlyIncome.values, 5).codes\n",
    "dataset.OpenCredit = pd.cut(dataset.OpenCredit.values, 5).codes\n",
    "dataset.Late90 = [x if x < 5 else 5 for x in dataset.Late90]\n",
    "dataset.PropLines = [x if x < 6 else 6 for x in dataset.PropLines]\n",
    "dataset.Late6089 = [x if x < 6 else 6 for x in dataset.Late6089]\n",
    "dataset.Deps = dataset.Deps.fillna(dataset.Deps.median())\n",
    "dataset.Deps = [x if x < 4 else 4 for x in dataset.Deps]"
   ]
  },
  {
   "cell_type": "code",
   "execution_count": 85,
   "id": "c01446f1-18cb-4386-ba65-b5b1e369b7f6",
   "metadata": {},
   "outputs": [],
   "source": [
    "dataset = pd.get_dummies(dataset, columns = ['UnsecuredLines'], prefix = 'UnsecuredLines')\n",
    "dataset = pd.get_dummies(dataset, columns = ['age'], prefix = 'age')\n",
    "dataset = pd.get_dummies(dataset, columns = ['Late3059'], prefix = 'Late3059')\n",
    "dataset = pd.get_dummies(dataset, columns = ['DebtRatio'], prefix = 'DebtRatio')\n",
    "dataset = pd.get_dummies(dataset, columns = ['MonthlyIncome'], prefix = 'MonthlyIncome')\n",
    "dataset = pd.get_dummies(dataset, columns = ['OpenCredit'], prefix = 'OpenCredit')\n",
    "dataset = pd.get_dummies(dataset, columns = ['Late90'], prefix = 'Late90')\n",
    "dataset = pd.get_dummies(dataset, columns = ['PropLines'], prefix = 'PropLines')\n",
    "dataset = pd.get_dummies(dataset, columns = ['Late6089'], prefix = 'Late6089')\n",
    "dataset = pd.get_dummies(dataset, columns = ['Deps'], prefix = 'Deps')"
   ]
  },
  {
   "cell_type": "code",
   "execution_count": 86,
   "id": "89216d30-b043-4a26-9e77-0e1d5ecc5d4c",
   "metadata": {},
   "outputs": [
    {
     "data": {
      "text/html": [
       "<div>\n",
       "<style scoped>\n",
       "    .dataframe tbody tr th:only-of-type {\n",
       "        vertical-align: middle;\n",
       "    }\n",
       "\n",
       "    .dataframe tbody tr th {\n",
       "        vertical-align: top;\n",
       "    }\n",
       "\n",
       "    .dataframe thead th {\n",
       "        text-align: right;\n",
       "    }\n",
       "</style>\n",
       "<table border=\"1\" class=\"dataframe\">\n",
       "  <thead>\n",
       "    <tr style=\"text-align: right;\">\n",
       "      <th></th>\n",
       "      <th>Target</th>\n",
       "      <th>UnsecuredLines_0</th>\n",
       "      <th>UnsecuredLines_1</th>\n",
       "      <th>UnsecuredLines_2</th>\n",
       "      <th>UnsecuredLines_3</th>\n",
       "      <th>UnsecuredLines_4</th>\n",
       "      <th>age_0</th>\n",
       "      <th>age_1</th>\n",
       "      <th>age_2</th>\n",
       "      <th>age_3</th>\n",
       "      <th>...</th>\n",
       "      <th>Late6089_2</th>\n",
       "      <th>Late6089_3</th>\n",
       "      <th>Late6089_4</th>\n",
       "      <th>Late6089_5</th>\n",
       "      <th>Late6089_6</th>\n",
       "      <th>Deps_0.0</th>\n",
       "      <th>Deps_1.0</th>\n",
       "      <th>Deps_2.0</th>\n",
       "      <th>Deps_3.0</th>\n",
       "      <th>Deps_4.0</th>\n",
       "    </tr>\n",
       "  </thead>\n",
       "  <tbody>\n",
       "    <tr>\n",
       "      <th>0</th>\n",
       "      <td>1.0</td>\n",
       "      <td>0</td>\n",
       "      <td>0</td>\n",
       "      <td>0</td>\n",
       "      <td>0</td>\n",
       "      <td>1</td>\n",
       "      <td>0</td>\n",
       "      <td>1</td>\n",
       "      <td>0</td>\n",
       "      <td>0</td>\n",
       "      <td>...</td>\n",
       "      <td>0</td>\n",
       "      <td>0</td>\n",
       "      <td>0</td>\n",
       "      <td>0</td>\n",
       "      <td>0</td>\n",
       "      <td>0</td>\n",
       "      <td>0</td>\n",
       "      <td>1</td>\n",
       "      <td>0</td>\n",
       "      <td>0</td>\n",
       "    </tr>\n",
       "    <tr>\n",
       "      <th>1</th>\n",
       "      <td>0.0</td>\n",
       "      <td>0</td>\n",
       "      <td>0</td>\n",
       "      <td>0</td>\n",
       "      <td>0</td>\n",
       "      <td>1</td>\n",
       "      <td>0</td>\n",
       "      <td>1</td>\n",
       "      <td>0</td>\n",
       "      <td>0</td>\n",
       "      <td>...</td>\n",
       "      <td>0</td>\n",
       "      <td>0</td>\n",
       "      <td>0</td>\n",
       "      <td>0</td>\n",
       "      <td>0</td>\n",
       "      <td>0</td>\n",
       "      <td>1</td>\n",
       "      <td>0</td>\n",
       "      <td>0</td>\n",
       "      <td>0</td>\n",
       "    </tr>\n",
       "    <tr>\n",
       "      <th>2</th>\n",
       "      <td>0.0</td>\n",
       "      <td>0</td>\n",
       "      <td>0</td>\n",
       "      <td>0</td>\n",
       "      <td>1</td>\n",
       "      <td>0</td>\n",
       "      <td>1</td>\n",
       "      <td>0</td>\n",
       "      <td>0</td>\n",
       "      <td>0</td>\n",
       "      <td>...</td>\n",
       "      <td>0</td>\n",
       "      <td>0</td>\n",
       "      <td>0</td>\n",
       "      <td>0</td>\n",
       "      <td>0</td>\n",
       "      <td>1</td>\n",
       "      <td>0</td>\n",
       "      <td>0</td>\n",
       "      <td>0</td>\n",
       "      <td>0</td>\n",
       "    </tr>\n",
       "    <tr>\n",
       "      <th>3</th>\n",
       "      <td>0.0</td>\n",
       "      <td>0</td>\n",
       "      <td>0</td>\n",
       "      <td>1</td>\n",
       "      <td>0</td>\n",
       "      <td>0</td>\n",
       "      <td>1</td>\n",
       "      <td>0</td>\n",
       "      <td>0</td>\n",
       "      <td>0</td>\n",
       "      <td>...</td>\n",
       "      <td>0</td>\n",
       "      <td>0</td>\n",
       "      <td>0</td>\n",
       "      <td>0</td>\n",
       "      <td>0</td>\n",
       "      <td>1</td>\n",
       "      <td>0</td>\n",
       "      <td>0</td>\n",
       "      <td>0</td>\n",
       "      <td>0</td>\n",
       "    </tr>\n",
       "    <tr>\n",
       "      <th>4</th>\n",
       "      <td>0.0</td>\n",
       "      <td>0</td>\n",
       "      <td>0</td>\n",
       "      <td>0</td>\n",
       "      <td>0</td>\n",
       "      <td>1</td>\n",
       "      <td>0</td>\n",
       "      <td>0</td>\n",
       "      <td>1</td>\n",
       "      <td>0</td>\n",
       "      <td>...</td>\n",
       "      <td>0</td>\n",
       "      <td>0</td>\n",
       "      <td>0</td>\n",
       "      <td>0</td>\n",
       "      <td>0</td>\n",
       "      <td>1</td>\n",
       "      <td>0</td>\n",
       "      <td>0</td>\n",
       "      <td>0</td>\n",
       "      <td>0</td>\n",
       "    </tr>\n",
       "  </tbody>\n",
       "</table>\n",
       "<p>5 rows × 57 columns</p>\n",
       "</div>"
      ],
      "text/plain": [
       "   Target  UnsecuredLines_0  UnsecuredLines_1  UnsecuredLines_2  \\\n",
       "0     1.0                 0                 0                 0   \n",
       "1     0.0                 0                 0                 0   \n",
       "2     0.0                 0                 0                 0   \n",
       "3     0.0                 0                 0                 1   \n",
       "4     0.0                 0                 0                 0   \n",
       "\n",
       "   UnsecuredLines_3  UnsecuredLines_4  age_0  age_1  age_2  age_3  ...  \\\n",
       "0                 0                 1      0      1      0      0  ...   \n",
       "1                 0                 1      0      1      0      0  ...   \n",
       "2                 1                 0      1      0      0      0  ...   \n",
       "3                 0                 0      1      0      0      0  ...   \n",
       "4                 0                 1      0      0      1      0  ...   \n",
       "\n",
       "   Late6089_2  Late6089_3  Late6089_4  Late6089_5  Late6089_6  Deps_0.0  \\\n",
       "0           0           0           0           0           0         0   \n",
       "1           0           0           0           0           0         0   \n",
       "2           0           0           0           0           0         1   \n",
       "3           0           0           0           0           0         1   \n",
       "4           0           0           0           0           0         1   \n",
       "\n",
       "   Deps_1.0  Deps_2.0  Deps_3.0  Deps_4.0  \n",
       "0         0         1         0         0  \n",
       "1         1         0         0         0  \n",
       "2         0         0         0         0  \n",
       "3         0         0         0         0  \n",
       "4         0         0         0         0  \n",
       "\n",
       "[5 rows x 57 columns]"
      ]
     },
     "execution_count": 86,
     "metadata": {},
     "output_type": "execute_result"
    }
   ],
   "source": [
    "dataset.head()"
   ]
  },
  {
   "cell_type": "markdown",
   "id": "b487fd3c-21e3-43c2-8417-4781debe999b",
   "metadata": {},
   "source": [
    "**Q16: Train test split**"
   ]
  },
  {
   "cell_type": "code",
   "execution_count": 89,
   "id": "e67efaed-3f27-448d-9e82-43509e236f6e",
   "metadata": {},
   "outputs": [],
   "source": [
    "train = dataset[:len(df_train)]\n",
    "test = dataset[len(df_train):]\n",
    "test = test.drop(labels = ['Target'], axis = 1)"
   ]
  },
  {
   "cell_type": "code",
   "execution_count": 91,
   "id": "1cc9467e-c2d2-4209-bbe4-0bf806c68b70",
   "metadata": {},
   "outputs": [
    {
     "data": {
      "text/plain": [
       "(146473, 101503)"
      ]
     },
     "execution_count": 91,
     "metadata": {},
     "output_type": "execute_result"
    }
   ],
   "source": [
    "len(train), len(test)"
   ]
  },
  {
   "cell_type": "code",
   "execution_count": 99,
   "id": "00b91ce1-897e-44d7-8912-bbce9cc6762c",
   "metadata": {},
   "outputs": [],
   "source": [
    "X_train = train.drop(labels = ['Target'], axis = 1)\n",
    "y_train = train['Target'].astype(int)"
   ]
  },
  {
   "cell_type": "code",
   "execution_count": 94,
   "id": "76a0ef67-070e-4cf1-878c-b76c094c46f3",
   "metadata": {},
   "outputs": [
    {
     "data": {
      "text/plain": [
       "((146473, 56), (146473,))"
      ]
     },
     "execution_count": 94,
     "metadata": {},
     "output_type": "execute_result"
    }
   ],
   "source": [
    "X_train.shape, y_train.shape"
   ]
  },
  {
   "cell_type": "markdown",
   "id": "db92cc0c-f060-43ae-b42c-143079df0179",
   "metadata": {},
   "source": [
    "**Q17: Train prediction model using Random Forest Classifier**"
   ]
  },
  {
   "cell_type": "code",
   "execution_count": 100,
   "id": "b4cc996d-cb70-4c7e-8a3a-d41e45d3528a",
   "metadata": {},
   "outputs": [],
   "source": [
    "from sklearn.ensemble import RandomForestClassifier\n",
    "clf = RandomForestClassifier()\n",
    "clf = clf.fit(X_train, y_train)"
   ]
  },
  {
   "cell_type": "markdown",
   "id": "48b77ee7-a7d0-46a1-abca-fa8430ac70f6",
   "metadata": {},
   "source": [
    "**Q18: Get feature importance from classifier**"
   ]
  },
  {
   "cell_type": "code",
   "execution_count": 58,
   "id": "7f048825-ea62-4c72-9fbf-18dd3e8d9a0b",
   "metadata": {},
   "outputs": [],
   "source": [
    "features = pd.DataFrame()\n",
    "features['feature'] = X_train.columns\n",
    "features['importance'] = clf.feature_importances_"
   ]
  },
  {
   "cell_type": "code",
   "execution_count": 101,
   "id": "f6a2bd1b-6dd1-4be9-94ed-111d2f50b614",
   "metadata": {},
   "outputs": [
    {
     "data": {
      "text/html": [
       "<div>\n",
       "<style scoped>\n",
       "    .dataframe tbody tr th:only-of-type {\n",
       "        vertical-align: middle;\n",
       "    }\n",
       "\n",
       "    .dataframe tbody tr th {\n",
       "        vertical-align: top;\n",
       "    }\n",
       "\n",
       "    .dataframe thead th {\n",
       "        text-align: right;\n",
       "    }\n",
       "</style>\n",
       "<table border=\"1\" class=\"dataframe\">\n",
       "  <thead>\n",
       "    <tr style=\"text-align: right;\">\n",
       "      <th></th>\n",
       "      <th>feature</th>\n",
       "      <th>importance</th>\n",
       "    </tr>\n",
       "  </thead>\n",
       "  <tbody>\n",
       "    <tr>\n",
       "      <th>25</th>\n",
       "      <td>MonthlyIncome_4</td>\n",
       "      <td>0.000000e+00</td>\n",
       "    </tr>\n",
       "    <tr>\n",
       "      <th>24</th>\n",
       "      <td>MonthlyIncome_2</td>\n",
       "      <td>0.000000e+00</td>\n",
       "    </tr>\n",
       "    <tr>\n",
       "      <th>30</th>\n",
       "      <td>OpenCredit_4</td>\n",
       "      <td>0.000000e+00</td>\n",
       "    </tr>\n",
       "    <tr>\n",
       "      <th>19</th>\n",
       "      <td>DebtRatio_2</td>\n",
       "      <td>3.644749e-08</td>\n",
       "    </tr>\n",
       "    <tr>\n",
       "      <th>20</th>\n",
       "      <td>DebtRatio_3</td>\n",
       "      <td>2.859240e-07</td>\n",
       "    </tr>\n",
       "  </tbody>\n",
       "</table>\n",
       "</div>"
      ],
      "text/plain": [
       "            feature    importance\n",
       "25  MonthlyIncome_4  0.000000e+00\n",
       "24  MonthlyIncome_2  0.000000e+00\n",
       "30     OpenCredit_4  0.000000e+00\n",
       "19      DebtRatio_2  3.644749e-08\n",
       "20      DebtRatio_3  2.859240e-07"
      ]
     },
     "execution_count": 101,
     "metadata": {},
     "output_type": "execute_result"
    }
   ],
   "source": [
    "features = features.sort_values(by = ['importance'], ascending = True)\n",
    "features.head()"
   ]
  },
  {
   "cell_type": "code",
   "execution_count": 109,
   "id": "49554596-aa5f-4d2d-9ce3-9770dd82a34a",
   "metadata": {},
   "outputs": [
    {
     "data": {
      "image/png": "[encoded data removed]",
      "text/plain": [
       "<Figure size 1296x720 with 1 Axes>"
      ]
     },
     "metadata": {
      "needs_background": "light"
     },
     "output_type": "display_data"
    }
   ],
   "source": [
    "features.plot(kind = 'barh', figsize = (18, 10))\n",
    "plt.show()"
   ]
  },
  {
   "cell_type": "code",
   "execution_count": 54,
   "id": "1b627659-2070-4587-947e-96433c1058a4",
   "metadata": {},
   "outputs": [
    {
     "data": {
      "image/png": "[encoded data removed]",
      "text/plain": [
       "<Figure size 1440x1440 with 1 Axes>"
      ]
     },
     "metadata": {
      "needs_background": "light"
     },
     "output_type": "display_data"
    }
   ],
   "source": []
  },
  {
   "cell_type": "markdown",
   "id": "668c3e37-5855-41cc-bce8-d12a66a90da9",
   "metadata": {},
   "source": [
    "**Q19: Retrain with better parameters**"
   ]
  },
  {
   "cell_type": "code",
   "execution_count": 63,
   "id": "8ce087e7-6761-4e72-966d-3e1cd7d1ba34",
   "metadata": {},
   "outputs": [
    {
     "data": {
      "text/plain": [
       "RandomForestClassifier(n_estimators=1000, random_state=20)"
      ]
     },
     "execution_count": 63,
     "metadata": {},
     "output_type": "execute_result"
    }
   ],
   "source": [
    "clf = RandomForestClassifier(n_estimators=1000, random_state=20)\n",
    "clf = clf.fit(X_train, y_train)\n",
    "clf"
   ]
  },
  {
   "cell_type": "code",
   "execution_count": 55,
   "id": "7e90112d-d0c2-4c9d-b89a-3edecf48ceba",
   "metadata": {},
   "outputs": [
    {
     "data": {
      "text/plain": [
       "RandomForestClassifier(n_estimators=1000, random_state=20)"
      ]
     },
     "execution_count": 55,
     "metadata": {},
     "output_type": "execute_result"
    }
   ],
   "source": []
  },
  {
   "cell_type": "markdown",
   "id": "38058ff2-c3a7-4f5d-83ce-53b4dc4e8a63",
   "metadata": {},
   "source": [
    "**Q20: Predict and evaluate the model performance**"
   ]
  },
  {
   "cell_type": "code",
   "execution_count": null,
   "id": "f590af83-3b7f-47c3-a501-24243409c6f2",
   "metadata": {},
   "outputs": [],
   "source": []
  }
 ],
 "metadata": {
  "kernelspec": {
   "display_name": "Python 3 (ipykernel)",
   "language": "python",
   "name": "python3"
  },
  "language_info": {
   "codemirror_mode": {
    "name": "ipython",
    "version": 3
   },
   "file_extension": ".py",
   "mimetype": "text/x-python",
   "name": "python",
   "nbconvert_exporter": "python",
   "pygments_lexer": "ipython3",
   "version": "3.8.11"
  }
 },
 "nbformat": 4,
 "nbformat_minor": 5
}
