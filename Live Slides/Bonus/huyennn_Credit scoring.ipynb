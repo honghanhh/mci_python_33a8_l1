{
 "cells": [
  {
   "cell_type": "markdown",
   "source": [
    "# CASE STUDY with CREDIT SCORING"
   ],
   "metadata": {}
  },
  {
   "cell_type": "markdown",
   "source": [
    "## 1. PROBLEM\n",
    "\n",
    "Banks play a crucial role in market economies. They decide who can get finance and on what terms and can make or break investment decisions. For markets and society to function, individuals and companies need access to credit. \n",
    "\n",
    "Credit scoring algorithms, which make a guess at the probability of default, are the method banks use to determine whether or not a loan should be granted. This competition requires participants to improve on the state of the art in credit scoring, by predicting the probability that somebody will experience financial distress in the next two years.\n",
    "\n",
    "- **Input**: Historical data of 250,000 borrowers.\n",
    "- **Output**: SeriousDlqin2yrs.\n",
    "- **Goal**: Build a model that borrowers can use to help make the best financial decisions.\n",
    "\n",
    "Reference: [Kaggle Dataset](https://www.kaggle.com/c/GiveMeSomeCredit)"
   ],
   "metadata": {}
  },
  {
   "cell_type": "markdown",
   "source": [
    "## 2. Exploratory Data Analysis (EDA)"
   ],
   "metadata": {}
  },
  {
   "cell_type": "markdown",
   "source": [
    "### 2.1 Variables descriptions"
   ],
   "metadata": {}
  },
  {
   "cell_type": "markdown",
   "source": [
    "|Variables|Descriptions|\n",
    "|-|-|\n",
    "|**SeriousDlqin2yrs**| Person experienced 90 days past due delinquency or worse|\n",
    "|**RevolvingUtilizationOfUnsecuredLines**| Total balance on credit cards and personal lines of credit except real estate and no installment debt like car loans divided by the sum of credit limits (Tổng số dư trên thẻ tín dụng và hạn mức tín dụng cá nhân ngoại trừ bất động sản và không có nợ trả góp như khoản vay mua ô tô chia cho tổng hạn mức tín dụng)|\n",
    "|**age**| Age of borrower in years|\n",
    "|**NumberOfTime30-59DaysPastDueNotWorse**| Number of times borrower has been 30-59 days past due but no worse in the last 2 years|\n",
    "|**DebtRatio**| Monthly debt payments, alimony,living costs divided by monthy gross income (Thanh toán nợ hàng tháng, cấp dưỡng, chi phí sinh hoạt chia cho tổng thu nhập hàng tháng)|\n",
    "|**MonthlyIncome**| Monthly income|\n",
    "|**NumberOfOpenCreditLinesAndLoans**| Number of Open loans (installment like car loan or mortgage) and Lines of credit (e.g. credit cards) -> Số khoản vay và thẻ tín dụng|\n",
    "|**NumberOfTimes90DaysLate**| Number of times borrower has been 90 days or more past due|\n",
    "|**NumberRealEstateLoansOrLines**| Number of mortgage and real estate loans including home equity lines of credit (Số lượng các khoản vay thế chấp và bất động sản bao gồm hạn mức tín dụng vốn chủ sở hữu nhà)|\n",
    "|**NumberOfTime60-89DaysPastDueNotWorse**| Number of times borrower has been 60-89 days past due but no worse in the last 2 years|\n",
    "|**NumberOfDependents**| Number of dependents in family excluding themselves (spouse, children etc.)|"
   ],
   "metadata": {}
  },
  {
   "cell_type": "markdown",
   "source": [
    "Random Forest:\n",
    "- Handle well with different types of features: numerical/ categorical"
   ],
   "metadata": {}
  },
  {
   "cell_type": "markdown",
   "source": [
    "### 2.2 Statistics"
   ],
   "metadata": {}
  },
  {
   "cell_type": "markdown",
   "source": [
    "**Q1: Import necessary libraries: Pandas, Numpy, Matplotlib, Seaborn**"
   ],
   "metadata": {}
  },
  {
   "cell_type": "code",
   "execution_count": null,
   "source": [
    "import pandas as pd\r\n",
    "import numpy as np\r\n",
    "import matplotlib.pyplot as plt\r\n",
    "import seaborn as sns"
   ],
   "outputs": [],
   "metadata": {}
  },
  {
   "cell_type": "markdown",
   "source": [
    "**Q2: Load data using pd.read_csv()**"
   ],
   "metadata": {}
  },
  {
   "cell_type": "code",
   "execution_count": null,
   "source": [
    "df_train=pd.read_csv('cs-training.csv')\r\n",
    "df_test=pd.read_csv('cs-test.csv')"
   ],
   "outputs": [],
   "metadata": {}
  },
  {
   "cell_type": "markdown",
   "source": [
    "**Q3: Get the first 5 rows of train set**"
   ],
   "metadata": {}
  },
  {
   "cell_type": "code",
   "execution_count": null,
   "source": [
    "df_train.head()"
   ],
   "outputs": [],
   "metadata": {}
  },
  {
   "cell_type": "markdown",
   "source": [
    "**Q4: Get number of rows and columns of  train set**"
   ],
   "metadata": {}
  },
  {
   "cell_type": "code",
   "execution_count": null,
   "source": [
    "df_train.shape"
   ],
   "outputs": [],
   "metadata": {}
  },
  {
   "cell_type": "markdown",
   "source": [
    "**Q5: Describe the distribution of train set**"
   ],
   "metadata": {}
  },
  {
   "cell_type": "code",
   "execution_count": null,
   "source": [
    "df_train.describe()"
   ],
   "outputs": [],
   "metadata": {}
  },
  {
   "cell_type": "markdown",
   "source": [
    "**Q6: Get information of train set by df.info()**"
   ],
   "metadata": {}
  },
  {
   "cell_type": "code",
   "execution_count": null,
   "source": [
    "df_train.info()"
   ],
   "outputs": [],
   "metadata": {}
  },
  {
   "cell_type": "markdown",
   "source": [
    "**Q7: Get the missing percent per columns of train set**\n",
    "( Null do quá trình thu thập dữ liệu có vấn đề hoặc do bản thân dữ liệu )"
   ],
   "metadata": {}
  },
  {
   "cell_type": "code",
   "execution_count": null,
   "source": [
    "df_train.isna().sum()/len(df_train)"
   ],
   "outputs": [],
   "metadata": {}
  },
  {
   "cell_type": "markdown",
   "source": [
    "### 2.3 Visualization"
   ],
   "metadata": {}
  },
  {
   "cell_type": "markdown",
   "source": [
    "**Q8: Target disitribution on train set via bar chart**"
   ],
   "metadata": {}
  },
  {
   "cell_type": "code",
   "execution_count": null,
   "source": [
    "# countplot \r\n",
    "\r\n",
    "plt.figure(figsize=(10,7))\r\n",
    "\r\n",
    "ax = sns.countplot(x = df_train.SeriousDlqin2yrs, palette='Set1')\r\n",
    "\r\n",
    "for p, label in zip(ax.patches, df_train.SeriousDlqin2yrs.value_counts()):\r\n",
    "    ax.annotate(label, {p.get_x() + 0.35, p.get_height() +0.3})\r\n",
    "\r\n",
    "plt.show()\r\n"
   ],
   "outputs": [],
   "metadata": {}
  },
  {
   "cell_type": "code",
   "execution_count": null,
   "source": [
    "plt.pie(df_train.SeriousDlqin2yrs.value_counts(), \r\n",
    "        labels = ['Good credit', 'Bad credit'],\r\n",
    "        autopct = '%.2f%%', \r\n",
    "        explode=[0, 0.1])\r\n",
    "\r\n",
    "# Precision, Recall, F-1 Score, AUC,...\r\n"
   ],
   "outputs": [],
   "metadata": {}
  },
  {
   "cell_type": "markdown",
   "source": [
    "**Q9: Correlation of features and target**"
   ],
   "metadata": {}
  },
  {
   "cell_type": "code",
   "execution_count": null,
   "source": [
    "plt.figure(figsize= (10, 7))\r\n",
    "sns.heatmap(df_train.corr(), annot = True, linewidths=0.1,linecolor = 'grey')"
   ],
   "outputs": [],
   "metadata": {}
  },
  {
   "cell_type": "markdown",
   "source": [
    "**Q10: Describe features distribution and correlation given histogram and pairplot chart**"
   ],
   "metadata": {}
  },
  {
   "cell_type": "code",
   "execution_count": null,
   "source": [
    "df_train.hist(figsize=(10,10))"
   ],
   "outputs": [],
   "metadata": {}
  },
  {
   "cell_type": "markdown",
   "source": [
    "**Q11: Explore each feature with target**"
   ],
   "metadata": {}
  },
  {
   "cell_type": "code",
   "execution_count": null,
   "source": [],
   "outputs": [],
   "metadata": {}
  },
  {
   "cell_type": "markdown",
   "source": [
    "## 3. MODEL"
   ],
   "metadata": {}
  },
  {
   "cell_type": "markdown",
   "source": [
    "**Q12: Handle outliers in dataset**"
   ],
   "metadata": {}
  },
  {
   "cell_type": "markdown",
   "source": [
    "- Percentile\r\n",
    "- Decike\r\n",
    "- Quantile\r\n",
    "- Quartlie"
   ],
   "metadata": {}
  },
  {
   "cell_type": "code",
   "execution_count": null,
   "source": [
    "from collections import Counter\r\n",
    "\r\n",
    "def detect_outliers(df, n, features):\r\n",
    "    outlier_indices = []\r\n",
    "    \r\n",
    "    # iretate over features\r\n",
    "    for col in features:\r\n",
    "\r\n",
    "        # 1st quartile (25%)\r\n",
    "        Q1 = np.percentile(df[col], 25)\r\n",
    "\r\n",
    "        # 3rd quartile (75%)\r\n",
    "        Q3 = np.percentile(df[col], 75)\r\n",
    "\r\n",
    "        # Interquartile - IQR\r\n",
    "        IQR = Q3 - Q1\r\n",
    "\r\n",
    "        # Outlier steps < Q1 - 1.5 IQR, > Q3 + 1.5 IQR\r\n",
    "        outlier_step = 1.5*IQR\r\n",
    "\r\n",
    "        # Determine a list of indice of outlier\r\n",
    "        \r\n",
    "        outlier_list_col = df[(df[col]< Q1 - outlier_step) | \r\n",
    "                            (df[col] > Q3 + outlier_step)].index # conditions]\r\n",
    "        \r\n",
    "        outlier_indices.extend(outlier_list_col)\r\n",
    "    \r\n",
    "    # Select records containing more than n(const) outliers\r\n",
    "    outlier_indices = Counter(outlier_indices)\r\n",
    "\r\n",
    "    multiple_outliers = [k for k, v in outlier_indices.items() if v > n]\r\n",
    "    \r\n",
    "    \r\n",
    "    return multiple_outliers\r\n"
   ],
   "outputs": [],
   "metadata": {}
  },
  {
   "cell_type": "code",
   "execution_count": null,
   "source": [
    "df_train.columns"
   ],
   "outputs": [],
   "metadata": {}
  },
  {
   "cell_type": "code",
   "execution_count": null,
   "source": [
    "Outlier_to_drop = detect_outliers(df_train, 2, ['RevolvingUtilizationOfUnsecuredLines', 'age',\r\n",
    "       'NumberOfTime30-59DaysPastDueNotWorse', 'DebtRatio', 'MonthlyIncome',\r\n",
    "       'NumberOfOpenCreditLinesAndLoans', 'NumberOfTimes90DaysLate',\r\n",
    "       'NumberRealEstateLoansOrLines', 'NumberOfTime60-89DaysPastDueNotWorse',\r\n",
    "       'NumberOfDependents'])\r\n",
    "\r\n",
    "len(Outlier_to_drop)*100/len(df_train)"
   ],
   "outputs": [],
   "metadata": {}
  },
  {
   "cell_type": "code",
   "execution_count": null,
   "source": [
    "df_train = df_train.drop(Outlier_to_drop, axis = 0)"
   ],
   "outputs": [],
   "metadata": {}
  },
  {
   "cell_type": "code",
   "execution_count": null,
   "source": [
    "len(df_train)"
   ],
   "outputs": [],
   "metadata": {}
  },
  {
   "cell_type": "markdown",
   "source": [
    "**Q13: Merge train and test dataset**"
   ],
   "metadata": {}
  },
  {
   "cell_type": "code",
   "execution_count": null,
   "source": [
    "dataset = pd.concat([df_train, df_test])\r\n",
    "len(dataset), len(df_train) + len(df_test)"
   ],
   "outputs": [],
   "metadata": {}
  },
  {
   "cell_type": "code",
   "execution_count": null,
   "source": [
    "dataset.columns"
   ],
   "outputs": [],
   "metadata": {}
  },
  {
   "cell_type": "markdown",
   "source": [
    "**Q14: Rename columns name into shorter alias**"
   ],
   "metadata": {}
  },
  {
   "cell_type": "code",
   "execution_count": null,
   "source": [
    "dataset=dataset.rename(columns={'SeriousDlqin2yrs':'Target',\r\n",
    "                       'RevolvingUtilizationOfUnsecuredLines':'UnsecuredLines',\r\n",
    "                       'NumberOfTime30-59DaysPastDueNotWorse':'Late3059',\r\n",
    "                        'NumberOfOpenCreditLinesAndLoans':'OpenCredit',\r\n",
    "                       'NumberOfTimes90DaysLate':'Late90',\r\n",
    "                       'NumberRealEstateLoansOrLines':'ProLines',\r\n",
    "                       'NumberOfTime60-89DaysPastDueNotWorse':'Late6089',\r\n",
    "                        'NumberOfDependents':'Deps'})\r\n",
    "dataset.head(5)"
   ],
   "outputs": [],
   "metadata": {}
  },
  {
   "cell_type": "markdown",
   "source": [
    "**Q15: Building binary/dummy variables**"
   ],
   "metadata": {}
  },
  {
   "cell_type": "code",
   "execution_count": null,
   "source": [
    "pd.qcut(dataset.UnsecuredLines.values,5).codes"
   ],
   "outputs": [],
   "metadata": {}
  },
  {
   "cell_type": "code",
   "execution_count": null,
   "source": [
    "dataset.UnsecuredLines=pd.qcut(dataset.UnsecuredLines.values,5).codes"
   ],
   "outputs": [],
   "metadata": {}
  },
  {
   "cell_type": "code",
   "execution_count": null,
   "source": [
    "g=sns.catplot(x='UnsecuredLines', y='Target', data=dataset, kind='bar')\r\n",
    "plt.show()\r\n",
    "#tìm ra mqh giữa biến và target, đồng thời giảm số lượng biến xuống.\r\n",
    "#chia dữ liệu thành nhóm dữ liệu 3-10 nhóm, để tìm tương quan."
   ],
   "outputs": [],
   "metadata": {}
  },
  {
   "cell_type": "code",
   "execution_count": null,
   "source": [
    "dataset.age = pd.qcut(dataset.age.values, 5).codes"
   ],
   "outputs": [],
   "metadata": {}
  },
  {
   "cell_type": "code",
   "execution_count": null,
   "source": [
    "g = sns.catplot(x = 'age', y = 'Target', data = dataset, kind = 'bar')\r\n",
    "plt.show()"
   ],
   "outputs": [],
   "metadata": {}
  },
  {
   "cell_type": "code",
   "execution_count": null,
   "source": [
    "g = sns.catplot(x = 'Late3059', y = 'Target', data = dataset, kind = 'bar')\r\n",
    "plt.show()\r\n"
   ],
   "outputs": [],
   "metadata": {}
  },
  {
   "cell_type": "code",
   "execution_count": null,
   "source": [
    "dataset.Late3059 = [x if x <6 else 6 for x in dataset.Late3059]\r\n",
    "g = sns.catplot(x = 'Late3059', y = 'Target', data = dataset, kind = 'bar')\r\n",
    "plt.show()"
   ],
   "outputs": [],
   "metadata": {}
  },
  {
   "cell_type": "code",
   "execution_count": null,
   "source": [
    "dataset.DebtRatio = pd.cut(dataset.DebtRatio.values, 5).codes\r\n",
    "dataset.MonthlyIncome = dataset.MonthlyIncome.fillna(dataset.MonthlyIncome.median()) #scalar, mean, median, mode\r\n",
    "dataset.MonthlyIncome = pd.cut(dataset.MonthlyIncome.values, 5).codes\r\n",
    "dataset.OpenCredit = pd.cut(dataset.OpenCredit.values, 5).codes\r\n",
    "dataset.Late90 = [x if x < 5 else 5 for x in dataset.Late90]\r\n",
    "dataset.PropLines = [x if x < 6 else 6 for x in dataset.PropLines]\r\n",
    "dataset.Late6089 = [x if x < 6 else 6 for x in dataset.Late6089]\r\n",
    "dataset.Deps = dataset.Deps.fillna(dataset.Deps.median())\r\n",
    "dataset.Deps = [x if x < 4 else 4 for x in dataset.Deps]"
   ],
   "outputs": [],
   "metadata": {}
  },
  {
   "cell_type": "code",
   "execution_count": null,
   "source": [
    "dataset = pd.get_dummies(dataset, columns = ['UnsecuredLines'], prefix = 'UnsecuredLines')\r\n",
    "dataset = pd.get_dummies(dataset, columns = ['age'], prefix = 'age')\r\n",
    "dataset = pd.get_dummies(dataset, columns = ['Late3059'], prefix = 'Late3059')\r\n",
    "dataset = pd.get_dummies(dataset, columns = ['DebtRatio'], prefix = 'DebtRatio')\r\n",
    "dataset = pd.get_dummies(dataset, columns = ['MonthlyIncome'], prefix = 'MonthlyIncome')\r\n",
    "dataset = pd.get_dummies(dataset, columns = ['OpenCredit'], prefix = 'OpenCredit')\r\n",
    "dataset = pd.get_dummies(dataset, columns = ['Late90'], prefix = 'Late90')\r\n",
    "dataset = pd.get_dummies(dataset, columns = ['PropLines'], prefix = 'PropLines')\r\n",
    "dataset = pd.get_dummies(dataset, columns = ['Late6089'], prefix = 'Late6089')\r\n",
    "dataset = pd.get_dummies(dataset, columns = ['Deps'], prefix = 'Deps')"
   ],
   "outputs": [],
   "metadata": {}
  },
  {
   "cell_type": "markdown",
   "source": [
    "**Q16: Train test split**"
   ],
   "metadata": {}
  },
  {
   "cell_type": "code",
   "execution_count": null,
   "source": [],
   "outputs": [],
   "metadata": {}
  },
  {
   "cell_type": "markdown",
   "source": [
    "**Q17: Train prediction model using Random Forest Classifier**"
   ],
   "metadata": {}
  },
  {
   "cell_type": "code",
   "execution_count": null,
   "source": [],
   "outputs": [],
   "metadata": {}
  },
  {
   "cell_type": "markdown",
   "source": [
    "**Q18: Get feature importance from classifier**"
   ],
   "metadata": {}
  },
  {
   "cell_type": "code",
   "execution_count": null,
   "source": [],
   "outputs": [],
   "metadata": {}
  },
  {
   "cell_type": "markdown",
   "source": [
    "**Q19: Retrain with better parameters**"
   ],
   "metadata": {}
  },
  {
   "cell_type": "code",
   "execution_count": null,
   "source": [],
   "outputs": [],
   "metadata": {}
  },
  {
   "cell_type": "markdown",
   "source": [
    "**Q20: Predict and evaluate the model performance**"
   ],
   "metadata": {}
  },
  {
   "cell_type": "code",
   "execution_count": null,
   "source": [],
   "outputs": [],
   "metadata": {}
  }
 ],
 "metadata": {
  "kernelspec": {
   "name": "python3",
   "display_name": "Python 3.8.8 64-bit ('myenv': conda)"
  },
  "language_info": {
   "codemirror_mode": {
    "name": "ipython",
    "version": 3
   },
   "file_extension": ".py",
   "mimetype": "text/x-python",
   "name": "python",
   "nbconvert_exporter": "python",
   "pygments_lexer": "ipython3",
   "version": "3.8.8"
  },
  "interpreter": {
   "hash": "20c650d74e6a651bf9df10f1a7f97e71c9fe7c9d72f68eaa4beb89fa41e985ea"
  }
 },
 "nbformat": 4,
 "nbformat_minor": 5
}