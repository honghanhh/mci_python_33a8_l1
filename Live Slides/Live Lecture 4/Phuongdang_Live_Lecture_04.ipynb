{
 "cells": [
  {
   "cell_type": "markdown",
   "id": "1b2780d7-904c-4377-9f96-5e33eb134746",
   "metadata": {},
   "source": [
    "# Bài 4: Giới thiệu về NumPy"
   ]
  },
  {
   "cell_type": "markdown",
   "id": "c6596c8e-23ff-4675-9ec2-11ac3e94a7fc",
   "metadata": {},
   "source": [
    "![](https://upload.wikimedia.org/wikipedia/commons/thumb/3/31/NumPy_logo_2020.svg/1200px-NumPy_logo_2020.svg.png)"
   ]
  },
  {
   "cell_type": "markdown",
   "id": "93a6f13e-cf5e-4412-ad72-9ac2737d2090",
   "metadata": {},
   "source": [
    "## I. GIỚI THIỆU"
   ]
  },
  {
   "cell_type": "markdown",
   "id": "4c499fb2-7908-44af-9d51-b40e2d54d631",
   "metadata": {},
   "source": [
    "### 1. Numpy là gì? "
   ]
  },
  {
   "cell_type": "markdown",
   "id": "9bbe4ae1-55fc-456f-8eec-efba39553497",
   "metadata": {},
   "source": [
    "`NumPy = multidimensional array +  matrix data structures`"
   ]
  },
  {
   "cell_type": "markdown",
   "id": "e587ef23-8b52-468e-8b33-d87bf6d1a498",
   "metadata": {},
   "source": [
    "### 2. Cài đặt"
   ]
  },
  {
   "cell_type": "markdown",
   "id": "fea3290e-93f2-439d-9780-7e9aa50ea878",
   "metadata": {},
   "source": [
    "Trên terminal (MacOS/Ubuntu) hoặc Anaconda Prompt (Windows):\n",
    "- Cách 1: `conda create -n hanh python=3.7 numpy`\n",
    "- Cách 2: 1 trong 2 câu lệnh sau:\n",
    "    - `conda install numpy` \n",
    "    -  `pip install numpy`\n",
    "\n",
    "Ngoài ra, ta cũng có thể cài đặt thư viện thẳng trong notebook bằng 1 trong 2 câu lệnh sau:\n",
    "   - `!conda install numpy`\n",
    "   - `!pip instal numpy`\n",
    "    \n",
    "Để tìm hiểu xem `conda` và `pip` khác nhau như thế nào, các bạn có thể tham khảo tại [đây](https://www.anaconda.com/blog/understanding-conda-and-pip)."
   ]
  },
  {
   "cell_type": "markdown",
   "id": "3534b2e8-4edd-43ec-88f3-99291144c988",
   "metadata": {},
   "source": [
    "### 3. Import thư viện"
   ]
  },
  {
   "cell_type": "markdown",
   "id": "1c8406aa-ba50-4204-8c46-b493fa43afcf",
   "metadata": {},
   "source": [
    "`import numpy as np`"
   ]
  },
  {
   "cell_type": "code",
   "execution_count": 4,
   "id": "c3a26b5c-939f-4d63-ab1f-7aa63acd98d5",
   "metadata": {},
   "outputs": [],
   "source": [
    "import numpy as np"
   ]
  },
  {
   "cell_type": "markdown",
   "id": "34a8541f-caf8-470e-b4c3-85db9ac5af13",
   "metadata": {},
   "source": [
    "### 4. Vì sao nên sử dụng NumPy? -> FAST + MEMORY EFFICENCY!"
   ]
  },
  {
   "cell_type": "markdown",
   "id": "978b2af1-6df0-4bf8-a529-8abaeec841e7",
   "metadata": {},
   "source": [
    "- **Vectorization**:"
   ]
  },
  {
   "cell_type": "code",
   "execution_count": 2,
   "id": "bd0f1af5-41d0-436e-9055-9311d6a56d37",
   "metadata": {},
   "outputs": [
    {
     "data": {
      "text/plain": [
       "[1, 2, 3, 4, 5, 6]"
      ]
     },
     "execution_count": 2,
     "metadata": {},
     "output_type": "execute_result"
    }
   ],
   "source": [
    "# Các dữ liệu trong array đều phải cùng kiểu dữ liệu\n",
    "[1,2,3] + [4,5,6] # [5,7,9] --> nếu muốn tạo ra list cộng các phần tử tương ứng cần dùng extend =>ưu thế của numpy: time complexity + calculations + resources "
   ]
  },
  {
   "cell_type": "code",
   "execution_count": 3,
   "id": "2595ac1e-d2a6-4a92-9ed3-a08a5eaee170",
   "metadata": {},
   "outputs": [
    {
     "data": {
      "text/plain": [
       "array([5, 7, 9])"
      ]
     },
     "execution_count": 3,
     "metadata": {},
     "output_type": "execute_result"
    }
   ],
   "source": [
    "np.array([1,2,3])+np.array([4,5,6])"
   ]
  },
  {
   "cell_type": "markdown",
   "id": "0e5912f0-a2d6-47c4-b1b5-5bc406a68aee",
   "metadata": {},
   "source": [
    "- **Broadcasting**:\n",
    "![](https://i.stack.imgur.com/JcKv1.png)\n",
    "*Reference*: [What is Numpy?](https://numpy.org/doc/stable/user/whatisnumpy.html#whatisnumpy)"
   ]
  },
  {
   "cell_type": "code",
   "execution_count": null,
   "id": "8ed000e7-75c7-4528-b543-5735e517c346",
   "metadata": {},
   "outputs": [],
   "source": []
  },
  {
   "cell_type": "markdown",
   "id": "c8536d1a-ba81-4bd7-bc1b-deb0dd7ef396",
   "metadata": {},
   "source": [
    "## II. THỰC HÀNH CÁC HÀM CƠ BẢN TRONG NUMPY"
   ]
  },
  {
   "cell_type": "markdown",
   "id": "0504d1b3-ede4-4e34-a581-e36322c6e8b6",
   "metadata": {},
   "source": [
    "### 0. Ôn tập kiến thức về mảng đa chiều"
   ]
  },
  {
   "cell_type": "markdown",
   "id": "f1545612-7ba7-4343-b3fd-56a6b01aac89",
   "metadata": {},
   "source": [
    "![](https://fgnt.github.io/python_crashkurs_doc/_images/numpy_array_t.png)"
   ]
  },
  {
   "cell_type": "markdown",
   "id": "3232b1a4-2bbc-408f-8ab4-8ee64d0194fc",
   "metadata": {},
   "source": [
    "![](https://www.kdnuggets.com/wp-content/uploads/scalar-vector-matrix-tensor.jpg)"
   ]
  },
  {
   "cell_type": "markdown",
   "id": "37d3ac34-f577-4731-8b98-eafca1710c02",
   "metadata": {},
   "source": [
    "### 1. Tạo 1 mảng (Create an array)\n",
    "#### 1.1 Tạo 1 mảng 1 chiều"
   ]
  },
  {
   "cell_type": "markdown",
   "id": "d85d93ee-54d8-4880-a0cd-04d33b26ecee",
   "metadata": {},
   "source": [
    "Để tạo ra 1 NumPy `array`, ta có thể tận dụng hàm `np.array()` và truyền một list cho nó. "
   ]
  },
  {
   "cell_type": "code",
   "execution_count": 5,
   "id": "c1547656-09a0-4a6b-a8c7-0a3e3e149e4a",
   "metadata": {},
   "outputs": [
    {
     "data": {
      "text/plain": [
       "array([1, 2, 3])"
      ]
     },
     "execution_count": 5,
     "metadata": {},
     "output_type": "execute_result"
    }
   ],
   "source": [
    "arr = np.array([1,2,3])\n",
    "arr"
   ]
  },
  {
   "cell_type": "code",
   "execution_count": 5,
   "id": "405108ce-8cc8-44a6-9f4e-9e3f2d8d7cee",
   "metadata": {},
   "outputs": [
    {
     "data": {
      "text/plain": [
       "numpy.ndarray"
      ]
     },
     "execution_count": 5,
     "metadata": {},
     "output_type": "execute_result"
    }
   ],
   "source": [
    "type(arr)"
   ]
  },
  {
   "cell_type": "markdown",
   "id": "85d59470-84bd-464e-9568-efa791282e6c",
   "metadata": {},
   "source": [
    "Tham khảo mã nguồn xây dựng nên thư viện này tại [NumPy github](https://github.com/numpy/numpy)."
   ]
  },
  {
   "cell_type": "markdown",
   "id": "716348d1-fabe-4985-92f3-66bcbd19997b",
   "metadata": {},
   "source": [
    "**Đố vui: Array khác list ở chỗ nào?**"
   ]
  },
  {
   "cell_type": "code",
   "execution_count": 1,
   "id": "25a235e4-fd97-499b-a53c-d52d69a6f02b",
   "metadata": {},
   "outputs": [
    {
     "data": {
      "text/plain": [
       "(int, float, str)"
      ]
     },
     "execution_count": 1,
     "metadata": {},
     "output_type": "execute_result"
    }
   ],
   "source": [
    "li = [1,3.14,'mci']\n",
    "type(li[0]), type (li[1]), type (li[2])"
   ]
  },
  {
   "cell_type": "code",
   "execution_count": 6,
   "id": "dc860900-587b-4168-9ccb-13cb89de9994",
   "metadata": {},
   "outputs": [
    {
     "data": {
      "text/plain": [
       "(numpy.str_, numpy.str_, numpy.str_)"
      ]
     },
     "execution_count": 6,
     "metadata": {},
     "output_type": "execute_result"
    }
   ],
   "source": [
    "arr = np.array([1,3.14,'mci'])\n",
    "type(arr[0]), type(arr[1]), type(arr[2])"
   ]
  },
  {
   "cell_type": "markdown",
   "id": "c3bdfff8-324b-44c1-87f8-996d494aaa28",
   "metadata": {},
   "source": [
    "Kiểm tra chiều dữ liệu:"
   ]
  },
  {
   "cell_type": "code",
   "execution_count": null,
   "id": "b647072b-4228-49fe-9360-b686caab6fd4",
   "metadata": {},
   "outputs": [],
   "source": [
    "arr.shape #kiểm tra 1 chiều duy nhất (nhìn vào bn số --tương ứng với số chiều dữ liệu, 1 số tương ứng 1 chiều)\n",
    "arr.ndim #số chiều của mảng/DL đang chứa"
   ]
  },
  {
   "cell_type": "code",
   "execution_count": 6,
   "id": "35db32f4-8a59-4fc0-a011-017688cfdc3a",
   "metadata": {},
   "outputs": [
    {
     "data": {
      "text/plain": [
       "3"
      ]
     },
     "execution_count": 6,
     "metadata": {},
     "output_type": "execute_result"
    }
   ],
   "source": [
    "len(arr) #số phần tử của chiều đó"
   ]
  },
  {
   "cell_type": "code",
   "execution_count": 7,
   "id": "1e5c430f-53f1-4110-b195-f4a5c44b7c87",
   "metadata": {},
   "outputs": [
    {
     "data": {
      "text/plain": [
       "((3,), 1)"
      ]
     },
     "execution_count": 7,
     "metadata": {},
     "output_type": "execute_result"
    }
   ],
   "source": [
    "arr.shape, arr.ndim"
   ]
  },
  {
   "cell_type": "markdown",
   "id": "90d84b41-14f5-4fbf-96f9-bd8770f6afb3",
   "metadata": {},
   "source": [
    "#### 1.2 Tạo 1 mảng đa chiều\n",
    "Chúng ta cũng có thể tạo một mảng hai chiều từ một list các list."
   ]
  },
  {
   "cell_type": "code",
   "execution_count": 7,
   "id": "ac70a5b6-323e-4fca-bd57-0f4e3e70f14b",
   "metadata": {},
   "outputs": [
    {
     "data": {
      "text/plain": [
       "array([[1, 2, 3],\n",
       "       [4, 5, 6]])"
      ]
     },
     "execution_count": 7,
     "metadata": {},
     "output_type": "execute_result"
    }
   ],
   "source": [
    "arr_2d = np.array([[1,2,3],\n",
    "                   [4,5,6]]) # create an array 2x3\n",
    "arr_2d\n",
    "# mảng 1 chiều sẽ có 1 dấu [] duy nhất và truyền vào hàm array\n",
    "# số chiều tương ứng số dấu []"
   ]
  },
  {
   "cell_type": "code",
   "execution_count": 8,
   "id": "c7375c0d-a80e-4ffb-8528-2cc7ffc02c5a",
   "metadata": {},
   "outputs": [
    {
     "data": {
      "text/plain": [
       "(2, 3)"
      ]
     },
     "execution_count": 8,
     "metadata": {},
     "output_type": "execute_result"
    }
   ],
   "source": [
    "arr_2d.shape # ma trận 2 chiều 3 cột"
   ]
  },
  {
   "cell_type": "code",
   "execution_count": 9,
   "id": "19d24753-9794-4432-bb77-4695a923d12f",
   "metadata": {},
   "outputs": [
    {
     "data": {
      "text/plain": [
       "2"
      ]
     },
     "execution_count": 9,
     "metadata": {},
     "output_type": "execute_result"
    }
   ],
   "source": [
    "len(arr_2d) #số các phần tử có trong chiều thứ nhất của dữ liệu"
   ]
  },
  {
   "cell_type": "code",
   "execution_count": 10,
   "id": "4ed85463-987c-490c-8ad2-90a51660c57f",
   "metadata": {},
   "outputs": [
    {
     "data": {
      "text/plain": [
       "6"
      ]
     },
     "execution_count": 10,
     "metadata": {},
     "output_type": "execute_result"
    }
   ],
   "source": [
    "# Đếm tổng sổ phần tử có trong array\n",
    "# Câu lệnh size\n",
    "arr_2d.size"
   ]
  },
  {
   "cell_type": "markdown",
   "id": "ecac51f2-f218-493f-9aa5-2f57ae03ec9d",
   "metadata": {},
   "source": [
    "#### 1.3 Một số hàm có sẵn hỗ trợ tạo mảng\n",
    "Ngoài `np.array()`, ta có thể tạo 1 số array đặc thù với `np.zeros()`, `np.ones()`, `np.arange()`,`np.linspace()`"
   ]
  },
  {
   "cell_type": "markdown",
   "id": "32d2a34f-8ae4-4261-8cbc-e06422cddceb",
   "metadata": {},
   "source": [
    "|Hàm|Ý nghĩa|\n",
    "|-|-|\n",
    "|`np.zeros()`|1 mảng chứa các giá trị 0|\n",
    "|`np.ones()`|1 mảng chứa các giá trị 1|\n",
    "|`np.full()`|1 mảng chứa các giá trị được gán theo `fill_value`|\n",
    "|`np.arange()`|1 mảng chứa khoảng giá trị có khoảng cách đều nhau|\n",
    "|`np.linspace`|1 mảng các giá trị có khoảng cách tuyến tính với nhau|"
   ]
  },
  {
   "cell_type": "code",
   "execution_count": 9,
   "id": "4479fec0-23a7-432f-8624-f012622c2c2e",
   "metadata": {},
   "outputs": [
    {
     "data": {
      "text/plain": [
       "array([0, 0, 0])"
      ]
     },
     "execution_count": 9,
     "metadata": {},
     "output_type": "execute_result"
    }
   ],
   "source": [
    "np.zeros(shape=(1,3)) # mảng 1x3. Tuy nhiên nếu tạo 1 mảng (có 1 chiều duy nhất) chỉ cần truyền số phần tử\n",
    "np.zeros(shape=3 , dtype = int)"
   ]
  },
  {
   "cell_type": "code",
   "execution_count": 10,
   "id": "00c566f9-58dc-44bd-9e16-46d3b4e279ef",
   "metadata": {},
   "outputs": [
    {
     "data": {
      "text/plain": [
       "array([[1., 1., 1.],\n",
       "       [1., 1., 1.],\n",
       "       [1., 1., 1.]])"
      ]
     },
     "execution_count": 10,
     "metadata": {},
     "output_type": "execute_result"
    }
   ],
   "source": [
    "np.ones(shape=(3,3)) # ma trận nhiều chiều 3x3 (số hàng x số cột)"
   ]
  },
  {
   "cell_type": "code",
   "execution_count": 11,
   "id": "59ff032a-40ac-4432-9f85-a70ad68d9189",
   "metadata": {},
   "outputs": [
    {
     "data": {
      "text/plain": [
       "array([[100, 100, 100],\n",
       "       [100, 100, 100],\n",
       "       [100, 100, 100]])"
      ]
     },
     "execution_count": 11,
     "metadata": {},
     "output_type": "execute_result"
    }
   ],
   "source": [
    "np.full(shape=(3,3), fill_value = 100)"
   ]
  },
  {
   "cell_type": "code",
   "execution_count": 12,
   "id": "5eace4c1-cb52-4c50-950b-09bc7db17039",
   "metadata": {},
   "outputs": [
    {
     "data": {
      "text/plain": [
       "array([1., 3., 5., 7., 9.])"
      ]
     },
     "execution_count": 12,
     "metadata": {},
     "output_type": "execute_result"
    }
   ],
   "source": [
    "np.arange(1, 10, 2, dtype = float) \n",
    "#truyền khoảng cách của các phần tử cách đều nhau\n",
    "# define distance"
   ]
  },
  {
   "cell_type": "code",
   "execution_count": 13,
   "id": "50394eaa-9208-4861-9533-a669df78d0e0",
   "metadata": {},
   "outputs": [
    {
     "data": {
      "text/plain": [
       "array([ 1.  ,  3.25,  5.5 ,  7.75, 10.  ])"
      ]
     },
     "execution_count": 13,
     "metadata": {},
     "output_type": "execute_result"
    }
   ],
   "source": [
    "np.linspace(1,10,5) \n",
    "# cần định nghĩa số phần tử mà mình mong muốn --> dựa vào số phần tử và khoảng dữ liệu để tạo ra các giá trị có khoảng cách tuyến tính (cách đều nhau), khoảng cách có thể k phải là số nguyên mà là float\n",
    "# define number of item in array"
   ]
  },
  {
   "cell_type": "markdown",
   "id": "03ae09c9-ab95-47be-8c0f-3c6b6bdeacd7",
   "metadata": {},
   "source": [
    "#### 1.4 Tạo mảng ngẫu nhiên"
   ]
  },
  {
   "cell_type": "markdown",
   "id": "ebbc69bc-c429-4bb7-8f96-eb5d959ff2ff",
   "metadata": {},
   "source": [
    "Trong NumPy, hàm `np.random` lấy ***ngẫu nhiên*** các giá trị trong 1 phân phối có ***quy luật***. "
   ]
  },
  {
   "cell_type": "code",
   "execution_count": 14,
   "id": "498ec46e-3638-4f3c-9692-3184199f9722",
   "metadata": {},
   "outputs": [
    {
     "data": {
      "text/plain": [
       "1078249"
      ]
     },
     "execution_count": 14,
     "metadata": {},
     "output_type": "execute_result"
    }
   ],
   "source": [
    "from datetime import datetime\n",
    "x= datetime.now().microsecond # is always changing #một phần triệu giây\n",
    "rand = 2*x+3\n",
    "rand"
   ]
  },
  {
   "cell_type": "code",
   "execution_count": 12,
   "id": "8c63ff43-2e3d-4a6c-b66d-89735f1b067a",
   "metadata": {},
   "outputs": [],
   "source": [
    "from datetime import datetime\n",
    "x= datetime.now()"
   ]
  },
  {
   "cell_type": "markdown",
   "id": "cc49af9a-7d33-4c41-af5e-53b6bfb1c084",
   "metadata": {},
   "source": [
    "Trong hàm `np.random`, chúng ta có 2 hàm con là `np.random.random()` và `np.random.normal()` tương ứng với 2 kiểu phân phối chúng ta đã quen thuộc khi học về xác suất thông kê, đó là:\n",
    "\n",
    "- **Phân phối đồng nhất (Uniform Distribution)**\n",
    "- **Phân phối chuẩn/ Phân phối hình chuông (Normal Distribution)** "
   ]
  },
  {
   "cell_type": "markdown",
   "id": "da2bf3f4-5081-4672-aa54-f3c846b27576",
   "metadata": {},
   "source": [
    "- **Phân phối đồng nhất (Uniform Distribution)**\n",
    "Là 1 dạng pp xác suất thống kê, trong đó tất cả kq đều có khả năng xảy ra như nhau\n"
   ]
  },
  {
   "cell_type": "markdown",
   "id": "10031491-d787-4c95-bafc-13c9ccc1cf60",
   "metadata": {},
   "source": [
    "- **Phân phối chuẩn/ Phân phối hình chuông (Normal Distribution)** \n",
    "được quyết định bởi mean và standard deviation với những đặc điểm sau:\n",
    "    + Hình chuông (ring-shaped)\n",
    "    + Đối xứng thông qua mean\n",
    "    + Đặc trưng bởi mean và standard deviation (độ phân tán)\n",
    "    + Giá trị trung bình đại diện xu hướng trung tâm phân bố dữ liệu\n",
    "    + Xu hướng trung tâm của bộ data (central tendency): mean = median = mode\n",
    "        - Mean: giá trị trung bình \n",
    "        - Median: giá trị phổ biến nhất trong một tập dữ liệu (số trung vị)\n",
    "        - Mode: giá trị có tần số xuất hiện cao nhất "
   ]
  },
  {
   "cell_type": "code",
   "execution_count": 16,
   "id": "969a2a9b-986a-4fc3-ad2e-1354e72ac147",
   "metadata": {},
   "outputs": [
    {
     "data": {
      "text/plain": [
       "array([[0.27252741, 0.7321377 , 0.98678355],\n",
       "       [0.91720597, 0.93865377, 0.51588659],\n",
       "       [0.54108049, 0.51960827, 0.24326589]])"
      ]
     },
     "execution_count": 16,
     "metadata": {},
     "output_type": "execute_result"
    }
   ],
   "source": [
    "np.random.random([3,3])"
   ]
  },
  {
   "cell_type": "markdown",
   "id": "72717e31-66af-45bd-9249-10a71701a72d",
   "metadata": {},
   "source": [
    "**Câu hỏi**: Vì sao hình trên không theo phân phối chuẩn?"
   ]
  },
  {
   "cell_type": "code",
   "execution_count": 17,
   "id": "0e79a924-42f4-41b9-b01f-5f58edcfb091",
   "metadata": {},
   "outputs": [
    {
     "name": "stderr",
     "output_type": "stream",
     "text": [
      "Matplotlib is building the font cache; this may take a moment.\n"
     ]
    },
    {
     "data": {
      "image/png": "[encoded data removed]",
      "text/plain": [
       "<Figure size 432x288 with 1 Axes>"
      ]
     },
     "metadata": {
      "needs_background": "light"
     },
     "output_type": "display_data"
    }
   ],
   "source": [
    "import matplotlib.pyplot as plt\n",
    "plt.hist(np.random.random(100), bins=20) #sample #bins-số cột\n",
    "plt.show()"
   ]
  },
  {
   "cell_type": "code",
   "execution_count": 18,
   "id": "20d4fb6f-22fe-4e2e-a2dc-f19a639680da",
   "metadata": {},
   "outputs": [
    {
     "data": {
      "image/png": "[encoded data removed]",
      "text/plain": [
       "<Figure size 432x288 with 1 Axes>"
      ]
     },
     "metadata": {
      "needs_background": "light"
     },
     "output_type": "display_data"
    }
   ],
   "source": [
    "plt.hist(np.random.random(100), bins=20) #sample #bins-số cột\n",
    "plt.show()"
   ]
  },
  {
   "cell_type": "code",
   "execution_count": null,
   "id": "b7b448ce-43a5-4aba-a7a5-c4d633b1a7ae",
   "metadata": {},
   "outputs": [],
   "source": [
    "# population: tương ứng với tất cả các tập dữ liệu có thể thu thập được để phục vụ cho bài toán\n",
    "# sample: mẩu nhỏ trong population đk lấy ra sao cho 1 tập mẫu nhỏ cần đảm bảo hành vi về mặt phân bố"
   ]
  },
  {
   "cell_type": "markdown",
   "id": "1102d91f-6402-430c-aec5-33019d02afac",
   "metadata": {},
   "source": [
    "#### 1.5 Lưu và tải mảng "
   ]
  },
  {
   "cell_type": "code",
   "execution_count": 16,
   "id": "4616d421-2cd1-41bd-bd6e-2db1c5372988",
   "metadata": {},
   "outputs": [],
   "source": [
    "# arr = np.random.random([3,3])\n",
    "# np.savetxt('test.txt',arr) #txt là loại tệp tin, 'test.txt'-tên muốn lưu, arr-tên mảng cần lưu\n",
    "# arr1 = np.loadtxt('test.txt')"
   ]
  },
  {
   "cell_type": "markdown",
   "id": "c074aa10-9925-47cc-9512-40aa54e0d279",
   "metadata": {},
   "source": [
    "### 2. Đổi chiều array "
   ]
  },
  {
   "cell_type": "markdown",
   "id": "0f7686ff-6d0b-42ba-b6c9-e0b765e2e554",
   "metadata": {},
   "source": [
    "Ta có thể sử dụng `np.newaxis` và `np.expand_dims` để tăng kích thước của mảng hiện có của bạn."
   ]
  },
  {
   "cell_type": "code",
   "execution_count": 31,
   "id": "b614210f-09a2-4abb-bd39-652915360a6f",
   "metadata": {},
   "outputs": [
    {
     "data": {
      "text/plain": [
       "(array([1, 2, 3, 4, 5, 6]), 1, (6,))"
      ]
     },
     "execution_count": 31,
     "metadata": {},
     "output_type": "execute_result"
    }
   ],
   "source": [
    "arr = np.array([1, 2, 3, 4, 5, 6])\n",
    "arr, arr.ndim, arr.shape"
   ]
  },
  {
   "cell_type": "code",
   "execution_count": 32,
   "id": "e509171d-ef9a-409d-b320-7ccce3c0a509",
   "metadata": {},
   "outputs": [
    {
     "data": {
      "text/plain": [
       "(array([[1, 2, 3, 4, 5, 6]]), 2)"
      ]
     },
     "execution_count": 32,
     "metadata": {},
     "output_type": "execute_result"
    }
   ],
   "source": [
    "arr1 = np.expand_dims(arr, axis=0)\n",
    "arr1, arr1.ndim"
   ]
  },
  {
   "cell_type": "code",
   "execution_count": 33,
   "id": "f2ff8988-df4c-45ff-abc4-35d7a3723b9e",
   "metadata": {},
   "outputs": [
    {
     "data": {
      "text/plain": [
       "(array([[1, 2, 3, 4, 5, 6]]), 2)"
      ]
     },
     "execution_count": 33,
     "metadata": {},
     "output_type": "execute_result"
    }
   ],
   "source": [
    "arr2 = arr[np.newaxis, :]\n",
    "arr2, arr2.ndim"
   ]
  },
  {
   "cell_type": "code",
   "execution_count": 34,
   "id": "8bbde5b0-245a-446e-a7af-f8c67dec6816",
   "metadata": {},
   "outputs": [
    {
     "data": {
      "text/plain": [
       "((1, 6), (1, 6))"
      ]
     },
     "execution_count": 34,
     "metadata": {},
     "output_type": "execute_result"
    }
   ],
   "source": [
    "arr1.shape, arr2.shape"
   ]
  },
  {
   "cell_type": "markdown",
   "id": "64f163f7-6fbf-4c6b-867d-3c8a949bd380",
   "metadata": {},
   "source": [
    "### 3. Index & Slicing\n",
    "\n",
    "![](https://media.springernature.com/original/springer-static/image/chp%3A10.1007%2F978-1-4842-4246-9_2/MediaObjects/332789_2_En_2_Fig1_HTML.png)"
   ]
  },
  {
   "cell_type": "code",
   "execution_count": null,
   "id": "55567ab5-c647-4fc3-82ae-8565df47a4ee",
   "metadata": {},
   "outputs": [],
   "source": []
  },
  {
   "cell_type": "code",
   "execution_count": 20,
   "id": "c1c34840-0f23-40fc-a209-23790f7486db",
   "metadata": {},
   "outputs": [
    {
     "data": {
      "text/plain": [
       "array([[ 1.,  2.,  3.,  4.],\n",
       "       [ 5.,  6.,  7.,  8.],\n",
       "       [ 9., 10., 11., 12.],\n",
       "       [13., 14., 15., 16.]])"
      ]
     },
     "execution_count": 20,
     "metadata": {},
     "output_type": "execute_result"
    }
   ],
   "source": [
    "arr = np.linspace(1,16,16).reshape(4,4)\n",
    "arr"
   ]
  },
  {
   "cell_type": "code",
   "execution_count": 21,
   "id": "e6328bf8-5552-4f07-91b1-e70c805188bd",
   "metadata": {},
   "outputs": [
    {
     "data": {
      "text/plain": [
       "5.0"
      ]
     },
     "execution_count": 21,
     "metadata": {},
     "output_type": "execute_result"
    }
   ],
   "source": [
    "arr[1,0]"
   ]
  },
  {
   "cell_type": "code",
   "execution_count": 22,
   "id": "17536212-5ec1-4f4e-bf23-5b5cf3eac61e",
   "metadata": {},
   "outputs": [
    {
     "data": {
      "text/plain": [
       "15.0"
      ]
     },
     "execution_count": 22,
     "metadata": {},
     "output_type": "execute_result"
    }
   ],
   "source": [
    "arr[3,2]"
   ]
  },
  {
   "cell_type": "code",
   "execution_count": 23,
   "id": "5d3dd434-4916-46d2-9af3-c7be487e5de9",
   "metadata": {},
   "outputs": [
    {
     "data": {
      "text/plain": [
       "array([ 5., 15.])"
      ]
     },
     "execution_count": 23,
     "metadata": {},
     "output_type": "execute_result"
    }
   ],
   "source": [
    "arr[[1,3],[0,2]]"
   ]
  },
  {
   "cell_type": "code",
   "execution_count": 31,
   "id": "d7a69a3f-8a4a-4eeb-9e8d-7f43b8538bac",
   "metadata": {},
   "outputs": [
    {
     "data": {
      "text/plain": [
       "array([5., 6., 7., 8.])"
      ]
     },
     "execution_count": 31,
     "metadata": {},
     "output_type": "execute_result"
    }
   ],
   "source": [
    "arr[1]"
   ]
  },
  {
   "cell_type": "code",
   "execution_count": 32,
   "id": "d8bee8f4-c6b9-4eb0-844c-61659875c40a",
   "metadata": {},
   "outputs": [
    {
     "data": {
      "text/plain": [
       "array([5., 6., 7.])"
      ]
     },
     "execution_count": 32,
     "metadata": {},
     "output_type": "execute_result"
    }
   ],
   "source": [
    "arr[1,:3] #start:end #inclusive start - exclucsive end , luôn bao gồm index bắt đầu nhưng k bao gồm index kết thúc # giống list"
   ]
  },
  {
   "cell_type": "markdown",
   "id": "92327342-0d4b-4a8a-b788-86c6840e7851",
   "metadata": {},
   "source": [
    "hình 3: dấu ::\n",
    "`start index : end index : step ` -step là số khoảng cách \n",
    "hình 3: data (::2, ::2) - lấy index 0 (hàng)-->+2 lấy index 2, tương tự với cột => giao của hàng và cột lấy đk 4 ô (4 giá trị)"
   ]
  },
  {
   "cell_type": "markdown",
   "id": "8291aa51-b8d0-4ad1-8bc4-3aefd76d1077",
   "metadata": {},
   "source": [
    "#Index DL sử dụng True/False\n",
    "Gán giá trị True/False vào chiều không gian muốn lấy --> giá trị trả về sẽ là những giá trị xuất hiện tại iđểm True #Hình 7\n",
    "--> phù hợp với dữ liệu đa chiều or DL lớn"
   ]
  },
  {
   "cell_type": "markdown",
   "id": "00b430a4-46fb-4c94-a676-1a699d50f8fe",
   "metadata": {},
   "source": [
    "### 4. Tính toán với NumPy\n",
    "#### 4.1 Tính toán ma trận"
   ]
  },
  {
   "cell_type": "code",
   "execution_count": 33,
   "id": "46cd94f8-ed59-45d0-8113-5f664cd974f3",
   "metadata": {},
   "outputs": [],
   "source": [
    "arr1 = np.array([[1,2],\n",
    "                [2,3]])\n",
    "arr2 = np.array([[10,10],\n",
    "                [1,1]])"
   ]
  },
  {
   "cell_type": "code",
   "execution_count": 34,
   "id": "ca41375f-c5f9-4715-8893-9d5e50f6a9f2",
   "metadata": {},
   "outputs": [
    {
     "data": {
      "text/plain": [
       "array([[11, 12],\n",
       "       [ 3,  4]])"
      ]
     },
     "execution_count": 34,
     "metadata": {},
     "output_type": "execute_result"
    }
   ],
   "source": [
    "arr1 + arr2"
   ]
  },
  {
   "cell_type": "code",
   "execution_count": 35,
   "id": "b7e7a28d-606e-430d-adb0-45af52906f8d",
   "metadata": {},
   "outputs": [
    {
     "data": {
      "text/plain": [
       "array([[-9, -8],\n",
       "       [ 1,  2]])"
      ]
     },
     "execution_count": 35,
     "metadata": {},
     "output_type": "execute_result"
    }
   ],
   "source": [
    "arr1 - arr2"
   ]
  },
  {
   "cell_type": "code",
   "execution_count": 36,
   "id": "bfeaa660-be9d-493c-b860-f03fe99919a4",
   "metadata": {},
   "outputs": [
    {
     "data": {
      "text/plain": [
       "array([[10, 20],\n",
       "       [ 2,  3]])"
      ]
     },
     "execution_count": 36,
     "metadata": {},
     "output_type": "execute_result"
    }
   ],
   "source": [
    "arr1 * arr2"
   ]
  },
  {
   "cell_type": "code",
   "execution_count": 37,
   "id": "6b0d5c7d-59be-4cb4-9017-3373cdac3a49",
   "metadata": {},
   "outputs": [
    {
     "data": {
      "text/plain": [
       "array([[0.1, 0.2],\n",
       "       [2. , 3. ]])"
      ]
     },
     "execution_count": 37,
     "metadata": {},
     "output_type": "execute_result"
    }
   ],
   "source": [
    "arr1 / arr2"
   ]
  },
  {
   "cell_type": "code",
   "execution_count": 39,
   "id": "bbe5c518-daf4-4375-a00f-94e8e5f9d7cb",
   "metadata": {},
   "outputs": [
    {
     "data": {
      "text/plain": [
       "array([[12, 12],\n",
       "       [23, 23]])"
      ]
     },
     "execution_count": 39,
     "metadata": {},
     "output_type": "execute_result"
    }
   ],
   "source": [
    " arr1 @ arr2 #element-wise vs matrix multiplication - nhân ma trận"
   ]
  },
  {
   "cell_type": "markdown",
   "id": "7e128aea-f6d9-4824-8b90-7925b69e9927",
   "metadata": {},
   "source": [
    "#### 4.2 Xác xuất thông kê"
   ]
  },
  {
   "cell_type": "markdown",
   "id": "64dfa1d9-624c-4ead-acbf-8042c1097c6f",
   "metadata": {},
   "source": [
    "NumPy hỗ trợ 1 số hàm cơ bản để ta tính toán thống kê dữ liệu bao gồm:\n",
    "- `mean : trung bình `, `median: trung vị`\n",
    "- `min: gtri nhỏ nhất`, `max: giá trị lớn nhất`\n",
    "- `std: phương sai`\n",
    "- `count_nonzero: đếm các gtri khác 0`, `unique: đếm số phần tử riêng biệt trong array `"
   ]
  },
  {
   "cell_type": "code",
   "execution_count": 40,
   "id": "04a53fe9-1924-4e2e-84e6-8b35bcd59fba",
   "metadata": {},
   "outputs": [
    {
     "data": {
      "text/plain": [
       "array([[ 1,  2,  3,  4],\n",
       "       [ 5,  6,  7,  8],\n",
       "       [ 9, 10, 11, 12]])"
      ]
     },
     "execution_count": 40,
     "metadata": {},
     "output_type": "execute_result"
    }
   ],
   "source": [
    "arr = np.linspace(1,12,12,dtype='int').reshape(3,4)\n",
    "arr"
   ]
  },
  {
   "cell_type": "code",
   "execution_count": 41,
   "id": "c80b48a8-effc-47bc-ab0b-a4d475f2feb6",
   "metadata": {},
   "outputs": [
    {
     "data": {
      "text/plain": [
       "6.5"
      ]
     },
     "execution_count": 41,
     "metadata": {},
     "output_type": "execute_result"
    }
   ],
   "source": [
    "np.mean(arr) #lấy giá trị tịnh tiến từ 1-12 nên mean và median giống nhau"
   ]
  },
  {
   "cell_type": "code",
   "execution_count": 42,
   "id": "37276acf-f0c6-49f1-90f5-f5947d7b7f99",
   "metadata": {},
   "outputs": [
    {
     "data": {
      "text/plain": [
       "6.5"
      ]
     },
     "execution_count": 42,
     "metadata": {},
     "output_type": "execute_result"
    }
   ],
   "source": [
    "np.median(arr)"
   ]
  },
  {
   "cell_type": "code",
   "execution_count": 43,
   "id": "19c21038-28b4-4ccc-9645-56b71335d2e9",
   "metadata": {},
   "outputs": [
    {
     "data": {
      "text/plain": [
       "12"
      ]
     },
     "execution_count": 43,
     "metadata": {},
     "output_type": "execute_result"
    }
   ],
   "source": [
    "np.max(arr)"
   ]
  },
  {
   "cell_type": "code",
   "execution_count": 44,
   "id": "d18bf0a0-0674-4ae3-9c39-de7414721875",
   "metadata": {},
   "outputs": [
    {
     "data": {
      "text/plain": [
       "1"
      ]
     },
     "execution_count": 44,
     "metadata": {},
     "output_type": "execute_result"
    }
   ],
   "source": [
    "np.min(arr)"
   ]
  },
  {
   "cell_type": "code",
   "execution_count": 45,
   "id": "8e9bd9d0-9881-43ca-81a5-984a7cf69720",
   "metadata": {},
   "outputs": [
    {
     "data": {
      "text/plain": [
       "3.452052529534663"
      ]
     },
     "execution_count": 45,
     "metadata": {},
     "output_type": "execute_result"
    }
   ],
   "source": [
    "np.std(arr)"
   ]
  },
  {
   "cell_type": "code",
   "execution_count": 46,
   "id": "784b64b3-9f66-4268-b6c1-2516375e1e94",
   "metadata": {},
   "outputs": [
    {
     "data": {
      "text/plain": [
       "12"
      ]
     },
     "execution_count": 46,
     "metadata": {},
     "output_type": "execute_result"
    }
   ],
   "source": [
    "np.count_nonzero(arr)"
   ]
  },
  {
   "cell_type": "code",
   "execution_count": 47,
   "id": "5903d891-f424-4e9b-abbf-ecc49cd13df3",
   "metadata": {},
   "outputs": [
    {
     "data": {
      "text/plain": [
       "array([ 1,  2,  3,  4,  5,  6,  7,  8,  9, 10, 11, 12])"
      ]
     },
     "execution_count": 47,
     "metadata": {},
     "output_type": "execute_result"
    }
   ],
   "source": [
    "np.unique(arr)"
   ]
  },
  {
   "cell_type": "code",
   "execution_count": 48,
   "id": "743e0d0e-f41c-48cc-8c7b-ed667050ae9b",
   "metadata": {},
   "outputs": [
    {
     "data": {
      "text/plain": [
       "(array([ 1,  2,  3,  4,  5,  6,  7,  8,  9, 10, 11, 12]),\n",
       " array([1, 1, 1, 1, 1, 1, 1, 1, 1, 1, 1, 1], dtype=int64))"
      ]
     },
     "execution_count": 48,
     "metadata": {},
     "output_type": "execute_result"
    }
   ],
   "source": [
    "np.unique(arr, return_counts = True) # tần suất xuất hiện của mỗi phân tử unique"
   ]
  },
  {
   "cell_type": "markdown",
   "id": "45dfe9b6-b181-491d-8fbe-430915b0789c",
   "metadata": {},
   "source": [
    "Ngoài ra, ta có thể tận dùng hàm `where()` của NumPy như một phương pháp vector hóa để viết các câu lệnh if-else."
   ]
  },
  {
   "cell_type": "markdown",
   "id": "65bdd71a-7581-41ba-87e9-01cbb5f6edfb",
   "metadata": {},
   "source": [
    "`np.where (conditional, true - business logic, false - business logic)`"
   ]
  },
  {
   "cell_type": "code",
   "execution_count": 49,
   "id": "bcbf5985-b9c8-4552-afd8-b29c54de6fa9",
   "metadata": {},
   "outputs": [
    {
     "data": {
      "text/plain": [
       "array([ 0,  1,  2,  3,  4, 50, 60, 70, 80, 90])"
      ]
     },
     "execution_count": 49,
     "metadata": {},
     "output_type": "execute_result"
    }
   ],
   "source": [
    "arr = np.arange(10)\n",
    "np.where(arr < 5, arr, 10*arr)"
   ]
  },
  {
   "cell_type": "code",
   "execution_count": 50,
   "id": "bb9414a0-ee4a-4bef-b7ba-6f2877687b9a",
   "metadata": {},
   "outputs": [
    {
     "data": {
      "text/plain": [
       "array(['<5', '<5', '<5', '<5', '<5', '>=5', '>=5', '>=5', '>=5', '>=5'],\n",
       "      dtype='<U3')"
      ]
     },
     "execution_count": 50,
     "metadata": {},
     "output_type": "execute_result"
    }
   ],
   "source": [
    "np.where(arr < 5, '<5', '>=5')"
   ]
  },
  {
   "cell_type": "code",
   "execution_count": 51,
   "id": "c2b2a649-f12a-42e4-ab00-e38f86a33225",
   "metadata": {},
   "outputs": [
    {
     "data": {
      "text/plain": [
       "array(['<5', '<5', '<5', '<5', '<5', '=5', '>5', '>5', '>5', '>5'],\n",
       "      dtype='<U2')"
      ]
     },
     "execution_count": 51,
     "metadata": {},
     "output_type": "execute_result"
    }
   ],
   "source": [
    "np.where(arr < 5, '<5', np.where(arr == 5, '=5', '>5'))"
   ]
  },
  {
   "cell_type": "markdown",
   "id": "e678238d-e29c-4052-910b-cb2623bf0637",
   "metadata": {},
   "source": [
    "Trong bài học tiếp theo, chúng ta sẽ cùng nhau tìm hiểu về Pandas, 1 thư viện hỗ trợ mạnh mẽ xử lí và phân tích dữ liệu có cấu trúc."
   ]
  },
  {
   "cell_type": "markdown",
   "id": "5a4174fc-016f-4a63-96f5-65eebd24cfed",
   "metadata": {},
   "source": [
    "**Fun facts**"
   ]
  },
  {
   "cell_type": "code",
   "execution_count": 25,
   "id": "6b8f9ab0-b199-4446-aa81-4d945f0cc9d8",
   "metadata": {},
   "outputs": [],
   "source": [
    "import warnings\n",
    "warnings.filterwarnings(\"ignore\")\n",
    "import matplotlib.pyplot as plt\n",
    "import numpy as np\n",
    "url = \"https://static.wikia.nocookie.net/creamheroes/images/0/00/LuLu.png\"\n",
    "img = plt.imread(url)"
   ]
  },
  {
   "cell_type": "code",
   "execution_count": 26,
   "id": "d0dab610-c17b-4c7c-bd3d-a643d73a7be9",
   "metadata": {
    "tags": []
   },
   "outputs": [
    {
     "data": {
      "image/png": "[encoded data removed]",
      "text/plain": [
       "<Figure size 432x288 with 1 Axes>"
      ]
     },
     "metadata": {
      "needs_background": "light"
     },
     "output_type": "display_data"
    }
   ],
   "source": [
    "plt.imshow(img)\n",
    "plt.show()"
   ]
  },
  {
   "cell_type": "code",
   "execution_count": 30,
   "id": "66af4942-759d-4404-9133-4589dbc90cc8",
   "metadata": {},
   "outputs": [
    {
     "data": {
      "image/png": "[encoded data removed]",
      "text/plain": [
       "<Figure size 432x288 with 1 Axes>"
      ]
     },
     "metadata": {
      "needs_background": "light"
     },
     "output_type": "display_data"
    }
   ],
   "source": [
    "plt.imshow(np.rot90(img))\n",
    "plt.show()"
   ]
  },
  {
   "cell_type": "code",
   "execution_count": 21,
   "id": "f240aeb1-986e-4afc-bc1a-f8eb775969e1",
   "metadata": {},
   "outputs": [
    {
     "name": "stdout",
     "output_type": "stream",
     "text": [
      "5.71 µs ± 43.7 ns per loop (mean ± std. dev. of 7 runs, 100000 loops each)\n"
     ]
    }
   ],
   "source": [
    "%%timeit\n",
    "np.rot90(img)"
   ]
  },
  {
   "cell_type": "code",
   "execution_count": null,
   "id": "016207fa-b8e9-405c-bc42-cb0fc48a52e0",
   "metadata": {},
   "outputs": [],
   "source": []
  }
 ],
 "metadata": {
  "kernelspec": {
   "display_name": "Python 3 (ipykernel)",
   "language": "python",
   "name": "python3"
  },
  "language_info": {
   "codemirror_mode": {
    "name": "ipython",
    "version": 3
   },
   "file_extension": ".py",
   "mimetype": "text/x-python",
   "name": "python",
   "nbconvert_exporter": "python",
   "pygments_lexer": "ipython3",
   "version": "3.8.11"
  }
 },
 "nbformat": 4,
 "nbformat_minor": 5
}
