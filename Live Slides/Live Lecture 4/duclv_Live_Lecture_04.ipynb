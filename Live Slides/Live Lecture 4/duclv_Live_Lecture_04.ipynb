{
 "cells": [
  {
   "cell_type": "markdown",
   "id": "1b2780d7-904c-4377-9f96-5e33eb134746",
   "metadata": {},
   "source": [
    "# Bài 4: Giới thiệu về NumPy"
   ]
  },
  {
   "cell_type": "markdown",
   "id": "c6596c8e-23ff-4675-9ec2-11ac3e94a7fc",
   "metadata": {},
   "source": [
    "![](https://upload.wikimedia.org/wikipedia/commons/thumb/3/31/NumPy_logo_2020.svg/1200px-NumPy_logo_2020.svg.png)"
   ]
  },
  {
   "cell_type": "markdown",
   "id": "93a6f13e-cf5e-4412-ad72-9ac2737d2090",
   "metadata": {},
   "source": [
    "## I. GIỚI THIỆU"
   ]
  },
  {
   "cell_type": "markdown",
   "id": "4c499fb2-7908-44af-9d51-b40e2d54d631",
   "metadata": {},
   "source": [
    "### 1. Numpy là gì? "
   ]
  },
  {
   "cell_type": "markdown",
   "id": "9bbe4ae1-55fc-456f-8eec-efba39553497",
   "metadata": {},
   "source": [
    "`NumPy = multidimensional array +  matrix data structures`"
   ]
  },
  {
   "cell_type": "markdown",
   "id": "e587ef23-8b52-468e-8b33-d87bf6d1a498",
   "metadata": {},
   "source": [
    "### 2. Cài đặt"
   ]
  },
  {
   "cell_type": "markdown",
   "id": "fea3290e-93f2-439d-9780-7e9aa50ea878",
   "metadata": {},
   "source": [
    "Trên terminal (MacOS/Ubuntu) hoặc Anaconda Prompt (Windows):\n",
    "- Cách 1: `conda create -n hanh python=3.7 numpy`\n",
    "- Cách 2: 1 trong 2 câu lệnh sau:\n",
    "    - `conda install numpy` \n",
    "    -  `pip install numpy`\n",
    "\n",
    "Ngoài ra, ta cũng có thể cài đặt thư viện thẳng trong notebook bằng 1 trong 2 câu lệnh sau:\n",
    "   - `!conda install numpy`\n",
    "   - `!pip instal numpy`\n",
    "    \n",
    "Để tìm hiểu xem `conda` và `pip` khác nhau như thế nào, các bạn có thể tham khảo tại [đây](https://www.anaconda.com/blog/understanding-conda-and-pip)."
   ]
  },
  {
   "cell_type": "markdown",
   "id": "3534b2e8-4edd-43ec-88f3-99291144c988",
   "metadata": {},
   "source": [
    "### 3. Import thư viện"
   ]
  },
  {
   "cell_type": "markdown",
   "id": "1c8406aa-ba50-4204-8c46-b493fa43afcf",
   "metadata": {},
   "source": [
    "`import numpy as np`"
   ]
  },
  {
   "cell_type": "code",
   "execution_count": null,
   "id": "c3a26b5c-939f-4d63-ab1f-7aa63acd98d5",
   "metadata": {},
   "outputs": [],
   "source": []
  },
  {
   "cell_type": "markdown",
   "id": "34a8541f-caf8-470e-b4c3-85db9ac5af13",
   "metadata": {},
   "source": [
    "### 4. Vì sao nên sử dụng NumPy? -> FAST + MEMORY EFFICENCY!"
   ]
  },
  {
   "cell_type": "markdown",
   "id": "978b2af1-6df0-4bf8-a529-8abaeec841e7",
   "metadata": {},
   "source": [
    "- **Vectorization**:"
   ]
  },
  {
   "cell_type": "code",
   "execution_count": null,
   "id": "bd0f1af5-41d0-436e-9055-9311d6a56d37",
   "metadata": {},
   "outputs": [],
   "source": []
  },
  {
   "cell_type": "markdown",
   "id": "0e5912f0-a2d6-47c4-b1b5-5bc406a68aee",
   "metadata": {},
   "source": [
    "- **Broadcasting**:\n",
    "![](https://i.stack.imgur.com/JcKv1.png)\n",
    "*Reference*: [What is Numpy?](https://numpy.org/doc/stable/user/whatisnumpy.html#whatisnumpy)"
   ]
  },
  {
   "cell_type": "markdown",
   "id": "c8536d1a-ba81-4bd7-bc1b-deb0dd7ef396",
   "metadata": {},
   "source": [
    "## II. THỰC HÀNH CÁC HÀM CƠ BẢN TRONG NUMPY"
   ]
  },
  {
   "cell_type": "markdown",
   "id": "0504d1b3-ede4-4e34-a581-e36322c6e8b6",
   "metadata": {},
   "source": [
    "### 0. Ôn tập kiến thức về mảng đa chiều"
   ]
  },
  {
   "cell_type": "markdown",
   "id": "f1545612-7ba7-4343-b3fd-56a6b01aac89",
   "metadata": {},
   "source": [
    "![](https://fgnt.github.io/python_crashkurs_doc/_images/numpy_array_t.png)"
   ]
  },
  {
   "cell_type": "markdown",
   "id": "3232b1a4-2bbc-408f-8ab4-8ee64d0194fc",
   "metadata": {},
   "source": [
    "![](https://www.kdnuggets.com/wp-content/uploads/scalar-vector-matrix-tensor.jpg)"
   ]
  },
  {
   "cell_type": "markdown",
   "id": "37d3ac34-f577-4731-8b98-eafca1710c02",
   "metadata": {},
   "source": [
    "### 1. Tạo 1 mảng (Create an array)\n",
    "#### 1.1 Tạo 1 mảng 1 chiều"
   ]
  },
  {
   "cell_type": "markdown",
   "id": "d85d93ee-54d8-4880-a0cd-04d33b26ecee",
   "metadata": {},
   "source": [
    "Để tạo ra 1 NumPy `array`, ta có thể tận dụng hàm `np.array()` và truyền một list cho nó. "
   ]
  },
  {
   "cell_type": "code",
   "execution_count": null,
   "id": "c1547656-09a0-4a6b-a8c7-0a3e3e149e4a",
   "metadata": {},
   "outputs": [],
   "source": []
  },
  {
   "cell_type": "code",
   "execution_count": null,
   "id": "405108ce-8cc8-44a6-9f4e-9e3f2d8d7cee",
   "metadata": {},
   "outputs": [],
   "source": []
  },
  {
   "cell_type": "markdown",
   "id": "85d59470-84bd-464e-9568-efa791282e6c",
   "metadata": {},
   "source": [
    "Tham khảo mã nguồn xây dựng nên thư viện này tại [NumPy github](https://github.com/numpy/numpy)."
   ]
  },
  {
   "cell_type": "markdown",
   "id": "716348d1-fabe-4985-92f3-66bcbd19997b",
   "metadata": {},
   "source": [
    "**Đố vui: Array khác list ở chỗ nào?**"
   ]
  },
  {
   "cell_type": "code",
   "execution_count": null,
   "id": "dc860900-587b-4168-9ccb-13cb89de9994",
   "metadata": {},
   "outputs": [],
   "source": []
  },
  {
   "cell_type": "markdown",
   "id": "c3bdfff8-324b-44c1-87f8-996d494aaa28",
   "metadata": {},
   "source": [
    "Kiểm tra chiều dữ liệu:"
   ]
  },
  {
   "cell_type": "code",
   "execution_count": null,
   "id": "1e5c430f-53f1-4110-b195-f4a5c44b7c87",
   "metadata": {},
   "outputs": [],
   "source": []
  },
  {
   "cell_type": "markdown",
   "id": "90d84b41-14f5-4fbf-96f9-bd8770f6afb3",
   "metadata": {},
   "source": [
    "#### 1.2 Tạo 1 mảng đa chiều\n",
    "Chúng ta cũng có thể tạo một mảng hai chiều từ một list các list."
   ]
  },
  {
   "cell_type": "code",
   "execution_count": null,
   "id": "ac70a5b6-323e-4fca-bd57-0f4e3e70f14b",
   "metadata": {},
   "outputs": [],
   "source": []
  },
  {
   "cell_type": "markdown",
   "id": "ecac51f2-f218-493f-9aa5-2f57ae03ec9d",
   "metadata": {},
   "source": [
    "#### 1.3 Một số hàm có sẵn hỗ trợ tạo mảng\n",
    "Ngoài `np.array()`, ta có thể tạo 1 số array đặc thù với `np.zeros()`, `np.ones()`, `np.arange()`,`np.linspace()`"
   ]
  },
  {
   "cell_type": "markdown",
   "id": "32d2a34f-8ae4-4261-8cbc-e06422cddceb",
   "metadata": {},
   "source": [
    "|Hàm|Ý nghĩa|\n",
    "|-|-|\n",
    "|`np.zeros()`|1 mảng chứa các giá trị 0|\n",
    "|`np.ones()`|1 mảng chứa các giá trị 1|\n",
    "|`np.full()`|1 mảng chứa các giá trị được gán theo `fill_value`|\n",
    "|`np.arange()`|1 mảng chứa khoảng giá trị có khoảng cách đều nhau|\n",
    "|`np.linspace`|1 mảng các giá trị có khoảng cách tuyến tính với nhau|"
   ]
  },
  {
   "cell_type": "code",
   "execution_count": null,
   "id": "4479fec0-23a7-432f-8624-f012622c2c2e",
   "metadata": {},
   "outputs": [],
   "source": []
  },
  {
   "cell_type": "markdown",
   "id": "03ae09c9-ab95-47be-8c0f-3c6b6bdeacd7",
   "metadata": {},
   "source": [
    "#### 1.4 Tạo mảng ngẫu nhiên"
   ]
  },
  {
   "cell_type": "markdown",
   "id": "ebbc69bc-c429-4bb7-8f96-eb5d959ff2ff",
   "metadata": {},
   "source": [
    "Trong NumPy, hàm `np.random` lấy ***ngẫu nhiên*** các giá trị trong 1 phân phối có ***quy luật***. "
   ]
  },
  {
   "cell_type": "code",
   "execution_count": null,
   "id": "4e8e7d52-6d2d-4e67-aa50-0bda02061fc2",
   "metadata": {},
   "outputs": [],
   "source": []
  },
  {
   "cell_type": "markdown",
   "id": "cc49af9a-7d33-4c41-af5e-53b6bfb1c084",
   "metadata": {},
   "source": [
    "Trong hàm `np.random`, chúng ta có 2 hàm con là `np.random.random()` và `np.random.normal()` tương ứng với 2 kiểu phân phối chúng ta đã quen thuộc khi học về xác suất thông kê, đó là:\n",
    "\n",
    "- **Phân phối đồng nhất (Uniform Distribution)**\n",
    "- **Phân phối chuẩn/ Phân phối hình chuông (Normal Distribution)** "
   ]
  },
  {
   "cell_type": "code",
   "execution_count": null,
   "id": "969a2a9b-986a-4fc3-ad2e-1354e72ac147",
   "metadata": {},
   "outputs": [],
   "source": []
  },
  {
   "cell_type": "markdown",
   "id": "72717e31-66af-45bd-9249-10a71701a72d",
   "metadata": {},
   "source": [
    "**Câu hỏi**: Vì sao hình trên không theo phân phối chuẩn?"
   ]
  },
  {
   "cell_type": "code",
   "execution_count": null,
   "id": "0e79a924-42f4-41b9-b01f-5f58edcfb091",
   "metadata": {},
   "outputs": [],
   "source": []
  },
  {
   "cell_type": "markdown",
   "id": "1102d91f-6402-430c-aec5-33019d02afac",
   "metadata": {},
   "source": [
    "#### 1.5 Lưu và tải mảng "
   ]
  },
  {
   "cell_type": "code",
   "execution_count": null,
   "id": "4616d421-2cd1-41bd-bd6e-2db1c5372988",
   "metadata": {},
   "outputs": [],
   "source": []
  },
  {
   "cell_type": "markdown",
   "id": "c074aa10-9925-47cc-9512-40aa54e0d279",
   "metadata": {},
   "source": [
    "### 2. Đổi chiều array "
   ]
  },
  {
   "cell_type": "markdown",
   "id": "0f7686ff-6d0b-42ba-b6c9-e0b765e2e554",
   "metadata": {},
   "source": [
    "Ta có thể sử dụng `np.newaxis` và `np.expand_dims` để tăng kích thước của mảng hiện có của bạn."
   ]
  },
  {
   "cell_type": "code",
   "execution_count": null,
   "id": "b614210f-09a2-4abb-bd39-652915360a6f",
   "metadata": {},
   "outputs": [],
   "source": []
  },
  {
   "cell_type": "markdown",
   "id": "64f163f7-6fbf-4c6b-867d-3c8a949bd380",
   "metadata": {},
   "source": [
    "### 3. Index & Slicing\n",
    "\n",
    "![](https://media.springernature.com/original/springer-static/image/chp%3A10.1007%2F978-1-4842-4246-9_2/MediaObjects/332789_2_En_2_Fig1_HTML.png)"
   ]
  },
  {
   "cell_type": "code",
   "execution_count": null,
   "id": "c1c34840-0f23-40fc-a209-23790f7486db",
   "metadata": {},
   "outputs": [],
   "source": []
  },
  {
   "cell_type": "markdown",
   "id": "00b430a4-46fb-4c94-a676-1a699d50f8fe",
   "metadata": {},
   "source": [
    "### 4. Tính toán với NumPy\n",
    "#### 4.1 Tính toán ma trận"
   ]
  },
  {
   "cell_type": "code",
   "execution_count": null,
   "id": "46cd94f8-ed59-45d0-8113-5f664cd974f3",
   "metadata": {},
   "outputs": [],
   "source": []
  },
  {
   "cell_type": "markdown",
   "id": "7e128aea-f6d9-4824-8b90-7925b69e9927",
   "metadata": {},
   "source": [
    "#### 4.2 Xác xuất thông kê"
   ]
  },
  {
   "cell_type": "markdown",
   "id": "64dfa1d9-624c-4ead-acbf-8042c1097c6f",
   "metadata": {},
   "source": [
    "NumPy hỗ trợ 1 số hàm cơ bản để ta tính toán thống kê dữ liệu bao gồm:\n",
    "- `mean`, `median`\n",
    "- `min`, `max`\n",
    "- `std`\n",
    "- `count_nonzero`, `unique`"
   ]
  },
  {
   "cell_type": "code",
   "execution_count": null,
   "id": "04a53fe9-1924-4e2e-84e6-8b35bcd59fba",
   "metadata": {},
   "outputs": [],
   "source": []
  },
  {
   "cell_type": "markdown",
   "id": "45dfe9b6-b181-491d-8fbe-430915b0789c",
   "metadata": {},
   "source": [
    "Ngoài ra, ta có thể tận dùng hàm `where()` của NumPy như một phương pháp vector hóa để viết các câu lệnh if-else."
   ]
  },
  {
   "cell_type": "code",
   "execution_count": null,
   "id": "bcbf5985-b9c8-4552-afd8-b29c54de6fa9",
   "metadata": {},
   "outputs": [],
   "source": []
  },
  {
   "cell_type": "markdown",
   "id": "e678238d-e29c-4052-910b-cb2623bf0637",
   "metadata": {},
   "source": [
    "Trong bài học tiếp theo, chúng ta sẽ cùng nhau tìm hiểu về Pandas, 1 thư viện hỗ trợ mạnh mẽ xử lí và phân tích dữ liệu có cấu trúc."
   ]
  }
 ],
 "metadata": {
  "kernelspec": {
   "display_name": "Python 3",
   "language": "python",
   "name": "python3"
  },
  "language_info": {
   "codemirror_mode": {
    "name": "ipython",
    "version": 3
   },
   "file_extension": ".py",
   "mimetype": "text/x-python",
   "name": "python",
   "nbconvert_exporter": "python",
   "pygments_lexer": "ipython3",
   "version": "3.8.11"
  }
 },
 "nbformat": 4,
 "nbformat_minor": 5
}
