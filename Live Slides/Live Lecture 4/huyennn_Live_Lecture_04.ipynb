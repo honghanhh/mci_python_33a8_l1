{
 "cells": [
  {
   "cell_type": "markdown",
   "id": "1b2780d7-904c-4377-9f96-5e33eb134746",
   "metadata": {},
   "source": [
    "# Bài 4: Giới thiệu về NumPy"
   ]
  },
  {
   "cell_type": "markdown",
   "id": "c6596c8e-23ff-4675-9ec2-11ac3e94a7fc",
   "metadata": {},
   "source": [
    "![](https://upload.wikimedia.org/wikipedia/commons/thumb/3/31/NumPy_logo_2020.svg/1200px-NumPy_logo_2020.svg.png)"
   ]
  },
  {
   "cell_type": "markdown",
   "id": "93a6f13e-cf5e-4412-ad72-9ac2737d2090",
   "metadata": {},
   "source": [
    "## I. GIỚI THIỆU"
   ]
  },
  {
   "cell_type": "markdown",
   "id": "4c499fb2-7908-44af-9d51-b40e2d54d631",
   "metadata": {},
   "source": [
    "### 1. Numpy là gì? "
   ]
  },
  {
   "cell_type": "markdown",
   "id": "9bbe4ae1-55fc-456f-8eec-efba39553497",
   "metadata": {},
   "source": [
    "`NumPy = multidimensional array +  matrix data structures`"
   ]
  },
  {
   "cell_type": "markdown",
   "id": "e587ef23-8b52-468e-8b33-d87bf6d1a498",
   "metadata": {},
   "source": [
    "### 2. Cài đặt"
   ]
  },
  {
   "cell_type": "markdown",
   "id": "fea3290e-93f2-439d-9780-7e9aa50ea878",
   "metadata": {},
   "source": [
    "Trên terminal (MacOS/Ubuntu) hoặc Anaconda Prompt (Windows):\n",
    "- Cách 1: `conda create -n hanh python=3.7 numpy`\n",
    "- Cách 2: 1 trong 2 câu lệnh sau:\n",
    "    - `conda install numpy` \n",
    "    -  `pip install numpy`\n",
    "\n",
    "Ngoài ra, ta cũng có thể cài đặt thư viện thẳng trong notebook bằng 1 trong 2 câu lệnh sau:\n",
    "   - `!conda install numpy`\n",
    "   - `!pip instal numpy`\n",
    "    \n",
    "Để tìm hiểu xem `conda` và `pip` khác nhau như thế nào, các bạn có thể tham khảo tại [đây](https://www.anaconda.com/blog/understanding-conda-and-pip)."
   ]
  },
  {
   "cell_type": "markdown",
   "id": "3534b2e8-4edd-43ec-88f3-99291144c988",
   "metadata": {},
   "source": [
    "### 3. Import thư viện"
   ]
  },
  {
   "cell_type": "markdown",
   "id": "1c8406aa-ba50-4204-8c46-b493fa43afcf",
   "metadata": {},
   "source": [
    "`import numpy as np`"
   ]
  },
  {
   "cell_type": "code",
   "execution_count": 1,
   "id": "c3a26b5c-939f-4d63-ab1f-7aa63acd98d5",
   "metadata": {},
   "outputs": [],
   "source": [
    "import numpy as np"
   ]
  },
  {
   "cell_type": "markdown",
   "id": "34a8541f-caf8-470e-b4c3-85db9ac5af13",
   "metadata": {},
   "source": [
    "### 4. Vì sao nên sử dụng NumPy? -> FAST + MEMORY EFFICENCY!"
   ]
  },
  {
   "cell_type": "markdown",
   "id": "978b2af1-6df0-4bf8-a529-8abaeec841e7",
   "metadata": {},
   "source": [
    "- **Vectorization**:"
   ]
  },
  {
   "cell_type": "code",
   "execution_count": 2,
   "id": "bd0f1af5-41d0-436e-9055-9311d6a56d37",
   "metadata": {},
   "outputs": [
    {
     "data": {
      "text/plain": [
       "[1, 2, 3, 4, 5, 6]"
      ]
     },
     "execution_count": 2,
     "metadata": {},
     "output_type": "execute_result"
    }
   ],
   "source": [
    "# Các dữ liệu trong array đều phải cùng kiểu dữ liệu\n",
    "[1,2,3] + [4,5,6]"
   ]
  },
  {
   "cell_type": "code",
   "execution_count": 3,
   "id": "2595ac1e-d2a6-4a92-9ed3-a08a5eaee170",
   "metadata": {},
   "outputs": [
    {
     "data": {
      "text/plain": [
       "array([5, 7, 9])"
      ]
     },
     "execution_count": 3,
     "metadata": {},
     "output_type": "execute_result"
    }
   ],
   "source": [
    "np.array([1,2,3])+np.array([4,5,6])"
   ]
  },
  {
   "cell_type": "markdown",
   "id": "0e5912f0-a2d6-47c4-b1b5-5bc406a68aee",
   "metadata": {},
   "source": [
    "- **Broadcasting**:\n",
    "![](https://i.stack.imgur.com/JcKv1.png)\n",
    "*Reference*: [What is Numpy?](https://numpy.org/doc/stable/user/whatisnumpy.html#whatisnumpy)"
   ]
  },
  {
   "cell_type": "markdown",
   "id": "c8536d1a-ba81-4bd7-bc1b-deb0dd7ef396",
   "metadata": {},
   "source": [
    "## II. THỰC HÀNH CÁC HÀM CƠ BẢN TRONG NUMPY"
   ]
  },
  {
   "cell_type": "markdown",
   "id": "0504d1b3-ede4-4e34-a581-e36322c6e8b6",
   "metadata": {},
   "source": [
    "### 0. Ôn tập kiến thức về mảng đa chiều"
   ]
  },
  {
   "cell_type": "markdown",
   "id": "f1545612-7ba7-4343-b3fd-56a6b01aac89",
   "metadata": {},
   "source": [
    "![](https://fgnt.github.io/python_crashkurs_doc/_images/numpy_array_t.png)"
   ]
  },
  {
   "cell_type": "markdown",
   "id": "3232b1a4-2bbc-408f-8ab4-8ee64d0194fc",
   "metadata": {},
   "source": [
    "![](https://www.kdnuggets.com/wp-content/uploads/scalar-vector-matrix-tensor.jpg)"
   ]
  },
  {
   "cell_type": "markdown",
   "id": "37d3ac34-f577-4731-8b98-eafca1710c02",
   "metadata": {},
   "source": [
    "### 1. Tạo 1 mảng (Create an array)\n",
    "#### 1.1 Tạo 1 mảng 1 chiều"
   ]
  },
  {
   "cell_type": "markdown",
   "id": "d85d93ee-54d8-4880-a0cd-04d33b26ecee",
   "metadata": {},
   "source": [
    "Để tạo ra 1 NumPy `array`, ta có thể tận dụng hàm `np.array()` và truyền một list cho nó. "
   ]
  },
  {
   "cell_type": "code",
   "execution_count": 4,
   "id": "c1547656-09a0-4a6b-a8c7-0a3e3e149e4a",
   "metadata": {},
   "outputs": [
    {
     "data": {
      "text/plain": [
       "array([1, 2, 3])"
      ]
     },
     "execution_count": 4,
     "metadata": {},
     "output_type": "execute_result"
    }
   ],
   "source": [
    "arr = np.array([1,2,3])\n",
    "arr"
   ]
  },
  {
   "cell_type": "code",
   "execution_count": 5,
   "id": "405108ce-8cc8-44a6-9f4e-9e3f2d8d7cee",
   "metadata": {},
   "outputs": [
    {
     "data": {
      "text/plain": [
       "numpy.ndarray"
      ]
     },
     "execution_count": 5,
     "metadata": {},
     "output_type": "execute_result"
    }
   ],
   "source": [
    "type(arr)"
   ]
  },
  {
   "cell_type": "markdown",
   "id": "85d59470-84bd-464e-9568-efa791282e6c",
   "metadata": {},
   "source": [
    "Tham khảo mã nguồn xây dựng nên thư viện này tại [NumPy github](https://github.com/numpy/numpy)."
   ]
  },
  {
   "cell_type": "markdown",
   "id": "716348d1-fabe-4985-92f3-66bcbd19997b",
   "metadata": {},
   "source": [
    "**Đố vui: Array khác list ở chỗ nào?**"
   ]
  },
  {
   "cell_type": "code",
   "execution_count": 6,
   "id": "dc860900-587b-4168-9ccb-13cb89de9994",
   "metadata": {},
   "outputs": [
    {
     "data": {
      "text/plain": [
       "(numpy.str_, numpy.str_, numpy.str_)"
      ]
     },
     "execution_count": 6,
     "metadata": {},
     "output_type": "execute_result"
    }
   ],
   "source": [
    "arr = np.array([1,3.14,'mci'])\n",
    "type(arr[0]), type(arr[1]), type(arr[2])"
   ]
  },
  {
   "cell_type": "markdown",
   "id": "c3bdfff8-324b-44c1-87f8-996d494aaa28",
   "metadata": {},
   "source": [
    "Kiểm tra chiều dữ liệu:"
   ]
  },
  {
   "cell_type": "code",
   "execution_count": 7,
   "id": "1e5c430f-53f1-4110-b195-f4a5c44b7c87",
   "metadata": {},
   "outputs": [
    {
     "data": {
      "text/plain": [
       "((3,), 1)"
      ]
     },
     "execution_count": 7,
     "metadata": {},
     "output_type": "execute_result"
    }
   ],
   "source": [
    "arr.shape, arr.ndim"
   ]
  },
  {
   "cell_type": "markdown",
   "id": "90d84b41-14f5-4fbf-96f9-bd8770f6afb3",
   "metadata": {},
   "source": [
    "#### 1.2 Tạo 1 mảng đa chiều\n",
    "Chúng ta cũng có thể tạo một mảng hai chiều từ một list các list."
   ]
  },
  {
   "cell_type": "code",
   "execution_count": 8,
   "id": "ac70a5b6-323e-4fca-bd57-0f4e3e70f14b",
   "metadata": {},
   "outputs": [
    {
     "data": {
      "text/plain": [
       "array([[1, 2, 3],\n",
       "       [4, 5, 6]])"
      ]
     },
     "execution_count": 8,
     "metadata": {},
     "output_type": "execute_result"
    }
   ],
   "source": [
    "arr_2d = np.array([[1,2,3],\n",
    "                   [4,5,6]]) \n",
    "arr_2d"
   ]
  },
  {
   "cell_type": "markdown",
   "id": "ecac51f2-f218-493f-9aa5-2f57ae03ec9d",
   "metadata": {},
   "source": [
    "#### 1.3 Một số hàm có sẵn hỗ trợ tạo mảng\n",
    "Ngoài `np.array()`, ta có thể tạo 1 số array đặc thù với `np.zeros()`, `np.ones()`, `np.arange()`,`np.linspace()`"
   ]
  },
  {
   "cell_type": "markdown",
   "id": "32d2a34f-8ae4-4261-8cbc-e06422cddceb",
   "metadata": {},
   "source": [
    "|Hàm|Ý nghĩa|\n",
    "|-|-|\n",
    "|`np.zeros()`|1 mảng chứa các giá trị 0|\n",
    "|`np.ones()`|1 mảng chứa các giá trị 1|\n",
    "|`np.full()`|1 mảng chứa các giá trị được gán theo `fill_value`|\n",
    "|`np.arange()`|1 mảng chứa khoảng giá trị có khoảng cách đều nhau|\n",
    "|`np.linspace`|1 mảng các giá trị có khoảng cách tuyến tính với nhau|"
   ]
  },
  {
   "cell_type": "code",
   "execution_count": 9,
   "id": "4479fec0-23a7-432f-8624-f012622c2c2e",
   "metadata": {},
   "outputs": [
    {
     "data": {
      "text/plain": [
       "array([0, 0, 0])"
      ]
     },
     "execution_count": 9,
     "metadata": {},
     "output_type": "execute_result"
    }
   ],
   "source": [
    "np.zeros(shape=3 , dtype = int)"
   ]
  },
  {
   "cell_type": "code",
   "execution_count": 10,
   "id": "00c566f9-58dc-44bd-9e16-46d3b4e279ef",
   "metadata": {},
   "outputs": [
    {
     "data": {
      "text/plain": [
       "array([[1., 1., 1.],\n",
       "       [1., 1., 1.],\n",
       "       [1., 1., 1.]])"
      ]
     },
     "execution_count": 10,
     "metadata": {},
     "output_type": "execute_result"
    }
   ],
   "source": [
    "np.ones(shape=(3,3))"
   ]
  },
  {
   "cell_type": "code",
   "execution_count": 11,
   "id": "59ff032a-40ac-4432-9f85-a70ad68d9189",
   "metadata": {},
   "outputs": [
    {
     "data": {
      "text/plain": [
       "array([[100, 100, 100],\n",
       "       [100, 100, 100],\n",
       "       [100, 100, 100]])"
      ]
     },
     "execution_count": 11,
     "metadata": {},
     "output_type": "execute_result"
    }
   ],
   "source": [
    "np.full(shape=(3,3), fill_value = 100)"
   ]
  },
  {
   "cell_type": "code",
   "execution_count": 12,
   "id": "5eace4c1-cb52-4c50-950b-09bc7db17039",
   "metadata": {},
   "outputs": [
    {
     "data": {
      "text/plain": [
       "array([1., 3., 5., 7., 9.])"
      ]
     },
     "execution_count": 12,
     "metadata": {},
     "output_type": "execute_result"
    }
   ],
   "source": [
    "np.arange(1, 10, 2, dtype = float) "
   ]
  },
  {
   "cell_type": "code",
   "execution_count": 13,
   "id": "50394eaa-9208-4861-9533-a669df78d0e0",
   "metadata": {},
   "outputs": [
    {
     "data": {
      "text/plain": [
       "array([ 1.  ,  3.25,  5.5 ,  7.75, 10.  ])"
      ]
     },
     "execution_count": 13,
     "metadata": {},
     "output_type": "execute_result"
    }
   ],
   "source": [
    "np.linspace(1,10,5) "
   ]
  },
  {
   "cell_type": "markdown",
   "id": "03ae09c9-ab95-47be-8c0f-3c6b6bdeacd7",
   "metadata": {},
   "source": [
    "#### 1.4 Tạo mảng ngẫu nhiên"
   ]
  },
  {
   "cell_type": "markdown",
   "id": "ebbc69bc-c429-4bb7-8f96-eb5d959ff2ff",
   "metadata": {},
   "source": [
    "Trong NumPy, hàm `np.random` lấy ***ngẫu nhiên*** các giá trị trong 1 phân phối có ***quy luật***. "
   ]
  },
  {
   "cell_type": "markdown",
   "id": "cc49af9a-7d33-4c41-af5e-53b6bfb1c084",
   "metadata": {},
   "source": [
    "Trong hàm `np.random`, chúng ta có 2 hàm con là `np.random.random()` và `np.random.normal()` tương ứng với 2 kiểu phân phối chúng ta đã quen thuộc khi học về xác suất thông kê, đó là:\n",
    "\n",
    "- **Phân phối đồng nhất (Uniform Distribution)**\n",
    "- **Phân phối chuẩn/ Phân phối hình chuông (Normal Distribution)** "
   ]
  },
  {
   "cell_type": "code",
   "execution_count": 14,
   "id": "969a2a9b-986a-4fc3-ad2e-1354e72ac147",
   "metadata": {},
   "outputs": [
    {
     "data": {
      "text/plain": [
       "array([[0.60549721, 0.85902233, 0.35355614],\n",
       "       [0.20204517, 0.32351517, 0.95147069],\n",
       "       [0.24140456, 0.85750317, 0.57937411]])"
      ]
     },
     "execution_count": 14,
     "metadata": {},
     "output_type": "execute_result"
    }
   ],
   "source": [
    "np.random.random([3,3])"
   ]
  },
  {
   "cell_type": "markdown",
   "id": "72717e31-66af-45bd-9249-10a71701a72d",
   "metadata": {},
   "source": [
    "**Câu hỏi**: Vì sao hình trên không theo phân phối chuẩn?"
   ]
  },
  {
   "cell_type": "code",
   "execution_count": 15,
   "id": "0e79a924-42f4-41b9-b01f-5f58edcfb091",
   "metadata": {},
   "outputs": [
    {
     "data": {
      "image/png": "[encoded data removed]",
      "text/plain": [
       "<Figure size 432x288 with 1 Axes>"
      ]
     },
     "metadata": {
      "needs_background": "light"
     },
     "output_type": "display_data"
    }
   ],
   "source": [
    "import matplotlib.pyplot as plt\n",
    "plt.hist(np.random.random(100), bins=20) #sample\n",
    "plt.show()"
   ]
  },
  {
   "cell_type": "markdown",
   "id": "1102d91f-6402-430c-aec5-33019d02afac",
   "metadata": {},
   "source": [
    "#### 1.5 Lưu và tải mảng "
   ]
  },
  {
   "cell_type": "code",
   "execution_count": 16,
   "id": "4616d421-2cd1-41bd-bd6e-2db1c5372988",
   "metadata": {},
   "outputs": [],
   "source": [
    "arr = np.random.random([3,3])\n",
    "np.savetxt('huyennn_test.txt',arr)\n",
    "arr1 = np.loadtxt('test.txt')"
   ]
  },
  {
   "cell_type": "markdown",
   "id": "c074aa10-9925-47cc-9512-40aa54e0d279",
   "metadata": {},
   "source": [
    "### 2. Đổi chiều array "
   ]
  },
  {
   "cell_type": "markdown",
   "id": "0f7686ff-6d0b-42ba-b6c9-e0b765e2e554",
   "metadata": {},
   "source": [
    "Ta có thể sử dụng `np.newaxis` và `np.expand_dims` để tăng kích thước của mảng hiện có của bạn."
   ]
  },
  {
   "cell_type": "code",
   "execution_count": 17,
   "id": "b614210f-09a2-4abb-bd39-652915360a6f",
   "metadata": {},
   "outputs": [
    {
     "data": {
      "text/plain": [
       "(array([1, 2, 3, 4, 5, 6]), 1, (6,))"
      ]
     },
     "execution_count": 17,
     "metadata": {},
     "output_type": "execute_result"
    }
   ],
   "source": [
    "arr = np.array([1, 2, 3, 4, 5, 6])\n",
    "arr, arr.ndim, arr.shape"
   ]
  },
  {
   "cell_type": "code",
   "execution_count": 18,
   "id": "e509171d-ef9a-409d-b320-7ccce3c0a509",
   "metadata": {},
   "outputs": [
    {
     "data": {
      "text/plain": [
       "(array([[1, 2, 3, 4, 5, 6]]), 2)"
      ]
     },
     "execution_count": 18,
     "metadata": {},
     "output_type": "execute_result"
    }
   ],
   "source": [
    "arr1 = np.expand_dims(arr, axis=0)\n",
    "arr1, arr1.ndim"
   ]
  },
  {
   "cell_type": "code",
   "execution_count": 19,
   "id": "f2ff8988-df4c-45ff-abc4-35d7a3723b9e",
   "metadata": {},
   "outputs": [
    {
     "data": {
      "text/plain": [
       "(array([[1, 2, 3, 4, 5, 6]]), 2)"
      ]
     },
     "execution_count": 19,
     "metadata": {},
     "output_type": "execute_result"
    }
   ],
   "source": [
    "arr2 = arr[np.newaxis, :]\n",
    "arr2, arr2.ndim"
   ]
  },
  {
   "cell_type": "code",
   "execution_count": 20,
   "id": "8bbde5b0-245a-446e-a7af-f8c67dec6816",
   "metadata": {},
   "outputs": [
    {
     "data": {
      "text/plain": [
       "((1, 6), (1, 6))"
      ]
     },
     "execution_count": 20,
     "metadata": {},
     "output_type": "execute_result"
    }
   ],
   "source": [
    "arr1.shape, arr2.shape"
   ]
  },
  {
   "cell_type": "markdown",
   "id": "64f163f7-6fbf-4c6b-867d-3c8a949bd380",
   "metadata": {},
   "source": [
    "### 3. Index & Slicing\n",
    "\n",
    "![](https://media.springernature.com/original/springer-static/image/chp%3A10.1007%2F978-1-4842-4246-9_2/MediaObjects/332789_2_En_2_Fig1_HTML.png)"
   ]
  },
  {
   "cell_type": "code",
   "execution_count": 21,
   "id": "c1c34840-0f23-40fc-a209-23790f7486db",
   "metadata": {},
   "outputs": [
    {
     "data": {
      "text/plain": [
       "array([[ 1.,  2.,  3.,  4.],\n",
       "       [ 5.,  6.,  7.,  8.],\n",
       "       [ 9., 10., 11., 12.],\n",
       "       [13., 14., 15., 16.]])"
      ]
     },
     "execution_count": 21,
     "metadata": {},
     "output_type": "execute_result"
    }
   ],
   "source": [
    "arr = np.linspace(1,16,16).reshape(4,4)\n",
    "arr"
   ]
  },
  {
   "cell_type": "markdown",
   "id": "00b430a4-46fb-4c94-a676-1a699d50f8fe",
   "metadata": {},
   "source": [
    "### 4. Tính toán với NumPy\n",
    "#### 4.1 Tính toán ma trận"
   ]
  },
  {
   "cell_type": "code",
   "execution_count": null,
   "id": "46cd94f8-ed59-45d0-8113-5f664cd974f3",
   "metadata": {},
   "outputs": [],
   "source": []
  },
  {
   "cell_type": "markdown",
   "id": "7e128aea-f6d9-4824-8b90-7925b69e9927",
   "metadata": {},
   "source": [
    "#### 4.2 Xác xuất thông kê"
   ]
  },
  {
   "cell_type": "markdown",
   "id": "64dfa1d9-624c-4ead-acbf-8042c1097c6f",
   "metadata": {},
   "source": [
    "NumPy hỗ trợ 1 số hàm cơ bản để ta tính toán thống kê dữ liệu bao gồm:\n",
    "- `mean`, `median`\n",
    "- `min`, `max`\n",
    "- `std`\n",
    "- `count_nonzero`, `unique`"
   ]
  },
  {
   "cell_type": "code",
   "execution_count": null,
   "id": "04a53fe9-1924-4e2e-84e6-8b35bcd59fba",
   "metadata": {},
   "outputs": [],
   "source": []
  },
  {
   "cell_type": "markdown",
   "id": "45dfe9b6-b181-491d-8fbe-430915b0789c",
   "metadata": {},
   "source": [
    "Ngoài ra, ta có thể tận dùng hàm `where()` của NumPy như một phương pháp vector hóa để viết các câu lệnh if-else."
   ]
  },
  {
   "cell_type": "code",
   "execution_count": null,
   "id": "bcbf5985-b9c8-4552-afd8-b29c54de6fa9",
   "metadata": {},
   "outputs": [],
   "source": []
  },
  {
   "cell_type": "markdown",
   "id": "e678238d-e29c-4052-910b-cb2623bf0637",
   "metadata": {},
   "source": [
    "Trong bài học tiếp theo, chúng ta sẽ cùng nhau tìm hiểu về Pandas, 1 thư viện hỗ trợ mạnh mẽ xử lí và phân tích dữ liệu có cấu trúc."
   ]
  },
  {
   "cell_type": "markdown",
   "id": "5a4174fc-016f-4a63-96f5-65eebd24cfed",
   "metadata": {},
   "source": [
    "**Fun facts**"
   ]
  },
  {
   "cell_type": "code",
   "execution_count": null,
   "id": "6b8f9ab0-b199-4446-aa81-4d945f0cc9d8",
   "metadata": {},
   "outputs": [],
   "source": [
    "import warnings\n",
    "warnings.filterwarnings(\"ignore\")\n",
    "import matplotlib.pyplot as plt\n",
    "import numpy as np\n",
    "url = \"https://static.wikia.nocookie.net/creamheroes/images/0/00/LuLu.png\"\n",
    "img = plt.imread(url)"
   ]
  },
  {
   "cell_type": "code",
   "execution_count": null,
   "id": "d0dab610-c17b-4c7c-bd3d-a643d73a7be9",
   "metadata": {},
   "outputs": [],
   "source": [
    "plt.imshow(img)\n",
    "plt.show()"
   ]
  },
  {
   "cell_type": "code",
   "execution_count": null,
   "id": "66af4942-759d-4404-9133-4589dbc90cc8",
   "metadata": {},
   "outputs": [],
   "source": [
    "plt.imshow(np.rot90(img))\n",
    "plt.show()"
   ]
  },
  {
   "cell_type": "code",
   "execution_count": null,
   "id": "f240aeb1-986e-4afc-bc1a-f8eb775969e1",
   "metadata": {},
   "outputs": [],
   "source": [
    "%%timeit\n",
    "np.rot90(img)"
   ]
  },
  {
   "cell_type": "code",
   "execution_count": null,
   "id": "016207fa-b8e9-405c-bc42-cb0fc48a52e0",
   "metadata": {},
   "outputs": [],
   "source": []
  }
 ],
 "metadata": {
  "kernelspec": {
   "display_name": "Python 3",
   "language": "python",
   "name": "python3"
  },
  "language_info": {
   "codemirror_mode": {
    "name": "ipython",
    "version": 3
   },
   "file_extension": ".py",
   "mimetype": "text/x-python",
   "name": "python",
   "nbconvert_exporter": "python",
   "pygments_lexer": "ipython3",
   "version": "3.8.8"
  }
 },
 "nbformat": 4,
 "nbformat_minor": 5
}
