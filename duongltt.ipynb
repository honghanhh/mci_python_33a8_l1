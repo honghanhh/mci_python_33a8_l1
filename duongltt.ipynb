{
 "cells": [
  {
   "cell_type": "code",
   "execution_count": 1,
   "id": "188b8ce2-3c3e-4fcd-9932-3a981c6bc613",
   "metadata": {},
   "outputs": [
    {
     "data": {
      "text/plain": [
       "2"
      ]
     },
     "execution_count": 1,
     "metadata": {},
     "output_type": "execute_result"
    }
   ],
   "source": [
    "1+1"
   ]
  },
  {
   "cell_type": "markdown",
   "id": "2304496e-1a97-4d31-8dd0-88046f737bb8",
   "metadata": {},
   "source": [
    "convert to markdown"
   ]
  },
  {
   "cell_type": "code",
   "execution_count": 2,
   "id": "b147a0ee-65e5-4515-b0d7-ed1bd488491c",
   "metadata": {},
   "outputs": [
    {
     "ename": "SyntaxError",
     "evalue": "illegal target for annotation (Temp/ipykernel_2444/259929055.py, line 1)",
     "output_type": "error",
     "traceback": [
      "\u001b[1;36m  File \u001b[1;32m\"C:\\Users\\ADMIN-PC\\AppData\\Local\\Temp/ipykernel_2444/259929055.py\"\u001b[1;36m, line \u001b[1;32m1\u001b[0m\n\u001b[1;33m    45:5\u001b[0m\n\u001b[1;37m    ^\u001b[0m\n\u001b[1;31mSyntaxError\u001b[0m\u001b[1;31m:\u001b[0m illegal target for annotation\n"
     ]
    }
   ],
   "source": [
    "45:5"
   ]
  },
  {
   "cell_type": "code",
   "execution_count": null,
   "id": "09ca6cb4-e32a-4897-806a-9d4a99981fff",
   "metadata": {},
   "outputs": [],
   "source": []
  },
  {
   "cell_type": "code",
   "execution_count": 3,
   "id": "6e321807-003d-447d-9bc4-0b34aab285d9",
   "metadata": {},
   "outputs": [
    {
     "data": {
      "text/plain": [
       "9.0"
      ]
     },
     "execution_count": 3,
     "metadata": {},
     "output_type": "execute_result"
    }
   ],
   "source": [
    "45/5"
   ]
  },
  {
   "cell_type": "markdown",
   "id": "0ec3f14c-4b73-44bc-a126-4baffea0d827",
   "metadata": {},
   "source": [
    "note: to convert cell code to cell markdonwn-> esc+m\n",
    "to convert cell markdown to cell code => esc+y\n",
    "shift + enter\n"
   ]
  },
  {
   "cell_type": "code",
   "execution_count": 4,
   "id": "d1f53376-f453-49a7-9adb-0b054c88c445",
   "metadata": {},
   "outputs": [
    {
     "data": {
      "text/plain": [
       "180"
      ]
     },
     "execution_count": 4,
     "metadata": {},
     "output_type": "execute_result"
    }
   ],
   "source": [
    "15*12"
   ]
  },
  {
   "cell_type": "code",
   "execution_count": null,
   "id": "d50b54e7-73b9-4352-9b50-4888742f26c3",
   "metadata": {},
   "outputs": [],
   "source": []
  },
  {
   "cell_type": "raw",
   "id": "0c92f838-f0fa-42ea-8815-539fef174df1",
   "metadata": {},
   "source": [
    "sfs"
   ]
  },
  {
   "cell_type": "code",
   "execution_count": 5,
   "id": "e98128b3-4d56-47e6-8baa-d2b5701389e1",
   "metadata": {},
   "outputs": [
    {
     "ename": "SyntaxError",
     "evalue": "invalid syntax (Temp/ipykernel_2444/430954395.py, line 1)",
     "output_type": "error",
     "traceback": [
      "\u001b[1;36m  File \u001b[1;32m\"C:\\Users\\ADMIN-PC\\AppData\\Local\\Temp/ipykernel_2444/430954395.py\"\u001b[1;36m, line \u001b[1;32m1\u001b[0m\n\u001b[1;33m    em chào cô giáo\u001b[0m\n\u001b[1;37m       ^\u001b[0m\n\u001b[1;31mSyntaxError\u001b[0m\u001b[1;31m:\u001b[0m invalid syntax\n"
     ]
    }
   ],
   "source": [
    "em chào cô giáo "
   ]
  },
  {
   "cell_type": "markdown",
   "id": "da3607ad-54f3-4e65-b976-7dc4454d5f91",
   "metadata": {},
   "source": [
    "em chào cô giáo"
   ]
  },
  {
   "cell_type": "code",
   "execution_count": null,
   "id": "dfb1d920-7e89-4ec5-aa78-984a3f6e936f",
   "metadata": {},
   "outputs": [],
   "source": []
  }
 ],
 "metadata": {
  "kernelspec": {
   "display_name": "Python 3 (ipykernel)",
   "language": "python",
   "name": "python3"
  },
  "language_info": {
   "codemirror_mode": {
    "name": "ipython",
    "version": 3
   },
   "file_extension": ".py",
   "mimetype": "text/x-python",
   "name": "python",
   "nbconvert_exporter": "python",
   "pygments_lexer": "ipython3",
   "version": "3.8.11"
  }
 },
 "nbformat": 4,
 "nbformat_minor": 5
}
