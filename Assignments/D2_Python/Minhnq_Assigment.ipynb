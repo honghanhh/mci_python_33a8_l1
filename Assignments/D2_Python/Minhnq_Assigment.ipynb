{
 "cells": [
  {
   "cell_type": "markdown",
   "id": "e75f8228-8428-4de2-9684-6bf3f79af3be",
   "metadata": {},
   "source": [
    "# <center> Bài tập về nhà buổi 2: Giới thiệu về PYTHON </center>"
   ]
  },
  {
   "cell_type": "markdown",
   "id": "e48e2793-dfc5-4011-8408-7b9bff1acde7",
   "metadata": {},
   "source": [
    "### Bài 1: Cho trước 1 list chứa các phần tử như sau: \n",
    "> `li = [100, 300, 200, 400, 500, 200]`\n",
    "#### 1.1 Đảo ngược list trên"
   ]
  },
  {
   "cell_type": "code",
   "execution_count": null,
   "id": "1ba6aa8e-5a33-4579-93d9-8766a5e64541",
   "metadata": {},
   "outputs": [],
   "source": [
    "li = [100, 300, 200, 400, 500, 200]"
   ]
  },
  {
   "cell_type": "code",
   "execution_count": 15,
   "id": "721a6a74-3e04-4155-ab5b-d739511fda3c",
   "metadata": {},
   "outputs": [],
   "source": [
    "li.reverse()"
   ]
  },
  {
   "cell_type": "code",
   "execution_count": 16,
   "id": "36782555-476f-44b3-94c9-f125c905fed9",
   "metadata": {},
   "outputs": [
    {
     "data": {
      "text/plain": [
       "[200, 500, 400, 200, 300, 100]"
      ]
     },
     "execution_count": 16,
     "metadata": {},
     "output_type": "execute_result"
    }
   ],
   "source": [
    "li"
   ]
  },
  {
   "cell_type": "markdown",
   "id": "9551dc52-35e1-40ac-889e-194af3998d0b",
   "metadata": {},
   "source": [
    "#### 1.2 Sắp xếp các phần tử trong list trên theo thứ tự từ lớn đến bé"
   ]
  },
  {
   "cell_type": "code",
   "execution_count": 18,
   "id": "58bba031-6768-4aec-be53-48ab30989f6e",
   "metadata": {},
   "outputs": [],
   "source": [
    "li.sort()"
   ]
  },
  {
   "cell_type": "code",
   "execution_count": 19,
   "id": "b81e6435-1394-4099-8991-875a0c61f672",
   "metadata": {},
   "outputs": [
    {
     "data": {
      "text/plain": [
       "[100, 200, 200, 300, 400, 500]"
      ]
     },
     "execution_count": 19,
     "metadata": {},
     "output_type": "execute_result"
    }
   ],
   "source": [
    "li"
   ]
  },
  {
   "cell_type": "code",
   "execution_count": 20,
   "id": "0fd5c68d-be9d-4aef-8602-00f8f6c7bcdd",
   "metadata": {},
   "outputs": [],
   "source": [
    "li.reverse()"
   ]
  },
  {
   "cell_type": "code",
   "execution_count": 21,
   "id": "644df819-500e-4f7f-a569-5d0914798942",
   "metadata": {},
   "outputs": [
    {
     "data": {
      "text/plain": [
       "[500, 400, 300, 200, 200, 100]"
      ]
     },
     "execution_count": 21,
     "metadata": {},
     "output_type": "execute_result"
    }
   ],
   "source": [
    "li"
   ]
  },
  {
   "cell_type": "markdown",
   "id": "49878988-8cf4-4d3a-bb71-a22f496e3a74",
   "metadata": {},
   "source": [
    "#### 1.3 Thêm giá trị của list `li1 = [150, 350, 250]` vào list `li` sao cho\n",
    "> `li = [500, 400, 300, 200, 200, 100,150, 350, 250]`"
   ]
  },
  {
   "cell_type": "code",
   "execution_count": 5,
   "id": "78e13d01-5a93-489d-9bd2-380daf6c0de0",
   "metadata": {},
   "outputs": [],
   "source": [
    "li1.extend(li)"
   ]
  },
  {
   "cell_type": "code",
   "execution_count": 6,
   "id": "0b47a16f-39d9-4ffe-9d33-7c30f9960d74",
   "metadata": {},
   "outputs": [
    {
     "data": {
      "text/plain": [
       "[500, 400, 300, 200, 200, 100, 150, 350, 250]"
      ]
     },
     "execution_count": 6,
     "metadata": {},
     "output_type": "execute_result"
    }
   ],
   "source": [
    "li"
   ]
  },
  {
   "cell_type": "markdown",
   "id": "b83f2c6a-c45d-44d8-b9f6-b00a0dec1d96",
   "metadata": {},
   "source": [
    "### Bài 2: Cho trước 2 set \n",
    "> `set1 = {10, 20, 30, 40, 50}` \n",
    "\n",
    "> `set2 = {30, 40, 50, 60, 70}`\n",
    "\n",
    "#### 2.1 Trả về `set3` chứa các phần tử trùng nhau trong 2 sets trên"
   ]
  },
  {
   "cell_type": "code",
   "execution_count": 23,
   "id": "e4b808f7-041d-47c4-958f-6ed57ac1b1cd",
   "metadata": {},
   "outputs": [
    {
     "data": {
      "text/plain": [
       "{30, 40, 50}"
      ]
     },
     "execution_count": 23,
     "metadata": {},
     "output_type": "execute_result"
    }
   ],
   "source": [
    "set1.intersection(set2)"
   ]
  },
  {
   "cell_type": "code",
   "execution_count": 24,
   "id": "93e4db81-a0cf-43bd-a205-624cfa7cdd02",
   "metadata": {},
   "outputs": [
    {
     "data": {
      "text/plain": [
       "{30, 40, 50}"
      ]
     },
     "execution_count": 24,
     "metadata": {},
     "output_type": "execute_result"
    }
   ],
   "source": [
    "set1 & set2"
   ]
  },
  {
   "cell_type": "code",
   "execution_count": null,
   "id": "3e2838b4-2709-4b6a-9e2b-aa9320eb60d5",
   "metadata": {},
   "outputs": [],
   "source": []
  },
  {
   "cell_type": "markdown",
   "id": "d4144fa6-ff02-499f-a35d-9a144fdcfbb2",
   "metadata": {},
   "source": [
    "#### 2.2 Kiểm tra xem `set1` có phải là tập con của `set2` hay không?"
   ]
  },
  {
   "cell_type": "code",
   "execution_count": 19,
   "id": "e7d108aa-7026-4f28-8c8b-3a3b4b4fe049",
   "metadata": {},
   "outputs": [
    {
     "data": {
      "text/plain": [
       "{10, 20, 30, 40, 50}"
      ]
     },
     "execution_count": 19,
     "metadata": {},
     "output_type": "execute_result"
    }
   ],
   "source": [
    "set1"
   ]
  },
  {
   "cell_type": "code",
   "execution_count": 20,
   "id": "83b382ac-ba7c-4a06-abe3-dad7caf7ba92",
   "metadata": {},
   "outputs": [
    {
     "data": {
      "text/plain": [
       "{30, 40, 50, 60, 70}"
      ]
     },
     "execution_count": 20,
     "metadata": {},
     "output_type": "execute_result"
    }
   ],
   "source": [
    "set2"
   ]
  },
  {
   "cell_type": "code",
   "execution_count": 25,
   "id": "2259eec1-e6fe-4722-9092-c803b7e89b55",
   "metadata": {},
   "outputs": [
    {
     "data": {
      "text/plain": [
       "False"
      ]
     },
     "execution_count": 25,
     "metadata": {},
     "output_type": "execute_result"
    }
   ],
   "source": [
    "set1.issubset(set2)"
   ]
  },
  {
   "cell_type": "code",
   "execution_count": 26,
   "id": "f96bf41f-3d3c-4215-8fc8-f99ef186258a",
   "metadata": {},
   "outputs": [
    {
     "data": {
      "text/plain": [
       "False"
      ]
     },
     "execution_count": 26,
     "metadata": {},
     "output_type": "execute_result"
    }
   ],
   "source": [
    "set1<=set2"
   ]
  },
  {
   "cell_type": "markdown",
   "id": "ef64407b-2699-446b-8ad3-82bdf5d453ac",
   "metadata": {},
   "source": [
    "### Bài 3: Cho trước tuples \n",
    "> `tu = (\"Python\", [10, 20, 30], (5, 15, 25))`\n",
    "\n",
    "> `tu1 = (11,22) `\n",
    "\n",
    "> `tu2 = (33,44)`\n",
    "\n",
    "#### 3.1 Trả về giá trị `15` từ `tu`"
   ]
  },
  {
   "cell_type": "code",
   "execution_count": 4,
   "id": "4aabd975-9a2f-40e8-8fc0-21b0426b0b33",
   "metadata": {},
   "outputs": [],
   "source": [
    "tu = (\"Python\", [10, 20, 30], (5, 15, 25))"
   ]
  },
  {
   "cell_type": "code",
   "execution_count": 5,
   "id": "620162ef-8fda-49d3-bfc1-a1335bd0a0d1",
   "metadata": {},
   "outputs": [
    {
     "data": {
      "text/plain": [
       "('Python', [10, 20, 30], (5, 15, 25))"
      ]
     },
     "execution_count": 28,
     "metadata": {},
     "output_type": "execute_result"
    }
   ],
   "source": [
    "tu"
   ]
  },
  {
   "cell_type": "code",
   "execution_count": 13,
   "id": "41b114a4-892f-4915-993c-33ee801b23f0",
   "metadata": {},
   "outputs": [
    {
     "name": "stdout",
     "output_type": "stream",
     "text": [
      "('Python', [10, 20, 30], (5, 15, 25))\n"
     ]
    }
   ],
   "source": [
    "print(tu)"
   ]
  },
  {
   "cell_type": "code",
   "execution_count": 18,
   "id": "f735c0cf-05a2-4148-89fc-596f58c279b0",
   "metadata": {},
   "outputs": [
    {
     "name": "stdout",
     "output_type": "stream",
     "text": [
      "(5, 15, 25)\n"
     ]
    }
   ],
   "source": [
    "print(tu[2])"
   ]
  },
  {
   "cell_type": "code",
   "execution_count": 27,
   "id": "e62a683e-e0df-4397-9156-e8b610b6bd6f",
   "metadata": {},
   "outputs": [
    {
     "name": "stdout",
     "output_type": "stream",
     "text": [
      "15\n"
     ]
    }
   ],
   "source": [
    "print(tu[2][1])"
   ]
  },
  {
   "cell_type": "markdown",
   "id": "f1aa7536-6175-4f85-b487-bbcafff9b292",
   "metadata": {},
   "source": [
    "#### 3.2 Hoán đổi giá trị của `tu1` và `tu2` thành\n",
    "> `tu2 = (11,22)`\n",
    "\n",
    "> `tu1 = (33,44)`"
   ]
  },
  {
   "cell_type": "code",
   "execution_count": 1,
   "id": "bf6ea0c1-b07b-427c-b766-de53aedfa0e1",
   "metadata": {},
   "outputs": [],
   "source": [
    "tu1=(11,22)"
   ]
  },
  {
   "cell_type": "code",
   "execution_count": 3,
   "id": "360821b5-9315-4d86-954a-7fa7f1f5497b",
   "metadata": {},
   "outputs": [],
   "source": [
    "tu2=(33,44)"
   ]
  },
  {
   "cell_type": "code",
   "execution_count": 2,
   "id": "32addcf9-1e74-4e79-967d-797148da0cbf",
   "metadata": {},
   "outputs": [
    {
     "data": {
      "text/plain": [
       "(11, 22)"
      ]
     },
     "execution_count": 2,
     "metadata": {},
     "output_type": "execute_result"
    }
   ],
   "source": [
    "tu1"
   ]
  },
  {
   "cell_type": "code",
   "execution_count": 4,
   "id": "e4892560-0a04-474c-9bbd-5b8dddd94e6b",
   "metadata": {},
   "outputs": [
    {
     "data": {
      "text/plain": [
       "(33, 44)"
      ]
     },
     "execution_count": 4,
     "metadata": {},
     "output_type": "execute_result"
    }
   ],
   "source": [
    "tu2"
   ]
  },
  {
   "cell_type": "code",
   "execution_count": 5,
   "id": "48046ae5-fec3-4c3a-bbde-48f00f39dc0d",
   "metadata": {},
   "outputs": [],
   "source": [
    "tu1,tu2=tu2,tu1"
   ]
  },
  {
   "cell_type": "code",
   "execution_count": 6,
   "id": "55d0e013-04e1-41a5-8b2a-6b55c40cd57d",
   "metadata": {},
   "outputs": [
    {
     "name": "stdout",
     "output_type": "stream",
     "text": [
      "(33, 44) (11, 22)\n"
     ]
    }
   ],
   "source": [
    "print(tu1,tu2)"
   ]
  },
  {
   "cell_type": "markdown",
   "id": "b9c52b54-5f52-40b6-9dee-2cfe961237c4",
   "metadata": {},
   "source": [
    "### Bài 4: Cho 2 danh sách \n",
    "> `student = ['Hanh','Đức','Hoà','Trâm']` \n",
    "\n",
    "> `age = [18, 20, 14, 16]`\n",
    "\n",
    "#### 4.1 Tạo 1 từ điển từ danh sách trên"
   ]
  },
  {
   "cell_type": "code",
   "execution_count": 51,
   "id": "aca61612-e75f-473d-9562-e1ad510dc4d9",
   "metadata": {},
   "outputs": [],
   "source": [
    "my_dict = {'Hanh':18,'Đức':20,'Hoà':14,'Trâm':16}"
   ]
  },
  {
   "cell_type": "code",
   "execution_count": 52,
   "id": "c1b75927-d7e4-4a71-a6d0-6270e8067273",
   "metadata": {},
   "outputs": [
    {
     "data": {
      "text/plain": [
       "{'Hanh': 18, 'Đức': 20, 'Hoà': 14, 'Trâm': 16}"
      ]
     },
     "execution_count": 52,
     "metadata": {},
     "output_type": "execute_result"
    }
   ],
   "source": [
    "my_dict"
   ]
  },
  {
   "cell_type": "code",
   "execution_count": null,
   "id": "0e7c1b4a-c6b7-49bf-a47a-797d0be6a27d",
   "metadata": {},
   "outputs": [],
   "source": []
  },
  {
   "cell_type": "markdown",
   "id": "fca593fc-f187-498d-9296-5c9c10be912d",
   "metadata": {},
   "source": [
    "#### 4.2  Loại thông tin học viên `Hanh` ra khỏi dictionary"
   ]
  },
  {
   "cell_type": "code",
   "execution_count": 11,
   "id": "a250f039-5b70-4763-acb1-1b731714c238",
   "metadata": {},
   "outputs": [
    {
     "data": {
      "text/plain": [
       "{'Đức': 20, 'Hoà': 14, 'Trâm': 16}"
      ]
     },
     "execution_count": 11,
     "metadata": {},
     "output_type": "execute_result"
    }
   ],
   "source": []
  },
  {
   "cell_type": "code",
   "execution_count": 54,
   "id": "3d36d9df-b5eb-4675-b2e7-8f631d330742",
   "metadata": {},
   "outputs": [
    {
     "data": {
      "text/plain": [
       "18"
      ]
     },
     "execution_count": 54,
     "metadata": {},
     "output_type": "execute_result"
    }
   ],
   "source": [
    "my_dict.pop('Hanh')"
   ]
  },
  {
   "cell_type": "code",
   "execution_count": 58,
   "id": "b0827917-c7f5-46fa-a80c-161b522cfe2b",
   "metadata": {},
   "outputs": [
    {
     "data": {
      "text/plain": [
       "{'Đức': 20, 'Hoà': 14, 'Trâm': 16}"
      ]
     },
     "execution_count": 58,
     "metadata": {},
     "output_type": "execute_result"
    }
   ],
   "source": [
    "my_dict"
   ]
  },
  {
   "cell_type": "code",
   "execution_count": null,
   "id": "567f385d-6176-4389-b4d8-4e5d4b9a4ad3",
   "metadata": {},
   "outputs": [],
   "source": []
  }
 ],
 "metadata": {
  "kernelspec": {
   "display_name": "Python 3",
   "language": "python",
   "name": "python3"
  },
  "language_info": {
   "codemirror_mode": {
    "name": "ipython",
    "version": 3
   },
   "file_extension": ".py",
   "mimetype": "text/x-python",
   "name": "python",
   "nbconvert_exporter": "python",
   "pygments_lexer": "ipython3",
   "version": "3.7.11"
  }
 },
 "nbformat": 4,
 "nbformat_minor": 5
}
