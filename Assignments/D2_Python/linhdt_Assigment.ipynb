{
 "cells": [
  {
   "cell_type": "markdown",
   "id": "e75f8228-8428-4de2-9684-6bf3f79af3be",
   "metadata": {},
   "source": [
    "# <center> Bài tập về nhà buổi 2: Giới thiệu về PYTHON </center>"
   ]
  },
  {
   "cell_type": "markdown",
   "id": "e48e2793-dfc5-4011-8408-7b9bff1acde7",
   "metadata": {},
   "source": [
    "### Bài 1: Cho trước 1 list chứa các phần tử như sau: \n",
    "> `li = [100, 300, 200, 400, 500, 200]`\n",
    "#### 1.1 Đảo ngược list trên"
   ]
  },
  {
   "cell_type": "code",
   "execution_count": 2,
   "id": "721a6a74-3e04-4155-ab5b-d739511fda3c",
   "metadata": {},
   "outputs": [],
   "source": [
    "li=[100, 300, 200, 400, 500, 200]\n",
    "li.reverse()"
   ]
  },
  {
   "cell_type": "code",
   "execution_count": 3,
   "id": "948e0041-4c0d-46f2-ae5d-80045ef03070",
   "metadata": {},
   "outputs": [
    {
     "data": {
      "text/plain": [
       "[200, 500, 400, 200, 300, 100]"
      ]
     },
     "execution_count": 3,
     "metadata": {},
     "output_type": "execute_result"
    }
   ],
   "source": [
    "li"
   ]
  },
  {
   "cell_type": "markdown",
   "id": "9551dc52-35e1-40ac-889e-194af3998d0b",
   "metadata": {},
   "source": [
    "#### 1.2 Sắp xếp các phần tử trong list trên theo thứ tự từ lớn đến bé"
   ]
  },
  {
   "cell_type": "code",
   "execution_count": 4,
   "id": "58bba031-6768-4aec-be53-48ab30989f6e",
   "metadata": {},
   "outputs": [],
   "source": [
    "li.sort()"
   ]
  },
  {
   "cell_type": "code",
   "execution_count": 5,
   "id": "3f09a8c2-12c6-4f75-9069-32b7b4567aa7",
   "metadata": {},
   "outputs": [
    {
     "data": {
      "text/plain": [
       "[100, 200, 200, 300, 400, 500]"
      ]
     },
     "execution_count": 5,
     "metadata": {},
     "output_type": "execute_result"
    }
   ],
   "source": [
    "li"
   ]
  },
  {
   "cell_type": "code",
   "execution_count": 10,
   "id": "0363407a-0d75-42a8-81fe-d64b0ad0d359",
   "metadata": {},
   "outputs": [],
   "source": [
    "li.sort(reverse= True)"
   ]
  },
  {
   "cell_type": "code",
   "execution_count": 11,
   "id": "18061eeb-cc6d-47f9-afd1-e86fbdd5b4a6",
   "metadata": {},
   "outputs": [
    {
     "data": {
      "text/plain": [
       "[500, 400, 300, 200, 200, 100]"
      ]
     },
     "execution_count": 11,
     "metadata": {},
     "output_type": "execute_result"
    }
   ],
   "source": [
    "li"
   ]
  },
  {
   "cell_type": "markdown",
   "id": "49878988-8cf4-4d3a-bb71-a22f496e3a74",
   "metadata": {},
   "source": [
    "#### 1.3 Thêm giá trị của list `li1 = [150, 350, 250]` vào list `li` sao cho\n",
    "> `li = [500, 400, 300, 200, 200, 100,150, 350, 250]`"
   ]
  },
  {
   "cell_type": "code",
   "execution_count": 12,
   "id": "e7a556e0-3dac-4eab-accc-f010cc33dab2",
   "metadata": {},
   "outputs": [],
   "source": [
    "li1= [150, 350, 250]\n",
    "li.extend(li1)"
   ]
  },
  {
   "cell_type": "code",
   "execution_count": 13,
   "id": "c1fb18a7-ae82-49cc-8535-ee6d5e365b8c",
   "metadata": {},
   "outputs": [
    {
     "data": {
      "text/plain": [
       "[500, 400, 300, 200, 200, 100, 150, 350, 250]"
      ]
     },
     "execution_count": 13,
     "metadata": {},
     "output_type": "execute_result"
    }
   ],
   "source": [
    "li"
   ]
  },
  {
   "cell_type": "markdown",
   "id": "b83f2c6a-c45d-44d8-b9f6-b00a0dec1d96",
   "metadata": {},
   "source": [
    "### Bài 2: Cho trước 2 set \n",
    "> `set1 = {10, 20, 30, 40, 50}` \n",
    "\n",
    "> `set2 = {30, 40, 50, 60, 70}`\n",
    "\n",
    "#### 2.1 Trả về `set3` chứa các phần tử trùng nhau trong 2 sets trên"
   ]
  },
  {
   "cell_type": "code",
   "execution_count": 14,
   "id": "45502428-8c3e-4caf-92c6-8c8c02885788",
   "metadata": {},
   "outputs": [
    {
     "data": {
      "text/plain": [
       "{30, 40, 50}"
      ]
     },
     "execution_count": 14,
     "metadata": {},
     "output_type": "execute_result"
    }
   ],
   "source": [
    "set1= {10,20,30,40,50}\n",
    "set2= {30,40,50,60,70}\n",
    "set1.intersection(set2)"
   ]
  },
  {
   "cell_type": "markdown",
   "id": "d4144fa6-ff02-499f-a35d-9a144fdcfbb2",
   "metadata": {},
   "source": [
    "#### 2.2 Kiểm tra xem `set1` có phải là tập con của `set2` hay không?"
   ]
  },
  {
   "cell_type": "code",
   "execution_count": 15,
   "id": "a695bf22-a528-4097-94f2-d6360ccc7de5",
   "metadata": {},
   "outputs": [
    {
     "data": {
      "text/plain": [
       "False"
      ]
     },
     "execution_count": 15,
     "metadata": {},
     "output_type": "execute_result"
    }
   ],
   "source": [
    "set1.issubset(set2)"
   ]
  },
  {
   "cell_type": "markdown",
   "id": "ef64407b-2699-446b-8ad3-82bdf5d453ac",
   "metadata": {},
   "source": [
    "### Bài 3: Cho trước tuples \n",
    "> `tu = (\"Python\", [10, 20, 30], (5, 15, 25))`\n",
    "\n",
    "> `tu1 = (11,22) `\n",
    "\n",
    "> `tu2 = (33,44)`\n",
    "\n",
    "#### 3.1 Trả về giá trị `15` từ `tu`"
   ]
  },
  {
   "cell_type": "code",
   "execution_count": 16,
   "id": "4aabd975-9a2f-40e8-8fc0-21b0426b0b33",
   "metadata": {},
   "outputs": [],
   "source": [
    "tu=(\"Python\", [10,20,30], (5,15,25))\n",
    "tu1= (11,22)\n",
    "tu2= (33,44)"
   ]
  },
  {
   "cell_type": "code",
   "execution_count": 17,
   "id": "4b061393-4e29-404d-854f-bc2b1e2f1314",
   "metadata": {},
   "outputs": [
    {
     "data": {
      "text/plain": [
       "15"
      ]
     },
     "execution_count": 17,
     "metadata": {},
     "output_type": "execute_result"
    }
   ],
   "source": [
    "tu[2][1]"
   ]
  },
  {
   "cell_type": "markdown",
   "id": "f1aa7536-6175-4f85-b487-bbcafff9b292",
   "metadata": {},
   "source": [
    "#### 3.2 Hoán đổi giá trị của `tu1` và `tu2` thành\n",
    "> `tu2 = (11,22)`\n",
    "\n",
    "> `tu1 = (33,44)`"
   ]
  },
  {
   "cell_type": "code",
   "execution_count": 18,
   "id": "6f132a47-7c02-46e2-834d-709c46fb94c7",
   "metadata": {},
   "outputs": [
    {
     "data": {
      "text/plain": [
       "['__add__',\n",
       " '__class__',\n",
       " '__contains__',\n",
       " '__delattr__',\n",
       " '__dir__',\n",
       " '__doc__',\n",
       " '__eq__',\n",
       " '__format__',\n",
       " '__ge__',\n",
       " '__getattribute__',\n",
       " '__getitem__',\n",
       " '__getnewargs__',\n",
       " '__gt__',\n",
       " '__hash__',\n",
       " '__init__',\n",
       " '__init_subclass__',\n",
       " '__iter__',\n",
       " '__le__',\n",
       " '__len__',\n",
       " '__lt__',\n",
       " '__mul__',\n",
       " '__ne__',\n",
       " '__new__',\n",
       " '__reduce__',\n",
       " '__reduce_ex__',\n",
       " '__repr__',\n",
       " '__rmul__',\n",
       " '__setattr__',\n",
       " '__sizeof__',\n",
       " '__str__',\n",
       " '__subclasshook__',\n",
       " 'count',\n",
       " 'index']"
      ]
     },
     "execution_count": 18,
     "metadata": {},
     "output_type": "execute_result"
    }
   ],
   "source": [
    "dir(tu1)"
   ]
  },
  {
   "cell_type": "code",
   "execution_count": 20,
   "id": "c60d9ee9-7c61-40bb-aaf5-274cac8d1a48",
   "metadata": {},
   "outputs": [
    {
     "data": {
      "text/plain": [
       "['count', 'index']"
      ]
     },
     "execution_count": 20,
     "metadata": {},
     "output_type": "execute_result"
    }
   ],
   "source": [
    "[method for method in dir(tu1) if not method.startswith('_')]"
   ]
  },
  {
   "cell_type": "code",
   "execution_count": 21,
   "id": "8890ae40-2435-44f2-bbb0-aaa71f7353cf",
   "metadata": {},
   "outputs": [],
   "source": [
    "tu1=tu2"
   ]
  },
  {
   "cell_type": "code",
   "execution_count": 22,
   "id": "2c01c30b-4f97-4031-b724-0f6fe17c6a8d",
   "metadata": {},
   "outputs": [
    {
     "data": {
      "text/plain": [
       "(33, 44)"
      ]
     },
     "execution_count": 22,
     "metadata": {},
     "output_type": "execute_result"
    }
   ],
   "source": [
    "tu1"
   ]
  },
  {
   "cell_type": "code",
   "execution_count": 23,
   "id": "50576222-d65e-4ac3-9a39-f3d061851de3",
   "metadata": {},
   "outputs": [],
   "source": [
    "tu2=(11,22)"
   ]
  },
  {
   "cell_type": "code",
   "execution_count": 24,
   "id": "00167aa8-236c-4b3f-8213-64b6a2ffa25d",
   "metadata": {},
   "outputs": [
    {
     "data": {
      "text/plain": [
       "(11, 22)"
      ]
     },
     "execution_count": 24,
     "metadata": {},
     "output_type": "execute_result"
    }
   ],
   "source": [
    "tu2"
   ]
  },
  {
   "cell_type": "markdown",
   "id": "b9c52b54-5f52-40b6-9dee-2cfe961237c4",
   "metadata": {},
   "source": [
    "### Bài 4: Cho 2 danh sách \n",
    "> `student = ['Hanh','Đức','Hoà','Trâm']` \n",
    "\n",
    "> `age = [18, 20, 14, 16]`\n",
    "\n",
    "#### 4.1 Tạo 1 từ điển từ danh sách trên"
   ]
  },
  {
   "cell_type": "code",
   "execution_count": 25,
   "id": "aca61612-e75f-473d-9562-e1ad510dc4d9",
   "metadata": {},
   "outputs": [],
   "source": [
    "dic={'Hanh': 18, 'Đức': 20, 'Hoà': 14, 'Trâm': 16}"
   ]
  },
  {
   "cell_type": "code",
   "execution_count": 26,
   "id": "ec1176b1-6d65-4745-a771-44b3a9ff6d65",
   "metadata": {},
   "outputs": [
    {
     "data": {
      "text/plain": [
       "{'Hanh': 18, 'Đức': 20, 'Hoà': 14, 'Trâm': 16}"
      ]
     },
     "execution_count": 26,
     "metadata": {},
     "output_type": "execute_result"
    }
   ],
   "source": [
    "dic"
   ]
  },
  {
   "cell_type": "markdown",
   "id": "fca593fc-f187-498d-9296-5c9c10be912d",
   "metadata": {},
   "source": [
    "#### 4.2  Loại thông tin học viên `Hanh` ra khỏi dictionary"
   ]
  },
  {
   "cell_type": "code",
   "execution_count": 27,
   "id": "a250f039-5b70-4763-acb1-1b731714c238",
   "metadata": {},
   "outputs": [
    {
     "data": {
      "text/plain": [
       "18"
      ]
     },
     "execution_count": 27,
     "metadata": {},
     "output_type": "execute_result"
    }
   ],
   "source": [
    "dic.pop('Hanh')"
   ]
  },
  {
   "cell_type": "code",
   "execution_count": 28,
   "id": "34f4a479-adbe-464d-9127-a7122559a4e1",
   "metadata": {},
   "outputs": [
    {
     "data": {
      "text/plain": [
       "{'Đức': 20, 'Hoà': 14, 'Trâm': 16}"
      ]
     },
     "execution_count": 28,
     "metadata": {},
     "output_type": "execute_result"
    }
   ],
   "source": [
    "dic"
   ]
  }
 ],
 "metadata": {
  "kernelspec": {
   "display_name": "Python 3 (ipykernel)",
   "language": "python",
   "name": "python3"
  },
  "language_info": {
   "codemirror_mode": {
    "name": "ipython",
    "version": 3
   },
   "file_extension": ".py",
   "mimetype": "text/x-python",
   "name": "python",
   "nbconvert_exporter": "python",
   "pygments_lexer": "ipython3",
   "version": "3.8.10"
  }
 },
 "nbformat": 4,
 "nbformat_minor": 5
}
