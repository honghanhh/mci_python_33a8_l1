{
 "cells": [
  {
   "cell_type": "markdown",
   "id": "e75f8228-8428-4de2-9684-6bf3f79af3be",
   "metadata": {},
   "source": [
    "# <center> Bài tập về nhà buổi 2: Giới thiệu về PYTHON </center>"
   ]
  },
  {
   "cell_type": "markdown",
   "id": "e48e2793-dfc5-4011-8408-7b9bff1acde7",
   "metadata": {},
   "source": [
    "### Bài 1: Cho trước 1 list chứa các phần tử như sau: \n",
    "> `li = [100, 300, 200, 400, 500, 200]`\n",
    "#### 1.1 Đảo ngược list trên"
   ]
  },
  {
   "cell_type": "code",
   "execution_count": 23,
   "id": "1ba6aa8e-5a33-4579-93d9-8766a5e64541",
   "metadata": {},
   "outputs": [],
   "source": [
    "li = [100, 300, 200, 400, 500, 200]"
   ]
  },
  {
   "cell_type": "code",
   "execution_count": 9,
   "id": "721a6a74-3e04-4155-ab5b-d739511fda3c",
   "metadata": {},
   "outputs": [],
   "source": [
    "li.reverse()"
   ]
  },
  {
   "cell_type": "code",
   "execution_count": 10,
   "id": "8bcc5ed3-566e-418c-a743-ad9513bf90eb",
   "metadata": {},
   "outputs": [
    {
     "data": {
      "text/plain": [
       "[200, 500, 400, 200, 300, 100]"
      ]
     },
     "execution_count": 10,
     "metadata": {},
     "output_type": "execute_result"
    }
   ],
   "source": [
    "li"
   ]
  },
  {
   "cell_type": "markdown",
   "id": "9551dc52-35e1-40ac-889e-194af3998d0b",
   "metadata": {},
   "source": [
    "#### 1.2 Sắp xếp các phần tử trong list trên theo thứ tự từ lớn đến bé"
   ]
  },
  {
   "cell_type": "code",
   "execution_count": 24,
   "id": "58bba031-6768-4aec-be53-48ab30989f6e",
   "metadata": {},
   "outputs": [
    {
     "name": "stdout",
     "output_type": "stream",
     "text": [
      "[500, 400, 300, 200, 200, 100]\n"
     ]
    }
   ],
   "source": [
    "print(sorted(li, reverse=True))"
   ]
  },
  {
   "cell_type": "markdown",
   "id": "49878988-8cf4-4d3a-bb71-a22f496e3a74",
   "metadata": {},
   "source": [
    "#### 1.3 Thêm giá trị của list `li1 = [150, 350, 250]` vào list `li` sao cho\n",
    "> `li = [500, 400, 300, 200, 200, 100,150, 350, 250]`"
   ]
  },
  {
   "cell_type": "code",
   "execution_count": 30,
   "id": "2d411ccc-c9ea-4862-ab38-f12f40b4cc5c",
   "metadata": {},
   "outputs": [
    {
     "name": "stdout",
     "output_type": "stream",
     "text": [
      "[500, 400, 300, 200, 200, 100]\n"
     ]
    }
   ],
   "source": [
    "li = [100, 300, 200, 400, 500, 200]\n",
    "li.sort(reverse=True)\n",
    "print(li)"
   ]
  },
  {
   "cell_type": "code",
   "execution_count": 28,
   "id": "e80fab35-14b8-4bcc-8b8d-42eec82bdfe6",
   "metadata": {},
   "outputs": [],
   "source": [
    "li1 = [150, 350, 250]"
   ]
  },
  {
   "cell_type": "code",
   "execution_count": 31,
   "id": "24c0e00f-09ba-45ca-916d-0eed5e5ba3aa",
   "metadata": {},
   "outputs": [],
   "source": [
    "li.extend (li1)"
   ]
  },
  {
   "cell_type": "code",
   "execution_count": 32,
   "id": "6cac54d1-9884-4019-80ef-7db40356202e",
   "metadata": {},
   "outputs": [
    {
     "data": {
      "text/plain": [
       "[500, 400, 300, 200, 200, 100, 150, 350, 250]"
      ]
     },
     "execution_count": 32,
     "metadata": {},
     "output_type": "execute_result"
    }
   ],
   "source": [
    "li"
   ]
  },
  {
   "cell_type": "markdown",
   "id": "b83f2c6a-c45d-44d8-b9f6-b00a0dec1d96",
   "metadata": {},
   "source": [
    "### Bài 2: Cho trước 2 set \n",
    "> `set1 = {10, 20, 30, 40, 50}` \n",
    "\n",
    "> `set2 = {30, 40, 50, 60, 70}`\n",
    "\n",
    "#### 2.1 Trả về `set3` chứa các phần tử trùng nhau trong 2 sets trên"
   ]
  },
  {
   "cell_type": "code",
   "execution_count": 33,
   "id": "45502428-8c3e-4caf-92c6-8c8c02885788",
   "metadata": {},
   "outputs": [],
   "source": [
    "set1 = {10, 20, 30, 40, 50}\n",
    "set2 = {30, 40, 50, 60, 70}"
   ]
  },
  {
   "cell_type": "code",
   "execution_count": 34,
   "id": "a26815b9-a588-4387-b75f-1535fcbfd201",
   "metadata": {},
   "outputs": [
    {
     "data": {
      "text/plain": [
       "{30, 40, 50}"
      ]
     },
     "execution_count": 34,
     "metadata": {},
     "output_type": "execute_result"
    }
   ],
   "source": [
    "set1.intersection(set2)"
   ]
  },
  {
   "cell_type": "markdown",
   "id": "d4144fa6-ff02-499f-a35d-9a144fdcfbb2",
   "metadata": {},
   "source": [
    "#### 2.2 Kiểm tra xem `set1` có phải là tập con của `set2` hay không?"
   ]
  },
  {
   "cell_type": "code",
   "execution_count": 35,
   "id": "a695bf22-a528-4097-94f2-d6360ccc7de5",
   "metadata": {},
   "outputs": [
    {
     "data": {
      "text/plain": [
       "False"
      ]
     },
     "execution_count": 35,
     "metadata": {},
     "output_type": "execute_result"
    }
   ],
   "source": [
    "set1 = {10, 20, 30, 40, 50}\n",
    "set2 = {30, 40, 50, 60, 70}\n",
    "set1.issubset(set2)"
   ]
  },
  {
   "cell_type": "markdown",
   "id": "ef64407b-2699-446b-8ad3-82bdf5d453ac",
   "metadata": {},
   "source": [
    "### Bài 3: Cho trước tuples \n",
    "> `tu = (\"Python\", [10, 20, 30], (5, 15, 25))`\n",
    "\n",
    "> `tu1 = (11,22) `\n",
    "\n",
    "> `tu2 = (33,44)`\n",
    "\n",
    "#### 3.1 Trả về giá trị `15` từ `tu`"
   ]
  },
  {
   "cell_type": "code",
   "execution_count": 41,
   "id": "4aabd975-9a2f-40e8-8fc0-21b0426b0b33",
   "metadata": {},
   "outputs": [
    {
     "data": {
      "text/plain": [
       "15"
      ]
     },
     "execution_count": 41,
     "metadata": {},
     "output_type": "execute_result"
    }
   ],
   "source": [
    "tu = (\"Python\", [10, 20, 30], (5, 15, 25))\n",
    "\n",
    "tu1 = (11,22) \n",
    "\n",
    "tu2 = (33,44)\n",
    "tu[2][1]"
   ]
  },
  {
   "cell_type": "markdown",
   "id": "f1aa7536-6175-4f85-b487-bbcafff9b292",
   "metadata": {},
   "source": [
    "#### 3.2 Hoán đổi giá trị của `tu1` và `tu2` thành\n",
    "> `tu2 = (11,22)`\n",
    "\n",
    "> `tu1 = (33,44)`"
   ]
  },
  {
   "cell_type": "code",
   "execution_count": 43,
   "id": "6f132a47-7c02-46e2-834d-709c46fb94c7",
   "metadata": {},
   "outputs": [],
   "source": [
    "tu1 = (11,22) \n",
    "\n",
    "tu2 = (33,44)\n",
    "tu1, tu2 = tu2, tu1"
   ]
  },
  {
   "cell_type": "code",
   "execution_count": 44,
   "id": "516a70b9-dbbf-4f63-86bb-aae50620c28d",
   "metadata": {},
   "outputs": [
    {
     "data": {
      "text/plain": [
       "(33, 44)"
      ]
     },
     "execution_count": 44,
     "metadata": {},
     "output_type": "execute_result"
    }
   ],
   "source": [
    "tu1"
   ]
  },
  {
   "cell_type": "code",
   "execution_count": 45,
   "id": "ef930187-be35-4841-8991-947887f1c7aa",
   "metadata": {},
   "outputs": [
    {
     "data": {
      "text/plain": [
       "(11, 22)"
      ]
     },
     "execution_count": 45,
     "metadata": {},
     "output_type": "execute_result"
    }
   ],
   "source": [
    "tu2"
   ]
  },
  {
   "cell_type": "markdown",
   "id": "b9c52b54-5f52-40b6-9dee-2cfe961237c4",
   "metadata": {},
   "source": [
    "### Bài 4: Cho 2 danh sách \n",
    "> `student = ['Hanh','Đức','Hoà','Trâm']` \n",
    "\n",
    "> `age = [18, 20, 14, 16]`\n",
    "\n",
    "#### 4.1 Tạo 1 từ điển từ danh sách trên"
   ]
  },
  {
   "cell_type": "code",
   "execution_count": 49,
   "id": "aca61612-e75f-473d-9562-e1ad510dc4d9",
   "metadata": {},
   "outputs": [
    {
     "name": "stdout",
     "output_type": "stream",
     "text": [
      "{'Hanh': 18, 'Đức': 20, 'Hoà': 14, 'Trâm': 16}\n"
     ]
    }
   ],
   "source": [
    "list=[('Hanh',18),('Đức',20), ('Hoà',14),('Trâm',16)]\n",
    "DS=dict(list)\n",
    "print(DS) \n",
    "###Cô Hạnh ơi, cách này em lm ra kq như cô yc nhưng nó bị lâu ạ, có cách nào để nó match tương ứng vị trí không ạ?"
   ]
  },
  {
   "cell_type": "markdown",
   "id": "fca593fc-f187-498d-9296-5c9c10be912d",
   "metadata": {},
   "source": [
    "#### 4.2  Loại thông tin học viên `Hanh` ra khỏi dictionary"
   ]
  },
  {
   "cell_type": "code",
   "execution_count": 54,
   "id": "39aefaaf-c669-4080-a0d0-2600070b2682",
   "metadata": {},
   "outputs": [
    {
     "name": "stdout",
     "output_type": "stream",
     "text": [
      "{'Đức': 20, 'Hoà': 14, 'Trâm': 16}\n"
     ]
    }
   ],
   "source": [
    "popped1=DS.pop('Hanh')\n",
    "print (DS)"
   ]
  },
  {
   "cell_type": "code",
   "execution_count": 11,
   "id": "a250f039-5b70-4763-acb1-1b731714c238",
   "metadata": {},
   "outputs": [
    {
     "data": {
      "text/plain": [
       "{'Đức': 20, 'Hoà': 14, 'Trâm': 16}"
      ]
     },
     "execution_count": 11,
     "metadata": {},
     "output_type": "execute_result"
    }
   ],
   "source": []
  }
 ],
 "metadata": {
  "kernelspec": {
   "display_name": "Python 3 (ipykernel)",
   "language": "python",
   "name": "python3"
  },
  "language_info": {
   "codemirror_mode": {
    "name": "ipython",
    "version": 3
   },
   "file_extension": ".py",
   "mimetype": "text/x-python",
   "name": "python",
   "nbconvert_exporter": "python",
   "pygments_lexer": "ipython3",
   "version": "3.8.11"
  }
 },
 "nbformat": 4,
 "nbformat_minor": 5
}
