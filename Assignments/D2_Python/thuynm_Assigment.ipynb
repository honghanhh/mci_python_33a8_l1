{
 "cells": [
  {
   "cell_type": "markdown",
   "id": "e75f8228-8428-4de2-9684-6bf3f79af3be",
   "metadata": {},
   "source": [
    "# <center> Bài tập về nhà buổi 2: Giới thiệu về PYTHON </center>"
   ]
  },
  {
   "cell_type": "markdown",
   "id": "e48e2793-dfc5-4011-8408-7b9bff1acde7",
   "metadata": {},
   "source": [
    "### Bài 1: Cho trước 1 list chứa các phần tử như sau: \n",
    "> `li = [100, 300, 200, 400, 500, 200]`\n",
    "#### 1.1 Đảo ngược list trên"
   ]
  },
  {
   "cell_type": "code",
   "execution_count": 2,
   "id": "1ba6aa8e-5a33-4579-93d9-8766a5e64541",
   "metadata": {},
   "outputs": [],
   "source": [
    "li = [100, 300, 200, 400, 500, 200]"
   ]
  },
  {
   "cell_type": "code",
   "execution_count": 1,
   "id": "721a6a74-3e04-4155-ab5b-d739511fda3c",
   "metadata": {},
   "outputs": [
    {
     "data": {
      "text/plain": [
       "[200, 500, 400, 200, 300, 100]"
      ]
     },
     "execution_count": 1,
     "metadata": {},
     "output_type": "execute_result"
    }
   ],
   "source": []
  },
  {
   "cell_type": "code",
   "execution_count": 3,
   "id": "eda78fe4-b3c5-4c75-9b25-f100503f0ace",
   "metadata": {},
   "outputs": [
    {
     "data": {
      "text/plain": [
       "[200, 500, 400, 200, 300, 100]"
      ]
     },
     "execution_count": 3,
     "metadata": {},
     "output_type": "execute_result"
    }
   ],
   "source": [
    "li.reverse()\n",
    "li"
   ]
  },
  {
   "cell_type": "markdown",
   "id": "9551dc52-35e1-40ac-889e-194af3998d0b",
   "metadata": {},
   "source": [
    "#### 1.2 Sắp xếp các phần tử trong list trên theo thứ tự từ lớn đến bé"
   ]
  },
  {
   "cell_type": "code",
   "execution_count": 4,
   "id": "47fc51ba-52d1-4e4f-98c1-a10bfd2ff1c9",
   "metadata": {},
   "outputs": [
    {
     "data": {
      "text/plain": [
       "[500, 400, 300, 200, 200, 100]"
      ]
     },
     "execution_count": 4,
     "metadata": {},
     "output_type": "execute_result"
    }
   ],
   "source": [
    "li.sort()\n",
    "li.reverse()\n",
    "li"
   ]
  },
  {
   "cell_type": "code",
   "execution_count": null,
   "id": "58bba031-6768-4aec-be53-48ab30989f6e",
   "metadata": {},
   "outputs": [
    {
     "data": {
      "text/plain": [
       "[500, 400, 300, 200, 200, 100]"
      ]
     },
     "execution_count": 2,
     "metadata": {},
     "output_type": "execute_result"
    }
   ],
   "source": []
  },
  {
   "cell_type": "markdown",
   "id": "49878988-8cf4-4d3a-bb71-a22f496e3a74",
   "metadata": {},
   "source": [
    "#### 1.3 Thêm giá trị của list `li1 = [150, 350, 250]` vào list `li` sao cho\n",
    "> `li = [500, 400, 300, 200, 200, 100,150, 350, 250]`"
   ]
  },
  {
   "cell_type": "code",
   "execution_count": 5,
   "id": "349da74c-1ebf-4497-9d47-6eeef043115b",
   "metadata": {},
   "outputs": [],
   "source": [
    "li1=[150,350,250]"
   ]
  },
  {
   "cell_type": "code",
   "execution_count": 6,
   "id": "6d7b6157-3d7b-4ef0-a83b-6e61a59065cf",
   "metadata": {},
   "outputs": [
    {
     "data": {
      "text/plain": [
       "[500, 400, 300, 200, 200, 100, 150, 350, 250]"
      ]
     },
     "execution_count": 6,
     "metadata": {},
     "output_type": "execute_result"
    }
   ],
   "source": [
    "li.extend(li1)\n",
    "li"
   ]
  },
  {
   "cell_type": "code",
   "execution_count": 3,
   "id": "e7a556e0-3dac-4eab-accc-f010cc33dab2",
   "metadata": {},
   "outputs": [
    {
     "data": {
      "text/plain": [
       "[500, 400, 300, 200, 200, 100, 150, 350, 250]"
      ]
     },
     "execution_count": 3,
     "metadata": {},
     "output_type": "execute_result"
    }
   ],
   "source": []
  },
  {
   "cell_type": "markdown",
   "id": "b83f2c6a-c45d-44d8-b9f6-b00a0dec1d96",
   "metadata": {},
   "source": [
    "### Bài 2: Cho trước 2 set \n",
    "> `set1 = {10, 20, 30, 40, 50}` \n",
    "\n",
    "> `set2 = {30, 40, 50, 60, 70}`\n",
    "\n",
    "#### 2.1 Trả về `set3` chứa các phần tử trùng nhau trong 2 sets trên"
   ]
  },
  {
   "cell_type": "code",
   "execution_count": 7,
   "id": "d4b096ca-a1b7-4c03-9df2-a81e3684bee9",
   "metadata": {},
   "outputs": [],
   "source": [
    "set1={10, 20, 30, 40, 50}\n",
    "set2={30, 40, 50, 60, 70}"
   ]
  },
  {
   "cell_type": "code",
   "execution_count": 8,
   "id": "3a7da8fe-df31-4459-9935-7a76d7401f00",
   "metadata": {},
   "outputs": [
    {
     "data": {
      "text/plain": [
       "{30, 40, 50}"
      ]
     },
     "execution_count": 8,
     "metadata": {},
     "output_type": "execute_result"
    }
   ],
   "source": [
    "set1.intersection(set2)"
   ]
  },
  {
   "cell_type": "code",
   "execution_count": 4,
   "id": "45502428-8c3e-4caf-92c6-8c8c02885788",
   "metadata": {},
   "outputs": [
    {
     "data": {
      "text/plain": [
       "{30, 40, 50}"
      ]
     },
     "execution_count": 4,
     "metadata": {},
     "output_type": "execute_result"
    }
   ],
   "source": []
  },
  {
   "cell_type": "markdown",
   "id": "d4144fa6-ff02-499f-a35d-9a144fdcfbb2",
   "metadata": {},
   "source": [
    "#### 2.2 Kiểm tra xem `set1` có phải là tập con của `set2` hay không?"
   ]
  },
  {
   "cell_type": "code",
   "execution_count": 9,
   "id": "4667d0e7-6002-4985-bfbc-ce967f385fde",
   "metadata": {},
   "outputs": [
    {
     "data": {
      "text/plain": [
       "False"
      ]
     },
     "execution_count": 9,
     "metadata": {},
     "output_type": "execute_result"
    }
   ],
   "source": [
    "set1.issubset(set2)"
   ]
  },
  {
   "cell_type": "code",
   "execution_count": 5,
   "id": "a695bf22-a528-4097-94f2-d6360ccc7de5",
   "metadata": {},
   "outputs": [
    {
     "data": {
      "text/plain": [
       "False"
      ]
     },
     "execution_count": 5,
     "metadata": {},
     "output_type": "execute_result"
    }
   ],
   "source": []
  },
  {
   "cell_type": "markdown",
   "id": "ef64407b-2699-446b-8ad3-82bdf5d453ac",
   "metadata": {},
   "source": [
    "### Bài 3: Cho trước tuples \n",
    "> `tu = (\"Python\", [10, 20, 30], (5, 15, 25))`\n",
    "\n",
    "> `tu1 = (11,22) `\n",
    "\n",
    "> `tu2 = (33,44)`\n",
    "\n",
    "#### 3.1 Trả về giá trị `15` từ `tu`"
   ]
  },
  {
   "cell_type": "code",
   "execution_count": 10,
   "id": "b19bbba0-dd96-4cdb-86b8-bb2536c15bae",
   "metadata": {},
   "outputs": [],
   "source": [
    "tu = (\"Python\", [10, 20, 30], (5, 15, 25))"
   ]
  },
  {
   "cell_type": "code",
   "execution_count": 11,
   "id": "84e969e3-4597-454d-b230-dbe9053cf52f",
   "metadata": {},
   "outputs": [],
   "source": [
    "tu1 = (11,22)\n",
    "tu2 = (33,44)"
   ]
  },
  {
   "cell_type": "code",
   "execution_count": 15,
   "id": "54ccc061-63b0-402e-8cc5-56d19c076ef3",
   "metadata": {},
   "outputs": [
    {
     "data": {
      "text/plain": [
       "['count', 'index']"
      ]
     },
     "execution_count": 15,
     "metadata": {},
     "output_type": "execute_result"
    }
   ],
   "source": [
    "[method for method in dir(tu) if not method.startswith('_')]"
   ]
  },
  {
   "cell_type": "code",
   "execution_count": 17,
   "id": "44c7d9fd-a35b-46db-8885-c3cba6deb52e",
   "metadata": {},
   "outputs": [
    {
     "data": {
      "text/plain": [
       "15"
      ]
     },
     "execution_count": 17,
     "metadata": {},
     "output_type": "execute_result"
    }
   ],
   "source": [
    "tu[2][1]"
   ]
  },
  {
   "cell_type": "code",
   "execution_count": 6,
   "id": "4aabd975-9a2f-40e8-8fc0-21b0426b0b33",
   "metadata": {},
   "outputs": [
    {
     "data": {
      "text/plain": [
       "15"
      ]
     },
     "execution_count": 6,
     "metadata": {},
     "output_type": "execute_result"
    }
   ],
   "source": []
  },
  {
   "cell_type": "markdown",
   "id": "f1aa7536-6175-4f85-b487-bbcafff9b292",
   "metadata": {
    "tags": []
   },
   "source": [
    "#### 3.2 Hoán đổi giá trị của `tu1` và `tu2` thành\n",
    "> `tu2 = (11,22)`\n",
    "\n",
    "> `tu1 = (33,44)`"
   ]
  },
  {
   "cell_type": "code",
   "execution_count": 51,
   "id": "97353f65-9a48-4f1b-906f-56e21a6e411f",
   "metadata": {},
   "outputs": [],
   "source": [
    "tu1=(11,22)\n",
    "tu2=(33,44)\n",
    "tu1,tu2=tu2,tu1"
   ]
  },
  {
   "cell_type": "code",
   "execution_count": 52,
   "id": "9b95d4cd-6f81-443a-b13e-34839a10c7bc",
   "metadata": {},
   "outputs": [
    {
     "data": {
      "text/plain": [
       "(33, 44)"
      ]
     },
     "execution_count": 52,
     "metadata": {},
     "output_type": "execute_result"
    }
   ],
   "source": [
    "tu1"
   ]
  },
  {
   "cell_type": "code",
   "execution_count": 53,
   "id": "57b5867b-16a4-4afa-9238-cad5fc76909c",
   "metadata": {},
   "outputs": [
    {
     "data": {
      "text/plain": [
       "(11, 22)"
      ]
     },
     "execution_count": 53,
     "metadata": {},
     "output_type": "execute_result"
    }
   ],
   "source": [
    "tu2"
   ]
  },
  {
   "cell_type": "code",
   "execution_count": 8,
   "id": "8890ae40-2435-44f2-bbb0-aaa71f7353cf",
   "metadata": {},
   "outputs": [
    {
     "data": {
      "text/plain": [
       "(33, 44)"
      ]
     },
     "execution_count": 8,
     "metadata": {},
     "output_type": "execute_result"
    }
   ],
   "source": [
    "tu1"
   ]
  },
  {
   "cell_type": "code",
   "execution_count": 9,
   "id": "00167aa8-236c-4b3f-8213-64b6a2ffa25d",
   "metadata": {},
   "outputs": [
    {
     "data": {
      "text/plain": [
       "(11, 22)"
      ]
     },
     "execution_count": 9,
     "metadata": {},
     "output_type": "execute_result"
    }
   ],
   "source": [
    "tu2"
   ]
  },
  {
   "cell_type": "markdown",
   "id": "b9c52b54-5f52-40b6-9dee-2cfe961237c4",
   "metadata": {},
   "source": [
    "### Bài 4: Cho 2 danh sách \n",
    "> `student = ['Hanh','Đức','Hoà','Trâm']` \n",
    "\n",
    "> `age = [18, 20, 14, 16]`\n",
    "\n",
    "#### 4.1 Tạo 1 từ điển từ danh sách trên"
   ]
  },
  {
   "cell_type": "code",
   "execution_count": 67,
   "id": "4802b6b5-9da9-4364-8ff4-5cbcc08ca0be",
   "metadata": {},
   "outputs": [],
   "source": [
    "student = ['Hanh','Đức','Hoà','Trâm']\n",
    "age = [18, 20, 14, 16]"
   ]
  },
  {
   "cell_type": "code",
   "execution_count": 78,
   "id": "efa2a37d-2f06-497c-b9a7-303c8a5a664d",
   "metadata": {},
   "outputs": [
    {
     "data": {
      "text/plain": [
       "{'Hanh': 18, 'Đức': 20, 'Hoà': 14, 'Trâm': 16}"
      ]
     },
     "execution_count": 78,
     "metadata": {},
     "output_type": "execute_result"
    }
   ],
   "source": [
    "dict={student[0]:age[0],student[1]:age[1],student[2]:age[2],student[3]:age[3]}\n",
    "dict"
   ]
  },
  {
   "cell_type": "markdown",
   "id": "fca593fc-f187-498d-9296-5c9c10be912d",
   "metadata": {},
   "source": [
    "#### 4.2  Loại thông tin học viên `Hanh` ra khỏi dictionary"
   ]
  },
  {
   "cell_type": "code",
   "execution_count": 79,
   "id": "76f1751a-e3a2-4484-8ba6-d57e835ed474",
   "metadata": {},
   "outputs": [
    {
     "data": {
      "text/plain": [
       "18"
      ]
     },
     "execution_count": 79,
     "metadata": {},
     "output_type": "execute_result"
    }
   ],
   "source": [
    "dict.pop('Hanh')"
   ]
  },
  {
   "cell_type": "code",
   "execution_count": 80,
   "id": "a2ec866d-4386-43d1-970f-99799e372929",
   "metadata": {},
   "outputs": [
    {
     "data": {
      "text/plain": [
       "{'Đức': 20, 'Hoà': 14, 'Trâm': 16}"
      ]
     },
     "execution_count": 80,
     "metadata": {},
     "output_type": "execute_result"
    }
   ],
   "source": [
    "dict"
   ]
  },
  {
   "cell_type": "code",
   "execution_count": 11,
   "id": "a250f039-5b70-4763-acb1-1b731714c238",
   "metadata": {},
   "outputs": [
    {
     "data": {
      "text/plain": [
       "{'Đức': 20, 'Hoà': 14, 'Trâm': 16}"
      ]
     },
     "execution_count": 11,
     "metadata": {},
     "output_type": "execute_result"
    }
   ],
   "source": []
  }
 ],
 "metadata": {
  "kernelspec": {
   "display_name": "Python 3 (ipykernel)",
   "language": "python",
   "name": "python3"
  },
  "language_info": {
   "codemirror_mode": {
    "name": "ipython",
    "version": 3
   },
   "file_extension": ".py",
   "mimetype": "text/x-python",
   "name": "python",
   "nbconvert_exporter": "python",
   "pygments_lexer": "ipython3",
   "version": "3.8.11"
  }
 },
 "nbformat": 4,
 "nbformat_minor": 5
}
