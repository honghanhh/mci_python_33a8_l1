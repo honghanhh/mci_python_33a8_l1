{
 "cells": [
  {
   "cell_type": "markdown",
   "id": "e75f8228-8428-4de2-9684-6bf3f79af3be",
   "metadata": {},
   "source": [
    "# <center> Bài tập về nhà buổi 2: Giới thiệu về PYTHON </center>"
   ]
  },
  {
   "cell_type": "markdown",
   "id": "e48e2793-dfc5-4011-8408-7b9bff1acde7",
   "metadata": {
    "tags": []
   },
   "source": [
    "### Bài 1: Cho trước 1 list chứa các phần tử như sau: \n",
    "> `li = [100, 300, 200, 400, 500, 200]`\n",
    "#### 1.1 Đảo ngược list trên"
   ]
  },
  {
   "cell_type": "code",
   "execution_count": 2,
   "id": "721a6a74-3e04-4155-ab5b-d739511fda3c",
   "metadata": {},
   "outputs": [],
   "source": [
    "li = [100, 300, 200, 400, 500, 200]"
   ]
  },
  {
   "cell_type": "code",
   "execution_count": 3,
   "id": "f8fe0ead-d164-49bd-9580-85e234ada5a9",
   "metadata": {},
   "outputs": [],
   "source": [
    "li.reverse()"
   ]
  },
  {
   "cell_type": "code",
   "execution_count": 4,
   "id": "ba16241a-887c-4b3b-84bb-a2966b8fe0ca",
   "metadata": {},
   "outputs": [
    {
     "data": {
      "text/plain": [
       "[200, 500, 400, 200, 300, 100]"
      ]
     },
     "execution_count": 4,
     "metadata": {},
     "output_type": "execute_result"
    }
   ],
   "source": [
    "li"
   ]
  },
  {
   "cell_type": "markdown",
   "id": "9551dc52-35e1-40ac-889e-194af3998d0b",
   "metadata": {},
   "source": [
    "#### 1.2 Sắp xếp các phần tử trong list trên theo thứ tự từ lớn đến bé"
   ]
  },
  {
   "cell_type": "code",
   "execution_count": 2,
   "id": "58bba031-6768-4aec-be53-48ab30989f6e",
   "metadata": {},
   "outputs": [
    {
     "data": {
      "text/plain": [
       "[500, 400, 300, 200, 200, 100]"
      ]
     },
     "execution_count": 2,
     "metadata": {},
     "output_type": "execute_result"
    }
   ],
   "source": []
  },
  {
   "cell_type": "code",
   "execution_count": 5,
   "id": "428050e7-d439-4f7a-b641-81213ea3720f",
   "metadata": {},
   "outputs": [],
   "source": [
    "li.sort()"
   ]
  },
  {
   "cell_type": "code",
   "execution_count": 6,
   "id": "055e8fa8-6c38-46c6-ad2e-c41fd53a09a7",
   "metadata": {},
   "outputs": [
    {
     "data": {
      "text/plain": [
       "[100, 200, 200, 300, 400, 500]"
      ]
     },
     "execution_count": 6,
     "metadata": {},
     "output_type": "execute_result"
    }
   ],
   "source": [
    "li"
   ]
  },
  {
   "cell_type": "code",
   "execution_count": 7,
   "id": "7323d3f7-6109-4f2e-a692-6714fec0eaea",
   "metadata": {},
   "outputs": [],
   "source": [
    "li.reverse()"
   ]
  },
  {
   "cell_type": "code",
   "execution_count": 8,
   "id": "59a08358-ea94-41bf-8e2f-b887e7101e97",
   "metadata": {},
   "outputs": [
    {
     "data": {
      "text/plain": [
       "[500, 400, 300, 200, 200, 100]"
      ]
     },
     "execution_count": 8,
     "metadata": {},
     "output_type": "execute_result"
    }
   ],
   "source": [
    "li"
   ]
  },
  {
   "cell_type": "code",
   "execution_count": null,
   "id": "ccc8dc6a-bdec-4432-b5bd-38a0178116aa",
   "metadata": {},
   "outputs": [],
   "source": [
    "dd"
   ]
  },
  {
   "cell_type": "markdown",
   "id": "49878988-8cf4-4d3a-bb71-a22f496e3a74",
   "metadata": {},
   "source": [
    "#### 1.3 Thêm giá trị của list `li1 = [150, 350, 250]` vào list `li` sao cho\n",
    "> `li = [500, 400, 300, 200, 200, 100,150, 350, 250]`"
   ]
  },
  {
   "cell_type": "code",
   "execution_count": 10,
   "id": "e7a556e0-3dac-4eab-accc-f010cc33dab2",
   "metadata": {},
   "outputs": [],
   "source": [
    "li1 = [150, 350, 250]"
   ]
  },
  {
   "cell_type": "code",
   "execution_count": 12,
   "id": "263b9aec-36be-44d6-ab55-a45beffcf3da",
   "metadata": {},
   "outputs": [],
   "source": [
    "li.extend([150, 350, 250])"
   ]
  },
  {
   "cell_type": "code",
   "execution_count": 13,
   "id": "06f31bc8-628d-4fa7-a1cc-4bd7f33a4ab8",
   "metadata": {},
   "outputs": [
    {
     "data": {
      "text/plain": [
       "[500, 400, 300, 200, 200, 100, 150, 350, 250]"
      ]
     },
     "execution_count": 13,
     "metadata": {},
     "output_type": "execute_result"
    }
   ],
   "source": [
    "li"
   ]
  },
  {
   "cell_type": "code",
   "execution_count": null,
   "id": "9133e015-9478-4841-b6cd-60d057d4ecd3",
   "metadata": {},
   "outputs": [],
   "source": []
  },
  {
   "cell_type": "markdown",
   "id": "b83f2c6a-c45d-44d8-b9f6-b00a0dec1d96",
   "metadata": {},
   "source": [
    "### Bài 2: Cho trước 2 set \n",
    "> `set1 = {10, 20, 30, 40, 50}` \n",
    "\n",
    "> `set2 = {30, 40, 50, 60, 70}`\n",
    "\n",
    "#### 2.1 Trả về `set3` chứa các phần tử trùng nhau trong 2 sets trên"
   ]
  },
  {
   "cell_type": "code",
   "execution_count": 4,
   "id": "45502428-8c3e-4caf-92c6-8c8c02885788",
   "metadata": {},
   "outputs": [
    {
     "data": {
      "text/plain": [
       "{30, 40, 50}"
      ]
     },
     "execution_count": 4,
     "metadata": {},
     "output_type": "execute_result"
    }
   ],
   "source": []
  },
  {
   "cell_type": "code",
   "execution_count": 14,
   "id": "23389852-1614-42ef-887f-2ac05ad64a5b",
   "metadata": {},
   "outputs": [],
   "source": [
    "set1 = {10, 20, 30, 40, 50}"
   ]
  },
  {
   "cell_type": "code",
   "execution_count": 15,
   "id": "8a3cc70e-2230-4f2b-893f-8bf84dafdd45",
   "metadata": {},
   "outputs": [],
   "source": [
    "set2 = {30, 40, 50, 60, 70}"
   ]
  },
  {
   "cell_type": "code",
   "execution_count": 17,
   "id": "6e8e43d8-b772-4292-9523-f1b9c2807f27",
   "metadata": {},
   "outputs": [
    {
     "data": {
      "text/plain": [
       "{30, 40, 50}"
      ]
     },
     "execution_count": 17,
     "metadata": {},
     "output_type": "execute_result"
    }
   ],
   "source": [
    "set1.intersection(set2)"
   ]
  },
  {
   "cell_type": "markdown",
   "id": "d4144fa6-ff02-499f-a35d-9a144fdcfbb2",
   "metadata": {},
   "source": [
    "#### 2.2 Kiểm tra xem `set1` có phải là tập con của `set2` hay không?"
   ]
  },
  {
   "cell_type": "code",
   "execution_count": 5,
   "id": "a695bf22-a528-4097-94f2-d6360ccc7de5",
   "metadata": {},
   "outputs": [
    {
     "data": {
      "text/plain": [
       "False"
      ]
     },
     "execution_count": 5,
     "metadata": {},
     "output_type": "execute_result"
    }
   ],
   "source": []
  },
  {
   "cell_type": "code",
   "execution_count": 19,
   "id": "d6f285e3-bd62-4a05-a9e5-a96a3be77c79",
   "metadata": {},
   "outputs": [
    {
     "data": {
      "text/plain": [
       "False"
      ]
     },
     "execution_count": 19,
     "metadata": {},
     "output_type": "execute_result"
    }
   ],
   "source": [
    "set1.issuperset(set2)"
   ]
  },
  {
   "cell_type": "code",
   "execution_count": null,
   "id": "f83fc362-a5c4-4f52-9157-ac49a96c7f7b",
   "metadata": {},
   "outputs": [],
   "source": []
  },
  {
   "cell_type": "markdown",
   "id": "ef64407b-2699-446b-8ad3-82bdf5d453ac",
   "metadata": {},
   "source": [
    "### Bài 3: Cho trước tuples \n",
    "> `tu = (\"Python\", [10, 20, 30], (5, 15, 25))`\n",
    "\n",
    "> `tu1 = (11,22) `\n",
    "\n",
    "> `tu2 = (33,44)`\n",
    "\n",
    "#### 3.1 Trả về giá trị `15` từ `tu`"
   ]
  },
  {
   "cell_type": "code",
   "execution_count": 27,
   "id": "4aabd975-9a2f-40e8-8fc0-21b0426b0b33",
   "metadata": {},
   "outputs": [],
   "source": [
    "tu = (\"Python\", [10, 20, 30], (5, 15, 25))\n",
    "tu1 = (11,22)\n",
    "tu2 = (33,44)"
   ]
  },
  {
   "cell_type": "code",
   "execution_count": 43,
   "id": "859f3ef8-032b-444f-82cd-22bbae4080bd",
   "metadata": {},
   "outputs": [
    {
     "data": {
      "text/plain": [
       "15"
      ]
     },
     "execution_count": 43,
     "metadata": {},
     "output_type": "execute_result"
    }
   ],
   "source": [
    "tu[2][1]"
   ]
  },
  {
   "cell_type": "code",
   "execution_count": null,
   "id": "3b417570-4feb-4b97-a74b-d79088bf9dd3",
   "metadata": {},
   "outputs": [],
   "source": []
  },
  {
   "cell_type": "code",
   "execution_count": null,
   "id": "7ed9e63a-6c5d-4f8b-aab6-c1e6a31ac66d",
   "metadata": {},
   "outputs": [],
   "source": []
  },
  {
   "cell_type": "markdown",
   "id": "f1aa7536-6175-4f85-b487-bbcafff9b292",
   "metadata": {},
   "source": [
    "#### 3.2 Hoán đổi giá trị của `tu1` và `tu2` thành\n",
    "> `tu2 = (11,22)`\n",
    "\n",
    "> `tu1 = (33,44)`"
   ]
  },
  {
   "cell_type": "code",
   "execution_count": 37,
   "id": "6f132a47-7c02-46e2-834d-709c46fb94c7",
   "metadata": {},
   "outputs": [],
   "source": [
    "tu2, tu1 = tu1, tu2"
   ]
  },
  {
   "cell_type": "code",
   "execution_count": 41,
   "id": "08074983-9798-41a0-9fa1-45087480d91b",
   "metadata": {},
   "outputs": [
    {
     "data": {
      "text/plain": [
       "(33, 44)"
      ]
     },
     "execution_count": 41,
     "metadata": {},
     "output_type": "execute_result"
    }
   ],
   "source": [
    "tu1"
   ]
  },
  {
   "cell_type": "code",
   "execution_count": 42,
   "id": "2083ef80-8236-4ed1-85b4-8ca803a2a338",
   "metadata": {},
   "outputs": [
    {
     "data": {
      "text/plain": [
       "(11, 22)"
      ]
     },
     "execution_count": 42,
     "metadata": {},
     "output_type": "execute_result"
    }
   ],
   "source": [
    "tu2"
   ]
  },
  {
   "cell_type": "code",
   "execution_count": 8,
   "id": "8890ae40-2435-44f2-bbb0-aaa71f7353cf",
   "metadata": {},
   "outputs": [
    {
     "data": {
      "text/plain": [
       "(33, 44)"
      ]
     },
     "execution_count": 8,
     "metadata": {},
     "output_type": "execute_result"
    }
   ],
   "source": [
    "tu1"
   ]
  },
  {
   "cell_type": "code",
   "execution_count": 9,
   "id": "00167aa8-236c-4b3f-8213-64b6a2ffa25d",
   "metadata": {},
   "outputs": [
    {
     "data": {
      "text/plain": [
       "(11, 22)"
      ]
     },
     "execution_count": 9,
     "metadata": {},
     "output_type": "execute_result"
    }
   ],
   "source": [
    "tu2"
   ]
  },
  {
   "cell_type": "markdown",
   "id": "b9c52b54-5f52-40b6-9dee-2cfe961237c4",
   "metadata": {},
   "source": [
    "### Bài 4: Cho 2 danh sách \n",
    "> `student = ['Hanh','Đức','Hoà','Trâm']` \n",
    "\n",
    "> `age = [18, 20, 14, 16]`\n",
    "\n",
    "#### 4.1 Tạo 1 từ điển từ danh sách trên"
   ]
  },
  {
   "cell_type": "code",
   "execution_count": 10,
   "id": "aca61612-e75f-473d-9562-e1ad510dc4d9",
   "metadata": {},
   "outputs": [
    {
     "data": {
      "text/plain": [
       "{'Hanh': 18, 'Đức': 20, 'Hoà': 14, 'Trâm': 16}"
      ]
     },
     "execution_count": 10,
     "metadata": {},
     "output_type": "execute_result"
    }
   ],
   "source": []
  },
  {
   "cell_type": "code",
   "execution_count": 45,
   "id": "bfaec838-0137-48ee-a4e6-eebe9eb8e79e",
   "metadata": {},
   "outputs": [],
   "source": [
    "student = ['Hanh','Đức','Hoà','Trâm']\n",
    "age = [18, 20, 14, 16]"
   ]
  },
  {
   "cell_type": "code",
   "execution_count": 46,
   "id": "5747d1cd-9c79-46f4-89f3-84ebba6c0063",
   "metadata": {},
   "outputs": [
    {
     "data": {
      "text/plain": [
       "['Hanh', 'Đức', 'Hoà', 'Trâm']"
      ]
     },
     "execution_count": 46,
     "metadata": {},
     "output_type": "execute_result"
    }
   ],
   "source": [
    "student"
   ]
  },
  {
   "cell_type": "code",
   "execution_count": 54,
   "id": "2cf7876c-f38b-4584-8061-577015cec153",
   "metadata": {},
   "outputs": [],
   "source": [
    "dict1 = dict(zip(student, age))"
   ]
  },
  {
   "cell_type": "code",
   "execution_count": 49,
   "id": "3cd8203b-70a9-4e31-b755-b6e2f13d1db7",
   "metadata": {},
   "outputs": [
    {
     "data": {
      "text/plain": [
       "{'Hanh': 18, 'Đức': 20, 'Hoà': 14, 'Trâm': 16}"
      ]
     },
     "execution_count": 49,
     "metadata": {},
     "output_type": "execute_result"
    }
   ],
   "source": [
    "dict1"
   ]
  },
  {
   "cell_type": "markdown",
   "id": "fca593fc-f187-498d-9296-5c9c10be912d",
   "metadata": {},
   "source": [
    "#### 4.2  Loại thông tin học viên `Hanh` ra khỏi dictionary"
   ]
  },
  {
   "cell_type": "code",
   "execution_count": 11,
   "id": "a250f039-5b70-4763-acb1-1b731714c238",
   "metadata": {},
   "outputs": [
    {
     "data": {
      "text/plain": [
       "{'Đức': 20, 'Hoà': 14, 'Trâm': 16}"
      ]
     },
     "execution_count": 11,
     "metadata": {},
     "output_type": "execute_result"
    }
   ],
   "source": []
  },
  {
   "cell_type": "code",
   "execution_count": 56,
   "id": "80273c7a-22f8-4d69-a676-f79c1dcaa24c",
   "metadata": {},
   "outputs": [
    {
     "data": {
      "text/plain": [
       "18"
      ]
     },
     "execution_count": 56,
     "metadata": {},
     "output_type": "execute_result"
    }
   ],
   "source": [
    "dict1.pop('Hanh')"
   ]
  },
  {
   "cell_type": "code",
   "execution_count": 57,
   "id": "0724700a-3f81-4353-928f-563859c16128",
   "metadata": {},
   "outputs": [
    {
     "data": {
      "text/plain": [
       "{'Đức': 20, 'Hoà': 14, 'Trâm': 16}"
      ]
     },
     "execution_count": 57,
     "metadata": {},
     "output_type": "execute_result"
    }
   ],
   "source": [
    "dict1"
   ]
  }
 ],
 "metadata": {
  "kernelspec": {
   "display_name": "Python 3 (ipykernel)",
   "language": "python",
   "name": "python3"
  },
  "language_info": {
   "codemirror_mode": {
    "name": "ipython",
    "version": 3
   },
   "file_extension": ".py",
   "mimetype": "text/x-python",
   "name": "python",
   "nbconvert_exporter": "python",
   "pygments_lexer": "ipython3",
   "version": "3.8.11"
  }
 },
 "nbformat": 4,
 "nbformat_minor": 5
}
