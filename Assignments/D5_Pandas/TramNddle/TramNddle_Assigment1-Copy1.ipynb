{
 "cells": [
  {
   "cell_type": "markdown",
   "metadata": {},
   "source": [
    "# Ecommerce Purchases Exercise\n",
    "\n",
    "In this Exercise you will be given some Fake Data about some purchases done through Amazon! Just go ahead and follow the directions and try your best to answer the questions and complete the tasks. Most of the tasks can be solved in different ways. For the most part, the questions get progressively harder.\n",
    "\n",
    "Please excuse anything that doesn't make \"Real-World\" sense in the dataframe, all the data is fake and made-up.\n",
    "\n",
    "Also note that all of these questions can be answered with one line of code.\n",
    "\n",
    "**Import pandas and read in the Ecommerce Purchases csv file and set it to a DataFrame called ecom.**"
   ]
  },
  {
   "cell_type": "code",
   "execution_count": 1,
   "metadata": {},
   "outputs": [],
   "source": [
    "import numpy as np\n",
    "import pandas as pd"
   ]
  },
  {
   "cell_type": "code",
   "execution_count": 2,
   "metadata": {},
   "outputs": [],
   "source": [
    "ecom = pd.read_csv(\"Ecommerce Purchases\")"
   ]
  },
  {
   "cell_type": "markdown",
   "metadata": {},
   "source": [
    "**Check the head of the DataFrame.**  \n",
    "Hint: use `pd.DataFrame.head()`"
   ]
  },
  {
   "cell_type": "code",
   "execution_count": 4,
   "metadata": {},
   "outputs": [
    {
     "data": {
      "text/html": [
       "<div>\n",
       "<style scoped>\n",
       "    .dataframe tbody tr th:only-of-type {\n",
       "        vertical-align: middle;\n",
       "    }\n",
       "\n",
       "    .dataframe tbody tr th {\n",
       "        vertical-align: top;\n",
       "    }\n",
       "\n",
       "    .dataframe thead th {\n",
       "        text-align: right;\n",
       "    }\n",
       "</style>\n",
       "<table border=\"1\" class=\"dataframe\">\n",
       "  <thead>\n",
       "    <tr style=\"text-align: right;\">\n",
       "      <th></th>\n",
       "      <th>Address</th>\n",
       "      <th>Lot</th>\n",
       "      <th>AM or PM</th>\n",
       "      <th>Browser Info</th>\n",
       "      <th>Company</th>\n",
       "      <th>Credit Card</th>\n",
       "      <th>CC Exp Date</th>\n",
       "      <th>CC Security Code</th>\n",
       "      <th>CC Provider</th>\n",
       "      <th>Email</th>\n",
       "      <th>Job</th>\n",
       "      <th>IP Address</th>\n",
       "      <th>Language</th>\n",
       "      <th>Purchase Price</th>\n",
       "    </tr>\n",
       "  </thead>\n",
       "  <tbody>\n",
       "    <tr>\n",
       "      <th>0</th>\n",
       "      <td>16629 Pace Camp Apt. 448\\r\\nAlexisborough, NE ...</td>\n",
       "      <td>46 in</td>\n",
       "      <td>PM</td>\n",
       "      <td>Opera/9.56.(X11; Linux x86_64; sl-SI) Presto/2...</td>\n",
       "      <td>Martinez-Herman</td>\n",
       "      <td>6011929061123406</td>\n",
       "      <td>02/20</td>\n",
       "      <td>900</td>\n",
       "      <td>JCB 16 digit</td>\n",
       "      <td>pdunlap@yahoo.com</td>\n",
       "      <td>Scientist, product/process development</td>\n",
       "      <td>149.146.147.205</td>\n",
       "      <td>el</td>\n",
       "      <td>98.14</td>\n",
       "    </tr>\n",
       "    <tr>\n",
       "      <th>1</th>\n",
       "      <td>9374 Jasmine Spurs Suite 508\\r\\nSouth John, TN...</td>\n",
       "      <td>28 rn</td>\n",
       "      <td>PM</td>\n",
       "      <td>Opera/8.93.(Windows 98; Win 9x 4.90; en-US) Pr...</td>\n",
       "      <td>Fletcher, Richards and Whitaker</td>\n",
       "      <td>3337758169645356</td>\n",
       "      <td>11/18</td>\n",
       "      <td>561</td>\n",
       "      <td>Mastercard</td>\n",
       "      <td>anthony41@reed.com</td>\n",
       "      <td>Drilling engineer</td>\n",
       "      <td>15.160.41.51</td>\n",
       "      <td>fr</td>\n",
       "      <td>70.73</td>\n",
       "    </tr>\n",
       "    <tr>\n",
       "      <th>2</th>\n",
       "      <td>Unit 0065 Box 5052\\r\\nDPO AP 27450</td>\n",
       "      <td>94 vE</td>\n",
       "      <td>PM</td>\n",
       "      <td>Mozilla/5.0 (compatible; MSIE 9.0; Windows NT ...</td>\n",
       "      <td>Simpson, Williams and Pham</td>\n",
       "      <td>675957666125</td>\n",
       "      <td>08/19</td>\n",
       "      <td>699</td>\n",
       "      <td>JCB 16 digit</td>\n",
       "      <td>amymiller@morales-harrison.com</td>\n",
       "      <td>Customer service manager</td>\n",
       "      <td>132.207.160.22</td>\n",
       "      <td>de</td>\n",
       "      <td>0.95</td>\n",
       "    </tr>\n",
       "    <tr>\n",
       "      <th>3</th>\n",
       "      <td>7780 Julia Fords\\r\\nNew Stacy, WA 45798</td>\n",
       "      <td>36 vm</td>\n",
       "      <td>PM</td>\n",
       "      <td>Mozilla/5.0 (Macintosh; Intel Mac OS X 10_8_0 ...</td>\n",
       "      <td>Williams, Marshall and Buchanan</td>\n",
       "      <td>6011578504430710</td>\n",
       "      <td>02/24</td>\n",
       "      <td>384</td>\n",
       "      <td>Discover</td>\n",
       "      <td>brent16@olson-robinson.info</td>\n",
       "      <td>Drilling engineer</td>\n",
       "      <td>30.250.74.19</td>\n",
       "      <td>es</td>\n",
       "      <td>78.04</td>\n",
       "    </tr>\n",
       "    <tr>\n",
       "      <th>4</th>\n",
       "      <td>23012 Munoz Drive Suite 337\\r\\nNew Cynthia, TX...</td>\n",
       "      <td>20 IE</td>\n",
       "      <td>AM</td>\n",
       "      <td>Opera/9.58.(X11; Linux x86_64; it-IT) Presto/2...</td>\n",
       "      <td>Brown, Watson and Andrews</td>\n",
       "      <td>6011456623207998</td>\n",
       "      <td>10/25</td>\n",
       "      <td>678</td>\n",
       "      <td>Diners Club / Carte Blanche</td>\n",
       "      <td>christopherwright@gmail.com</td>\n",
       "      <td>Fine artist</td>\n",
       "      <td>24.140.33.94</td>\n",
       "      <td>es</td>\n",
       "      <td>77.82</td>\n",
       "    </tr>\n",
       "  </tbody>\n",
       "</table>\n",
       "</div>"
      ],
      "text/plain": [
       "                                             Address    Lot AM or PM  \\\n",
       "0  16629 Pace Camp Apt. 448\\r\\nAlexisborough, NE ...  46 in       PM   \n",
       "1  9374 Jasmine Spurs Suite 508\\r\\nSouth John, TN...  28 rn       PM   \n",
       "2                 Unit 0065 Box 5052\\r\\nDPO AP 27450  94 vE       PM   \n",
       "3            7780 Julia Fords\\r\\nNew Stacy, WA 45798  36 vm       PM   \n",
       "4  23012 Munoz Drive Suite 337\\r\\nNew Cynthia, TX...  20 IE       AM   \n",
       "\n",
       "                                        Browser Info  \\\n",
       "0  Opera/9.56.(X11; Linux x86_64; sl-SI) Presto/2...   \n",
       "1  Opera/8.93.(Windows 98; Win 9x 4.90; en-US) Pr...   \n",
       "2  Mozilla/5.0 (compatible; MSIE 9.0; Windows NT ...   \n",
       "3  Mozilla/5.0 (Macintosh; Intel Mac OS X 10_8_0 ...   \n",
       "4  Opera/9.58.(X11; Linux x86_64; it-IT) Presto/2...   \n",
       "\n",
       "                           Company       Credit Card CC Exp Date  \\\n",
       "0                  Martinez-Herman  6011929061123406       02/20   \n",
       "1  Fletcher, Richards and Whitaker  3337758169645356       11/18   \n",
       "2       Simpson, Williams and Pham      675957666125       08/19   \n",
       "3  Williams, Marshall and Buchanan  6011578504430710       02/24   \n",
       "4        Brown, Watson and Andrews  6011456623207998       10/25   \n",
       "\n",
       "   CC Security Code                  CC Provider  \\\n",
       "0               900                 JCB 16 digit   \n",
       "1               561                   Mastercard   \n",
       "2               699                 JCB 16 digit   \n",
       "3               384                     Discover   \n",
       "4               678  Diners Club / Carte Blanche   \n",
       "\n",
       "                            Email                                     Job  \\\n",
       "0               pdunlap@yahoo.com  Scientist, product/process development   \n",
       "1              anthony41@reed.com                       Drilling engineer   \n",
       "2  amymiller@morales-harrison.com                Customer service manager   \n",
       "3     brent16@olson-robinson.info                       Drilling engineer   \n",
       "4     christopherwright@gmail.com                             Fine artist   \n",
       "\n",
       "        IP Address Language  Purchase Price  \n",
       "0  149.146.147.205       el           98.14  \n",
       "1     15.160.41.51       fr           70.73  \n",
       "2   132.207.160.22       de            0.95  \n",
       "3     30.250.74.19       es           78.04  \n",
       "4     24.140.33.94       es           77.82  "
      ]
     },
     "execution_count": 4,
     "metadata": {},
     "output_type": "execute_result"
    }
   ],
   "source": [
    "ecom.head()"
   ]
  },
  {
   "cell_type": "code",
   "execution_count": 3,
   "metadata": {},
   "outputs": [
    {
     "data": {
      "text/html": [
       "<div>\n",
       "<style scoped>\n",
       "    .dataframe tbody tr th:only-of-type {\n",
       "        vertical-align: middle;\n",
       "    }\n",
       "\n",
       "    .dataframe tbody tr th {\n",
       "        vertical-align: top;\n",
       "    }\n",
       "\n",
       "    .dataframe thead th {\n",
       "        text-align: right;\n",
       "    }\n",
       "</style>\n",
       "<table border=\"1\" class=\"dataframe\">\n",
       "  <thead>\n",
       "    <tr style=\"text-align: right;\">\n",
       "      <th></th>\n",
       "      <th>Address</th>\n",
       "      <th>Lot</th>\n",
       "      <th>AM or PM</th>\n",
       "      <th>Browser Info</th>\n",
       "      <th>Company</th>\n",
       "      <th>Credit Card</th>\n",
       "      <th>CC Exp Date</th>\n",
       "      <th>CC Security Code</th>\n",
       "      <th>CC Provider</th>\n",
       "      <th>Email</th>\n",
       "      <th>Job</th>\n",
       "      <th>IP Address</th>\n",
       "      <th>Language</th>\n",
       "      <th>Purchase Price</th>\n",
       "    </tr>\n",
       "  </thead>\n",
       "  <tbody>\n",
       "    <tr>\n",
       "      <th>0</th>\n",
       "      <td>16629 Pace Camp Apt. 448\\nAlexisborough, NE 77...</td>\n",
       "      <td>46 in</td>\n",
       "      <td>PM</td>\n",
       "      <td>Opera/9.56.(X11; Linux x86_64; sl-SI) Presto/2...</td>\n",
       "      <td>Martinez-Herman</td>\n",
       "      <td>6011929061123406</td>\n",
       "      <td>02/20</td>\n",
       "      <td>900</td>\n",
       "      <td>JCB 16 digit</td>\n",
       "      <td>pdunlap@yahoo.com</td>\n",
       "      <td>Scientist, product/process development</td>\n",
       "      <td>149.146.147.205</td>\n",
       "      <td>el</td>\n",
       "      <td>98.14</td>\n",
       "    </tr>\n",
       "    <tr>\n",
       "      <th>1</th>\n",
       "      <td>9374 Jasmine Spurs Suite 508\\nSouth John, TN 8...</td>\n",
       "      <td>28 rn</td>\n",
       "      <td>PM</td>\n",
       "      <td>Opera/8.93.(Windows 98; Win 9x 4.90; en-US) Pr...</td>\n",
       "      <td>Fletcher, Richards and Whitaker</td>\n",
       "      <td>3337758169645356</td>\n",
       "      <td>11/18</td>\n",
       "      <td>561</td>\n",
       "      <td>Mastercard</td>\n",
       "      <td>anthony41@reed.com</td>\n",
       "      <td>Drilling engineer</td>\n",
       "      <td>15.160.41.51</td>\n",
       "      <td>fr</td>\n",
       "      <td>70.73</td>\n",
       "    </tr>\n",
       "    <tr>\n",
       "      <th>2</th>\n",
       "      <td>Unit 0065 Box 5052\\nDPO AP 27450</td>\n",
       "      <td>94 vE</td>\n",
       "      <td>PM</td>\n",
       "      <td>Mozilla/5.0 (compatible; MSIE 9.0; Windows NT ...</td>\n",
       "      <td>Simpson, Williams and Pham</td>\n",
       "      <td>675957666125</td>\n",
       "      <td>08/19</td>\n",
       "      <td>699</td>\n",
       "      <td>JCB 16 digit</td>\n",
       "      <td>amymiller@morales-harrison.com</td>\n",
       "      <td>Customer service manager</td>\n",
       "      <td>132.207.160.22</td>\n",
       "      <td>de</td>\n",
       "      <td>0.95</td>\n",
       "    </tr>\n",
       "    <tr>\n",
       "      <th>3</th>\n",
       "      <td>7780 Julia Fords\\nNew Stacy, WA 45798</td>\n",
       "      <td>36 vm</td>\n",
       "      <td>PM</td>\n",
       "      <td>Mozilla/5.0 (Macintosh; Intel Mac OS X 10_8_0 ...</td>\n",
       "      <td>Williams, Marshall and Buchanan</td>\n",
       "      <td>6011578504430710</td>\n",
       "      <td>02/24</td>\n",
       "      <td>384</td>\n",
       "      <td>Discover</td>\n",
       "      <td>brent16@olson-robinson.info</td>\n",
       "      <td>Drilling engineer</td>\n",
       "      <td>30.250.74.19</td>\n",
       "      <td>es</td>\n",
       "      <td>78.04</td>\n",
       "    </tr>\n",
       "    <tr>\n",
       "      <th>4</th>\n",
       "      <td>23012 Munoz Drive Suite 337\\nNew Cynthia, TX 5...</td>\n",
       "      <td>20 IE</td>\n",
       "      <td>AM</td>\n",
       "      <td>Opera/9.58.(X11; Linux x86_64; it-IT) Presto/2...</td>\n",
       "      <td>Brown, Watson and Andrews</td>\n",
       "      <td>6011456623207998</td>\n",
       "      <td>10/25</td>\n",
       "      <td>678</td>\n",
       "      <td>Diners Club / Carte Blanche</td>\n",
       "      <td>christopherwright@gmail.com</td>\n",
       "      <td>Fine artist</td>\n",
       "      <td>24.140.33.94</td>\n",
       "      <td>es</td>\n",
       "      <td>77.82</td>\n",
       "    </tr>\n",
       "  </tbody>\n",
       "</table>\n",
       "</div>"
      ],
      "text/plain": [
       "                                             Address    Lot AM or PM  \\\n",
       "0  16629 Pace Camp Apt. 448\\nAlexisborough, NE 77...  46 in       PM   \n",
       "1  9374 Jasmine Spurs Suite 508\\nSouth John, TN 8...  28 rn       PM   \n",
       "2                   Unit 0065 Box 5052\\nDPO AP 27450  94 vE       PM   \n",
       "3              7780 Julia Fords\\nNew Stacy, WA 45798  36 vm       PM   \n",
       "4  23012 Munoz Drive Suite 337\\nNew Cynthia, TX 5...  20 IE       AM   \n",
       "\n",
       "                                        Browser Info  \\\n",
       "0  Opera/9.56.(X11; Linux x86_64; sl-SI) Presto/2...   \n",
       "1  Opera/8.93.(Windows 98; Win 9x 4.90; en-US) Pr...   \n",
       "2  Mozilla/5.0 (compatible; MSIE 9.0; Windows NT ...   \n",
       "3  Mozilla/5.0 (Macintosh; Intel Mac OS X 10_8_0 ...   \n",
       "4  Opera/9.58.(X11; Linux x86_64; it-IT) Presto/2...   \n",
       "\n",
       "                           Company       Credit Card CC Exp Date  \\\n",
       "0                  Martinez-Herman  6011929061123406       02/20   \n",
       "1  Fletcher, Richards and Whitaker  3337758169645356       11/18   \n",
       "2       Simpson, Williams and Pham      675957666125       08/19   \n",
       "3  Williams, Marshall and Buchanan  6011578504430710       02/24   \n",
       "4        Brown, Watson and Andrews  6011456623207998       10/25   \n",
       "\n",
       "   CC Security Code                  CC Provider  \\\n",
       "0               900                 JCB 16 digit   \n",
       "1               561                   Mastercard   \n",
       "2               699                 JCB 16 digit   \n",
       "3               384                     Discover   \n",
       "4               678  Diners Club / Carte Blanche   \n",
       "\n",
       "                            Email                                     Job  \\\n",
       "0               pdunlap@yahoo.com  Scientist, product/process development   \n",
       "1              anthony41@reed.com                       Drilling engineer   \n",
       "2  amymiller@morales-harrison.com                Customer service manager   \n",
       "3     brent16@olson-robinson.info                       Drilling engineer   \n",
       "4     christopherwright@gmail.com                             Fine artist   \n",
       "\n",
       "        IP Address Language  Purchase Price  \n",
       "0  149.146.147.205       el           98.14  \n",
       "1     15.160.41.51       fr           70.73  \n",
       "2   132.207.160.22       de            0.95  \n",
       "3     30.250.74.19       es           78.04  \n",
       "4     24.140.33.94       es           77.82  "
      ]
     },
     "execution_count": 3,
     "metadata": {},
     "output_type": "execute_result"
    }
   ],
   "source": []
  },
  {
   "cell_type": "markdown",
   "metadata": {},
   "source": [
    "**How many rows and columns are there?**  \n",
    "Hint: use `pd.DataFrame.info()`"
   ]
  },
  {
   "cell_type": "code",
   "execution_count": 5,
   "metadata": {},
   "outputs": [
    {
     "name": "stdout",
     "output_type": "stream",
     "text": [
      "<class 'pandas.core.frame.DataFrame'>\n",
      "RangeIndex: 10000 entries, 0 to 9999\n",
      "Data columns (total 14 columns):\n",
      " #   Column            Non-Null Count  Dtype  \n",
      "---  ------            --------------  -----  \n",
      " 0   Address           10000 non-null  object \n",
      " 1   Lot               10000 non-null  object \n",
      " 2   AM or PM          10000 non-null  object \n",
      " 3   Browser Info      10000 non-null  object \n",
      " 4   Company           10000 non-null  object \n",
      " 5   Credit Card       10000 non-null  int64  \n",
      " 6   CC Exp Date       10000 non-null  object \n",
      " 7   CC Security Code  10000 non-null  int64  \n",
      " 8   CC Provider       10000 non-null  object \n",
      " 9   Email             10000 non-null  object \n",
      " 10  Job               10000 non-null  object \n",
      " 11  IP Address        10000 non-null  object \n",
      " 12  Language          10000 non-null  object \n",
      " 13  Purchase Price    10000 non-null  float64\n",
      "dtypes: float64(1), int64(2), object(11)\n",
      "memory usage: 1.1+ MB\n"
     ]
    }
   ],
   "source": [
    "ecom.info()"
   ]
  },
  {
   "cell_type": "markdown",
   "metadata": {},
   "source": [
    "**What is the average Purchase Price?**  \n",
    "Hint: use `pd.Series.mean()`"
   ]
  },
  {
   "cell_type": "code",
   "execution_count": 7,
   "metadata": {},
   "outputs": [
    {
     "data": {
      "text/plain": [
       "50.347302"
      ]
     },
     "execution_count": 7,
     "metadata": {},
     "output_type": "execute_result"
    }
   ],
   "source": [
    "ecom['Purchase Price'].mean()"
   ]
  },
  {
   "cell_type": "markdown",
   "metadata": {},
   "source": [
    "**What were the highest and lowest purchase prices?**  \n",
    "Hint: use `pd.Series.max() & pd.Series.min()`"
   ]
  },
  {
   "cell_type": "code",
   "execution_count": 8,
   "metadata": {},
   "outputs": [
    {
     "data": {
      "text/plain": [
       "99.99"
      ]
     },
     "execution_count": 8,
     "metadata": {},
     "output_type": "execute_result"
    }
   ],
   "source": [
    "ecom['Purchase Price'].max()"
   ]
  },
  {
   "cell_type": "code",
   "execution_count": 9,
   "metadata": {},
   "outputs": [
    {
     "data": {
      "text/plain": [
       "0.0"
      ]
     },
     "execution_count": 9,
     "metadata": {},
     "output_type": "execute_result"
    }
   ],
   "source": [
    "ecom['Purchase Price'].min()"
   ]
  },
  {
   "cell_type": "markdown",
   "metadata": {},
   "source": [
    "**How many people have English 'en' as their Language of choice on the website?**  \n",
    "Hint: use masking to check which row with \"Language\" == 'en', then use the boolean series to get those rows, then use `pd.DataFrame.count()`"
   ]
  },
  {
   "cell_type": "code",
   "execution_count": 14,
   "metadata": {},
   "outputs": [
    {
     "data": {
      "text/plain": [
       "Address             1098\n",
       "Lot                 1098\n",
       "AM or PM            1098\n",
       "Browser Info        1098\n",
       "Company             1098\n",
       "Credit Card         1098\n",
       "CC Exp Date         1098\n",
       "CC Security Code    1098\n",
       "CC Provider         1098\n",
       "Email               1098\n",
       "Job                 1098\n",
       "IP Address          1098\n",
       "Language            1098\n",
       "Purchase Price      1098\n",
       "dtype: int64"
      ]
     },
     "execution_count": 14,
     "metadata": {},
     "output_type": "execute_result"
    }
   ],
   "source": [
    "ecom[ecom['Language'] =='en'].count()"
   ]
  },
  {
   "cell_type": "markdown",
   "metadata": {},
   "source": [
    "**How many people have the job title of \"Lawyer\" ?**  \n",
    "Hint: similar with the above question but let's use `pd.DataFrame.info()` instead"
   ]
  },
  {
   "cell_type": "code",
   "execution_count": 15,
   "metadata": {},
   "outputs": [
    {
     "name": "stdout",
     "output_type": "stream",
     "text": [
      "<class 'pandas.core.frame.DataFrame'>\n",
      "Int64Index: 30 entries, 470 to 9979\n",
      "Data columns (total 14 columns):\n",
      " #   Column            Non-Null Count  Dtype  \n",
      "---  ------            --------------  -----  \n",
      " 0   Address           30 non-null     object \n",
      " 1   Lot               30 non-null     object \n",
      " 2   AM or PM          30 non-null     object \n",
      " 3   Browser Info      30 non-null     object \n",
      " 4   Company           30 non-null     object \n",
      " 5   Credit Card       30 non-null     int64  \n",
      " 6   CC Exp Date       30 non-null     object \n",
      " 7   CC Security Code  30 non-null     int64  \n",
      " 8   CC Provider       30 non-null     object \n",
      " 9   Email             30 non-null     object \n",
      " 10  Job               30 non-null     object \n",
      " 11  IP Address        30 non-null     object \n",
      " 12  Language          30 non-null     object \n",
      " 13  Purchase Price    30 non-null     float64\n",
      "dtypes: float64(1), int64(2), object(11)\n",
      "memory usage: 3.5+ KB\n"
     ]
    }
   ],
   "source": [
    "ecom[ecom.Job == 'Lawyer'].info()"
   ]
  },
  {
   "cell_type": "markdown",
   "metadata": {},
   "source": [
    "**How many people made the purchase during the AM and how many people made the purchase during PM ?-**\n",
    "\n",
    "**(Hint: Check out [value_counts()](http://pandas.pydata.org/pandas-docs/stable/generated/pandas.Series.value_counts.html) ) **"
   ]
  },
  {
   "cell_type": "code",
   "execution_count": 16,
   "metadata": {},
   "outputs": [
    {
     "data": {
      "text/plain": [
       "PM    5068\n",
       "AM    4932\n",
       "Name: AM or PM, dtype: int64"
      ]
     },
     "execution_count": 16,
     "metadata": {},
     "output_type": "execute_result"
    }
   ],
   "source": [
    "ecom['AM or PM'].value_counts()"
   ]
  },
  {
   "cell_type": "markdown",
   "metadata": {},
   "source": [
    "**What are the 5 most common Job Titles?**  \n",
    "Hint: similar to the above question, then use `head()`"
   ]
  },
  {
   "cell_type": "code",
   "execution_count": 20,
   "metadata": {},
   "outputs": [
    {
     "data": {
      "text/plain": [
       "Interior and spatial designer    31\n",
       "Lawyer                           30\n",
       "Social researcher                28\n",
       "Purchasing manager               27\n",
       "Designer, jewellery              27\n",
       "Name: Job, dtype: int64"
      ]
     },
     "execution_count": 20,
     "metadata": {},
     "output_type": "execute_result"
    }
   ],
   "source": [
    "ecom.Job.value_counts().head(5)"
   ]
  },
  {
   "cell_type": "markdown",
   "metadata": {},
   "source": [
    "**Someone made a purchase that came from Lot: \"90 WT\" , what was the Purchase Price for this transaction?**"
   ]
  },
  {
   "cell_type": "code",
   "execution_count": 21,
   "metadata": {},
   "outputs": [
    {
     "data": {
      "text/plain": [
       "513    75.1\n",
       "Name: Purchase Price, dtype: float64"
      ]
     },
     "execution_count": 21,
     "metadata": {},
     "output_type": "execute_result"
    }
   ],
   "source": [
    "ecom['Purchase Price'][ecom.Lot=='90 WT']"
   ]
  },
  {
   "cell_type": "markdown",
   "metadata": {},
   "source": [
    "**What is the email of the person with the following Credit Card Number: 4926535242672853**"
   ]
  },
  {
   "cell_type": "code",
   "execution_count": 26,
   "metadata": {},
   "outputs": [
    {
     "data": {
      "text/plain": [
       "1234    bondellen@williams-garza.com\n",
       "Name: Email, dtype: object"
      ]
     },
     "execution_count": 26,
     "metadata": {},
     "output_type": "execute_result"
    }
   ],
   "source": [
    "ecom['Email'][ecom['Credit Card'] == 4926535242672853]"
   ]
  },
  {
   "cell_type": "markdown",
   "metadata": {},
   "source": [
    "**How many people have American Express as their Credit Card Provider *and* made a purchase above $95?**  "
   ]
  },
  {
   "cell_type": "code",
   "execution_count": 1,
   "metadata": {},
   "outputs": [
    {
     "ename": "NameError",
     "evalue": "name 'ecom' is not defined",
     "output_type": "error",
     "traceback": [
      "\u001b[1;31m---------------------------------------------------------------------------\u001b[0m",
      "\u001b[1;31mNameError\u001b[0m                                 Traceback (most recent call last)",
      "\u001b[1;32m~\\AppData\\Local\\Temp/ipykernel_17528/959298626.py\u001b[0m in \u001b[0;36m<module>\u001b[1;34m\u001b[0m\n\u001b[1;32m----> 1\u001b[1;33m \u001b[0mecom_1\u001b[0m \u001b[1;33m=\u001b[0m \u001b[0mecom\u001b[0m\u001b[1;33m[\u001b[0m\u001b[1;33m(\u001b[0m\u001b[0mecom\u001b[0m\u001b[1;33m[\u001b[0m\u001b[1;34m'CC Provider'\u001b[0m\u001b[1;33m]\u001b[0m\u001b[1;33m==\u001b[0m\u001b[1;34m'American Express'\u001b[0m\u001b[1;33m)\u001b[0m\u001b[1;33m&\u001b[0m\u001b[1;33m(\u001b[0m\u001b[0mecom\u001b[0m\u001b[1;33m[\u001b[0m\u001b[1;34m'Purchase Price'\u001b[0m\u001b[1;33m]\u001b[0m\u001b[1;33m>\u001b[0m \u001b[1;36m95\u001b[0m\u001b[1;33m)\u001b[0m\u001b[1;33m]\u001b[0m\u001b[1;33m\u001b[0m\u001b[1;33m\u001b[0m\u001b[0m\n\u001b[0m\u001b[0;32m      2\u001b[0m \u001b[0mtype\u001b[0m\u001b[1;33m(\u001b[0m\u001b[0mecom_1\u001b[0m\u001b[1;33m)\u001b[0m\u001b[1;33m\u001b[0m\u001b[1;33m\u001b[0m\u001b[0m\n",
      "\u001b[1;31mNameError\u001b[0m: name 'ecom' is not defined"
     ]
    }
   ],
   "source": [
    "ecom_1 = ecom[(ecom['CC Provider']=='American Express')&(ecom['Purchase Price']> 95)]\n",
    "type(ecom_1)"
   ]
  },
  {
   "cell_type": "code",
   "execution_count": 44,
   "metadata": {},
   "outputs": [
    {
     "data": {
      "text/plain": [
       "Address                                                             Lot    AM or PM  Browser Info                                                                                                                                      Company                        Credit Card       CC Exp Date  CC Security Code  CC Provider       Email                                   Job                                           IP Address       Language  Purchase Price\n",
       "03233 Angela Road Apt. 808\\r\\nEast Jilliantown, GA 61190-7773       41 nH  PM        Opera/9.53.(Windows 95; en-US) Presto/2.9.175 Version/11.00                                                                                       Silva, Kim and Martinez        4807251488895729  10/21        948               American Express  jonesjesse@castro.info                  Garment/textile technologist                  87.66.16.4       en        99.69             1\n",
       "8256 Anderson Forest\\r\\nFordbury, PA 81027-8980                     17 Oe  AM        Mozilla/5.0 (compatible; MSIE 9.0; Windows NT 5.2; Trident/4.0)                                                                                   Kelly, Peterson and Oliver     5173335726386576  02/18        954               American Express  hernandezandrea@yahoo.com               Community development worker                  212.168.246.27   ru        95.07             1\n",
       "67796 James Keys Suite 656\\r\\nSouth Katieshire, SD 57639            06 ia  PM        Mozilla/5.0 (Windows NT 5.1) AppleWebKit/5330 (KHTML, like Gecko) Chrome/13.0.807.0 Safari/5330                                                   Gonzalez, Gross and Allen      30407332938506    12/20        597               American Express  vbrown@daugherty.com                    Geophysical data processor                    152.133.246.191  zh        98.89             1\n",
       "678 David Manor Suite 323\\r\\nBobbymouth, PW 59942                   91 NA  AM        Mozilla/5.0 (compatible; MSIE 8.0; Windows 98; Trident/5.1)                                                                                       Glenn, Lowe and Shah           676298897445      04/26        61                American Express  tammy75@cameron.com                     Automotive engineer                           37.241.180.247   ru        98.36             1\n",
       "76108 Barker Manors\\r\\nEast Amy, PW 49544-5921                      82 Qw  AM        Mozilla/5.0 (X11; Linux x86_64) AppleWebKit/5360 (KHTML, like Gecko) Chrome/15.0.836.0 Safari/5360                                                Nguyen, Branch and Wiley       5142451859832464  04/21        785               American Express  johnsonjulie@yahoo.com                  Insurance claims handler                      175.248.232.126  es        97.04             1\n",
       "79284 Lisa Mews Suite 069\\r\\nKellyborough, CT 71722-9954            45 MR  PM        Mozilla/5.0 (Macintosh; PPC Mac OS X 10_5_5; rv:1.9.2.20) Gecko/2015-10-11 02:00:06 Firefox/3.8                                                   Randall-Cohen                  4855262855037     05/17        518               American Express  maldonadomichael@martinez-delgado.info  Geophysical data processor                    50.40.147.204    it        96.11             1\n",
       "81060 Dustin Causeway Apt. 503\\r\\nPort Danielchester, KY 17117      80 zh  PM        Mozilla/5.0 (Windows NT 5.01) AppleWebKit/5362 (KHTML, like Gecko) Chrome/15.0.844.0 Safari/5362                                                  Clay PLC                       377737470673585   10/17        349               American Express  hfarley@hicks.com                       Ergonomist                                    134.52.148.32    de        99.13             1\n",
       "81561 Stein Rue\\r\\nEast Melissaport, MA 64959                       45 sZ  PM        Mozilla/5.0 (X11; Linux i686) AppleWebKit/5310 (KHTML, like Gecko) Chrome/15.0.800.0 Safari/5310                                                  Smith Ltd                      503825682670      07/19        852               American Express  beckerjennifer@gmail.com                Engineer, energy                              50.107.135.203   fr        97.32             1\n",
       "8161 Craig Passage Apt. 939\\r\\nPort Emilystad, RI 10001             45 ab  AM        Mozilla/5.0 (Windows; U; Windows NT 6.1) AppleWebKit/535.15.5 (KHTML, like Gecko) Version/4.0.4 Safari/535.15.5                                   Wilson-Robinson                5506767693718324  08/23        18                American Express  hhenderson@yahoo.com                    Customer service manager                      119.74.76.168    es        96.49             1\n",
       "87003 Jason Tunnel Apt. 216\\r\\nDariusville, MS 82992                72 gL  AM        Mozilla/5.0 (compatible; MSIE 9.0; Windows NT 5.0; Trident/5.1)                                                                                   Reyes, Fox and Wilson          180010957603245   09/24        929               American Express  duncanmichael@hotmail.com               Event organiser                               231.34.199.32    it        97.38             1\n",
       "557 Barton Harbor\\r\\nFuentesport, VI 29961                          96 MV  AM        Mozilla/5.0 (compatible; MSIE 6.0; Windows 98; Trident/5.0)                                                                                       Flores-Cook                    3337255995040373  04/19        28                American Express  jessica94@mosley-buchanan.com           Armed forces technical officer                35.97.189.19     es        98.01             1\n",
       "88284 Austin Summit Apt. 805\\r\\nKellerside, WY 63357                03 WL  AM        Mozilla/5.0 (Macintosh; U; PPC Mac OS X 10_5_5 rv:2.0; sl-SI) AppleWebKit/532.30.5 (KHTML, like Gecko) Version/5.0.1 Safari/532.30.5              Fisher, Thompson and Lynch     3088726880694574  12/19        159               American Express  amy00@patton.com                        Actuary                                       207.18.223.8     el        97.38             1\n",
       "899 Williams Prairie Suite 234\\r\\nEast Hunterbury, WA 14939-0145    46 hb  PM        Mozilla/5.0 (compatible; MSIE 7.0; Windows NT 5.2; Trident/4.1)                                                                                   Webb Inc                       3096797127305092  05/17        418               American Express  reevesmanuel@gmail.com                  Engineer, maintenance (IT)                    169.132.152.152  el        96.08             1\n",
       "916 Amanda Heights\\r\\nNew Johnland, CA 52112-8572                   09 vg  PM        Mozilla/5.0 (X11; Linux i686; rv:1.9.7.20) Gecko/2015-01-05 03:21:24 Firefox/3.6.6                                                                Clark, Ross and Travis         371229555854245   10/21        366               American Express  lawrencecarter@kelly.com                Artist                                        88.49.59.205     pt        96.55             1\n",
       "PSC 8264, Box 8124\\r\\nAPO AE 19700                                  97 sG  PM        Mozilla/5.0 (iPod; U; CPU iPhone OS 3_3 like Mac OS X; sl-SI) AppleWebKit/534.2.4 (KHTML, like Gecko) Version/4.0.5 Mobile/8B118 Safari/6534.2.4  Moore Inc                      6011499701167585  10/20        845               American Express  kellypace@yahoo.com                     Aid worker                                    155.121.60.58    pt        98.66             1\n",
       "USNS Smith\\r\\nFPO AA 37829                                          80 BX  AM        Opera/9.56.(X11; Linux x86_64; en-US) Presto/2.9.189 Version/12.00                                                                                Patterson-Miller               4411786056713950  12/22        452               American Express  ijones@hotmail.com                      Field seismologist                            251.254.250.100  el        96.13             1\n",
       "Unit 4385 Box 1428\\r\\nDPO AE 04110                                  58 Ex  AM        Mozilla/5.0 (Windows; U; Windows NT 5.01) AppleWebKit/535.19.6 (KHTML, like Gecko) Version/4.0 Safari/535.19.6                                    White Inc                      3112975578138572  09/17        7                 American Express  scott35@yahoo.com                       Operations geologist                          217.6.202.138    en        95.89             1\n",
       "Unit 4967 Box 4574\\r\\nDPO AP 11412                                  05 zs  PM        Mozilla/5.0 (compatible; MSIE 5.0; Windows 98; Win 9x 4.90; Trident/3.0)                                                                          Acevedo-Smith                  3337721305744244  01/19        738               American Express  nunezjames@hotmail.com                  Designer, exhibition/display                  91.55.254.144    es        98.16             1\n",
       "58939 Reese Cove\\r\\nSouth Ross, MA 54531                            50 cD  AM        Mozilla/5.0 (compatible; MSIE 9.0; Windows 95; Trident/4.1)                                                                                       Chang, Davis and Snyder        349464844934636   11/23        103               American Express  stephanieacosta@yahoo.com               IT trainer                                    124.247.101.106  it        95.94             1\n",
       "4855 Peter Bridge\\r\\nJohnsonberg, PA 90599-0009                     62 Nx  AM        Opera/9.49.(Windows 98; Win 9x 4.90; en-US) Presto/2.9.176 Version/12.00                                                                          Jones and Sons                 4960556611626434  07/26        9255              American Express  evanskayla@fernandez.com                Plant breeder/geneticist                      235.97.240.112   el        98.97             1\n",
       "040 Ingram Way Suite 602\\r\\nEast Matthew, AR 67341                  52 WA  AM        Mozilla/5.0 (Windows NT 6.0) AppleWebKit/5341 (KHTML, like Gecko) Chrome/15.0.839.0 Safari/5341                                                   Baker, Simmons and Pitts       3096946456575623  11/22        56                American Express  holtamanda@gmail.com                    Archaeologist                                 185.14.106.115   es        99.85             1\n",
       "327 Hamilton Hollow\\r\\nEast Nicolechester, RI 65868                 53 dE  PM        Mozilla/5.0 (Macintosh; U; PPC Mac OS X 10_5_3 rv:2.0; it-IT) AppleWebKit/531.27.5 (KHTML, like Gecko) Version/5.0.1 Safari/531.27.5              Keller, Carter and Garcia      30299608736429    08/22        786               American Express  elliskaren@taylor.com                   Chemical engineer                             131.34.220.138   en        98.63             1\n",
       "058 Miranda Locks Suite 792\\r\\nPort Davidstad, PA 87162             73 IW  PM        Mozilla/5.0 (Windows NT 5.0) AppleWebKit/5360 (KHTML, like Gecko) Chrome/15.0.833.0 Safari/5360                                                   Olson-Navarro                  6011037226242937  03/18        757               American Express  brendastewart@dalton.info               Site engineer                                 96.79.250.154    de        99.97             1\n",
       "1082 Jason Alley Suite 707\\r\\nWhitestad, SC 97805                   08 bm  PM        Mozilla/5.0 (Windows NT 5.1; sl-SI; rv:1.9.2.20) Gecko/2016-06-10 02:43:27 Firefox/6.0                                                            Carroll, Harrison and Escobar  3088903707645291  12/18        220               American Express  gcruz@butler.com                        Broadcast presenter                           193.90.91.152    pt        96.09             1\n",
       "18782 Hall Row Suite 810\\r\\nSouth Wesleyville, IL 68417             15 QU  PM        Opera/9.57.(X11; Linux i686; it-IT) Presto/2.9.179 Version/12.00                                                                                  Butler PLC                     5412611065926441  05/25        49                American Express  tammyblair@yahoo.com                    Computer games developer                      2.84.51.133      en        98.59             1\n",
       "1984 Christopher Turnpike Suite 904\\r\\nRichardburgh, WI 08718-1720  30 xs  AM        Mozilla/5.0 (X11; Linux x86_64; rv:1.9.7.20) Gecko/2015-11-06 12:03:35 Firefox/3.6.5                                                              Martin-Mitchell                3096398727024637  03/19        439               American Express  hgross@mccoy-mckay.info                 Structural engineer                           167.172.139.33   pt        95.46             1\n",
       "20135 Miller Green Apt. 763\\r\\nGarciaville, KY 68323-4129           79 El  PM        Mozilla/5.0 (Windows; U; Windows CE) AppleWebKit/535.3.7 (KHTML, like Gecko) Version/4.0.3 Safari/535.3.7                                         Zavala, Cox and Parker         5173968976288215  11/22        125               American Express  villarrealdavid@gray.com                Chartered management accountant               76.75.229.58     el        96.12             1\n",
       "216 Olivia Court Apt. 439\\r\\nTonyshire, IN 19159-5991               11 za  PM        Mozilla/5.0 (Macintosh; PPC Mac OS X 10_6_4; rv:1.9.6.20) Gecko/2013-02-16 22:35:59 Firefox/3.8                                                   Olson Inc                      5388757330269354  02/17        738               American Express  burkestephanie@lee-cameron.com          Management consultant                         20.140.16.225    it        97.63             1\n",
       "274 Wallace Pine Apt. 189\\r\\nMartinberg, WY 75483-1766              32 rI  PM        Mozilla/5.0 (Windows; U; Windows 98; Win 9x 4.90) AppleWebKit/534.48.6 (KHTML, like Gecko) Version/5.1 Safari/534.48.6                            Kelly-Newman                   5527104423944290  05/18        711               American Express  joneswilliam@cox.net                    Surveyor, land/geomatics                      29.211.114.191   ru        99.36             1\n",
       "344 Rivera Shore Apt. 224\\r\\nJoshuaborough, ND 33442-4762           44 SM  AM        Opera/8.62.(X11; Linux i686; en-US) Presto/2.9.181 Version/10.00                                                                                  Lawson, Moyer and Valencia     379348662534664   06/17        809               American Express  olsonjohn@hotmail.com                   Teacher, primary school                       45.1.104.55      zh        97.87             1\n",
       "478 Anita Hill Apt. 766\\r\\nAverymouth, FM 50629-4894                94 qM  AM        Mozilla/5.0 (X11; Linux x86_64) AppleWebKit/5350 (KHTML, like Gecko) Chrome/13.0.888.0 Safari/5350                                                Owen and Sons                  30242757909967    11/19        7403              American Express  sharpmelanie@smith-johnson.com          Psychologist, prison and probation services   126.47.196.22    ru        95.58             1\n",
       "359 Stanley Coves\\r\\nSalasfort, SD 59457                            75 Ub  PM        Opera/8.42.(X11; Linux x86_64; en-US) Presto/2.9.170 Version/12.00                                                                                Davis-Lawrence                 371995567939253   02/26        1877              American Express  amberhull@jones.net                     Training and development officer              198.98.34.250    pt        99.08             1\n",
       "3658 Campos Lodge\\r\\nChambersfurt, MH 86260                         24 ej  PM        Mozilla/5.0 (compatible; MSIE 5.0; Windows NT 5.0; Trident/3.1)                                                                                   Fisher-Jones                   210046575239925   09/25        860               American Express  jessica35@hotmail.com                   Forensic scientist                            18.74.143.113    fr        99.16             1\n",
       "3795 Dawson Extensions\\r\\nLake Tinafort, ID 88739                   15 Ug  AM        Mozilla/5.0 (X11; Linux i686; rv:1.9.7.20) Gecko/2011-11-30 06:02:34 Firefox/9.0                                                                  Rivera, Buchanan and Ramirez   4396283918371     01/17        931               American Express  qcoleman@hunt-huerta.com                Forensic scientist                            236.198.199.8    zh        95.63             1\n",
       "386 Alisha Unions\\r\\nSteelebury, ND 19782                           28 pJ  PM        Opera/8.47.(X11; Linux x86_64; sl-SI) Presto/2.9.176 Version/12.00                                                                                Proctor PLC                    30325623350308    04/24        772               American Express  robertsonjulia@gmail.com                Therapist, art                                146.208.30.83    es        96.66             1\n",
       "38674 Mckay Vista\\r\\nWilsonbury, MO 55611-8663                      95 aB  PM        Mozilla/5.0 (X11; Linux i686) AppleWebKit/5331 (KHTML, like Gecko) Chrome/14.0.850.0 Safari/5331                                                  Watson-Bailey                  3096820981608615  05/20        259               American Express  timothy84@hotmail.com                   Production designer, theatre/television/film  235.149.102.129  es        98.28             1\n",
       "40804 Belinda Roads Apt. 186\\r\\nWest Nicoleberg, AK 75555           30 GH  AM        Opera/9.32.(Windows NT 4.0; it-IT) Presto/2.9.190 Version/11.00                                                                                   Blair-Keith                    180089858618619   05/19        2107              American Express  woodsmatthew@walton.org                 Fashion designer                              223.87.136.82    es        99.81             1\n",
       "474 Gonzalez Meadow Suite 581\\r\\nEast Vincent, MS 97259-0590        14 St  PM        Mozilla/5.0 (compatible; MSIE 6.0; Windows NT 6.0; Trident/4.0)                                                                                   Miller and Sons                180059754370698   07/24        812               American Express  vtaylor@hatfield.com                    Armed forces technical officer                26.69.128.20     it        97.90             1\n",
       "Unit 5232 Box 4650\\r\\nDPO AE 28335-7543                             71 So  PM        Mozilla/5.0 (X11; Linux i686) AppleWebKit/5342 (KHTML, like Gecko) Chrome/14.0.819.0 Safari/5342                                                  Garcia LLC                     30346960979608    07/17        402               American Express  jrice@gmail.com                         Solicitor                                     165.48.161.188   zh        96.73             1\n",
       "dtype: int64"
      ]
     },
     "execution_count": 44,
     "metadata": {},
     "output_type": "execute_result"
    }
   ],
   "source": [
    "AME95=ecom[(ecom['CC Provider']=='American Express')&(ecom['Purchase Price']>95)]\n",
    "AME95.value_counts()"
   ]
  },
  {
   "cell_type": "markdown",
   "metadata": {},
   "source": [
    "# Great Job!"
   ]
  }
 ],
 "metadata": {
  "kernelspec": {
   "display_name": "Python 3 (ipykernel)",
   "language": "python",
   "name": "python3"
  },
  "language_info": {
   "codemirror_mode": {
    "name": "ipython",
    "version": 3
   },
   "file_extension": ".py",
   "mimetype": "text/x-python",
   "name": "python",
   "nbconvert_exporter": "python",
   "pygments_lexer": "ipython3",
   "version": "3.7.11"
  }
 },
 "nbformat": 4,
 "nbformat_minor": 4
}
