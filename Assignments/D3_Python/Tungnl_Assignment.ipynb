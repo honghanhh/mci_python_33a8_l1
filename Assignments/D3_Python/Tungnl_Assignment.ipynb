{
 "cells": [
  {
   "cell_type": "markdown",
   "metadata": {},
   "source": [
    "## Bài 1.\n",
    "\n",
    "Viết một chương trình tính giai thừa của một số nguyên dương n. Với n được nhập từ bàn phím. Ví dụ, n = 8 thì kết quả đầu ra phải là `1*2*3*4*5*6*7*8` = 40320."
   ]
  },
  {
   "cell_type": "code",
   "execution_count": 12,
   "metadata": {},
   "outputs": [
    {
     "name": "stdin",
     "output_type": "stream",
     "text": [
      "Nhập số cần tính giai thừa:  5\n"
     ]
    },
    {
     "data": {
      "text/plain": [
       "120"
      ]
     },
     "execution_count": 12,
     "metadata": {},
     "output_type": "execute_result"
    }
   ],
   "source": [
    "#Tạo Function\n",
    "\n",
    "def factorial(n):\n",
    "    if n == 0:\n",
    "        return 1\n",
    "    else:\n",
    "        return n * factorial(n - 1)\n",
    "\n",
    "#Chương trình chạy\n",
    "    \n",
    "n = int(input(\"Nhập số cần tính giai thừa: \"))\n",
    "factorial(n)"
   ]
  },
  {
   "cell_type": "code",
   "execution_count": null,
   "metadata": {},
   "outputs": [],
   "source": [
    "# Testing\n",
    "n = 5\n",
    "assert factorial(n) == 120, \"Wrong answer, please calculate again\""
   ]
  },
  {
   "cell_type": "code",
   "execution_count": 14,
   "metadata": {},
   "outputs": [
    {
     "name": "stdin",
     "output_type": "stream",
     "text": [
      "Nhập số cần tính giai thừa:  5\n"
     ]
    },
    {
     "data": {
      "text/plain": [
       "120"
      ]
     },
     "execution_count": 14,
     "metadata": {},
     "output_type": "execute_result"
    }
   ],
   "source": [
    "# Another way to resolve solution\n",
    "'''\n",
    "Cách này tính truyền thống hơn, tính dần dần từ 1 lên đến n, cách trên tính hất ngược lại\n",
    "'''\n",
    "#Tạo Function\n",
    "\n",
    "def factorial(n):\n",
    "    factorial=1\n",
    "    if n == 0:\n",
    "        return 1\n",
    "    else:\n",
    "        for i in range (1,n+1):\n",
    "            factorial = factorial*i\n",
    "        return factorial\n",
    "\n",
    "#Chương trình chạy\n",
    "\n",
    "n = int(input(\"Nhập số cần tính giai thừa: \"))\n",
    "factorial(n)"
   ]
  },
  {
   "cell_type": "markdown",
   "metadata": {},
   "source": [
    "## Bài 2.\n",
    "\n",
    "Viết chương trình tính tổng của các chữ số của môt số nguyên n trong Python. Số nguyên dương n được nhập từ bàn phím. Với n = 1234, tổng các chữ số: 1 + 2 + 3 + 4 = 10"
   ]
  },
  {
   "cell_type": "code",
   "execution_count": 35,
   "metadata": {},
   "outputs": [
    {
     "name": "stdin",
     "output_type": "stream",
     "text": [
      "Nhập số nguyên dương n =  34103\n"
     ]
    },
    {
     "data": {
      "text/plain": [
       "11"
      ]
     },
     "execution_count": 35,
     "metadata": {},
     "output_type": "execute_result"
    }
   ],
   "source": [
    "#Tạo Function\n",
    "\n",
    "def sum_all(n):\n",
    "    S = 0\n",
    "    while n :\n",
    "        S += n % 10\n",
    "        n //= 10\n",
    "    return S\n",
    "\n",
    "#Chương trình chạy\n",
    "\n",
    "n = int(input(\"Nhập số nguyên dương n = \"))\n",
    "sum_all(n)"
   ]
  },
  {
   "cell_type": "code",
   "execution_count": null,
   "metadata": {},
   "outputs": [],
   "source": [
    "# Testing\n",
    "number = 34103\n",
    "assert sum_all(number) == 11, \"Wrong answer, please calculate again\""
   ]
  },
  {
   "cell_type": "code",
   "execution_count": 81,
   "metadata": {},
   "outputs": [
    {
     "name": "stdin",
     "output_type": "stream",
     "text": [
      "Nhập số nguyên dương n =  34103\n"
     ]
    },
    {
     "data": {
      "text/plain": [
       "11"
      ]
     },
     "execution_count": 81,
     "metadata": {},
     "output_type": "execute_result"
    }
   ],
   "source": [
    "# Another way to resolve solution\n",
    "'''\n",
    "Ideas để làm:  convert từ số nguyên (int) sang dạng chuỗi (str),\n",
    "sau đó tính tổng của từng ký tự trong chuỗi dưới dạng số nguyên.\n",
    "'''\n",
    "#Tạo Function\n",
    "\n",
    "sum_all_2 = lambda n1: sum(int(i) for i in str(n1))\n",
    "\n",
    "#Chương trình chạy\n",
    "\n",
    "n1 = int(input(\"Nhập số nguyên dương n = \"))\n",
    "sum_all_2(n1)"
   ]
  },
  {
   "cell_type": "markdown",
   "metadata": {},
   "source": [
    "## Bài 3.\n",
    "\n",
    "Tìm giá trị lớn nhất của một list hoặc tuple nhập vào"
   ]
  },
  {
   "cell_type": "code",
   "execution_count": 1,
   "metadata": {},
   "outputs": [
    {
     "data": {
      "text/plain": [
       "10"
      ]
     },
     "execution_count": 1,
     "metadata": {},
     "output_type": "execute_result"
    }
   ],
   "source": [
    "#Tạo Function\n",
    "\n",
    "def maximum(li):\n",
    "    Max= li[0]\n",
    "    for i in li:\n",
    "        if i > Max: Max=i\n",
    "    return(Max)\n",
    "\n",
    "#Chương trình chạy\n",
    "    \n",
    "number = (1, 2, 6, 8, 10)\n",
    "maximum(number)"
   ]
  },
  {
   "cell_type": "code",
   "execution_count": null,
   "metadata": {},
   "outputs": [],
   "source": [
    "# Testing\n",
    "number = [1, 2, 6, 8, 10]\n",
    "assert maximum(number) == 10, \"Wrong answer, please calculate again\""
   ]
  },
  {
   "cell_type": "markdown",
   "metadata": {},
   "source": [
    "## Bài 4.\n",
    "\n",
    "Tìm giá trị lớn thứ nhì từ một list hoặc tuple nhập vào"
   ]
  },
  {
   "cell_type": "code",
   "execution_count": 2,
   "metadata": {},
   "outputs": [
    {
     "data": {
      "text/plain": [
       "8"
      ]
     },
     "execution_count": 2,
     "metadata": {},
     "output_type": "execute_result"
    }
   ],
   "source": [
    "# Another way to resolve solution\n",
    "'''\n",
    "Đối với Function này, giá trị lớn thứ nhì được hiểu là giá trị lớn thứ 2 trong list, \n",
    "tức là nếu giá trị max có nhiều hơn 1 lần xuất hiện thì giá trị lớn liền kề sau sẽ được gọi ra\n",
    "Trong TH chấp nhận giá trị trùng là giá trị lớn thứ 2 thì dùng sort: \n",
    "    li1=sorted(li,reverse=True)\n",
    "    print(li1[1])\n",
    "Nếu dãy số bằng nhau => không có giá trị lớn thứ 2 => Trả về \"Không có\"\n",
    "'''\n",
    "def second_maximum(li):\n",
    "    Max,n2 = li[0],0\n",
    "    for i in li:\n",
    "        if i > Max: \n",
    "            Max,n2 = i, Max\n",
    "        elif Max > i > n2:\n",
    "            n2 = i\n",
    "    if n2 < 1:\n",
    "        print('Không có')\n",
    "    else: return(n2)\n",
    "\n",
    "#Chương trình chạy\n",
    "\n",
    "number = [1, 2, 6, 8, 10, 10]\n",
    "second_maximum(number)"
   ]
  },
  {
   "cell_type": "code",
   "execution_count": null,
   "metadata": {},
   "outputs": [],
   "source": [
    "# Testing\n",
    "number = [1, 2, 6, 8, 10]\n",
    "assert second_maximum(number) == 8, \"Wrong answer, please calculate again\""
   ]
  },
  {
   "cell_type": "code",
   "execution_count": 39,
   "metadata": {},
   "outputs": [
    {
     "name": "stdout",
     "output_type": "stream",
     "text": [
      "8\n"
     ]
    }
   ],
   "source": [
    "#fun Cmt nếu lecturer vào xem bài tập này\n",
    "\n",
    "'''\n",
    "vì mình nghĩ dùng 1 câu lệnh là xong - idea là dùng\n",
    "    \"sorted(set(number))[-2]\"\n",
    "nhưng để cover trong TH giá trị dãy số bằng nhau nên phải dùng thêm if :D\n",
    "'''\n",
    "\n",
    "#Chương trình chạy\n",
    "\n",
    "number = [1, 2, 6, 8, 10, 10]\n",
    "if len(sorted(set(number))) >1: \n",
    "    print(sorted(set(number))[-2])\n",
    "else: \n",
    "    print('None')"
   ]
  },
  {
   "cell_type": "markdown",
   "metadata": {},
   "source": [
    "## Bài 5.\n",
    "\n",
    "Định nghĩa một hàm có input là 2 chuỗi và trả về chuỗi có độ dài lớn hơn. Nếu 2 chuỗi có chiều dài như nhau thì trả tất cả các chuỗi dưới dạng tuple"
   ]
  },
  {
   "cell_type": "code",
   "execution_count": 4,
   "metadata": {},
   "outputs": [
    {
     "name": "stdin",
     "output_type": "stream",
     "text": [
      "Nhập dãy ký tự 1 =  My name is\n",
      "Nhập dãy ký tự 2 =  My name ar\n"
     ]
    },
    {
     "name": "stdout",
     "output_type": "stream",
     "text": [
      "My name isMy name ar\n"
     ]
    }
   ],
   "source": [
    "def greater_string(str_1, str_2):\n",
    "    # Your code here\n",
    "    if len(str_1) > len(str_2):\n",
    "        print (str_1)\n",
    "    elif len(str_2) > len(str_1):\n",
    "        print (str_2)\n",
    "    else:\n",
    "        print(str_1, str_2)\n",
    "\n",
    "#Chương trình chạy\n",
    "\n",
    "str_1 = input(\"Nhập dãy ký tự 1 = \")\n",
    "str_2 = input(\"Nhập dãy ký tự 2 = \")\n",
    "greater_string(str_1, str_2)"
   ]
  },
  {
   "cell_type": "code",
   "execution_count": null,
   "metadata": {},
   "outputs": [],
   "source": [
    "\n",
    "# Test 1\n",
    "str_1 = \"My name is\"\n",
    "str_2 = \"My university\"\n",
    "\n",
    "assert len(greater_string(str_1, str_2)) == len(str_2), \"Wrong answer, please code again\"\n",
    "\n",
    "\n",
    "#Test 2\n",
    "\n",
    "str_1 = \"My name is\"\n",
    "str_2 = \"My name ar\"\n",
    "\n",
    "assert greater_string(str_1, str_2) == (str_1, str_2), \"Wrong answer, please code again\""
   ]
  },
  {
   "cell_type": "markdown",
   "metadata": {},
   "source": [
    "## Bài 6.\n",
    "\n",
    "Loại bỏ các giá trị trùng từ chuỗi nhập vào, nhưng vẫn giữ thứ tự.\n",
    "\n",
    "Ví dụ: aaabbbbcccddd1111 --> abcd1"
   ]
  },
  {
   "cell_type": "code",
   "execution_count": 76,
   "metadata": {},
   "outputs": [
    {
     "name": "stdin",
     "output_type": "stream",
     "text": [
      "Nhập dãy ký tự =  cccccddddeeeeffff22222\n"
     ]
    },
    {
     "name": "stdout",
     "output_type": "stream",
     "text": [
      "cdef2\n"
     ]
    }
   ],
   "source": [
    "#Tạo Function\n",
    "\n",
    "def remove_duplicated(str_1):\n",
    "    s1=''\n",
    "    for i in str_1:\n",
    "        if i not in s1: s1+=i\n",
    "    return s1\n",
    "\n",
    "#Chương trình chạy\n",
    "\n",
    "str_1 = input(\"Nhập dãy ký tự = \")\n",
    "print (remove_duplicated(str_1))"
   ]
  },
  {
   "cell_type": "code",
   "execution_count": null,
   "metadata": {},
   "outputs": [],
   "source": [
    "# Testing\n",
    "str_1 = \"cccccddddeeeeffff22222\"\n",
    "\n",
    "assert remove_duplicated(str_1) == \"cdef2\""
   ]
  }
 ],
 "metadata": {
  "kernelspec": {
   "display_name": "Python 3 (ipykernel)",
   "language": "python",
   "name": "python3"
  },
  "language_info": {
   "codemirror_mode": {
    "name": "ipython",
    "version": 3
   },
   "file_extension": ".py",
   "mimetype": "text/x-python",
   "name": "python",
   "nbconvert_exporter": "python",
   "pygments_lexer": "ipython3",
   "version": "3.8.11"
  }
 },
 "nbformat": 4,
 "nbformat_minor": 4
}
