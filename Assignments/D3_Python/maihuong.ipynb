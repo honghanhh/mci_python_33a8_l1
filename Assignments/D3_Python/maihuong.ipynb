{
  "nbformat": 4,
  "nbformat_minor": 0,
  "metadata": {
    "kernelspec": {
      "display_name": "Python 3 (ipykernel)",
      "language": "python",
      "name": "python3"
    },
    "language_info": {
      "codemirror_mode": {
        "name": "ipython",
        "version": 3
      },
      "file_extension": ".py",
      "mimetype": "text/x-python",
      "name": "python",
      "nbconvert_exporter": "python",
      "pygments_lexer": "ipython3",
      "version": "3.7.11"
    },
    "colab": {
      "name": "maihuong.ipynb",
      "provenance": [],
      "include_colab_link": true
    }
  },
  "cells": [
    {
      "cell_type": "markdown",
      "metadata": {
        "id": "view-in-github",
        "colab_type": "text"
      },
      "source": [
        "<a href=\"https://colab.research.google.com/github/honghanhh/mci_python_33a8_l1/blob/main/maihuong.ipynb\" target=\"_parent\"><img src=\"https://colab.research.google.com/assets/colab-badge.svg\" alt=\"Open In Colab\"/></a>"
      ]
    },
    {
      "cell_type": "markdown",
      "metadata": {
        "id": "CFo3xgqYkApE"
      },
      "source": [
        "## Bài 1.\n",
        "\n",
        "Viết một chương trình tính giai thừa của một số nguyên dương n. Với n được nhập từ bàn phím. Ví dụ, n = 8 thì kết quả đầu ra phải là `1*2*3*4*5*6*7*8` = 40320."
      ]
    },
    {
      "cell_type": "code",
      "metadata": {
        "id": "VCQafZVNkApO"
      },
      "source": [
        "def factorial(n):\n",
        "    n = int(input())\n",
        "    a = 1\n",
        "    for i in range (1, n+1):\n",
        "      a = a * i\n",
        "    return a"
      ],
      "execution_count": 1,
      "outputs": []
    },
    {
      "cell_type": "code",
      "metadata": {
        "colab": {
          "base_uri": "https://localhost:8080/"
        },
        "id": "c-w6RulgkApS",
        "outputId": "9ddbfddc-3e5a-4053-e348-a56002ac73c8"
      },
      "source": [
        "# Testing -> Unit test\n",
        "n = 5\n",
        "assert factorial(n) == 120, \"Wrong answer, please calculate again\""
      ],
      "execution_count": 2,
      "outputs": [
        {
          "output_type": "stream",
          "text": [
            "5\n"
          ],
          "name": "stdout"
        }
      ]
    },
    {
      "cell_type": "markdown",
      "metadata": {
        "id": "1Sx0JqTbkApU"
      },
      "source": [
        ""
      ]
    },
    {
      "cell_type": "markdown",
      "metadata": {
        "id": "Wa20-PQKkApU"
      },
      "source": [
        "## Bài 2.\n",
        "\n",
        "Viết chương trình tính tổng của các chữ số của môt số nguyên n trong Python. Số nguyên dương n được nhập từ bàn phím. Với n = 1234, tổng các chữ số: 1 + 2 + 3 + 4 = 10"
      ]
    },
    {
      "cell_type": "code",
      "metadata": {
        "id": "6QgY5tJIkApW"
      },
      "source": [
        "def sum_all(number):\n",
        "    number = int(input())\n",
        "    total = 0;\n",
        "    while (number > 0):\n",
        "        total = total + number % 10;\n",
        "        number = int(number / 10);\n",
        "    return total\n",
        "\n"
      ],
      "execution_count": 143,
      "outputs": []
    },
    {
      "cell_type": "code",
      "metadata": {
        "colab": {
          "base_uri": "https://localhost:8080/"
        },
        "id": "WIRonikMkApX",
        "outputId": "872785f1-a7e6-400d-aa72-1a0e11d5fabc"
      },
      "source": [
        "# Testing\n",
        "number = 34103\n",
        "assert sum_all(number) == 11, \"Wrong answer, please calculate again\""
      ],
      "execution_count": 144,
      "outputs": [
        {
          "output_type": "stream",
          "text": [
            "34103\n"
          ],
          "name": "stdout"
        }
      ]
    },
    {
      "cell_type": "markdown",
      "metadata": {
        "id": "3S-LDXiikApY"
      },
      "source": [
        "## Bài 3.\n",
        "\n",
        "Tìm giá trị lớn nhất của một list hoặc tuple nhập vào"
      ]
    },
    {
      "cell_type": "code",
      "metadata": {
        "id": "0-tCah-EkApZ"
      },
      "source": [
        "def maximum(li):\n",
        "    li = []\n",
        "    number = int(input('Số phần tử có trong list:' ))\n",
        "    for i in range (1, number + 1):\n",
        "      value = int(input(\"Please enter the Value of %d Element : \" %i))\n",
        "      li.append(value)\n",
        "    li.sort(reverse = True)\n",
        "    maxium_number = li[0]\n",
        "    return maxium_number\n",
        "\n"
      ],
      "execution_count": 124,
      "outputs": []
    },
    {
      "cell_type": "code",
      "metadata": {
        "colab": {
          "base_uri": "https://localhost:8080/"
        },
        "id": "zVzTAx5_kApa",
        "outputId": "1a9a6db4-f94f-4b1b-94fe-5072aa942f62"
      },
      "source": [
        "# Testing\n",
        "number = [1, 2, 6, 8, 10]\n",
        "assert maximum(number) == 10, \"Wrong answer, please calculate again\""
      ],
      "execution_count": 126,
      "outputs": [
        {
          "output_type": "stream",
          "text": [
            "Số phần tử có trong list:5\n",
            "Please enter the Value of 1 Element : 1\n",
            "Please enter the Value of 2 Element : 2\n",
            "Please enter the Value of 3 Element : 6\n",
            "Please enter the Value of 4 Element : 8\n",
            "Please enter the Value of 5 Element : 10\n"
          ],
          "name": "stdout"
        }
      ]
    },
    {
      "cell_type": "markdown",
      "metadata": {
        "id": "MLtqKnl1kApb"
      },
      "source": [
        "## Bài 4.\n",
        "\n",
        "Tìm giá trị lớn thứ nhì từ một list hoặc tuple nhập vào"
      ]
    },
    {
      "cell_type": "code",
      "metadata": {
        "id": "arRgSAM2kApe"
      },
      "source": [
        "def second_maximum(li):\n",
        "    li = []\n",
        "    number = int(input('Số phần tử có trong list:' ))\n",
        "    for i in range (1, number + 1):\n",
        "      value = int(input(\"Please enter the Value of %d Element : \" %i))\n",
        "      li.append(value)\n",
        "    li.sort(reverse = True)\n",
        "    second_max = li[1]\n",
        "    return second_max"
      ],
      "execution_count": 135,
      "outputs": []
    },
    {
      "cell_type": "code",
      "metadata": {
        "colab": {
          "base_uri": "https://localhost:8080/"
        },
        "id": "336hPBpVkApf",
        "outputId": "3e30ab07-03ad-4a69-fcc7-ce034ffd5e1c"
      },
      "source": [
        "# Testing\n",
        "number = [1, 2, 6, 8, 10]\n",
        "assert second_maximum(number) == 8, \"Wrong answer, please calculate again\""
      ],
      "execution_count": 136,
      "outputs": [
        {
          "output_type": "stream",
          "text": [
            "Số phần tử có trong list:5\n",
            "Please enter the Value of 1 Element : 1\n",
            "Please enter the Value of 2 Element : 2\n",
            "Please enter the Value of 3 Element : 6\n",
            "Please enter the Value of 4 Element : 8\n",
            "Please enter the Value of 5 Element : 10\n"
          ],
          "name": "stdout"
        }
      ]
    },
    {
      "cell_type": "markdown",
      "metadata": {
        "id": "Cr-0ifo_kAph"
      },
      "source": [
        "## Bài 5.\n",
        "\n",
        "Định nghĩa một hàm có input là 2 chuỗi và trả về chuỗi có độ dài lớn hơn. Nếu 2 chuỗi có chiều dài như nhau thì trả tất cả các chuỗi dưới dạng tuple"
      ]
    },
    {
      "cell_type": "code",
      "metadata": {
        "id": "-tZrHi3dkApi"
      },
      "source": [
        "def greater_string(str_1, str_2):\n",
        "  str_1 = input()\n",
        "  str_2 = input()\n",
        "  if len(str_1) > len(str_2):\n",
        "      a = str_1 \n",
        "  elif len(str_1) == len(str_2):\n",
        "      a = (str_1, str_2)\n",
        "  else: \n",
        "      a = str_2\n",
        "  return a"
      ],
      "execution_count": 28,
      "outputs": []
    },
    {
      "cell_type": "code",
      "metadata": {
        "colab": {
          "base_uri": "https://localhost:8080/"
        },
        "id": "rw6bsN-MkApj",
        "outputId": "b1a21c0e-2087-4e9f-ca56-3c36aeb820f6"
      },
      "source": [
        "\n",
        "# Test 1\n",
        "str_1 = \"My name is\"\n",
        "str_2 = \"My university\"\n",
        "\n",
        "assert len(greater_string(str_1, str_2)) == len(str_2), \"Wrong answer, please code again\"\n",
        "\n",
        "\n",
        "#Test 2\n",
        "\n",
        "str_1 = \"My name is\"\n",
        "str_2 = \"My name ar\"\n",
        "\n",
        "assert greater_string(str_1, str_2) == (str_1, str_2), \"Wrong answer, please code again\""
      ],
      "execution_count": 31,
      "outputs": [
        {
          "output_type": "stream",
          "text": [
            "My name is\n",
            "My university\n",
            "My name is\n",
            "My name ar\n"
          ],
          "name": "stdout"
        }
      ]
    },
    {
      "cell_type": "markdown",
      "metadata": {
        "id": "vbPLVynJkApk"
      },
      "source": [
        "## Bài 6.\n",
        "\n",
        "Loại bỏ các giá trị trùng từ chuỗi nhập vào, nhưng vẫn giữ thứ tự.\n",
        "\n",
        "Ví dụ: aaabbbbcccddd1111 --> abcd1"
      ]
    },
    {
      "cell_type": "code",
      "metadata": {
        "id": "eZuXBIPJkApl"
      },
      "source": [
        "def remove_duplicated(s):\n",
        "    str_1 = input()\n",
        "    dup = \"\"\n",
        "    for i in str_1:\n",
        "        if(i in dup):\n",
        "            pass\n",
        "        else:\n",
        "            dup = dup + i\n",
        "    return dup\n",
        "      \n",
        "       "
      ],
      "execution_count": 92,
      "outputs": []
    },
    {
      "cell_type": "code",
      "metadata": {
        "colab": {
          "base_uri": "https://localhost:8080/"
        },
        "id": "YO-NIdtnkApm",
        "outputId": "90dbb2c4-70bd-439e-f61a-edec2a5f899b"
      },
      "source": [
        "# Testing\n",
        "str_1 = \"cccccddddeeeeffff22222\"\n",
        "\n",
        "assert remove_duplicated(str_1) == \"cdef2\""
      ],
      "execution_count": 93,
      "outputs": [
        {
          "output_type": "stream",
          "text": [
            "cccccddddeeeeffff22222\n"
          ],
          "name": "stdout"
        }
      ]
    }
  ]
}