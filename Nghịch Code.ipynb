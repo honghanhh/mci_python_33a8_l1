{
 "cells": [
  {
   "cell_type": "code",
   "execution_count": 1,
   "id": "e4634264-39ab-4ee7-9d71-788e5f7dc01e",
   "metadata": {},
   "outputs": [
    {
     "name": "stdout",
     "output_type": "stream",
     "text": [
      "Bài tập hàm đệ quy: S = 1 + 2 + 3 + 4 + 5 ... + n.\n",
      "Hãy nhập vào số n: \n"
     ]
    },
    {
     "name": "stdin",
     "output_type": "stream",
     "text": [
      " 10\n"
     ]
    },
    {
     "name": "stdout",
     "output_type": "stream",
     "text": [
      "Tổng là:  55\n"
     ]
    }
   ],
   "source": [
    "print(\"Bài tập hàm đệ quy: S = 1 + 2 + 3 + 4 + 5 ... + n.\")\n",
    " \n",
    "# Tạo hàm đệ quy tính tổng\n",
    "def tinh_tong(n):\n",
    "    if (n == 1):\n",
    "        return 1\n",
    "    return n + tinh_tong(n - 1)\n",
    " \n",
    " \n",
    "# Chương trình chính\n",
    "print(\"Hãy nhập vào số n: \")\n",
    "n = int(input())\n",
    "tong = tinh_tong(n);\n",
    "print(\"Tổng là: \", tong)"
   ]
  },
  {
   "cell_type": "code",
   "execution_count": 2,
   "id": "d24769b0-63df-4407-80b9-2efec0b0c1f3",
   "metadata": {},
   "outputs": [
    {
     "name": "stdout",
     "output_type": "stream",
     "text": [
      "Hãy nhập vào số n: \n"
     ]
    },
    {
     "name": "stdin",
     "output_type": "stream",
     "text": [
      " 199\n"
     ]
    },
    {
     "name": "stdout",
     "output_type": "stream",
     "text": [
      "Tổng là:  19900\n"
     ]
    }
   ],
   "source": [
    "print(\"Hãy nhập vào số n: \")\n",
    "n = int(input())\n",
    "tong = tinh_tong(n);\n",
    "print(\"Tổng là: \", tong)"
   ]
  },
  {
   "cell_type": "markdown",
   "id": "c1cb03dc-3fff-44da-bf34-1e91fe938dad",
   "metadata": {},
   "source": [
    "CAU 2\n"
   ]
  },
  {
   "cell_type": "code",
   "execution_count": 3,
   "id": "2d50084c-a5c7-401e-8121-2977e8264690",
   "metadata": {},
   "outputs": [
    {
     "name": "stdout",
     "output_type": "stream",
     "text": [
      "Bài tập hàm lambda in ra thông tin sinh viên\n",
      "Hãy nhập tên sinh viên\n"
     ]
    },
    {
     "name": "stdin",
     "output_type": "stream",
     "text": [
      " Mike\n"
     ]
    },
    {
     "name": "stdout",
     "output_type": "stream",
     "text": [
      "Hãy nhập tuổi: \n"
     ]
    },
    {
     "name": "stdin",
     "output_type": "stream",
     "text": [
      " 26\n"
     ]
    },
    {
     "name": "stdout",
     "output_type": "stream",
     "text": [
      "Mike 26\n",
      "Hãy nhập Giới tính: \n"
     ]
    },
    {
     "name": "stdin",
     "output_type": "stream",
     "text": [
      " Male\n"
     ]
    },
    {
     "name": "stdout",
     "output_type": "stream",
     "text": [
      "Mike Male\n",
      "Hãy nhập Quốc tịch: \n"
     ]
    },
    {
     "name": "stdin",
     "output_type": "stream",
     "text": [
      " USA\n"
     ]
    },
    {
     "name": "stdout",
     "output_type": "stream",
     "text": [
      "Mike USA\n"
     ]
    }
   ],
   "source": [
    "print(\"Bài tập hàm lambda in ra thông tin sinh viên\")\n",
    " \n",
    "# hàm tạo sinh viên\n",
    "def create_student(name):\n",
    "    return lambda infor: name + \" \" + infor\n",
    " \n",
    "# In ra thông tin sinh viên\n",
    "print (\"Hãy nhập tên sinh viên\")\n",
    "name = input()\n",
    " \n",
    "# Khởi tạo sinh viên\n",
    "student = create_student(name)\n",
    " \n",
    "# In tuổi\n",
    "print(\"Hãy nhập tuổi: \")\n",
    "print(student(input()))\n",
    " \n",
    "# In Giới tính\n",
    "print(\"Hãy nhập Giới tính: \")\n",
    "print(student(input()))\n",
    " \n",
    "# In tuổi\n",
    "print(\"Hãy nhập Quốc tịch: \")\n",
    "print(student(input()))"
   ]
  },
  {
   "cell_type": "code",
   "execution_count": 4,
   "id": "87feebe3-3649-4cd9-97c7-ec80f18e26fc",
   "metadata": {},
   "outputs": [
    {
     "name": "stdout",
     "output_type": "stream",
     "text": [
      "Hãy nhập tên sinh viên\n"
     ]
    },
    {
     "name": "stdin",
     "output_type": "stream",
     "text": [
      " Michelle\n"
     ]
    },
    {
     "name": "stdout",
     "output_type": "stream",
     "text": [
      "Hãy nhập tuổi: \n"
     ]
    },
    {
     "name": "stdin",
     "output_type": "stream",
     "text": [
      " 19\n"
     ]
    },
    {
     "name": "stdout",
     "output_type": "stream",
     "text": [
      "Michelle 19\n",
      "Hãy nhập Giới tính: \n"
     ]
    },
    {
     "name": "stdin",
     "output_type": "stream",
     "text": [
      " Female\n"
     ]
    },
    {
     "name": "stdout",
     "output_type": "stream",
     "text": [
      "Michelle Female\n",
      "Hãy nhập Quốc tịch: \n"
     ]
    },
    {
     "name": "stdin",
     "output_type": "stream",
     "text": [
      " Australia\n"
     ]
    },
    {
     "name": "stdout",
     "output_type": "stream",
     "text": [
      "Michelle Australia\n"
     ]
    }
   ],
   "source": [
    "print (\"Hãy nhập tên sinh viên\")\n",
    "name = input()\n",
    " \n",
    "# Khởi tạo sinh viên\n",
    "student = create_student(name)\n",
    " \n",
    "# In tuổi\n",
    "print(\"Hãy nhập tuổi: \")\n",
    "print(student(input()))\n",
    " \n",
    "# In Giới tính\n",
    "print(\"Hãy nhập Giới tính: \")\n",
    "print(student(input()))\n",
    " \n",
    "# In tuổi\n",
    "print(\"Hãy nhập Quốc tịch: \")\n",
    "print(student(input()))"
   ]
  },
  {
   "cell_type": "markdown",
   "id": "ebfdd584-5cc2-4d04-b498-7cfd0fb879b3",
   "metadata": {},
   "source": [
    "CAU 3"
   ]
  },
  {
   "cell_type": "code",
   "execution_count": 5,
   "id": "a541c1e8-a397-4955-af3f-60a8e39caffc",
   "metadata": {},
   "outputs": [
    {
     "name": "stdout",
     "output_type": "stream",
     "text": [
      "Chương trình tính điểm trung bình của học sinh\n",
      "Nhập điểm môn toán: \n"
     ]
    },
    {
     "name": "stdin",
     "output_type": "stream",
     "text": [
      " 10\n"
     ]
    },
    {
     "name": "stdout",
     "output_type": "stream",
     "text": [
      "Nhập điểm môn Lý: \n"
     ]
    },
    {
     "name": "stdin",
     "output_type": "stream",
     "text": [
      " 8\n"
     ]
    },
    {
     "name": "stdout",
     "output_type": "stream",
     "text": [
      "Nhập điểm môn Hóa: \n"
     ]
    },
    {
     "name": "stdin",
     "output_type": "stream",
     "text": [
      " 8\n"
     ]
    },
    {
     "name": "stdout",
     "output_type": "stream",
     "text": [
      "Nhập điểm môn Văn: \n"
     ]
    },
    {
     "name": "stdin",
     "output_type": "stream",
     "text": [
      " 5\n"
     ]
    },
    {
     "name": "stdout",
     "output_type": "stream",
     "text": [
      "Nhập điểm môn Anh: \n"
     ]
    },
    {
     "name": "stdin",
     "output_type": "stream",
     "text": [
      " 8\n"
     ]
    },
    {
     "name": "stdout",
     "output_type": "stream",
     "text": [
      "Điểm trung bình là:  7.8\n",
      "Học lực khá\n"
     ]
    }
   ],
   "source": [
    "print(\"Chương trình tính điểm trung bình của học sinh\")\n",
    " \n",
    "toan = 0; ly = 0; hoa = 0; van = 0; anh = 0\n",
    " \n",
    "def nhap_diem():\n",
    "    \"\"\"Hàm yêu cầu nhập điểm và trả về giá trị trung bình\"\"\"\n",
    "    # Bước 1: Nhập dữ liệu\n",
    "    print(\"Nhập điểm môn toán: \")\n",
    "    toan = float(input())\n",
    " \n",
    "    print(\"Nhập điểm môn Lý: \")\n",
    "    ly = float(input())\n",
    " \n",
    "    print(\"Nhập điểm môn Hóa: \")\n",
    "    hoa = float(input())\n",
    " \n",
    "    print(\"Nhập điểm môn Văn: \")\n",
    "    van = float(input())\n",
    " \n",
    "    print(\"Nhập điểm môn Anh: \")\n",
    "    anh = float(input())\n",
    " \n",
    "    # Bước 2: Tính điểm trung bình\n",
    "    trungbinh = (toan + ly + hoa + van + anh) / 5\n",
    " \n",
    "    return trungbinh\n",
    " \n",
    " \n",
    "def in_ket_qua(diem):\n",
    "    \"\"\"Hàm in kết quả lên màn hình\"\"\"\n",
    "    print(\"Điểm trung bình là: \", trungbinh)\n",
    "    if (diem < 5):\n",
    "        print(\"Học lực yếu\");\n",
    "    elif (diem >= 5 and diem < 7):\n",
    "        print(\"Học lực trung bình\")\n",
    "    elif (diem >= 7 and diem < 9):\n",
    "        print(\"Học lực khá\")\n",
    "    elif (diem >= 9):\n",
    "        print(\"Học lực giỏi\")\n",
    " \n",
    " \n",
    "# Sử dụng hàm\n",
    "trungbinh = nhap_diem()\n",
    "in_ket_qua(trungbinh)"
   ]
  },
  {
   "cell_type": "code",
   "execution_count": 6,
   "id": "14f13fb0-6a88-48d9-98d1-20f6b14d2842",
   "metadata": {},
   "outputs": [
    {
     "name": "stdout",
     "output_type": "stream",
     "text": [
      "Nhập điểm môn toán: \n"
     ]
    },
    {
     "name": "stdin",
     "output_type": "stream",
     "text": [
      " 6\n"
     ]
    },
    {
     "name": "stdout",
     "output_type": "stream",
     "text": [
      "Nhập điểm môn Lý: \n"
     ]
    },
    {
     "name": "stdin",
     "output_type": "stream",
     "text": [
      " 8\n"
     ]
    },
    {
     "name": "stdout",
     "output_type": "stream",
     "text": [
      "Nhập điểm môn Hóa: \n"
     ]
    },
    {
     "name": "stdin",
     "output_type": "stream",
     "text": [
      " 5\n"
     ]
    },
    {
     "name": "stdout",
     "output_type": "stream",
     "text": [
      "Nhập điểm môn Văn: \n"
     ]
    },
    {
     "name": "stdin",
     "output_type": "stream",
     "text": [
      " 4\n"
     ]
    },
    {
     "name": "stdout",
     "output_type": "stream",
     "text": [
      "Nhập điểm môn Anh: \n"
     ]
    },
    {
     "name": "stdin",
     "output_type": "stream",
     "text": [
      " 6\n"
     ]
    },
    {
     "name": "stdout",
     "output_type": "stream",
     "text": [
      "Điểm trung bình là:  5.8\n",
      "Học lực trung bình\n"
     ]
    }
   ],
   "source": [
    "trungbinh = nhap_diem()\n",
    "in_ket_qua(trungbinh)"
   ]
  },
  {
   "cell_type": "code",
   "execution_count": 7,
   "id": "845c1836-e7ac-4ac4-8ea7-8377d3a36a44",
   "metadata": {},
   "outputs": [
    {
     "name": "stdout",
     "output_type": "stream",
     "text": [
      "Nhập điểm môn toán: \n"
     ]
    },
    {
     "name": "stdin",
     "output_type": "stream",
     "text": [
      " 5\n"
     ]
    },
    {
     "name": "stdout",
     "output_type": "stream",
     "text": [
      "Nhập điểm môn Lý: \n"
     ]
    },
    {
     "name": "stdin",
     "output_type": "stream",
     "text": [
      " 8\n"
     ]
    },
    {
     "name": "stdout",
     "output_type": "stream",
     "text": [
      "Nhập điểm môn Hóa: \n"
     ]
    },
    {
     "name": "stdin",
     "output_type": "stream",
     "text": [
      " 3\n"
     ]
    },
    {
     "name": "stdout",
     "output_type": "stream",
     "text": [
      "Nhập điểm môn Văn: \n"
     ]
    },
    {
     "name": "stdin",
     "output_type": "stream",
     "text": [
      " 5\n"
     ]
    },
    {
     "name": "stdout",
     "output_type": "stream",
     "text": [
      "Nhập điểm môn Anh: \n"
     ]
    },
    {
     "name": "stdin",
     "output_type": "stream",
     "text": [
      " 6\n"
     ]
    },
    {
     "name": "stdout",
     "output_type": "stream",
     "text": [
      "Điểm trung bình là:  5.4\n",
      "Học lực trung bình\n"
     ]
    }
   ],
   "source": [
    "trungbinh = nhap_diem()\n",
    "in_ket_qua(trungbinh)"
   ]
  },
  {
   "cell_type": "code",
   "execution_count": 8,
   "id": "1b747ba0-8c8b-4622-9e37-14ae27a2a486",
   "metadata": {},
   "outputs": [
    {
     "name": "stdout",
     "output_type": "stream",
     "text": [
      "Nhập điểm môn toán: \n"
     ]
    },
    {
     "name": "stdin",
     "output_type": "stream",
     "text": [
      " 9\n"
     ]
    },
    {
     "name": "stdout",
     "output_type": "stream",
     "text": [
      "Nhập điểm môn Lý: \n"
     ]
    },
    {
     "name": "stdin",
     "output_type": "stream",
     "text": [
      " 8\n"
     ]
    },
    {
     "name": "stdout",
     "output_type": "stream",
     "text": [
      "Nhập điểm môn Hóa: \n"
     ]
    },
    {
     "name": "stdin",
     "output_type": "stream",
     "text": [
      " 8\n"
     ]
    },
    {
     "name": "stdout",
     "output_type": "stream",
     "text": [
      "Nhập điểm môn Văn: \n"
     ]
    },
    {
     "name": "stdin",
     "output_type": "stream",
     "text": [
      " 9\n"
     ]
    },
    {
     "name": "stdout",
     "output_type": "stream",
     "text": [
      "Nhập điểm môn Anh: \n"
     ]
    },
    {
     "name": "stdin",
     "output_type": "stream",
     "text": [
      " 8\n"
     ]
    },
    {
     "name": "stdout",
     "output_type": "stream",
     "text": [
      "Điểm trung bình là:  8.4\n",
      "Học lực khá\n"
     ]
    }
   ],
   "source": [
    "trungbinh = nhap_diem()\n",
    "in_ket_qua(trungbinh)"
   ]
  },
  {
   "cell_type": "code",
   "execution_count": null,
   "id": "5bd89afa-ce8a-481f-9377-6b4f305b17d8",
   "metadata": {},
   "outputs": [
    {
     "name": "stdout",
     "output_type": "stream",
     "text": [
      "Nhập điểm môn toán: \n"
     ]
    },
    {
     "name": "stdin",
     "output_type": "stream",
     "text": [
      " 9\n"
     ]
    },
    {
     "name": "stdout",
     "output_type": "stream",
     "text": [
      "Nhập điểm môn Lý: \n"
     ]
    },
    {
     "name": "stdin",
     "output_type": "stream",
     "text": [
      " 10\n"
     ]
    },
    {
     "name": "stdout",
     "output_type": "stream",
     "text": [
      "Nhập điểm môn Hóa: \n"
     ]
    },
    {
     "name": "stdin",
     "output_type": "stream",
     "text": [
      " 9\n"
     ]
    },
    {
     "name": "stdout",
     "output_type": "stream",
     "text": [
      "Nhập điểm môn Văn: \n"
     ]
    },
    {
     "name": "stdin",
     "output_type": "stream",
     "text": [
      " 10\n"
     ]
    },
    {
     "name": "stdout",
     "output_type": "stream",
     "text": [
      "Nhập điểm môn Anh: \n"
     ]
    },
    {
     "name": "stdin",
     "output_type": "stream",
     "text": [
      " 9\n"
     ]
    },
    {
     "name": "stdout",
     "output_type": "stream",
     "text": [
      "Điểm trung bình là:  9.4\n",
      "Học lực giỏi\n"
     ]
    }
   ],
   "source": [
    "trungbinh = nhap_diem()\n",
    "in_ket_qua(trungbinh)"
   ]
  },
  {
   "cell_type": "markdown",
   "id": "afc22b84-803d-4b10-920c-d516c38b3281",
   "metadata": {},
   "source": [
    "cau 4\n"
   ]
  },
  {
   "cell_type": "code",
   "execution_count": 13,
   "id": "6f3c66b9-bded-4492-8a3e-0a65fe3afa64",
   "metadata": {},
   "outputs": [
    {
     "name": "stdout",
     "output_type": "stream",
     "text": [
      "Bài tập Python dùng hàm tìm số lớn nhất trong ba số\n",
      "Nhập vào số thứ nhất: \n"
     ]
    },
    {
     "name": "stdin",
     "output_type": "stream",
     "text": [
      " 99998887766\n"
     ]
    },
    {
     "name": "stdout",
     "output_type": "stream",
     "text": [
      "Nhập vào số thứ hai: \n"
     ]
    },
    {
     "name": "stdin",
     "output_type": "stream",
     "text": [
      " 789854\n"
     ]
    },
    {
     "name": "stdout",
     "output_type": "stream",
     "text": [
      "Nhập vào số thứ ba: \n"
     ]
    },
    {
     "name": "stdin",
     "output_type": "stream",
     "text": [
      " 9349034930490392002394023\n"
     ]
    },
    {
     "name": "stdout",
     "output_type": "stream",
     "text": [
      "Số lớn nhất trong ba số  99998887766.0   789854.0   9.349034930490392e+24  là  9.349034930490392e+24\n"
     ]
    }
   ],
   "source": [
    "print(\"Bài tập Python dùng hàm tìm số lớn nhất trong ba số\")\n",
    " \n",
    "# Hàm tìm số lớn nhất\n",
    "def find_max(a, b, c):\n",
    "    max = a\n",
    "    if max < b: max = b\n",
    "    if max < c: max = c\n",
    "    return max\n",
    " \n",
    " \n",
    "# Chương trình chính\n",
    "print(\"Nhập vào số thứ nhất: \")\n",
    "a = float(input())\n",
    " \n",
    "print(\"Nhập vào số thứ hai: \")\n",
    "b = float(input())\n",
    " \n",
    "print(\"Nhập vào số thứ ba: \")\n",
    "c = float(input())\n",
    " \n",
    " \n",
    "print(\"Số lớn nhất trong ba số \", a, \" \", b, \" \", c, \" là \", find_max(a, b, c))"
   ]
  },
  {
   "cell_type": "markdown",
   "id": "304104cc-b155-426b-93b9-292d25a5d750",
   "metadata": {},
   "source": [
    "## Đề bài:\n",
    "Tạo một chương trình yêu cầu người dùng nhập tên và tuổi của họ. Gửi lại họ một tin nhắn cho biết năm họ sẽ tròn 100 tuổi."
   ]
  },
  {
   "cell_type": "code",
   "execution_count": 1,
   "id": "94515372-ae94-43f1-b229-aef0cfa2c237",
   "metadata": {},
   "outputs": [
    {
     "name": "stdin",
     "output_type": "stream",
     "text": [
      "What is your name:  Mike\n",
      "How old are you:  27\n"
     ]
    },
    {
     "name": "stdout",
     "output_type": "stream",
     "text": [
      "Mike will be 100 years old in the year 2093\n"
     ]
    }
   ],
   "source": [
    "name = input(\"What is your name: \")\n",
    "age = int(input(\"How old are you: \"))\n",
    "year = str((2020 - age) + 100)\n",
    "print(name + \" will be 100 years old in the year \" + year)"
   ]
  },
  {
   "cell_type": "code",
   "execution_count": null,
   "id": "548b1169-c9a5-4f4e-a05d-0328a504fd8e",
   "metadata": {},
   "outputs": [],
   "source": []
  }
 ],
 "metadata": {
  "kernelspec": {
   "display_name": "Python 3",
   "language": "python",
   "name": "python3"
  },
  "language_info": {
   "codemirror_mode": {
    "name": "ipython",
    "version": 3
   },
   "file_extension": ".py",
   "mimetype": "text/x-python",
   "name": "python",
   "nbconvert_exporter": "python",
   "pygments_lexer": "ipython3",
   "version": "3.7.11"
  }
 },
 "nbformat": 4,
 "nbformat_minor": 5
}
