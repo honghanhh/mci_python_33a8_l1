{
 "cells": [
  {
   "cell_type": "code",
   "execution_count": 1,
   "id": "1dc62f3d-26e6-4cf0-bff1-c4f137297bf8",
   "metadata": {},
   "outputs": [
    {
     "data": {
      "text/plain": [
       "2"
      ]
     },
     "execution_count": 1,
     "metadata": {},
     "output_type": "execute_result"
    }
   ],
   "source": [
    "1 + 1"
   ]
  },
  {
   "cell_type": "code",
   "execution_count": 2,
   "id": "0a940b24-4806-4d64-9f2d-dd0307a262a0",
   "metadata": {},
   "outputs": [
    {
     "data": {
      "text/plain": [
       "2"
      ]
     },
     "execution_count": 2,
     "metadata": {},
     "output_type": "execute_result"
    }
   ],
   "source": [
    "1*2"
   ]
  },
  {
   "cell_type": "markdown",
   "id": "cab59c81-00a2-42ab-ac56-37210fe8fa04",
   "metadata": {},
   "source": [
    "2 types\n",
    "+ Cell Code\n",
    "+ Cell Markdown\n",
    "\n",
    "Shortcuts:\n",
    "+ Run: Shift + Enter + Windows\n",
    "+ Code --> Markdown: Esc + M\n",
    "+ Ma"
   ]
  },
  {
   "cell_type": "code",
   "execution_count": null,
   "id": "184f8eb2-8b13-4465-9508-a017416cf64b",
   "metadata": {},
   "outputs": [],
   "source": []
  }
 ],
 "metadata": {
  "kernelspec": {
   "display_name": "Python 3",
   "language": "python",
   "name": "python3"
  },
  "language_info": {
   "codemirror_mode": {
    "name": "ipython",
    "version": 3
   },
   "file_extension": ".py",
   "mimetype": "text/x-python",
   "name": "python",
   "nbconvert_exporter": "python",
   "pygments_lexer": "ipython3",
   "version": "3.7.11"
  }
 },
 "nbformat": 4,
 "nbformat_minor": 5
}
