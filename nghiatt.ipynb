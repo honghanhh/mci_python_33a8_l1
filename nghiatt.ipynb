{
 "cells": [
  {
   "cell_type": "code",
   "execution_count": 1,
   "id": "920875f4-1eb2-462a-bfa9-0e67f263f5fb",
   "metadata": {},
   "outputs": [
    {
     "name": "stdout",
     "output_type": "stream",
     "text": [
      "Hello world\n"
     ]
    }
   ],
   "source": [
    "print(\"Hello world\")"
   ]
  },
  {
   "cell_type": "markdown",
   "id": "89e82c29-1044-48be-916e-432d1bad7a95",
   "metadata": {},
   "source": [
    "2 types:\n",
    "- Cell Code\n",
    "- Cell Markdown"
   ]
  },
  {
   "cell_type": "markdown",
   "id": "54c91eda-bfc3-459c-896b-440800dd711c",
   "metadata": {},
   "source": [
    "Shortcuts:\n",
    "- Run: Shirft + enter\n",
    "- Convert cell code to cell mardown: Esc + m\n",
    "- Convert cell markdown to cell code: Esc + y"
   ]
  },
  {
   "cell_type": "code",
   "execution_count": null,
   "id": "f418df14-d9f2-46ee-89cc-ee6a14b858d3",
   "metadata": {},
   "outputs": [],
   "source": []
  }
 ],
 "metadata": {
  "kernelspec": {
   "display_name": "Python 3 (ipykernel)",
   "language": "python",
   "name": "python3"
  },
  "language_info": {
   "codemirror_mode": {
    "name": "ipython",
    "version": 3
   },
   "file_extension": ".py",
   "mimetype": "text/x-python",
   "name": "python",
   "nbconvert_exporter": "python",
   "pygments_lexer": "ipython3",
   "version": "3.8.11"
  }
 },
 "nbformat": 4,
 "nbformat_minor": 5
}
